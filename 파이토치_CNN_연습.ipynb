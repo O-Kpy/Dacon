{
  "nbformat": 4,
  "nbformat_minor": 0,
  "metadata": {
    "colab": {
      "name": "파이토치 CNN 연습.ipynb",
      "provenance": [],
      "authorship_tag": "ABX9TyNW4/D1thDuky/SmoWDLIXc",
      "include_colab_link": true
    },
    "kernelspec": {
      "name": "python3",
      "display_name": "Python 3"
    },
    "language_info": {
      "name": "python"
    }
  },
  "cells": [
    {
      "cell_type": "markdown",
      "metadata": {
        "id": "view-in-github",
        "colab_type": "text"
      },
      "source": [
        "<a href=\"https://colab.research.google.com/github/O-Kpy/Dacon/blob/main/%ED%8C%8C%EC%9D%B4%ED%86%A0%EC%B9%98_CNN_%EC%97%B0%EC%8A%B5.ipynb\" target=\"_parent\"><img src=\"https://colab.research.google.com/assets/colab-badge.svg\" alt=\"Open In Colab\"/></a>"
      ]
    },
    {
      "cell_type": "code",
      "metadata": {
        "id": "NEJBGCEdf3Dv"
      },
      "source": [
        "import torch\n",
        "import torchvision\n",
        "import torchvision.transforms as tf  # 학습할때 필요한 토치들을 여러형태로 바꿔줄수있다. \n",
        "from torch.utils.data import DataLoader, Dataset  # 데이터 배치사이즈 조정\n",
        "import numpy as np\n",
        "import matplotlib.pyplot as plt\n",
        "import cv2"
      ],
      "execution_count": 16,
      "outputs": []
    },
    {
      "cell_type": "code",
      "metadata": {
        "id": "pC7eUHOQxXyM"
      },
      "source": [
        "device = 'cuda:0' if torch.cuda.is_available() else 'cpu'"
      ],
      "execution_count": 69,
      "outputs": []
    },
    {
      "cell_type": "code",
      "metadata": {
        "id": "YNPy5dIygrK0"
      },
      "source": [
        "transf = tf.Compose([\n",
        "                     tf.ToTensor(),\n",
        "                     tf.Normalize((0.5, 0.5, 0.5), (0.5, 0.5, 0.5))\n",
        "])"
      ],
      "execution_count": 76,
      "outputs": []
    },
    {
      "cell_type": "code",
      "metadata": {
        "colab": {
          "base_uri": "https://localhost:8080/"
        },
        "id": "EPKZttPigVkj",
        "outputId": "2d9171a3-9b44-4410-8e98-b4332d9a0f1a"
      },
      "source": [
        "train_set = torchvision.datasets.CIFAR10(root='./data', train=True, download=True, transform=transf)\n",
        "test_set = torchvision.datasets.CIFAR10(root='./data', train=False, download=True, transform=transf)"
      ],
      "execution_count": 77,
      "outputs": [
        {
          "output_type": "stream",
          "text": [
            "Files already downloaded and verified\n",
            "Files already downloaded and verified\n"
          ],
          "name": "stdout"
        }
      ]
    },
    {
      "cell_type": "code",
      "metadata": {
        "colab": {
          "base_uri": "https://localhost:8080/"
        },
        "id": "Zl4qBlkmhPEC",
        "outputId": "5075e27b-b88d-415b-ff55-d326dcadc3ee"
      },
      "source": [
        "train_set[0][0].size()  # 채널 3개 8*8사이즈"
      ],
      "execution_count": 78,
      "outputs": [
        {
          "output_type": "execute_result",
          "data": {
            "text/plain": [
              "torch.Size([3, 32, 32])"
            ]
          },
          "metadata": {
            "tags": []
          },
          "execution_count": 78
        }
      ]
    },
    {
      "cell_type": "code",
      "metadata": {
        "id": "rPRzt3T8hV_r"
      },
      "source": [
        "train_dl = DataLoader(train_set, batch_size=8, shuffle=True, num_workers=2)\n",
        "test_dl = DataLoader(test_set, batch_size=8, shuffle=True, num_workers=2)\n",
        "\n",
        "classes = ('plane', 'car', 'bird', 'cat', 'deer', 'dog', 'frog', 'horse', 'ship', 'truck')"
      ],
      "execution_count": 79,
      "outputs": []
    },
    {
      "cell_type": "code",
      "metadata": {
        "colab": {
          "base_uri": "https://localhost:8080/"
        },
        "id": "-bhOf0QXhtM9",
        "outputId": "415592a5-8cab-4873-b63a-75eb471e99f0"
      },
      "source": [
        "for x,y in train_dl:\n",
        "  print(x.shape)\n",
        "  print(y.shape)\n",
        "  break \n",
        "# 배치사이즈 8, 채널 3개, 8*8크기의 이미지"
      ],
      "execution_count": 80,
      "outputs": [
        {
          "output_type": "stream",
          "text": [
            "torch.Size([8, 3, 32, 32])\n",
            "torch.Size([8])\n"
          ],
          "name": "stdout"
        }
      ]
    },
    {
      "cell_type": "code",
      "metadata": {
        "colab": {
          "base_uri": "https://localhost:8080/",
          "height": 322
        },
        "id": "bGa5vshVoqPZ",
        "outputId": "27edcd7a-7ce8-4535-afb7-e993ce08b204"
      },
      "source": [
        "def custom_imshow(img):\n",
        "    img = img.numpy()\n",
        "    plt.imshow(np.transpose(img, (1, 2, 0)))  # 이미지크기 -> 채널 순으로 바꾸기\n",
        "    plt.show()\n",
        "\n",
        " \n",
        "\n",
        "def process():\n",
        "    for batch_idx, (inputs, targets) in enumerate(train_dl):\n",
        "        custom_imshow(inputs[0])\n",
        "        break\n",
        "\n",
        "process()"
      ],
      "execution_count": 50,
      "outputs": [
        {
          "output_type": "stream",
          "text": [
            "/usr/local/lib/python3.7/dist-packages/torch/utils/data/dataloader.py:477: UserWarning: This DataLoader will create 4 worker processes in total. Our suggested max number of worker in current system is 2, which is smaller than what this DataLoader is going to create. Please be aware that excessive worker creation might get DataLoader running slow or even freeze, lower the worker number to avoid potential slowness/freeze if necessary.\n",
            "  cpuset_checked))\n"
          ],
          "name": "stderr"
        },
        {
          "output_type": "display_data",
          "data": {
            "image/png": "[encoded data removed]",
            "text/plain": [
              "<Figure size 432x288 with 1 Axes>"
            ]
          },
          "metadata": {
            "tags": [],
            "needs_background": "light"
          }
        }
      ]
    },
    {
      "cell_type": "code",
      "metadata": {
        "colab": {
          "base_uri": "https://localhost:8080/"
        },
        "id": "Ex3zu-5vshAL",
        "outputId": "f88ab3af-4cb8-4c2e-86a0-ed929ff14968"
      },
      "source": [
        "import torch.nn as nn\n",
        "import torch.nn.functional as F\n",
        "\n",
        "class Net(nn.Module):\n",
        "  def __init__(self):\n",
        "    super(Net, self).__init__()\n",
        "    self.conv1 = nn.Conv2d(3,6,5)\n",
        "    self.pool = nn.MaxPool2d(2,2)\n",
        "    self.conv2 = nn.Conv2d(6,16,5)\n",
        "    self.fc1 = nn.Linear(16*5*5, 120)  \n",
        "    self.fc2 = nn.Linear(120, 84)\n",
        "    self.fc3 = nn.Linear(84, 10)  ## classes가 10개이기때문\n",
        "\n",
        "  def forward(self, x):\n",
        "    x = self.pool(F.relu(self.conv1(x)))\n",
        "    x = self.pool(F.relu(self.conv2(x)))\n",
        "    x = x.view(-1, 16*5*5)\n",
        "    x = F.relu(self.fc1(x))\n",
        "    x = F.relu(self.fc2(x))\n",
        "    x = self.fc3(x)\n",
        "    return x\n",
        "\n",
        "net = Net()\n",
        "print(net)"
      ],
      "execution_count": 83,
      "outputs": [
        {
          "output_type": "stream",
          "text": [
            "Net(\n",
            "  (conv1): Conv2d(3, 6, kernel_size=(5, 5), stride=(1, 1))\n",
            "  (pool): MaxPool2d(kernel_size=2, stride=2, padding=0, dilation=1, ceil_mode=False)\n",
            "  (conv2): Conv2d(6, 16, kernel_size=(5, 5), stride=(1, 1))\n",
            "  (fc1): Linear(in_features=400, out_features=120, bias=True)\n",
            "  (fc2): Linear(in_features=120, out_features=84, bias=True)\n",
            "  (fc3): Linear(in_features=84, out_features=10, bias=True)\n",
            ")\n"
          ],
          "name": "stdout"
        }
      ]
    },
    {
      "cell_type": "code",
      "metadata": {
        "id": "xC3a87RGt8F0"
      },
      "source": [
        "import torch.optim as optim\n",
        "criterion = nn.CrossEntropyLoss()\n",
        "optimizer = optim.SGD(net.parameters(), lr=0.001, momentum=0.9)  # momentum ==> 속도(?)"
      ],
      "execution_count": 84,
      "outputs": []
    },
    {
      "cell_type": "code",
      "metadata": {
        "colab": {
          "base_uri": "https://localhost:8080/"
        },
        "id": "32EL4MZ-uc51",
        "outputId": "33644015-53f0-4444-d3bd-c688dbf295c8"
      },
      "source": [
        "for epoch in range(1):\n",
        "  running_loss = 0.0\n",
        "  net.train()\n",
        "  for i, data in enumerate(train_dl, 0):\n",
        "    input, labels = data\n",
        "    optimizer.zero_grad()\n",
        "    outputs = net(input)\n",
        "    loss = criterion(outputs, labels)\n",
        "    loss.backward()\n",
        "    optimizer.step()\n",
        "\n",
        "    running_loss += loss.item()\n",
        "    if i % 2000 == 1999:\n",
        "      print('[%d, %5d] loss:%.3f' %(epoch+1, i+1, running_loss / 2000))\n",
        "      running_loss=0.0\n",
        "  with torch.no_grad():\n",
        "    net.eval()\n",
        "    correct = 0\n",
        "    total = 0\n",
        "    for data in test_dl:\n",
        "      images, labels = data\n",
        "      outputs = net(images)\n",
        "      _, predicted = torch.max(outputs.data, 1)  # == argmax() 가장 큰 자리값을 구하겠다.\n",
        "      total += labels.size(0)\n",
        "      correct += (predicted == labels).sum().item()\n",
        "  print('Val Accuracy:%d%%' %(100*correct/total))\n",
        "print('Finisihed')"
      ],
      "execution_count": 92,
      "outputs": [
        {
          "output_type": "stream",
          "text": [
            "[1,  2000] loss:1.291\n",
            "[1,  4000] loss:1.253\n",
            "[1,  6000] loss:1.221\n",
            "Val Accuracy:56%\n",
            "Finisihed\n"
          ],
          "name": "stdout"
        }
      ]
    },
    {
      "cell_type": "code",
      "metadata": {
        "colab": {
          "base_uri": "https://localhost:8080/"
        },
        "id": "F6-1Ghau68AR",
        "outputId": "0ecacd9c-ac69-4ccd-bbed-3789e22e21af"
      },
      "source": [
        "with torch.no_grad():\n",
        "  net.eval()\n",
        "  correct = 0\n",
        "  total = 0\n",
        "  for data in test_dl:\n",
        "    images, labels = data\n",
        "    outputs = net(images)\n",
        "    _, predicted = torch.max(outputs.data, 1)  # == argmax() 가장 큰 자리값을 구하겠다.\n",
        "    total += labels.size(0)\n",
        "    correct += (predicted == labels).sum().item()\n",
        "print('Val Accuracy:%d%%' %(100*correct/total))\n",
        "print('Finisihed')"
      ],
      "execution_count": 93,
      "outputs": [
        {
          "output_type": "stream",
          "text": [
            "Val Accuracy:56%\n",
            "Finisihed\n"
          ],
          "name": "stdout"
        }
      ]
    },
    {
      "cell_type": "code",
      "metadata": {
        "id": "y5mJyG9C0suP"
      },
      "source": [
        "# 저장\n",
        "PATH = './cifar_net.pth'\n",
        "torch.save(net.state_dict(), PATH)\n",
        "\n",
        "# 불러오기\n",
        "net = Net()\n",
        "net.load_state_dict(torch.load(PATH))"
      ],
      "execution_count": null,
      "outputs": []
    },
    {
      "cell_type": "code",
      "metadata": {
        "id": "tIinZNph04_X"
      },
      "source": [
        ""
      ],
      "execution_count": null,
      "outputs": []
    },
    {
      "cell_type": "code",
      "metadata": {
        "id": "OYojfeE1lNEI"
      },
      "source": [
        "class MyDataSet(torch.utils.data.Dataset):\n",
        "    def __init__(self, images, labels, transforms=None):\n",
        "        self.X = images\n",
        "        self.y = labels\n",
        "        self.transforms = transforms\n",
        "        self.len = len(labels)\n",
        "                    \n",
        "    def __len__(self):\n",
        "        return len\n",
        "    \n",
        "    def __getitem__(self, index):  # 데이터를 튜플형태로 내보낸다(getitem)\n",
        "        data = self.X[index], self.y[index] # gets the row\n",
        "        # reshape the row into the image size \n",
        "        # (numpy arrays have the color channels dim last)\n",
        "        data = np.array(data).astype(np.uint8).reshape(28, 28, 1) \n",
        "        \n",
        "        # perform transforms if there are any\n",
        "        if self.transforms:\n",
        "            data = self.transforms(data)\n",
        "        \n",
        "        # if !test_set return the label as well, otherwise don't\n",
        "        if self.y is not None: # train/val\n",
        "            return (data, self.y[i])\n",
        "        else: # test\n",
        "            return data\n",
        "\n",
        "class ToTensor:  ## data 받기\n",
        "  def __call__(self, data):\n",
        "    x_data, y_data = data\n",
        "    x_data = torch.FloatTensor(x_data)  # x_data 변환\n",
        "    x_data = x.data.permute(2,0,1)  # x_data 채널수와 이미지 사이즈 순서 변환\n",
        "    return x_data, torch.LongTensor(y_data)  # y_data LongTensor로 변환"
      ],
      "execution_count": null,
      "outputs": []
    }
  ]
}