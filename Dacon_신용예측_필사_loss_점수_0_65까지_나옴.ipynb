{
  "nbformat": 4,
  "nbformat_minor": 0,
  "metadata": {
    "colab": {
      "name": "Dacon 신용예측 필사 loss 점수 0.65까지 나옴.ipynb",
      "provenance": [],
      "collapsed_sections": [],
      "mount_file_id": "1iaSmTvtpzSYE7pOw8LQQFosfNE6KSGY-",
      "authorship_tag": "ABX9TyOI9w3rqFpgTrSObqPBFWqB",
      "include_colab_link": true
    },
    "kernelspec": {
      "name": "python3",
      "display_name": "Python 3"
    },
    "language_info": {
      "name": "python"
    }
  },
  "cells": [
    {
      "cell_type": "markdown",
      "metadata": {
        "id": "view-in-github",
        "colab_type": "text"
      },
      "source": [
        "<a href=\"https://colab.research.google.com/github/O-Kpy/Dacon/blob/main/Dacon_%EC%8B%A0%EC%9A%A9%EC%98%88%EC%B8%A1_%ED%95%84%EC%82%AC_loss_%EC%A0%90%EC%88%98_0_65%EA%B9%8C%EC%A7%80_%EB%82%98%EC%98%B4.ipynb\" target=\"_parent\"><img src=\"https://colab.research.google.com/assets/colab-badge.svg\" alt=\"Open In Colab\"/></a>"
      ]
    },
    {
      "cell_type": "code",
      "metadata": {
        "colab": {
          "base_uri": "https://localhost:8080/",
          "height": 17
        },
        "id": "FO3L5BgRLNFO",
        "outputId": "e98b199a-b31e-45f2-9676-8a24ebfc4114"
      },
      "source": [
        "import pandas as pd\n",
        "import numpy as np\n",
        "\n",
        "from catboost import CatBoostClassifier\n",
        "from sklearn.model_selection import StratifiedKFold, KFold\n",
        "from sklearn.metrics import log_loss\n",
        "from tensorflow.keras.utils import to_categorical\n",
        "\n",
        "import matplotlib.pyplot as plt\n",
        "import seaborn as sns\n",
        "\n",
        "import warnings\n",
        "warnings.filterwarnings('ignore')\n",
        "from IPython.core.display import display, HTML\n",
        "display(HTML(\"<style>.container { width: 100% !important; }</style>\"))"
      ],
      "execution_count": 19,
      "outputs": [
        {
          "output_type": "display_data",
          "data": {
            "text/html": [
              "<style>.container { width: 100% !important; }</style>"
            ],
            "text/plain": [
              "<IPython.core.display.HTML object>"
            ]
          },
          "metadata": {
            "tags": []
          }
        }
      ]
    },
    {
      "cell_type": "code",
      "metadata": {
        "colab": {
          "base_uri": "https://localhost:8080/"
        },
        "id": "xEPi0L0BLBWp",
        "outputId": "15d6c3bd-2123-46f6-fbdd-83cbc04a3d60"
      },
      "source": [
        "train = pd.read_csv('/content/drive/MyDrive/dataset/Dacon/대회/신용카드 사용자 연체 예측 AI 경진대회/train.csv')\n",
        "test = pd.read_csv('/content/drive/MyDrive/dataset/Dacon/대회/신용카드 사용자 연체 예측 AI 경진대회/test.csv')\n",
        "submit = pd.read_csv('/content/drive/MyDrive/dataset/Dacon/대회/신용카드 사용자 연체 예측 AI 경진대회/sample_submission.csv')\n",
        "test_index = test['index']\n",
        "train = train.drop(['index'], axis=1)\n",
        "test = test.drop(['index'], axis=1)\n",
        "print(f'train shape:{train.shape}')\n",
        "print(f'test shape:{test.shape}')\n"
      ],
      "execution_count": 20,
      "outputs": [
        {
          "output_type": "stream",
          "text": [
            "train shape:(26457, 19)\n",
            "test shape:(10000, 18)\n"
          ],
          "name": "stdout"
        }
      ]
    },
    {
      "cell_type": "code",
      "metadata": {
        "colab": {
          "base_uri": "https://localhost:8080/"
        },
        "id": "PJusRBg_N11H",
        "outputId": "035f0779-84c0-44d1-d6ad-5ad0812409e0"
      },
      "source": [
        "!pip install catboost"
      ],
      "execution_count": 3,
      "outputs": [
        {
          "output_type": "stream",
          "text": [
            "Requirement already satisfied: catboost in /usr/local/lib/python3.7/dist-packages (0.25.1)\n",
            "Requirement already satisfied: scipy in /usr/local/lib/python3.7/dist-packages (from catboost) (1.4.1)\n",
            "Requirement already satisfied: plotly in /usr/local/lib/python3.7/dist-packages (from catboost) (4.4.1)\n",
            "Requirement already satisfied: six in /usr/local/lib/python3.7/dist-packages (from catboost) (1.15.0)\n",
            "Requirement already satisfied: numpy>=1.16.0 in /usr/local/lib/python3.7/dist-packages (from catboost) (1.19.5)\n",
            "Requirement already satisfied: graphviz in /usr/local/lib/python3.7/dist-packages (from catboost) (0.10.1)\n",
            "Requirement already satisfied: matplotlib in /usr/local/lib/python3.7/dist-packages (from catboost) (3.2.2)\n",
            "Requirement already satisfied: pandas>=0.24.0 in /usr/local/lib/python3.7/dist-packages (from catboost) (1.1.5)\n",
            "Requirement already satisfied: retrying>=1.3.3 in /usr/local/lib/python3.7/dist-packages (from plotly->catboost) (1.3.3)\n",
            "Requirement already satisfied: cycler>=0.10 in /usr/local/lib/python3.7/dist-packages (from matplotlib->catboost) (0.10.0)\n",
            "Requirement already satisfied: python-dateutil>=2.1 in /usr/local/lib/python3.7/dist-packages (from matplotlib->catboost) (2.8.1)\n",
            "Requirement already satisfied: kiwisolver>=1.0.1 in /usr/local/lib/python3.7/dist-packages (from matplotlib->catboost) (1.3.1)\n",
            "Requirement already satisfied: pyparsing!=2.0.4,!=2.1.2,!=2.1.6,>=2.0.1 in /usr/local/lib/python3.7/dist-packages (from matplotlib->catboost) (2.4.7)\n",
            "Requirement already satisfied: pytz>=2017.2 in /usr/local/lib/python3.7/dist-packages (from pandas>=0.24.0->catboost) (2018.9)\n"
          ],
          "name": "stdout"
        }
      ]
    },
    {
      "cell_type": "code",
      "metadata": {
        "id": "nIQuVOdAOaKy"
      },
      "source": [
        "def days_to_year(x):\n",
        "  return (x * -1) / 365\n",
        "\n",
        "def minus(x):\n",
        "  return x * -1"
      ],
      "execution_count": 21,
      "outputs": []
    },
    {
      "cell_type": "markdown",
      "metadata": {
        "id": "XLNDToZMRYBZ"
      },
      "source": [
        "# 이상치 제거"
      ]
    },
    {
      "cell_type": "code",
      "metadata": {
        "colab": {
          "base_uri": "https://localhost:8080/"
        },
        "id": "b4sLp_3AO1o6",
        "outputId": "223e8723-39d5-47fe-830e-144993f6b2a2"
      },
      "source": [
        "def remove_outlier(train, column):\n",
        "    \n",
        "    df = train[column]\n",
        "    \n",
        "    # 1분위수\n",
        "    quan_25 = np.percentile(df.values, 25)\n",
        "    \n",
        "    # 3분위수\n",
        "    quan_75 = np.percentile(df.values, 75)\n",
        "    \n",
        "    iqr = quan_75 - quan_25\n",
        "    \n",
        "    lowest = quan_25 - iqr * 5\n",
        "    highest = quan_75 + iqr * 5\n",
        "    outlier_index = df[(df < lowest) | (df > highest)].index\n",
        "    print('outlier의 수 : ' , len(outlier_index))\n",
        "    print(df.iloc[outlier_index])\n",
        "    train.drop(outlier_index, axis = 0, inplace = True)\n",
        "    \n",
        "    return train\n",
        "\n",
        "candidate = ['child_num']\n",
        "for cand in candidate:  \n",
        "    train = remove_outlier(train,cand)\n",
        "\n",
        "train.reset_index(drop = True,inplace = True)\n",
        "len(train)"
      ],
      "execution_count": 22,
      "outputs": [
        {
          "output_type": "stream",
          "text": [
            "outlier의 수 :  6\n",
            "8462     14\n",
            "9021     14\n",
            "10731    19\n",
            "25313     7\n",
            "25390    14\n",
            "25638     7\n",
            "Name: child_num, dtype: int64\n"
          ],
          "name": "stdout"
        },
        {
          "output_type": "execute_result",
          "data": {
            "text/plain": [
              "26451"
            ]
          },
          "metadata": {
            "tags": []
          },
          "execution_count": 22
        }
      ]
    },
    {
      "cell_type": "markdown",
      "metadata": {
        "id": "F7_ZF6FNRgh8"
      },
      "source": [
        "# 중복방지 이건 나중에 따로"
      ]
    },
    {
      "cell_type": "code",
      "metadata": {
        "id": "6AdVkyGyRVyw"
      },
      "source": [
        "def add_var(data):\n",
        "    \n",
        "    # 개개인을 구분할 수 있는 변수들을 묶어서 생성\n",
        "    data['personal_id'] = data['gender'] + \"_\" + data['DAYS_BIRTH'].astype(str) + \"_\" + data['income_total'].astype(str) + \"_\" + data['income_type'].astype(str)\n",
        "    \n",
        "    # 카드를 생성한 기간도 같은 경우가 있어서 begin을 추가하여 하나의 변수를 더 생성\n",
        "    data['personal_begin_id'] = data['gender'] + \"_\" + data['DAYS_BIRTH'].astype(str) + \"_\" + data['income_total'].astype(str) + \"_\" + data['income_type'].astype(str) + \"_\" + data['begin_month'].astype(str)\n",
        "    \n",
        "    # 그외의 변수들을 조합하여 하나의 변수로 추가 생성\n",
        "    data['g_r_c'] = data['gender'] + \"_\" + data['reality'] + \"_\" + data['car'] \n",
        "    data['p_w_e'] = data['phone'].astype(str) + \"_\" + data['work_phone'].astype(str) + \"_\" + data['email'].astype(str) \n",
        "    \n",
        "    return data\n",
        "\n",
        "train = add_var(train)\n",
        "test = add_var(test)"
      ],
      "execution_count": 23,
      "outputs": []
    },
    {
      "cell_type": "markdown",
      "metadata": {
        "id": "5POZmzHRRj-M"
      },
      "source": [
        "# 숫자형 변수 전처리 및 변수 생성"
      ]
    },
    {
      "cell_type": "code",
      "metadata": {
        "id": "codaJ40DRfVc"
      },
      "source": [
        "def numeric_process(data):\n",
        "    \n",
        "    # income_total 변수 전처리\n",
        "    # 만단위로 생성\n",
        "    data['income_total'] = data['income_total']/10000\n",
        "    # 편차 제곱 변수 생성\n",
        "    data['income_total_dev'] = (data['income_total'] - data['income_total'].mean())**2\n",
        "    # 로그 변환\n",
        "    data['income_total_log'] = data['income_total'].apply(np.log1p)\n",
        "\n",
        "    # DAYS_EMPLOYED 변수 전처리\n",
        "    # 0 이상인 경우 0으로 모두 변환\n",
        "    data.loc[data['DAYS_EMPLOYED'] >= 0,'DAYS_EMPLOYED']=0\n",
        "    # day를 year로 변환\n",
        "    data['DAYS_EMPLOYED'] = data['DAYS_EMPLOYED'].apply(days_to_year) \n",
        "    # 로그 변환\n",
        "    data['DAYS_EMPLOYED_log'] = data['DAYS_EMPLOYED'].apply(np.log1p)\n",
        "\n",
        "    # begin_month 변수 전처리\n",
        "    # 마이너스 변환\n",
        "    data['begin_month'] = data['begin_month'].apply(minus)\n",
        "    \n",
        "    # DAYS_BIRTH 변수 전처리\n",
        "    # day를 year로 변환\n",
        "    data['DAYS_BIRTH'] = data['DAYS_BIRTH'].apply(days_to_year)\n",
        "\n",
        "    #  DAYS_BIRTH, DAYS_EMPLOYED, income_total변수를 조합하여 RATIO 변수 생성\n",
        "    data['EMPLOYED_BIRTH_RATIO'] = data['DAYS_EMPLOYED']/data['DAYS_BIRTH']\n",
        "    data['INCOME_EMPLOYED_RATIO'] = data['income_total']/data['DAYS_EMPLOYED']\n",
        "    data['INCOME_BIRTH_RATIO'] = data['income_total']/data['DAYS_BIRTH']\n",
        "    \n",
        "    # 가족수 - 자식수\n",
        "    data['diff_fam_child'] = data['family_size'] - data['child_num']\n",
        "    # chid_num과 family_size는 다음과 같이 최대 2와 5가 되도록 전처리\n",
        "    data.loc[data['child_num'] >= 2,'child_num'] = 2\n",
        "    data.loc[data['family_size'] >= 5,'child_num'] = 5\n",
        "    # 가족수와 자녀수 sum 변수 추가\n",
        "    data['FAM_CHILD_SUM'] = data[['child_num', 'family_size']].sum(axis=1)\n",
        "    \n",
        "    # income을 가족 수 및 자식 수로 나눈 비율\n",
        "    data['INCOME_FAM_RATIO'] = data['income_total']/data['family_size']\n",
        "    data['INCOME_child_num_RATIO'] = data['income_total']/data['child_num']\n",
        "    \n",
        "    # 일을하게 된 시점 변수 추가\n",
        "    data['BIRTH_MINUS_EMPLOYED'] = data['DAYS_BIRTH'] - data['DAYS_EMPLOYED']\n",
        "    # income total 변수에 before_EMPLOYED로 나눈 변수 추가\n",
        "    data['INCOME_BIRTH_MINUS_EMPLOYED_RATIO'] = data['income_total']/data['BIRTH_MINUS_EMPLOYED']\n",
        "    \n",
        "    return data \n"
      ],
      "execution_count": 24,
      "outputs": []
    },
    {
      "cell_type": "code",
      "metadata": {
        "id": "WCzNuO8XTs6j"
      },
      "source": [
        "train = numeric_process(train)\n",
        "test = numeric_process(test)"
      ],
      "execution_count": 26,
      "outputs": []
    },
    {
      "cell_type": "code",
      "metadata": {
        "colab": {
          "base_uri": "https://localhost:8080/"
        },
        "id": "Acjg5UuTTwWb",
        "outputId": "0d0c3f14-05cd-4b28-c8c9-dd0992c0fb55"
      },
      "source": [
        "# occyp_type 변수 전처리\n",
        "\n",
        "def occype_process(data):\n",
        "\n",
        "  data['occyp_type'] = data['occyp_type'].fillna('NAN')\n",
        "  # 경력이 없고 직업군이 none인 사람은 no_work로 대체\n",
        "  data.loc[(data['DAYS_EMPLOYED'] == 0) & (data['occyp_type'] == 'NAN'), 'occyp_type'] = 'no_work'\n",
        "  print(data['occyp_type'].value_counts(), '\\n\\n')\n",
        "\n",
        "  return data\n",
        "\n",
        "train = occype_process(train)\n",
        "test = occype_process(test)"
      ],
      "execution_count": 27,
      "outputs": [
        {
          "output_type": "stream",
          "text": [
            "Laborers                 4512\n",
            "no_work                  4438\n",
            "NAN                      3733\n",
            "Core staff               2646\n",
            "Sales staff              2539\n",
            "Managers                 2167\n",
            "Drivers                  1572\n",
            "High skill tech staff    1040\n",
            "Accountants               902\n",
            "Medicine staff            864\n",
            "Cooking staff             457\n",
            "Security staff            424\n",
            "Cleaning staff            401\n",
            "Private service staff     243\n",
            "Low-skill Laborers        127\n",
            "Waiters/barmen staff      123\n",
            "Secretaries                97\n",
            "Realty agents              63\n",
            "HR staff                   62\n",
            "IT staff                   41\n",
            "Name: occyp_type, dtype: int64 \n",
            "\n",
            "\n",
            "Laborers                 1699\n",
            "no_work                  1697\n",
            "NAN                      1455\n",
            "Sales staff               946\n",
            "Core staff                945\n",
            "Managers                  845\n",
            "Drivers                   563\n",
            "Medicine staff            343\n",
            "High skill tech staff     343\n",
            "Accountants               339\n",
            "Cooking staff             198\n",
            "Security staff            168\n",
            "Cleaning staff            148\n",
            "Private service staff     101\n",
            "Secretaries                54\n",
            "Waiters/barmen staff       50\n",
            "Low-skill Laborers         48\n",
            "HR staff                   23\n",
            "IT staff                   19\n",
            "Realty agents              16\n",
            "Name: occyp_type, dtype: int64 \n",
            "\n",
            "\n"
          ],
          "name": "stdout"
        }
      ]
    },
    {
      "cell_type": "code",
      "metadata": {
        "colab": {
          "base_uri": "https://localhost:8080/"
        },
        "id": "1kIc4to-UTul",
        "outputId": "2201697d-9b29-4726-f828-87e30b764eb4"
      },
      "source": [
        "#구간화 함수\n",
        "def make_bin(df, variable, n):\n",
        "    \n",
        "    data = df\n",
        "    count, bin_dividers = np.histogram(data[variable], bins=n)\n",
        "    bin_names=[str(i) for i in range(n)]\n",
        "    data['%s_bin' % variable] = pd.cut(x=data[variable], bins=bin_dividers, labels=bin_names, include_lowest=True)\n",
        "    data['%s_bin' % variable] = pd.factorize(data['%s_bin' % variable])[0]\n",
        "    print(data['%s_bin' % variable], '\\n\\n')\n",
        "    \n",
        "    return data\n",
        "\n",
        "# days_birth만 구간화 했을 떄 가장 성능이 좋았음\n",
        "train = make_bin(train, 'DAYS_BIRTH', n=10)\n",
        "test = make_bin(test, 'DAYS_BIRTH', n=10)"
      ],
      "execution_count": 28,
      "outputs": [
        {
          "output_type": "stream",
          "text": [
            "0        0\n",
            "1        1\n",
            "2        2\n",
            "3        3\n",
            "4        3\n",
            "        ..\n",
            "26446    1\n",
            "26447    3\n",
            "26448    5\n",
            "26449    5\n",
            "26450    2\n",
            "Name: DAYS_BIRTH_bin, Length: 26451, dtype: int64 \n",
            "\n",
            "\n",
            "0       0\n",
            "1       1\n",
            "2       2\n",
            "3       1\n",
            "4       3\n",
            "       ..\n",
            "9995    1\n",
            "9996    8\n",
            "9997    4\n",
            "9998    3\n",
            "9999    9\n",
            "Name: DAYS_BIRTH_bin, Length: 10000, dtype: int64 \n",
            "\n",
            "\n"
          ],
          "name": "stdout"
        }
      ]
    },
    {
      "cell_type": "code",
      "metadata": {
        "id": "n6_opilmUrGF"
      },
      "source": [
        "# feature selection\n",
        "train = train.drop(['income_total', 'DAYS_EMPLOYED', 'FLAG_MOBIL'], axis=1)\n",
        "test = test.drop(['income_total', 'DAYS_EMPLOYED', 'FLAG_MOBIL'], axis=1)"
      ],
      "execution_count": 29,
      "outputs": []
    },
    {
      "cell_type": "code",
      "metadata": {
        "colab": {
          "base_uri": "https://localhost:8080/"
        },
        "id": "Iq5vEFUXU2jc",
        "outputId": "cc38c021-d53a-4967-da08-f6c47b9de283"
      },
      "source": [
        "print(train.shape, test.shape)"
      ],
      "execution_count": 30,
      "outputs": [
        {
          "output_type": "stream",
          "text": [
            "(26451, 33) (10000, 32)\n"
          ],
          "name": "stdout"
        }
      ]
    },
    {
      "cell_type": "markdown",
      "metadata": {
        "id": "pjpg5OUiWpv5"
      },
      "source": [
        "# 데이터 분할\n",
        "\n",
        "> 컬럼 순서대로 정렬 후 object형 변수의 인덱스 정보를 cat_feature에 활용"
      ]
    },
    {
      "cell_type": "code",
      "metadata": {
        "id": "-IzloktXU8yy"
      },
      "source": [
        "x_train = train.drop(['credit'], axis=1)\n",
        "y_train = train['credit']\n",
        "x_test = test"
      ],
      "execution_count": 31,
      "outputs": []
    },
    {
      "cell_type": "code",
      "metadata": {
        "colab": {
          "base_uri": "https://localhost:8080/"
        },
        "id": "J2GUHNk4W1oK",
        "outputId": "fd784f50-c7d7-4f87-8290-75cc23a5c82c"
      },
      "source": [
        "cat_features = [f for f in x_train.columns if x_train[f].dtype=='object']\n",
        "\n",
        "def columns_index(df, cat_features):\n",
        "  cols = df.columns.values\n",
        "  sidx = np.argsort(cols)\n",
        "  return sidx[np.searchsorted(cols, cat_features, sorter=sidx)]\n",
        "\n",
        "cat_features_idx = columns_index(x_train, cat_features)\n",
        "print('Cat features are:', [f for f in cat_features])\n",
        "print(cat_features_idx)"
      ],
      "execution_count": 32,
      "outputs": [
        {
          "output_type": "stream",
          "text": [
            "Cat features are: ['gender', 'car', 'reality', 'income_type', 'edu_type', 'family_type', 'house_type', 'occyp_type', 'personal_id', 'personal_begin_id', 'g_r_c', 'p_w_e']\n",
            "[ 0  1  2  4  5  6  7 12 15 16 17 18]\n"
          ],
          "name": "stdout"
        }
      ]
    },
    {
      "cell_type": "code",
      "metadata": {
        "colab": {
          "base_uri": "https://localhost:8080/"
        },
        "id": "9-CMIHScXjFP",
        "outputId": "b926dba1-6103-411f-c898-209ca52bc02d"
      },
      "source": [
        "cat_models = {}\n",
        "\n",
        "skf = StratifiedKFold(n_splits=10, shuffle=True, random_state=40)\n",
        "outcomes =[]\n",
        "sub=np.zeros((x_test.shape[0], 3))\n",
        "cat_params = {'random_seed': 570, 'learning_rate': 0.17452046541771907, 'reg_lambda': 0.08726261680296399, 'max_depth': 8, 'colsample_bylevel': 0.9636993649385135, 'subsample': 0.9263791452993542, 'min_child_samples': 62, 'max_bin': 461}\n",
        "\n",
        "for n_fold, (train_index, test_index) in enumerate(skf.split(x_train, y_train)):\n",
        "  X_train, X_valid = x_train.iloc[train_index], x_train.iloc[test_index]\n",
        "  Y_train, Y_valid = y_train.iloc[train_index], y_train.iloc[test_index]\n",
        "\n",
        "  cat = CatBoostClassifier(n_estimators=1000, bootstrap_type='Bernoulli', **cat_params)\n",
        "  cat.fit(X_train, Y_train, eval_set=[(X_train, Y_train), (X_valid, Y_valid)], early_stopping_rounds = 50, cat_features=cat_features, verbose=100)\n",
        "\n",
        "  cat_models[n_fold] = cat\n",
        "\n",
        "  # val 데이터 예측\n",
        "  predict = cat.predict_proba(X_valid)\n",
        "  # test 데이터 예측\n",
        "  test_predict = cat.predict_proba(x_test)\n",
        "\n",
        "  # val 데이터 예측 logloss 값 저장\n",
        "  logloss=log_loss(to_categorical(Y_valid), predict)\n",
        "  outcomes.append(logloss)\n",
        "  print(f'FOLD{n_fold+1}:logloss:{logloss}')\n",
        "\n",
        "  # test 데이터 예측 결과 종합\n",
        "  # 최종적으로는 kfolds 횟수 만큼 나눠서 평균 값을 활용\n",
        "  sub+=test_predict\n",
        "\n",
        "  print(f'-----------------------------------------------------------------------------------------------------------------\\n\\n')\n",
        "\n",
        "mean_outcome = np.mean(outcomes)\n",
        "print('Mean:{}'.format(mean_outcome))\n",
        "sub=sub/(skf.n_splits)\n",
        "\n",
        "\n"
      ],
      "execution_count": 43,
      "outputs": [
        {
          "output_type": "stream",
          "text": [
            "0:\tlearn: 1.0056425\ttest: 1.0061821\ttest1: 1.0049763\tbest: 1.0049763 (0)\ttotal: 443ms\tremaining: 7m 22s\n",
            "100:\tlearn: 0.6278134\ttest: 0.4665941\ttest1: 0.6640650\tbest: 0.6617074 (78)\ttotal: 39.1s\tremaining: 5m 47s\n",
            "Stopped by overfitting detector  (50 iterations wait)\n",
            "\n",
            "bestTest = 0.6617073527\n",
            "bestIteration = 78\n",
            "\n",
            "Shrink model to first 79 iterations.\n",
            "FOLD1:logloss:0.6617073527403\n",
            "-----------------------------------------------------------------------------------------------------------------\n",
            "\n",
            "\n",
            "0:\tlearn: 1.0042834\ttest: 1.0043300\ttest1: 1.0056245\tbest: 1.0056245 (0)\ttotal: 254ms\tremaining: 4m 13s\n",
            "100:\tlearn: 0.6298066\ttest: 0.4619409\ttest1: 0.6732549\tbest: 0.6711319 (68)\ttotal: 38.1s\tremaining: 5m 39s\n",
            "Stopped by overfitting detector  (50 iterations wait)\n",
            "\n",
            "bestTest = 0.6711318788\n",
            "bestIteration = 68\n",
            "\n",
            "Shrink model to first 69 iterations.\n",
            "FOLD2:logloss:0.6711318788228996\n",
            "-----------------------------------------------------------------------------------------------------------------\n",
            "\n",
            "\n",
            "0:\tlearn: 1.0045149\ttest: 1.0045444\ttest1: 1.0046470\tbest: 1.0046470 (0)\ttotal: 254ms\tremaining: 4m 13s\n",
            "100:\tlearn: 0.6256602\ttest: 0.4729291\ttest1: 0.6770667\tbest: 0.6725935 (52)\ttotal: 39s\tremaining: 5m 46s\n",
            "Stopped by overfitting detector  (50 iterations wait)\n",
            "\n",
            "bestTest = 0.6725934647\n",
            "bestIteration = 52\n",
            "\n",
            "Shrink model to first 53 iterations.\n",
            "FOLD3:logloss:0.6725934647222016\n",
            "-----------------------------------------------------------------------------------------------------------------\n",
            "\n",
            "\n",
            "0:\tlearn: 1.0044489\ttest: 1.0046177\ttest1: 1.0047348\tbest: 1.0047348 (0)\ttotal: 439ms\tremaining: 7m 18s\n",
            "100:\tlearn: 0.6216282\ttest: 0.4440941\ttest1: 0.6710973\tbest: 0.6665036 (50)\ttotal: 38s\tremaining: 5m 38s\n",
            "Stopped by overfitting detector  (50 iterations wait)\n",
            "\n",
            "bestTest = 0.666503585\n",
            "bestIteration = 50\n",
            "\n",
            "Shrink model to first 51 iterations.\n",
            "FOLD4:logloss:0.6665035849865794\n",
            "-----------------------------------------------------------------------------------------------------------------\n",
            "\n",
            "\n",
            "0:\tlearn: 1.0049880\ttest: 1.0050778\ttest1: 1.0024811\tbest: 1.0024811 (0)\ttotal: 263ms\tremaining: 4m 22s\n",
            "100:\tlearn: 0.6320673\ttest: 0.4529362\ttest1: 0.6611412\tbest: 0.6603721 (84)\ttotal: 38.9s\tremaining: 5m 46s\n",
            "Stopped by overfitting detector  (50 iterations wait)\n",
            "\n",
            "bestTest = 0.6603721263\n",
            "bestIteration = 84\n",
            "\n",
            "Shrink model to first 85 iterations.\n",
            "FOLD5:logloss:0.6603721263030891\n",
            "-----------------------------------------------------------------------------------------------------------------\n",
            "\n",
            "\n",
            "0:\tlearn: 1.0044373\ttest: 1.0045197\ttest1: 1.0053650\tbest: 1.0053650 (0)\ttotal: 255ms\tremaining: 4m 15s\n",
            "100:\tlearn: 0.6226007\ttest: 0.4551676\ttest1: 0.6828967\tbest: 0.6812650 (96)\ttotal: 37.7s\tremaining: 5m 35s\n",
            "Stopped by overfitting detector  (50 iterations wait)\n",
            "\n",
            "bestTest = 0.6812650366\n",
            "bestIteration = 96\n",
            "\n",
            "Shrink model to first 97 iterations.\n",
            "FOLD6:logloss:0.6812650365856122\n",
            "-----------------------------------------------------------------------------------------------------------------\n",
            "\n",
            "\n",
            "0:\tlearn: 1.0045866\ttest: 1.0045958\ttest1: 1.0042659\tbest: 1.0042659 (0)\ttotal: 259ms\tremaining: 4m 19s\n",
            "100:\tlearn: 0.6263430\ttest: 0.4725129\ttest1: 0.6541421\tbest: 0.6529629 (86)\ttotal: 39.2s\tremaining: 5m 48s\n",
            "Stopped by overfitting detector  (50 iterations wait)\n",
            "\n",
            "bestTest = 0.6529629263\n",
            "bestIteration = 86\n",
            "\n",
            "Shrink model to first 87 iterations.\n",
            "FOLD7:logloss:0.6529629262637922\n",
            "-----------------------------------------------------------------------------------------------------------------\n",
            "\n",
            "\n",
            "0:\tlearn: 1.0044036\ttest: 1.0044581\ttest1: 1.0049628\tbest: 1.0049628 (0)\ttotal: 253ms\tremaining: 4m 13s\n",
            "100:\tlearn: 0.6276072\ttest: 0.4666414\ttest1: 0.6803716\tbest: 0.6781605 (71)\ttotal: 38.9s\tremaining: 5m 46s\n",
            "Stopped by overfitting detector  (50 iterations wait)\n",
            "\n",
            "bestTest = 0.678160548\n",
            "bestIteration = 71\n",
            "\n",
            "Shrink model to first 72 iterations.\n",
            "FOLD8:logloss:0.6781605480064321\n",
            "-----------------------------------------------------------------------------------------------------------------\n",
            "\n",
            "\n",
            "0:\tlearn: 1.0043588\ttest: 1.0043987\ttest1: 1.0056258\tbest: 1.0056258 (0)\ttotal: 260ms\tremaining: 4m 20s\n",
            "100:\tlearn: 0.6233943\ttest: 0.4531480\ttest1: 0.6805878\tbest: 0.6783805 (76)\ttotal: 39.4s\tremaining: 5m 50s\n",
            "Stopped by overfitting detector  (50 iterations wait)\n",
            "\n",
            "bestTest = 0.6783805381\n",
            "bestIteration = 76\n",
            "\n",
            "Shrink model to first 77 iterations.\n",
            "FOLD9:logloss:0.678380538117187\n",
            "-----------------------------------------------------------------------------------------------------------------\n",
            "\n",
            "\n",
            "0:\tlearn: 1.0044967\ttest: 1.0045802\ttest1: 1.0046386\tbest: 1.0046386 (0)\ttotal: 255ms\tremaining: 4m 14s\n",
            "100:\tlearn: 0.6237914\ttest: 0.4531718\ttest1: 0.6700846\tbest: 0.6683035 (56)\ttotal: 37.8s\tremaining: 5m 36s\n",
            "Stopped by overfitting detector  (50 iterations wait)\n",
            "\n",
            "bestTest = 0.6683035307\n",
            "bestIteration = 56\n",
            "\n",
            "Shrink model to first 57 iterations.\n",
            "FOLD10:logloss:0.6683035306808445\n",
            "-----------------------------------------------------------------------------------------------------------------\n",
            "\n",
            "\n",
            "Mean:0.6691380987228938\n"
          ],
          "name": "stdout"
        }
      ]
    },
    {
      "cell_type": "code",
      "metadata": {
        "colab": {
          "base_uri": "https://localhost:8080/"
        },
        "id": "EB9wKpLrfiEw",
        "outputId": "698507e3-2d39-4f62-9ec1-0f8ac53c9bc8"
      },
      "source": [
        "pip install optuna"
      ],
      "execution_count": 34,
      "outputs": [
        {
          "output_type": "stream",
          "text": [
            "Collecting optuna\n",
            "\u001b[?25l  Downloading https://files.pythonhosted.org/packages/2b/21/d13081805e1e1afc71f5bb743ece324c8bd576237c51b899ecb38a717502/optuna-2.7.0-py3-none-any.whl (293kB)\n",
            "\r\u001b[K     |█▏                              | 10kB 14.2MB/s eta 0:00:01\r\u001b[K     |██▎                             | 20kB 12.7MB/s eta 0:00:01\r\u001b[K     |███▍                            | 30kB 8.9MB/s eta 0:00:01\r\u001b[K     |████▌                           | 40kB 7.7MB/s eta 0:00:01\r\u001b[K     |█████▋                          | 51kB 5.1MB/s eta 0:00:01\r\u001b[K     |██████▊                         | 61kB 5.5MB/s eta 0:00:01\r\u001b[K     |███████▉                        | 71kB 6.0MB/s eta 0:00:01\r\u001b[K     |█████████                       | 81kB 6.3MB/s eta 0:00:01\r\u001b[K     |██████████                      | 92kB 6.2MB/s eta 0:00:01\r\u001b[K     |███████████▏                    | 102kB 5.2MB/s eta 0:00:01\r\u001b[K     |████████████▎                   | 112kB 5.2MB/s eta 0:00:01\r\u001b[K     |█████████████▍                  | 122kB 5.2MB/s eta 0:00:01\r\u001b[K     |██████████████▌                 | 133kB 5.2MB/s eta 0:00:01\r\u001b[K     |███████████████▋                | 143kB 5.2MB/s eta 0:00:01\r\u001b[K     |████████████████▊               | 153kB 5.2MB/s eta 0:00:01\r\u001b[K     |█████████████████▉              | 163kB 5.2MB/s eta 0:00:01\r\u001b[K     |███████████████████             | 174kB 5.2MB/s eta 0:00:01\r\u001b[K     |████████████████████            | 184kB 5.2MB/s eta 0:00:01\r\u001b[K     |█████████████████████▏          | 194kB 5.2MB/s eta 0:00:01\r\u001b[K     |██████████████████████▎         | 204kB 5.2MB/s eta 0:00:01\r\u001b[K     |███████████████████████▍        | 215kB 5.2MB/s eta 0:00:01\r\u001b[K     |████████████████████████▋       | 225kB 5.2MB/s eta 0:00:01\r\u001b[K     |█████████████████████████▊      | 235kB 5.2MB/s eta 0:00:01\r\u001b[K     |██████████████████████████▉     | 245kB 5.2MB/s eta 0:00:01\r\u001b[K     |████████████████████████████    | 256kB 5.2MB/s eta 0:00:01\r\u001b[K     |█████████████████████████████   | 266kB 5.2MB/s eta 0:00:01\r\u001b[K     |██████████████████████████████▏ | 276kB 5.2MB/s eta 0:00:01\r\u001b[K     |███████████████████████████████▎| 286kB 5.2MB/s eta 0:00:01\r\u001b[K     |████████████████████████████████| 296kB 5.2MB/s \n",
            "\u001b[?25hRequirement already satisfied: numpy in /usr/local/lib/python3.7/dist-packages (from optuna) (1.19.5)\n",
            "Collecting colorlog\n",
            "  Downloading https://files.pythonhosted.org/packages/32/e6/e9ddc6fa1104fda718338b341e4b3dc31cd8039ab29e52fc73b508515361/colorlog-5.0.1-py2.py3-none-any.whl\n",
            "Collecting alembic\n",
            "\u001b[?25l  Downloading https://files.pythonhosted.org/packages/eb/bd/c3486fd57a3eec5162a2e32e8f05880c990f0d92b03d268342d2e8fe7032/alembic-1.6.4-py2.py3-none-any.whl (164kB)\n",
            "\u001b[K     |████████████████████████████████| 174kB 8.7MB/s \n",
            "\u001b[?25hRequirement already satisfied: scipy!=1.4.0 in /usr/local/lib/python3.7/dist-packages (from optuna) (1.4.1)\n",
            "Requirement already satisfied: sqlalchemy>=1.1.0 in /usr/local/lib/python3.7/dist-packages (from optuna) (1.4.15)\n",
            "Requirement already satisfied: packaging>=20.0 in /usr/local/lib/python3.7/dist-packages (from optuna) (20.9)\n",
            "Collecting cmaes>=0.8.2\n",
            "  Downloading https://files.pythonhosted.org/packages/01/1f/43b01223a0366171f474320c6e966c39a11587287f098a5f09809b45e05f/cmaes-0.8.2-py3-none-any.whl\n",
            "Requirement already satisfied: tqdm in /usr/local/lib/python3.7/dist-packages (from optuna) (4.41.1)\n",
            "Collecting cliff\n",
            "\u001b[?25l  Downloading https://files.pythonhosted.org/packages/a2/d6/7d9acb68a77acd140be7fececb7f2701b2a29d2da9c54184cb8f93509590/cliff-3.7.0-py3-none-any.whl (80kB)\n",
            "\u001b[K     |████████████████████████████████| 81kB 5.8MB/s \n",
            "\u001b[?25hCollecting Mako\n",
            "\u001b[?25l  Downloading https://files.pythonhosted.org/packages/f3/54/dbc07fbb20865d3b78fdb7cf7fa713e2cba4f87f71100074ef2dc9f9d1f7/Mako-1.1.4-py2.py3-none-any.whl (75kB)\n",
            "\u001b[K     |████████████████████████████████| 81kB 6.3MB/s \n",
            "\u001b[?25hCollecting python-editor>=0.3\n",
            "  Downloading https://files.pythonhosted.org/packages/c6/d3/201fc3abe391bbae6606e6f1d598c15d367033332bd54352b12f35513717/python_editor-1.0.4-py3-none-any.whl\n",
            "Requirement already satisfied: python-dateutil in /usr/local/lib/python3.7/dist-packages (from alembic->optuna) (2.8.1)\n",
            "Requirement already satisfied: greenlet!=0.4.17; python_version >= \"3\" in /usr/local/lib/python3.7/dist-packages (from sqlalchemy>=1.1.0->optuna) (1.1.0)\n",
            "Requirement already satisfied: importlib-metadata; python_version < \"3.8\" in /usr/local/lib/python3.7/dist-packages (from sqlalchemy>=1.1.0->optuna) (4.0.1)\n",
            "Requirement already satisfied: pyparsing>=2.0.2 in /usr/local/lib/python3.7/dist-packages (from packaging>=20.0->optuna) (2.4.7)\n",
            "Requirement already satisfied: PrettyTable>=0.7.2 in /usr/local/lib/python3.7/dist-packages (from cliff->optuna) (2.1.0)\n",
            "Collecting stevedore>=2.0.1\n",
            "\u001b[?25l  Downloading https://files.pythonhosted.org/packages/d4/49/b602307aeac3df3384ff1fcd05da9c0376c622a6c48bb5325f28ab165b57/stevedore-3.3.0-py3-none-any.whl (49kB)\n",
            "\u001b[K     |████████████████████████████████| 51kB 5.4MB/s \n",
            "\u001b[?25hCollecting cmd2>=1.0.0\n",
            "\u001b[?25l  Downloading https://files.pythonhosted.org/packages/15/8b/15061b32332bb35ea2a2f6263d0f616779d576e82739ec8e7fcf3c94abf5/cmd2-1.5.0-py3-none-any.whl (133kB)\n",
            "\u001b[K     |████████████████████████████████| 143kB 13.6MB/s \n",
            "\u001b[?25hCollecting pbr!=2.1.0,>=2.0.0\n",
            "\u001b[?25l  Downloading https://files.pythonhosted.org/packages/18/e0/1d4702dd81121d04a477c272d47ee5b6bc970d1a0990b11befa275c55cf2/pbr-5.6.0-py2.py3-none-any.whl (111kB)\n",
            "\u001b[K     |████████████████████████████████| 112kB 10.6MB/s \n",
            "\u001b[?25hRequirement already satisfied: PyYAML>=3.12 in /usr/local/lib/python3.7/dist-packages (from cliff->optuna) (3.13)\n",
            "Requirement already satisfied: MarkupSafe>=0.9.2 in /usr/local/lib/python3.7/dist-packages (from Mako->alembic->optuna) (2.0.1)\n",
            "Requirement already satisfied: six>=1.5 in /usr/local/lib/python3.7/dist-packages (from python-dateutil->alembic->optuna) (1.15.0)\n",
            "Requirement already satisfied: typing-extensions>=3.6.4; python_version < \"3.8\" in /usr/local/lib/python3.7/dist-packages (from importlib-metadata; python_version < \"3.8\"->sqlalchemy>=1.1.0->optuna) (3.7.4.3)\n",
            "Requirement already satisfied: zipp>=0.5 in /usr/local/lib/python3.7/dist-packages (from importlib-metadata; python_version < \"3.8\"->sqlalchemy>=1.1.0->optuna) (3.4.1)\n",
            "Requirement already satisfied: wcwidth in /usr/local/lib/python3.7/dist-packages (from PrettyTable>=0.7.2->cliff->optuna) (0.2.5)\n",
            "Collecting colorama>=0.3.7\n",
            "  Downloading https://files.pythonhosted.org/packages/44/98/5b86278fbbf250d239ae0ecb724f8572af1c91f4a11edf4d36a206189440/colorama-0.4.4-py2.py3-none-any.whl\n",
            "Requirement already satisfied: attrs>=16.3.0 in /usr/local/lib/python3.7/dist-packages (from cmd2>=1.0.0->cliff->optuna) (21.2.0)\n",
            "Collecting pyperclip>=1.6\n",
            "  Downloading https://files.pythonhosted.org/packages/a7/2c/4c64579f847bd5d539803c8b909e54ba087a79d01bb3aba433a95879a6c5/pyperclip-1.8.2.tar.gz\n",
            "Building wheels for collected packages: pyperclip\n",
            "  Building wheel for pyperclip (setup.py) ... \u001b[?25l\u001b[?25hdone\n",
            "  Created wheel for pyperclip: filename=pyperclip-1.8.2-cp37-none-any.whl size=11107 sha256=bbed6ae0329572c767762dbb45639ebbf7047cb9da34bba5fe3cdb4f8b29c5c0\n",
            "  Stored in directory: /root/.cache/pip/wheels/25/af/b8/3407109267803f4015e1ee2ff23be0c8c19ce4008665931ee1\n",
            "Successfully built pyperclip\n",
            "Installing collected packages: colorlog, Mako, python-editor, alembic, cmaes, pbr, stevedore, colorama, pyperclip, cmd2, cliff, optuna\n",
            "Successfully installed Mako-1.1.4 alembic-1.6.4 cliff-3.7.0 cmaes-0.8.2 cmd2-1.5.0 colorama-0.4.4 colorlog-5.0.1 optuna-2.7.0 pbr-5.6.0 pyperclip-1.8.2 python-editor-1.0.4 stevedore-3.3.0\n"
          ],
          "name": "stdout"
        }
      ]
    },
    {
      "cell_type": "code",
      "metadata": {
        "id": "Q9wTIi9wdY2D"
      },
      "source": [
        "import optuna\n",
        "from lightgbm import LGBMClassifier\n",
        "from optuna import Trial\n",
        "from optuna.samplers import TPESampler\n",
        "\n",
        "def objective(trial: Trial) -> float:\n",
        "    params_cat = {\n",
        "        \"random_seed\": trial.suggest_int('random_seed', 0, 1043),\n",
        "        \"learning_rate\": trial.suggest_float('learning_rate', 0.01, 0.9),\n",
        "        \"n_estimators\": 3000,\n",
        "        \"reg_lambda\": trial.suggest_float(\"reg_lambda\", 1e-8, 9e-2),\n",
        "        \"max_depth\": trial.suggest_int(\"max_depth\", 1, 10),\n",
        "        \"colsample_bylevel\": trial.suggest_float(\"colsample_bylevel\", 0.4, 1.0),\n",
        "        \"subsample\": trial.suggest_float(\"subsample\", 0.3, 1.0),\n",
        "        \"min_child_samples\": trial.suggest_int(\"min_child_samples\", 5, 100),\n",
        "        \"max_bin\": trial.suggest_int(\"max_bin\", 1, 500),\n",
        "        'bootstrap_type':'Bernoulli'\n",
        "        \n",
        "    }\n",
        "    skf = StratifiedKFold(n_splits=5, shuffle=True, random_state=40)\n",
        "    for i, (train_indice, valid_indice) in enumerate(skf.split(X=x_train, y=y_train)):\n",
        "      X_train, X_valid = x_train.iloc[train_indice], x_train.iloc[valid_indice]\n",
        "      Y_train, Y_valid = y_train.iloc[train_indice], y_train.iloc[valid_indice]\n",
        "\n",
        "      model = CatBoostClassifier(**params_cat)\n",
        "      model.fit(\n",
        "          X_train,\n",
        "          Y_train,\n",
        "          eval_set=[(X_train, Y_train), (X_valid, Y_valid)],\n",
        "          early_stopping_rounds=100,\n",
        "          verbose=200,\n",
        "          cat_features=cat_features\n",
        "          )\n",
        "\n",
        "    lgb_pred = model.predict_proba(X_valid)\n",
        "    log_score = log_loss(Y_valid, lgb_pred)\n",
        "    \n",
        "    return log_score"
      ],
      "execution_count": 41,
      "outputs": []
    },
    {
      "cell_type": "code",
      "metadata": {
        "colab": {
          "base_uri": "https://localhost:8080/"
        },
        "id": "63zMxV2_dYXf",
        "outputId": "47a5c654-2403-4a68-b511-1fe0f32ee4f5"
      },
      "source": [
        "sampler = TPESampler(seed=42)\n",
        "study = optuna.create_study(\n",
        "    study_name=\"cat_parameter_opt\",\n",
        "    direction=\"minimize\",\n",
        "    sampler=sampler,\n",
        ")\n",
        "study.optimize(objective, n_trials=10)\n",
        "print(\"Best Score:\", study.best_value)\n",
        "print(\"Best trial:\", study.best_trial.params)"
      ],
      "execution_count": 42,
      "outputs": [
        {
          "output_type": "stream",
          "text": [
            "\u001b[32m[I 2021-05-27 07:37:35,992]\u001b[0m A new study created in memory with name: cat_parameter_opt\u001b[0m\n"
          ],
          "name": "stderr"
        },
        {
          "output_type": "stream",
          "text": [
            "0:\tlearn: 0.8280901\ttest: 0.8281176\ttest1: 0.8277983\tbest: 0.8277983 (0)\ttotal: 101ms\tremaining: 5m 3s\n",
            "Stopped by overfitting detector  (100 iterations wait)\n",
            "\n",
            "bestTest = 0.6944364857\n",
            "bestIteration = 11\n",
            "\n",
            "Shrink model to first 12 iterations.\n",
            "0:\tlearn: 0.8228958\ttest: 0.8235244\ttest1: 0.8243054\tbest: 0.8243054 (0)\ttotal: 135ms\tremaining: 6m 44s\n",
            "Stopped by overfitting detector  (100 iterations wait)\n",
            "\n",
            "bestTest = 0.7038871063\n",
            "bestIteration = 13\n",
            "\n",
            "Shrink model to first 14 iterations.\n",
            "0:\tlearn: 0.8237226\ttest: 0.8240169\ttest1: 0.8196805\tbest: 0.8196805 (0)\ttotal: 140ms\tremaining: 7m\n",
            "Stopped by overfitting detector  (100 iterations wait)\n",
            "\n",
            "bestTest = 0.6987805821\n",
            "bestIteration = 18\n",
            "\n",
            "Shrink model to first 19 iterations.\n",
            "0:\tlearn: 0.8220732\ttest: 0.8223170\ttest1: 0.8236765\tbest: 0.8236765 (0)\ttotal: 134ms\tremaining: 6m 42s\n",
            "Stopped by overfitting detector  (100 iterations wait)\n",
            "\n",
            "bestTest = 0.6889023728\n",
            "bestIteration = 12\n",
            "\n",
            "Shrink model to first 13 iterations.\n",
            "0:\tlearn: 0.8217756\ttest: 0.8223711\ttest1: 0.8263872\tbest: 0.8263872 (0)\ttotal: 135ms\tremaining: 6m 43s\n"
          ],
          "name": "stdout"
        },
        {
          "output_type": "stream",
          "text": [
            "\u001b[32m[I 2021-05-27 07:38:40,341]\u001b[0m Trial 0 finished with value: 0.69933378978416 and parameters: {'random_seed': 391, 'learning_rate': 0.8561357327048255, 'reg_lambda': 0.06587945744308704, 'max_depth': 6, 'colsample_bylevel': 0.4936111842654619, 'subsample': 0.40919616423534183, 'min_child_samples': 10, 'max_bin': 434}. Best is trial 0 with value: 0.69933378978416.\u001b[0m\n"
          ],
          "name": "stderr"
        },
        {
          "output_type": "stream",
          "text": [
            "Stopped by overfitting detector  (100 iterations wait)\n",
            "\n",
            "bestTest = 0.6993337898\n",
            "bestIteration = 13\n",
            "\n",
            "Shrink model to first 14 iterations.\n",
            "0:\tlearn: 0.8501198\ttest: 0.8504144\ttest1: 0.8502642\tbest: 0.8502642 (0)\ttotal: 148ms\tremaining: 7m 24s\n",
            "Stopped by overfitting detector  (100 iterations wait)\n",
            "\n",
            "bestTest = 0.6933784669\n",
            "bestIteration = 7\n",
            "\n",
            "Shrink model to first 8 iterations.\n",
            "0:\tlearn: 0.8480250\ttest: 0.8479250\ttest1: 0.8481848\tbest: 0.8481848 (0)\ttotal: 469ms\tremaining: 23m 27s\n",
            "Stopped by overfitting detector  (100 iterations wait)\n",
            "\n",
            "bestTest = 0.7037205164\n",
            "bestIteration = 5\n",
            "\n",
            "Shrink model to first 6 iterations.\n",
            "0:\tlearn: 0.8486843\ttest: 0.8493560\ttest1: 0.8454516\tbest: 0.8454516 (0)\ttotal: 478ms\tremaining: 23m 52s\n",
            "Stopped by overfitting detector  (100 iterations wait)\n",
            "\n",
            "bestTest = 0.6994442183\n",
            "bestIteration = 4\n",
            "\n",
            "Shrink model to first 5 iterations.\n",
            "0:\tlearn: 0.8484170\ttest: 0.8487848\ttest1: 0.8492020\tbest: 0.8492020 (0)\ttotal: 200ms\tremaining: 9m 58s\n",
            "Stopped by overfitting detector  (100 iterations wait)\n",
            "\n",
            "bestTest = 0.6938612914\n",
            "bestIteration = 7\n",
            "\n",
            "Shrink model to first 8 iterations.\n",
            "0:\tlearn: 0.8469150\ttest: 0.8476091\ttest1: 0.8511178\tbest: 0.8511178 (0)\ttotal: 502ms\tremaining: 25m 6s\n"
          ],
          "name": "stdout"
        },
        {
          "output_type": "stream",
          "text": [
            "\u001b[32m[I 2021-05-27 07:42:31,295]\u001b[0m Trial 1 finished with value: 0.7009854513817776 and parameters: {'random_seed': 627, 'learning_rate': 0.6401845942384805, 'reg_lambda': 0.0018526142807772773, 'max_depth': 10, 'colsample_bylevel': 0.899465584480253, 'subsample': 0.44863737747479326, 'min_child_samples': 22, 'max_bin': 92}. Best is trial 0 with value: 0.69933378978416.\u001b[0m\n"
          ],
          "name": "stderr"
        },
        {
          "output_type": "stream",
          "text": [
            "Stopped by overfitting detector  (100 iterations wait)\n",
            "\n",
            "bestTest = 0.7009854514\n",
            "bestIteration = 4\n",
            "\n",
            "Shrink model to first 5 iterations.\n",
            "0:\tlearn: 0.8874298\ttest: 0.8874298\ttest1: 0.8877074\tbest: 0.8877074 (0)\ttotal: 74.9ms\tremaining: 3m 44s\n",
            "Stopped by overfitting detector  (100 iterations wait)\n",
            "\n",
            "bestTest = 0.672543023\n",
            "bestIteration = 70\n",
            "\n",
            "Shrink model to first 71 iterations.\n",
            "0:\tlearn: 0.8874009\ttest: 0.8874312\ttest1: 0.8878198\tbest: 0.8878198 (0)\ttotal: 68.5ms\tremaining: 3m 25s\n",
            "Stopped by overfitting detector  (100 iterations wait)\n",
            "\n",
            "bestTest = 0.6867042098\n",
            "bestIteration = 72\n",
            "\n",
            "Shrink model to first 73 iterations.\n",
            "0:\tlearn: 0.8882730\ttest: 0.8883118\ttest1: 0.8855387\tbest: 0.8855387 (0)\ttotal: 69ms\tremaining: 3m 27s\n",
            "200:\tlearn: 0.6913682\ttest: 0.4743801\ttest1: 0.6897716\tbest: 0.6881299 (135)\ttotal: 10.7s\tremaining: 2m 28s\n",
            "Stopped by overfitting detector  (100 iterations wait)\n",
            "\n",
            "bestTest = 0.688129943\n",
            "bestIteration = 135\n",
            "\n",
            "Shrink model to first 136 iterations.\n",
            "0:\tlearn: 0.8874329\ttest: 0.8874658\ttest1: 0.8877082\tbest: 0.8877082 (0)\ttotal: 68.1ms\tremaining: 3m 24s\n",
            "Stopped by overfitting detector  (100 iterations wait)\n",
            "\n",
            "bestTest = 0.678379168\n",
            "bestIteration = 45\n",
            "\n",
            "Shrink model to first 46 iterations.\n",
            "0:\tlearn: 0.8869090\ttest: 0.8869317\ttest1: 0.8890044\tbest: 0.8890044 (0)\ttotal: 69ms\tremaining: 3m 27s\n",
            "200:\tlearn: 0.6906179\ttest: 0.4708330\ttest1: 0.6856813\tbest: 0.6825420 (108)\ttotal: 10.5s\tremaining: 2m 26s\n"
          ],
          "name": "stdout"
        },
        {
          "output_type": "stream",
          "text": [
            "\u001b[32m[I 2021-05-27 07:43:22,999]\u001b[0m Trial 2 finished with value: 0.6825420226666842 and parameters: {'random_seed': 317, 'learning_rate': 0.47703322415269167, 'reg_lambda': 0.03887505735834024, 'max_depth': 3, 'colsample_bylevel': 0.7671117368334277, 'subsample': 0.3976457024564293, 'min_child_samples': 33, 'max_bin': 184}. Best is trial 2 with value: 0.6825420226666842.\u001b[0m\n"
          ],
          "name": "stderr"
        },
        {
          "output_type": "stream",
          "text": [
            "Stopped by overfitting detector  (100 iterations wait)\n",
            "\n",
            "bestTest = 0.6825420227\n",
            "bestIteration = 108\n",
            "\n",
            "Shrink model to first 109 iterations.\n",
            "0:\tlearn: 0.8528100\ttest: 0.8528058\ttest1: 0.8517557\tbest: 0.8517557 (0)\ttotal: 67.7ms\tremaining: 3m 23s\n",
            "Stopped by overfitting detector  (100 iterations wait)\n",
            "\n",
            "bestTest = 0.6806917303\n",
            "bestIteration = 24\n",
            "\n",
            "Shrink model to first 25 iterations.\n",
            "0:\tlearn: 0.8346339\ttest: 0.8347752\ttest1: 0.8372454\tbest: 0.8372454 (0)\ttotal: 144ms\tremaining: 7m 11s\n",
            "Stopped by overfitting detector  (100 iterations wait)\n",
            "\n",
            "bestTest = 0.7006307633\n",
            "bestIteration = 17\n",
            "\n",
            "Shrink model to first 18 iterations.\n",
            "0:\tlearn: 0.8353254\ttest: 0.8356725\ttest1: 0.8327346\tbest: 0.8327346 (0)\ttotal: 138ms\tremaining: 6m 52s\n",
            "Stopped by overfitting detector  (100 iterations wait)\n",
            "\n",
            "bestTest = 0.7048032721\n",
            "bestIteration = 14\n",
            "\n",
            "Shrink model to first 15 iterations.\n",
            "0:\tlearn: 0.8347524\ttest: 0.8349686\ttest1: 0.8359294\tbest: 0.8359294 (0)\ttotal: 142ms\tremaining: 7m 6s\n",
            "Stopped by overfitting detector  (100 iterations wait)\n",
            "\n",
            "bestTest = 0.6822957408\n",
            "bestIteration = 16\n",
            "\n",
            "Shrink model to first 17 iterations.\n",
            "0:\tlearn: 0.8369666\ttest: 0.8369666\ttest1: 0.8399454\tbest: 0.8399454 (0)\ttotal: 87.2ms\tremaining: 4m 21s\n"
          ],
          "name": "stdout"
        },
        {
          "output_type": "stream",
          "text": [
            "\u001b[32m[I 2021-05-27 07:44:38,160]\u001b[0m Trial 3 finished with value: 0.6931553346622591 and parameters: {'random_seed': 476, 'learning_rate': 0.7088066056397822, 'reg_lambda': 0.017970648397514558, 'max_depth': 6, 'colsample_bylevel': 0.7554487413172255, 'subsample': 0.3325152889039984, 'min_child_samples': 63, 'max_bin': 86}. Best is trial 2 with value: 0.6825420226666842.\u001b[0m\n"
          ],
          "name": "stderr"
        },
        {
          "output_type": "stream",
          "text": [
            "Stopped by overfitting detector  (100 iterations wait)\n",
            "\n",
            "bestTest = 0.6931553347\n",
            "bestIteration = 19\n",
            "\n",
            "Shrink model to first 20 iterations.\n",
            "0:\tlearn: 0.8268413\ttest: 0.8268413\ttest1: 0.8261124\tbest: 0.8261124 (0)\ttotal: 78.1ms\tremaining: 3m 54s\n",
            "Stopped by overfitting detector  (100 iterations wait)\n",
            "\n",
            "bestTest = 0.6897348587\n",
            "bestIteration = 7\n",
            "\n",
            "Shrink model to first 8 iterations.\n",
            "0:\tlearn: 0.8262093\ttest: 0.8262093\ttest1: 0.8305547\tbest: 0.8305547 (0)\ttotal: 80.5ms\tremaining: 4m 1s\n",
            "Stopped by overfitting detector  (100 iterations wait)\n",
            "\n",
            "bestTest = 0.7167179465\n",
            "bestIteration = 4\n",
            "\n",
            "Shrink model to first 5 iterations.\n",
            "0:\tlearn: 0.8272384\ttest: 0.8272384\ttest1: 0.8259501\tbest: 0.8259501 (0)\ttotal: 75.9ms\tremaining: 3m 47s\n",
            "Stopped by overfitting detector  (100 iterations wait)\n",
            "\n",
            "bestTest = 0.716760059\n",
            "bestIteration = 5\n",
            "\n",
            "Shrink model to first 6 iterations.\n",
            "0:\tlearn: 0.8267320\ttest: 0.8267320\ttest1: 0.8280825\tbest: 0.8280825 (0)\ttotal: 75.8ms\tremaining: 3m 47s\n",
            "Stopped by overfitting detector  (100 iterations wait)\n",
            "\n",
            "bestTest = 0.6964418723\n",
            "bestIteration = 7\n",
            "\n",
            "Shrink model to first 8 iterations.\n",
            "0:\tlearn: 0.8270754\ttest: 0.8270754\ttest1: 0.8268365\tbest: 0.8268365 (0)\ttotal: 83.4ms\tremaining: 4m 10s\n"
          ],
          "name": "stdout"
        },
        {
          "output_type": "stream",
          "text": [
            "\u001b[32m[I 2021-05-27 07:46:49,020]\u001b[0m Trial 4 finished with value: 0.7030011755029499 and parameters: {'random_seed': 67, 'learning_rate': 0.8545081281554666, 'reg_lambda': 0.08690688332039001, 'max_depth': 9, 'colsample_bylevel': 0.5827682615040224, 'subsample': 0.3683704798044687, 'min_child_samples': 70, 'max_bin': 221}. Best is trial 2 with value: 0.6825420226666842.\u001b[0m\n"
          ],
          "name": "stderr"
        },
        {
          "output_type": "stream",
          "text": [
            "Stopped by overfitting detector  (100 iterations wait)\n",
            "\n",
            "bestTest = 0.7030011755\n",
            "bestIteration = 5\n",
            "\n",
            "Shrink model to first 6 iterations.\n",
            "0:\tlearn: 0.8959471\ttest: 0.8976811\ttest1: 0.8978818\tbest: 0.8978818 (0)\ttotal: 515ms\tremaining: 25m 43s\n",
            "Stopped by overfitting detector  (100 iterations wait)\n",
            "\n",
            "bestTest = 0.6809853143\n",
            "bestIteration = 10\n",
            "\n",
            "Shrink model to first 11 iterations.\n",
            "0:\tlearn: 0.8931533\ttest: 0.8931584\ttest1: 0.8946895\tbest: 0.8946895 (0)\ttotal: 92.6ms\tremaining: 4m 37s\n",
            "Stopped by overfitting detector  (100 iterations wait)\n",
            "\n",
            "bestTest = 0.7001057628\n",
            "bestIteration = 8\n",
            "\n",
            "Shrink model to first 9 iterations.\n",
            "0:\tlearn: 0.8981448\ttest: 0.8981698\ttest1: 0.8972897\tbest: 0.8972897 (0)\ttotal: 99.3ms\tremaining: 4m 57s\n",
            "Stopped by overfitting detector  (100 iterations wait)\n",
            "\n",
            "bestTest = 0.7016917495\n",
            "bestIteration = 9\n",
            "\n",
            "Shrink model to first 10 iterations.\n",
            "0:\tlearn: 0.8933328\ttest: 0.8933715\ttest1: 0.8938660\tbest: 0.8938660 (0)\ttotal: 92.2ms\tremaining: 4m 36s\n",
            "Stopped by overfitting detector  (100 iterations wait)\n",
            "\n",
            "bestTest = 0.6934932852\n",
            "bestIteration = 7\n",
            "\n",
            "Shrink model to first 8 iterations.\n",
            "0:\tlearn: 0.8980630\ttest: 0.8983587\ttest1: 0.8976257\tbest: 0.8976257 (0)\ttotal: 97.1ms\tremaining: 4m 51s\n"
          ],
          "name": "stdout"
        },
        {
          "output_type": "stream",
          "text": [
            "\u001b[32m[I 2021-05-27 07:50:33,907]\u001b[0m Trial 5 finished with value: 0.7003952987903392 and parameters: {'random_seed': 127, 'learning_rate': 0.4507074499990305, 'reg_lambda': 0.0030949765564844446, 'max_depth': 10, 'colsample_bylevel': 0.5552679889600102, 'subsample': 0.7637655990477874, 'min_child_samples': 34, 'max_bin': 261}. Best is trial 2 with value: 0.6825420226666842.\u001b[0m\n"
          ],
          "name": "stderr"
        },
        {
          "output_type": "stream",
          "text": [
            "Stopped by overfitting detector  (100 iterations wait)\n",
            "\n",
            "bestTest = 0.7003952988\n",
            "bestIteration = 7\n",
            "\n",
            "Shrink model to first 8 iterations.\n",
            "0:\tlearn: 1.0059305\ttest: 1.0059662\ttest1: 1.0057516\tbest: 1.0057516 (0)\ttotal: 205ms\tremaining: 10m 16s\n",
            "Stopped by overfitting detector  (100 iterations wait)\n",
            "\n",
            "bestTest = 0.6691977634\n",
            "bestIteration = 75\n",
            "\n",
            "Shrink model to first 76 iterations.\n",
            "0:\tlearn: 1.0045483\ttest: 1.0045483\ttest1: 1.0046792\tbest: 1.0046792 (0)\ttotal: 62.2ms\tremaining: 3m 6s\n",
            "Stopped by overfitting detector  (100 iterations wait)\n",
            "\n",
            "bestTest = 0.6880244607\n",
            "bestIteration = 44\n",
            "\n",
            "Shrink model to first 45 iterations.\n",
            "0:\tlearn: 1.0049535\ttest: 1.0049535\ttest1: 1.0039077\tbest: 1.0039077 (0)\ttotal: 63.1ms\tremaining: 3m 9s\n",
            "Stopped by overfitting detector  (100 iterations wait)\n",
            "\n",
            "bestTest = 0.682487175\n",
            "bestIteration = 70\n",
            "\n",
            "Shrink model to first 71 iterations.\n",
            "0:\tlearn: 1.0045843\ttest: 1.0045843\ttest1: 1.0046910\tbest: 1.0046910 (0)\ttotal: 62.2ms\tremaining: 3m 6s\n",
            "Stopped by overfitting detector  (100 iterations wait)\n",
            "\n",
            "bestTest = 0.6759473407\n",
            "bestIteration = 76\n",
            "\n",
            "Shrink model to first 77 iterations.\n",
            "0:\tlearn: 1.0039426\ttest: 1.0037957\ttest1: 1.0046717\tbest: 1.0046717 (0)\ttotal: 446ms\tremaining: 22m 17s\n"
          ],
          "name": "stdout"
        },
        {
          "output_type": "stream",
          "text": [
            "\u001b[32m[I 2021-05-27 07:55:41,298]\u001b[0m Trial 6 finished with value: 0.6820812681519589 and parameters: {'random_seed': 570, 'learning_rate': 0.17452046541771907, 'reg_lambda': 0.08726261680296399, 'max_depth': 8, 'colsample_bylevel': 0.9636993649385135, 'subsample': 0.9263791452993542, 'min_child_samples': 62, 'max_bin': 461}. Best is trial 6 with value: 0.6820812681519589.\u001b[0m\n"
          ],
          "name": "stderr"
        },
        {
          "output_type": "stream",
          "text": [
            "Stopped by overfitting detector  (100 iterations wait)\n",
            "\n",
            "bestTest = 0.6820812682\n",
            "bestIteration = 74\n",
            "\n",
            "Shrink model to first 75 iterations.\n",
            "0:\tlearn: 1.0078006\ttest: 1.0078006\ttest1: 1.0080667\tbest: 1.0080667 (0)\ttotal: 42ms\tremaining: 2m 5s\n",
            "200:\tlearn: 0.6973653\ttest: 0.4784797\ttest1: 0.6696242\tbest: 0.6692277 (139)\ttotal: 14s\tremaining: 3m 15s\n",
            "Stopped by overfitting detector  (100 iterations wait)\n",
            "\n",
            "bestTest = 0.6692276939\n",
            "bestIteration = 139\n",
            "\n",
            "Shrink model to first 140 iterations.\n",
            "0:\tlearn: 0.9996760\ttest: 0.9995028\ttest1: 0.9996862\tbest: 0.9996862 (0)\ttotal: 99ms\tremaining: 4m 56s\n",
            "Stopped by overfitting detector  (100 iterations wait)\n",
            "\n",
            "bestTest = 0.684767958\n",
            "bestIteration = 85\n",
            "\n",
            "Shrink model to first 86 iterations.\n",
            "0:\tlearn: 1.0001418\ttest: 1.0002493\ttest1: 0.9991975\tbest: 0.9991975 (0)\ttotal: 116ms\tremaining: 5m 48s\n",
            "Stopped by overfitting detector  (100 iterations wait)\n",
            "\n",
            "bestTest = 0.6844272049\n",
            "bestIteration = 97\n",
            "\n",
            "Shrink model to first 98 iterations.\n",
            "0:\tlearn: 0.9997413\ttest: 1.0001555\ttest1: 1.0003115\tbest: 1.0003115 (0)\ttotal: 97.3ms\tremaining: 4m 51s\n",
            "200:\tlearn: 0.6938163\ttest: 0.4697120\ttest1: 0.6753405\tbest: 0.6738649 (106)\ttotal: 14.5s\tremaining: 3m 21s\n",
            "Stopped by overfitting detector  (100 iterations wait)\n",
            "\n",
            "bestTest = 0.6738648981\n",
            "bestIteration = 106\n",
            "\n",
            "Shrink model to first 107 iterations.\n",
            "0:\tlearn: 0.9995297\ttest: 0.9994218\ttest1: 1.0002715\tbest: 1.0002715 (0)\ttotal: 99.5ms\tremaining: 4m 58s\n",
            "200:\tlearn: 0.6934196\ttest: 0.4735100\ttest1: 0.6834877\tbest: 0.6824782 (140)\ttotal: 14.3s\tremaining: 3m 18s\n"
          ],
          "name": "stdout"
        },
        {
          "output_type": "stream",
          "text": [
            "\u001b[32m[I 2021-05-27 07:57:00,081]\u001b[0m Trial 7 finished with value: 0.6824782186431196 and parameters: {'random_seed': 92, 'learning_rate': 0.18442474755303923, 'reg_lambda': 0.0040704655496755365, 'max_depth': 4, 'colsample_bylevel': 0.6332063738136893, 'subsample': 0.4899443222417271, 'min_child_samples': 84, 'max_bin': 179}. Best is trial 6 with value: 0.6820812681519589.\u001b[0m\n"
          ],
          "name": "stderr"
        },
        {
          "output_type": "stream",
          "text": [
            "Stopped by overfitting detector  (100 iterations wait)\n",
            "\n",
            "bestTest = 0.6824782186\n",
            "bestIteration = 140\n",
            "\n",
            "Shrink model to first 141 iterations.\n",
            "0:\tlearn: 0.8846677\ttest: 0.8855391\ttest1: 0.8853039\tbest: 0.8853039 (0)\ttotal: 260ms\tremaining: 12m 59s\n",
            "Stopped by overfitting detector  (100 iterations wait)\n",
            "\n",
            "bestTest = 0.6828756415\n",
            "bestIteration = 9\n",
            "\n",
            "Shrink model to first 10 iterations.\n",
            "0:\tlearn: 0.8824137\ttest: 0.8828879\ttest1: 0.8833312\tbest: 0.8833312 (0)\ttotal: 304ms\tremaining: 15m 11s\n",
            "Stopped by overfitting detector  (100 iterations wait)\n",
            "\n",
            "bestTest = 0.6952849509\n",
            "bestIteration = 10\n",
            "\n",
            "Shrink model to first 11 iterations.\n",
            "0:\tlearn: 0.8831803\ttest: 0.8838784\ttest1: 0.8811270\tbest: 0.8811270 (0)\ttotal: 309ms\tremaining: 15m 27s\n",
            "Stopped by overfitting detector  (100 iterations wait)\n",
            "\n",
            "bestTest = 0.696759434\n",
            "bestIteration = 15\n",
            "\n",
            "Shrink model to first 16 iterations.\n",
            "0:\tlearn: 0.8824212\ttest: 0.8830437\ttest1: 0.8832926\tbest: 0.8832926 (0)\ttotal: 317ms\tremaining: 15m 51s\n",
            "Stopped by overfitting detector  (100 iterations wait)\n",
            "\n",
            "bestTest = 0.6771991285\n",
            "bestIteration = 16\n",
            "\n",
            "Shrink model to first 17 iterations.\n",
            "0:\tlearn: 0.8806177\ttest: 0.8818834\ttest1: 0.8841549\tbest: 0.8841549 (0)\ttotal: 294ms\tremaining: 14m 40s\n"
          ],
          "name": "stdout"
        },
        {
          "output_type": "stream",
          "text": [
            "\u001b[32m[I 2021-05-27 07:59:36,577]\u001b[0m Trial 8 finished with value: 0.6934137681165159 and parameters: {'random_seed': 293, 'learning_rate': 0.49299951401084113, 'reg_lambda': 0.01268318883848639, 'max_depth': 9, 'colsample_bylevel': 0.44473038620786254, 'subsample': 0.9908208556203622, 'min_child_samples': 79, 'max_bin': 100}. Best is trial 6 with value: 0.6820812681519589.\u001b[0m\n"
          ],
          "name": "stderr"
        },
        {
          "output_type": "stream",
          "text": [
            "Stopped by overfitting detector  (100 iterations wait)\n",
            "\n",
            "bestTest = 0.6934137681\n",
            "bestIteration = 12\n",
            "\n",
            "Shrink model to first 13 iterations.\n",
            "0:\tlearn: 0.8341670\ttest: 0.8341670\ttest1: 0.8345060\tbest: 0.8345060 (0)\ttotal: 46.5ms\tremaining: 2m 19s\n",
            "Stopped by overfitting detector  (100 iterations wait)\n",
            "\n",
            "bestTest = 0.6797771618\n",
            "bestIteration = 11\n",
            "\n",
            "Shrink model to first 12 iterations.\n",
            "0:\tlearn: 0.8341131\ttest: 0.8341131\ttest1: 0.8347515\tbest: 0.8347515 (0)\ttotal: 56.6ms\tremaining: 2m 49s\n",
            "Stopped by overfitting detector  (100 iterations wait)\n",
            "\n",
            "bestTest = 0.7052508252\n",
            "bestIteration = 14\n",
            "\n",
            "Shrink model to first 15 iterations.\n",
            "0:\tlearn: 0.8351490\ttest: 0.8351490\ttest1: 0.8309725\tbest: 0.8309725 (0)\ttotal: 48.7ms\tremaining: 2m 25s\n",
            "Stopped by overfitting detector  (100 iterations wait)\n",
            "\n",
            "bestTest = 0.7036076558\n",
            "bestIteration = 4\n",
            "\n",
            "Shrink model to first 5 iterations.\n",
            "0:\tlearn: 0.8340711\ttest: 0.8340711\ttest1: 0.8343843\tbest: 0.8343843 (0)\ttotal: 48.5ms\tremaining: 2m 25s\n",
            "Stopped by overfitting detector  (100 iterations wait)\n",
            "\n",
            "bestTest = 0.6853635191\n",
            "bestIteration = 8\n",
            "\n",
            "Shrink model to first 9 iterations.\n",
            "0:\tlearn: 0.8334895\ttest: 0.8334895\ttest1: 0.8365761\tbest: 0.8365761 (0)\ttotal: 46.7ms\tremaining: 2m 20s\n"
          ],
          "name": "stdout"
        },
        {
          "output_type": "stream",
          "text": [
            "\u001b[32m[I 2021-05-27 08:01:39,779]\u001b[0m Trial 9 finished with value: 0.6972192108798648 and parameters: {'random_seed': 5, 'learning_rate': 0.7357606713248024, 'reg_lambda': 0.0636171638777121, 'max_depth': 8, 'colsample_bylevel': 0.8627622080115674, 'subsample': 0.35183125621386324, 'min_child_samples': 39, 'max_bin': 58}. Best is trial 6 with value: 0.6820812681519589.\u001b[0m\n"
          ],
          "name": "stderr"
        },
        {
          "output_type": "stream",
          "text": [
            "Stopped by overfitting detector  (100 iterations wait)\n",
            "\n",
            "bestTest = 0.6972192109\n",
            "bestIteration = 11\n",
            "\n",
            "Shrink model to first 12 iterations.\n",
            "Best Score: 0.6820812681519589\n",
            "Best trial: {'random_seed': 570, 'learning_rate': 0.17452046541771907, 'reg_lambda': 0.08726261680296399, 'max_depth': 8, 'colsample_bylevel': 0.9636993649385135, 'subsample': 0.9263791452993542, 'min_child_samples': 62, 'max_bin': 461}\n"
          ],
          "name": "stdout"
        }
      ]
    },
    {
      "cell_type": "code",
      "metadata": {
        "id": "oQK9SLkVEbHA"
      },
      "source": [
        "submit.iloc[:,1:] = sub"
      ],
      "execution_count": 48,
      "outputs": []
    },
    {
      "cell_type": "code",
      "metadata": {
        "colab": {
          "base_uri": "https://localhost:8080/",
          "height": 431
        },
        "id": "twnZ1vjDEk_m",
        "outputId": "aeae817a-452e-4d11-c183-d6e06dc2637c"
      },
      "source": [
        "submit = submit.set_index('index')\n",
        "submit"
      ],
      "execution_count": 50,
      "outputs": [
        {
          "output_type": "execute_result",
          "data": {
            "text/html": [
              "<div>\n",
              "<style scoped>\n",
              "    .dataframe tbody tr th:only-of-type {\n",
              "        vertical-align: middle;\n",
              "    }\n",
              "\n",
              "    .dataframe tbody tr th {\n",
              "        vertical-align: top;\n",
              "    }\n",
              "\n",
              "    .dataframe thead th {\n",
              "        text-align: right;\n",
              "    }\n",
              "</style>\n",
              "<table border=\"1\" class=\"dataframe\">\n",
              "  <thead>\n",
              "    <tr style=\"text-align: right;\">\n",
              "      <th></th>\n",
              "      <th>0</th>\n",
              "      <th>1</th>\n",
              "      <th>2</th>\n",
              "    </tr>\n",
              "    <tr>\n",
              "      <th>index</th>\n",
              "      <th></th>\n",
              "      <th></th>\n",
              "      <th></th>\n",
              "    </tr>\n",
              "  </thead>\n",
              "  <tbody>\n",
              "    <tr>\n",
              "      <th>26457</th>\n",
              "      <td>0.139701</td>\n",
              "      <td>0.162992</td>\n",
              "      <td>0.697306</td>\n",
              "    </tr>\n",
              "    <tr>\n",
              "      <th>26458</th>\n",
              "      <td>0.305474</td>\n",
              "      <td>0.223811</td>\n",
              "      <td>0.470715</td>\n",
              "    </tr>\n",
              "    <tr>\n",
              "      <th>26459</th>\n",
              "      <td>0.041345</td>\n",
              "      <td>0.076460</td>\n",
              "      <td>0.882195</td>\n",
              "    </tr>\n",
              "    <tr>\n",
              "      <th>26460</th>\n",
              "      <td>0.058680</td>\n",
              "      <td>0.087882</td>\n",
              "      <td>0.853438</td>\n",
              "    </tr>\n",
              "    <tr>\n",
              "      <th>26461</th>\n",
              "      <td>0.085510</td>\n",
              "      <td>0.218988</td>\n",
              "      <td>0.695502</td>\n",
              "    </tr>\n",
              "    <tr>\n",
              "      <th>...</th>\n",
              "      <td>...</td>\n",
              "      <td>...</td>\n",
              "      <td>...</td>\n",
              "    </tr>\n",
              "    <tr>\n",
              "      <th>36452</th>\n",
              "      <td>0.073876</td>\n",
              "      <td>0.212621</td>\n",
              "      <td>0.713503</td>\n",
              "    </tr>\n",
              "    <tr>\n",
              "      <th>36453</th>\n",
              "      <td>0.131030</td>\n",
              "      <td>0.377741</td>\n",
              "      <td>0.491229</td>\n",
              "    </tr>\n",
              "    <tr>\n",
              "      <th>36454</th>\n",
              "      <td>0.057403</td>\n",
              "      <td>0.113585</td>\n",
              "      <td>0.829012</td>\n",
              "    </tr>\n",
              "    <tr>\n",
              "      <th>36455</th>\n",
              "      <td>0.153802</td>\n",
              "      <td>0.306858</td>\n",
              "      <td>0.539340</td>\n",
              "    </tr>\n",
              "    <tr>\n",
              "      <th>36456</th>\n",
              "      <td>0.069450</td>\n",
              "      <td>0.403538</td>\n",
              "      <td>0.527012</td>\n",
              "    </tr>\n",
              "  </tbody>\n",
              "</table>\n",
              "<p>10000 rows × 3 columns</p>\n",
              "</div>"
            ],
            "text/plain": [
              "              0         1         2\n",
              "index                              \n",
              "26457  0.139701  0.162992  0.697306\n",
              "26458  0.305474  0.223811  0.470715\n",
              "26459  0.041345  0.076460  0.882195\n",
              "26460  0.058680  0.087882  0.853438\n",
              "26461  0.085510  0.218988  0.695502\n",
              "...         ...       ...       ...\n",
              "36452  0.073876  0.212621  0.713503\n",
              "36453  0.131030  0.377741  0.491229\n",
              "36454  0.057403  0.113585  0.829012\n",
              "36455  0.153802  0.306858  0.539340\n",
              "36456  0.069450  0.403538  0.527012\n",
              "\n",
              "[10000 rows x 3 columns]"
            ]
          },
          "metadata": {
            "tags": []
          },
          "execution_count": 50
        }
      ]
    },
    {
      "cell_type": "code",
      "metadata": {
        "id": "nnzmjCykErt8"
      },
      "source": [
        "submit.to_csv('/content/drive/MyDrive/dataset/Dacon/대회/신용카드 사용자 연체 예측 AI 경진대회/2021-05-27 submit1.csv')"
      ],
      "execution_count": 52,
      "outputs": []
    }
  ]
}