{
  "nbformat": 4,
  "nbformat_minor": 0,
  "metadata": {
    "colab": {
      "name": "Dacon_FIFA.ipynb",
      "provenance": [],
      "mount_file_id": "1KwaTsAVgKtF2kKr0jsl2CG0lxs0Ad1DW",
      "authorship_tag": "ABX9TyO1iFJJvzm7fCE/hqAyDw4f",
      "include_colab_link": true
    },
    "kernelspec": {
      "name": "python3",
      "display_name": "Python 3"
    },
    "language_info": {
      "name": "python"
    }
  },
  "cells": [
    {
      "cell_type": "markdown",
      "metadata": {
        "id": "view-in-github",
        "colab_type": "text"
      },
      "source": [
        "<a href=\"https://colab.research.google.com/github/O-Kpy/Dacon/blob/main/Dacon_FIFA.ipynb\" target=\"_parent\"><img src=\"https://colab.research.google.com/assets/colab-badge.svg\" alt=\"Open In Colab\"/></a>"
      ]
    },
    {
      "cell_type": "code",
      "metadata": {
        "id": "87i6yNDe7mDJ"
      },
      "source": [
        "import pandas as pd\n",
        "import numpy as np\n",
        "import matplotlib.pyplot as plt\n",
        "%matplotlib inline\n",
        "import seaborn as sns\n",
        "import warnings\n",
        "warnings.filterwarnings('ignore')\n",
        "from scipy import stats\n",
        "from scipy.stats import skew\n",
        "from scipy.special import boxcox1p\n",
        "from scipy.stats import boxcox_normmax"
      ],
      "execution_count": 37,
      "outputs": []
    },
    {
      "cell_type": "code",
      "metadata": {
        "colab": {
          "base_uri": "https://localhost:8080/"
        },
        "id": "UdWVIS_U8ADc",
        "outputId": "b216400b-d1f9-4de2-a699-482eb3c1db58"
      },
      "source": [
        "train = pd.read_csv('/content/drive/MyDrive/dataset/Dacon/연습/FIFA/FIFA_train.csv')\n",
        "test = pd.read_csv('/content/drive/MyDrive/dataset/Dacon/연습/FIFA/FIFA_test.csv')\n",
        "submit = pd.read_csv('/content/drive/MyDrive/dataset/Dacon/연습/FIFA/submission.csv')\n",
        "train.shape, test.shape"
      ],
      "execution_count": 78,
      "outputs": [
        {
          "output_type": "execute_result",
          "data": {
            "text/plain": [
              "((8932, 12), (3828, 11))"
            ]
          },
          "metadata": {
            "tags": []
          },
          "execution_count": 78
        }
      ]
    },
    {
      "cell_type": "code",
      "metadata": {
        "id": "04ZUkYW38PYm"
      },
      "source": [
        "data = pd.concat([train.drop(columns=['id']), test.drop(columns=['id'])])"
      ],
      "execution_count": 79,
      "outputs": []
    },
    {
      "cell_type": "code",
      "metadata": {
        "colab": {
          "base_uri": "https://localhost:8080/",
          "height": 542
        },
        "id": "63qeGLIX9Gqa",
        "outputId": "446ce8b7-3788-4c21-85f2-cd92711f94ab"
      },
      "source": [
        "plt.figure(figsize=(12,8))\n",
        "sns.boxenplot(x='prefer_foot', y='value', data=data)\n",
        "plt.title('PF vs Value', fontsize=15, pad=15, fontweight='bold')"
      ],
      "execution_count": 16,
      "outputs": [
        {
          "output_type": "execute_result",
          "data": {
            "text/plain": [
              "Text(0.5, 1.0, 'PF vs Value')"
            ]
          },
          "metadata": {
            "tags": []
          },
          "execution_count": 16
        },
        {
          "output_type": "display_data",
          "data": {
            "image/png": "[encoded data removed]",
            "text/plain": [
              "<Figure size 864x576 with 1 Axes>"
            ]
          },
          "metadata": {
            "tags": [],
            "needs_background": "light"
          }
        }
      ]
    },
    {
      "cell_type": "code",
      "metadata": {
        "colab": {
          "base_uri": "https://localhost:8080/",
          "height": 417
        },
        "id": "DSpkv1_B-67o",
        "outputId": "4223c34d-65db-4b79-8ea9-ea3daa504b9c"
      },
      "source": [
        "data"
      ],
      "execution_count": 50,
      "outputs": [
        {
          "output_type": "execute_result",
          "data": {
            "text/html": [
              "<div>\n",
              "<style scoped>\n",
              "    .dataframe tbody tr th:only-of-type {\n",
              "        vertical-align: middle;\n",
              "    }\n",
              "\n",
              "    .dataframe tbody tr th {\n",
              "        vertical-align: top;\n",
              "    }\n",
              "\n",
              "    .dataframe thead th {\n",
              "        text-align: right;\n",
              "    }\n",
              "</style>\n",
              "<table border=\"1\" class=\"dataframe\">\n",
              "  <thead>\n",
              "    <tr style=\"text-align: right;\">\n",
              "      <th></th>\n",
              "      <th>name</th>\n",
              "      <th>age</th>\n",
              "      <th>continent</th>\n",
              "      <th>contract_until</th>\n",
              "      <th>position</th>\n",
              "      <th>prefer_foot</th>\n",
              "      <th>reputation</th>\n",
              "      <th>stat_overall</th>\n",
              "      <th>stat_potential</th>\n",
              "      <th>stat_skill_moves</th>\n",
              "      <th>value</th>\n",
              "      <th>is_european</th>\n",
              "      <th>age_bins</th>\n",
              "    </tr>\n",
              "  </thead>\n",
              "  <tbody>\n",
              "    <tr>\n",
              "      <th>0</th>\n",
              "      <td>L. Messi</td>\n",
              "      <td>31</td>\n",
              "      <td>south america</td>\n",
              "      <td>2021</td>\n",
              "      <td>ST</td>\n",
              "      <td>left</td>\n",
              "      <td>5.0</td>\n",
              "      <td>94</td>\n",
              "      <td>94</td>\n",
              "      <td>4.0</td>\n",
              "      <td>110500000.0</td>\n",
              "      <td>False</td>\n",
              "      <td>old</td>\n",
              "    </tr>\n",
              "    <tr>\n",
              "      <th>1</th>\n",
              "      <td>De Gea</td>\n",
              "      <td>27</td>\n",
              "      <td>europe</td>\n",
              "      <td>2020</td>\n",
              "      <td>GK</td>\n",
              "      <td>right</td>\n",
              "      <td>4.0</td>\n",
              "      <td>91</td>\n",
              "      <td>93</td>\n",
              "      <td>1.0</td>\n",
              "      <td>72000000.0</td>\n",
              "      <td>True</td>\n",
              "      <td>middle</td>\n",
              "    </tr>\n",
              "    <tr>\n",
              "      <th>2</th>\n",
              "      <td>L. Suárez</td>\n",
              "      <td>31</td>\n",
              "      <td>south america</td>\n",
              "      <td>2021</td>\n",
              "      <td>ST</td>\n",
              "      <td>right</td>\n",
              "      <td>5.0</td>\n",
              "      <td>91</td>\n",
              "      <td>91</td>\n",
              "      <td>3.0</td>\n",
              "      <td>80000000.0</td>\n",
              "      <td>False</td>\n",
              "      <td>old</td>\n",
              "    </tr>\n",
              "    <tr>\n",
              "      <th>3</th>\n",
              "      <td>Sergio Ramos</td>\n",
              "      <td>32</td>\n",
              "      <td>europe</td>\n",
              "      <td>2020</td>\n",
              "      <td>DF</td>\n",
              "      <td>right</td>\n",
              "      <td>4.0</td>\n",
              "      <td>91</td>\n",
              "      <td>91</td>\n",
              "      <td>3.0</td>\n",
              "      <td>51000000.0</td>\n",
              "      <td>True</td>\n",
              "      <td>old</td>\n",
              "    </tr>\n",
              "    <tr>\n",
              "      <th>4</th>\n",
              "      <td>J. Oblak</td>\n",
              "      <td>25</td>\n",
              "      <td>europe</td>\n",
              "      <td>2021</td>\n",
              "      <td>GK</td>\n",
              "      <td>right</td>\n",
              "      <td>3.0</td>\n",
              "      <td>90</td>\n",
              "      <td>93</td>\n",
              "      <td>1.0</td>\n",
              "      <td>68000000.0</td>\n",
              "      <td>True</td>\n",
              "      <td>ealry</td>\n",
              "    </tr>\n",
              "    <tr>\n",
              "      <th>...</th>\n",
              "      <td>...</td>\n",
              "      <td>...</td>\n",
              "      <td>...</td>\n",
              "      <td>...</td>\n",
              "      <td>...</td>\n",
              "      <td>...</td>\n",
              "      <td>...</td>\n",
              "      <td>...</td>\n",
              "      <td>...</td>\n",
              "      <td>...</td>\n",
              "      <td>...</td>\n",
              "      <td>...</td>\n",
              "      <td>...</td>\n",
              "    </tr>\n",
              "    <tr>\n",
              "      <th>3823</th>\n",
              "      <td>R. Takae</td>\n",
              "      <td>20</td>\n",
              "      <td>asia</td>\n",
              "      <td>2021</td>\n",
              "      <td>MF</td>\n",
              "      <td>right</td>\n",
              "      <td>1.0</td>\n",
              "      <td>48</td>\n",
              "      <td>63</td>\n",
              "      <td>2.0</td>\n",
              "      <td>NaN</td>\n",
              "      <td>False</td>\n",
              "      <td>youth</td>\n",
              "    </tr>\n",
              "    <tr>\n",
              "      <th>3824</th>\n",
              "      <td>L. Wahlstedt</td>\n",
              "      <td>18</td>\n",
              "      <td>europe</td>\n",
              "      <td>2018</td>\n",
              "      <td>GK</td>\n",
              "      <td>right</td>\n",
              "      <td>1.0</td>\n",
              "      <td>48</td>\n",
              "      <td>65</td>\n",
              "      <td>1.0</td>\n",
              "      <td>NaN</td>\n",
              "      <td>True</td>\n",
              "      <td>youth</td>\n",
              "    </tr>\n",
              "    <tr>\n",
              "      <th>3825</th>\n",
              "      <td>Y. Góez</td>\n",
              "      <td>18</td>\n",
              "      <td>south america</td>\n",
              "      <td>2021</td>\n",
              "      <td>MF</td>\n",
              "      <td>right</td>\n",
              "      <td>1.0</td>\n",
              "      <td>48</td>\n",
              "      <td>65</td>\n",
              "      <td>2.0</td>\n",
              "      <td>NaN</td>\n",
              "      <td>False</td>\n",
              "      <td>youth</td>\n",
              "    </tr>\n",
              "    <tr>\n",
              "      <th>3826</th>\n",
              "      <td>A. Kaltner</td>\n",
              "      <td>18</td>\n",
              "      <td>europe</td>\n",
              "      <td>2020</td>\n",
              "      <td>ST</td>\n",
              "      <td>right</td>\n",
              "      <td>1.0</td>\n",
              "      <td>47</td>\n",
              "      <td>61</td>\n",
              "      <td>2.0</td>\n",
              "      <td>NaN</td>\n",
              "      <td>True</td>\n",
              "      <td>youth</td>\n",
              "    </tr>\n",
              "    <tr>\n",
              "      <th>3827</th>\n",
              "      <td>K. Fujikawa</td>\n",
              "      <td>19</td>\n",
              "      <td>asia</td>\n",
              "      <td>2021</td>\n",
              "      <td>MF</td>\n",
              "      <td>right</td>\n",
              "      <td>1.0</td>\n",
              "      <td>47</td>\n",
              "      <td>61</td>\n",
              "      <td>2.0</td>\n",
              "      <td>NaN</td>\n",
              "      <td>False</td>\n",
              "      <td>youth</td>\n",
              "    </tr>\n",
              "  </tbody>\n",
              "</table>\n",
              "<p>12760 rows × 13 columns</p>\n",
              "</div>"
            ],
            "text/plain": [
              "              name  age      continent  ...        value is_european age_bins\n",
              "0         L. Messi   31  south america  ...  110500000.0       False      old\n",
              "1           De Gea   27         europe  ...   72000000.0        True   middle\n",
              "2        L. Suárez   31  south america  ...   80000000.0       False      old\n",
              "3     Sergio Ramos   32         europe  ...   51000000.0        True      old\n",
              "4         J. Oblak   25         europe  ...   68000000.0        True    ealry\n",
              "...            ...  ...            ...  ...          ...         ...      ...\n",
              "3823      R. Takae   20           asia  ...          NaN       False    youth\n",
              "3824  L. Wahlstedt   18         europe  ...          NaN        True    youth\n",
              "3825       Y. Góez   18  south america  ...          NaN       False    youth\n",
              "3826    A. Kaltner   18         europe  ...          NaN        True    youth\n",
              "3827   K. Fujikawa   19           asia  ...          NaN       False    youth\n",
              "\n",
              "[12760 rows x 13 columns]"
            ]
          },
          "metadata": {
            "tags": []
          },
          "execution_count": 50
        }
      ]
    },
    {
      "cell_type": "code",
      "metadata": {
        "id": "dV2khBcq-D92"
      },
      "source": [
        "data['is_european'] = data['continent'].apply(lambda x: x=='europe')"
      ],
      "execution_count": 80,
      "outputs": []
    },
    {
      "cell_type": "code",
      "metadata": {
        "colab": {
          "base_uri": "https://localhost:8080/",
          "height": 542
        },
        "id": "giTgw-fKBrp5",
        "outputId": "9d379a2c-beaa-4a8a-db42-e814e0420ddf"
      },
      "source": [
        "plt.figure(figsize=(12,8))\n",
        "sns.boxenplot(x='is_european', y='value', data=data)\n",
        "plt.title('PF vs Value', fontsize=15, pad=15, fontweight='bold')"
      ],
      "execution_count": 34,
      "outputs": [
        {
          "output_type": "execute_result",
          "data": {
            "text/plain": [
              "Text(0.5, 1.0, 'PF vs Value')"
            ]
          },
          "metadata": {
            "tags": []
          },
          "execution_count": 34
        },
        {
          "output_type": "display_data",
          "data": {
            "image/png": "[encoded data removed]",
            "text/plain": [
              "<Figure size 864x576 with 1 Axes>"
            ]
          },
          "metadata": {
            "tags": [],
            "needs_background": "light"
          }
        }
      ]
    },
    {
      "cell_type": "code",
      "metadata": {
        "id": "dqBlBixfBzMP"
      },
      "source": [
        "bins = ['youth', 'young', 'ealry', 'middle', 'late', 'old']\n",
        "data['age_bins'] = pd.qcut(data['age'], 6, labels=bins)"
      ],
      "execution_count": 81,
      "outputs": []
    },
    {
      "cell_type": "code",
      "metadata": {
        "id": "Tpv_tG_SC6cF"
      },
      "source": [
        "data['potential/overall'] = data['stat_potential']/data['stat_overall']"
      ],
      "execution_count": 82,
      "outputs": []
    },
    {
      "cell_type": "code",
      "metadata": {
        "id": "_c8vK1wxGnAf"
      },
      "source": [
        "for i in data.select_dtypes(exclude='object').columns:\n",
        "  if i in ['age_bins', 'value']:\n",
        "    continue\n",
        "  if data[i].skew() > 0.5:\n",
        "    data[i] = boxcox1p(data[i], boxcox_normmax(data[i]+1))"
      ],
      "execution_count": 83,
      "outputs": []
    },
    {
      "cell_type": "code",
      "metadata": {
        "colab": {
          "base_uri": "https://localhost:8080/"
        },
        "id": "MgeOBZDgDxu5",
        "outputId": "bf10805c-1e3c-43c4-d37d-83da35139a61"
      },
      "source": [
        "data['contract_until'].value_counts()"
      ],
      "execution_count": 58,
      "outputs": [
        {
          "output_type": "execute_result",
          "data": {
            "text/plain": [
              "2019            3309\n",
              "2021            3293\n",
              "2020            2923\n",
              "2022            1099\n",
              "2023             757\n",
              "Jun 30, 2019     710\n",
              "2018             482\n",
              "Dec 31, 2018      98\n",
              "May 31, 2019      33\n",
              "2024              14\n",
              "Jun 30, 2020      13\n",
              "Jan 31, 2019      12\n",
              "2025               7\n",
              "Jan 1, 2019        3\n",
              "May 31, 2020       2\n",
              "2026               2\n",
              "Jun 1, 2019        1\n",
              "Jan 12, 2019       1\n",
              "Dec 31, 2019       1\n",
              "Name: contract_until, dtype: int64"
            ]
          },
          "metadata": {
            "tags": []
          },
          "execution_count": 58
        }
      ]
    },
    {
      "cell_type": "code",
      "metadata": {
        "id": "VSgSSUvEGUDa"
      },
      "source": [
        "data = pd.get_dummies(data, columns=['age_bins'])"
      ],
      "execution_count": 84,
      "outputs": []
    },
    {
      "cell_type": "code",
      "metadata": {
        "id": "XXIUD45fEYga"
      },
      "source": [
        "x_train = data.loc[data.value.notnull()].drop(columns=['name', 'contract_until', 'value'])\n",
        "y_train = data.loc[data.value.notnull()]['value']\n",
        "x_test = data.loc[data.value.isnull()].drop(columns=['name', 'contract_until', 'value'])"
      ],
      "execution_count": 85,
      "outputs": []
    },
    {
      "cell_type": "code",
      "metadata": {
        "colab": {
          "base_uri": "https://localhost:8080/"
        },
        "id": "GAqrEKHkHJRq",
        "outputId": "0bd2d91e-00db-4e35-e63a-df6ce21ab095"
      },
      "source": [
        "pip install catboost"
      ],
      "execution_count": 90,
      "outputs": [
        {
          "output_type": "stream",
          "text": [
            "Collecting catboost\n",
            "\u001b[?25l  Downloading https://files.pythonhosted.org/packages/5a/41/24e14322b9986cf72a8763e0a0a69cc256cf963cf9502c8f0044a62c1ae8/catboost-0.26-cp37-none-manylinux1_x86_64.whl (69.2MB)\n",
            "\u001b[K     |████████████████████████████████| 69.2MB 42kB/s \n",
            "\u001b[?25hRequirement already satisfied: scipy in /usr/local/lib/python3.7/dist-packages (from catboost) (1.4.1)\n",
            "Requirement already satisfied: graphviz in /usr/local/lib/python3.7/dist-packages (from catboost) (0.10.1)\n",
            "Requirement already satisfied: pandas>=0.24.0 in /usr/local/lib/python3.7/dist-packages (from catboost) (1.1.5)\n",
            "Requirement already satisfied: plotly in /usr/local/lib/python3.7/dist-packages (from catboost) (4.4.1)\n",
            "Requirement already satisfied: numpy>=1.16.0 in /usr/local/lib/python3.7/dist-packages (from catboost) (1.19.5)\n",
            "Requirement already satisfied: six in /usr/local/lib/python3.7/dist-packages (from catboost) (1.15.0)\n",
            "Requirement already satisfied: matplotlib in /usr/local/lib/python3.7/dist-packages (from catboost) (3.2.2)\n",
            "Requirement already satisfied: python-dateutil>=2.7.3 in /usr/local/lib/python3.7/dist-packages (from pandas>=0.24.0->catboost) (2.8.1)\n",
            "Requirement already satisfied: pytz>=2017.2 in /usr/local/lib/python3.7/dist-packages (from pandas>=0.24.0->catboost) (2018.9)\n",
            "Requirement already satisfied: retrying>=1.3.3 in /usr/local/lib/python3.7/dist-packages (from plotly->catboost) (1.3.3)\n",
            "Requirement already satisfied: pyparsing!=2.0.4,!=2.1.2,!=2.1.6,>=2.0.1 in /usr/local/lib/python3.7/dist-packages (from matplotlib->catboost) (2.4.7)\n",
            "Requirement already satisfied: kiwisolver>=1.0.1 in /usr/local/lib/python3.7/dist-packages (from matplotlib->catboost) (1.3.1)\n",
            "Requirement already satisfied: cycler>=0.10 in /usr/local/lib/python3.7/dist-packages (from matplotlib->catboost) (0.10.0)\n",
            "Installing collected packages: catboost\n",
            "Successfully installed catboost-0.26\n"
          ],
          "name": "stdout"
        }
      ]
    },
    {
      "cell_type": "code",
      "metadata": {
        "colab": {
          "base_uri": "https://localhost:8080/"
        },
        "id": "aTqkG-0IHXyQ",
        "outputId": "3235df52-3623-4b63-b3bc-153999c5d7cd"
      },
      "source": [
        "pip install optuna"
      ],
      "execution_count": 91,
      "outputs": [
        {
          "output_type": "stream",
          "text": [
            "Collecting optuna\n",
            "\u001b[?25l  Downloading https://files.pythonhosted.org/packages/1a/18/b49ca91cf592747e19f2d333c2a86cd7c81895b922a5a09adf6335471576/optuna-2.8.0-py3-none-any.whl (301kB)\n",
            "\u001b[K     |████████████████████████████████| 307kB 13.6MB/s \n",
            "\u001b[?25hRequirement already satisfied: packaging>=20.0 in /usr/local/lib/python3.7/dist-packages (from optuna) (20.9)\n",
            "Collecting cliff\n",
            "\u001b[?25l  Downloading https://files.pythonhosted.org/packages/87/11/aea1cacbd4cf8262809c4d6f95dcb3f2802594de1f51c5bd454d69bf15c5/cliff-3.8.0-py3-none-any.whl (80kB)\n",
            "\u001b[K     |████████████████████████████████| 81kB 7.0MB/s \n",
            "\u001b[?25hRequirement already satisfied: tqdm in /usr/local/lib/python3.7/dist-packages (from optuna) (4.41.1)\n",
            "Collecting colorlog\n",
            "  Downloading https://files.pythonhosted.org/packages/32/e6/e9ddc6fa1104fda718338b341e4b3dc31cd8039ab29e52fc73b508515361/colorlog-5.0.1-py2.py3-none-any.whl\n",
            "Requirement already satisfied: scipy!=1.4.0 in /usr/local/lib/python3.7/dist-packages (from optuna) (1.4.1)\n",
            "Collecting alembic\n",
            "\u001b[?25l  Downloading https://files.pythonhosted.org/packages/d5/80/ef186e599a57d0e4cb78fc76e0bfc2e6953fa9716b2a5cf2de0117ed8eb5/alembic-1.6.5-py2.py3-none-any.whl (164kB)\n",
            "\u001b[K     |████████████████████████████████| 174kB 23.8MB/s \n",
            "\u001b[?25hRequirement already satisfied: numpy in /usr/local/lib/python3.7/dist-packages (from optuna) (1.19.5)\n",
            "Collecting cmaes>=0.8.2\n",
            "  Downloading https://files.pythonhosted.org/packages/01/1f/43b01223a0366171f474320c6e966c39a11587287f098a5f09809b45e05f/cmaes-0.8.2-py3-none-any.whl\n",
            "Requirement already satisfied: sqlalchemy>=1.1.0 in /usr/local/lib/python3.7/dist-packages (from optuna) (1.4.18)\n",
            "Requirement already satisfied: pyparsing>=2.0.2 in /usr/local/lib/python3.7/dist-packages (from packaging>=20.0->optuna) (2.4.7)\n",
            "Requirement already satisfied: PyYAML>=3.12 in /usr/local/lib/python3.7/dist-packages (from cliff->optuna) (3.13)\n",
            "Collecting stevedore>=2.0.1\n",
            "\u001b[?25l  Downloading https://files.pythonhosted.org/packages/d4/49/b602307aeac3df3384ff1fcd05da9c0376c622a6c48bb5325f28ab165b57/stevedore-3.3.0-py3-none-any.whl (49kB)\n",
            "\u001b[K     |████████████████████████████████| 51kB 4.7MB/s \n",
            "\u001b[?25hRequirement already satisfied: PrettyTable>=0.7.2 in /usr/local/lib/python3.7/dist-packages (from cliff->optuna) (2.1.0)\n",
            "Collecting pbr!=2.1.0,>=2.0.0\n",
            "\u001b[?25l  Downloading https://files.pythonhosted.org/packages/18/e0/1d4702dd81121d04a477c272d47ee5b6bc970d1a0990b11befa275c55cf2/pbr-5.6.0-py2.py3-none-any.whl (111kB)\n",
            "\u001b[K     |████████████████████████████████| 112kB 25.4MB/s \n",
            "\u001b[?25hCollecting cmd2>=1.0.0\n",
            "\u001b[?25l  Downloading https://files.pythonhosted.org/packages/e3/6a/e929ec70ca05c5962f6541ef29fb9c207dd41f0f2333680fa39f44fa4357/cmd2-2.1.1-py3-none-any.whl (140kB)\n",
            "\u001b[K     |████████████████████████████████| 143kB 26.2MB/s \n",
            "\u001b[?25hCollecting python-editor>=0.3\n",
            "  Downloading https://files.pythonhosted.org/packages/c6/d3/201fc3abe391bbae6606e6f1d598c15d367033332bd54352b12f35513717/python_editor-1.0.4-py3-none-any.whl\n",
            "Collecting Mako\n",
            "\u001b[?25l  Downloading https://files.pythonhosted.org/packages/f3/54/dbc07fbb20865d3b78fdb7cf7fa713e2cba4f87f71100074ef2dc9f9d1f7/Mako-1.1.4-py2.py3-none-any.whl (75kB)\n",
            "\u001b[K     |████████████████████████████████| 81kB 7.5MB/s \n",
            "\u001b[?25hRequirement already satisfied: python-dateutil in /usr/local/lib/python3.7/dist-packages (from alembic->optuna) (2.8.1)\n",
            "Requirement already satisfied: greenlet!=0.4.17; python_version >= \"3\" in /usr/local/lib/python3.7/dist-packages (from sqlalchemy>=1.1.0->optuna) (1.1.0)\n",
            "Requirement already satisfied: importlib-metadata; python_version < \"3.8\" in /usr/local/lib/python3.7/dist-packages (from sqlalchemy>=1.1.0->optuna) (4.5.0)\n",
            "Requirement already satisfied: wcwidth in /usr/local/lib/python3.7/dist-packages (from PrettyTable>=0.7.2->cliff->optuna) (0.2.5)\n",
            "Requirement already satisfied: attrs>=16.3.0 in /usr/local/lib/python3.7/dist-packages (from cmd2>=1.0.0->cliff->optuna) (21.2.0)\n",
            "Collecting pyperclip>=1.6\n",
            "  Downloading https://files.pythonhosted.org/packages/a7/2c/4c64579f847bd5d539803c8b909e54ba087a79d01bb3aba433a95879a6c5/pyperclip-1.8.2.tar.gz\n",
            "Requirement already satisfied: typing-extensions; python_version < \"3.8\" in /usr/local/lib/python3.7/dist-packages (from cmd2>=1.0.0->cliff->optuna) (3.7.4.3)\n",
            "Collecting colorama>=0.3.7\n",
            "  Downloading https://files.pythonhosted.org/packages/44/98/5b86278fbbf250d239ae0ecb724f8572af1c91f4a11edf4d36a206189440/colorama-0.4.4-py2.py3-none-any.whl\n",
            "Requirement already satisfied: MarkupSafe>=0.9.2 in /usr/local/lib/python3.7/dist-packages (from Mako->alembic->optuna) (2.0.1)\n",
            "Requirement already satisfied: six>=1.5 in /usr/local/lib/python3.7/dist-packages (from python-dateutil->alembic->optuna) (1.15.0)\n",
            "Requirement already satisfied: zipp>=0.5 in /usr/local/lib/python3.7/dist-packages (from importlib-metadata; python_version < \"3.8\"->sqlalchemy>=1.1.0->optuna) (3.4.1)\n",
            "Building wheels for collected packages: pyperclip\n",
            "  Building wheel for pyperclip (setup.py) ... \u001b[?25l\u001b[?25hdone\n",
            "  Created wheel for pyperclip: filename=pyperclip-1.8.2-cp37-none-any.whl size=11136 sha256=81d1c07cd61d0f80a65dade14471efa6abfa08db376ee0d64117f1b1135e0f9e\n",
            "  Stored in directory: /root/.cache/pip/wheels/25/af/b8/3407109267803f4015e1ee2ff23be0c8c19ce4008665931ee1\n",
            "Successfully built pyperclip\n",
            "Installing collected packages: pbr, stevedore, pyperclip, colorama, cmd2, cliff, colorlog, python-editor, Mako, alembic, cmaes, optuna\n",
            "Successfully installed Mako-1.1.4 alembic-1.6.5 cliff-3.8.0 cmaes-0.8.2 cmd2-2.1.1 colorama-0.4.4 colorlog-5.0.1 optuna-2.8.0 pbr-5.6.0 pyperclip-1.8.2 python-editor-1.0.4 stevedore-3.3.0\n"
          ],
          "name": "stdout"
        }
      ]
    },
    {
      "cell_type": "code",
      "metadata": {
        "id": "fIBAUq4oHLDi"
      },
      "source": [
        "import catboost\n",
        "import lightgbm as lgbm\n",
        "import optuna\n",
        "from sklearn.model_selection import StratifiedKFold, KFold, cross_validate\n",
        "from sklearn.metrics import mean_squared_error"
      ],
      "execution_count": 92,
      "outputs": []
    },
    {
      "cell_type": "code",
      "metadata": {
        "colab": {
          "base_uri": "https://localhost:8080/"
        },
        "id": "1-A7gQYSHqR0",
        "outputId": "0a7d6fb0-5cf7-42f4-c6b9-52411865bf7d"
      },
      "source": [
        "kf = KFold(n_splits=7, shuffle=True, random_state=42)\n",
        "skf = StratifiedKFold(n_splits=5, shuffle=True, random_state=42)\n",
        "\n",
        "cat_features=x_train.select_dtypes(include='object')\n",
        "\n",
        "preds_cat = np.zeros((x_test.shape[0]))\n",
        "\n",
        "\n",
        "for i, (train_index, valid_index) in enumerate(skf.split(x_train, y_train)):\n",
        "  X_train, X_valid = x_train.iloc[train_index], x_train.iloc[valid_index]\n",
        "  Y_train, Y_valid = y_train.iloc[train_index], y_train.iloc[valid_index]\n",
        "\n",
        "  model_cat = catboost.CatBoostRegressor(learning_rate=0.22, loss_function='RMSE', cat_features=cat_features, n_estimators=3000, eval_metric='RMSE')\n",
        "  model_cat.fit(X_train, Y_train, eval_set=[(X_valid, Y_valid)], early_stopping_rounds=70, verbose=100)\n",
        "\n",
        "  preds_cat = model_cat.predict(x_test)"
      ],
      "execution_count": 103,
      "outputs": [
        {
          "output_type": "stream",
          "text": [
            "0:\tlearn: 4725313.5182432\ttest: 5425810.4618750\tbest: 5425810.4618750 (0)\ttotal: 4.96ms\tremaining: 14.9s\n",
            "100:\tlearn: 273415.0156839\ttest: 1111555.4450139\tbest: 1111555.4450139 (100)\ttotal: 422ms\tremaining: 12.1s\n",
            "200:\tlearn: 202827.7961248\ttest: 1098233.0867637\tbest: 1098233.0867637 (200)\ttotal: 858ms\tremaining: 11.9s\n",
            "300:\tlearn: 171769.1152177\ttest: 1092794.5814085\tbest: 1092794.5814085 (300)\ttotal: 1.28s\tremaining: 11.4s\n",
            "400:\tlearn: 154806.3882858\ttest: 1090304.0756136\tbest: 1089974.3928614 (392)\ttotal: 1.72s\tremaining: 11.1s\n",
            "Stopped by overfitting detector  (70 iterations wait)\n",
            "\n",
            "bestTest = 1089256.333\n",
            "bestIteration = 429\n",
            "\n",
            "Shrink model to first 430 iterations.\n",
            "0:\tlearn: 4883883.5404508\ttest: 4654578.5187223\tbest: 4654578.5187223 (0)\ttotal: 4.55ms\tremaining: 13.7s\n",
            "100:\tlearn: 286400.9820258\ttest: 707673.5057115\tbest: 707673.5057115 (100)\ttotal: 402ms\tremaining: 11.5s\n",
            "200:\tlearn: 202445.4980283\ttest: 691648.4910982\tbest: 690745.7398490 (175)\ttotal: 833ms\tremaining: 11.6s\n",
            "300:\tlearn: 171651.5027881\ttest: 681753.2387854\tbest: 680734.7258769 (289)\ttotal: 1.3s\tremaining: 11.7s\n",
            "400:\tlearn: 154739.1218366\ttest: 677889.3558077\tbest: 677420.8157618 (397)\ttotal: 1.72s\tremaining: 11.2s\n",
            "500:\tlearn: 142044.9609148\ttest: 674239.2948173\tbest: 673965.9226983 (493)\ttotal: 2.21s\tremaining: 11.1s\n",
            "600:\tlearn: 132323.6524573\ttest: 672686.4152564\tbest: 672514.9828704 (567)\ttotal: 2.66s\tremaining: 10.6s\n",
            "700:\tlearn: 125352.0069949\ttest: 671590.5461815\tbest: 671532.8079169 (691)\ttotal: 3.1s\tremaining: 10.2s\n",
            "Stopped by overfitting detector  (70 iterations wait)\n",
            "\n",
            "bestTest = 671082.0879\n",
            "bestIteration = 726\n",
            "\n",
            "Shrink model to first 727 iterations.\n",
            "0:\tlearn: 4855533.8860664\ttest: 4784766.1886112\tbest: 4784766.1886112 (0)\ttotal: 5.23ms\tremaining: 15.7s\n",
            "100:\tlearn: 290329.2567099\ttest: 525093.7616170\tbest: 523381.3640158 (96)\ttotal: 407ms\tremaining: 11.7s\n",
            "200:\tlearn: 199533.5666018\ttest: 495309.5818135\tbest: 495309.5818135 (200)\ttotal: 841ms\tremaining: 11.7s\n",
            "300:\tlearn: 165464.4401917\ttest: 494236.3749528\tbest: 491337.0231205 (233)\ttotal: 1.26s\tremaining: 11.3s\n",
            "Stopped by overfitting detector  (70 iterations wait)\n",
            "\n",
            "bestTest = 491337.0231\n",
            "bestIteration = 233\n",
            "\n",
            "Shrink model to first 234 iterations.\n",
            "0:\tlearn: 4912835.7396312\ttest: 4672378.8058785\tbest: 4672378.8058785 (0)\ttotal: 5.02ms\tremaining: 15.1s\n",
            "100:\tlearn: 308578.7011241\ttest: 414328.5416668\tbest: 414328.5416668 (100)\ttotal: 405ms\tremaining: 11.6s\n",
            "200:\tlearn: 219884.2139274\ttest: 360373.6850867\tbest: 360311.9280159 (198)\ttotal: 810ms\tremaining: 11.3s\n",
            "300:\tlearn: 184683.6260400\ttest: 351139.7862542\tbest: 351139.7862542 (300)\ttotal: 1.23s\tremaining: 11s\n",
            "400:\tlearn: 165790.7148051\ttest: 346123.8485613\tbest: 345903.4236374 (398)\ttotal: 1.64s\tremaining: 10.6s\n",
            "500:\tlearn: 152239.5693250\ttest: 344725.0778586\tbest: 344634.5954437 (496)\ttotal: 2.07s\tremaining: 10.3s\n",
            "Stopped by overfitting detector  (70 iterations wait)\n",
            "\n",
            "bestTest = 344340.0889\n",
            "bestIteration = 507\n",
            "\n",
            "Shrink model to first 508 iterations.\n",
            "0:\tlearn: 4896125.2039373\ttest: 4635313.4840560\tbest: 4635313.4840560 (0)\ttotal: 4.66ms\tremaining: 14s\n",
            "100:\tlearn: 294785.6375213\ttest: 562764.4703651\tbest: 562764.4703651 (100)\ttotal: 410ms\tremaining: 11.8s\n",
            "200:\tlearn: 215149.6847957\ttest: 520852.0156678\tbest: 520852.0156678 (200)\ttotal: 830ms\tremaining: 11.6s\n",
            "300:\tlearn: 180718.3272399\ttest: 513082.0948308\tbest: 512199.2480779 (268)\ttotal: 1.24s\tremaining: 11.1s\n",
            "400:\tlearn: 158818.4251658\ttest: 512838.5343009\tbest: 510336.2478093 (361)\ttotal: 1.67s\tremaining: 10.8s\n",
            "Stopped by overfitting detector  (70 iterations wait)\n",
            "\n",
            "bestTest = 510336.2478\n",
            "bestIteration = 361\n",
            "\n",
            "Shrink model to first 362 iterations.\n"
          ],
          "name": "stdout"
        }
      ]
    },
    {
      "cell_type": "code",
      "metadata": {
        "id": "n3wDBouzJBzI"
      },
      "source": [
        "submit = pd.read_csv('/content/drive/MyDrive/dataset/Dacon/연습/FIFA/submission.csv')\n",
        "submit['value'] = preds_cat\n",
        "submit = submit.set_index('id')\n",
        "submit.to_csv('/content/drive/MyDrive/dataset/Dacon/연습/FIFA/submit2.csv')"
      ],
      "execution_count": 105,
      "outputs": []
    }
  ]
}