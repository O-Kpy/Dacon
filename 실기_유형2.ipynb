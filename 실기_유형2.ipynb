{
  "nbformat": 4,
  "nbformat_minor": 0,
  "metadata": {
    "colab": {
      "name": "실기_유형2.ipynb",
      "provenance": [],
      "mount_file_id": "1SEBQzShEjeMmvSp7_B6DbNaKa3V_8rsA",
      "authorship_tag": "ABX9TyPSn5GXYsxpjGDyLjhkKpFd",
      "include_colab_link": true
    },
    "kernelspec": {
      "name": "python3",
      "display_name": "Python 3"
    },
    "language_info": {
      "name": "python"
    }
  },
  "cells": [
    {
      "cell_type": "markdown",
      "metadata": {
        "id": "view-in-github",
        "colab_type": "text"
      },
      "source": [
        "<a href=\"https://colab.research.google.com/github/O-Kpy/Dacon/blob/main/%EC%8B%A4%EA%B8%B0_%EC%9C%A0%ED%98%952.ipynb\" target=\"_parent\"><img src=\"https://colab.research.google.com/assets/colab-badge.svg\" alt=\"Open In Colab\"/></a>"
      ]
    },
    {
      "cell_type": "code",
      "metadata": {
        "id": "r6hzHwwA-Uia"
      },
      "source": [
        "import pandas as pd\n",
        "import numpy as np\n",
        "import matplotlib.pyplot as plt\n",
        "%matplotlib inline\n",
        "import seaborn as sns"
      ],
      "execution_count": 1,
      "outputs": []
    },
    {
      "cell_type": "code",
      "metadata": {
        "id": "AZkWQV3f_Y6b"
      },
      "source": [
        "x_train = pd.read_csv('/content/drive/MyDrive/dataset/실기_X_train.csv', encoding='cp949')\n",
        "y_train = pd.read_csv('/content/drive/MyDrive/dataset/실기_y_train.csv', encoding='cp949')\n",
        "x_test = pd.read_csv('/content/drive/MyDrive/dataset/실기_X_test.csv', encoding='cp949')"
      ],
      "execution_count": 170,
      "outputs": []
    },
    {
      "cell_type": "code",
      "metadata": {
        "colab": {
          "base_uri": "https://localhost:8080/",
          "height": 417
        },
        "id": "ZJGEVNa2AOX8",
        "outputId": "1a439443-3666-40dc-be76-2e57e9dfd449"
      },
      "source": [
        "train = pd.concat([x_train, y_train.drop(columns='cust_id')], axis=1)\n",
        "train"
      ],
      "execution_count": 171,
      "outputs": [
        {
          "output_type": "execute_result",
          "data": {
            "text/html": [
              "<div>\n",
              "<style scoped>\n",
              "    .dataframe tbody tr th:only-of-type {\n",
              "        vertical-align: middle;\n",
              "    }\n",
              "\n",
              "    .dataframe tbody tr th {\n",
              "        vertical-align: top;\n",
              "    }\n",
              "\n",
              "    .dataframe thead th {\n",
              "        text-align: right;\n",
              "    }\n",
              "</style>\n",
              "<table border=\"1\" class=\"dataframe\">\n",
              "  <thead>\n",
              "    <tr style=\"text-align: right;\">\n",
              "      <th></th>\n",
              "      <th>cust_id</th>\n",
              "      <th>총구매액</th>\n",
              "      <th>최대구매액</th>\n",
              "      <th>환불금액</th>\n",
              "      <th>주구매상품</th>\n",
              "      <th>주구매지점</th>\n",
              "      <th>내점일수</th>\n",
              "      <th>내점당구매건수</th>\n",
              "      <th>주말방문비율</th>\n",
              "      <th>구매주기</th>\n",
              "      <th>gender</th>\n",
              "    </tr>\n",
              "  </thead>\n",
              "  <tbody>\n",
              "    <tr>\n",
              "      <th>0</th>\n",
              "      <td>0</td>\n",
              "      <td>68282840</td>\n",
              "      <td>11264000</td>\n",
              "      <td>6860000.0</td>\n",
              "      <td>기타</td>\n",
              "      <td>강남점</td>\n",
              "      <td>19</td>\n",
              "      <td>3.894737</td>\n",
              "      <td>0.527027</td>\n",
              "      <td>17</td>\n",
              "      <td>0</td>\n",
              "    </tr>\n",
              "    <tr>\n",
              "      <th>1</th>\n",
              "      <td>1</td>\n",
              "      <td>2136000</td>\n",
              "      <td>2136000</td>\n",
              "      <td>300000.0</td>\n",
              "      <td>스포츠</td>\n",
              "      <td>잠실점</td>\n",
              "      <td>2</td>\n",
              "      <td>1.500000</td>\n",
              "      <td>0.000000</td>\n",
              "      <td>1</td>\n",
              "      <td>0</td>\n",
              "    </tr>\n",
              "    <tr>\n",
              "      <th>2</th>\n",
              "      <td>2</td>\n",
              "      <td>3197000</td>\n",
              "      <td>1639000</td>\n",
              "      <td>NaN</td>\n",
              "      <td>남성 캐주얼</td>\n",
              "      <td>관악점</td>\n",
              "      <td>2</td>\n",
              "      <td>2.000000</td>\n",
              "      <td>0.000000</td>\n",
              "      <td>1</td>\n",
              "      <td>1</td>\n",
              "    </tr>\n",
              "    <tr>\n",
              "      <th>3</th>\n",
              "      <td>3</td>\n",
              "      <td>16077620</td>\n",
              "      <td>4935000</td>\n",
              "      <td>NaN</td>\n",
              "      <td>기타</td>\n",
              "      <td>광주점</td>\n",
              "      <td>18</td>\n",
              "      <td>2.444444</td>\n",
              "      <td>0.318182</td>\n",
              "      <td>16</td>\n",
              "      <td>1</td>\n",
              "    </tr>\n",
              "    <tr>\n",
              "      <th>4</th>\n",
              "      <td>4</td>\n",
              "      <td>29050000</td>\n",
              "      <td>24000000</td>\n",
              "      <td>NaN</td>\n",
              "      <td>보석</td>\n",
              "      <td>본  점</td>\n",
              "      <td>2</td>\n",
              "      <td>1.500000</td>\n",
              "      <td>0.000000</td>\n",
              "      <td>85</td>\n",
              "      <td>0</td>\n",
              "    </tr>\n",
              "    <tr>\n",
              "      <th>...</th>\n",
              "      <td>...</td>\n",
              "      <td>...</td>\n",
              "      <td>...</td>\n",
              "      <td>...</td>\n",
              "      <td>...</td>\n",
              "      <td>...</td>\n",
              "      <td>...</td>\n",
              "      <td>...</td>\n",
              "      <td>...</td>\n",
              "      <td>...</td>\n",
              "      <td>...</td>\n",
              "    </tr>\n",
              "    <tr>\n",
              "      <th>3495</th>\n",
              "      <td>3495</td>\n",
              "      <td>3175200</td>\n",
              "      <td>3042900</td>\n",
              "      <td>NaN</td>\n",
              "      <td>골프</td>\n",
              "      <td>본  점</td>\n",
              "      <td>1</td>\n",
              "      <td>2.000000</td>\n",
              "      <td>1.000000</td>\n",
              "      <td>0</td>\n",
              "      <td>1</td>\n",
              "    </tr>\n",
              "    <tr>\n",
              "      <th>3496</th>\n",
              "      <td>3496</td>\n",
              "      <td>29628600</td>\n",
              "      <td>7200000</td>\n",
              "      <td>6049600.0</td>\n",
              "      <td>시티웨어</td>\n",
              "      <td>부산본점</td>\n",
              "      <td>8</td>\n",
              "      <td>1.625000</td>\n",
              "      <td>0.461538</td>\n",
              "      <td>40</td>\n",
              "      <td>1</td>\n",
              "    </tr>\n",
              "    <tr>\n",
              "      <th>3497</th>\n",
              "      <td>3497</td>\n",
              "      <td>75000</td>\n",
              "      <td>75000</td>\n",
              "      <td>NaN</td>\n",
              "      <td>주방용품</td>\n",
              "      <td>창원점</td>\n",
              "      <td>1</td>\n",
              "      <td>1.000000</td>\n",
              "      <td>0.000000</td>\n",
              "      <td>0</td>\n",
              "      <td>0</td>\n",
              "    </tr>\n",
              "    <tr>\n",
              "      <th>3498</th>\n",
              "      <td>3498</td>\n",
              "      <td>1875000</td>\n",
              "      <td>1000000</td>\n",
              "      <td>NaN</td>\n",
              "      <td>화장품</td>\n",
              "      <td>본  점</td>\n",
              "      <td>2</td>\n",
              "      <td>1.000000</td>\n",
              "      <td>0.000000</td>\n",
              "      <td>39</td>\n",
              "      <td>0</td>\n",
              "    </tr>\n",
              "    <tr>\n",
              "      <th>3499</th>\n",
              "      <td>3499</td>\n",
              "      <td>263101550</td>\n",
              "      <td>34632000</td>\n",
              "      <td>5973000.0</td>\n",
              "      <td>기타</td>\n",
              "      <td>본  점</td>\n",
              "      <td>38</td>\n",
              "      <td>2.421053</td>\n",
              "      <td>0.467391</td>\n",
              "      <td>8</td>\n",
              "      <td>0</td>\n",
              "    </tr>\n",
              "  </tbody>\n",
              "</table>\n",
              "<p>3500 rows × 11 columns</p>\n",
              "</div>"
            ],
            "text/plain": [
              "      cust_id       총구매액     최대구매액       환불금액  ...   내점당구매건수    주말방문비율  구매주기  gender\n",
              "0           0   68282840  11264000  6860000.0  ...  3.894737  0.527027    17       0\n",
              "1           1    2136000   2136000   300000.0  ...  1.500000  0.000000     1       0\n",
              "2           2    3197000   1639000        NaN  ...  2.000000  0.000000     1       1\n",
              "3           3   16077620   4935000        NaN  ...  2.444444  0.318182    16       1\n",
              "4           4   29050000  24000000        NaN  ...  1.500000  0.000000    85       0\n",
              "...       ...        ...       ...        ...  ...       ...       ...   ...     ...\n",
              "3495     3495    3175200   3042900        NaN  ...  2.000000  1.000000     0       1\n",
              "3496     3496   29628600   7200000  6049600.0  ...  1.625000  0.461538    40       1\n",
              "3497     3497      75000     75000        NaN  ...  1.000000  0.000000     0       0\n",
              "3498     3498    1875000   1000000        NaN  ...  1.000000  0.000000    39       0\n",
              "3499     3499  263101550  34632000  5973000.0  ...  2.421053  0.467391     8       0\n",
              "\n",
              "[3500 rows x 11 columns]"
            ]
          },
          "metadata": {
            "tags": []
          },
          "execution_count": 171
        }
      ]
    },
    {
      "cell_type": "code",
      "metadata": {
        "colab": {
          "base_uri": "https://localhost:8080/"
        },
        "id": "fuseM4mnAXG_",
        "outputId": "ab2f4586-a85d-43a8-e130-bf5b314525fa"
      },
      "source": [
        "train.isnull().sum()"
      ],
      "execution_count": 147,
      "outputs": [
        {
          "output_type": "execute_result",
          "data": {
            "text/plain": [
              "cust_id     0\n",
              "총구매액        0\n",
              "최대구매액       0\n",
              "환불금액        0\n",
              "주구매상품       0\n",
              "주구매지점       0\n",
              "내점일수        0\n",
              "내점당구매건수     0\n",
              "주말방문비율      0\n",
              "구매주기        0\n",
              "gender      0\n",
              "내점비율        0\n",
              "환불액/총구매액    0\n",
              "환불여부        0\n",
              "dtype: int64"
            ]
          },
          "metadata": {
            "tags": []
          },
          "execution_count": 147
        }
      ]
    },
    {
      "cell_type": "code",
      "metadata": {
        "colab": {
          "base_uri": "https://localhost:8080/"
        },
        "id": "S6zWzg86AgjT",
        "outputId": "da9ac0d9-5646-4270-dec0-0b2bc9505f8f"
      },
      "source": [
        "x_test.isnull().sum()"
      ],
      "execution_count": 146,
      "outputs": [
        {
          "output_type": "execute_result",
          "data": {
            "text/plain": [
              "총구매액        0\n",
              "최대구매액       0\n",
              "환불금액        0\n",
              "주구매상품       0\n",
              "주구매지점       0\n",
              "내점일수        0\n",
              "내점당구매건수     0\n",
              "주말방문비율      0\n",
              "구매주기        0\n",
              "내점비율        0\n",
              "환불액/총구매액    0\n",
              "환불여부        0\n",
              "dtype: int64"
            ]
          },
          "metadata": {
            "tags": []
          },
          "execution_count": 146
        }
      ]
    },
    {
      "cell_type": "code",
      "metadata": {
        "id": "nM2bdU5MA0aS"
      },
      "source": [
        "train['환불금액'] = train['환불금액'].fillna(0)\n",
        "x_test['환불금액'] = x_test['환불금액'].fillna(0)"
      ],
      "execution_count": 172,
      "outputs": []
    },
    {
      "cell_type": "code",
      "metadata": {
        "id": "ZhEfDv8CIvKW"
      },
      "source": [
        "# 일년동안 내점 비율\n",
        "train['내점비율'] = train['내점일수'] / 365 * 100\n",
        "x_test['내점비율'] = x_test['내점일수'] / 365 * 100"
      ],
      "execution_count": 173,
      "outputs": []
    },
    {
      "cell_type": "code",
      "metadata": {
        "id": "PkCQu73xJZy5"
      },
      "source": [
        "# 환불액/총구매액\n",
        "train['환불액/총구매액'] = train['환불금액']/train['총구매액']\n",
        "x_test['환불액/총구매액'] = x_test['환불금액']/x_test['총구매액']"
      ],
      "execution_count": 174,
      "outputs": []
    },
    {
      "cell_type": "code",
      "metadata": {
        "id": "4PCpEZ91LmrI"
      },
      "source": [
        "# 환불 여부\n",
        "train.loc[train['환불금액']==0, '환불여부'] = 0\n",
        "train.loc[train['환불금액']!=0, '환불여부'] = 1\n",
        "x_test.loc[x_test['환불금액']==0, '환불여부'] = 0\n",
        "x_test.loc[x_test['환불금액']!=0, '환불여부'] = 1"
      ],
      "execution_count": 175,
      "outputs": []
    },
    {
      "cell_type": "code",
      "metadata": {
        "id": "JAx9xjakNAAr"
      },
      "source": [
        "train['환불금액'] = train['환불금액'].astype('int')\n",
        "x_test['환불금액'] = x_test['환불금액'].astype('int')"
      ],
      "execution_count": 176,
      "outputs": []
    },
    {
      "cell_type": "code",
      "metadata": {
        "colab": {
          "base_uri": "https://localhost:8080/",
          "height": 418
        },
        "id": "PonCqXvcKBVd",
        "outputId": "fbd1e212-8258-40b7-b4e0-bca6aeb6e064"
      },
      "source": [
        "train.corr()"
      ],
      "execution_count": 89,
      "outputs": [
        {
          "output_type": "execute_result",
          "data": {
            "text/html": [
              "<div>\n",
              "<style scoped>\n",
              "    .dataframe tbody tr th:only-of-type {\n",
              "        vertical-align: middle;\n",
              "    }\n",
              "\n",
              "    .dataframe tbody tr th {\n",
              "        vertical-align: top;\n",
              "    }\n",
              "\n",
              "    .dataframe thead th {\n",
              "        text-align: right;\n",
              "    }\n",
              "</style>\n",
              "<table border=\"1\" class=\"dataframe\">\n",
              "  <thead>\n",
              "    <tr style=\"text-align: right;\">\n",
              "      <th></th>\n",
              "      <th>cust_id</th>\n",
              "      <th>총구매액</th>\n",
              "      <th>최대구매액</th>\n",
              "      <th>환불금액</th>\n",
              "      <th>내점일수</th>\n",
              "      <th>내점당구매건수</th>\n",
              "      <th>주말방문비율</th>\n",
              "      <th>구매주기</th>\n",
              "      <th>gender</th>\n",
              "      <th>내점비율</th>\n",
              "      <th>환불액/총구매액</th>\n",
              "      <th>환불여부</th>\n",
              "    </tr>\n",
              "  </thead>\n",
              "  <tbody>\n",
              "    <tr>\n",
              "      <th>cust_id</th>\n",
              "      <td>1.000000</td>\n",
              "      <td>-0.008004</td>\n",
              "      <td>-0.005883</td>\n",
              "      <td>0.033116</td>\n",
              "      <td>-0.025234</td>\n",
              "      <td>-0.004840</td>\n",
              "      <td>0.001900</td>\n",
              "      <td>0.020070</td>\n",
              "      <td>-0.001994</td>\n",
              "      <td>-0.025234</td>\n",
              "      <td>-0.007046</td>\n",
              "      <td>-0.013090</td>\n",
              "    </tr>\n",
              "    <tr>\n",
              "      <th>총구매액</th>\n",
              "      <td>-0.008004</td>\n",
              "      <td>1.000000</td>\n",
              "      <td>0.700080</td>\n",
              "      <td>0.467686</td>\n",
              "      <td>0.659084</td>\n",
              "      <td>0.090022</td>\n",
              "      <td>0.014396</td>\n",
              "      <td>-0.212944</td>\n",
              "      <td>-0.150141</td>\n",
              "      <td>0.659084</td>\n",
              "      <td>-0.017077</td>\n",
              "      <td>0.403357</td>\n",
              "    </tr>\n",
              "    <tr>\n",
              "      <th>최대구매액</th>\n",
              "      <td>-0.005883</td>\n",
              "      <td>0.700080</td>\n",
              "      <td>1.000000</td>\n",
              "      <td>0.429504</td>\n",
              "      <td>0.374147</td>\n",
              "      <td>0.018980</td>\n",
              "      <td>0.022277</td>\n",
              "      <td>-0.115837</td>\n",
              "      <td>-0.114323</td>\n",
              "      <td>0.374147</td>\n",
              "      <td>0.006192</td>\n",
              "      <td>0.330687</td>\n",
              "    </tr>\n",
              "    <tr>\n",
              "      <th>환불금액</th>\n",
              "      <td>0.033116</td>\n",
              "      <td>0.467686</td>\n",
              "      <td>0.429504</td>\n",
              "      <td>1.000000</td>\n",
              "      <td>0.377570</td>\n",
              "      <td>-0.003871</td>\n",
              "      <td>-0.024707</td>\n",
              "      <td>-0.137362</td>\n",
              "      <td>-0.114327</td>\n",
              "      <td>0.377570</td>\n",
              "      <td>0.016959</td>\n",
              "      <td>0.380108</td>\n",
              "    </tr>\n",
              "    <tr>\n",
              "      <th>내점일수</th>\n",
              "      <td>-0.025234</td>\n",
              "      <td>0.659084</td>\n",
              "      <td>0.374147</td>\n",
              "      <td>0.377570</td>\n",
              "      <td>1.000000</td>\n",
              "      <td>0.225264</td>\n",
              "      <td>-0.010325</td>\n",
              "      <td>-0.293200</td>\n",
              "      <td>-0.155000</td>\n",
              "      <td>1.000000</td>\n",
              "      <td>-0.016641</td>\n",
              "      <td>0.498958</td>\n",
              "    </tr>\n",
              "    <tr>\n",
              "      <th>내점당구매건수</th>\n",
              "      <td>-0.004840</td>\n",
              "      <td>0.090022</td>\n",
              "      <td>0.018980</td>\n",
              "      <td>-0.003871</td>\n",
              "      <td>0.225264</td>\n",
              "      <td>1.000000</td>\n",
              "      <td>0.007659</td>\n",
              "      <td>-0.091151</td>\n",
              "      <td>-0.043917</td>\n",
              "      <td>0.225264</td>\n",
              "      <td>-0.021293</td>\n",
              "      <td>0.063000</td>\n",
              "    </tr>\n",
              "    <tr>\n",
              "      <th>주말방문비율</th>\n",
              "      <td>0.001900</td>\n",
              "      <td>0.014396</td>\n",
              "      <td>0.022277</td>\n",
              "      <td>-0.024707</td>\n",
              "      <td>-0.010325</td>\n",
              "      <td>0.007659</td>\n",
              "      <td>1.000000</td>\n",
              "      <td>0.003372</td>\n",
              "      <td>0.073598</td>\n",
              "      <td>-0.010325</td>\n",
              "      <td>-0.015164</td>\n",
              "      <td>-0.008775</td>\n",
              "    </tr>\n",
              "    <tr>\n",
              "      <th>구매주기</th>\n",
              "      <td>0.020070</td>\n",
              "      <td>-0.212944</td>\n",
              "      <td>-0.115837</td>\n",
              "      <td>-0.137362</td>\n",
              "      <td>-0.293200</td>\n",
              "      <td>-0.091151</td>\n",
              "      <td>0.003372</td>\n",
              "      <td>1.000000</td>\n",
              "      <td>0.041450</td>\n",
              "      <td>-0.293200</td>\n",
              "      <td>0.029798</td>\n",
              "      <td>-0.204851</td>\n",
              "    </tr>\n",
              "    <tr>\n",
              "      <th>gender</th>\n",
              "      <td>-0.001994</td>\n",
              "      <td>-0.150141</td>\n",
              "      <td>-0.114323</td>\n",
              "      <td>-0.114327</td>\n",
              "      <td>-0.155000</td>\n",
              "      <td>-0.043917</td>\n",
              "      <td>0.073598</td>\n",
              "      <td>0.041450</td>\n",
              "      <td>1.000000</td>\n",
              "      <td>-0.155000</td>\n",
              "      <td>-0.022796</td>\n",
              "      <td>-0.202456</td>\n",
              "    </tr>\n",
              "    <tr>\n",
              "      <th>내점비율</th>\n",
              "      <td>-0.025234</td>\n",
              "      <td>0.659084</td>\n",
              "      <td>0.374147</td>\n",
              "      <td>0.377570</td>\n",
              "      <td>1.000000</td>\n",
              "      <td>0.225264</td>\n",
              "      <td>-0.010325</td>\n",
              "      <td>-0.293200</td>\n",
              "      <td>-0.155000</td>\n",
              "      <td>1.000000</td>\n",
              "      <td>-0.016641</td>\n",
              "      <td>0.498958</td>\n",
              "    </tr>\n",
              "    <tr>\n",
              "      <th>환불액/총구매액</th>\n",
              "      <td>-0.007046</td>\n",
              "      <td>-0.017077</td>\n",
              "      <td>0.006192</td>\n",
              "      <td>0.016959</td>\n",
              "      <td>-0.016641</td>\n",
              "      <td>-0.021293</td>\n",
              "      <td>-0.015164</td>\n",
              "      <td>0.029798</td>\n",
              "      <td>-0.022796</td>\n",
              "      <td>-0.016641</td>\n",
              "      <td>1.000000</td>\n",
              "      <td>0.064045</td>\n",
              "    </tr>\n",
              "    <tr>\n",
              "      <th>환불여부</th>\n",
              "      <td>-0.013090</td>\n",
              "      <td>0.403357</td>\n",
              "      <td>0.330687</td>\n",
              "      <td>0.380108</td>\n",
              "      <td>0.498958</td>\n",
              "      <td>0.063000</td>\n",
              "      <td>-0.008775</td>\n",
              "      <td>-0.204851</td>\n",
              "      <td>-0.202456</td>\n",
              "      <td>0.498958</td>\n",
              "      <td>0.064045</td>\n",
              "      <td>1.000000</td>\n",
              "    </tr>\n",
              "  </tbody>\n",
              "</table>\n",
              "</div>"
            ],
            "text/plain": [
              "           cust_id      총구매액     최대구매액  ...      내점비율  환불액/총구매액      환불여부\n",
              "cust_id   1.000000 -0.008004 -0.005883  ... -0.025234 -0.007046 -0.013090\n",
              "총구매액     -0.008004  1.000000  0.700080  ...  0.659084 -0.017077  0.403357\n",
              "최대구매액    -0.005883  0.700080  1.000000  ...  0.374147  0.006192  0.330687\n",
              "환불금액      0.033116  0.467686  0.429504  ...  0.377570  0.016959  0.380108\n",
              "내점일수     -0.025234  0.659084  0.374147  ...  1.000000 -0.016641  0.498958\n",
              "내점당구매건수  -0.004840  0.090022  0.018980  ...  0.225264 -0.021293  0.063000\n",
              "주말방문비율    0.001900  0.014396  0.022277  ... -0.010325 -0.015164 -0.008775\n",
              "구매주기      0.020070 -0.212944 -0.115837  ... -0.293200  0.029798 -0.204851\n",
              "gender   -0.001994 -0.150141 -0.114323  ... -0.155000 -0.022796 -0.202456\n",
              "내점비율     -0.025234  0.659084  0.374147  ...  1.000000 -0.016641  0.498958\n",
              "환불액/총구매액 -0.007046 -0.017077  0.006192  ... -0.016641  1.000000  0.064045\n",
              "환불여부     -0.013090  0.403357  0.330687  ...  0.498958  0.064045  1.000000\n",
              "\n",
              "[12 rows x 12 columns]"
            ]
          },
          "metadata": {
            "tags": []
          },
          "execution_count": 89
        }
      ]
    },
    {
      "cell_type": "code",
      "metadata": {
        "colab": {
          "base_uri": "https://localhost:8080/"
        },
        "id": "yNsSohVQBn82",
        "outputId": "b44677a4-012f-4fd8-dd68-0364d609f4c1"
      },
      "source": [
        "x_train = train.drop(columns=['cust_id', 'gender'])\n",
        "y_train = train['gender']\n",
        "x_test = x_test.drop(columns=['cust_id'])\n",
        "x_train.shape, y_train.shape, x_test.shape"
      ],
      "execution_count": 177,
      "outputs": [
        {
          "output_type": "execute_result",
          "data": {
            "text/plain": [
              "((3500, 12), (3500,), (2482, 12))"
            ]
          },
          "metadata": {
            "tags": []
          },
          "execution_count": 177
        }
      ]
    },
    {
      "cell_type": "code",
      "metadata": {
        "colab": {
          "base_uri": "https://localhost:8080/"
        },
        "id": "sVRhmIK0RqAk",
        "outputId": "c0130c8a-3d25-47e3-a3cd-810133a47ab8"
      },
      "source": [
        "for i in x_train.columns:\n",
        "  if x_train[i].dtype == 'object':\n",
        "    continue\n",
        "  x_train[i] = np.log1p(x_train[i]+1)\n",
        "\n",
        "for i in x_test.columns:\n",
        "  if x_test[i].dtype == 'object':\n",
        "    continue\n",
        "  x_test[i] = np.log1p(x_test[i]+1)"
      ],
      "execution_count": 178,
      "outputs": [
        {
          "output_type": "stream",
          "text": [
            "/usr/local/lib/python3.7/dist-packages/pandas/core/series.py:726: RuntimeWarning: invalid value encountered in log1p\n",
            "  result = getattr(ufunc, method)(*inputs, **kwargs)\n"
          ],
          "name": "stderr"
        }
      ]
    },
    {
      "cell_type": "code",
      "metadata": {
        "colab": {
          "base_uri": "https://localhost:8080/",
          "height": 369
        },
        "id": "A3GDkUjpMTvV",
        "outputId": "7459a610-2a17-4c9c-b6e8-0a06825985cb"
      },
      "source": [
        "from sklearn.preprocessing import MinMaxScaler\n",
        "for i in x_train.columns:\n",
        "  if x_train[i].dtype == 'object':\n",
        "    continue\n",
        "  x_train[i] = MinMaxScaler().fit_transform(x_train[[i]])\n",
        "  x_test[i] = MinMaxScaler().fit_transform(x_test[[i]])"
      ],
      "execution_count": 167,
      "outputs": [
        {
          "output_type": "error",
          "ename": "ValueError",
          "evalue": "ignored",
          "traceback": [
            "\u001b[0;31m---------------------------------------------------------------------------\u001b[0m",
            "\u001b[0;31mValueError\u001b[0m                                Traceback (most recent call last)",
            "\u001b[0;32m<ipython-input-167-52a421a6d309>\u001b[0m in \u001b[0;36m<module>\u001b[0;34m()\u001b[0m\n\u001b[1;32m      3\u001b[0m   \u001b[0;32mif\u001b[0m \u001b[0mx_train\u001b[0m\u001b[0;34m[\u001b[0m\u001b[0mi\u001b[0m\u001b[0;34m]\u001b[0m\u001b[0;34m.\u001b[0m\u001b[0mdtype\u001b[0m \u001b[0;34m==\u001b[0m \u001b[0;34m'object'\u001b[0m\u001b[0;34m:\u001b[0m\u001b[0;34m\u001b[0m\u001b[0;34m\u001b[0m\u001b[0m\n\u001b[1;32m      4\u001b[0m     \u001b[0;32mcontinue\u001b[0m\u001b[0;34m\u001b[0m\u001b[0;34m\u001b[0m\u001b[0m\n\u001b[0;32m----> 5\u001b[0;31m   \u001b[0mx_train\u001b[0m\u001b[0;34m[\u001b[0m\u001b[0mi\u001b[0m\u001b[0;34m]\u001b[0m \u001b[0;34m=\u001b[0m \u001b[0mMinMaxScaler\u001b[0m\u001b[0;34m(\u001b[0m\u001b[0;34m)\u001b[0m\u001b[0;34m.\u001b[0m\u001b[0mfit_transform\u001b[0m\u001b[0;34m(\u001b[0m\u001b[0mx_train\u001b[0m\u001b[0;34m[\u001b[0m\u001b[0;34m[\u001b[0m\u001b[0mi\u001b[0m\u001b[0;34m]\u001b[0m\u001b[0;34m]\u001b[0m\u001b[0;34m)\u001b[0m\u001b[0;34m\u001b[0m\u001b[0;34m\u001b[0m\u001b[0m\n\u001b[0m\u001b[1;32m      6\u001b[0m   \u001b[0mx_test\u001b[0m\u001b[0;34m[\u001b[0m\u001b[0mi\u001b[0m\u001b[0;34m]\u001b[0m \u001b[0;34m=\u001b[0m \u001b[0mMinMaxScaler\u001b[0m\u001b[0;34m(\u001b[0m\u001b[0;34m)\u001b[0m\u001b[0;34m.\u001b[0m\u001b[0mfit_transform\u001b[0m\u001b[0;34m(\u001b[0m\u001b[0mx_test\u001b[0m\u001b[0;34m[\u001b[0m\u001b[0;34m[\u001b[0m\u001b[0mi\u001b[0m\u001b[0;34m]\u001b[0m\u001b[0;34m]\u001b[0m\u001b[0;34m)\u001b[0m\u001b[0;34m\u001b[0m\u001b[0;34m\u001b[0m\u001b[0m\n",
            "\u001b[0;32m/usr/local/lib/python3.7/dist-packages/sklearn/base.py\u001b[0m in \u001b[0;36mfit_transform\u001b[0;34m(self, X, y, **fit_params)\u001b[0m\n\u001b[1;32m    569\u001b[0m         \u001b[0;32mif\u001b[0m \u001b[0my\u001b[0m \u001b[0;32mis\u001b[0m \u001b[0;32mNone\u001b[0m\u001b[0;34m:\u001b[0m\u001b[0;34m\u001b[0m\u001b[0;34m\u001b[0m\u001b[0m\n\u001b[1;32m    570\u001b[0m             \u001b[0;31m# fit method of arity 1 (unsupervised transformation)\u001b[0m\u001b[0;34m\u001b[0m\u001b[0;34m\u001b[0m\u001b[0;34m\u001b[0m\u001b[0m\n\u001b[0;32m--> 571\u001b[0;31m             \u001b[0;32mreturn\u001b[0m \u001b[0mself\u001b[0m\u001b[0;34m.\u001b[0m\u001b[0mfit\u001b[0m\u001b[0;34m(\u001b[0m\u001b[0mX\u001b[0m\u001b[0;34m,\u001b[0m \u001b[0;34m**\u001b[0m\u001b[0mfit_params\u001b[0m\u001b[0;34m)\u001b[0m\u001b[0;34m.\u001b[0m\u001b[0mtransform\u001b[0m\u001b[0;34m(\u001b[0m\u001b[0mX\u001b[0m\u001b[0;34m)\u001b[0m\u001b[0;34m\u001b[0m\u001b[0;34m\u001b[0m\u001b[0m\n\u001b[0m\u001b[1;32m    572\u001b[0m         \u001b[0;32melse\u001b[0m\u001b[0;34m:\u001b[0m\u001b[0;34m\u001b[0m\u001b[0;34m\u001b[0m\u001b[0m\n\u001b[1;32m    573\u001b[0m             \u001b[0;31m# fit method of arity 2 (supervised transformation)\u001b[0m\u001b[0;34m\u001b[0m\u001b[0;34m\u001b[0m\u001b[0;34m\u001b[0m\u001b[0m\n",
            "\u001b[0;32m/usr/local/lib/python3.7/dist-packages/sklearn/preprocessing/_data.py\u001b[0m in \u001b[0;36mfit\u001b[0;34m(self, X, y)\u001b[0m\n\u001b[1;32m    337\u001b[0m         \u001b[0;31m# Reset internal state before fitting\u001b[0m\u001b[0;34m\u001b[0m\u001b[0;34m\u001b[0m\u001b[0;34m\u001b[0m\u001b[0m\n\u001b[1;32m    338\u001b[0m         \u001b[0mself\u001b[0m\u001b[0;34m.\u001b[0m\u001b[0m_reset\u001b[0m\u001b[0;34m(\u001b[0m\u001b[0;34m)\u001b[0m\u001b[0;34m\u001b[0m\u001b[0;34m\u001b[0m\u001b[0m\n\u001b[0;32m--> 339\u001b[0;31m         \u001b[0;32mreturn\u001b[0m \u001b[0mself\u001b[0m\u001b[0;34m.\u001b[0m\u001b[0mpartial_fit\u001b[0m\u001b[0;34m(\u001b[0m\u001b[0mX\u001b[0m\u001b[0;34m,\u001b[0m \u001b[0my\u001b[0m\u001b[0;34m)\u001b[0m\u001b[0;34m\u001b[0m\u001b[0;34m\u001b[0m\u001b[0m\n\u001b[0m\u001b[1;32m    340\u001b[0m \u001b[0;34m\u001b[0m\u001b[0m\n\u001b[1;32m    341\u001b[0m     \u001b[0;32mdef\u001b[0m \u001b[0mpartial_fit\u001b[0m\u001b[0;34m(\u001b[0m\u001b[0mself\u001b[0m\u001b[0;34m,\u001b[0m \u001b[0mX\u001b[0m\u001b[0;34m,\u001b[0m \u001b[0my\u001b[0m\u001b[0;34m=\u001b[0m\u001b[0;32mNone\u001b[0m\u001b[0;34m)\u001b[0m\u001b[0;34m:\u001b[0m\u001b[0;34m\u001b[0m\u001b[0;34m\u001b[0m\u001b[0m\n",
            "\u001b[0;32m/usr/local/lib/python3.7/dist-packages/sklearn/preprocessing/_data.py\u001b[0m in \u001b[0;36mpartial_fit\u001b[0;34m(self, X, y)\u001b[0m\n\u001b[1;32m    371\u001b[0m         X = check_array(X,\n\u001b[1;32m    372\u001b[0m                         \u001b[0mestimator\u001b[0m\u001b[0;34m=\u001b[0m\u001b[0mself\u001b[0m\u001b[0;34m,\u001b[0m \u001b[0mdtype\u001b[0m\u001b[0;34m=\u001b[0m\u001b[0mFLOAT_DTYPES\u001b[0m\u001b[0;34m,\u001b[0m\u001b[0;34m\u001b[0m\u001b[0;34m\u001b[0m\u001b[0m\n\u001b[0;32m--> 373\u001b[0;31m                         force_all_finite=\"allow-nan\")\n\u001b[0m\u001b[1;32m    374\u001b[0m \u001b[0;34m\u001b[0m\u001b[0m\n\u001b[1;32m    375\u001b[0m         \u001b[0mdata_min\u001b[0m \u001b[0;34m=\u001b[0m \u001b[0mnp\u001b[0m\u001b[0;34m.\u001b[0m\u001b[0mnanmin\u001b[0m\u001b[0;34m(\u001b[0m\u001b[0mX\u001b[0m\u001b[0;34m,\u001b[0m \u001b[0maxis\u001b[0m\u001b[0;34m=\u001b[0m\u001b[0;36m0\u001b[0m\u001b[0;34m)\u001b[0m\u001b[0;34m\u001b[0m\u001b[0;34m\u001b[0m\u001b[0m\n",
            "\u001b[0;32m/usr/local/lib/python3.7/dist-packages/sklearn/utils/validation.py\u001b[0m in \u001b[0;36mcheck_array\u001b[0;34m(array, accept_sparse, accept_large_sparse, dtype, order, copy, force_all_finite, ensure_2d, allow_nd, ensure_min_samples, ensure_min_features, warn_on_dtype, estimator)\u001b[0m\n\u001b[1;32m    576\u001b[0m         \u001b[0;32mif\u001b[0m \u001b[0mforce_all_finite\u001b[0m\u001b[0;34m:\u001b[0m\u001b[0;34m\u001b[0m\u001b[0;34m\u001b[0m\u001b[0m\n\u001b[1;32m    577\u001b[0m             _assert_all_finite(array,\n\u001b[0;32m--> 578\u001b[0;31m                                allow_nan=force_all_finite == 'allow-nan')\n\u001b[0m\u001b[1;32m    579\u001b[0m \u001b[0;34m\u001b[0m\u001b[0m\n\u001b[1;32m    580\u001b[0m     \u001b[0;32mif\u001b[0m \u001b[0mensure_min_samples\u001b[0m \u001b[0;34m>\u001b[0m \u001b[0;36m0\u001b[0m\u001b[0;34m:\u001b[0m\u001b[0;34m\u001b[0m\u001b[0;34m\u001b[0m\u001b[0m\n",
            "\u001b[0;32m/usr/local/lib/python3.7/dist-packages/sklearn/utils/validation.py\u001b[0m in \u001b[0;36m_assert_all_finite\u001b[0;34m(X, allow_nan, msg_dtype)\u001b[0m\n\u001b[1;32m     58\u001b[0m                     \u001b[0mmsg_err\u001b[0m\u001b[0;34m.\u001b[0m\u001b[0mformat\u001b[0m\u001b[0;34m\u001b[0m\u001b[0;34m\u001b[0m\u001b[0m\n\u001b[1;32m     59\u001b[0m                     (type_err,\n\u001b[0;32m---> 60\u001b[0;31m                      msg_dtype if msg_dtype is not None else X.dtype)\n\u001b[0m\u001b[1;32m     61\u001b[0m             )\n\u001b[1;32m     62\u001b[0m     \u001b[0;31m# for object dtype data, we only check for NaNs (GH-13254)\u001b[0m\u001b[0;34m\u001b[0m\u001b[0;34m\u001b[0m\u001b[0;34m\u001b[0m\u001b[0m\n",
            "\u001b[0;31mValueError\u001b[0m: Input contains infinity or a value too large for dtype('float64')."
          ]
        }
      ]
    },
    {
      "cell_type": "code",
      "metadata": {
        "colab": {
          "base_uri": "https://localhost:8080/"
        },
        "id": "gZpRWHoACPlR",
        "outputId": "3be47f78-7ce6-4e8c-9a12-108344a51d93"
      },
      "source": [
        "pip install catboost"
      ],
      "execution_count": 27,
      "outputs": [
        {
          "output_type": "stream",
          "text": [
            "Collecting catboost\n",
            "\u001b[?25l  Downloading https://files.pythonhosted.org/packages/5a/41/24e14322b9986cf72a8763e0a0a69cc256cf963cf9502c8f0044a62c1ae8/catboost-0.26-cp37-none-manylinux1_x86_64.whl (69.2MB)\n",
            "\u001b[K     |████████████████████████████████| 69.2MB 50kB/s \n",
            "\u001b[?25hRequirement already satisfied: matplotlib in /usr/local/lib/python3.7/dist-packages (from catboost) (3.2.2)\n",
            "Requirement already satisfied: numpy>=1.16.0 in /usr/local/lib/python3.7/dist-packages (from catboost) (1.19.5)\n",
            "Requirement already satisfied: pandas>=0.24.0 in /usr/local/lib/python3.7/dist-packages (from catboost) (1.1.5)\n",
            "Requirement already satisfied: scipy in /usr/local/lib/python3.7/dist-packages (from catboost) (1.4.1)\n",
            "Requirement already satisfied: plotly in /usr/local/lib/python3.7/dist-packages (from catboost) (4.4.1)\n",
            "Requirement already satisfied: six in /usr/local/lib/python3.7/dist-packages (from catboost) (1.15.0)\n",
            "Requirement already satisfied: graphviz in /usr/local/lib/python3.7/dist-packages (from catboost) (0.10.1)\n",
            "Requirement already satisfied: python-dateutil>=2.1 in /usr/local/lib/python3.7/dist-packages (from matplotlib->catboost) (2.8.1)\n",
            "Requirement already satisfied: pyparsing!=2.0.4,!=2.1.2,!=2.1.6,>=2.0.1 in /usr/local/lib/python3.7/dist-packages (from matplotlib->catboost) (2.4.7)\n",
            "Requirement already satisfied: kiwisolver>=1.0.1 in /usr/local/lib/python3.7/dist-packages (from matplotlib->catboost) (1.3.1)\n",
            "Requirement already satisfied: cycler>=0.10 in /usr/local/lib/python3.7/dist-packages (from matplotlib->catboost) (0.10.0)\n",
            "Requirement already satisfied: pytz>=2017.2 in /usr/local/lib/python3.7/dist-packages (from pandas>=0.24.0->catboost) (2018.9)\n",
            "Requirement already satisfied: retrying>=1.3.3 in /usr/local/lib/python3.7/dist-packages (from plotly->catboost) (1.3.3)\n",
            "Installing collected packages: catboost\n",
            "Successfully installed catboost-0.26\n"
          ],
          "name": "stdout"
        }
      ]
    },
    {
      "cell_type": "code",
      "metadata": {
        "id": "Q4nQ7k5oCaHh"
      },
      "source": [
        "import catboost\n",
        "from sklearn.model_selection import StratifiedKFold\n",
        "from sklearn.metrics import roc_auc_score, classification_report, plot_confusion_matrix"
      ],
      "execution_count": 31,
      "outputs": []
    },
    {
      "cell_type": "code",
      "metadata": {
        "colab": {
          "base_uri": "https://localhost:8080/"
        },
        "id": "s6uzh8f7Cm3A",
        "outputId": "a66a3251-17b7-40fa-db15-562212278c23"
      },
      "source": [
        "skf = StratifiedKFold(n_splits=7, shuffle=True, random_state=42)\n",
        "cat_features = x_train.select_dtypes('object').columns\n",
        "preds_test = np.zeros((len(x_test)))\n",
        "\n",
        "for i, (train_index, valid_index) in enumerate(skf.split(x_train, y_train)):\n",
        "  X_train, X_valid = x_train.iloc[train_index], x_train.iloc[valid_index]\n",
        "  Y_train, Y_valid = y_train.iloc[train_index], y_train.iloc[valid_index]\n",
        "\n",
        "  model_cat = catboost.CatBoostClassifier(n_estimators=3000, learning_rate=0.05, cat_features=cat_features, eval_metric='AUC')\n",
        "  model_cat.fit(X_train, Y_train, eval_set=[(X_train, Y_train), (X_valid, Y_valid)], verbose=100, early_stopping_rounds=70)\n",
        "\n",
        "  preds_valid = model_cat.predict_proba(X_valid)[:,1]\n",
        "  roc_auc = roc_auc_score(Y_valid, preds_valid)\n",
        "  print(f'{i+1}번째 AUC 값은:{roc_auc} ')"
      ],
      "execution_count": 179,
      "outputs": [
        {
          "output_type": "stream",
          "text": [
            "0:\ttest: 0.6567742\ttest1: 0.6524993\tbest: 0.6524993 (0)\ttotal: 8.69ms\tremaining: 26.1s\n",
            "100:\ttest: 0.7582820\ttest1: 0.7070888\tbest: 0.7103962 (77)\ttotal: 807ms\tremaining: 23.2s\n",
            "Stopped by overfitting detector  (70 iterations wait)\n",
            "\n",
            "bestTest = 0.7103962084\n",
            "bestIteration = 77\n",
            "\n",
            "Shrink model to first 78 iterations.\n",
            "1번째 AUC 값은:0.7103962084015274 \n",
            "0:\ttest: 0.6479573\ttest1: 0.6743470\tbest: 0.6743470 (0)\ttotal: 17.2ms\tremaining: 51.5s\n",
            "100:\ttest: 0.7462903\ttest1: 0.7164143\tbest: 0.7167042 (99)\ttotal: 793ms\tremaining: 22.8s\n",
            "Stopped by overfitting detector  (70 iterations wait)\n",
            "\n",
            "bestTest = 0.7187329514\n",
            "bestIteration = 112\n",
            "\n",
            "Shrink model to first 113 iterations.\n",
            "2번째 AUC 값은:0.7187329514457172 \n",
            "0:\ttest: 0.6558058\ttest1: 0.6450406\tbest: 0.6450406 (0)\ttotal: 8.58ms\tremaining: 25.7s\n",
            "Stopped by overfitting detector  (70 iterations wait)\n",
            "\n",
            "bestTest = 0.7065858565\n",
            "bestIteration = 6\n",
            "\n",
            "Shrink model to first 7 iterations.\n",
            "3번째 AUC 값은:0.7065858565193671 \n",
            "0:\ttest: 0.6652656\ttest1: 0.5825661\tbest: 0.5825661 (0)\ttotal: 8.27ms\tremaining: 24.8s\n",
            "Stopped by overfitting detector  (70 iterations wait)\n",
            "\n",
            "bestTest = 0.6539143481\n",
            "bestIteration = 20\n",
            "\n",
            "Shrink model to first 21 iterations.\n",
            "4번째 AUC 값은:0.6539143480632842 \n",
            "0:\ttest: 0.6549943\ttest1: 0.6420571\tbest: 0.6420571 (0)\ttotal: 8.14ms\tremaining: 24.4s\n",
            "100:\ttest: 0.7661833\ttest1: 0.6594296\tbest: 0.6635894 (72)\ttotal: 757ms\tremaining: 21.7s\n",
            "Stopped by overfitting detector  (70 iterations wait)\n",
            "\n",
            "bestTest = 0.6635894026\n",
            "bestIteration = 72\n",
            "\n",
            "Shrink model to first 73 iterations.\n",
            "5번째 AUC 값은:0.663589402618658 \n",
            "0:\ttest: 0.6650246\ttest1: 0.5794292\tbest: 0.5794292 (0)\ttotal: 8.68ms\tremaining: 26s\n",
            "100:\ttest: 0.7555484\ttest1: 0.6499250\tbest: 0.6503512 (96)\ttotal: 739ms\tremaining: 21.2s\n",
            "Stopped by overfitting detector  (70 iterations wait)\n",
            "\n",
            "bestTest = 0.6503512002\n",
            "bestIteration = 96\n",
            "\n",
            "Shrink model to first 97 iterations.\n",
            "6번째 AUC 값은:0.6503512002182215 \n",
            "0:\ttest: 0.6539662\ttest1: 0.6569405\tbest: 0.6569405 (0)\ttotal: 7.89ms\tremaining: 23.7s\n",
            "Stopped by overfitting detector  (70 iterations wait)\n",
            "\n",
            "bestTest = 0.6811153164\n",
            "bestIteration = 3\n",
            "\n",
            "Shrink model to first 4 iterations.\n",
            "7번째 AUC 값은:0.6811153164211675 \n"
          ],
          "name": "stdout"
        }
      ]
    },
    {
      "cell_type": "code",
      "metadata": {
        "colab": {
          "base_uri": "https://localhost:8080/"
        },
        "id": "3u4VW2AaGU99",
        "outputId": "7879d940-608d-4f71-f8d2-94805d24932a"
      },
      "source": [
        "pd.Series(model_cat.feature_importances_, index=x_train.columns).sort_values(ascending=False)"
      ],
      "execution_count": 169,
      "outputs": [
        {
          "output_type": "execute_result",
          "data": {
            "text/plain": [
              "주구매상품       22.577444\n",
              "환불여부        16.670255\n",
              "주말방문비율      14.611653\n",
              "최대구매액       12.794835\n",
              "내점일수        12.431888\n",
              "환불액/총구매액     8.144926\n",
              "내점비율         5.666736\n",
              "내점당구매건수      4.813042\n",
              "총구매액         2.289221\n",
              "구매주기         0.000000\n",
              "주구매지점        0.000000\n",
              "환불금액         0.000000\n",
              "dtype: float64"
            ]
          },
          "metadata": {
            "tags": []
          },
          "execution_count": 169
        }
      ]
    }
  ]
}