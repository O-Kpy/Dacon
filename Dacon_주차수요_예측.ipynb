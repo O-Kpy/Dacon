{
  "nbformat": 4,
  "nbformat_minor": 0,
  "metadata": {
    "colab": {
      "name": "Dacon 주차수요 예측.ipynb",
      "provenance": [],
      "collapsed_sections": [],
      "mount_file_id": "1bSjuU3A8YqNMk4enFXujAYLOUhavOLlN",
      "authorship_tag": "ABX9TyPwgABYYRZ+s5k92a57A7yR",
      "include_colab_link": true
    },
    "kernelspec": {
      "name": "python3",
      "display_name": "Python 3"
    },
    "language_info": {
      "name": "python"
    }
  },
  "cells": [
    {
      "cell_type": "markdown",
      "metadata": {
        "id": "view-in-github",
        "colab_type": "text"
      },
      "source": [
        "<a href=\"https://colab.research.google.com/github/O-Kpy/Dacon/blob/main/Dacon_%EC%A3%BC%EC%B0%A8%EC%88%98%EC%9A%94_%EC%98%88%EC%B8%A1.ipynb\" target=\"_parent\"><img src=\"https://colab.research.google.com/assets/colab-badge.svg\" alt=\"Open In Colab\"/></a>"
      ]
    },
    {
      "cell_type": "code",
      "metadata": {
        "id": "wOzwtKYaFU4D"
      },
      "source": [
        "import pandas as pd\n",
        "import numpy as np\n",
        "import matplotlib.pyplot as plt\n",
        "%matplotlib inline\n",
        "import seaborn as sns\n",
        "import warnings\n",
        "warnings.filterwarnings('ignore')\n",
        "from scipy.stats import skew\n",
        "from tqdm import tqdm"
      ],
      "execution_count": 53,
      "outputs": []
    },
    {
      "cell_type": "code",
      "metadata": {
        "colab": {
          "base_uri": "https://localhost:8080/"
        },
        "id": "JQ1KB85aGbwe",
        "outputId": "012fc377-9d5b-4087-dc20-e82f43f71be3"
      },
      "source": [
        "!apt-get update -qq  ## 나눔 설치\n",
        "!apt-get install fonts-nanum* -qq"
      ],
      "execution_count": null,
      "outputs": [
        {
          "output_type": "stream",
          "text": [
            "Selecting previously unselected package fonts-nanum.\n",
            "(Reading database ... 160772 files and directories currently installed.)\n",
            "Preparing to unpack .../fonts-nanum_20170925-1_all.deb ...\n",
            "Unpacking fonts-nanum (20170925-1) ...\n",
            "Selecting previously unselected package fonts-nanum-eco.\n",
            "Preparing to unpack .../fonts-nanum-eco_1.000-6_all.deb ...\n",
            "Unpacking fonts-nanum-eco (1.000-6) ...\n",
            "Selecting previously unselected package fonts-nanum-extra.\n",
            "Preparing to unpack .../fonts-nanum-extra_20170925-1_all.deb ...\n",
            "Unpacking fonts-nanum-extra (20170925-1) ...\n",
            "Selecting previously unselected package fonts-nanum-coding.\n",
            "Preparing to unpack .../fonts-nanum-coding_2.5-1_all.deb ...\n",
            "Unpacking fonts-nanum-coding (2.5-1) ...\n",
            "Setting up fonts-nanum-extra (20170925-1) ...\n",
            "Setting up fonts-nanum (20170925-1) ...\n",
            "Setting up fonts-nanum-coding (2.5-1) ...\n",
            "Setting up fonts-nanum-eco (1.000-6) ...\n",
            "Processing triggers for fontconfig (2.12.6-0ubuntu2) ...\n"
          ],
          "name": "stdout"
        }
      ]
    },
    {
      "cell_type": "code",
      "metadata": {
        "id": "oJr5fomcGhut"
      },
      "source": [
        "import matplotlib as mpl\n",
        "import matplotlib.font_manager as fm   ## 폰트 매니저\n",
        "fontpath = '/usr/share/fonts/truetype/nanum/NanumGothic.ttf' \n",
        "font = fm.FontProperties(fname=fontpath, size=9).get_name()\n",
        "plt.rc('font', family=font) \n",
        "mpl.font_manager._rebuild()"
      ],
      "execution_count": null,
      "outputs": []
    },
    {
      "cell_type": "code",
      "metadata": {
        "colab": {
          "base_uri": "https://localhost:8080/"
        },
        "id": "bR0QzoASFsLa",
        "outputId": "44fd2b42-6e20-4d6e-9d23-87fe5bfee217"
      },
      "source": [
        "train = pd.read_csv('/content/drive/MyDrive/dataset/Dacon/대회/235745_parking_data/235745_parking_data_train.csv')\n",
        "test = pd.read_csv('/content/drive/MyDrive/dataset/Dacon/대회/235745_parking_data/235745_parking_data_test.csv')\n",
        "submit = pd.read_csv('/content/drive/MyDrive/dataset/Dacon/대회/235745_parking_data/235745_parking_data_sample_submission.csv')\n",
        "info = pd.read_csv('/content/drive/MyDrive/dataset/Dacon/대회/235745_parking_data/235745_parking_data_age_gender_info.csv')\n",
        "train.shape, test.shape, info.shape"
      ],
      "execution_count": 213,
      "outputs": [
        {
          "output_type": "execute_result",
          "data": {
            "text/plain": [
              "((2952, 15), (1022, 14), (16, 23))"
            ]
          },
          "metadata": {
            "tags": []
          },
          "execution_count": 213
        }
      ]
    },
    {
      "cell_type": "code",
      "metadata": {
        "colab": {
          "base_uri": "https://localhost:8080/",
          "height": 602
        },
        "id": "7FRVtAmNsxJo",
        "outputId": "2cc2e9ee-43d9-4c0e-95aa-a6ee4f79fda1"
      },
      "source": [
        "train"
      ],
      "execution_count": null,
      "outputs": [
        {
          "output_type": "execute_result",
          "data": {
            "text/html": [
              "<div>\n",
              "<style scoped>\n",
              "    .dataframe tbody tr th:only-of-type {\n",
              "        vertical-align: middle;\n",
              "    }\n",
              "\n",
              "    .dataframe tbody tr th {\n",
              "        vertical-align: top;\n",
              "    }\n",
              "\n",
              "    .dataframe thead th {\n",
              "        text-align: right;\n",
              "    }\n",
              "</style>\n",
              "<table border=\"1\" class=\"dataframe\">\n",
              "  <thead>\n",
              "    <tr style=\"text-align: right;\">\n",
              "      <th></th>\n",
              "      <th>단지코드</th>\n",
              "      <th>총세대수</th>\n",
              "      <th>임대건물구분</th>\n",
              "      <th>지역</th>\n",
              "      <th>공급유형</th>\n",
              "      <th>전용면적</th>\n",
              "      <th>전용면적별세대수</th>\n",
              "      <th>공가수</th>\n",
              "      <th>자격유형</th>\n",
              "      <th>임대보증금</th>\n",
              "      <th>임대료</th>\n",
              "      <th>도보 10분거리 내 지하철역 수(환승노선 수 반영)</th>\n",
              "      <th>도보 10분거리 내 버스정류장 수</th>\n",
              "      <th>단지내주차면수</th>\n",
              "      <th>등록차량수</th>\n",
              "    </tr>\n",
              "  </thead>\n",
              "  <tbody>\n",
              "    <tr>\n",
              "      <th>0</th>\n",
              "      <td>C2483</td>\n",
              "      <td>900</td>\n",
              "      <td>아파트</td>\n",
              "      <td>경상북도</td>\n",
              "      <td>국민임대</td>\n",
              "      <td>39.72</td>\n",
              "      <td>134</td>\n",
              "      <td>38.0</td>\n",
              "      <td>A</td>\n",
              "      <td>15667000</td>\n",
              "      <td>103680</td>\n",
              "      <td>0.0</td>\n",
              "      <td>3.0</td>\n",
              "      <td>1425.0</td>\n",
              "      <td>1015.0</td>\n",
              "    </tr>\n",
              "    <tr>\n",
              "      <th>1</th>\n",
              "      <td>C2483</td>\n",
              "      <td>900</td>\n",
              "      <td>아파트</td>\n",
              "      <td>경상북도</td>\n",
              "      <td>국민임대</td>\n",
              "      <td>39.72</td>\n",
              "      <td>15</td>\n",
              "      <td>38.0</td>\n",
              "      <td>A</td>\n",
              "      <td>15667000</td>\n",
              "      <td>103680</td>\n",
              "      <td>0.0</td>\n",
              "      <td>3.0</td>\n",
              "      <td>1425.0</td>\n",
              "      <td>1015.0</td>\n",
              "    </tr>\n",
              "    <tr>\n",
              "      <th>2</th>\n",
              "      <td>C2483</td>\n",
              "      <td>900</td>\n",
              "      <td>아파트</td>\n",
              "      <td>경상북도</td>\n",
              "      <td>국민임대</td>\n",
              "      <td>51.93</td>\n",
              "      <td>385</td>\n",
              "      <td>38.0</td>\n",
              "      <td>A</td>\n",
              "      <td>27304000</td>\n",
              "      <td>184330</td>\n",
              "      <td>0.0</td>\n",
              "      <td>3.0</td>\n",
              "      <td>1425.0</td>\n",
              "      <td>1015.0</td>\n",
              "    </tr>\n",
              "    <tr>\n",
              "      <th>3</th>\n",
              "      <td>C2483</td>\n",
              "      <td>900</td>\n",
              "      <td>아파트</td>\n",
              "      <td>경상북도</td>\n",
              "      <td>국민임대</td>\n",
              "      <td>51.93</td>\n",
              "      <td>15</td>\n",
              "      <td>38.0</td>\n",
              "      <td>A</td>\n",
              "      <td>27304000</td>\n",
              "      <td>184330</td>\n",
              "      <td>0.0</td>\n",
              "      <td>3.0</td>\n",
              "      <td>1425.0</td>\n",
              "      <td>1015.0</td>\n",
              "    </tr>\n",
              "    <tr>\n",
              "      <th>4</th>\n",
              "      <td>C2483</td>\n",
              "      <td>900</td>\n",
              "      <td>아파트</td>\n",
              "      <td>경상북도</td>\n",
              "      <td>국민임대</td>\n",
              "      <td>51.93</td>\n",
              "      <td>41</td>\n",
              "      <td>38.0</td>\n",
              "      <td>A</td>\n",
              "      <td>27304000</td>\n",
              "      <td>184330</td>\n",
              "      <td>0.0</td>\n",
              "      <td>3.0</td>\n",
              "      <td>1425.0</td>\n",
              "      <td>1015.0</td>\n",
              "    </tr>\n",
              "    <tr>\n",
              "      <th>...</th>\n",
              "      <td>...</td>\n",
              "      <td>...</td>\n",
              "      <td>...</td>\n",
              "      <td>...</td>\n",
              "      <td>...</td>\n",
              "      <td>...</td>\n",
              "      <td>...</td>\n",
              "      <td>...</td>\n",
              "      <td>...</td>\n",
              "      <td>...</td>\n",
              "      <td>...</td>\n",
              "      <td>...</td>\n",
              "      <td>...</td>\n",
              "      <td>...</td>\n",
              "      <td>...</td>\n",
              "    </tr>\n",
              "    <tr>\n",
              "      <th>2947</th>\n",
              "      <td>C2532</td>\n",
              "      <td>239</td>\n",
              "      <td>아파트</td>\n",
              "      <td>강원도</td>\n",
              "      <td>국민임대</td>\n",
              "      <td>49.20</td>\n",
              "      <td>19</td>\n",
              "      <td>7.0</td>\n",
              "      <td>A</td>\n",
              "      <td>11346000</td>\n",
              "      <td>116090</td>\n",
              "      <td>0.0</td>\n",
              "      <td>1.0</td>\n",
              "      <td>166.0</td>\n",
              "      <td>146.0</td>\n",
              "    </tr>\n",
              "    <tr>\n",
              "      <th>2948</th>\n",
              "      <td>C2532</td>\n",
              "      <td>239</td>\n",
              "      <td>아파트</td>\n",
              "      <td>강원도</td>\n",
              "      <td>국민임대</td>\n",
              "      <td>51.08</td>\n",
              "      <td>34</td>\n",
              "      <td>7.0</td>\n",
              "      <td>A</td>\n",
              "      <td>14005000</td>\n",
              "      <td>142310</td>\n",
              "      <td>0.0</td>\n",
              "      <td>1.0</td>\n",
              "      <td>166.0</td>\n",
              "      <td>146.0</td>\n",
              "    </tr>\n",
              "    <tr>\n",
              "      <th>2949</th>\n",
              "      <td>C2532</td>\n",
              "      <td>239</td>\n",
              "      <td>아파트</td>\n",
              "      <td>강원도</td>\n",
              "      <td>국민임대</td>\n",
              "      <td>51.73</td>\n",
              "      <td>34</td>\n",
              "      <td>7.0</td>\n",
              "      <td>A</td>\n",
              "      <td>14005000</td>\n",
              "      <td>142310</td>\n",
              "      <td>0.0</td>\n",
              "      <td>1.0</td>\n",
              "      <td>166.0</td>\n",
              "      <td>146.0</td>\n",
              "    </tr>\n",
              "    <tr>\n",
              "      <th>2950</th>\n",
              "      <td>C2532</td>\n",
              "      <td>239</td>\n",
              "      <td>아파트</td>\n",
              "      <td>강원도</td>\n",
              "      <td>국민임대</td>\n",
              "      <td>51.96</td>\n",
              "      <td>114</td>\n",
              "      <td>7.0</td>\n",
              "      <td>A</td>\n",
              "      <td>14005000</td>\n",
              "      <td>142310</td>\n",
              "      <td>0.0</td>\n",
              "      <td>1.0</td>\n",
              "      <td>166.0</td>\n",
              "      <td>146.0</td>\n",
              "    </tr>\n",
              "    <tr>\n",
              "      <th>2951</th>\n",
              "      <td>C2532</td>\n",
              "      <td>239</td>\n",
              "      <td>아파트</td>\n",
              "      <td>강원도</td>\n",
              "      <td>국민임대</td>\n",
              "      <td>54.95</td>\n",
              "      <td>19</td>\n",
              "      <td>7.0</td>\n",
              "      <td>A</td>\n",
              "      <td>14830000</td>\n",
              "      <td>151030</td>\n",
              "      <td>0.0</td>\n",
              "      <td>1.0</td>\n",
              "      <td>166.0</td>\n",
              "      <td>146.0</td>\n",
              "    </tr>\n",
              "  </tbody>\n",
              "</table>\n",
              "<p>2952 rows × 15 columns</p>\n",
              "</div>"
            ],
            "text/plain": [
              "       단지코드  총세대수 임대건물구분  ... 도보 10분거리 내 버스정류장 수 단지내주차면수   등록차량수\n",
              "0     C2483   900    아파트  ...                3.0  1425.0  1015.0\n",
              "1     C2483   900    아파트  ...                3.0  1425.0  1015.0\n",
              "2     C2483   900    아파트  ...                3.0  1425.0  1015.0\n",
              "3     C2483   900    아파트  ...                3.0  1425.0  1015.0\n",
              "4     C2483   900    아파트  ...                3.0  1425.0  1015.0\n",
              "...     ...   ...    ...  ...                ...     ...     ...\n",
              "2947  C2532   239    아파트  ...                1.0   166.0   146.0\n",
              "2948  C2532   239    아파트  ...                1.0   166.0   146.0\n",
              "2949  C2532   239    아파트  ...                1.0   166.0   146.0\n",
              "2950  C2532   239    아파트  ...                1.0   166.0   146.0\n",
              "2951  C2532   239    아파트  ...                1.0   166.0   146.0\n",
              "\n",
              "[2952 rows x 15 columns]"
            ]
          },
          "metadata": {
            "tags": []
          },
          "execution_count": 498
        }
      ]
    },
    {
      "cell_type": "code",
      "metadata": {
        "colab": {
          "base_uri": "https://localhost:8080/"
        },
        "id": "30CWzFOyf4Jp",
        "outputId": "7b943b41-016c-4f8f-e17d-5edd95b43a37"
      },
      "source": [
        "train.info()"
      ],
      "execution_count": null,
      "outputs": [
        {
          "output_type": "stream",
          "text": [
            "<class 'pandas.core.frame.DataFrame'>\n",
            "RangeIndex: 2952 entries, 0 to 2951\n",
            "Data columns (total 15 columns):\n",
            " #   Column                        Non-Null Count  Dtype  \n",
            "---  ------                        --------------  -----  \n",
            " 0   단지코드                          2952 non-null   object \n",
            " 1   총세대수                          2952 non-null   int64  \n",
            " 2   임대건물구분                        2952 non-null   object \n",
            " 3   지역                            2952 non-null   object \n",
            " 4   공급유형                          2952 non-null   object \n",
            " 5   전용면적                          2952 non-null   float64\n",
            " 6   전용면적별세대수                      2952 non-null   int64  \n",
            " 7   공가수                           2952 non-null   float64\n",
            " 8   자격유형                          2952 non-null   object \n",
            " 9   임대보증금                         2383 non-null   object \n",
            " 10  임대료                           2383 non-null   object \n",
            " 11  도보 10분거리 내 지하철역 수(환승노선 수 반영)  2741 non-null   float64\n",
            " 12  도보 10분거리 내 버스정류장 수            2948 non-null   float64\n",
            " 13  단지내주차면수                       2952 non-null   float64\n",
            " 14  등록차량수                         2952 non-null   float64\n",
            "dtypes: float64(6), int64(2), object(7)\n",
            "memory usage: 346.1+ KB\n"
          ],
          "name": "stdout"
        }
      ]
    },
    {
      "cell_type": "code",
      "metadata": {
        "colab": {
          "base_uri": "https://localhost:8080/",
          "height": 304
        },
        "id": "fnkIpIxuGNBN",
        "outputId": "cb364e5a-5797-417c-9e64-60f18e8473c9"
      },
      "source": [
        "train.head()"
      ],
      "execution_count": null,
      "outputs": [
        {
          "output_type": "execute_result",
          "data": {
            "text/html": [
              "<div>\n",
              "<style scoped>\n",
              "    .dataframe tbody tr th:only-of-type {\n",
              "        vertical-align: middle;\n",
              "    }\n",
              "\n",
              "    .dataframe tbody tr th {\n",
              "        vertical-align: top;\n",
              "    }\n",
              "\n",
              "    .dataframe thead th {\n",
              "        text-align: right;\n",
              "    }\n",
              "</style>\n",
              "<table border=\"1\" class=\"dataframe\">\n",
              "  <thead>\n",
              "    <tr style=\"text-align: right;\">\n",
              "      <th></th>\n",
              "      <th>단지코드</th>\n",
              "      <th>총세대수</th>\n",
              "      <th>임대건물구분</th>\n",
              "      <th>지역</th>\n",
              "      <th>공급유형</th>\n",
              "      <th>전용면적</th>\n",
              "      <th>전용면적별세대수</th>\n",
              "      <th>공가수</th>\n",
              "      <th>자격유형</th>\n",
              "      <th>임대보증금</th>\n",
              "      <th>임대료</th>\n",
              "      <th>도보 10분거리 내 지하철역 수(환승노선 수 반영)</th>\n",
              "      <th>도보 10분거리 내 버스정류장 수</th>\n",
              "      <th>단지내주차면수</th>\n",
              "      <th>등록차량수</th>\n",
              "    </tr>\n",
              "  </thead>\n",
              "  <tbody>\n",
              "    <tr>\n",
              "      <th>0</th>\n",
              "      <td>C2483</td>\n",
              "      <td>900</td>\n",
              "      <td>아파트</td>\n",
              "      <td>경상북도</td>\n",
              "      <td>국민임대</td>\n",
              "      <td>39.72</td>\n",
              "      <td>134</td>\n",
              "      <td>38.0</td>\n",
              "      <td>A</td>\n",
              "      <td>15667000</td>\n",
              "      <td>103680</td>\n",
              "      <td>0.0</td>\n",
              "      <td>3.0</td>\n",
              "      <td>1425.0</td>\n",
              "      <td>1015.0</td>\n",
              "    </tr>\n",
              "    <tr>\n",
              "      <th>1</th>\n",
              "      <td>C2483</td>\n",
              "      <td>900</td>\n",
              "      <td>아파트</td>\n",
              "      <td>경상북도</td>\n",
              "      <td>국민임대</td>\n",
              "      <td>39.72</td>\n",
              "      <td>15</td>\n",
              "      <td>38.0</td>\n",
              "      <td>A</td>\n",
              "      <td>15667000</td>\n",
              "      <td>103680</td>\n",
              "      <td>0.0</td>\n",
              "      <td>3.0</td>\n",
              "      <td>1425.0</td>\n",
              "      <td>1015.0</td>\n",
              "    </tr>\n",
              "    <tr>\n",
              "      <th>2</th>\n",
              "      <td>C2483</td>\n",
              "      <td>900</td>\n",
              "      <td>아파트</td>\n",
              "      <td>경상북도</td>\n",
              "      <td>국민임대</td>\n",
              "      <td>51.93</td>\n",
              "      <td>385</td>\n",
              "      <td>38.0</td>\n",
              "      <td>A</td>\n",
              "      <td>27304000</td>\n",
              "      <td>184330</td>\n",
              "      <td>0.0</td>\n",
              "      <td>3.0</td>\n",
              "      <td>1425.0</td>\n",
              "      <td>1015.0</td>\n",
              "    </tr>\n",
              "    <tr>\n",
              "      <th>3</th>\n",
              "      <td>C2483</td>\n",
              "      <td>900</td>\n",
              "      <td>아파트</td>\n",
              "      <td>경상북도</td>\n",
              "      <td>국민임대</td>\n",
              "      <td>51.93</td>\n",
              "      <td>15</td>\n",
              "      <td>38.0</td>\n",
              "      <td>A</td>\n",
              "      <td>27304000</td>\n",
              "      <td>184330</td>\n",
              "      <td>0.0</td>\n",
              "      <td>3.0</td>\n",
              "      <td>1425.0</td>\n",
              "      <td>1015.0</td>\n",
              "    </tr>\n",
              "    <tr>\n",
              "      <th>4</th>\n",
              "      <td>C2483</td>\n",
              "      <td>900</td>\n",
              "      <td>아파트</td>\n",
              "      <td>경상북도</td>\n",
              "      <td>국민임대</td>\n",
              "      <td>51.93</td>\n",
              "      <td>41</td>\n",
              "      <td>38.0</td>\n",
              "      <td>A</td>\n",
              "      <td>27304000</td>\n",
              "      <td>184330</td>\n",
              "      <td>0.0</td>\n",
              "      <td>3.0</td>\n",
              "      <td>1425.0</td>\n",
              "      <td>1015.0</td>\n",
              "    </tr>\n",
              "  </tbody>\n",
              "</table>\n",
              "</div>"
            ],
            "text/plain": [
              "    단지코드  총세대수 임대건물구분  ... 도보 10분거리 내 버스정류장 수 단지내주차면수   등록차량수\n",
              "0  C2483   900    아파트  ...                3.0  1425.0  1015.0\n",
              "1  C2483   900    아파트  ...                3.0  1425.0  1015.0\n",
              "2  C2483   900    아파트  ...                3.0  1425.0  1015.0\n",
              "3  C2483   900    아파트  ...                3.0  1425.0  1015.0\n",
              "4  C2483   900    아파트  ...                3.0  1425.0  1015.0\n",
              "\n",
              "[5 rows x 15 columns]"
            ]
          },
          "metadata": {
            "tags": []
          },
          "execution_count": 4
        }
      ]
    },
    {
      "cell_type": "code",
      "metadata": {
        "id": "9Rl_QPkMGn-E"
      },
      "source": [
        "# train set과 test set 합쳐서 전처리\n",
        "data = pd.concat([train, test], axis=0)"
      ],
      "execution_count": 214,
      "outputs": []
    },
    {
      "cell_type": "code",
      "metadata": {
        "colab": {
          "base_uri": "https://localhost:8080/",
          "height": 511
        },
        "id": "eRSQZAc4Gs-f",
        "outputId": "70ff68a0-cc20-49a1-f0a5-4226d0fa9aca"
      },
      "source": [
        "# null값 체크\n",
        "pd.DataFrame(data.isnull().mean()).rename(columns={0:'percent'}).sort_values('percent', ascending=False)*100"
      ],
      "execution_count": null,
      "outputs": [
        {
          "output_type": "execute_result",
          "data": {
            "text/html": [
              "<div>\n",
              "<style scoped>\n",
              "    .dataframe tbody tr th:only-of-type {\n",
              "        vertical-align: middle;\n",
              "    }\n",
              "\n",
              "    .dataframe tbody tr th {\n",
              "        vertical-align: top;\n",
              "    }\n",
              "\n",
              "    .dataframe thead th {\n",
              "        text-align: right;\n",
              "    }\n",
              "</style>\n",
              "<table border=\"1\" class=\"dataframe\">\n",
              "  <thead>\n",
              "    <tr style=\"text-align: right;\">\n",
              "      <th></th>\n",
              "      <th>percent</th>\n",
              "    </tr>\n",
              "  </thead>\n",
              "  <tbody>\n",
              "    <tr>\n",
              "      <th>등록차량수</th>\n",
              "      <td>25.717162</td>\n",
              "    </tr>\n",
              "    <tr>\n",
              "      <th>임대보증금</th>\n",
              "      <td>18.847509</td>\n",
              "    </tr>\n",
              "    <tr>\n",
              "      <th>임대료</th>\n",
              "      <td>18.847509</td>\n",
              "    </tr>\n",
              "    <tr>\n",
              "      <th>도보 10분거리 내 지하철역 수(환승노선 수 반영)</th>\n",
              "      <td>6.366381</td>\n",
              "    </tr>\n",
              "    <tr>\n",
              "      <th>도보 10분거리 내 버스정류장 수</th>\n",
              "      <td>0.100654</td>\n",
              "    </tr>\n",
              "    <tr>\n",
              "      <th>자격유형</th>\n",
              "      <td>0.050327</td>\n",
              "    </tr>\n",
              "    <tr>\n",
              "      <th>단지코드</th>\n",
              "      <td>0.000000</td>\n",
              "    </tr>\n",
              "    <tr>\n",
              "      <th>총세대수</th>\n",
              "      <td>0.000000</td>\n",
              "    </tr>\n",
              "    <tr>\n",
              "      <th>임대건물구분</th>\n",
              "      <td>0.000000</td>\n",
              "    </tr>\n",
              "    <tr>\n",
              "      <th>지역</th>\n",
              "      <td>0.000000</td>\n",
              "    </tr>\n",
              "    <tr>\n",
              "      <th>공급유형</th>\n",
              "      <td>0.000000</td>\n",
              "    </tr>\n",
              "    <tr>\n",
              "      <th>전용면적</th>\n",
              "      <td>0.000000</td>\n",
              "    </tr>\n",
              "    <tr>\n",
              "      <th>전용면적별세대수</th>\n",
              "      <td>0.000000</td>\n",
              "    </tr>\n",
              "    <tr>\n",
              "      <th>공가수</th>\n",
              "      <td>0.000000</td>\n",
              "    </tr>\n",
              "    <tr>\n",
              "      <th>단지내주차면수</th>\n",
              "      <td>0.000000</td>\n",
              "    </tr>\n",
              "  </tbody>\n",
              "</table>\n",
              "</div>"
            ],
            "text/plain": [
              "                                percent\n",
              "등록차량수                         25.717162\n",
              "임대보증금                         18.847509\n",
              "임대료                           18.847509\n",
              "도보 10분거리 내 지하철역 수(환승노선 수 반영)   6.366381\n",
              "도보 10분거리 내 버스정류장 수             0.100654\n",
              "자격유형                           0.050327\n",
              "단지코드                           0.000000\n",
              "총세대수                           0.000000\n",
              "임대건물구분                         0.000000\n",
              "지역                             0.000000\n",
              "공급유형                           0.000000\n",
              "전용면적                           0.000000\n",
              "전용면적별세대수                       0.000000\n",
              "공가수                            0.000000\n",
              "단지내주차면수                        0.000000"
            ]
          },
          "metadata": {
            "tags": []
          },
          "execution_count": 5
        }
      ]
    },
    {
      "cell_type": "code",
      "metadata": {
        "colab": {
          "base_uri": "https://localhost:8080/"
        },
        "id": "W_OSOSx2OHlK",
        "outputId": "b62b425b-57c3-4dec-a003-f09977fb55a5"
      },
      "source": [
        "# null값 처리\n",
        "data.loc[data['임대보증금'].isnull()]['자격유형'].unique()\n",
        "# 임대보증금 null값들의 자격유형은 다 'D'이네..."
      ],
      "execution_count": null,
      "outputs": [
        {
          "output_type": "execute_result",
          "data": {
            "text/plain": [
              "array(['D'], dtype=object)"
            ]
          },
          "metadata": {
            "tags": []
          },
          "execution_count": 78
        }
      ]
    },
    {
      "cell_type": "code",
      "metadata": {
        "colab": {
          "base_uri": "https://localhost:8080/",
          "height": 394
        },
        "id": "2ULqsi1Oi-ak",
        "outputId": "f27294b5-e641-463d-c603-b6e8b0b8eadb"
      },
      "source": [
        "# 자격유형에 대해서 EDA해보자\n",
        "data['자격유형'].hist(figsize=(8,6))\n",
        "# A가 가장 많고, dehijcdklno순"
      ],
      "execution_count": null,
      "outputs": [
        {
          "output_type": "execute_result",
          "data": {
            "text/plain": [
              "<matplotlib.axes._subplots.AxesSubplot at 0x7f01af588cd0>"
            ]
          },
          "metadata": {
            "tags": []
          },
          "execution_count": 6
        },
        {
          "output_type": "stream",
          "text": [
            "findfont: Font family ['NanumGothic'] not found. Falling back to DejaVu Sans.\n"
          ],
          "name": "stderr"
        },
        {
          "output_type": "display_data",
          "data": {
            "image/png": "[encoded data removed]",
            "text/plain": [
              "<Figure size 576x432 with 1 Axes>"
            ]
          },
          "metadata": {
            "tags": [],
            "needs_background": "light"
          }
        }
      ]
    },
    {
      "cell_type": "code",
      "metadata": {
        "colab": {
          "base_uri": "https://localhost:8080/"
        },
        "id": "amK1MkxrfcC2",
        "outputId": "b4fec12b-39f1-4fd5-b3f8-fee2ad50932a"
      },
      "source": [
        "data.loc[data['임대보증금'].isnull()]['지역'].unique()\n",
        "# 서울 빼고 모든 지방이 포함되네"
      ],
      "execution_count": null,
      "outputs": [
        {
          "output_type": "execute_result",
          "data": {
            "text/plain": [
              "array(['강원도', '충청남도', '경상남도', '대전광역시', '부산광역시', '제주특별자치도', '울산광역시'],\n",
              "      dtype=object)"
            ]
          },
          "metadata": {
            "tags": []
          },
          "execution_count": 85
        }
      ]
    },
    {
      "cell_type": "code",
      "metadata": {
        "colab": {
          "base_uri": "https://localhost:8080/",
          "height": 922
        },
        "id": "5Q_0k8MwoiPo",
        "outputId": "ba5094dc-8d5a-411f-fc36-baa78bdbddcd"
      },
      "source": [
        "data.loc[data['임대보증금']=='-']\n",
        "# 이것을 어떻게 처리할지 고민..."
      ],
      "execution_count": null,
      "outputs": [
        {
          "output_type": "execute_result",
          "data": {
            "text/html": [
              "<div>\n",
              "<style scoped>\n",
              "    .dataframe tbody tr th:only-of-type {\n",
              "        vertical-align: middle;\n",
              "    }\n",
              "\n",
              "    .dataframe tbody tr th {\n",
              "        vertical-align: top;\n",
              "    }\n",
              "\n",
              "    .dataframe thead th {\n",
              "        text-align: right;\n",
              "    }\n",
              "</style>\n",
              "<table border=\"1\" class=\"dataframe\">\n",
              "  <thead>\n",
              "    <tr style=\"text-align: right;\">\n",
              "      <th></th>\n",
              "      <th>단지코드</th>\n",
              "      <th>총세대수</th>\n",
              "      <th>임대건물구분</th>\n",
              "      <th>지역</th>\n",
              "      <th>공급유형</th>\n",
              "      <th>전용면적</th>\n",
              "      <th>전용면적별세대수</th>\n",
              "      <th>공가수</th>\n",
              "      <th>자격유형</th>\n",
              "      <th>임대보증금</th>\n",
              "      <th>임대료</th>\n",
              "      <th>도보 10분거리 내 지하철역 수(환승노선 수 반영)</th>\n",
              "      <th>도보 10분거리 내 버스정류장 수</th>\n",
              "      <th>단지내주차면수</th>\n",
              "      <th>등록차량수</th>\n",
              "    </tr>\n",
              "  </thead>\n",
              "  <tbody>\n",
              "    <tr>\n",
              "      <th>2547</th>\n",
              "      <td>C1326</td>\n",
              "      <td>1934</td>\n",
              "      <td>아파트</td>\n",
              "      <td>부산광역시</td>\n",
              "      <td>국민임대</td>\n",
              "      <td>24.72</td>\n",
              "      <td>472</td>\n",
              "      <td>43.0</td>\n",
              "      <td>H</td>\n",
              "      <td>-</td>\n",
              "      <td>-</td>\n",
              "      <td>0.0</td>\n",
              "      <td>4.0</td>\n",
              "      <td>1670.0</td>\n",
              "      <td>1153.0</td>\n",
              "    </tr>\n",
              "    <tr>\n",
              "      <th>2548</th>\n",
              "      <td>C1326</td>\n",
              "      <td>1934</td>\n",
              "      <td>아파트</td>\n",
              "      <td>부산광역시</td>\n",
              "      <td>국민임대</td>\n",
              "      <td>24.79</td>\n",
              "      <td>104</td>\n",
              "      <td>43.0</td>\n",
              "      <td>H</td>\n",
              "      <td>-</td>\n",
              "      <td>-</td>\n",
              "      <td>0.0</td>\n",
              "      <td>4.0</td>\n",
              "      <td>1670.0</td>\n",
              "      <td>1153.0</td>\n",
              "    </tr>\n",
              "    <tr>\n",
              "      <th>2549</th>\n",
              "      <td>C1326</td>\n",
              "      <td>1934</td>\n",
              "      <td>아파트</td>\n",
              "      <td>부산광역시</td>\n",
              "      <td>국민임대</td>\n",
              "      <td>26.83</td>\n",
              "      <td>590</td>\n",
              "      <td>43.0</td>\n",
              "      <td>H</td>\n",
              "      <td>-</td>\n",
              "      <td>-</td>\n",
              "      <td>0.0</td>\n",
              "      <td>4.0</td>\n",
              "      <td>1670.0</td>\n",
              "      <td>1153.0</td>\n",
              "    </tr>\n",
              "    <tr>\n",
              "      <th>2550</th>\n",
              "      <td>C1326</td>\n",
              "      <td>1934</td>\n",
              "      <td>아파트</td>\n",
              "      <td>부산광역시</td>\n",
              "      <td>국민임대</td>\n",
              "      <td>37.70</td>\n",
              "      <td>464</td>\n",
              "      <td>43.0</td>\n",
              "      <td>H</td>\n",
              "      <td>-</td>\n",
              "      <td>-</td>\n",
              "      <td>0.0</td>\n",
              "      <td>4.0</td>\n",
              "      <td>1670.0</td>\n",
              "      <td>1153.0</td>\n",
              "    </tr>\n",
              "    <tr>\n",
              "      <th>2551</th>\n",
              "      <td>C1326</td>\n",
              "      <td>1934</td>\n",
              "      <td>아파트</td>\n",
              "      <td>부산광역시</td>\n",
              "      <td>국민임대</td>\n",
              "      <td>46.94</td>\n",
              "      <td>304</td>\n",
              "      <td>43.0</td>\n",
              "      <td>H</td>\n",
              "      <td>-</td>\n",
              "      <td>-</td>\n",
              "      <td>0.0</td>\n",
              "      <td>4.0</td>\n",
              "      <td>1670.0</td>\n",
              "      <td>1153.0</td>\n",
              "    </tr>\n",
              "    <tr>\n",
              "      <th>2680</th>\n",
              "      <td>C1786</td>\n",
              "      <td>480</td>\n",
              "      <td>아파트</td>\n",
              "      <td>강원도</td>\n",
              "      <td>행복주택</td>\n",
              "      <td>16.91</td>\n",
              "      <td>156</td>\n",
              "      <td>25.0</td>\n",
              "      <td>K</td>\n",
              "      <td>-</td>\n",
              "      <td>-</td>\n",
              "      <td>0.0</td>\n",
              "      <td>3.0</td>\n",
              "      <td>338.0</td>\n",
              "      <td>345.0</td>\n",
              "    </tr>\n",
              "    <tr>\n",
              "      <th>2681</th>\n",
              "      <td>C1786</td>\n",
              "      <td>480</td>\n",
              "      <td>아파트</td>\n",
              "      <td>강원도</td>\n",
              "      <td>행복주택</td>\n",
              "      <td>26.90</td>\n",
              "      <td>136</td>\n",
              "      <td>25.0</td>\n",
              "      <td>K</td>\n",
              "      <td>-</td>\n",
              "      <td>-</td>\n",
              "      <td>0.0</td>\n",
              "      <td>3.0</td>\n",
              "      <td>338.0</td>\n",
              "      <td>345.0</td>\n",
              "    </tr>\n",
              "    <tr>\n",
              "      <th>2682</th>\n",
              "      <td>C1786</td>\n",
              "      <td>480</td>\n",
              "      <td>아파트</td>\n",
              "      <td>강원도</td>\n",
              "      <td>행복주택</td>\n",
              "      <td>26.90</td>\n",
              "      <td>72</td>\n",
              "      <td>25.0</td>\n",
              "      <td>K</td>\n",
              "      <td>-</td>\n",
              "      <td>-</td>\n",
              "      <td>0.0</td>\n",
              "      <td>3.0</td>\n",
              "      <td>338.0</td>\n",
              "      <td>345.0</td>\n",
              "    </tr>\n",
              "    <tr>\n",
              "      <th>2683</th>\n",
              "      <td>C1786</td>\n",
              "      <td>480</td>\n",
              "      <td>아파트</td>\n",
              "      <td>강원도</td>\n",
              "      <td>행복주택</td>\n",
              "      <td>26.90</td>\n",
              "      <td>24</td>\n",
              "      <td>25.0</td>\n",
              "      <td>K</td>\n",
              "      <td>-</td>\n",
              "      <td>-</td>\n",
              "      <td>0.0</td>\n",
              "      <td>3.0</td>\n",
              "      <td>338.0</td>\n",
              "      <td>345.0</td>\n",
              "    </tr>\n",
              "    <tr>\n",
              "      <th>2906</th>\n",
              "      <td>C2186</td>\n",
              "      <td>924</td>\n",
              "      <td>아파트</td>\n",
              "      <td>대구광역시</td>\n",
              "      <td>국민임대</td>\n",
              "      <td>29.17</td>\n",
              "      <td>238</td>\n",
              "      <td>0.0</td>\n",
              "      <td>H</td>\n",
              "      <td>-</td>\n",
              "      <td>-</td>\n",
              "      <td>0.0</td>\n",
              "      <td>8.0</td>\n",
              "      <td>664.0</td>\n",
              "      <td>744.0</td>\n",
              "    </tr>\n",
              "    <tr>\n",
              "      <th>2907</th>\n",
              "      <td>C2186</td>\n",
              "      <td>924</td>\n",
              "      <td>아파트</td>\n",
              "      <td>대구광역시</td>\n",
              "      <td>국민임대</td>\n",
              "      <td>29.34</td>\n",
              "      <td>38</td>\n",
              "      <td>0.0</td>\n",
              "      <td>H</td>\n",
              "      <td>-</td>\n",
              "      <td>-</td>\n",
              "      <td>0.0</td>\n",
              "      <td>8.0</td>\n",
              "      <td>664.0</td>\n",
              "      <td>744.0</td>\n",
              "    </tr>\n",
              "    <tr>\n",
              "      <th>2908</th>\n",
              "      <td>C2186</td>\n",
              "      <td>924</td>\n",
              "      <td>아파트</td>\n",
              "      <td>대구광역시</td>\n",
              "      <td>국민임대</td>\n",
              "      <td>37.43</td>\n",
              "      <td>220</td>\n",
              "      <td>0.0</td>\n",
              "      <td>H</td>\n",
              "      <td>-</td>\n",
              "      <td>-</td>\n",
              "      <td>0.0</td>\n",
              "      <td>8.0</td>\n",
              "      <td>664.0</td>\n",
              "      <td>744.0</td>\n",
              "    </tr>\n",
              "    <tr>\n",
              "      <th>1005</th>\n",
              "      <td>C2152</td>\n",
              "      <td>120</td>\n",
              "      <td>아파트</td>\n",
              "      <td>강원도</td>\n",
              "      <td>영구임대</td>\n",
              "      <td>24.83</td>\n",
              "      <td>66</td>\n",
              "      <td>9.0</td>\n",
              "      <td>C</td>\n",
              "      <td>-</td>\n",
              "      <td>-</td>\n",
              "      <td>0.0</td>\n",
              "      <td>1.0</td>\n",
              "      <td>40.0</td>\n",
              "      <td>NaN</td>\n",
              "    </tr>\n",
              "    <tr>\n",
              "      <th>1006</th>\n",
              "      <td>C2152</td>\n",
              "      <td>120</td>\n",
              "      <td>아파트</td>\n",
              "      <td>강원도</td>\n",
              "      <td>영구임대</td>\n",
              "      <td>33.84</td>\n",
              "      <td>54</td>\n",
              "      <td>9.0</td>\n",
              "      <td>C</td>\n",
              "      <td>-</td>\n",
              "      <td>-</td>\n",
              "      <td>0.0</td>\n",
              "      <td>1.0</td>\n",
              "      <td>40.0</td>\n",
              "      <td>NaN</td>\n",
              "    </tr>\n",
              "    <tr>\n",
              "      <th>1014</th>\n",
              "      <td>C1267</td>\n",
              "      <td>675</td>\n",
              "      <td>아파트</td>\n",
              "      <td>경상남도</td>\n",
              "      <td>행복주택</td>\n",
              "      <td>16.94</td>\n",
              "      <td>50</td>\n",
              "      <td>38.0</td>\n",
              "      <td>L</td>\n",
              "      <td>-</td>\n",
              "      <td>-</td>\n",
              "      <td>0.0</td>\n",
              "      <td>1.0</td>\n",
              "      <td>467.0</td>\n",
              "      <td>NaN</td>\n",
              "    </tr>\n",
              "    <tr>\n",
              "      <th>1015</th>\n",
              "      <td>C1267</td>\n",
              "      <td>675</td>\n",
              "      <td>아파트</td>\n",
              "      <td>경상남도</td>\n",
              "      <td>행복주택</td>\n",
              "      <td>26.85</td>\n",
              "      <td>66</td>\n",
              "      <td>38.0</td>\n",
              "      <td>L</td>\n",
              "      <td>-</td>\n",
              "      <td>-</td>\n",
              "      <td>0.0</td>\n",
              "      <td>1.0</td>\n",
              "      <td>467.0</td>\n",
              "      <td>NaN</td>\n",
              "    </tr>\n",
              "    <tr>\n",
              "      <th>1016</th>\n",
              "      <td>C1267</td>\n",
              "      <td>675</td>\n",
              "      <td>아파트</td>\n",
              "      <td>경상남도</td>\n",
              "      <td>행복주택</td>\n",
              "      <td>26.85</td>\n",
              "      <td>8</td>\n",
              "      <td>38.0</td>\n",
              "      <td>L</td>\n",
              "      <td>-</td>\n",
              "      <td>-</td>\n",
              "      <td>0.0</td>\n",
              "      <td>1.0</td>\n",
              "      <td>467.0</td>\n",
              "      <td>NaN</td>\n",
              "    </tr>\n",
              "    <tr>\n",
              "      <th>1017</th>\n",
              "      <td>C1267</td>\n",
              "      <td>675</td>\n",
              "      <td>아파트</td>\n",
              "      <td>경상남도</td>\n",
              "      <td>행복주택</td>\n",
              "      <td>36.77</td>\n",
              "      <td>126</td>\n",
              "      <td>38.0</td>\n",
              "      <td>L</td>\n",
              "      <td>-</td>\n",
              "      <td>-</td>\n",
              "      <td>0.0</td>\n",
              "      <td>1.0</td>\n",
              "      <td>467.0</td>\n",
              "      <td>NaN</td>\n",
              "    </tr>\n",
              "  </tbody>\n",
              "</table>\n",
              "</div>"
            ],
            "text/plain": [
              "       단지코드  총세대수 임대건물구분  ... 도보 10분거리 내 버스정류장 수 단지내주차면수   등록차량수\n",
              "2547  C1326  1934    아파트  ...                4.0  1670.0  1153.0\n",
              "2548  C1326  1934    아파트  ...                4.0  1670.0  1153.0\n",
              "2549  C1326  1934    아파트  ...                4.0  1670.0  1153.0\n",
              "2550  C1326  1934    아파트  ...                4.0  1670.0  1153.0\n",
              "2551  C1326  1934    아파트  ...                4.0  1670.0  1153.0\n",
              "2680  C1786   480    아파트  ...                3.0   338.0   345.0\n",
              "2681  C1786   480    아파트  ...                3.0   338.0   345.0\n",
              "2682  C1786   480    아파트  ...                3.0   338.0   345.0\n",
              "2683  C1786   480    아파트  ...                3.0   338.0   345.0\n",
              "2906  C2186   924    아파트  ...                8.0   664.0   744.0\n",
              "2907  C2186   924    아파트  ...                8.0   664.0   744.0\n",
              "2908  C2186   924    아파트  ...                8.0   664.0   744.0\n",
              "1005  C2152   120    아파트  ...                1.0    40.0     NaN\n",
              "1006  C2152   120    아파트  ...                1.0    40.0     NaN\n",
              "1014  C1267   675    아파트  ...                1.0   467.0     NaN\n",
              "1015  C1267   675    아파트  ...                1.0   467.0     NaN\n",
              "1016  C1267   675    아파트  ...                1.0   467.0     NaN\n",
              "1017  C1267   675    아파트  ...                1.0   467.0     NaN\n",
              "\n",
              "[18 rows x 15 columns]"
            ]
          },
          "metadata": {
            "tags": []
          },
          "execution_count": 133
        }
      ]
    },
    {
      "cell_type": "code",
      "metadata": {
        "colab": {
          "base_uri": "https://localhost:8080/",
          "height": 602
        },
        "id": "ytYse0Sjh5HC",
        "outputId": "dfac991b-3296-4b0c-9576-70c7c5dccec7"
      },
      "source": [
        "data.loc[data['자격유형'] == 'D']\n",
        "# 전용면적별세대수를 보면 D유형은 다 1세대 이다.\n",
        "# 분양해서 들어온것으로 추측할 수 있다.(0으로 치환)"
      ],
      "execution_count": null,
      "outputs": [
        {
          "output_type": "execute_result",
          "data": {
            "text/html": [
              "<div>\n",
              "<style scoped>\n",
              "    .dataframe tbody tr th:only-of-type {\n",
              "        vertical-align: middle;\n",
              "    }\n",
              "\n",
              "    .dataframe tbody tr th {\n",
              "        vertical-align: top;\n",
              "    }\n",
              "\n",
              "    .dataframe thead th {\n",
              "        text-align: right;\n",
              "    }\n",
              "</style>\n",
              "<table border=\"1\" class=\"dataframe\">\n",
              "  <thead>\n",
              "    <tr style=\"text-align: right;\">\n",
              "      <th></th>\n",
              "      <th>단지코드</th>\n",
              "      <th>총세대수</th>\n",
              "      <th>임대건물구분</th>\n",
              "      <th>지역</th>\n",
              "      <th>공급유형</th>\n",
              "      <th>전용면적</th>\n",
              "      <th>전용면적별세대수</th>\n",
              "      <th>공가수</th>\n",
              "      <th>자격유형</th>\n",
              "      <th>임대보증금</th>\n",
              "      <th>임대료</th>\n",
              "      <th>도보 10분거리 내 지하철역 수(환승노선 수 반영)</th>\n",
              "      <th>도보 10분거리 내 버스정류장 수</th>\n",
              "      <th>단지내주차면수</th>\n",
              "      <th>등록차량수</th>\n",
              "    </tr>\n",
              "  </thead>\n",
              "  <tbody>\n",
              "    <tr>\n",
              "      <th>88</th>\n",
              "      <td>C1925</td>\n",
              "      <td>601</td>\n",
              "      <td>상가</td>\n",
              "      <td>강원도</td>\n",
              "      <td>임대상가</td>\n",
              "      <td>32.10</td>\n",
              "      <td>1</td>\n",
              "      <td>9.0</td>\n",
              "      <td>D</td>\n",
              "      <td>NaN</td>\n",
              "      <td>NaN</td>\n",
              "      <td>0.0</td>\n",
              "      <td>4.0</td>\n",
              "      <td>117.0</td>\n",
              "      <td>75.0</td>\n",
              "    </tr>\n",
              "    <tr>\n",
              "      <th>89</th>\n",
              "      <td>C1925</td>\n",
              "      <td>601</td>\n",
              "      <td>상가</td>\n",
              "      <td>강원도</td>\n",
              "      <td>임대상가</td>\n",
              "      <td>32.10</td>\n",
              "      <td>1</td>\n",
              "      <td>9.0</td>\n",
              "      <td>D</td>\n",
              "      <td>NaN</td>\n",
              "      <td>NaN</td>\n",
              "      <td>0.0</td>\n",
              "      <td>4.0</td>\n",
              "      <td>117.0</td>\n",
              "      <td>75.0</td>\n",
              "    </tr>\n",
              "    <tr>\n",
              "      <th>90</th>\n",
              "      <td>C1925</td>\n",
              "      <td>601</td>\n",
              "      <td>상가</td>\n",
              "      <td>강원도</td>\n",
              "      <td>임대상가</td>\n",
              "      <td>32.10</td>\n",
              "      <td>1</td>\n",
              "      <td>9.0</td>\n",
              "      <td>D</td>\n",
              "      <td>NaN</td>\n",
              "      <td>NaN</td>\n",
              "      <td>0.0</td>\n",
              "      <td>4.0</td>\n",
              "      <td>117.0</td>\n",
              "      <td>75.0</td>\n",
              "    </tr>\n",
              "    <tr>\n",
              "      <th>91</th>\n",
              "      <td>C1925</td>\n",
              "      <td>601</td>\n",
              "      <td>상가</td>\n",
              "      <td>강원도</td>\n",
              "      <td>임대상가</td>\n",
              "      <td>72.16</td>\n",
              "      <td>1</td>\n",
              "      <td>9.0</td>\n",
              "      <td>D</td>\n",
              "      <td>NaN</td>\n",
              "      <td>NaN</td>\n",
              "      <td>0.0</td>\n",
              "      <td>4.0</td>\n",
              "      <td>117.0</td>\n",
              "      <td>75.0</td>\n",
              "    </tr>\n",
              "    <tr>\n",
              "      <th>101</th>\n",
              "      <td>C1874</td>\n",
              "      <td>619</td>\n",
              "      <td>상가</td>\n",
              "      <td>충청남도</td>\n",
              "      <td>임대상가</td>\n",
              "      <td>12.62</td>\n",
              "      <td>1</td>\n",
              "      <td>2.0</td>\n",
              "      <td>D</td>\n",
              "      <td>NaN</td>\n",
              "      <td>NaN</td>\n",
              "      <td>NaN</td>\n",
              "      <td>2.0</td>\n",
              "      <td>97.0</td>\n",
              "      <td>62.0</td>\n",
              "    </tr>\n",
              "    <tr>\n",
              "      <th>...</th>\n",
              "      <td>...</td>\n",
              "      <td>...</td>\n",
              "      <td>...</td>\n",
              "      <td>...</td>\n",
              "      <td>...</td>\n",
              "      <td>...</td>\n",
              "      <td>...</td>\n",
              "      <td>...</td>\n",
              "      <td>...</td>\n",
              "      <td>...</td>\n",
              "      <td>...</td>\n",
              "      <td>...</td>\n",
              "      <td>...</td>\n",
              "      <td>...</td>\n",
              "      <td>...</td>\n",
              "    </tr>\n",
              "    <tr>\n",
              "      <th>328</th>\n",
              "      <td>C1729</td>\n",
              "      <td>627</td>\n",
              "      <td>상가</td>\n",
              "      <td>강원도</td>\n",
              "      <td>임대상가</td>\n",
              "      <td>32.46</td>\n",
              "      <td>1</td>\n",
              "      <td>0.0</td>\n",
              "      <td>D</td>\n",
              "      <td>NaN</td>\n",
              "      <td>NaN</td>\n",
              "      <td>0.0</td>\n",
              "      <td>5.0</td>\n",
              "      <td>131.0</td>\n",
              "      <td>NaN</td>\n",
              "    </tr>\n",
              "    <tr>\n",
              "      <th>329</th>\n",
              "      <td>C1729</td>\n",
              "      <td>627</td>\n",
              "      <td>상가</td>\n",
              "      <td>강원도</td>\n",
              "      <td>임대상가</td>\n",
              "      <td>34.86</td>\n",
              "      <td>1</td>\n",
              "      <td>0.0</td>\n",
              "      <td>D</td>\n",
              "      <td>NaN</td>\n",
              "      <td>NaN</td>\n",
              "      <td>0.0</td>\n",
              "      <td>5.0</td>\n",
              "      <td>131.0</td>\n",
              "      <td>NaN</td>\n",
              "    </tr>\n",
              "    <tr>\n",
              "      <th>330</th>\n",
              "      <td>C1729</td>\n",
              "      <td>627</td>\n",
              "      <td>상가</td>\n",
              "      <td>강원도</td>\n",
              "      <td>임대상가</td>\n",
              "      <td>35.76</td>\n",
              "      <td>1</td>\n",
              "      <td>0.0</td>\n",
              "      <td>D</td>\n",
              "      <td>NaN</td>\n",
              "      <td>NaN</td>\n",
              "      <td>0.0</td>\n",
              "      <td>5.0</td>\n",
              "      <td>131.0</td>\n",
              "      <td>NaN</td>\n",
              "    </tr>\n",
              "    <tr>\n",
              "      <th>331</th>\n",
              "      <td>C1729</td>\n",
              "      <td>627</td>\n",
              "      <td>상가</td>\n",
              "      <td>강원도</td>\n",
              "      <td>임대상가</td>\n",
              "      <td>50.08</td>\n",
              "      <td>1</td>\n",
              "      <td>0.0</td>\n",
              "      <td>D</td>\n",
              "      <td>NaN</td>\n",
              "      <td>NaN</td>\n",
              "      <td>0.0</td>\n",
              "      <td>5.0</td>\n",
              "      <td>131.0</td>\n",
              "      <td>NaN</td>\n",
              "    </tr>\n",
              "    <tr>\n",
              "      <th>332</th>\n",
              "      <td>C1729</td>\n",
              "      <td>627</td>\n",
              "      <td>상가</td>\n",
              "      <td>강원도</td>\n",
              "      <td>임대상가</td>\n",
              "      <td>240.22</td>\n",
              "      <td>1</td>\n",
              "      <td>0.0</td>\n",
              "      <td>D</td>\n",
              "      <td>NaN</td>\n",
              "      <td>NaN</td>\n",
              "      <td>0.0</td>\n",
              "      <td>5.0</td>\n",
              "      <td>131.0</td>\n",
              "      <td>NaN</td>\n",
              "    </tr>\n",
              "  </tbody>\n",
              "</table>\n",
              "<p>749 rows × 15 columns</p>\n",
              "</div>"
            ],
            "text/plain": [
              "      단지코드  총세대수 임대건물구분  ... 도보 10분거리 내 버스정류장 수 단지내주차면수  등록차량수\n",
              "88   C1925   601     상가  ...                4.0   117.0   75.0\n",
              "89   C1925   601     상가  ...                4.0   117.0   75.0\n",
              "90   C1925   601     상가  ...                4.0   117.0   75.0\n",
              "91   C1925   601     상가  ...                4.0   117.0   75.0\n",
              "101  C1874   619     상가  ...                2.0    97.0   62.0\n",
              "..     ...   ...    ...  ...                ...     ...    ...\n",
              "328  C1729   627     상가  ...                5.0   131.0    NaN\n",
              "329  C1729   627     상가  ...                5.0   131.0    NaN\n",
              "330  C1729   627     상가  ...                5.0   131.0    NaN\n",
              "331  C1729   627     상가  ...                5.0   131.0    NaN\n",
              "332  C1729   627     상가  ...                5.0   131.0    NaN\n",
              "\n",
              "[749 rows x 15 columns]"
            ]
          },
          "metadata": {
            "tags": []
          },
          "execution_count": 89
        }
      ]
    },
    {
      "cell_type": "code",
      "metadata": {
        "id": "qFHXf7q_kW-y"
      },
      "source": [
        "data['임대보증금'] = data['임대보증금'].fillna(0)\n",
        "data['임대료'] = data['임대료'].fillna(0)\n",
        "data['임대보증금'] = data['임대보증금'].replace({'-':0})\n",
        "data['임대료'] = data['임대료'].replace({'-':0})"
      ],
      "execution_count": 215,
      "outputs": []
    },
    {
      "cell_type": "code",
      "metadata": {
        "id": "UsR2vpNokgeE"
      },
      "source": [
        "data['임대보증금'] = data['임대보증금'].astype('int')\n",
        "data['임대료'] = data['임대료'].astype('int')"
      ],
      "execution_count": 216,
      "outputs": []
    },
    {
      "cell_type": "code",
      "metadata": {
        "colab": {
          "base_uri": "https://localhost:8080/",
          "height": 602
        },
        "id": "boReBKV9k1Pr",
        "outputId": "7d7b99db-414b-402a-97cd-9f49616e5f6a"
      },
      "source": [
        "data.loc[data['도보 10분거리 내 지하철역 수(환승노선 수 반영)'].isnull()]\n",
        "# 지하철 null값을 처리하기 위해 지역을 EDA해보자"
      ],
      "execution_count": null,
      "outputs": [
        {
          "output_type": "execute_result",
          "data": {
            "text/html": [
              "<div>\n",
              "<style scoped>\n",
              "    .dataframe tbody tr th:only-of-type {\n",
              "        vertical-align: middle;\n",
              "    }\n",
              "\n",
              "    .dataframe tbody tr th {\n",
              "        vertical-align: top;\n",
              "    }\n",
              "\n",
              "    .dataframe thead th {\n",
              "        text-align: right;\n",
              "    }\n",
              "</style>\n",
              "<table border=\"1\" class=\"dataframe\">\n",
              "  <thead>\n",
              "    <tr style=\"text-align: right;\">\n",
              "      <th></th>\n",
              "      <th>단지코드</th>\n",
              "      <th>총세대수</th>\n",
              "      <th>임대건물구분</th>\n",
              "      <th>지역</th>\n",
              "      <th>공급유형</th>\n",
              "      <th>전용면적</th>\n",
              "      <th>전용면적별세대수</th>\n",
              "      <th>공가수</th>\n",
              "      <th>자격유형</th>\n",
              "      <th>임대보증금</th>\n",
              "      <th>임대료</th>\n",
              "      <th>도보 10분거리 내 지하철역 수(환승노선 수 반영)</th>\n",
              "      <th>도보 10분거리 내 버스정류장 수</th>\n",
              "      <th>단지내주차면수</th>\n",
              "      <th>등록차량수</th>\n",
              "    </tr>\n",
              "  </thead>\n",
              "  <tbody>\n",
              "    <tr>\n",
              "      <th>94</th>\n",
              "      <td>C1312</td>\n",
              "      <td>518</td>\n",
              "      <td>아파트</td>\n",
              "      <td>충청남도</td>\n",
              "      <td>국민임대</td>\n",
              "      <td>39.72</td>\n",
              "      <td>60</td>\n",
              "      <td>12.0</td>\n",
              "      <td>A</td>\n",
              "      <td>17460000</td>\n",
              "      <td>122210</td>\n",
              "      <td>NaN</td>\n",
              "      <td>3.0</td>\n",
              "      <td>527.0</td>\n",
              "      <td>359.0</td>\n",
              "    </tr>\n",
              "    <tr>\n",
              "      <th>95</th>\n",
              "      <td>C1312</td>\n",
              "      <td>518</td>\n",
              "      <td>아파트</td>\n",
              "      <td>충청남도</td>\n",
              "      <td>국민임대</td>\n",
              "      <td>39.98</td>\n",
              "      <td>89</td>\n",
              "      <td>12.0</td>\n",
              "      <td>A</td>\n",
              "      <td>17460000</td>\n",
              "      <td>122210</td>\n",
              "      <td>NaN</td>\n",
              "      <td>3.0</td>\n",
              "      <td>527.0</td>\n",
              "      <td>359.0</td>\n",
              "    </tr>\n",
              "    <tr>\n",
              "      <th>96</th>\n",
              "      <td>C1312</td>\n",
              "      <td>518</td>\n",
              "      <td>아파트</td>\n",
              "      <td>충청남도</td>\n",
              "      <td>국민임대</td>\n",
              "      <td>41.55</td>\n",
              "      <td>225</td>\n",
              "      <td>12.0</td>\n",
              "      <td>A</td>\n",
              "      <td>19954000</td>\n",
              "      <td>130940</td>\n",
              "      <td>NaN</td>\n",
              "      <td>3.0</td>\n",
              "      <td>527.0</td>\n",
              "      <td>359.0</td>\n",
              "    </tr>\n",
              "    <tr>\n",
              "      <th>97</th>\n",
              "      <td>C1312</td>\n",
              "      <td>518</td>\n",
              "      <td>아파트</td>\n",
              "      <td>충청남도</td>\n",
              "      <td>국민임대</td>\n",
              "      <td>46.90</td>\n",
              "      <td>143</td>\n",
              "      <td>12.0</td>\n",
              "      <td>A</td>\n",
              "      <td>28687000</td>\n",
              "      <td>149660</td>\n",
              "      <td>NaN</td>\n",
              "      <td>3.0</td>\n",
              "      <td>527.0</td>\n",
              "      <td>359.0</td>\n",
              "    </tr>\n",
              "    <tr>\n",
              "      <th>98</th>\n",
              "      <td>C1874</td>\n",
              "      <td>619</td>\n",
              "      <td>아파트</td>\n",
              "      <td>충청남도</td>\n",
              "      <td>영구임대</td>\n",
              "      <td>26.37</td>\n",
              "      <td>294</td>\n",
              "      <td>2.0</td>\n",
              "      <td>C</td>\n",
              "      <td>3141000</td>\n",
              "      <td>69900</td>\n",
              "      <td>NaN</td>\n",
              "      <td>2.0</td>\n",
              "      <td>97.0</td>\n",
              "      <td>62.0</td>\n",
              "    </tr>\n",
              "    <tr>\n",
              "      <th>...</th>\n",
              "      <td>...</td>\n",
              "      <td>...</td>\n",
              "      <td>...</td>\n",
              "      <td>...</td>\n",
              "      <td>...</td>\n",
              "      <td>...</td>\n",
              "      <td>...</td>\n",
              "      <td>...</td>\n",
              "      <td>...</td>\n",
              "      <td>...</td>\n",
              "      <td>...</td>\n",
              "      <td>...</td>\n",
              "      <td>...</td>\n",
              "      <td>...</td>\n",
              "      <td>...</td>\n",
              "    </tr>\n",
              "    <tr>\n",
              "      <th>307</th>\n",
              "      <td>C1318</td>\n",
              "      <td>312</td>\n",
              "      <td>아파트</td>\n",
              "      <td>충청남도</td>\n",
              "      <td>공공임대(50년)</td>\n",
              "      <td>49.99</td>\n",
              "      <td>159</td>\n",
              "      <td>1.0</td>\n",
              "      <td>A</td>\n",
              "      <td>18269000</td>\n",
              "      <td>258880</td>\n",
              "      <td>NaN</td>\n",
              "      <td>11.0</td>\n",
              "      <td>226.0</td>\n",
              "      <td>NaN</td>\n",
              "    </tr>\n",
              "    <tr>\n",
              "      <th>891</th>\n",
              "      <td>C1327</td>\n",
              "      <td>98</td>\n",
              "      <td>아파트</td>\n",
              "      <td>대전광역시</td>\n",
              "      <td>행복주택</td>\n",
              "      <td>16.83</td>\n",
              "      <td>30</td>\n",
              "      <td>13.0</td>\n",
              "      <td>J</td>\n",
              "      <td>18800000</td>\n",
              "      <td>94000</td>\n",
              "      <td>NaN</td>\n",
              "      <td>17.0</td>\n",
              "      <td>98.0</td>\n",
              "      <td>NaN</td>\n",
              "    </tr>\n",
              "    <tr>\n",
              "      <th>892</th>\n",
              "      <td>C1327</td>\n",
              "      <td>98</td>\n",
              "      <td>아파트</td>\n",
              "      <td>대전광역시</td>\n",
              "      <td>행복주택</td>\n",
              "      <td>26.51</td>\n",
              "      <td>10</td>\n",
              "      <td>13.0</td>\n",
              "      <td>J</td>\n",
              "      <td>28400000</td>\n",
              "      <td>142000</td>\n",
              "      <td>NaN</td>\n",
              "      <td>17.0</td>\n",
              "      <td>98.0</td>\n",
              "      <td>NaN</td>\n",
              "    </tr>\n",
              "    <tr>\n",
              "      <th>893</th>\n",
              "      <td>C1327</td>\n",
              "      <td>98</td>\n",
              "      <td>아파트</td>\n",
              "      <td>대전광역시</td>\n",
              "      <td>행복주택</td>\n",
              "      <td>26.51</td>\n",
              "      <td>10</td>\n",
              "      <td>13.0</td>\n",
              "      <td>J</td>\n",
              "      <td>28400000</td>\n",
              "      <td>142000</td>\n",
              "      <td>NaN</td>\n",
              "      <td>17.0</td>\n",
              "      <td>98.0</td>\n",
              "      <td>NaN</td>\n",
              "    </tr>\n",
              "    <tr>\n",
              "      <th>894</th>\n",
              "      <td>C1327</td>\n",
              "      <td>98</td>\n",
              "      <td>아파트</td>\n",
              "      <td>대전광역시</td>\n",
              "      <td>행복주택</td>\n",
              "      <td>36.92</td>\n",
              "      <td>48</td>\n",
              "      <td>13.0</td>\n",
              "      <td>J</td>\n",
              "      <td>36800000</td>\n",
              "      <td>184000</td>\n",
              "      <td>NaN</td>\n",
              "      <td>17.0</td>\n",
              "      <td>98.0</td>\n",
              "      <td>NaN</td>\n",
              "    </tr>\n",
              "  </tbody>\n",
              "</table>\n",
              "<p>253 rows × 15 columns</p>\n",
              "</div>"
            ],
            "text/plain": [
              "      단지코드  총세대수 임대건물구분  ... 도보 10분거리 내 버스정류장 수 단지내주차면수  등록차량수\n",
              "94   C1312   518    아파트  ...                3.0   527.0  359.0\n",
              "95   C1312   518    아파트  ...                3.0   527.0  359.0\n",
              "96   C1312   518    아파트  ...                3.0   527.0  359.0\n",
              "97   C1312   518    아파트  ...                3.0   527.0  359.0\n",
              "98   C1874   619    아파트  ...                2.0    97.0   62.0\n",
              "..     ...   ...    ...  ...                ...     ...    ...\n",
              "307  C1318   312    아파트  ...               11.0   226.0    NaN\n",
              "891  C1327    98    아파트  ...               17.0    98.0    NaN\n",
              "892  C1327    98    아파트  ...               17.0    98.0    NaN\n",
              "893  C1327    98    아파트  ...               17.0    98.0    NaN\n",
              "894  C1327    98    아파트  ...               17.0    98.0    NaN\n",
              "\n",
              "[253 rows x 15 columns]"
            ]
          },
          "metadata": {
            "tags": []
          },
          "execution_count": 110
        }
      ]
    },
    {
      "cell_type": "code",
      "metadata": {
        "colab": {
          "base_uri": "https://localhost:8080/"
        },
        "id": "Ox6OI08Ulevp",
        "outputId": "e500476c-107c-4628-bc9d-72b144b6d1c7"
      },
      "source": [
        "data.loc[data['지역']=='충청남도']['도보 10분거리 내 지하철역 수(환승노선 수 반영)'].unique()\n",
        "# 충남의 지하철역 수는 0이다. ==> 충남 지하철=0으로 처리"
      ],
      "execution_count": null,
      "outputs": [
        {
          "output_type": "execute_result",
          "data": {
            "text/plain": [
              "array([nan,  0.])"
            ]
          },
          "metadata": {
            "tags": []
          },
          "execution_count": 107
        }
      ]
    },
    {
      "cell_type": "code",
      "metadata": {
        "colab": {
          "base_uri": "https://localhost:8080/"
        },
        "id": "mpfGQUmClvM-",
        "outputId": "812cba62-01a6-4e26-9e52-4f51cb7bd93e"
      },
      "source": [
        "data.loc[data['지역']=='대전광역시']['도보 10분거리 내 지하철역 수(환승노선 수 반영)'].unique()\n",
        "# 대전광역시는 지하철이 있으니 단지코드별 비교를 통해 null값 처리"
      ],
      "execution_count": null,
      "outputs": [
        {
          "output_type": "execute_result",
          "data": {
            "text/plain": [
              "array([ 1.,  0., nan,  2.])"
            ]
          },
          "metadata": {
            "tags": []
          },
          "execution_count": 108
        }
      ]
    },
    {
      "cell_type": "code",
      "metadata": {
        "colab": {
          "base_uri": "https://localhost:8080/"
        },
        "id": "EWJsiZWdl3K1",
        "outputId": "87a8a424-0d55-443c-c15e-4f20f3001b63"
      },
      "source": [
        "data.loc[data['지역']=='경상남도']['도보 10분거리 내 지하철역 수(환승노선 수 반영)'].unique()\n",
        "# 경상남도도 지하철이 있다고 하니 단지코드별 비교를 통해 처리"
      ],
      "execution_count": null,
      "outputs": [
        {
          "output_type": "execute_result",
          "data": {
            "text/plain": [
              "array([ 0., nan,  1.])"
            ]
          },
          "metadata": {
            "tags": []
          },
          "execution_count": 109
        }
      ]
    },
    {
      "cell_type": "code",
      "metadata": {
        "colab": {
          "base_uri": "https://localhost:8080/"
        },
        "id": "HbrMxKS1mMn1",
        "outputId": "71c43a98-7ccd-472a-db1a-7986853a94cd"
      },
      "source": [
        "data.groupby(['지역','단지코드'])['도보 10분거리 내 지하철역 수(환승노선 수 반영)'].value_counts(dropna=False).loc['경상남도'].sort_index()\n",
        "# 단지마다 지하철역 수가 결측치가 관측된다. ==> 단지별 비교는 안될 것 같다."
      ],
      "execution_count": null,
      "outputs": [
        {
          "output_type": "execute_result",
          "data": {
            "text/plain": [
              "단지코드   도보 10분거리 내 지하철역 수(환승노선 수 반영)\n",
              "C1003  0.0                              8\n",
              "C1027  0.0                              5\n",
              "C1077  0.0                              3\n",
              "C1141  0.0                              6\n",
              "C1147  0.0                              7\n",
              "                                       ..\n",
              "C2571  0.0                             14\n",
              "C2576  0.0                              2\n",
              "C2595  0.0                              5\n",
              "C2631  0.0                              7\n",
              "C2680  0.0                              3\n",
              "Name: 도보 10분거리 내 지하철역 수(환승노선 수 반영), Length: 69, dtype: int64"
            ]
          },
          "metadata": {
            "tags": []
          },
          "execution_count": 124
        }
      ]
    },
    {
      "cell_type": "code",
      "metadata": {
        "id": "9QEqOtz4n_Kx"
      },
      "source": [
        "data.loc[(data['도보 10분거리 내 지하철역 수(환승노선 수 반영)'].isnull())&(data['지역']=='충청남도'), '도보 10분거리 내 지하철역 수(환승노선 수 반영)'] = 0.\n",
        "data['도보 10분거리 내 지하철역 수(환승노선 수 반영)'] = data['도보 10분거리 내 지하철역 수(환승노선 수 반영)'].fillna(0.)"
      ],
      "execution_count": 217,
      "outputs": []
    },
    {
      "cell_type": "code",
      "metadata": {
        "colab": {
          "base_uri": "https://localhost:8080/",
          "height": 256
        },
        "id": "bkmSeDN_oGXh",
        "outputId": "e0299185-662e-412f-9cbd-64d3f1860e4f"
      },
      "source": [
        "# 도보 10분거리 내 버스정류장 수 null값 처리\n",
        "data.loc[data['단지코드']=='C1649']\n",
        "# 단지코드 'C1649'는 아예 정류장 수가 결측되었다. ==> 경상남도의 median으로 처리하자"
      ],
      "execution_count": null,
      "outputs": [
        {
          "output_type": "execute_result",
          "data": {
            "text/html": [
              "<div>\n",
              "<style scoped>\n",
              "    .dataframe tbody tr th:only-of-type {\n",
              "        vertical-align: middle;\n",
              "    }\n",
              "\n",
              "    .dataframe tbody tr th {\n",
              "        vertical-align: top;\n",
              "    }\n",
              "\n",
              "    .dataframe thead th {\n",
              "        text-align: right;\n",
              "    }\n",
              "</style>\n",
              "<table border=\"1\" class=\"dataframe\">\n",
              "  <thead>\n",
              "    <tr style=\"text-align: right;\">\n",
              "      <th></th>\n",
              "      <th>단지코드</th>\n",
              "      <th>총세대수</th>\n",
              "      <th>임대건물구분</th>\n",
              "      <th>지역</th>\n",
              "      <th>공급유형</th>\n",
              "      <th>전용면적</th>\n",
              "      <th>전용면적별세대수</th>\n",
              "      <th>공가수</th>\n",
              "      <th>자격유형</th>\n",
              "      <th>임대보증금</th>\n",
              "      <th>임대료</th>\n",
              "      <th>도보 10분거리 내 지하철역 수(환승노선 수 반영)</th>\n",
              "      <th>도보 10분거리 내 버스정류장 수</th>\n",
              "      <th>단지내주차면수</th>\n",
              "      <th>등록차량수</th>\n",
              "    </tr>\n",
              "  </thead>\n",
              "  <tbody>\n",
              "    <tr>\n",
              "      <th>2315</th>\n",
              "      <td>C1649</td>\n",
              "      <td>575</td>\n",
              "      <td>아파트</td>\n",
              "      <td>경상남도</td>\n",
              "      <td>공공임대(10년)</td>\n",
              "      <td>74.97</td>\n",
              "      <td>80</td>\n",
              "      <td>15.0</td>\n",
              "      <td>A</td>\n",
              "      <td>46000000</td>\n",
              "      <td>456000</td>\n",
              "      <td>0.0</td>\n",
              "      <td>NaN</td>\n",
              "      <td>1066.0</td>\n",
              "      <td>855.0</td>\n",
              "    </tr>\n",
              "    <tr>\n",
              "      <th>2316</th>\n",
              "      <td>C1649</td>\n",
              "      <td>575</td>\n",
              "      <td>아파트</td>\n",
              "      <td>경상남도</td>\n",
              "      <td>공공임대(10년)</td>\n",
              "      <td>84.95</td>\n",
              "      <td>124</td>\n",
              "      <td>15.0</td>\n",
              "      <td>A</td>\n",
              "      <td>57000000</td>\n",
              "      <td>462000</td>\n",
              "      <td>0.0</td>\n",
              "      <td>NaN</td>\n",
              "      <td>1066.0</td>\n",
              "      <td>855.0</td>\n",
              "    </tr>\n",
              "    <tr>\n",
              "      <th>2317</th>\n",
              "      <td>C1649</td>\n",
              "      <td>575</td>\n",
              "      <td>아파트</td>\n",
              "      <td>경상남도</td>\n",
              "      <td>공공임대(10년)</td>\n",
              "      <td>84.96</td>\n",
              "      <td>289</td>\n",
              "      <td>15.0</td>\n",
              "      <td>A</td>\n",
              "      <td>57000000</td>\n",
              "      <td>462000</td>\n",
              "      <td>0.0</td>\n",
              "      <td>NaN</td>\n",
              "      <td>1066.0</td>\n",
              "      <td>855.0</td>\n",
              "    </tr>\n",
              "    <tr>\n",
              "      <th>2318</th>\n",
              "      <td>C1649</td>\n",
              "      <td>575</td>\n",
              "      <td>아파트</td>\n",
              "      <td>경상남도</td>\n",
              "      <td>공공임대(10년)</td>\n",
              "      <td>84.98</td>\n",
              "      <td>82</td>\n",
              "      <td>15.0</td>\n",
              "      <td>A</td>\n",
              "      <td>57000000</td>\n",
              "      <td>462000</td>\n",
              "      <td>0.0</td>\n",
              "      <td>NaN</td>\n",
              "      <td>1066.0</td>\n",
              "      <td>855.0</td>\n",
              "    </tr>\n",
              "  </tbody>\n",
              "</table>\n",
              "</div>"
            ],
            "text/plain": [
              "       단지코드  총세대수 임대건물구분  ... 도보 10분거리 내 버스정류장 수 단지내주차면수  등록차량수\n",
              "2315  C1649   575    아파트  ...                NaN  1066.0  855.0\n",
              "2316  C1649   575    아파트  ...                NaN  1066.0  855.0\n",
              "2317  C1649   575    아파트  ...                NaN  1066.0  855.0\n",
              "2318  C1649   575    아파트  ...                NaN  1066.0  855.0\n",
              "\n",
              "[4 rows x 15 columns]"
            ]
          },
          "metadata": {
            "tags": []
          },
          "execution_count": 137
        }
      ]
    },
    {
      "cell_type": "code",
      "metadata": {
        "id": "cIFmBegUpDdM"
      },
      "source": [
        "data.loc[data['도보 10분거리 내 버스정류장 수'].isnull(), '도보 10분거리 내 버스정류장 수'] = data.loc[(data['지역']=='경상남도')]['도보 10분거리 내 버스정류장 수'].median()"
      ],
      "execution_count": 218,
      "outputs": []
    },
    {
      "cell_type": "code",
      "metadata": {
        "colab": {
          "base_uri": "https://localhost:8080/",
          "height": 161
        },
        "id": "efehJNGeplP4",
        "outputId": "599ac5e9-5adc-4bb4-c463-f8bbecaa4e5e"
      },
      "source": [
        "# 자격유형 null값 처리\n",
        "data.loc[data['자격유형'].isnull()]\n",
        "# 자격유형을 임대보증금과 비교하여 처리"
      ],
      "execution_count": null,
      "outputs": [
        {
          "output_type": "execute_result",
          "data": {
            "text/html": [
              "<div>\n",
              "<style scoped>\n",
              "    .dataframe tbody tr th:only-of-type {\n",
              "        vertical-align: middle;\n",
              "    }\n",
              "\n",
              "    .dataframe tbody tr th {\n",
              "        vertical-align: top;\n",
              "    }\n",
              "\n",
              "    .dataframe thead th {\n",
              "        text-align: right;\n",
              "    }\n",
              "</style>\n",
              "<table border=\"1\" class=\"dataframe\">\n",
              "  <thead>\n",
              "    <tr style=\"text-align: right;\">\n",
              "      <th></th>\n",
              "      <th>단지코드</th>\n",
              "      <th>총세대수</th>\n",
              "      <th>임대건물구분</th>\n",
              "      <th>지역</th>\n",
              "      <th>공급유형</th>\n",
              "      <th>전용면적</th>\n",
              "      <th>전용면적별세대수</th>\n",
              "      <th>공가수</th>\n",
              "      <th>자격유형</th>\n",
              "      <th>임대보증금</th>\n",
              "      <th>임대료</th>\n",
              "      <th>도보 10분거리 내 지하철역 수(환승노선 수 반영)</th>\n",
              "      <th>도보 10분거리 내 버스정류장 수</th>\n",
              "      <th>단지내주차면수</th>\n",
              "      <th>등록차량수</th>\n",
              "    </tr>\n",
              "  </thead>\n",
              "  <tbody>\n",
              "    <tr>\n",
              "      <th>196</th>\n",
              "      <td>C2411</td>\n",
              "      <td>962</td>\n",
              "      <td>아파트</td>\n",
              "      <td>경상남도</td>\n",
              "      <td>국민임대</td>\n",
              "      <td>46.90</td>\n",
              "      <td>240</td>\n",
              "      <td>25.0</td>\n",
              "      <td>NaN</td>\n",
              "      <td>71950000</td>\n",
              "      <td>37470</td>\n",
              "      <td>0.0</td>\n",
              "      <td>2.0</td>\n",
              "      <td>840.0</td>\n",
              "      <td>NaN</td>\n",
              "    </tr>\n",
              "    <tr>\n",
              "      <th>258</th>\n",
              "      <td>C2253</td>\n",
              "      <td>1161</td>\n",
              "      <td>아파트</td>\n",
              "      <td>강원도</td>\n",
              "      <td>영구임대</td>\n",
              "      <td>26.37</td>\n",
              "      <td>745</td>\n",
              "      <td>0.0</td>\n",
              "      <td>NaN</td>\n",
              "      <td>2249000</td>\n",
              "      <td>44770</td>\n",
              "      <td>0.0</td>\n",
              "      <td>2.0</td>\n",
              "      <td>173.0</td>\n",
              "      <td>NaN</td>\n",
              "    </tr>\n",
              "  </tbody>\n",
              "</table>\n",
              "</div>"
            ],
            "text/plain": [
              "      단지코드  총세대수 임대건물구분  ... 도보 10분거리 내 버스정류장 수 단지내주차면수  등록차량수\n",
              "196  C2411   962    아파트  ...                2.0   840.0    NaN\n",
              "258  C2253  1161    아파트  ...                2.0   173.0    NaN\n",
              "\n",
              "[2 rows x 15 columns]"
            ]
          },
          "metadata": {
            "tags": []
          },
          "execution_count": 389
        }
      ]
    },
    {
      "cell_type": "code",
      "metadata": {
        "id": "Wsxm92pPqJ0R"
      },
      "source": [
        "data.loc[(data['자격유형'].isnull())&(data['지역']=='경상남도'), '자격유형'] = 'E'\n",
        "data.loc[(data['자격유형'].isnull())&(data['지역']=='강원도'), '자격유형'] = 'F'"
      ],
      "execution_count": 219,
      "outputs": []
    },
    {
      "cell_type": "code",
      "metadata": {
        "colab": {
          "base_uri": "https://localhost:8080/",
          "height": 602
        },
        "id": "wFPgfRn7H9NP",
        "outputId": "ae82b70b-4d0d-4d23-9ce0-f169edc4d056"
      },
      "source": [
        "# 이상값 처리\n",
        "Q1 = data['도보 10분거리 내 버스정류장 수'].quantile(0.25)\n",
        "Q3 = data['도보 10분거리 내 버스정류장 수'].quantile(0.75)\n",
        "IQR = Q3-Q1\n",
        "data.loc[(data['도보 10분거리 내 버스정류장 수']<Q1-1.5*IQR)|(data['도보 10분거리 내 버스정류장 수']>Q3+1.5*IQR)]"
      ],
      "execution_count": 220,
      "outputs": [
        {
          "output_type": "execute_result",
          "data": {
            "text/html": [
              "<div>\n",
              "<style scoped>\n",
              "    .dataframe tbody tr th:only-of-type {\n",
              "        vertical-align: middle;\n",
              "    }\n",
              "\n",
              "    .dataframe tbody tr th {\n",
              "        vertical-align: top;\n",
              "    }\n",
              "\n",
              "    .dataframe thead th {\n",
              "        text-align: right;\n",
              "    }\n",
              "</style>\n",
              "<table border=\"1\" class=\"dataframe\">\n",
              "  <thead>\n",
              "    <tr style=\"text-align: right;\">\n",
              "      <th></th>\n",
              "      <th>단지코드</th>\n",
              "      <th>총세대수</th>\n",
              "      <th>임대건물구분</th>\n",
              "      <th>지역</th>\n",
              "      <th>공급유형</th>\n",
              "      <th>전용면적</th>\n",
              "      <th>전용면적별세대수</th>\n",
              "      <th>공가수</th>\n",
              "      <th>자격유형</th>\n",
              "      <th>임대보증금</th>\n",
              "      <th>임대료</th>\n",
              "      <th>도보 10분거리 내 지하철역 수(환승노선 수 반영)</th>\n",
              "      <th>도보 10분거리 내 버스정류장 수</th>\n",
              "      <th>단지내주차면수</th>\n",
              "      <th>등록차량수</th>\n",
              "    </tr>\n",
              "  </thead>\n",
              "  <tbody>\n",
              "    <tr>\n",
              "      <th>42</th>\n",
              "      <td>C1244</td>\n",
              "      <td>1722</td>\n",
              "      <td>아파트</td>\n",
              "      <td>경기도</td>\n",
              "      <td>국민임대</td>\n",
              "      <td>39.62</td>\n",
              "      <td>275</td>\n",
              "      <td>10.0</td>\n",
              "      <td>A</td>\n",
              "      <td>29551000</td>\n",
              "      <td>203030</td>\n",
              "      <td>0.0</td>\n",
              "      <td>10.0</td>\n",
              "      <td>1483.0</td>\n",
              "      <td>1804.0</td>\n",
              "    </tr>\n",
              "    <tr>\n",
              "      <th>43</th>\n",
              "      <td>C1244</td>\n",
              "      <td>1722</td>\n",
              "      <td>아파트</td>\n",
              "      <td>경기도</td>\n",
              "      <td>국민임대</td>\n",
              "      <td>39.62</td>\n",
              "      <td>126</td>\n",
              "      <td>10.0</td>\n",
              "      <td>A</td>\n",
              "      <td>29551000</td>\n",
              "      <td>203030</td>\n",
              "      <td>0.0</td>\n",
              "      <td>10.0</td>\n",
              "      <td>1483.0</td>\n",
              "      <td>1804.0</td>\n",
              "    </tr>\n",
              "    <tr>\n",
              "      <th>44</th>\n",
              "      <td>C1244</td>\n",
              "      <td>1722</td>\n",
              "      <td>아파트</td>\n",
              "      <td>경기도</td>\n",
              "      <td>국민임대</td>\n",
              "      <td>39.62</td>\n",
              "      <td>168</td>\n",
              "      <td>10.0</td>\n",
              "      <td>A</td>\n",
              "      <td>29551000</td>\n",
              "      <td>203030</td>\n",
              "      <td>0.0</td>\n",
              "      <td>10.0</td>\n",
              "      <td>1483.0</td>\n",
              "      <td>1804.0</td>\n",
              "    </tr>\n",
              "    <tr>\n",
              "      <th>45</th>\n",
              "      <td>C1244</td>\n",
              "      <td>1722</td>\n",
              "      <td>아파트</td>\n",
              "      <td>경기도</td>\n",
              "      <td>국민임대</td>\n",
              "      <td>39.72</td>\n",
              "      <td>219</td>\n",
              "      <td>10.0</td>\n",
              "      <td>A</td>\n",
              "      <td>29551000</td>\n",
              "      <td>203030</td>\n",
              "      <td>0.0</td>\n",
              "      <td>10.0</td>\n",
              "      <td>1483.0</td>\n",
              "      <td>1804.0</td>\n",
              "    </tr>\n",
              "    <tr>\n",
              "      <th>46</th>\n",
              "      <td>C1244</td>\n",
              "      <td>1722</td>\n",
              "      <td>아파트</td>\n",
              "      <td>경기도</td>\n",
              "      <td>국민임대</td>\n",
              "      <td>46.73</td>\n",
              "      <td>98</td>\n",
              "      <td>10.0</td>\n",
              "      <td>A</td>\n",
              "      <td>43990000</td>\n",
              "      <td>304540</td>\n",
              "      <td>0.0</td>\n",
              "      <td>10.0</td>\n",
              "      <td>1483.0</td>\n",
              "      <td>1804.0</td>\n",
              "    </tr>\n",
              "    <tr>\n",
              "      <th>...</th>\n",
              "      <td>...</td>\n",
              "      <td>...</td>\n",
              "      <td>...</td>\n",
              "      <td>...</td>\n",
              "      <td>...</td>\n",
              "      <td>...</td>\n",
              "      <td>...</td>\n",
              "      <td>...</td>\n",
              "      <td>...</td>\n",
              "      <td>...</td>\n",
              "      <td>...</td>\n",
              "      <td>...</td>\n",
              "      <td>...</td>\n",
              "      <td>...</td>\n",
              "      <td>...</td>\n",
              "    </tr>\n",
              "    <tr>\n",
              "      <th>985</th>\n",
              "      <td>C1683</td>\n",
              "      <td>328</td>\n",
              "      <td>아파트</td>\n",
              "      <td>경기도</td>\n",
              "      <td>행복주택</td>\n",
              "      <td>21.54</td>\n",
              "      <td>16</td>\n",
              "      <td>14.0</td>\n",
              "      <td>J</td>\n",
              "      <td>14498000</td>\n",
              "      <td>62940</td>\n",
              "      <td>0.0</td>\n",
              "      <td>11.0</td>\n",
              "      <td>250.0</td>\n",
              "      <td>NaN</td>\n",
              "    </tr>\n",
              "    <tr>\n",
              "      <th>986</th>\n",
              "      <td>C1683</td>\n",
              "      <td>328</td>\n",
              "      <td>아파트</td>\n",
              "      <td>경기도</td>\n",
              "      <td>행복주택</td>\n",
              "      <td>26.41</td>\n",
              "      <td>56</td>\n",
              "      <td>14.0</td>\n",
              "      <td>J</td>\n",
              "      <td>17434000</td>\n",
              "      <td>75690</td>\n",
              "      <td>0.0</td>\n",
              "      <td>11.0</td>\n",
              "      <td>250.0</td>\n",
              "      <td>NaN</td>\n",
              "    </tr>\n",
              "    <tr>\n",
              "      <th>987</th>\n",
              "      <td>C1683</td>\n",
              "      <td>328</td>\n",
              "      <td>아파트</td>\n",
              "      <td>경기도</td>\n",
              "      <td>행복주택</td>\n",
              "      <td>26.41</td>\n",
              "      <td>4</td>\n",
              "      <td>14.0</td>\n",
              "      <td>J</td>\n",
              "      <td>17434000</td>\n",
              "      <td>75690</td>\n",
              "      <td>0.0</td>\n",
              "      <td>11.0</td>\n",
              "      <td>250.0</td>\n",
              "      <td>NaN</td>\n",
              "    </tr>\n",
              "    <tr>\n",
              "      <th>988</th>\n",
              "      <td>C1683</td>\n",
              "      <td>328</td>\n",
              "      <td>아파트</td>\n",
              "      <td>경기도</td>\n",
              "      <td>행복주택</td>\n",
              "      <td>36.64</td>\n",
              "      <td>69</td>\n",
              "      <td>14.0</td>\n",
              "      <td>J</td>\n",
              "      <td>24186000</td>\n",
              "      <td>105010</td>\n",
              "      <td>0.0</td>\n",
              "      <td>11.0</td>\n",
              "      <td>250.0</td>\n",
              "      <td>NaN</td>\n",
              "    </tr>\n",
              "    <tr>\n",
              "      <th>989</th>\n",
              "      <td>C1683</td>\n",
              "      <td>328</td>\n",
              "      <td>아파트</td>\n",
              "      <td>경기도</td>\n",
              "      <td>행복주택</td>\n",
              "      <td>36.64</td>\n",
              "      <td>65</td>\n",
              "      <td>14.0</td>\n",
              "      <td>J</td>\n",
              "      <td>24186000</td>\n",
              "      <td>105010</td>\n",
              "      <td>0.0</td>\n",
              "      <td>11.0</td>\n",
              "      <td>250.0</td>\n",
              "      <td>NaN</td>\n",
              "    </tr>\n",
              "  </tbody>\n",
              "</table>\n",
              "<p>350 rows × 15 columns</p>\n",
              "</div>"
            ],
            "text/plain": [
              "      단지코드  총세대수 임대건물구분  ... 도보 10분거리 내 버스정류장 수 단지내주차면수   등록차량수\n",
              "42   C1244  1722    아파트  ...               10.0  1483.0  1804.0\n",
              "43   C1244  1722    아파트  ...               10.0  1483.0  1804.0\n",
              "44   C1244  1722    아파트  ...               10.0  1483.0  1804.0\n",
              "45   C1244  1722    아파트  ...               10.0  1483.0  1804.0\n",
              "46   C1244  1722    아파트  ...               10.0  1483.0  1804.0\n",
              "..     ...   ...    ...  ...                ...     ...     ...\n",
              "985  C1683   328    아파트  ...               11.0   250.0     NaN\n",
              "986  C1683   328    아파트  ...               11.0   250.0     NaN\n",
              "987  C1683   328    아파트  ...               11.0   250.0     NaN\n",
              "988  C1683   328    아파트  ...               11.0   250.0     NaN\n",
              "989  C1683   328    아파트  ...               11.0   250.0     NaN\n",
              "\n",
              "[350 rows x 15 columns]"
            ]
          },
          "metadata": {
            "tags": []
          },
          "execution_count": 220
        }
      ]
    },
    {
      "cell_type": "code",
      "metadata": {
        "id": "POz6RtOqKBN4"
      },
      "source": [
        "# 이상값은 최소,대값으로 처리\n",
        "data.loc[(data['도보 10분거리 내 버스정류장 수'] < Q1-5*IQR), '도보 10분거리 내 버스정류장 수'] = Q1-5*IQR\n",
        "data.loc[(data['도보 10분거리 내 버스정류장 수'] > Q3+5*IQR), '도보 10분거리 내 버스정류장 수'] = Q3+5*IQR"
      ],
      "execution_count": 221,
      "outputs": []
    },
    {
      "cell_type": "code",
      "metadata": {
        "colab": {
          "base_uri": "https://localhost:8080/"
        },
        "id": "b8q62gnJsckA",
        "outputId": "e46dda08-eee4-4a9e-9153-06d8e61f59ad"
      },
      "source": [
        "data.skew()\n",
        "# 다 log변환을 해야한다. 그 전에 모델링 돌려보자"
      ],
      "execution_count": null,
      "outputs": [
        {
          "output_type": "execute_result",
          "data": {
            "text/plain": [
              "총세대수                             1.268751\n",
              "전용면적                            10.864622\n",
              "전용면적별세대수                         3.321005\n",
              "공가수                              0.810131\n",
              "임대보증금                            2.845083\n",
              "임대료                              1.637468\n",
              "도보 10분거리 내 지하철역 수(환승노선 수 반영)     2.868214\n",
              "도보 10분거리 내 버스정류장 수               1.934480\n",
              "단지내주차면수                          0.945232\n",
              "등록차량수                            1.461736\n",
              "dtype: float64"
            ]
          },
          "metadata": {
            "tags": []
          },
          "execution_count": 182
        }
      ]
    },
    {
      "cell_type": "code",
      "metadata": {
        "colab": {
          "base_uri": "https://localhost:8080/",
          "height": 662
        },
        "id": "Y4XpmyNtj8O_",
        "outputId": "cd875955-edfa-4998-f9d6-3e1dca3a76e7"
      },
      "source": [
        "# 상관계수를 보자\n",
        "from sklearn.preprocessing import LabelEncoder\n",
        "data_copy=data.copy()\n",
        "for i in data_copy.select_dtypes('object'):\n",
        "  data_copy[i] = LabelEncoder().fit_transform(data_copy[i])\n",
        "\n",
        "data_copy.corr()"
      ],
      "execution_count": null,
      "outputs": [
        {
          "output_type": "execute_result",
          "data": {
            "text/html": [
              "<div>\n",
              "<style scoped>\n",
              "    .dataframe tbody tr th:only-of-type {\n",
              "        vertical-align: middle;\n",
              "    }\n",
              "\n",
              "    .dataframe tbody tr th {\n",
              "        vertical-align: top;\n",
              "    }\n",
              "\n",
              "    .dataframe thead th {\n",
              "        text-align: right;\n",
              "    }\n",
              "</style>\n",
              "<table border=\"1\" class=\"dataframe\">\n",
              "  <thead>\n",
              "    <tr style=\"text-align: right;\">\n",
              "      <th></th>\n",
              "      <th>단지코드</th>\n",
              "      <th>총세대수</th>\n",
              "      <th>임대건물구분</th>\n",
              "      <th>지역</th>\n",
              "      <th>공급유형</th>\n",
              "      <th>전용면적</th>\n",
              "      <th>전용면적별세대수</th>\n",
              "      <th>공가수</th>\n",
              "      <th>자격유형</th>\n",
              "      <th>임대보증금</th>\n",
              "      <th>임대료</th>\n",
              "      <th>도보 10분거리 내 지하철역 수(환승노선 수 반영)</th>\n",
              "      <th>도보 10분거리 내 버스정류장 수</th>\n",
              "      <th>단지내주차면수</th>\n",
              "      <th>등록차량수</th>\n",
              "    </tr>\n",
              "  </thead>\n",
              "  <tbody>\n",
              "    <tr>\n",
              "      <th>단지코드</th>\n",
              "      <td>1.000000</td>\n",
              "      <td>0.048983</td>\n",
              "      <td>-0.069088</td>\n",
              "      <td>-0.020800</td>\n",
              "      <td>0.019559</td>\n",
              "      <td>-0.004582</td>\n",
              "      <td>-0.030955</td>\n",
              "      <td>0.000845</td>\n",
              "      <td>0.051644</td>\n",
              "      <td>-0.071803</td>\n",
              "      <td>-0.029130</td>\n",
              "      <td>-0.120087</td>\n",
              "      <td>-0.081409</td>\n",
              "      <td>-0.080123</td>\n",
              "      <td>-0.099950</td>\n",
              "    </tr>\n",
              "    <tr>\n",
              "      <th>총세대수</th>\n",
              "      <td>0.048983</td>\n",
              "      <td>1.000000</td>\n",
              "      <td>-0.395954</td>\n",
              "      <td>-0.050277</td>\n",
              "      <td>0.112987</td>\n",
              "      <td>0.053513</td>\n",
              "      <td>0.090440</td>\n",
              "      <td>0.125877</td>\n",
              "      <td>0.105370</td>\n",
              "      <td>-0.143949</td>\n",
              "      <td>-0.153476</td>\n",
              "      <td>0.195048</td>\n",
              "      <td>-0.005914</td>\n",
              "      <td>0.469530</td>\n",
              "      <td>0.316703</td>\n",
              "    </tr>\n",
              "    <tr>\n",
              "      <th>임대건물구분</th>\n",
              "      <td>-0.069088</td>\n",
              "      <td>-0.395954</td>\n",
              "      <td>1.000000</td>\n",
              "      <td>-0.118590</td>\n",
              "      <td>-0.415907</td>\n",
              "      <td>-0.024147</td>\n",
              "      <td>0.369218</td>\n",
              "      <td>0.198148</td>\n",
              "      <td>-0.135264</td>\n",
              "      <td>0.483030</td>\n",
              "      <td>0.548481</td>\n",
              "      <td>-0.147159</td>\n",
              "      <td>0.046569</td>\n",
              "      <td>0.395826</td>\n",
              "      <td>0.449189</td>\n",
              "    </tr>\n",
              "    <tr>\n",
              "      <th>지역</th>\n",
              "      <td>-0.020800</td>\n",
              "      <td>-0.050277</td>\n",
              "      <td>-0.118590</td>\n",
              "      <td>1.000000</td>\n",
              "      <td>0.022463</td>\n",
              "      <td>-0.006460</td>\n",
              "      <td>-0.039802</td>\n",
              "      <td>-0.011008</td>\n",
              "      <td>-0.024636</td>\n",
              "      <td>-0.137169</td>\n",
              "      <td>-0.164484</td>\n",
              "      <td>-0.055085</td>\n",
              "      <td>-0.112403</td>\n",
              "      <td>-0.182264</td>\n",
              "      <td>-0.169999</td>\n",
              "    </tr>\n",
              "    <tr>\n",
              "      <th>공급유형</th>\n",
              "      <td>0.019559</td>\n",
              "      <td>0.112987</td>\n",
              "      <td>-0.415907</td>\n",
              "      <td>0.022463</td>\n",
              "      <td>1.000000</td>\n",
              "      <td>-0.217368</td>\n",
              "      <td>-0.203735</td>\n",
              "      <td>0.180054</td>\n",
              "      <td>0.651762</td>\n",
              "      <td>-0.290686</td>\n",
              "      <td>-0.692461</td>\n",
              "      <td>0.066679</td>\n",
              "      <td>-0.030108</td>\n",
              "      <td>-0.369375</td>\n",
              "      <td>-0.518342</td>\n",
              "    </tr>\n",
              "    <tr>\n",
              "      <th>전용면적</th>\n",
              "      <td>-0.004582</td>\n",
              "      <td>0.053513</td>\n",
              "      <td>-0.024147</td>\n",
              "      <td>-0.006460</td>\n",
              "      <td>-0.217368</td>\n",
              "      <td>1.000000</td>\n",
              "      <td>-0.027360</td>\n",
              "      <td>-0.070725</td>\n",
              "      <td>-0.169489</td>\n",
              "      <td>0.137201</td>\n",
              "      <td>0.199376</td>\n",
              "      <td>0.009669</td>\n",
              "      <td>-0.001577</td>\n",
              "      <td>0.069806</td>\n",
              "      <td>0.115453</td>\n",
              "    </tr>\n",
              "    <tr>\n",
              "      <th>전용면적별세대수</th>\n",
              "      <td>-0.030955</td>\n",
              "      <td>0.090440</td>\n",
              "      <td>0.369218</td>\n",
              "      <td>-0.039802</td>\n",
              "      <td>-0.203735</td>\n",
              "      <td>-0.027360</td>\n",
              "      <td>1.000000</td>\n",
              "      <td>0.155941</td>\n",
              "      <td>-0.089566</td>\n",
              "      <td>0.102118</td>\n",
              "      <td>0.172775</td>\n",
              "      <td>-0.041335</td>\n",
              "      <td>0.039301</td>\n",
              "      <td>0.294625</td>\n",
              "      <td>0.247085</td>\n",
              "    </tr>\n",
              "    <tr>\n",
              "      <th>공가수</th>\n",
              "      <td>0.000845</td>\n",
              "      <td>0.125877</td>\n",
              "      <td>0.198148</td>\n",
              "      <td>-0.011008</td>\n",
              "      <td>0.180054</td>\n",
              "      <td>-0.070725</td>\n",
              "      <td>0.155941</td>\n",
              "      <td>1.000000</td>\n",
              "      <td>0.239767</td>\n",
              "      <td>0.133226</td>\n",
              "      <td>-0.022510</td>\n",
              "      <td>-0.037642</td>\n",
              "      <td>0.038542</td>\n",
              "      <td>0.281112</td>\n",
              "      <td>0.118121</td>\n",
              "    </tr>\n",
              "    <tr>\n",
              "      <th>자격유형</th>\n",
              "      <td>0.051644</td>\n",
              "      <td>0.105370</td>\n",
              "      <td>-0.135264</td>\n",
              "      <td>-0.024636</td>\n",
              "      <td>0.651762</td>\n",
              "      <td>-0.169489</td>\n",
              "      <td>-0.089566</td>\n",
              "      <td>0.239767</td>\n",
              "      <td>1.000000</td>\n",
              "      <td>0.001296</td>\n",
              "      <td>-0.243282</td>\n",
              "      <td>-0.008183</td>\n",
              "      <td>-0.003009</td>\n",
              "      <td>-0.108682</td>\n",
              "      <td>-0.154491</td>\n",
              "    </tr>\n",
              "    <tr>\n",
              "      <th>임대보증금</th>\n",
              "      <td>-0.071803</td>\n",
              "      <td>-0.143949</td>\n",
              "      <td>0.483030</td>\n",
              "      <td>-0.137169</td>\n",
              "      <td>-0.290686</td>\n",
              "      <td>0.137201</td>\n",
              "      <td>0.102118</td>\n",
              "      <td>0.133226</td>\n",
              "      <td>0.001296</td>\n",
              "      <td>1.000000</td>\n",
              "      <td>0.598350</td>\n",
              "      <td>-0.051386</td>\n",
              "      <td>0.108394</td>\n",
              "      <td>0.390195</td>\n",
              "      <td>0.436073</td>\n",
              "    </tr>\n",
              "    <tr>\n",
              "      <th>임대료</th>\n",
              "      <td>-0.029130</td>\n",
              "      <td>-0.153476</td>\n",
              "      <td>0.548481</td>\n",
              "      <td>-0.164484</td>\n",
              "      <td>-0.692461</td>\n",
              "      <td>0.199376</td>\n",
              "      <td>0.172775</td>\n",
              "      <td>-0.022510</td>\n",
              "      <td>-0.243282</td>\n",
              "      <td>0.598350</td>\n",
              "      <td>1.000000</td>\n",
              "      <td>-0.034479</td>\n",
              "      <td>0.073999</td>\n",
              "      <td>0.418479</td>\n",
              "      <td>0.519834</td>\n",
              "    </tr>\n",
              "    <tr>\n",
              "      <th>도보 10분거리 내 지하철역 수(환승노선 수 반영)</th>\n",
              "      <td>-0.120087</td>\n",
              "      <td>0.195048</td>\n",
              "      <td>-0.147159</td>\n",
              "      <td>-0.055085</td>\n",
              "      <td>0.066679</td>\n",
              "      <td>0.009669</td>\n",
              "      <td>-0.041335</td>\n",
              "      <td>-0.037642</td>\n",
              "      <td>-0.008183</td>\n",
              "      <td>-0.051386</td>\n",
              "      <td>-0.034479</td>\n",
              "      <td>1.000000</td>\n",
              "      <td>0.057473</td>\n",
              "      <td>-0.009034</td>\n",
              "      <td>-0.086562</td>\n",
              "    </tr>\n",
              "    <tr>\n",
              "      <th>도보 10분거리 내 버스정류장 수</th>\n",
              "      <td>-0.081409</td>\n",
              "      <td>-0.005914</td>\n",
              "      <td>0.046569</td>\n",
              "      <td>-0.112403</td>\n",
              "      <td>-0.030108</td>\n",
              "      <td>-0.001577</td>\n",
              "      <td>0.039301</td>\n",
              "      <td>0.038542</td>\n",
              "      <td>-0.003009</td>\n",
              "      <td>0.108394</td>\n",
              "      <td>0.073999</td>\n",
              "      <td>0.057473</td>\n",
              "      <td>1.000000</td>\n",
              "      <td>0.088928</td>\n",
              "      <td>0.103472</td>\n",
              "    </tr>\n",
              "    <tr>\n",
              "      <th>단지내주차면수</th>\n",
              "      <td>-0.080123</td>\n",
              "      <td>0.469530</td>\n",
              "      <td>0.395826</td>\n",
              "      <td>-0.182264</td>\n",
              "      <td>-0.369375</td>\n",
              "      <td>0.069806</td>\n",
              "      <td>0.294625</td>\n",
              "      <td>0.281112</td>\n",
              "      <td>-0.108682</td>\n",
              "      <td>0.390195</td>\n",
              "      <td>0.418479</td>\n",
              "      <td>-0.009034</td>\n",
              "      <td>0.088928</td>\n",
              "      <td>1.000000</td>\n",
              "      <td>0.859216</td>\n",
              "    </tr>\n",
              "    <tr>\n",
              "      <th>등록차량수</th>\n",
              "      <td>-0.099950</td>\n",
              "      <td>0.316703</td>\n",
              "      <td>0.449189</td>\n",
              "      <td>-0.169999</td>\n",
              "      <td>-0.518342</td>\n",
              "      <td>0.115453</td>\n",
              "      <td>0.247085</td>\n",
              "      <td>0.118121</td>\n",
              "      <td>-0.154491</td>\n",
              "      <td>0.436073</td>\n",
              "      <td>0.519834</td>\n",
              "      <td>-0.086562</td>\n",
              "      <td>0.103472</td>\n",
              "      <td>0.859216</td>\n",
              "      <td>1.000000</td>\n",
              "    </tr>\n",
              "  </tbody>\n",
              "</table>\n",
              "</div>"
            ],
            "text/plain": [
              "                                  단지코드      총세대수  ...   단지내주차면수     등록차량수\n",
              "단지코드                          1.000000  0.048983  ... -0.080123 -0.099950\n",
              "총세대수                          0.048983  1.000000  ...  0.469530  0.316703\n",
              "임대건물구분                       -0.069088 -0.395954  ...  0.395826  0.449189\n",
              "지역                           -0.020800 -0.050277  ... -0.182264 -0.169999\n",
              "공급유형                          0.019559  0.112987  ... -0.369375 -0.518342\n",
              "전용면적                         -0.004582  0.053513  ...  0.069806  0.115453\n",
              "전용면적별세대수                     -0.030955  0.090440  ...  0.294625  0.247085\n",
              "공가수                           0.000845  0.125877  ...  0.281112  0.118121\n",
              "자격유형                          0.051644  0.105370  ... -0.108682 -0.154491\n",
              "임대보증금                        -0.071803 -0.143949  ...  0.390195  0.436073\n",
              "임대료                          -0.029130 -0.153476  ...  0.418479  0.519834\n",
              "도보 10분거리 내 지하철역 수(환승노선 수 반영) -0.120087  0.195048  ... -0.009034 -0.086562\n",
              "도보 10분거리 내 버스정류장 수           -0.081409 -0.005914  ...  0.088928  0.103472\n",
              "단지내주차면수                      -0.080123  0.469530  ...  1.000000  0.859216\n",
              "등록차량수                        -0.099950  0.316703  ...  0.859216  1.000000\n",
              "\n",
              "[15 rows x 15 columns]"
            ]
          },
          "metadata": {
            "tags": []
          },
          "execution_count": 391
        }
      ]
    },
    {
      "cell_type": "code",
      "metadata": {
        "id": "Iu7mAL6Q2J8j"
      },
      "source": [
        "train = data.loc[data['등록차량수'].notnull()]\n",
        "test = data.loc[data['등록차량수'].isnull()].drop(columns='등록차량수')"
      ],
      "execution_count": 279,
      "outputs": []
    },
    {
      "cell_type": "code",
      "metadata": {
        "id": "oOo9AgNM16jR"
      },
      "source": [
        "train['전용면적'] = train['전용면적']//5*5\n",
        "test['전용면적'] = test['전용면적']//5*5\n",
        "\n",
        "\n",
        "idx = train[train['전용면적']>100].index\n",
        "train.loc[idx, '전용면적'] = 100\n",
        "idx = test[test['전용면적']>100].index\n",
        "test.loc[idx, '전용면적'] = 100\n",
        "\n",
        "idx = train[train['전용면적']<10].index\n",
        "train.loc[idx, '전용면적'] = 10\n",
        "idx = test[test['전용면적']<10].index\n",
        "test.loc[idx, '전용면적'] = 10"
      ],
      "execution_count": 280,
      "outputs": []
    },
    {
      "cell_type": "code",
      "metadata": {
        "colab": {
          "base_uri": "https://localhost:8080/"
        },
        "id": "xHEnB27Iyb_S",
        "outputId": "6d87274c-a710-487e-fc9e-0ea9a2a698be"
      },
      "source": [
        "columns = ['단지코드', '총세대수', '공가수', '지역', '단지내주차면수', '도보 10분거리 내 지하철역 수(환승노선 수 반영)', '도보 10분거리 내 버스정류장 수']\n",
        "target = '등록차량수'\n",
        "area_columns = []\n",
        "for area in train['전용면적'].unique():\n",
        "    area_columns.append(f'면적_{area}')\n",
        "\n",
        "new_train = pd.DataFrame()\n",
        "new_test = pd.DataFrame()\n",
        "\n",
        "for i, code in tqdm(enumerate(train['단지코드'].unique())):\n",
        "    temp = train[train['단지코드']==code]\n",
        "    temp.index = range(temp.shape[0])\n",
        "    for col in columns:\n",
        "        new_train.loc[i, col] = temp.loc[0, col]\n",
        "\n",
        "    \n",
        "    for col in area_columns:\n",
        "        area = float(col.split('_')[-1])\n",
        "        new_train.loc[i, col] = temp[temp['전용면적']==area]['전용면적별세대수'].sum()\n",
        "    \n",
        "\n",
        "    \n",
        "    new_train.loc[i, '등록차량수'] = temp.loc[0, '등록차량수']\n",
        "    \n",
        "for i, code in tqdm(enumerate(test['단지코드'].unique())):\n",
        "    temp = test[test['단지코드']==code]\n",
        "    temp.index = range(temp.shape[0])\n",
        "    for col in columns:\n",
        "        new_test.loc[i, col] = temp.loc[0, col]\n",
        "    \n",
        "    for col in area_columns:\n",
        "        area = float(col.split('_')[-1])\n",
        "        new_test.loc[i, col] = temp[temp['전용면적']==area]['전용면적별세대수'].sum()"
      ],
      "execution_count": 281,
      "outputs": [
        {
          "output_type": "stream",
          "text": [
            "423it [00:08, 50.63it/s]\n",
            "150it [00:02, 51.96it/s]\n"
          ],
          "name": "stderr"
        }
      ]
    },
    {
      "cell_type": "code",
      "metadata": {
        "colab": {
          "base_uri": "https://localhost:8080/",
          "height": 447
        },
        "id": "WqplR_X0XD6O",
        "outputId": "5066bd2b-c1dd-4292-c0bb-afd9fbc4455a"
      },
      "source": [
        "# 임대보증금과 임대료 aggregation\n",
        "data_agg = data.groupby('단지코드')['임대보증금'].agg(['mean'])\n",
        "data_agg_col = []\n",
        "\n",
        "for i in data_agg.columns:\n",
        "  data_agg_col.append(f'{i}-임대보증금')\n",
        "\n",
        "data_agg.columns = data_agg_col\n",
        "data_agg"
      ],
      "execution_count": 282,
      "outputs": [
        {
          "output_type": "execute_result",
          "data": {
            "text/html": [
              "<div>\n",
              "<style scoped>\n",
              "    .dataframe tbody tr th:only-of-type {\n",
              "        vertical-align: middle;\n",
              "    }\n",
              "\n",
              "    .dataframe tbody tr th {\n",
              "        vertical-align: top;\n",
              "    }\n",
              "\n",
              "    .dataframe thead th {\n",
              "        text-align: right;\n",
              "    }\n",
              "</style>\n",
              "<table border=\"1\" class=\"dataframe\">\n",
              "  <thead>\n",
              "    <tr style=\"text-align: right;\">\n",
              "      <th></th>\n",
              "      <th>mean-임대보증금</th>\n",
              "    </tr>\n",
              "    <tr>\n",
              "      <th>단지코드</th>\n",
              "      <th></th>\n",
              "    </tr>\n",
              "  </thead>\n",
              "  <tbody>\n",
              "    <tr>\n",
              "      <th>C1000</th>\n",
              "      <td>1.320357e+07</td>\n",
              "    </tr>\n",
              "    <tr>\n",
              "      <th>C1003</th>\n",
              "      <td>2.265000e+07</td>\n",
              "    </tr>\n",
              "    <tr>\n",
              "      <th>C1004</th>\n",
              "      <td>4.952632e+05</td>\n",
              "    </tr>\n",
              "    <tr>\n",
              "      <th>C1005</th>\n",
              "      <td>1.710767e+07</td>\n",
              "    </tr>\n",
              "    <tr>\n",
              "      <th>C1006</th>\n",
              "      <td>8.975556e+05</td>\n",
              "    </tr>\n",
              "    <tr>\n",
              "      <th>...</th>\n",
              "      <td>...</td>\n",
              "    </tr>\n",
              "    <tr>\n",
              "      <th>C2676</th>\n",
              "      <td>4.010217e+05</td>\n",
              "    </tr>\n",
              "    <tr>\n",
              "      <th>C2680</th>\n",
              "      <td>2.360633e+07</td>\n",
              "    </tr>\n",
              "    <tr>\n",
              "      <th>C2688</th>\n",
              "      <td>8.511333e+06</td>\n",
              "    </tr>\n",
              "    <tr>\n",
              "      <th>C2691</th>\n",
              "      <td>7.066667e+07</td>\n",
              "    </tr>\n",
              "    <tr>\n",
              "      <th>C2692</th>\n",
              "      <td>1.579360e+07</td>\n",
              "    </tr>\n",
              "  </tbody>\n",
              "</table>\n",
              "<p>573 rows × 1 columns</p>\n",
              "</div>"
            ],
            "text/plain": [
              "         mean-임대보증금\n",
              "단지코드               \n",
              "C1000  1.320357e+07\n",
              "C1003  2.265000e+07\n",
              "C1004  4.952632e+05\n",
              "C1005  1.710767e+07\n",
              "C1006  8.975556e+05\n",
              "...             ...\n",
              "C2676  4.010217e+05\n",
              "C2680  2.360633e+07\n",
              "C2688  8.511333e+06\n",
              "C2691  7.066667e+07\n",
              "C2692  1.579360e+07\n",
              "\n",
              "[573 rows x 1 columns]"
            ]
          },
          "metadata": {
            "tags": []
          },
          "execution_count": 282
        }
      ]
    },
    {
      "cell_type": "code",
      "metadata": {
        "colab": {
          "base_uri": "https://localhost:8080/",
          "height": 447
        },
        "id": "VVqMPoZYYUPG",
        "outputId": "64dc6233-b940-4235-e794-098cddf32344"
      },
      "source": [
        "data_agg_b = data.groupby('단지코드')['임대료'].agg(['mean'])\n",
        "data_agg_col_b = []\n",
        "\n",
        "for i in data_agg_b.columns:\n",
        "  data_agg_col_b.append(f'{i}-임대료')\n",
        "\n",
        "data_agg_b.columns = data_agg_col_b\n",
        "data_agg_b"
      ],
      "execution_count": 283,
      "outputs": [
        {
          "output_type": "execute_result",
          "data": {
            "text/html": [
              "<div>\n",
              "<style scoped>\n",
              "    .dataframe tbody tr th:only-of-type {\n",
              "        vertical-align: middle;\n",
              "    }\n",
              "\n",
              "    .dataframe tbody tr th {\n",
              "        vertical-align: top;\n",
              "    }\n",
              "\n",
              "    .dataframe thead th {\n",
              "        text-align: right;\n",
              "    }\n",
              "</style>\n",
              "<table border=\"1\" class=\"dataframe\">\n",
              "  <thead>\n",
              "    <tr style=\"text-align: right;\">\n",
              "      <th></th>\n",
              "      <th>mean-임대료</th>\n",
              "    </tr>\n",
              "    <tr>\n",
              "      <th>단지코드</th>\n",
              "      <th></th>\n",
              "    </tr>\n",
              "  </thead>\n",
              "  <tbody>\n",
              "    <tr>\n",
              "      <th>C1000</th>\n",
              "      <td>121064.285714</td>\n",
              "    </tr>\n",
              "    <tr>\n",
              "      <th>C1003</th>\n",
              "      <td>115875.000000</td>\n",
              "    </tr>\n",
              "    <tr>\n",
              "      <th>C1004</th>\n",
              "      <td>11020.526316</td>\n",
              "    </tr>\n",
              "    <tr>\n",
              "      <th>C1005</th>\n",
              "      <td>222046.666667</td>\n",
              "    </tr>\n",
              "    <tr>\n",
              "      <th>C1006</th>\n",
              "      <td>12404.814815</td>\n",
              "    </tr>\n",
              "    <tr>\n",
              "      <th>...</th>\n",
              "      <td>...</td>\n",
              "    </tr>\n",
              "    <tr>\n",
              "      <th>C2676</th>\n",
              "      <td>5542.391304</td>\n",
              "    </tr>\n",
              "    <tr>\n",
              "      <th>C2680</th>\n",
              "      <td>129816.666667</td>\n",
              "    </tr>\n",
              "    <tr>\n",
              "      <th>C2688</th>\n",
              "      <td>109251.666667</td>\n",
              "    </tr>\n",
              "    <tr>\n",
              "      <th>C2691</th>\n",
              "      <td>560000.000000</td>\n",
              "    </tr>\n",
              "    <tr>\n",
              "      <th>C2692</th>\n",
              "      <td>117848.000000</td>\n",
              "    </tr>\n",
              "  </tbody>\n",
              "</table>\n",
              "<p>573 rows × 1 columns</p>\n",
              "</div>"
            ],
            "text/plain": [
              "            mean-임대료\n",
              "단지코드                \n",
              "C1000  121064.285714\n",
              "C1003  115875.000000\n",
              "C1004   11020.526316\n",
              "C1005  222046.666667\n",
              "C1006   12404.814815\n",
              "...              ...\n",
              "C2676    5542.391304\n",
              "C2680  129816.666667\n",
              "C2688  109251.666667\n",
              "C2691  560000.000000\n",
              "C2692  117848.000000\n",
              "\n",
              "[573 rows x 1 columns]"
            ]
          },
          "metadata": {
            "tags": []
          },
          "execution_count": 283
        }
      ]
    },
    {
      "cell_type": "code",
      "metadata": {
        "id": "V1XcRJkzYEea"
      },
      "source": [
        "new_train = new_train.merge(data_agg, how='left', on='단지코드')\n",
        "new_test = new_test.merge(data_agg, how='left', on='단지코드')\n",
        "new_train = new_train.merge(data_agg_b, how='left', on='단지코드')\n",
        "new_test = new_test.merge(data_agg_b, how='left', on='단지코드')"
      ],
      "execution_count": 284,
      "outputs": []
    },
    {
      "cell_type": "code",
      "metadata": {
        "id": "tEUc7ksNAuC4"
      },
      "source": [
        "new_train['실거주세대'] = new_train['총세대수'] - new_train['공가수']\n",
        "new_test['실거주세대'] = new_test['총세대수'] - new_test['공가수']"
      ],
      "execution_count": null,
      "outputs": []
    },
    {
      "cell_type": "code",
      "metadata": {
        "id": "3sQNohftAuHy"
      },
      "source": [
        "new_train['단지내주차면수_bin']=pd.qcut(new_train['단지내주차면수'], 5, labels=['a','b','c','d','e'])\n",
        "new_test['단지내주차면수_bin']=pd.qcut(new_test['단지내주차면수'], 5, labels=['a','b','c','d','e'])"
      ],
      "execution_count": 285,
      "outputs": []
    },
    {
      "cell_type": "code",
      "metadata": {
        "id": "jjJ1y3fQ0WHE"
      },
      "source": [
        "new_train['공실율'] = new_train['공가수']/new_train['총세대수']*100\n",
        "new_test['공실율'] = new_test['공가수']/new_test['총세대수']*100\n",
        "new_train['세대당주차면수'] = new_train['단지내주차면수']/new_train['총세대수']\n",
        "new_test['세대당주차면수'] = new_test['단지내주차면수']/new_test['총세대수']"
      ],
      "execution_count": 286,
      "outputs": []
    },
    {
      "cell_type": "code",
      "metadata": {
        "id": "nYpWKW2qocue"
      },
      "source": [
        "new_train = new_train.merge(data.groupby('단지코드')['공급유형'].value_counts().unstack().fillna(0), how='left', on='단지코드')\n",
        "new_test = new_test.merge(data.groupby('단지코드')['공급유형'].value_counts().unstack().fillna(0), how='left', on='단지코드')"
      ],
      "execution_count": 287,
      "outputs": []
    },
    {
      "cell_type": "code",
      "metadata": {
        "id": "YD5yN1gODneE"
      },
      "source": [
        "new_train = new_train.merge(data.groupby(['단지코드'])['임대건물구분'].value_counts().unstack().fillna(0), how='left', on='단지코드')\n",
        "new_test = new_test.merge(data.groupby(['단지코드'])['임대건물구분'].value_counts().unstack().fillna(0), how='left', on='단지코드')"
      ],
      "execution_count": 288,
      "outputs": []
    },
    {
      "cell_type": "code",
      "metadata": {
        "id": "IWNx4WJ3m0Wd"
      },
      "source": [
        "# info 병합하는 셀\n",
        "new_train = new_train.merge(info, how='left', on='지역')\n",
        "new_test = new_test.merge(info, how='left', on='지역')"
      ],
      "execution_count": 268,
      "outputs": []
    },
    {
      "cell_type": "code",
      "metadata": {
        "id": "0ltpV7VevUeL"
      },
      "source": [
        "new_train['mean-임대보증금'] = np.log1p(new_train['mean-임대보증금']+1)\n",
        "new_test['mean-임대보증금'] = np.log1p(new_test['mean-임대보증금']+1)\n",
        "new_train['mean-임대료'] = np.log1p(new_train['mean-임대료']+1)\n",
        "new_test['mean-임대료'] = np.log1p(new_test['mean-임대료']+1)"
      ],
      "execution_count": 289,
      "outputs": []
    },
    {
      "cell_type": "markdown",
      "metadata": {
        "id": "B-GkljldtxDc"
      },
      "source": [
        "# 다른 버전"
      ]
    },
    {
      "cell_type": "code",
      "metadata": {
        "id": "Xbx9ppyMfLLi"
      },
      "source": [
        "train_g = train.groupby('단지코드').mean()\n",
        "test_g = test.groupby('단지코드').mean()"
      ],
      "execution_count": 167,
      "outputs": []
    },
    {
      "cell_type": "code",
      "metadata": {
        "id": "ohjA8VzMvQ7K"
      },
      "source": [
        "train_g = train_g.reset_index()\n",
        "test_g = test_g.reset_index()"
      ],
      "execution_count": 168,
      "outputs": []
    },
    {
      "cell_type": "code",
      "metadata": {
        "id": "aFBbuYHyty4G"
      },
      "source": [
        "train_g['실거주세대'] = train_g['총세대수'] - train_g['공가수']\n",
        "test_g['실거주세대'] = test_g['총세대수'] - test_g['공가수']"
      ],
      "execution_count": 159,
      "outputs": []
    },
    {
      "cell_type": "code",
      "metadata": {
        "id": "s6lyWZguty4G"
      },
      "source": [
        "train_g['단지내주차면수_bin']=pd.qcut(train_g['단지내주차면수'], 5, labels=['a','b','c','d','e'])\n",
        "test_g['단지내주차면수_bin']=pd.qcut(test_g['단지내주차면수'], 5, labels=['a','b','c','d','e'])"
      ],
      "execution_count": 169,
      "outputs": []
    },
    {
      "cell_type": "code",
      "metadata": {
        "id": "wrbrntYZty4H"
      },
      "source": [
        "train_g['공실율'] = train_g['공가수']/train_g['총세대수']*100\n",
        "test_g['공실율'] = test_g['공가수']/test_g['총세대수']*100\n",
        "train_g['세대당주차면수'] = train_g['단지내주차면수']/train_g['총세대수']\n",
        "test_g['세대당주차면수'] = test_g['단지내주차면수']/test_g['총세대수']"
      ],
      "execution_count": 170,
      "outputs": []
    },
    {
      "cell_type": "code",
      "metadata": {
        "id": "C5SPQ7Pnty4H"
      },
      "source": [
        "train_g = train_g.merge(data.groupby('단지코드')['공급유형'].value_counts().unstack().fillna(0), how='left', on='단지코드')\n",
        "test_g = test_g.merge(data.groupby('단지코드')['공급유형'].value_counts().unstack().fillna(0), how='left', on='단지코드')"
      ],
      "execution_count": 171,
      "outputs": []
    },
    {
      "cell_type": "code",
      "metadata": {
        "id": "lYjt7mW1ty4H"
      },
      "source": [
        "train_g = train_g.merge(data.groupby(['단지코드'])['임대건물구분'].value_counts().unstack().fillna(0), how='left', on='단지코드')\n",
        "test_g = test_g.merge(data.groupby(['단지코드'])['임대건물구분'].value_counts().unstack().fillna(0), how='left', on='단지코드')"
      ],
      "execution_count": 172,
      "outputs": []
    },
    {
      "cell_type": "code",
      "metadata": {
        "id": "buWiiWyNui9m"
      },
      "source": [
        "train_g = pd.get_dummies(train_g, columns=['단지내주차면수_bin'])\n",
        "test_g = pd.get_dummies(test_g, columns=['단지내주차면수_bin'])"
      ],
      "execution_count": 173,
      "outputs": []
    },
    {
      "cell_type": "code",
      "metadata": {
        "id": "yvUnxJXcgXNL"
      },
      "source": [
        "train_g = train_g.merge(train[['단지코드', '지역']], how='left', on='단지코드')\n",
        "test_g = test_g.merge(test[['단지코드', '지역']], how='left', on='단지코드')"
      ],
      "execution_count": 175,
      "outputs": []
    },
    {
      "cell_type": "code",
      "metadata": {
        "id": "8_bgx8cvkwOT"
      },
      "source": [
        "train_g = train_g.drop_duplicates(subset='단지코드', keep='first')\n",
        "test_g = test_g.drop_duplicates(subset='단지코드', keep='first')"
      ],
      "execution_count": 177,
      "outputs": []
    },
    {
      "cell_type": "code",
      "metadata": {
        "id": "71uOGDn1hoN3"
      },
      "source": [
        "train_g = pd.get_dummies(data=train_g, columns=['지역'])\n",
        "test_g = pd.get_dummies(data=test_g, columns=['지역'])\n",
        "test_g['지역_서울특별시'] = 0"
      ],
      "execution_count": 178,
      "outputs": []
    },
    {
      "cell_type": "code",
      "metadata": {
        "id": "9_69AqA8uIYE"
      },
      "source": [
        "x_train = train_g.drop(columns=['단지코드', '등록차량수'])\n",
        "y_train = train_g['등록차량수']\n",
        "x_test = test_g.drop(columns=['단지코드'])"
      ],
      "execution_count": 179,
      "outputs": []
    },
    {
      "cell_type": "code",
      "metadata": {
        "colab": {
          "base_uri": "https://localhost:8080/"
        },
        "id": "E7_Y0hejZsfb",
        "outputId": "3a55e25b-72a4-459c-9ab1-2a84203dbf63"
      },
      "source": [
        "corr_matrix = train_g.corr()\n",
        "\n",
        "upper = corr_matrix.where(np.triu(np.ones(corr_matrix.shape), k=1).astype(np.bool))\n",
        "\n",
        "to_drop = [c for c in upper.columns if any(abs(upper[c]) > 0.9)]\n",
        "\n",
        "print(f'There are {len(train_g.columns)} columns but {len(to_drop)} corr columns to remove')"
      ],
      "execution_count": 181,
      "outputs": [
        {
          "output_type": "stream",
          "text": [
            "There are 46 columns but 1 corr columns to remove\n"
          ],
          "name": "stdout"
        }
      ]
    },
    {
      "cell_type": "code",
      "metadata": {
        "colab": {
          "base_uri": "https://localhost:8080/"
        },
        "id": "GzKRmPX9Kwpd",
        "outputId": "558a6689-74b5-4ed1-d13c-63a5cb6bca62"
      },
      "source": [
        "to_drop"
      ],
      "execution_count": 182,
      "outputs": [
        {
          "output_type": "execute_result",
          "data": {
            "text/plain": [
              "['상가']"
            ]
          },
          "metadata": {
            "tags": []
          },
          "execution_count": 182
        }
      ]
    },
    {
      "cell_type": "code",
      "metadata": {
        "id": "3lOCj2ZEZ2i3"
      },
      "source": [
        "new_train = new_train.drop(columns=to_drop)\n",
        "new_test = new_test.drop(columns=to_drop)"
      ],
      "execution_count": null,
      "outputs": []
    },
    {
      "cell_type": "code",
      "metadata": {
        "colab": {
          "base_uri": "https://localhost:8080/"
        },
        "id": "m630XmpjaS1f",
        "outputId": "f8572a86-b149-425a-d606-4e2a16d92545"
      },
      "source": [
        "new_train.isnull().sum()"
      ],
      "execution_count": null,
      "outputs": [
        {
          "output_type": "execute_result",
          "data": {
            "text/plain": [
              "단지코드        0\n",
              "총세대수        0\n",
              "공가수         0\n",
              "지역          0\n",
              "단지내주차면수     0\n",
              "           ..\n",
              "80대(남자)     0\n",
              "90대(여자)     0\n",
              "90대(남자)     0\n",
              "100대(여자)    0\n",
              "100대(남자)    0\n",
              "Length: 64, dtype: int64"
            ]
          },
          "metadata": {
            "tags": []
          },
          "execution_count": 259
        }
      ]
    },
    {
      "cell_type": "code",
      "metadata": {
        "id": "rsmaMz4wFY3Y"
      },
      "source": [
        "new_train = pd.get_dummies(new_train, columns=['단지내주차면수_bin'])\n",
        "new_test = pd.get_dummies(new_test, columns=['단지내주차면수_bin'])"
      ],
      "execution_count": 290,
      "outputs": []
    },
    {
      "cell_type": "code",
      "metadata": {
        "id": "9Vye1pDEZRQ5"
      },
      "source": [
        "from sklearn.impute import SimpleImputer\n",
        "\n",
        "for i in new_train.columns:\n",
        "  if new_train[i].dtype == 'object':\n",
        "    continue\n",
        "  new_train[i] = new_train[i].fillna(new_train[i].median())"
      ],
      "execution_count": 291,
      "outputs": []
    },
    {
      "cell_type": "code",
      "metadata": {
        "id": "YVXB9mWfc46u"
      },
      "source": [
        "for i in new_test.columns:\n",
        "  if new_test[i].dtype == 'object':\n",
        "    continue\n",
        "  new_test[i] = new_test[i].fillna(new_test[i].median())"
      ],
      "execution_count": 292,
      "outputs": []
    },
    {
      "cell_type": "code",
      "metadata": {
        "id": "3PeQq2uJy0CM"
      },
      "source": [
        "x_train = new_train.drop(columns=['단지코드', '등록차량수'])\n",
        "y_train = new_train['등록차량수']\n",
        "x_test = new_test.drop(columns=['단지코드'])"
      ],
      "execution_count": 293,
      "outputs": []
    },
    {
      "cell_type": "code",
      "metadata": {
        "id": "FbVBzqwl9736"
      },
      "source": [
        "from sklearn.preprocessing import robust_scale\n",
        "x_train_col = x_train.columns\n",
        "\n",
        "for i in x_train.columns:\n",
        "  if x_train[i].dtype=='object':\n",
        "    continue\n",
        "  x_train[i] = robust_scale(x_train[i])\n",
        "\n",
        "for i in x_test.columns:\n",
        "  if x_test[i].dtype=='object':\n",
        "    continue\n",
        "  x_test[i] = robust_scale(x_test[i])"
      ],
      "execution_count": 274,
      "outputs": []
    },
    {
      "cell_type": "code",
      "metadata": {
        "id": "mRaWsbbmqMWt"
      },
      "source": [
        "# feature selection\n",
        "x_train = new_train.drop(columns=['단지코드', '등록차량수', '면적_100.0', '면적_75.0', '면적_15.0', '면적_40.0', '면적_60.0', '면적_65.0'])\n",
        "y_train = new_train['등록차량수']\n",
        "x_test = new_test.drop(columns=['단지코드', '면적_100.0', '면적_75.0', '면적_15.0', '면적_40.0', '면적_60.0', '면적_65.0'])"
      ],
      "execution_count": null,
      "outputs": []
    },
    {
      "cell_type": "code",
      "metadata": {
        "colab": {
          "base_uri": "https://localhost:8080/"
        },
        "id": "GGPLct-Ms8rW",
        "outputId": "f48f78a1-4c50-4250-d0f3-4bed6a6f6df2"
      },
      "source": [
        "pip install catboost"
      ],
      "execution_count": 122,
      "outputs": [
        {
          "output_type": "stream",
          "text": [
            "Collecting catboost\n",
            "\u001b[?25l  Downloading https://files.pythonhosted.org/packages/5a/41/24e14322b9986cf72a8763e0a0a69cc256cf963cf9502c8f0044a62c1ae8/catboost-0.26-cp37-none-manylinux1_x86_64.whl (69.2MB)\n",
            "\u001b[K     |████████████████████████████████| 69.2MB 44kB/s \n",
            "\u001b[?25hRequirement already satisfied: scipy in /usr/local/lib/python3.7/dist-packages (from catboost) (1.4.1)\n",
            "Requirement already satisfied: graphviz in /usr/local/lib/python3.7/dist-packages (from catboost) (0.10.1)\n",
            "Requirement already satisfied: pandas>=0.24.0 in /usr/local/lib/python3.7/dist-packages (from catboost) (1.1.5)\n",
            "Requirement already satisfied: numpy>=1.16.0 in /usr/local/lib/python3.7/dist-packages (from catboost) (1.19.5)\n",
            "Requirement already satisfied: matplotlib in /usr/local/lib/python3.7/dist-packages (from catboost) (3.2.2)\n",
            "Requirement already satisfied: plotly in /usr/local/lib/python3.7/dist-packages (from catboost) (4.4.1)\n",
            "Requirement already satisfied: six in /usr/local/lib/python3.7/dist-packages (from catboost) (1.15.0)\n",
            "Requirement already satisfied: pytz>=2017.2 in /usr/local/lib/python3.7/dist-packages (from pandas>=0.24.0->catboost) (2018.9)\n",
            "Requirement already satisfied: python-dateutil>=2.7.3 in /usr/local/lib/python3.7/dist-packages (from pandas>=0.24.0->catboost) (2.8.1)\n",
            "Requirement already satisfied: kiwisolver>=1.0.1 in /usr/local/lib/python3.7/dist-packages (from matplotlib->catboost) (1.3.1)\n",
            "Requirement already satisfied: cycler>=0.10 in /usr/local/lib/python3.7/dist-packages (from matplotlib->catboost) (0.10.0)\n",
            "Requirement already satisfied: pyparsing!=2.0.4,!=2.1.2,!=2.1.6,>=2.0.1 in /usr/local/lib/python3.7/dist-packages (from matplotlib->catboost) (2.4.7)\n",
            "Requirement already satisfied: retrying>=1.3.3 in /usr/local/lib/python3.7/dist-packages (from plotly->catboost) (1.3.3)\n",
            "Installing collected packages: catboost\n",
            "Successfully installed catboost-0.26\n"
          ],
          "name": "stdout"
        }
      ]
    },
    {
      "cell_type": "code",
      "metadata": {
        "id": "2nBtbKgUs_Gb"
      },
      "source": [
        "import catboost\n",
        "from sklearn.model_selection import KFold, StratifiedKFold\n",
        "from sklearn.metrics import mean_absolute_error\n",
        "import lightgbm\n",
        "import xgboost"
      ],
      "execution_count": 123,
      "outputs": []
    },
    {
      "cell_type": "code",
      "metadata": {
        "colab": {
          "base_uri": "https://localhost:8080/"
        },
        "id": "IVO6pxhhtRyN",
        "outputId": "9d0b6a56-87b1-428b-dce9-e11a7ccdf7a2"
      },
      "source": [
        "skf = StratifiedKFold(n_splits=5, shuffle=True, random_state=42)\n",
        "kf = KFold(n_splits=10, shuffle=True, random_state=42)\n",
        "preds_test_cat = np.zeros((len(x_test)))\n",
        "cat_features = []\n",
        "MAE={}\n",
        "\n",
        "for i in x_train.columns:\n",
        "  if x_train[i].dtype=='float':\n",
        "    continue\n",
        "  elif x_train[i].dtype=='int':\n",
        "    continue\n",
        "  cat_features.append(i)\n",
        "\n",
        "for i,(train_index, valid_index) in enumerate(kf.split(x_train, y_train)):\n",
        "  X_train, X_valid = x_train.iloc[train_index], x_train.iloc[valid_index]\n",
        "  Y_train, Y_valid = y_train.iloc[train_index], y_train.iloc[valid_index]\n",
        "\n",
        "  model_cat = catboost.CatBoostRegressor(learning_rate=0.022, loss_function='MAE', eval_metric='MAE', n_estimators=3000, cat_features=cat_features, use_best_model=True)\n",
        "  model_cat.fit(X_train, Y_train, eval_set=[(X_train, Y_train), (X_valid, Y_valid)], verbose=100, early_stopping_rounds=50)\n",
        "\n",
        "  preds_test_cat = model_cat.predict(x_test)\n",
        "  preds_val = model_cat.predict(X_valid)\n",
        "  MAE[i] = mean_absolute_error(preds_val, Y_valid)\n",
        "  \n",
        "MAE = pd.Series(MAE)\n",
        "print(f'평균 MAE:{MAE.mean()}')"
      ],
      "execution_count": 294,
      "outputs": [
        {
          "output_type": "stream",
          "text": [
            "0:\tlearn: 289.4809990\ttest: 289.4809990\ttest1: 253.2126037\tbest: 253.2126037 (0)\ttotal: 3.91ms\tremaining: 11.7s\n",
            "100:\tlearn: 121.2000352\ttest: 122.7151972\ttest1: 127.6873870\tbest: 127.6873870 (100)\ttotal: 363ms\tremaining: 10.4s\n",
            "200:\tlearn: 89.5311358\ttest: 92.6522358\ttest1: 108.0686486\tbest: 107.9475327 (198)\ttotal: 719ms\tremaining: 10s\n",
            "Stopped by overfitting detector  (50 iterations wait)\n",
            "\n",
            "bestTest = 107.8933699\n",
            "bestIteration = 202\n",
            "\n",
            "Shrink model to first 203 iterations.\n",
            "0:\tlearn: 279.2313464\ttest: 279.2313464\ttest1: 344.1256734\tbest: 344.1256734 (0)\ttotal: 3.59ms\tremaining: 10.8s\n",
            "100:\tlearn: 116.4589545\ttest: 116.5526903\ttest1: 201.6353169\tbest: 201.6353169 (100)\ttotal: 363ms\tremaining: 10.4s\n",
            "200:\tlearn: 86.9129319\ttest: 87.9854603\ttest1: 186.8610860\tbest: 186.7432456 (197)\ttotal: 723ms\tremaining: 10.1s\n",
            "300:\tlearn: 70.1771945\ttest: 72.3538829\ttest1: 178.0056840\tbest: 178.0056840 (300)\ttotal: 1.07s\tremaining: 9.64s\n",
            "400:\tlearn: 57.9359077\ttest: 61.0111595\ttest1: 173.6187907\tbest: 173.5688261 (399)\ttotal: 1.43s\tremaining: 9.3s\n",
            "500:\tlearn: 49.0077545\ttest: 52.4303182\ttest1: 169.6186982\tbest: 169.5756586 (496)\ttotal: 1.8s\tremaining: 8.97s\n",
            "600:\tlearn: 42.2074332\ttest: 46.1507976\ttest1: 165.8880097\tbest: 165.8716629 (598)\ttotal: 2.15s\tremaining: 8.6s\n",
            "700:\tlearn: 37.6203381\ttest: 42.1310033\ttest1: 164.6105858\tbest: 164.2349502 (678)\ttotal: 2.51s\tremaining: 8.23s\n",
            "Stopped by overfitting detector  (50 iterations wait)\n",
            "\n",
            "bestTest = 164.2349502\n",
            "bestIteration = 678\n",
            "\n",
            "Shrink model to first 679 iterations.\n",
            "0:\tlearn: 282.2918043\ttest: 282.2918043\ttest1: 310.5870688\tbest: 310.5870688 (0)\ttotal: 3.52ms\tremaining: 10.6s\n",
            "100:\tlearn: 123.4762724\ttest: 124.3759501\ttest1: 137.2403127\tbest: 137.2403127 (100)\ttotal: 352ms\tremaining: 10.1s\n",
            "200:\tlearn: 92.8631726\ttest: 94.5935529\ttest1: 107.4757868\tbest: 107.4757868 (200)\ttotal: 700ms\tremaining: 9.74s\n",
            "300:\tlearn: 74.2917655\ttest: 76.7816481\ttest1: 94.5857322\tbest: 94.4151764 (296)\ttotal: 1.06s\tremaining: 9.54s\n",
            "400:\tlearn: 60.7680640\ttest: 63.7418212\ttest1: 89.8084853\tbest: 89.7758340 (399)\ttotal: 1.41s\tremaining: 9.16s\n",
            "500:\tlearn: 52.7866641\ttest: 56.2397783\ttest1: 89.4030229\tbest: 89.2549424 (456)\ttotal: 1.77s\tremaining: 8.81s\n",
            "Stopped by overfitting detector  (50 iterations wait)\n",
            "\n",
            "bestTest = 89.03345261\n",
            "bestIteration = 506\n",
            "\n",
            "Shrink model to first 507 iterations.\n",
            "0:\tlearn: 282.5626342\ttest: 282.5626342\ttest1: 309.6471419\tbest: 309.6471419 (0)\ttotal: 3.5ms\tremaining: 10.5s\n",
            "100:\tlearn: 119.4705243\ttest: 120.6071849\ttest1: 170.3660761\tbest: 170.3660761 (100)\ttotal: 347ms\tremaining: 9.97s\n",
            "200:\tlearn: 89.6164759\ttest: 91.9027690\ttest1: 150.4980072\tbest: 150.4980072 (200)\ttotal: 727ms\tremaining: 10.1s\n",
            "300:\tlearn: 70.9693070\ttest: 74.8849606\ttest1: 139.4215165\tbest: 139.4215165 (300)\ttotal: 1.08s\tremaining: 9.73s\n",
            "400:\tlearn: 58.4202792\ttest: 63.5098768\ttest1: 134.3762390\tbest: 134.3762390 (400)\ttotal: 1.44s\tremaining: 9.34s\n",
            "500:\tlearn: 49.0011671\ttest: 54.7265564\ttest1: 132.1404145\tbest: 132.0013933 (498)\ttotal: 1.8s\tremaining: 8.96s\n",
            "600:\tlearn: 42.8481587\ttest: 49.0520822\ttest1: 131.2783945\tbest: 131.2467241 (595)\ttotal: 2.16s\tremaining: 8.61s\n",
            "Stopped by overfitting detector  (50 iterations wait)\n",
            "\n",
            "bestTest = 130.9866585\n",
            "bestIteration = 618\n",
            "\n",
            "Shrink model to first 619 iterations.\n",
            "0:\tlearn: 282.9739413\ttest: 282.9739413\ttest1: 303.6700467\tbest: 303.6700467 (0)\ttotal: 3.58ms\tremaining: 10.7s\n",
            "100:\tlearn: 123.0800731\ttest: 124.8725944\ttest1: 139.2020194\tbest: 139.2020194 (100)\ttotal: 360ms\tremaining: 10.3s\n",
            "200:\tlearn: 91.5532974\ttest: 94.8657739\ttest1: 123.2342616\tbest: 123.1613309 (199)\ttotal: 712ms\tremaining: 9.92s\n",
            "300:\tlearn: 72.6299073\ttest: 77.4817543\ttest1: 116.4725490\tbest: 116.4725490 (300)\ttotal: 1.07s\tremaining: 9.6s\n",
            "400:\tlearn: 60.0517458\ttest: 65.6396422\ttest1: 111.2696360\tbest: 111.2696360 (400)\ttotal: 1.43s\tremaining: 9.29s\n",
            "500:\tlearn: 51.0112925\ttest: 56.9450516\ttest1: 110.4720480\tbest: 109.8528977 (494)\ttotal: 1.79s\tremaining: 8.92s\n",
            "600:\tlearn: 44.5999149\ttest: 50.9822988\ttest1: 109.4966886\tbest: 109.3257780 (595)\ttotal: 2.15s\tremaining: 8.56s\n",
            "700:\tlearn: 39.8011460\ttest: 46.7947771\ttest1: 108.3265513\tbest: 108.2699437 (697)\ttotal: 2.51s\tremaining: 8.25s\n",
            "800:\tlearn: 35.9977771\ttest: 43.4307676\ttest1: 108.4635465\tbest: 107.9693637 (758)\ttotal: 2.87s\tremaining: 7.88s\n",
            "Stopped by overfitting detector  (50 iterations wait)\n",
            "\n",
            "bestTest = 107.9693637\n",
            "bestIteration = 758\n",
            "\n",
            "Shrink model to first 759 iterations.\n",
            "0:\tlearn: 282.0265187\ttest: 282.0265187\ttest1: 320.9125704\tbest: 320.9125704 (0)\ttotal: 3.62ms\tremaining: 10.9s\n",
            "100:\tlearn: 121.1067679\ttest: 121.7827425\ttest1: 155.7837434\tbest: 155.7837434 (100)\ttotal: 354ms\tremaining: 10.2s\n",
            "200:\tlearn: 91.4267369\ttest: 93.3609191\ttest1: 133.2951001\tbest: 133.1890505 (199)\ttotal: 708ms\tremaining: 9.86s\n",
            "300:\tlearn: 71.8852714\ttest: 75.5415647\ttest1: 124.0348301\tbest: 124.0348301 (300)\ttotal: 1.07s\tremaining: 9.57s\n",
            "400:\tlearn: 58.3342599\ttest: 63.3833147\ttest1: 118.7444266\tbest: 118.7444266 (400)\ttotal: 1.43s\tremaining: 9.28s\n",
            "500:\tlearn: 49.3204106\ttest: 55.4891363\ttest1: 116.2593837\tbest: 116.1978391 (498)\ttotal: 1.8s\tremaining: 8.97s\n",
            "600:\tlearn: 43.9189376\ttest: 50.8501818\ttest1: 115.6908918\tbest: 115.6908918 (600)\ttotal: 2.16s\tremaining: 8.62s\n",
            "Stopped by overfitting detector  (50 iterations wait)\n",
            "\n",
            "bestTest = 115.6439815\n",
            "bestIteration = 604\n",
            "\n",
            "Shrink model to first 605 iterations.\n",
            "0:\tlearn: 293.0589334\ttest: 293.0589334\ttest1: 210.7864752\tbest: 210.7864752 (0)\ttotal: 3.77ms\tremaining: 11.3s\n",
            "100:\tlearn: 119.3601515\ttest: 119.8709241\ttest1: 129.1979373\tbest: 129.1957756 (96)\ttotal: 356ms\tremaining: 10.2s\n",
            "Stopped by overfitting detector  (50 iterations wait)\n",
            "\n",
            "bestTest = 127.0284423\n",
            "bestIteration = 144\n",
            "\n",
            "Shrink model to first 145 iterations.\n",
            "0:\tlearn: 289.9797418\ttest: 289.9797418\ttest1: 240.5484752\tbest: 240.5484752 (0)\ttotal: 3.62ms\tremaining: 10.8s\n",
            "100:\tlearn: 119.7670416\ttest: 121.9311554\ttest1: 112.2680483\tbest: 112.1466707 (97)\ttotal: 361ms\tremaining: 10.4s\n",
            "Stopped by overfitting detector  (50 iterations wait)\n",
            "\n",
            "bestTest = 111.7310312\n",
            "bestIteration = 112\n",
            "\n",
            "Shrink model to first 113 iterations.\n",
            "0:\tlearn: 287.0564190\ttest: 287.0564190\ttest1: 266.1861419\tbest: 266.1861419 (0)\ttotal: 3.65ms\tremaining: 11s\n",
            "100:\tlearn: 123.4731468\ttest: 124.1787170\ttest1: 113.8136043\tbest: 113.8136043 (100)\ttotal: 363ms\tremaining: 10.4s\n",
            "200:\tlearn: 91.0258372\ttest: 92.7442361\ttest1: 103.2459037\tbest: 103.2072099 (161)\ttotal: 717ms\tremaining: 9.98s\n",
            "Stopped by overfitting detector  (50 iterations wait)\n",
            "\n",
            "bestTest = 102.8357215\n",
            "bestIteration = 203\n",
            "\n",
            "Shrink model to first 204 iterations.\n",
            "0:\tlearn: 283.8318415\ttest: 283.8318415\ttest1: 296.8238562\tbest: 296.8238562 (0)\ttotal: 3.51ms\tremaining: 10.5s\n",
            "100:\tlearn: 120.8080524\ttest: 122.3740264\ttest1: 141.6432585\tbest: 141.6432585 (100)\ttotal: 363ms\tremaining: 10.4s\n",
            "200:\tlearn: 88.2666971\ttest: 91.8848818\ttest1: 124.3928628\tbest: 124.3928628 (200)\ttotal: 737ms\tremaining: 10.3s\n",
            "300:\tlearn: 70.7757710\ttest: 76.2359565\ttest1: 119.0713066\tbest: 119.0713066 (300)\ttotal: 1.09s\tremaining: 9.76s\n",
            "400:\tlearn: 59.1892832\ttest: 65.5892259\ttest1: 116.9561922\tbest: 116.5481429 (371)\ttotal: 1.44s\tremaining: 9.35s\n",
            "500:\tlearn: 50.3212943\ttest: 57.1323123\ttest1: 115.7148949\tbest: 115.7148949 (500)\ttotal: 1.8s\tremaining: 8.98s\n",
            "Stopped by overfitting detector  (50 iterations wait)\n",
            "\n",
            "bestTest = 115.1828397\n",
            "bestIteration = 548\n",
            "\n",
            "Shrink model to first 549 iterations.\n",
            "평균 MAE:117.25398209984508\n"
          ],
          "name": "stdout"
        }
      ]
    },
    {
      "cell_type": "code",
      "metadata": {
        "colab": {
          "base_uri": "https://localhost:8080/",
          "height": 358
        },
        "id": "hMh4lUAeKkaa",
        "outputId": "e16a5949-ef93-4380-dbbd-c0bddfce5a57"
      },
      "source": [
        "fig, ax = plt.subplots(figsize=(8,5))\n",
        "ax.plot(pd.Series(preds_val, index=Y_valid.index), label='Preds_Valid')\n",
        "ax.plot(Y_valid, label='Y_Valid')\n",
        "ax.legend()\n",
        "ax.set_title('preds vs y', fontsize=18, fontweight='bold')"
      ],
      "execution_count": 295,
      "outputs": [
        {
          "output_type": "execute_result",
          "data": {
            "text/plain": [
              "Text(0.5, 1.0, 'preds vs y')"
            ]
          },
          "metadata": {
            "tags": []
          },
          "execution_count": 295
        },
        {
          "output_type": "display_data",
          "data": {
            "image/png": "[encoded data removed]",
            "text/plain": [
              "<Figure size 576x360 with 1 Axes>"
            ]
          },
          "metadata": {
            "tags": [],
            "needs_background": "light"
          }
        }
      ]
    },
    {
      "cell_type": "code",
      "metadata": {
        "colab": {
          "base_uri": "https://localhost:8080/"
        },
        "id": "a15LWCQqlifR",
        "outputId": "fad63852-a968-4ac0-ab3f-f135b210d094"
      },
      "source": [
        "pd.Series(model_cat.feature_importances_, index=x_train.columns).sort_values(ascending=False)"
      ],
      "execution_count": 277,
      "outputs": [
        {
          "output_type": "execute_result",
          "data": {
            "text/plain": [
              "단지내주차면수          28.289024\n",
              "단지내주차면수_bin_e     7.025055\n",
              "총세대수              4.767807\n",
              "공실율               3.605716\n",
              "면적_45.0           3.518916\n",
              "                   ...    \n",
              "면적_75.0           0.000000\n",
              "면적_65.0           0.000000\n",
              "공공분양              0.000000\n",
              "공공임대(5년)          0.000000\n",
              "공공임대(분납)          0.000000\n",
              "Length: 65, dtype: float64"
            ]
          },
          "metadata": {
            "tags": []
          },
          "execution_count": 277
        }
      ]
    },
    {
      "cell_type": "code",
      "metadata": {
        "id": "qMM-B-I_ds2R"
      },
      "source": [
        "# lgbm으로 모델링\n",
        "local_map = {}\n",
        "for i, loc in enumerate(new_train['지역'].unique()):\n",
        "    local_map[loc] = i\n",
        "\n",
        "new_train['지역'] = new_train['지역'].map(local_map)\n",
        "new_test['지역'] = new_test['지역'].map(local_map)\n",
        "\n",
        "\n",
        "x_train = new_train.drop(columns=['단지코드', '등록차량수'])\n",
        "y_train = new_train['등록차량수']\n",
        "x_test = new_test.drop(columns=['단지코드'])"
      ],
      "execution_count": 296,
      "outputs": []
    },
    {
      "cell_type": "code",
      "metadata": {
        "colab": {
          "base_uri": "https://localhost:8080/"
        },
        "id": "3XH-iCNkeKHf",
        "outputId": "8632ee2b-a4ef-493b-c08d-7d568bb8a491"
      },
      "source": [
        "x_train.shape, x_test.shape"
      ],
      "execution_count": 244,
      "outputs": [
        {
          "output_type": "execute_result",
          "data": {
            "text/plain": [
              "((423, 65), (150, 65))"
            ]
          },
          "metadata": {
            "tags": []
          },
          "execution_count": 244
        }
      ]
    },
    {
      "cell_type": "code",
      "metadata": {
        "colab": {
          "base_uri": "https://localhost:8080/"
        },
        "id": "BuC6WWnIdpYo",
        "outputId": "eae79b12-ae50-4352-9f38-71e2d3a36a64"
      },
      "source": [
        "skf = StratifiedKFold(n_splits=5, shuffle=True, random_state=42)\n",
        "preds_test_lgbm = np.zeros((len(x_test)))\n",
        "param_lgbm = {'learning_rate':0.026, 'objective':'MAE'}\n",
        "MAE={}\n",
        "for i,(train_index, valid_index) in enumerate(kf.split(x_train, y_train)):\n",
        "  X_train, X_valid = x_train.iloc[train_index], x_train.iloc[valid_index]\n",
        "  Y_train, Y_valid = y_train.iloc[train_index], y_train.iloc[valid_index]\n",
        "\n",
        "  model_lgbm = lightgbm.LGBMRegressor(n_estimators=3000, **param_lgbm)\n",
        "  model_lgbm.fit(X_train, Y_train, eval_set=[(X_train, Y_train), (X_valid, Y_valid)], verbose=100, early_stopping_rounds=70, eval_metric='MAE')\n",
        "\n",
        "  preds_test_lgbm = model_lgbm.predict(x_test)\n",
        "  preds_valid = model_lgbm.predict(X_valid)\n",
        "  MAE[i] = mean_absolute_error(preds_valid, Y_valid)\n",
        "  \n",
        "MAE = pd.Series(MAE)\n",
        "print(f'평균 MAE:{MAE.mean()}')"
      ],
      "execution_count": 297,
      "outputs": [
        {
          "output_type": "stream",
          "text": [
            "Training until validation scores don't improve for 70 rounds.\n",
            "[100]\ttraining's l1: 99.2118\tvalid_1's l1: 131.708\n",
            "[200]\ttraining's l1: 79.6883\tvalid_1's l1: 128.669\n",
            "[300]\ttraining's l1: 73.0702\tvalid_1's l1: 126.811\n",
            "[400]\ttraining's l1: 69.1787\tvalid_1's l1: 126.118\n",
            "[500]\ttraining's l1: 66.5976\tvalid_1's l1: 125.618\n",
            "[600]\ttraining's l1: 64.9081\tvalid_1's l1: 125.578\n",
            "Early stopping, best iteration is:\n",
            "[540]\ttraining's l1: 65.7929\tvalid_1's l1: 125.506\n",
            "Training until validation scores don't improve for 70 rounds.\n",
            "[100]\ttraining's l1: 94.4525\tvalid_1's l1: 197.274\n",
            "[200]\ttraining's l1: 75.436\tvalid_1's l1: 183.979\n",
            "[300]\ttraining's l1: 69.9298\tvalid_1's l1: 181.584\n",
            "[400]\ttraining's l1: 66.2477\tvalid_1's l1: 179.927\n",
            "[500]\ttraining's l1: 63.6994\tvalid_1's l1: 178.292\n",
            "[600]\ttraining's l1: 61.7425\tvalid_1's l1: 177.229\n",
            "[700]\ttraining's l1: 60.5131\tvalid_1's l1: 176.23\n",
            "[800]\ttraining's l1: 59.3712\tvalid_1's l1: 175.904\n",
            "[900]\ttraining's l1: 58.4709\tvalid_1's l1: 175.938\n",
            "Early stopping, best iteration is:\n",
            "[833]\ttraining's l1: 59.0987\tvalid_1's l1: 175.766\n",
            "Training until validation scores don't improve for 70 rounds.\n",
            "[100]\ttraining's l1: 102.533\tvalid_1's l1: 110.212\n",
            "[200]\ttraining's l1: 81.1657\tvalid_1's l1: 94.1982\n",
            "[300]\ttraining's l1: 74.4216\tvalid_1's l1: 89.8095\n",
            "[400]\ttraining's l1: 71.1674\tvalid_1's l1: 89.1881\n",
            "[500]\ttraining's l1: 69.0813\tvalid_1's l1: 88.6428\n",
            "Early stopping, best iteration is:\n",
            "[484]\ttraining's l1: 69.3733\tvalid_1's l1: 88.634\n",
            "Training until validation scores don't improve for 70 rounds.\n",
            "[100]\ttraining's l1: 101.152\tvalid_1's l1: 153.446\n",
            "[200]\ttraining's l1: 80.1066\tvalid_1's l1: 131.573\n",
            "[300]\ttraining's l1: 73.1652\tvalid_1's l1: 129.6\n",
            "Early stopping, best iteration is:\n",
            "[273]\ttraining's l1: 74.5414\tvalid_1's l1: 129.485\n",
            "Training until validation scores don't improve for 70 rounds.\n",
            "[100]\ttraining's l1: 101.08\tvalid_1's l1: 113.616\n",
            "[200]\ttraining's l1: 83.1737\tvalid_1's l1: 104.427\n",
            "[300]\ttraining's l1: 76.339\tvalid_1's l1: 102.618\n",
            "[400]\ttraining's l1: 72.597\tvalid_1's l1: 102.002\n",
            "[500]\ttraining's l1: 69.9297\tvalid_1's l1: 101.6\n",
            "Early stopping, best iteration is:\n",
            "[433]\ttraining's l1: 71.4807\tvalid_1's l1: 101.517\n",
            "Training until validation scores don't improve for 70 rounds.\n",
            "[100]\ttraining's l1: 99.9805\tvalid_1's l1: 138.615\n",
            "[200]\ttraining's l1: 80.7317\tvalid_1's l1: 124.162\n",
            "[300]\ttraining's l1: 73.3044\tvalid_1's l1: 121.235\n",
            "[400]\ttraining's l1: 68.9489\tvalid_1's l1: 119.524\n",
            "[500]\ttraining's l1: 66.219\tvalid_1's l1: 118.417\n",
            "[600]\ttraining's l1: 64.1448\tvalid_1's l1: 118.199\n",
            "Early stopping, best iteration is:\n",
            "[576]\ttraining's l1: 64.599\tvalid_1's l1: 117.693\n",
            "Training until validation scores don't improve for 70 rounds.\n",
            "[100]\ttraining's l1: 99.1052\tvalid_1's l1: 127.245\n",
            "[200]\ttraining's l1: 77.7722\tvalid_1's l1: 124.563\n",
            "Early stopping, best iteration is:\n",
            "[156]\ttraining's l1: 83.9991\tvalid_1's l1: 124.505\n",
            "Training until validation scores don't improve for 70 rounds.\n",
            "[100]\ttraining's l1: 96.4375\tvalid_1's l1: 117.57\n",
            "Early stopping, best iteration is:\n",
            "[117]\ttraining's l1: 90.6724\tvalid_1's l1: 116.455\n",
            "Training until validation scores don't improve for 70 rounds.\n",
            "[100]\ttraining's l1: 98.0033\tvalid_1's l1: 114.245\n",
            "Early stopping, best iteration is:\n",
            "[106]\ttraining's l1: 95.6442\tvalid_1's l1: 113.775\n",
            "Training until validation scores don't improve for 70 rounds.\n",
            "[100]\ttraining's l1: 98.5005\tvalid_1's l1: 142.087\n",
            "[200]\ttraining's l1: 79.0708\tvalid_1's l1: 133.411\n",
            "[300]\ttraining's l1: 72.5858\tvalid_1's l1: 131.214\n",
            "[400]\ttraining's l1: 68.9028\tvalid_1's l1: 130.465\n",
            "[500]\ttraining's l1: 66.1319\tvalid_1's l1: 130.065\n",
            "[600]\ttraining's l1: 63.7739\tvalid_1's l1: 129.803\n",
            "[700]\ttraining's l1: 62.066\tvalid_1's l1: 129.556\n",
            "Early stopping, best iteration is:\n",
            "[690]\ttraining's l1: 62.2283\tvalid_1's l1: 129.535\n",
            "평균 MAE:122.28711690415302\n"
          ],
          "name": "stdout"
        }
      ]
    },
    {
      "cell_type": "code",
      "metadata": {
        "colab": {
          "base_uri": "https://localhost:8080/"
        },
        "id": "zZvOmGgWBkAP",
        "outputId": "ca997aaf-47b8-403c-b7af-78ed1974f0cd"
      },
      "source": [
        "lgbm_importance = pd.Series(model_lgbm.feature_importances_, index=x_train.columns).sort_values(ascending=False)\n",
        "feature_selection_lgbm = lgbm_importance.loc[lgbm_importance<1].T\n",
        "lgbm_importance"
      ],
      "execution_count": 190,
      "outputs": [
        {
          "output_type": "execute_result",
          "data": {
            "text/plain": [
              "단지내주차면수                         409\n",
              "전용면적                            257\n",
              "총세대수                            240\n",
              "임대료                             238\n",
              "임대보증금                           227\n",
              "세대당주차면수                         210\n",
              "공실율                             196\n",
              "전용면적별세대수                        186\n",
              "공가수                             105\n",
              "아파트                              77\n",
              "국민임대                             60\n",
              "도보 10분거리 내 버스정류장 수               56\n",
              "지역_부산광역시                         32\n",
              "도보 10분거리 내 지하철역 수(환승노선 수 반영)     23\n",
              "단지내주차면수_bin_b                     9\n",
              "지역_경상북도                           7\n",
              "공공임대(10년)                         5\n",
              "지역_경상남도                           5\n",
              "단지내주차면수_bin_d                     5\n",
              "영구임대                              5\n",
              "단지내주차면수_bin_c                     4\n",
              "지역_경기도                            3\n",
              "단지내주차면수_bin_e                     2\n",
              "공공분양                              0\n",
              "공공임대(50년)                         0\n",
              "공공임대(5년)                          0\n",
              "공공임대(분납)                          0\n",
              "지역_충청북도                           0\n",
              "임대상가                              0\n",
              "장기전세                              0\n",
              "행복주택                              0\n",
              "지역_충청남도                           0\n",
              "단지내주차면수_bin_a                     0\n",
              "지역_강원도                            0\n",
              "지역_광주광역시                          0\n",
              "지역_대구광역시                          0\n",
              "지역_대전광역시                          0\n",
              "지역_서울특별시                          0\n",
              "지역_세종특별자치시                        0\n",
              "지역_울산광역시                          0\n",
              "지역_전라남도                           0\n",
              "지역_전라북도                           0\n",
              "지역_제주특별자치도                        0\n",
              "상가                                0\n",
              "dtype: int64"
            ]
          },
          "metadata": {
            "tags": []
          },
          "execution_count": 190
        }
      ]
    },
    {
      "cell_type": "code",
      "metadata": {
        "colab": {
          "base_uri": "https://localhost:8080/",
          "height": 358
        },
        "id": "5Pwed46GxB_G",
        "outputId": "cb91c326-deae-471c-9aca-a53638430691"
      },
      "source": [
        "fig, ax = plt.subplots(figsize=(8,5))\n",
        "ax.plot(pd.Series(preds_valid, index=Y_valid.index), label='Preds_Valid')\n",
        "ax.plot(Y_valid, label='Y_Valid')\n",
        "ax.legend()\n",
        "ax.set_title('preds vs y', fontsize=18, fontweight='bold')"
      ],
      "execution_count": 298,
      "outputs": [
        {
          "output_type": "execute_result",
          "data": {
            "text/plain": [
              "Text(0.5, 1.0, 'preds vs y')"
            ]
          },
          "metadata": {
            "tags": []
          },
          "execution_count": 298
        },
        {
          "output_type": "display_data",
          "data": {
            "image/png": "[encoded data removed]",
            "text/plain": [
              "<Figure size 576x360 with 1 Axes>"
            ]
          },
          "metadata": {
            "tags": [],
            "needs_background": "light"
          }
        }
      ]
    },
    {
      "cell_type": "code",
      "metadata": {
        "colab": {
          "base_uri": "https://localhost:8080/"
        },
        "id": "_5X3-JqLqZ8n",
        "outputId": "b49dacca-e8fa-4c75-d2e3-25bdeb3f2167"
      },
      "source": [
        "skf = StratifiedKFold(n_splits=5, shuffle=True, random_state=42)\n",
        "preds_test_lgbm = np.zeros((len(x_test)))\n",
        "param_Ran = {'criterion':'mae', 'random_state':42}\n",
        "MAE={}\n",
        "for i,(train_index, valid_index) in enumerate(kf.split(x_train, y_train)):\n",
        "  X_train, X_valid = x_train.iloc[train_index], x_train.iloc[valid_index]\n",
        "  Y_train, Y_valid = y_train.iloc[train_index], y_train.iloc[valid_index]\n",
        "\n",
        "  model_Ran = RandomForestRegressor(n_estimators=1000, **param_Ran, n_jobs=-1)\n",
        "  model_Ran.fit(X_train, Y_train)\n",
        "\n",
        "  preds_test_Ran = model_Ran.predict(x_test)\n",
        "  preds_valid = model_Ran.predict(X_valid)\n",
        "  MAE[i] = mean_absolute_error(preds_valid, Y_valid)\n",
        "  \n",
        "MAE = pd.Series(MAE)\n",
        "print(f'평균 MAE:{MAE.mean()}')"
      ],
      "execution_count": 246,
      "outputs": [
        {
          "output_type": "stream",
          "text": [
            "평균 MAE:126.14199161129571\n"
          ],
          "name": "stdout"
        }
      ]
    },
    {
      "cell_type": "code",
      "metadata": {
        "colab": {
          "base_uri": "https://localhost:8080/",
          "height": 686
        },
        "id": "H-IQ8pTvl5I0",
        "outputId": "51d0c745-004c-496f-c93b-f3e1b6ec796b"
      },
      "source": [
        "skf = StratifiedKFold(n_splits=5, shuffle=True, random_state=42)\n",
        "preds_test_xgb = np.zeros((len(x_test)))\n",
        "param_xgb = {'learning_rate':0.026}\n",
        "\n",
        "for i,(train_index, valid_index) in enumerate(skf.split(x_train, y_train)):\n",
        "  X_train, X_valid = x_train.iloc[train_index], x_train.iloc[valid_index]\n",
        "  Y_train, Y_valid = y_train.iloc[train_index], y_train.iloc[valid_index]\n",
        "\n",
        "  model_xgb = xgboost.XGBRegressor(n_estimators=3000, **param_xgb)\n",
        "  model_xgb.fit(X_train, Y_train, eval_set=[(X_train, Y_train), (X_valid, Y_valid)], verbose=100, early_stopping_rounds=70, eval_metric='mae')\n",
        "\n",
        "  preds_test_xgb = model_xgb.predict(x_test)\n",
        "  preds_valid = model_xgb.predict(X_valid)"
      ],
      "execution_count": 192,
      "outputs": [
        {
          "output_type": "stream",
          "text": [
            "[08:01:59] WARNING: /workspace/src/objective/regression_obj.cu:152: reg:linear is now deprecated in favor of reg:squarederror.\n",
            "[0]\tvalidation_0-mae:537.229\tvalidation_1-mae:637.198\n",
            "Multiple eval metrics have been passed: 'validation_1-mae' will be used for early stopping.\n",
            "\n",
            "Will train until validation_1-mae hasn't improved in 70 rounds.\n",
            "[100]\tvalidation_0-mae:97.0002\tvalidation_1-mae:163.949\n",
            "[200]\tvalidation_0-mae:72.0204\tvalidation_1-mae:162.185\n",
            "Stopping. Best iteration:\n",
            "[185]\tvalidation_0-mae:73.7952\tvalidation_1-mae:161.463\n",
            "\n"
          ],
          "name": "stdout"
        },
        {
          "output_type": "error",
          "ename": "ValueError",
          "evalue": "ignored",
          "traceback": [
            "\u001b[0;31m---------------------------------------------------------------------------\u001b[0m",
            "\u001b[0;31mValueError\u001b[0m                                Traceback (most recent call last)",
            "\u001b[0;32m<ipython-input-192-637d622ddfe4>\u001b[0m in \u001b[0;36m<module>\u001b[0;34m()\u001b[0m\n\u001b[1;32m     10\u001b[0m   \u001b[0mmodel_xgb\u001b[0m\u001b[0;34m.\u001b[0m\u001b[0mfit\u001b[0m\u001b[0;34m(\u001b[0m\u001b[0mX_train\u001b[0m\u001b[0;34m,\u001b[0m \u001b[0mY_train\u001b[0m\u001b[0;34m,\u001b[0m \u001b[0meval_set\u001b[0m\u001b[0;34m=\u001b[0m\u001b[0;34m[\u001b[0m\u001b[0;34m(\u001b[0m\u001b[0mX_train\u001b[0m\u001b[0;34m,\u001b[0m \u001b[0mY_train\u001b[0m\u001b[0;34m)\u001b[0m\u001b[0;34m,\u001b[0m \u001b[0;34m(\u001b[0m\u001b[0mX_valid\u001b[0m\u001b[0;34m,\u001b[0m \u001b[0mY_valid\u001b[0m\u001b[0;34m)\u001b[0m\u001b[0;34m]\u001b[0m\u001b[0;34m,\u001b[0m \u001b[0mverbose\u001b[0m\u001b[0;34m=\u001b[0m\u001b[0;36m100\u001b[0m\u001b[0;34m,\u001b[0m \u001b[0mearly_stopping_rounds\u001b[0m\u001b[0;34m=\u001b[0m\u001b[0;36m70\u001b[0m\u001b[0;34m,\u001b[0m \u001b[0meval_metric\u001b[0m\u001b[0;34m=\u001b[0m\u001b[0;34m'mae'\u001b[0m\u001b[0;34m)\u001b[0m\u001b[0;34m\u001b[0m\u001b[0;34m\u001b[0m\u001b[0m\n\u001b[1;32m     11\u001b[0m \u001b[0;34m\u001b[0m\u001b[0m\n\u001b[0;32m---> 12\u001b[0;31m   \u001b[0mpreds_test_xgb\u001b[0m \u001b[0;34m=\u001b[0m \u001b[0mmodel_xgb\u001b[0m\u001b[0;34m.\u001b[0m\u001b[0mpredict\u001b[0m\u001b[0;34m(\u001b[0m\u001b[0mx_test\u001b[0m\u001b[0;34m)\u001b[0m\u001b[0;34m\u001b[0m\u001b[0;34m\u001b[0m\u001b[0m\n\u001b[0m\u001b[1;32m     13\u001b[0m   \u001b[0mpreds_valid\u001b[0m \u001b[0;34m=\u001b[0m \u001b[0mmodel_xgb\u001b[0m\u001b[0;34m.\u001b[0m\u001b[0mpredict\u001b[0m\u001b[0;34m(\u001b[0m\u001b[0mX_valid\u001b[0m\u001b[0;34m)\u001b[0m\u001b[0;34m\u001b[0m\u001b[0;34m\u001b[0m\u001b[0m\n",
            "\u001b[0;32m/usr/local/lib/python3.7/dist-packages/xgboost/sklearn.py\u001b[0m in \u001b[0;36mpredict\u001b[0;34m(self, data, output_margin, ntree_limit, validate_features)\u001b[0m\n\u001b[1;32m    454\u001b[0m                                           \u001b[0moutput_margin\u001b[0m\u001b[0;34m=\u001b[0m\u001b[0moutput_margin\u001b[0m\u001b[0;34m,\u001b[0m\u001b[0;34m\u001b[0m\u001b[0;34m\u001b[0m\u001b[0m\n\u001b[1;32m    455\u001b[0m                                           \u001b[0mntree_limit\u001b[0m\u001b[0;34m=\u001b[0m\u001b[0mntree_limit\u001b[0m\u001b[0;34m,\u001b[0m\u001b[0;34m\u001b[0m\u001b[0;34m\u001b[0m\u001b[0m\n\u001b[0;32m--> 456\u001b[0;31m                                           validate_features=validate_features)\n\u001b[0m\u001b[1;32m    457\u001b[0m \u001b[0;34m\u001b[0m\u001b[0m\n\u001b[1;32m    458\u001b[0m     \u001b[0;32mdef\u001b[0m \u001b[0mapply\u001b[0m\u001b[0;34m(\u001b[0m\u001b[0mself\u001b[0m\u001b[0;34m,\u001b[0m \u001b[0mX\u001b[0m\u001b[0;34m,\u001b[0m \u001b[0mntree_limit\u001b[0m\u001b[0;34m=\u001b[0m\u001b[0;36m0\u001b[0m\u001b[0;34m)\u001b[0m\u001b[0;34m:\u001b[0m\u001b[0;34m\u001b[0m\u001b[0;34m\u001b[0m\u001b[0m\n",
            "\u001b[0;32m/usr/local/lib/python3.7/dist-packages/xgboost/core.py\u001b[0m in \u001b[0;36mpredict\u001b[0;34m(self, data, output_margin, ntree_limit, pred_leaf, pred_contribs, approx_contribs, pred_interactions, validate_features)\u001b[0m\n\u001b[1;32m   1282\u001b[0m \u001b[0;34m\u001b[0m\u001b[0m\n\u001b[1;32m   1283\u001b[0m         \u001b[0;32mif\u001b[0m \u001b[0mvalidate_features\u001b[0m\u001b[0;34m:\u001b[0m\u001b[0;34m\u001b[0m\u001b[0;34m\u001b[0m\u001b[0m\n\u001b[0;32m-> 1284\u001b[0;31m             \u001b[0mself\u001b[0m\u001b[0;34m.\u001b[0m\u001b[0m_validate_features\u001b[0m\u001b[0;34m(\u001b[0m\u001b[0mdata\u001b[0m\u001b[0;34m)\u001b[0m\u001b[0;34m\u001b[0m\u001b[0;34m\u001b[0m\u001b[0m\n\u001b[0m\u001b[1;32m   1285\u001b[0m \u001b[0;34m\u001b[0m\u001b[0m\n\u001b[1;32m   1286\u001b[0m         \u001b[0mlength\u001b[0m \u001b[0;34m=\u001b[0m \u001b[0mc_bst_ulong\u001b[0m\u001b[0;34m(\u001b[0m\u001b[0;34m)\u001b[0m\u001b[0;34m\u001b[0m\u001b[0;34m\u001b[0m\u001b[0m\n",
            "\u001b[0;32m/usr/local/lib/python3.7/dist-packages/xgboost/core.py\u001b[0m in \u001b[0;36m_validate_features\u001b[0;34m(self, data)\u001b[0m\n\u001b[1;32m   1688\u001b[0m \u001b[0;34m\u001b[0m\u001b[0m\n\u001b[1;32m   1689\u001b[0m                 raise ValueError(msg.format(self.feature_names,\n\u001b[0;32m-> 1690\u001b[0;31m                                             data.feature_names))\n\u001b[0m\u001b[1;32m   1691\u001b[0m \u001b[0;34m\u001b[0m\u001b[0m\n\u001b[1;32m   1692\u001b[0m     \u001b[0;32mdef\u001b[0m \u001b[0mget_split_value_histogram\u001b[0m\u001b[0;34m(\u001b[0m\u001b[0mself\u001b[0m\u001b[0;34m,\u001b[0m \u001b[0mfeature\u001b[0m\u001b[0;34m,\u001b[0m \u001b[0mfmap\u001b[0m\u001b[0;34m=\u001b[0m\u001b[0;34m''\u001b[0m\u001b[0;34m,\u001b[0m \u001b[0mbins\u001b[0m\u001b[0;34m=\u001b[0m\u001b[0;32mNone\u001b[0m\u001b[0;34m,\u001b[0m \u001b[0mas_pandas\u001b[0m\u001b[0;34m=\u001b[0m\u001b[0;32mTrue\u001b[0m\u001b[0;34m)\u001b[0m\u001b[0;34m:\u001b[0m\u001b[0;34m\u001b[0m\u001b[0;34m\u001b[0m\u001b[0m\n",
            "\u001b[0;31mValueError\u001b[0m: feature_names mismatch: ['총세대수', '전용면적', '전용면적별세대수', '공가수', '임대보증금', '임대료', '도보 10분거리 내 지하철역 수(환승노선 수 반영)', '도보 10분거리 내 버스정류장 수', '단지내주차면수', '공실율', '세대당주차면수', '공공분양', '공공임대(10년)', '공공임대(50년)', '공공임대(5년)', '공공임대(분납)', '국민임대', '영구임대', '임대상가', '장기전세', '행복주택', '상가', '아파트', '단지내주차면수_bin_a', '단지내주차면수_bin_b', '단지내주차면수_bin_c', '단지내주차면수_bin_d', '단지내주차면수_bin_e', '지역_강원도', '지역_경기도', '지역_경상남도', '지역_경상북도', '지역_광주광역시', '지역_대구광역시', '지역_대전광역시', '지역_부산광역시', '지역_서울특별시', '지역_세종특별자치시', '지역_울산광역시', '지역_전라남도', '지역_전라북도', '지역_제주특별자치도', '지역_충청남도', '지역_충청북도'] ['총세대수', '전용면적', '전용면적별세대수', '공가수', '임대보증금', '임대료', '도보 10분거리 내 지하철역 수(환승노선 수 반영)', '도보 10분거리 내 버스정류장 수', '단지내주차면수', '공실율', '세대당주차면수', '공공분양', '공공임대(10년)', '공공임대(50년)', '공공임대(5년)', '공공임대(분납)', '국민임대', '영구임대', '임대상가', '장기전세', '행복주택', '상가', '아파트', '단지내주차면수_bin_a', '단지내주차면수_bin_b', '단지내주차면수_bin_c', '단지내주차면수_bin_d', '단지내주차면수_bin_e', '지역_강원도', '지역_경기도', '지역_경상남도', '지역_경상북도', '지역_광주광역시', '지역_대구광역시', '지역_대전광역시', '지역_부산광역시', '지역_세종특별자치시', '지역_울산광역시', '지역_전라남도', '지역_전라북도', '지역_제주특별자치도', '지역_충청남도', '지역_충청북도', '지역_서울특별시']"
          ]
        }
      ]
    },
    {
      "cell_type": "code",
      "metadata": {
        "colab": {
          "base_uri": "https://localhost:8080/"
        },
        "id": "aIEW8NfovMiN",
        "outputId": "22d548c0-fe84-4539-fcb5-2a9057a2a0a8"
      },
      "source": [
        "from sklearn.linear_model import ElasticNet\n",
        "\n",
        "skf = StratifiedKFold(n_splits=5, shuffle=True, random_state=42)\n",
        "preds_test_Ela = np.zeros((len(x_test)))\n",
        "\n",
        "for i,(train_index, valid_index) in enumerate(kf.split(x_train, y_train)):\n",
        "  X_train, X_valid = x_train.iloc[train_index], x_train.iloc[valid_index]\n",
        "  Y_train, Y_valid = y_train.iloc[train_index], y_train.iloc[valid_index]\n",
        "\n",
        "  model_Ela = ElasticNet(alpha=0.5, random_state=42)\n",
        "  model_Ela.fit(X_train, Y_train)\n",
        "\n",
        "  preds_test_Ela = model_Ela.predict(x_test)\n",
        "  preds_valid = model_Ela.predict(X_valid)\n",
        "  MAE = mean_absolute_error(Y_valid, preds_valid)\n",
        "  print(f'{i+1}번째 MAE:{MAE}')\n"
      ],
      "execution_count": 247,
      "outputs": [
        {
          "output_type": "stream",
          "text": [
            "1번째 MAE:127.16202711329989\n",
            "2번째 MAE:185.77219241347314\n",
            "3번째 MAE:119.04282830168843\n",
            "4번째 MAE:162.2944696079984\n",
            "5번째 MAE:108.60566479408486\n",
            "6번째 MAE:110.72105664799975\n",
            "7번째 MAE:135.95295716127887\n",
            "8번째 MAE:111.66914118529192\n",
            "9번째 MAE:112.04837810121147\n",
            "10번째 MAE:122.53074146604344\n"
          ],
          "name": "stdout"
        }
      ]
    },
    {
      "cell_type": "code",
      "metadata": {
        "colab": {
          "base_uri": "https://localhost:8080/",
          "height": 358
        },
        "id": "HwP43-cA7uI6",
        "outputId": "2d435a43-bf43-4e9f-c0ae-957e0ad69c60"
      },
      "source": [
        "fig, ax = plt.subplots(figsize=(8,5))\n",
        "ax.plot(pd.Series(preds_valid, index=Y_valid.index), label='Preds_Valid')\n",
        "ax.plot(Y_valid, label='Y_Valid')\n",
        "ax.legend()\n",
        "ax.set_title('preds vs y', fontsize=18, fontweight='bold')"
      ],
      "execution_count": 248,
      "outputs": [
        {
          "output_type": "execute_result",
          "data": {
            "text/plain": [
              "Text(0.5, 1.0, 'preds vs y')"
            ]
          },
          "metadata": {
            "tags": []
          },
          "execution_count": 248
        },
        {
          "output_type": "display_data",
          "data": {
            "image/png": "[encoded data removed]",
            "text/plain": [
              "<Figure size 576x360 with 1 Axes>"
            ]
          },
          "metadata": {
            "tags": [],
            "needs_background": "light"
          }
        }
      ]
    },
    {
      "cell_type": "markdown",
      "metadata": {
        "id": "pA4BjJab7NUB"
      },
      "source": [
        "# Cross validate 모델 사용"
      ]
    },
    {
      "cell_type": "code",
      "metadata": {
        "id": "iKr09yUc4-DI"
      },
      "source": [
        "from sklearn.metrics import make_scorer\n",
        "from sklearn.linear_model import LinearRegression, Ridge, Lasso\n",
        "from sklearn.tree import DecisionTreeRegressor, ExtraTreeRegressor\n",
        "from sklearn.model_selection import cross_val_score, cross_validate, cross_val_predict\n",
        "\n",
        "scorer = make_scorer(mean_absolute_error, greater_is_better=False)"
      ],
      "execution_count": 195,
      "outputs": []
    },
    {
      "cell_type": "code",
      "metadata": {
        "colab": {
          "base_uri": "https://localhost:8080/"
        },
        "id": "AVqkNg7g4jt2",
        "outputId": "16c73080-635a-40c3-aa92-9ba0041775fb"
      },
      "source": [
        "# ElasticNet\n",
        "cross_val = cross_validate(model_Ela, x_train, y_train, scoring=scorer, cv=30, n_jobs=-1, return_estimator=True)\n",
        "cross_val['test_score'].mean()"
      ],
      "execution_count": 250,
      "outputs": [
        {
          "output_type": "execute_result",
          "data": {
            "text/plain": [
              "-132.9077587834415"
            ]
          },
          "metadata": {
            "tags": []
          },
          "execution_count": 250
        }
      ]
    },
    {
      "cell_type": "code",
      "metadata": {
        "colab": {
          "base_uri": "https://localhost:8080/"
        },
        "id": "IhIkiyadjS5m",
        "outputId": "6fe80fff-b771-4e1f-8310-075f3108802f"
      },
      "source": [
        "# Ridge\n",
        "cross_val = cross_validate(Ridge(alpha=0.5, max_iter=1000, random_state=42, normalize=True), x_train, y_train, scoring=scorer, cv=30, n_jobs=-1, return_estimator=True)\n",
        "cross_val['test_score'].mean()"
      ],
      "execution_count": 251,
      "outputs": [
        {
          "output_type": "execute_result",
          "data": {
            "text/plain": [
              "-135.9777156235543"
            ]
          },
          "metadata": {
            "tags": []
          },
          "execution_count": 251
        }
      ]
    },
    {
      "cell_type": "code",
      "metadata": {
        "colab": {
          "base_uri": "https://localhost:8080/"
        },
        "id": "eWNclEuDlgA_",
        "outputId": "e27ec1e7-da2a-4131-85e0-797463d9fec3"
      },
      "source": [
        "# Lasso\n",
        "cross_val = cross_validate(Lasso(alpha=0.5, random_state=42, normalize=True), x_train, y_train, scoring=scorer, cv=30, n_jobs=-1)\n",
        "cross_val['test_score'].mean()"
      ],
      "execution_count": 299,
      "outputs": [
        {
          "output_type": "execute_result",
          "data": {
            "text/plain": [
              "-128.07998520041605"
            ]
          },
          "metadata": {
            "tags": []
          },
          "execution_count": 299
        }
      ]
    },
    {
      "cell_type": "code",
      "metadata": {
        "colab": {
          "base_uri": "https://localhost:8080/"
        },
        "id": "rNk9fPFOjQMt",
        "outputId": "d156e5c3-d000-474d-9dda-f25492656b89"
      },
      "source": [
        "# linear\n",
        "cross_val = cross_validate(LinearRegression(n_jobs=-1), x_train, y_train, scoring=scorer, cv=30, n_jobs=-1, return_estimator=True)\n",
        "cross_val['test_score'].mean()"
      ],
      "execution_count": 253,
      "outputs": [
        {
          "output_type": "execute_result",
          "data": {
            "text/plain": [
              "-139.86700358811157"
            ]
          },
          "metadata": {
            "tags": []
          },
          "execution_count": 253
        }
      ]
    },
    {
      "cell_type": "code",
      "metadata": {
        "colab": {
          "base_uri": "https://localhost:8080/"
        },
        "id": "fMnIWLXMk7xl",
        "outputId": "7aea021d-c178-450f-f465-fcd175bcf373"
      },
      "source": [
        "# Decision\n",
        "cross_val = cross_validate(DecisionTreeRegressor(criterion='mae', random_state=42), x_train, y_train, scoring=scorer, cv=30, n_jobs=-1, return_estimator=True)\n",
        "cross_val['test_score'].mean()"
      ],
      "execution_count": 254,
      "outputs": [
        {
          "output_type": "execute_result",
          "data": {
            "text/plain": [
              "-193.1904761904762"
            ]
          },
          "metadata": {
            "tags": []
          },
          "execution_count": 254
        }
      ]
    },
    {
      "cell_type": "code",
      "metadata": {
        "colab": {
          "base_uri": "https://localhost:8080/"
        },
        "id": "gvd3_8ZmlDyL",
        "outputId": "ec674dd0-6bbd-48a4-ad3b-44d8876a541e"
      },
      "source": [
        "# Extra\n",
        "cross_val = cross_validate(ExtraTreeRegressor(criterion='mae', random_state=42), x_train, y_train, scoring=scorer, cv=30, n_jobs=-1, return_estimator=True)\n",
        "cross_val['test_score'].mean()"
      ],
      "execution_count": null,
      "outputs": [
        {
          "output_type": "execute_result",
          "data": {
            "text/plain": [
              "-195.00920634920632"
            ]
          },
          "metadata": {
            "tags": []
          },
          "execution_count": 312
        }
      ]
    },
    {
      "cell_type": "code",
      "metadata": {
        "colab": {
          "base_uri": "https://localhost:8080/",
          "height": 351
        },
        "id": "FFH-ueSplJy_",
        "outputId": "9c1279e4-f23f-4e91-fa18-52827df38505"
      },
      "source": [
        "# XGBoost\n",
        "cross_val = cross_validate(model_xgb, x_train, y_train, scoring=scorer, cv=30, n_jobs=-1, return_estimator=True)\n",
        "cross_val['test_score'].mean()"
      ],
      "execution_count": null,
      "outputs": [
        {
          "output_type": "error",
          "ename": "KeyboardInterrupt",
          "evalue": "ignored",
          "traceback": [
            "\u001b[0;31m---------------------------------------------------------------------------\u001b[0m",
            "\u001b[0;31mKeyboardInterrupt\u001b[0m                         Traceback (most recent call last)",
            "\u001b[0;32m<ipython-input-611-b193c90de784>\u001b[0m in \u001b[0;36m<module>\u001b[0;34m()\u001b[0m\n\u001b[1;32m      1\u001b[0m \u001b[0;31m# XGBoost\u001b[0m\u001b[0;34m\u001b[0m\u001b[0;34m\u001b[0m\u001b[0;34m\u001b[0m\u001b[0m\n\u001b[0;32m----> 2\u001b[0;31m \u001b[0mcross_val\u001b[0m \u001b[0;34m=\u001b[0m \u001b[0mcross_validate\u001b[0m\u001b[0;34m(\u001b[0m\u001b[0mmodel_xgb\u001b[0m\u001b[0;34m,\u001b[0m \u001b[0mx_train\u001b[0m\u001b[0;34m,\u001b[0m \u001b[0my_train\u001b[0m\u001b[0;34m,\u001b[0m \u001b[0mscoring\u001b[0m\u001b[0;34m=\u001b[0m\u001b[0mscorer\u001b[0m\u001b[0;34m,\u001b[0m \u001b[0mcv\u001b[0m\u001b[0;34m=\u001b[0m\u001b[0;36m30\u001b[0m\u001b[0;34m,\u001b[0m \u001b[0mn_jobs\u001b[0m\u001b[0;34m=\u001b[0m\u001b[0;34m-\u001b[0m\u001b[0;36m1\u001b[0m\u001b[0;34m,\u001b[0m \u001b[0mreturn_estimator\u001b[0m\u001b[0;34m=\u001b[0m\u001b[0;32mTrue\u001b[0m\u001b[0;34m)\u001b[0m\u001b[0;34m\u001b[0m\u001b[0;34m\u001b[0m\u001b[0m\n\u001b[0m\u001b[1;32m      3\u001b[0m \u001b[0mcross_val\u001b[0m\u001b[0;34m[\u001b[0m\u001b[0;34m'test_score'\u001b[0m\u001b[0;34m]\u001b[0m\u001b[0;34m.\u001b[0m\u001b[0mmean\u001b[0m\u001b[0;34m(\u001b[0m\u001b[0;34m)\u001b[0m\u001b[0;34m\u001b[0m\u001b[0;34m\u001b[0m\u001b[0m\n",
            "\u001b[0;32m/usr/local/lib/python3.7/dist-packages/sklearn/model_selection/_validation.py\u001b[0m in \u001b[0;36mcross_validate\u001b[0;34m(estimator, X, y, groups, scoring, cv, n_jobs, verbose, fit_params, pre_dispatch, return_train_score, return_estimator, error_score)\u001b[0m\n\u001b[1;32m    234\u001b[0m             \u001b[0mreturn_times\u001b[0m\u001b[0;34m=\u001b[0m\u001b[0;32mTrue\u001b[0m\u001b[0;34m,\u001b[0m \u001b[0mreturn_estimator\u001b[0m\u001b[0;34m=\u001b[0m\u001b[0mreturn_estimator\u001b[0m\u001b[0;34m,\u001b[0m\u001b[0;34m\u001b[0m\u001b[0;34m\u001b[0m\u001b[0m\n\u001b[1;32m    235\u001b[0m             error_score=error_score)\n\u001b[0;32m--> 236\u001b[0;31m         for train, test in cv.split(X, y, groups))\n\u001b[0m\u001b[1;32m    237\u001b[0m \u001b[0;34m\u001b[0m\u001b[0m\n\u001b[1;32m    238\u001b[0m     \u001b[0mzipped_scores\u001b[0m \u001b[0;34m=\u001b[0m \u001b[0mlist\u001b[0m\u001b[0;34m(\u001b[0m\u001b[0mzip\u001b[0m\u001b[0;34m(\u001b[0m\u001b[0;34m*\u001b[0m\u001b[0mscores\u001b[0m\u001b[0;34m)\u001b[0m\u001b[0;34m)\u001b[0m\u001b[0;34m\u001b[0m\u001b[0;34m\u001b[0m\u001b[0m\n",
            "\u001b[0;32m/usr/local/lib/python3.7/dist-packages/joblib/parallel.py\u001b[0m in \u001b[0;36m__call__\u001b[0;34m(self, iterable)\u001b[0m\n\u001b[1;32m   1052\u001b[0m \u001b[0;34m\u001b[0m\u001b[0m\n\u001b[1;32m   1053\u001b[0m             \u001b[0;32mwith\u001b[0m \u001b[0mself\u001b[0m\u001b[0;34m.\u001b[0m\u001b[0m_backend\u001b[0m\u001b[0;34m.\u001b[0m\u001b[0mretrieval_context\u001b[0m\u001b[0;34m(\u001b[0m\u001b[0;34m)\u001b[0m\u001b[0;34m:\u001b[0m\u001b[0;34m\u001b[0m\u001b[0;34m\u001b[0m\u001b[0m\n\u001b[0;32m-> 1054\u001b[0;31m                 \u001b[0mself\u001b[0m\u001b[0;34m.\u001b[0m\u001b[0mretrieve\u001b[0m\u001b[0;34m(\u001b[0m\u001b[0;34m)\u001b[0m\u001b[0;34m\u001b[0m\u001b[0;34m\u001b[0m\u001b[0m\n\u001b[0m\u001b[1;32m   1055\u001b[0m             \u001b[0;31m# Make sure that we get a last message telling us we are done\u001b[0m\u001b[0;34m\u001b[0m\u001b[0;34m\u001b[0m\u001b[0;34m\u001b[0m\u001b[0m\n\u001b[1;32m   1056\u001b[0m             \u001b[0melapsed_time\u001b[0m \u001b[0;34m=\u001b[0m \u001b[0mtime\u001b[0m\u001b[0;34m.\u001b[0m\u001b[0mtime\u001b[0m\u001b[0;34m(\u001b[0m\u001b[0;34m)\u001b[0m \u001b[0;34m-\u001b[0m \u001b[0mself\u001b[0m\u001b[0;34m.\u001b[0m\u001b[0m_start_time\u001b[0m\u001b[0;34m\u001b[0m\u001b[0;34m\u001b[0m\u001b[0m\n",
            "\u001b[0;32m/usr/local/lib/python3.7/dist-packages/joblib/parallel.py\u001b[0m in \u001b[0;36mretrieve\u001b[0;34m(self)\u001b[0m\n\u001b[1;32m    931\u001b[0m             \u001b[0;32mtry\u001b[0m\u001b[0;34m:\u001b[0m\u001b[0;34m\u001b[0m\u001b[0;34m\u001b[0m\u001b[0m\n\u001b[1;32m    932\u001b[0m                 \u001b[0;32mif\u001b[0m \u001b[0mgetattr\u001b[0m\u001b[0;34m(\u001b[0m\u001b[0mself\u001b[0m\u001b[0;34m.\u001b[0m\u001b[0m_backend\u001b[0m\u001b[0;34m,\u001b[0m \u001b[0;34m'supports_timeout'\u001b[0m\u001b[0;34m,\u001b[0m \u001b[0;32mFalse\u001b[0m\u001b[0;34m)\u001b[0m\u001b[0;34m:\u001b[0m\u001b[0;34m\u001b[0m\u001b[0;34m\u001b[0m\u001b[0m\n\u001b[0;32m--> 933\u001b[0;31m                     \u001b[0mself\u001b[0m\u001b[0;34m.\u001b[0m\u001b[0m_output\u001b[0m\u001b[0;34m.\u001b[0m\u001b[0mextend\u001b[0m\u001b[0;34m(\u001b[0m\u001b[0mjob\u001b[0m\u001b[0;34m.\u001b[0m\u001b[0mget\u001b[0m\u001b[0;34m(\u001b[0m\u001b[0mtimeout\u001b[0m\u001b[0;34m=\u001b[0m\u001b[0mself\u001b[0m\u001b[0;34m.\u001b[0m\u001b[0mtimeout\u001b[0m\u001b[0;34m)\u001b[0m\u001b[0;34m)\u001b[0m\u001b[0;34m\u001b[0m\u001b[0;34m\u001b[0m\u001b[0m\n\u001b[0m\u001b[1;32m    934\u001b[0m                 \u001b[0;32melse\u001b[0m\u001b[0;34m:\u001b[0m\u001b[0;34m\u001b[0m\u001b[0;34m\u001b[0m\u001b[0m\n\u001b[1;32m    935\u001b[0m                     \u001b[0mself\u001b[0m\u001b[0;34m.\u001b[0m\u001b[0m_output\u001b[0m\u001b[0;34m.\u001b[0m\u001b[0mextend\u001b[0m\u001b[0;34m(\u001b[0m\u001b[0mjob\u001b[0m\u001b[0;34m.\u001b[0m\u001b[0mget\u001b[0m\u001b[0;34m(\u001b[0m\u001b[0;34m)\u001b[0m\u001b[0;34m)\u001b[0m\u001b[0;34m\u001b[0m\u001b[0;34m\u001b[0m\u001b[0m\n",
            "\u001b[0;32m/usr/local/lib/python3.7/dist-packages/joblib/_parallel_backends.py\u001b[0m in \u001b[0;36mwrap_future_result\u001b[0;34m(future, timeout)\u001b[0m\n\u001b[1;32m    540\u001b[0m         AsyncResults.get from multiprocessing.\"\"\"\n\u001b[1;32m    541\u001b[0m         \u001b[0;32mtry\u001b[0m\u001b[0;34m:\u001b[0m\u001b[0;34m\u001b[0m\u001b[0;34m\u001b[0m\u001b[0m\n\u001b[0;32m--> 542\u001b[0;31m             \u001b[0;32mreturn\u001b[0m \u001b[0mfuture\u001b[0m\u001b[0;34m.\u001b[0m\u001b[0mresult\u001b[0m\u001b[0;34m(\u001b[0m\u001b[0mtimeout\u001b[0m\u001b[0;34m=\u001b[0m\u001b[0mtimeout\u001b[0m\u001b[0;34m)\u001b[0m\u001b[0;34m\u001b[0m\u001b[0;34m\u001b[0m\u001b[0m\n\u001b[0m\u001b[1;32m    543\u001b[0m         \u001b[0;32mexcept\u001b[0m \u001b[0mCfTimeoutError\u001b[0m \u001b[0;32mas\u001b[0m \u001b[0me\u001b[0m\u001b[0;34m:\u001b[0m\u001b[0;34m\u001b[0m\u001b[0;34m\u001b[0m\u001b[0m\n\u001b[1;32m    544\u001b[0m             \u001b[0;32mraise\u001b[0m \u001b[0mTimeoutError\u001b[0m \u001b[0;32mfrom\u001b[0m \u001b[0me\u001b[0m\u001b[0;34m\u001b[0m\u001b[0;34m\u001b[0m\u001b[0m\n",
            "\u001b[0;32m/usr/lib/python3.7/concurrent/futures/_base.py\u001b[0m in \u001b[0;36mresult\u001b[0;34m(self, timeout)\u001b[0m\n\u001b[1;32m    428\u001b[0m                 \u001b[0;32mreturn\u001b[0m \u001b[0mself\u001b[0m\u001b[0;34m.\u001b[0m\u001b[0m__get_result\u001b[0m\u001b[0;34m(\u001b[0m\u001b[0;34m)\u001b[0m\u001b[0;34m\u001b[0m\u001b[0;34m\u001b[0m\u001b[0m\n\u001b[1;32m    429\u001b[0m \u001b[0;34m\u001b[0m\u001b[0m\n\u001b[0;32m--> 430\u001b[0;31m             \u001b[0mself\u001b[0m\u001b[0;34m.\u001b[0m\u001b[0m_condition\u001b[0m\u001b[0;34m.\u001b[0m\u001b[0mwait\u001b[0m\u001b[0;34m(\u001b[0m\u001b[0mtimeout\u001b[0m\u001b[0;34m)\u001b[0m\u001b[0;34m\u001b[0m\u001b[0;34m\u001b[0m\u001b[0m\n\u001b[0m\u001b[1;32m    431\u001b[0m \u001b[0;34m\u001b[0m\u001b[0m\n\u001b[1;32m    432\u001b[0m             \u001b[0;32mif\u001b[0m \u001b[0mself\u001b[0m\u001b[0;34m.\u001b[0m\u001b[0m_state\u001b[0m \u001b[0;32min\u001b[0m \u001b[0;34m[\u001b[0m\u001b[0mCANCELLED\u001b[0m\u001b[0;34m,\u001b[0m \u001b[0mCANCELLED_AND_NOTIFIED\u001b[0m\u001b[0;34m]\u001b[0m\u001b[0;34m:\u001b[0m\u001b[0;34m\u001b[0m\u001b[0;34m\u001b[0m\u001b[0m\n",
            "\u001b[0;32m/usr/lib/python3.7/threading.py\u001b[0m in \u001b[0;36mwait\u001b[0;34m(self, timeout)\u001b[0m\n\u001b[1;32m    294\u001b[0m         \u001b[0;32mtry\u001b[0m\u001b[0;34m:\u001b[0m    \u001b[0;31m# restore state no matter what (e.g., KeyboardInterrupt)\u001b[0m\u001b[0;34m\u001b[0m\u001b[0;34m\u001b[0m\u001b[0m\n\u001b[1;32m    295\u001b[0m             \u001b[0;32mif\u001b[0m \u001b[0mtimeout\u001b[0m \u001b[0;32mis\u001b[0m \u001b[0;32mNone\u001b[0m\u001b[0;34m:\u001b[0m\u001b[0;34m\u001b[0m\u001b[0;34m\u001b[0m\u001b[0m\n\u001b[0;32m--> 296\u001b[0;31m                 \u001b[0mwaiter\u001b[0m\u001b[0;34m.\u001b[0m\u001b[0macquire\u001b[0m\u001b[0;34m(\u001b[0m\u001b[0;34m)\u001b[0m\u001b[0;34m\u001b[0m\u001b[0;34m\u001b[0m\u001b[0m\n\u001b[0m\u001b[1;32m    297\u001b[0m                 \u001b[0mgotit\u001b[0m \u001b[0;34m=\u001b[0m \u001b[0;32mTrue\u001b[0m\u001b[0;34m\u001b[0m\u001b[0;34m\u001b[0m\u001b[0m\n\u001b[1;32m    298\u001b[0m             \u001b[0;32melse\u001b[0m\u001b[0;34m:\u001b[0m\u001b[0;34m\u001b[0m\u001b[0;34m\u001b[0m\u001b[0m\n",
            "\u001b[0;31mKeyboardInterrupt\u001b[0m: "
          ]
        }
      ]
    },
    {
      "cell_type": "code",
      "metadata": {
        "id": "Y8ff0pz6m1qy",
        "colab": {
          "base_uri": "https://localhost:8080/"
        },
        "outputId": "846fa4e8-47a2-45a0-b981-5946e1ada5b3"
      },
      "source": [
        "# lgbm 모델\n",
        "from sklearn.model_selection import RepeatedKFold\n",
        "\n",
        "cross_val = cross_validate(model_lgbm, x_train, y_train, scoring='neg_mean_absolute_error', cv=20, n_jobs=-1)\n",
        "cross_val['test_score'].mean()"
      ],
      "execution_count": 255,
      "outputs": [
        {
          "output_type": "execute_result",
          "data": {
            "text/plain": [
              "-122.14679787971258"
            ]
          },
          "metadata": {
            "tags": []
          },
          "execution_count": 255
        }
      ]
    },
    {
      "cell_type": "code",
      "metadata": {
        "id": "75KOd991nrLS",
        "colab": {
          "base_uri": "https://localhost:8080/"
        },
        "outputId": "d7185f97-2f9f-47bb-bc6a-ca505bdf5670"
      },
      "source": [
        "# catboost 모델\n",
        "cv = RepeatedKFold(n_splits=10, n_repeats=3, random_state=1)\n",
        "cross_val = cross_validate(catboost.CatBoostRegressor(learning_rate=0.022, n_estimators=3000), x_train, y_train, scoring='neg_mean_absolute_error', cv=20, n_jobs=-1, return_estimator=True)\n",
        "cross_val['test_score'].mean()"
      ],
      "execution_count": 202,
      "outputs": [
        {
          "output_type": "execute_result",
          "data": {
            "text/plain": [
              "-125.40717491264002"
            ]
          },
          "metadata": {
            "tags": []
          },
          "execution_count": 202
        }
      ]
    },
    {
      "cell_type": "code",
      "metadata": {
        "colab": {
          "base_uri": "https://localhost:8080/"
        },
        "id": "hEREAQeAoSpM",
        "outputId": "264c131e-b3b9-453c-e41b-62fadd0b4ac5"
      },
      "source": [
        "from sklearn.ensemble import RandomForestRegressor\n",
        "cross_val = cross_validate(RandomForestRegressor(criterion='mae', random_state=42), x_train, y_train, scoring='neg_mean_absolute_error', cv=20, n_jobs=-1, return_estimator=True)\n",
        "cross_val['test_score'].mean()"
      ],
      "execution_count": 206,
      "outputs": [
        {
          "output_type": "execute_result",
          "data": {
            "text/plain": [
              "-124.33249296536796"
            ]
          },
          "metadata": {
            "tags": []
          },
          "execution_count": 206
        }
      ]
    },
    {
      "cell_type": "markdown",
      "metadata": {
        "id": "7niM9ErEiPqm"
      },
      "source": [
        "# 지역별 나이까지 추가해야 mae가 확 줄음 지역과 나이 피쳐 엔지니어링도 괜찮을듯\n",
        "\n",
        "# 뭐야 제출하니까 점수가 안나오잖아 다시 생각해봐야 한다 지역별 나이\n",
        "\n",
        "# 최고점은 info 안하고 lgbm으로 돌렸을때\n",
        "\n",
        "# 라쏘로도 돌려보자"
      ]
    },
    {
      "cell_type": "code",
      "metadata": {
        "id": "63V-vbG2cFnk"
      },
      "source": [
        "from sklearn.feature_selection import SelectKBest, f_classif\n",
        "from sklearn.linear_model import LogisticRegression\n",
        "from sklearn.model_selection import cross_val_score\n",
        "# feature selection\n",
        "x_train_sel = SelectKBest(f_classif).fit_transform(x_train, y_train)"
      ],
      "execution_count": null,
      "outputs": []
    },
    {
      "cell_type": "code",
      "metadata": {
        "colab": {
          "base_uri": "https://localhost:8080/"
        },
        "id": "jqPtBW34c6BO",
        "outputId": "26535af7-19dc-4855-b279-3a362d1d08e9"
      },
      "source": [
        "x_train.shape"
      ],
      "execution_count": null,
      "outputs": [
        {
          "output_type": "execute_result",
          "data": {
            "text/plain": [
              "(423, 31)"
            ]
          },
          "metadata": {
            "tags": []
          },
          "execution_count": 242
        }
      ]
    },
    {
      "cell_type": "code",
      "metadata": {
        "colab": {
          "base_uri": "https://localhost:8080/"
        },
        "id": "bsQ5RCuocgrQ",
        "outputId": "808a0e3d-3bed-4802-df6f-a03b6f9615d8"
      },
      "source": [
        "x_train_sel.shape"
      ],
      "execution_count": null,
      "outputs": [
        {
          "output_type": "execute_result",
          "data": {
            "text/plain": [
              "(423, 10)"
            ]
          },
          "metadata": {
            "tags": []
          },
          "execution_count": 241
        }
      ]
    },
    {
      "cell_type": "code",
      "metadata": {
        "id": "d0Sp6n7W6cCP"
      },
      "source": [
        "cross_val_preds = cross_val_predict(model_lgbm, x_train, y_train, cv=30, n_jobs=-1)"
      ],
      "execution_count": null,
      "outputs": []
    },
    {
      "cell_type": "code",
      "metadata": {
        "id": "UkcNYgVbSx0I"
      },
      "source": [
        "cross_val_preds"
      ],
      "execution_count": null,
      "outputs": []
    },
    {
      "cell_type": "code",
      "metadata": {
        "colab": {
          "base_uri": "https://localhost:8080/",
          "height": 521
        },
        "id": "sksdNvnf64AI",
        "outputId": "71bff5d5-3185-4e12-badd-cd93763002e2"
      },
      "source": [
        "fig, ax = plt.subplots(figsize=(12,8))\n",
        "ax.plot(pd.Series(cross_val_preds, index=y_train.index), label='Preds_Valid')\n",
        "ax.plot(y_train, label='Y_train')\n",
        "ax.legend()\n",
        "ax.set_title('preds vs y', fontsize=18, fontweight='bold')"
      ],
      "execution_count": null,
      "outputs": [
        {
          "output_type": "execute_result",
          "data": {
            "text/plain": [
              "Text(0.5, 1.0, 'preds vs y')"
            ]
          },
          "metadata": {
            "tags": []
          },
          "execution_count": 327
        },
        {
          "output_type": "display_data",
          "data": {
            "image/png": "[encoded data removed]",
            "text/plain": [
              "<Figure size 864x576 with 1 Axes>"
            ]
          },
          "metadata": {
            "tags": [],
            "needs_background": "light"
          }
        }
      ]
    },
    {
      "cell_type": "code",
      "metadata": {
        "id": "itnD-H9Z7S6S"
      },
      "source": [
        "# ElastickNet 모델 사용\n",
        "cross_val_preds = cross_val_predict(model_Ela, x_train, y_train, cv=30, n_jobs=-1)"
      ],
      "execution_count": null,
      "outputs": []
    },
    {
      "cell_type": "code",
      "metadata": {
        "colab": {
          "base_uri": "https://localhost:8080/",
          "height": 358
        },
        "id": "3Av6f7uQ7c0U",
        "outputId": "2ea0df4b-5726-4823-9ee3-e869685a151c"
      },
      "source": [
        "fig, ax = plt.subplots(figsize=(8,5))\n",
        "ax.plot(pd.Series(cross_val_preds, index=y_train.index), label='Preds_Valid')\n",
        "ax.plot(y_train, label='Y_train')\n",
        "ax.legend()\n",
        "ax.set_title('preds vs y', fontsize=18, fontweight='bold')"
      ],
      "execution_count": null,
      "outputs": [
        {
          "output_type": "execute_result",
          "data": {
            "text/plain": [
              "Text(0.5, 1.0, 'preds vs y')"
            ]
          },
          "metadata": {
            "tags": []
          },
          "execution_count": 94
        },
        {
          "output_type": "display_data",
          "data": {
            "image/png": "[encoded data removed]",
            "text/plain": [
              "<Figure size 576x360 with 1 Axes>"
            ]
          },
          "metadata": {
            "tags": [],
            "needs_background": "light"
          }
        }
      ]
    },
    {
      "cell_type": "code",
      "metadata": {
        "id": "GRXZXtPJp0MF"
      },
      "source": [
        "# model selection RFE(후진제거법)\n",
        "from sklearn.feature_selection import RFE\n",
        "\n",
        "model = model_lgbm\n",
        "rfe = RFE(model)\n",
        "fit = rfe.fit(x_train, y_train)"
      ],
      "execution_count": null,
      "outputs": []
    },
    {
      "cell_type": "code",
      "metadata": {
        "colab": {
          "base_uri": "https://localhost:8080/"
        },
        "id": "nu9ARBJTqhG3",
        "outputId": "f1545ed1-1ff8-4ebb-fd57-c7ac18e80a93"
      },
      "source": [
        "feature_selected = pd.Series(fit.support_, index=x_train.columns)\n",
        "feature_selected_columns = list(feature_selected.loc[feature_selected == True].index)\n",
        "feature_selected"
      ],
      "execution_count": null,
      "outputs": [
        {
          "output_type": "execute_result",
          "data": {
            "text/plain": [
              "총세대수                             True\n",
              "공가수                              True\n",
              "지역                               True\n",
              "단지내주차면수                          True\n",
              "도보 10분거리 내 지하철역 수(환승노선 수 반영)    False\n",
              "도보 10분거리 내 버스정류장 수               True\n",
              "면적_35.0                          True\n",
              "면적_50.0                          True\n",
              "면적_55.0                          True\n",
              "면적_30.0                          True\n",
              "면적_45.0                          True\n",
              "면적_40.0                         False\n",
              "면적_25.0                          True\n",
              "면적_70.0                         False\n",
              "면적_15.0                         False\n",
              "면적_20.0                         False\n",
              "면적_100.0                        False\n",
              "면적_60.0                         False\n",
              "면적_75.0                         False\n",
              "면적_80.0                         False\n",
              "면적_65.0                         False\n",
              "실거주세대                            True\n",
              "공실율                              True\n",
              "세대당주차면수                          True\n",
              "단지내주차면수_bin_a                   False\n",
              "단지내주차면수_bin_b                   False\n",
              "단지내주차면수_bin_c                   False\n",
              "단지내주차면수_bin_d                   False\n",
              "단지내주차면수_bin_e                   False\n",
              "dtype: bool"
            ]
          },
          "metadata": {
            "tags": []
          },
          "execution_count": 130
        }
      ]
    },
    {
      "cell_type": "code",
      "metadata": {
        "colab": {
          "base_uri": "https://localhost:8080/"
        },
        "id": "RzLzXnH5OlEU",
        "outputId": "f17c35e3-39f4-4d2b-b4fe-b3e4b4ebec78"
      },
      "source": [
        "pd.Series(fit.ranking_, index=x_train.columns).sort_values(ascending=True)"
      ],
      "execution_count": null,
      "outputs": [
        {
          "output_type": "execute_result",
          "data": {
            "text/plain": [
              "총세대수                             1\n",
              "공가수                              1\n",
              "지역                               1\n",
              "단지내주차면수                          1\n",
              "도보 10분거리 내 버스정류장 수               1\n",
              "면적_35.0                          1\n",
              "면적_50.0                          1\n",
              "면적_55.0                          1\n",
              "면적_30.0                          1\n",
              "면적_45.0                          1\n",
              "세대당주차면수                          1\n",
              "면적_25.0                          1\n",
              "공실율                              1\n",
              "실거주세대                            1\n",
              "면적_20.0                          2\n",
              "도보 10분거리 내 지하철역 수(환승노선 수 반영)     3\n",
              "면적_15.0                          4\n",
              "단지내주차면수_bin_d                    5\n",
              "단지내주차면수_bin_b                    6\n",
              "면적_40.0                          7\n",
              "단지내주차면수_bin_c                    8\n",
              "면적_80.0                          9\n",
              "면적_70.0                         10\n",
              "면적_100.0                        11\n",
              "단지내주차면수_bin_a                   12\n",
              "면적_60.0                         13\n",
              "면적_75.0                         14\n",
              "면적_65.0                         15\n",
              "단지내주차면수_bin_e                   16\n",
              "dtype: int64"
            ]
          },
          "metadata": {
            "tags": []
          },
          "execution_count": 133
        }
      ]
    },
    {
      "cell_type": "code",
      "metadata": {
        "id": "09ddBE0ir6Dx"
      },
      "source": [
        "x_train_sel = x_train[feature_selected_columns]\n",
        "x_test_sel = x_test[feature_selected_columns]"
      ],
      "execution_count": null,
      "outputs": []
    },
    {
      "cell_type": "code",
      "metadata": {
        "colab": {
          "base_uri": "https://localhost:8080/",
          "height": 417
        },
        "id": "06eyYjaJv3E9",
        "outputId": "9c8ecf0e-4ef8-4492-b775-dbfed4ef8d3a"
      },
      "source": [
        "submit['num'] = preds_test_lgbm\n",
        "submit.to_csv('/content/drive/MyDrive/dataset/Dacon/대회/235745_parking_data/submit_14.csv', index=False)\n",
        "submit"
      ],
      "execution_count": 300,
      "outputs": [
        {
          "output_type": "execute_result",
          "data": {
            "text/html": [
              "<div>\n",
              "<style scoped>\n",
              "    .dataframe tbody tr th:only-of-type {\n",
              "        vertical-align: middle;\n",
              "    }\n",
              "\n",
              "    .dataframe tbody tr th {\n",
              "        vertical-align: top;\n",
              "    }\n",
              "\n",
              "    .dataframe thead th {\n",
              "        text-align: right;\n",
              "    }\n",
              "</style>\n",
              "<table border=\"1\" class=\"dataframe\">\n",
              "  <thead>\n",
              "    <tr style=\"text-align: right;\">\n",
              "      <th></th>\n",
              "      <th>code</th>\n",
              "      <th>num</th>\n",
              "    </tr>\n",
              "  </thead>\n",
              "  <tbody>\n",
              "    <tr>\n",
              "      <th>0</th>\n",
              "      <td>C1072</td>\n",
              "      <td>777.134628</td>\n",
              "    </tr>\n",
              "    <tr>\n",
              "      <th>1</th>\n",
              "      <td>C1128</td>\n",
              "      <td>1416.533818</td>\n",
              "    </tr>\n",
              "    <tr>\n",
              "      <th>2</th>\n",
              "      <td>C1456</td>\n",
              "      <td>573.617678</td>\n",
              "    </tr>\n",
              "    <tr>\n",
              "      <th>3</th>\n",
              "      <td>C1840</td>\n",
              "      <td>484.585335</td>\n",
              "    </tr>\n",
              "    <tr>\n",
              "      <th>4</th>\n",
              "      <td>C1332</td>\n",
              "      <td>1222.552496</td>\n",
              "    </tr>\n",
              "    <tr>\n",
              "      <th>...</th>\n",
              "      <td>...</td>\n",
              "      <td>...</td>\n",
              "    </tr>\n",
              "    <tr>\n",
              "      <th>145</th>\n",
              "      <td>C2456</td>\n",
              "      <td>258.156423</td>\n",
              "    </tr>\n",
              "    <tr>\n",
              "      <th>146</th>\n",
              "      <td>C1266</td>\n",
              "      <td>490.325402</td>\n",
              "    </tr>\n",
              "    <tr>\n",
              "      <th>147</th>\n",
              "      <td>C2152</td>\n",
              "      <td>43.222979</td>\n",
              "    </tr>\n",
              "    <tr>\n",
              "      <th>148</th>\n",
              "      <td>C1267</td>\n",
              "      <td>449.867016</td>\n",
              "    </tr>\n",
              "    <tr>\n",
              "      <th>149</th>\n",
              "      <td>C2189</td>\n",
              "      <td>266.105324</td>\n",
              "    </tr>\n",
              "  </tbody>\n",
              "</table>\n",
              "<p>150 rows × 2 columns</p>\n",
              "</div>"
            ],
            "text/plain": [
              "      code          num\n",
              "0    C1072   777.134628\n",
              "1    C1128  1416.533818\n",
              "2    C1456   573.617678\n",
              "3    C1840   484.585335\n",
              "4    C1332  1222.552496\n",
              "..     ...          ...\n",
              "145  C2456   258.156423\n",
              "146  C1266   490.325402\n",
              "147  C2152    43.222979\n",
              "148  C1267   449.867016\n",
              "149  C2189   266.105324\n",
              "\n",
              "[150 rows x 2 columns]"
            ]
          },
          "metadata": {
            "tags": []
          },
          "execution_count": 300
        }
      ]
    },
    {
      "cell_type": "code",
      "metadata": {
        "colab": {
          "base_uri": "https://localhost:8080/",
          "height": 417
        },
        "id": "xmbSzh62x3I7",
        "outputId": "0d331302-1bee-462e-b772-3b42f03a29eb"
      },
      "source": [
        "submit['num'] = preds_test_cat\n",
        "submit"
      ],
      "execution_count": null,
      "outputs": [
        {
          "output_type": "execute_result",
          "data": {
            "text/html": [
              "<div>\n",
              "<style scoped>\n",
              "    .dataframe tbody tr th:only-of-type {\n",
              "        vertical-align: middle;\n",
              "    }\n",
              "\n",
              "    .dataframe tbody tr th {\n",
              "        vertical-align: top;\n",
              "    }\n",
              "\n",
              "    .dataframe thead th {\n",
              "        text-align: right;\n",
              "    }\n",
              "</style>\n",
              "<table border=\"1\" class=\"dataframe\">\n",
              "  <thead>\n",
              "    <tr style=\"text-align: right;\">\n",
              "      <th></th>\n",
              "      <th>code</th>\n",
              "      <th>num</th>\n",
              "    </tr>\n",
              "  </thead>\n",
              "  <tbody>\n",
              "    <tr>\n",
              "      <th>0</th>\n",
              "      <td>C1072</td>\n",
              "      <td>763.190180</td>\n",
              "    </tr>\n",
              "    <tr>\n",
              "      <th>1</th>\n",
              "      <td>C1128</td>\n",
              "      <td>1261.937146</td>\n",
              "    </tr>\n",
              "    <tr>\n",
              "      <th>2</th>\n",
              "      <td>C1456</td>\n",
              "      <td>588.037042</td>\n",
              "    </tr>\n",
              "    <tr>\n",
              "      <th>3</th>\n",
              "      <td>C1840</td>\n",
              "      <td>548.213311</td>\n",
              "    </tr>\n",
              "    <tr>\n",
              "      <th>4</th>\n",
              "      <td>C1332</td>\n",
              "      <td>1225.286551</td>\n",
              "    </tr>\n",
              "    <tr>\n",
              "      <th>...</th>\n",
              "      <td>...</td>\n",
              "      <td>...</td>\n",
              "    </tr>\n",
              "    <tr>\n",
              "      <th>145</th>\n",
              "      <td>C2456</td>\n",
              "      <td>220.508849</td>\n",
              "    </tr>\n",
              "    <tr>\n",
              "      <th>146</th>\n",
              "      <td>C1266</td>\n",
              "      <td>515.472701</td>\n",
              "    </tr>\n",
              "    <tr>\n",
              "      <th>147</th>\n",
              "      <td>C2152</td>\n",
              "      <td>91.418749</td>\n",
              "    </tr>\n",
              "    <tr>\n",
              "      <th>148</th>\n",
              "      <td>C1267</td>\n",
              "      <td>483.216688</td>\n",
              "    </tr>\n",
              "    <tr>\n",
              "      <th>149</th>\n",
              "      <td>C2189</td>\n",
              "      <td>229.615498</td>\n",
              "    </tr>\n",
              "  </tbody>\n",
              "</table>\n",
              "<p>150 rows × 2 columns</p>\n",
              "</div>"
            ],
            "text/plain": [
              "      code          num\n",
              "0    C1072   763.190180\n",
              "1    C1128  1261.937146\n",
              "2    C1456   588.037042\n",
              "3    C1840   548.213311\n",
              "4    C1332  1225.286551\n",
              "..     ...          ...\n",
              "145  C2456   220.508849\n",
              "146  C1266   515.472701\n",
              "147  C2152    91.418749\n",
              "148  C1267   483.216688\n",
              "149  C2189   229.615498\n",
              "\n",
              "[150 rows x 2 columns]"
            ]
          },
          "metadata": {
            "tags": []
          },
          "execution_count": 655
        }
      ]
    }
  ]
}