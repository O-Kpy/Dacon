{
  "nbformat": 4,
  "nbformat_minor": 0,
  "metadata": {
    "colab": {
      "name": "Dacon 주차수요 예측.ipynb",
      "provenance": [],
      "collapsed_sections": [],
      "mount_file_id": "1bSjuU3A8YqNMk4enFXujAYLOUhavOLlN",
      "authorship_tag": "ABX9TyMz+oMfhU8fPpx0/o8N0n2a",
      "include_colab_link": true
    },
    "kernelspec": {
      "name": "python3",
      "display_name": "Python 3"
    },
    "language_info": {
      "name": "python"
    }
  },
  "cells": [
    {
      "cell_type": "markdown",
      "metadata": {
        "id": "view-in-github",
        "colab_type": "text"
      },
      "source": [
        "<a href=\"https://colab.research.google.com/github/O-Kpy/Dacon/blob/main/Dacon_%EC%A3%BC%EC%B0%A8%EC%88%98%EC%9A%94_%EC%98%88%EC%B8%A1.ipynb\" target=\"_parent\"><img src=\"https://colab.research.google.com/assets/colab-badge.svg\" alt=\"Open In Colab\"/></a>"
      ]
    },
    {
      "cell_type": "code",
      "metadata": {
        "id": "wOzwtKYaFU4D"
      },
      "source": [
        "import pandas as pd\n",
        "import numpy as np\n",
        "import matplotlib.pyplot as plt\n",
        "%matplotlib inline\n",
        "import seaborn as sns\n",
        "import warnings\n",
        "warnings.filterwarnings('ignore')\n",
        "from scipy.stats import skew\n",
        "from tqdm import tqdm"
      ],
      "execution_count": 1,
      "outputs": []
    },
    {
      "cell_type": "code",
      "metadata": {
        "colab": {
          "base_uri": "https://localhost:8080/"
        },
        "id": "JQ1KB85aGbwe",
        "outputId": "012fc377-9d5b-4087-dc20-e82f43f71be3"
      },
      "source": [
        "!apt-get update -qq  ## 나눔 설치\n",
        "!apt-get install fonts-nanum* -qq"
      ],
      "execution_count": null,
      "outputs": [
        {
          "output_type": "stream",
          "text": [
            "Selecting previously unselected package fonts-nanum.\n",
            "(Reading database ... 160772 files and directories currently installed.)\n",
            "Preparing to unpack .../fonts-nanum_20170925-1_all.deb ...\n",
            "Unpacking fonts-nanum (20170925-1) ...\n",
            "Selecting previously unselected package fonts-nanum-eco.\n",
            "Preparing to unpack .../fonts-nanum-eco_1.000-6_all.deb ...\n",
            "Unpacking fonts-nanum-eco (1.000-6) ...\n",
            "Selecting previously unselected package fonts-nanum-extra.\n",
            "Preparing to unpack .../fonts-nanum-extra_20170925-1_all.deb ...\n",
            "Unpacking fonts-nanum-extra (20170925-1) ...\n",
            "Selecting previously unselected package fonts-nanum-coding.\n",
            "Preparing to unpack .../fonts-nanum-coding_2.5-1_all.deb ...\n",
            "Unpacking fonts-nanum-coding (2.5-1) ...\n",
            "Setting up fonts-nanum-extra (20170925-1) ...\n",
            "Setting up fonts-nanum (20170925-1) ...\n",
            "Setting up fonts-nanum-coding (2.5-1) ...\n",
            "Setting up fonts-nanum-eco (1.000-6) ...\n",
            "Processing triggers for fontconfig (2.12.6-0ubuntu2) ...\n"
          ],
          "name": "stdout"
        }
      ]
    },
    {
      "cell_type": "code",
      "metadata": {
        "id": "oJr5fomcGhut"
      },
      "source": [
        "import matplotlib as mpl\n",
        "import matplotlib.font_manager as fm   ## 폰트 매니저\n",
        "fontpath = '/usr/share/fonts/truetype/nanum/NanumGothic.ttf' \n",
        "font = fm.FontProperties(fname=fontpath, size=9).get_name()\n",
        "plt.rc('font', family=font) \n",
        "mpl.font_manager._rebuild()"
      ],
      "execution_count": null,
      "outputs": []
    },
    {
      "cell_type": "code",
      "metadata": {
        "colab": {
          "base_uri": "https://localhost:8080/"
        },
        "id": "bR0QzoASFsLa",
        "outputId": "54f936b2-d2c9-4a91-e95a-4f49d73cdef9"
      },
      "source": [
        "train = pd.read_csv('/content/drive/MyDrive/dataset/Dacon/대회/235745_parking_data/235745_parking_data_train.csv')\n",
        "test = pd.read_csv('/content/drive/MyDrive/dataset/Dacon/대회/235745_parking_data/235745_parking_data_test.csv')\n",
        "submit = pd.read_csv('/content/drive/MyDrive/dataset/Dacon/대회/235745_parking_data/235745_parking_data_sample_submission.csv')\n",
        "info = pd.read_csv('/content/drive/MyDrive/dataset/Dacon/대회/235745_parking_data/235745_parking_data_age_gender_info.csv')\n",
        "train.shape, test.shape, info.shape"
      ],
      "execution_count": 571,
      "outputs": [
        {
          "output_type": "execute_result",
          "data": {
            "text/plain": [
              "((2952, 15), (1022, 14), (16, 23))"
            ]
          },
          "metadata": {
            "tags": []
          },
          "execution_count": 571
        }
      ]
    },
    {
      "cell_type": "code",
      "metadata": {
        "colab": {
          "base_uri": "https://localhost:8080/",
          "height": 602
        },
        "id": "7FRVtAmNsxJo",
        "outputId": "2cc2e9ee-43d9-4c0e-95aa-a6ee4f79fda1"
      },
      "source": [
        "train"
      ],
      "execution_count": 498,
      "outputs": [
        {
          "output_type": "execute_result",
          "data": {
            "text/html": [
              "<div>\n",
              "<style scoped>\n",
              "    .dataframe tbody tr th:only-of-type {\n",
              "        vertical-align: middle;\n",
              "    }\n",
              "\n",
              "    .dataframe tbody tr th {\n",
              "        vertical-align: top;\n",
              "    }\n",
              "\n",
              "    .dataframe thead th {\n",
              "        text-align: right;\n",
              "    }\n",
              "</style>\n",
              "<table border=\"1\" class=\"dataframe\">\n",
              "  <thead>\n",
              "    <tr style=\"text-align: right;\">\n",
              "      <th></th>\n",
              "      <th>단지코드</th>\n",
              "      <th>총세대수</th>\n",
              "      <th>임대건물구분</th>\n",
              "      <th>지역</th>\n",
              "      <th>공급유형</th>\n",
              "      <th>전용면적</th>\n",
              "      <th>전용면적별세대수</th>\n",
              "      <th>공가수</th>\n",
              "      <th>자격유형</th>\n",
              "      <th>임대보증금</th>\n",
              "      <th>임대료</th>\n",
              "      <th>도보 10분거리 내 지하철역 수(환승노선 수 반영)</th>\n",
              "      <th>도보 10분거리 내 버스정류장 수</th>\n",
              "      <th>단지내주차면수</th>\n",
              "      <th>등록차량수</th>\n",
              "    </tr>\n",
              "  </thead>\n",
              "  <tbody>\n",
              "    <tr>\n",
              "      <th>0</th>\n",
              "      <td>C2483</td>\n",
              "      <td>900</td>\n",
              "      <td>아파트</td>\n",
              "      <td>경상북도</td>\n",
              "      <td>국민임대</td>\n",
              "      <td>39.72</td>\n",
              "      <td>134</td>\n",
              "      <td>38.0</td>\n",
              "      <td>A</td>\n",
              "      <td>15667000</td>\n",
              "      <td>103680</td>\n",
              "      <td>0.0</td>\n",
              "      <td>3.0</td>\n",
              "      <td>1425.0</td>\n",
              "      <td>1015.0</td>\n",
              "    </tr>\n",
              "    <tr>\n",
              "      <th>1</th>\n",
              "      <td>C2483</td>\n",
              "      <td>900</td>\n",
              "      <td>아파트</td>\n",
              "      <td>경상북도</td>\n",
              "      <td>국민임대</td>\n",
              "      <td>39.72</td>\n",
              "      <td>15</td>\n",
              "      <td>38.0</td>\n",
              "      <td>A</td>\n",
              "      <td>15667000</td>\n",
              "      <td>103680</td>\n",
              "      <td>0.0</td>\n",
              "      <td>3.0</td>\n",
              "      <td>1425.0</td>\n",
              "      <td>1015.0</td>\n",
              "    </tr>\n",
              "    <tr>\n",
              "      <th>2</th>\n",
              "      <td>C2483</td>\n",
              "      <td>900</td>\n",
              "      <td>아파트</td>\n",
              "      <td>경상북도</td>\n",
              "      <td>국민임대</td>\n",
              "      <td>51.93</td>\n",
              "      <td>385</td>\n",
              "      <td>38.0</td>\n",
              "      <td>A</td>\n",
              "      <td>27304000</td>\n",
              "      <td>184330</td>\n",
              "      <td>0.0</td>\n",
              "      <td>3.0</td>\n",
              "      <td>1425.0</td>\n",
              "      <td>1015.0</td>\n",
              "    </tr>\n",
              "    <tr>\n",
              "      <th>3</th>\n",
              "      <td>C2483</td>\n",
              "      <td>900</td>\n",
              "      <td>아파트</td>\n",
              "      <td>경상북도</td>\n",
              "      <td>국민임대</td>\n",
              "      <td>51.93</td>\n",
              "      <td>15</td>\n",
              "      <td>38.0</td>\n",
              "      <td>A</td>\n",
              "      <td>27304000</td>\n",
              "      <td>184330</td>\n",
              "      <td>0.0</td>\n",
              "      <td>3.0</td>\n",
              "      <td>1425.0</td>\n",
              "      <td>1015.0</td>\n",
              "    </tr>\n",
              "    <tr>\n",
              "      <th>4</th>\n",
              "      <td>C2483</td>\n",
              "      <td>900</td>\n",
              "      <td>아파트</td>\n",
              "      <td>경상북도</td>\n",
              "      <td>국민임대</td>\n",
              "      <td>51.93</td>\n",
              "      <td>41</td>\n",
              "      <td>38.0</td>\n",
              "      <td>A</td>\n",
              "      <td>27304000</td>\n",
              "      <td>184330</td>\n",
              "      <td>0.0</td>\n",
              "      <td>3.0</td>\n",
              "      <td>1425.0</td>\n",
              "      <td>1015.0</td>\n",
              "    </tr>\n",
              "    <tr>\n",
              "      <th>...</th>\n",
              "      <td>...</td>\n",
              "      <td>...</td>\n",
              "      <td>...</td>\n",
              "      <td>...</td>\n",
              "      <td>...</td>\n",
              "      <td>...</td>\n",
              "      <td>...</td>\n",
              "      <td>...</td>\n",
              "      <td>...</td>\n",
              "      <td>...</td>\n",
              "      <td>...</td>\n",
              "      <td>...</td>\n",
              "      <td>...</td>\n",
              "      <td>...</td>\n",
              "      <td>...</td>\n",
              "    </tr>\n",
              "    <tr>\n",
              "      <th>2947</th>\n",
              "      <td>C2532</td>\n",
              "      <td>239</td>\n",
              "      <td>아파트</td>\n",
              "      <td>강원도</td>\n",
              "      <td>국민임대</td>\n",
              "      <td>49.20</td>\n",
              "      <td>19</td>\n",
              "      <td>7.0</td>\n",
              "      <td>A</td>\n",
              "      <td>11346000</td>\n",
              "      <td>116090</td>\n",
              "      <td>0.0</td>\n",
              "      <td>1.0</td>\n",
              "      <td>166.0</td>\n",
              "      <td>146.0</td>\n",
              "    </tr>\n",
              "    <tr>\n",
              "      <th>2948</th>\n",
              "      <td>C2532</td>\n",
              "      <td>239</td>\n",
              "      <td>아파트</td>\n",
              "      <td>강원도</td>\n",
              "      <td>국민임대</td>\n",
              "      <td>51.08</td>\n",
              "      <td>34</td>\n",
              "      <td>7.0</td>\n",
              "      <td>A</td>\n",
              "      <td>14005000</td>\n",
              "      <td>142310</td>\n",
              "      <td>0.0</td>\n",
              "      <td>1.0</td>\n",
              "      <td>166.0</td>\n",
              "      <td>146.0</td>\n",
              "    </tr>\n",
              "    <tr>\n",
              "      <th>2949</th>\n",
              "      <td>C2532</td>\n",
              "      <td>239</td>\n",
              "      <td>아파트</td>\n",
              "      <td>강원도</td>\n",
              "      <td>국민임대</td>\n",
              "      <td>51.73</td>\n",
              "      <td>34</td>\n",
              "      <td>7.0</td>\n",
              "      <td>A</td>\n",
              "      <td>14005000</td>\n",
              "      <td>142310</td>\n",
              "      <td>0.0</td>\n",
              "      <td>1.0</td>\n",
              "      <td>166.0</td>\n",
              "      <td>146.0</td>\n",
              "    </tr>\n",
              "    <tr>\n",
              "      <th>2950</th>\n",
              "      <td>C2532</td>\n",
              "      <td>239</td>\n",
              "      <td>아파트</td>\n",
              "      <td>강원도</td>\n",
              "      <td>국민임대</td>\n",
              "      <td>51.96</td>\n",
              "      <td>114</td>\n",
              "      <td>7.0</td>\n",
              "      <td>A</td>\n",
              "      <td>14005000</td>\n",
              "      <td>142310</td>\n",
              "      <td>0.0</td>\n",
              "      <td>1.0</td>\n",
              "      <td>166.0</td>\n",
              "      <td>146.0</td>\n",
              "    </tr>\n",
              "    <tr>\n",
              "      <th>2951</th>\n",
              "      <td>C2532</td>\n",
              "      <td>239</td>\n",
              "      <td>아파트</td>\n",
              "      <td>강원도</td>\n",
              "      <td>국민임대</td>\n",
              "      <td>54.95</td>\n",
              "      <td>19</td>\n",
              "      <td>7.0</td>\n",
              "      <td>A</td>\n",
              "      <td>14830000</td>\n",
              "      <td>151030</td>\n",
              "      <td>0.0</td>\n",
              "      <td>1.0</td>\n",
              "      <td>166.0</td>\n",
              "      <td>146.0</td>\n",
              "    </tr>\n",
              "  </tbody>\n",
              "</table>\n",
              "<p>2952 rows × 15 columns</p>\n",
              "</div>"
            ],
            "text/plain": [
              "       단지코드  총세대수 임대건물구분  ... 도보 10분거리 내 버스정류장 수 단지내주차면수   등록차량수\n",
              "0     C2483   900    아파트  ...                3.0  1425.0  1015.0\n",
              "1     C2483   900    아파트  ...                3.0  1425.0  1015.0\n",
              "2     C2483   900    아파트  ...                3.0  1425.0  1015.0\n",
              "3     C2483   900    아파트  ...                3.0  1425.0  1015.0\n",
              "4     C2483   900    아파트  ...                3.0  1425.0  1015.0\n",
              "...     ...   ...    ...  ...                ...     ...     ...\n",
              "2947  C2532   239    아파트  ...                1.0   166.0   146.0\n",
              "2948  C2532   239    아파트  ...                1.0   166.0   146.0\n",
              "2949  C2532   239    아파트  ...                1.0   166.0   146.0\n",
              "2950  C2532   239    아파트  ...                1.0   166.0   146.0\n",
              "2951  C2532   239    아파트  ...                1.0   166.0   146.0\n",
              "\n",
              "[2952 rows x 15 columns]"
            ]
          },
          "metadata": {
            "tags": []
          },
          "execution_count": 498
        }
      ]
    },
    {
      "cell_type": "code",
      "metadata": {
        "colab": {
          "base_uri": "https://localhost:8080/"
        },
        "id": "30CWzFOyf4Jp",
        "outputId": "7b943b41-016c-4f8f-e17d-5edd95b43a37"
      },
      "source": [
        "train.info()"
      ],
      "execution_count": null,
      "outputs": [
        {
          "output_type": "stream",
          "text": [
            "<class 'pandas.core.frame.DataFrame'>\n",
            "RangeIndex: 2952 entries, 0 to 2951\n",
            "Data columns (total 15 columns):\n",
            " #   Column                        Non-Null Count  Dtype  \n",
            "---  ------                        --------------  -----  \n",
            " 0   단지코드                          2952 non-null   object \n",
            " 1   총세대수                          2952 non-null   int64  \n",
            " 2   임대건물구분                        2952 non-null   object \n",
            " 3   지역                            2952 non-null   object \n",
            " 4   공급유형                          2952 non-null   object \n",
            " 5   전용면적                          2952 non-null   float64\n",
            " 6   전용면적별세대수                      2952 non-null   int64  \n",
            " 7   공가수                           2952 non-null   float64\n",
            " 8   자격유형                          2952 non-null   object \n",
            " 9   임대보증금                         2383 non-null   object \n",
            " 10  임대료                           2383 non-null   object \n",
            " 11  도보 10분거리 내 지하철역 수(환승노선 수 반영)  2741 non-null   float64\n",
            " 12  도보 10분거리 내 버스정류장 수            2948 non-null   float64\n",
            " 13  단지내주차면수                       2952 non-null   float64\n",
            " 14  등록차량수                         2952 non-null   float64\n",
            "dtypes: float64(6), int64(2), object(7)\n",
            "memory usage: 346.1+ KB\n"
          ],
          "name": "stdout"
        }
      ]
    },
    {
      "cell_type": "code",
      "metadata": {
        "colab": {
          "base_uri": "https://localhost:8080/",
          "height": 304
        },
        "id": "fnkIpIxuGNBN",
        "outputId": "cb364e5a-5797-417c-9e64-60f18e8473c9"
      },
      "source": [
        "train.head()"
      ],
      "execution_count": null,
      "outputs": [
        {
          "output_type": "execute_result",
          "data": {
            "text/html": [
              "<div>\n",
              "<style scoped>\n",
              "    .dataframe tbody tr th:only-of-type {\n",
              "        vertical-align: middle;\n",
              "    }\n",
              "\n",
              "    .dataframe tbody tr th {\n",
              "        vertical-align: top;\n",
              "    }\n",
              "\n",
              "    .dataframe thead th {\n",
              "        text-align: right;\n",
              "    }\n",
              "</style>\n",
              "<table border=\"1\" class=\"dataframe\">\n",
              "  <thead>\n",
              "    <tr style=\"text-align: right;\">\n",
              "      <th></th>\n",
              "      <th>단지코드</th>\n",
              "      <th>총세대수</th>\n",
              "      <th>임대건물구분</th>\n",
              "      <th>지역</th>\n",
              "      <th>공급유형</th>\n",
              "      <th>전용면적</th>\n",
              "      <th>전용면적별세대수</th>\n",
              "      <th>공가수</th>\n",
              "      <th>자격유형</th>\n",
              "      <th>임대보증금</th>\n",
              "      <th>임대료</th>\n",
              "      <th>도보 10분거리 내 지하철역 수(환승노선 수 반영)</th>\n",
              "      <th>도보 10분거리 내 버스정류장 수</th>\n",
              "      <th>단지내주차면수</th>\n",
              "      <th>등록차량수</th>\n",
              "    </tr>\n",
              "  </thead>\n",
              "  <tbody>\n",
              "    <tr>\n",
              "      <th>0</th>\n",
              "      <td>C2483</td>\n",
              "      <td>900</td>\n",
              "      <td>아파트</td>\n",
              "      <td>경상북도</td>\n",
              "      <td>국민임대</td>\n",
              "      <td>39.72</td>\n",
              "      <td>134</td>\n",
              "      <td>38.0</td>\n",
              "      <td>A</td>\n",
              "      <td>15667000</td>\n",
              "      <td>103680</td>\n",
              "      <td>0.0</td>\n",
              "      <td>3.0</td>\n",
              "      <td>1425.0</td>\n",
              "      <td>1015.0</td>\n",
              "    </tr>\n",
              "    <tr>\n",
              "      <th>1</th>\n",
              "      <td>C2483</td>\n",
              "      <td>900</td>\n",
              "      <td>아파트</td>\n",
              "      <td>경상북도</td>\n",
              "      <td>국민임대</td>\n",
              "      <td>39.72</td>\n",
              "      <td>15</td>\n",
              "      <td>38.0</td>\n",
              "      <td>A</td>\n",
              "      <td>15667000</td>\n",
              "      <td>103680</td>\n",
              "      <td>0.0</td>\n",
              "      <td>3.0</td>\n",
              "      <td>1425.0</td>\n",
              "      <td>1015.0</td>\n",
              "    </tr>\n",
              "    <tr>\n",
              "      <th>2</th>\n",
              "      <td>C2483</td>\n",
              "      <td>900</td>\n",
              "      <td>아파트</td>\n",
              "      <td>경상북도</td>\n",
              "      <td>국민임대</td>\n",
              "      <td>51.93</td>\n",
              "      <td>385</td>\n",
              "      <td>38.0</td>\n",
              "      <td>A</td>\n",
              "      <td>27304000</td>\n",
              "      <td>184330</td>\n",
              "      <td>0.0</td>\n",
              "      <td>3.0</td>\n",
              "      <td>1425.0</td>\n",
              "      <td>1015.0</td>\n",
              "    </tr>\n",
              "    <tr>\n",
              "      <th>3</th>\n",
              "      <td>C2483</td>\n",
              "      <td>900</td>\n",
              "      <td>아파트</td>\n",
              "      <td>경상북도</td>\n",
              "      <td>국민임대</td>\n",
              "      <td>51.93</td>\n",
              "      <td>15</td>\n",
              "      <td>38.0</td>\n",
              "      <td>A</td>\n",
              "      <td>27304000</td>\n",
              "      <td>184330</td>\n",
              "      <td>0.0</td>\n",
              "      <td>3.0</td>\n",
              "      <td>1425.0</td>\n",
              "      <td>1015.0</td>\n",
              "    </tr>\n",
              "    <tr>\n",
              "      <th>4</th>\n",
              "      <td>C2483</td>\n",
              "      <td>900</td>\n",
              "      <td>아파트</td>\n",
              "      <td>경상북도</td>\n",
              "      <td>국민임대</td>\n",
              "      <td>51.93</td>\n",
              "      <td>41</td>\n",
              "      <td>38.0</td>\n",
              "      <td>A</td>\n",
              "      <td>27304000</td>\n",
              "      <td>184330</td>\n",
              "      <td>0.0</td>\n",
              "      <td>3.0</td>\n",
              "      <td>1425.0</td>\n",
              "      <td>1015.0</td>\n",
              "    </tr>\n",
              "  </tbody>\n",
              "</table>\n",
              "</div>"
            ],
            "text/plain": [
              "    단지코드  총세대수 임대건물구분  ... 도보 10분거리 내 버스정류장 수 단지내주차면수   등록차량수\n",
              "0  C2483   900    아파트  ...                3.0  1425.0  1015.0\n",
              "1  C2483   900    아파트  ...                3.0  1425.0  1015.0\n",
              "2  C2483   900    아파트  ...                3.0  1425.0  1015.0\n",
              "3  C2483   900    아파트  ...                3.0  1425.0  1015.0\n",
              "4  C2483   900    아파트  ...                3.0  1425.0  1015.0\n",
              "\n",
              "[5 rows x 15 columns]"
            ]
          },
          "metadata": {
            "tags": []
          },
          "execution_count": 4
        }
      ]
    },
    {
      "cell_type": "code",
      "metadata": {
        "id": "9Rl_QPkMGn-E"
      },
      "source": [
        "# train set과 test set 합쳐서 전처리\n",
        "data = pd.concat([train, test], axis=0)"
      ],
      "execution_count": 572,
      "outputs": []
    },
    {
      "cell_type": "code",
      "metadata": {
        "colab": {
          "base_uri": "https://localhost:8080/",
          "height": 511
        },
        "id": "eRSQZAc4Gs-f",
        "outputId": "70ff68a0-cc20-49a1-f0a5-4226d0fa9aca"
      },
      "source": [
        "# null값 체크\n",
        "pd.DataFrame(data.isnull().mean()).rename(columns={0:'percent'}).sort_values('percent', ascending=False)*100"
      ],
      "execution_count": null,
      "outputs": [
        {
          "output_type": "execute_result",
          "data": {
            "text/html": [
              "<div>\n",
              "<style scoped>\n",
              "    .dataframe tbody tr th:only-of-type {\n",
              "        vertical-align: middle;\n",
              "    }\n",
              "\n",
              "    .dataframe tbody tr th {\n",
              "        vertical-align: top;\n",
              "    }\n",
              "\n",
              "    .dataframe thead th {\n",
              "        text-align: right;\n",
              "    }\n",
              "</style>\n",
              "<table border=\"1\" class=\"dataframe\">\n",
              "  <thead>\n",
              "    <tr style=\"text-align: right;\">\n",
              "      <th></th>\n",
              "      <th>percent</th>\n",
              "    </tr>\n",
              "  </thead>\n",
              "  <tbody>\n",
              "    <tr>\n",
              "      <th>등록차량수</th>\n",
              "      <td>25.717162</td>\n",
              "    </tr>\n",
              "    <tr>\n",
              "      <th>임대보증금</th>\n",
              "      <td>18.847509</td>\n",
              "    </tr>\n",
              "    <tr>\n",
              "      <th>임대료</th>\n",
              "      <td>18.847509</td>\n",
              "    </tr>\n",
              "    <tr>\n",
              "      <th>도보 10분거리 내 지하철역 수(환승노선 수 반영)</th>\n",
              "      <td>6.366381</td>\n",
              "    </tr>\n",
              "    <tr>\n",
              "      <th>도보 10분거리 내 버스정류장 수</th>\n",
              "      <td>0.100654</td>\n",
              "    </tr>\n",
              "    <tr>\n",
              "      <th>자격유형</th>\n",
              "      <td>0.050327</td>\n",
              "    </tr>\n",
              "    <tr>\n",
              "      <th>단지코드</th>\n",
              "      <td>0.000000</td>\n",
              "    </tr>\n",
              "    <tr>\n",
              "      <th>총세대수</th>\n",
              "      <td>0.000000</td>\n",
              "    </tr>\n",
              "    <tr>\n",
              "      <th>임대건물구분</th>\n",
              "      <td>0.000000</td>\n",
              "    </tr>\n",
              "    <tr>\n",
              "      <th>지역</th>\n",
              "      <td>0.000000</td>\n",
              "    </tr>\n",
              "    <tr>\n",
              "      <th>공급유형</th>\n",
              "      <td>0.000000</td>\n",
              "    </tr>\n",
              "    <tr>\n",
              "      <th>전용면적</th>\n",
              "      <td>0.000000</td>\n",
              "    </tr>\n",
              "    <tr>\n",
              "      <th>전용면적별세대수</th>\n",
              "      <td>0.000000</td>\n",
              "    </tr>\n",
              "    <tr>\n",
              "      <th>공가수</th>\n",
              "      <td>0.000000</td>\n",
              "    </tr>\n",
              "    <tr>\n",
              "      <th>단지내주차면수</th>\n",
              "      <td>0.000000</td>\n",
              "    </tr>\n",
              "  </tbody>\n",
              "</table>\n",
              "</div>"
            ],
            "text/plain": [
              "                                percent\n",
              "등록차량수                         25.717162\n",
              "임대보증금                         18.847509\n",
              "임대료                           18.847509\n",
              "도보 10분거리 내 지하철역 수(환승노선 수 반영)   6.366381\n",
              "도보 10분거리 내 버스정류장 수             0.100654\n",
              "자격유형                           0.050327\n",
              "단지코드                           0.000000\n",
              "총세대수                           0.000000\n",
              "임대건물구분                         0.000000\n",
              "지역                             0.000000\n",
              "공급유형                           0.000000\n",
              "전용면적                           0.000000\n",
              "전용면적별세대수                       0.000000\n",
              "공가수                            0.000000\n",
              "단지내주차면수                        0.000000"
            ]
          },
          "metadata": {
            "tags": []
          },
          "execution_count": 5
        }
      ]
    },
    {
      "cell_type": "code",
      "metadata": {
        "colab": {
          "base_uri": "https://localhost:8080/"
        },
        "id": "W_OSOSx2OHlK",
        "outputId": "b62b425b-57c3-4dec-a003-f09977fb55a5"
      },
      "source": [
        "# null값 처리\n",
        "data.loc[data['임대보증금'].isnull()]['자격유형'].unique()\n",
        "# 임대보증금 null값들의 자격유형은 다 'D'이네..."
      ],
      "execution_count": null,
      "outputs": [
        {
          "output_type": "execute_result",
          "data": {
            "text/plain": [
              "array(['D'], dtype=object)"
            ]
          },
          "metadata": {
            "tags": []
          },
          "execution_count": 78
        }
      ]
    },
    {
      "cell_type": "code",
      "metadata": {
        "colab": {
          "base_uri": "https://localhost:8080/",
          "height": 394
        },
        "id": "2ULqsi1Oi-ak",
        "outputId": "f27294b5-e641-463d-c603-b6e8b0b8eadb"
      },
      "source": [
        "# 자격유형에 대해서 EDA해보자\n",
        "data['자격유형'].hist(figsize=(8,6))\n",
        "# A가 가장 많고, dehijcdklno순"
      ],
      "execution_count": null,
      "outputs": [
        {
          "output_type": "execute_result",
          "data": {
            "text/plain": [
              "<matplotlib.axes._subplots.AxesSubplot at 0x7f01af588cd0>"
            ]
          },
          "metadata": {
            "tags": []
          },
          "execution_count": 6
        },
        {
          "output_type": "stream",
          "text": [
            "findfont: Font family ['NanumGothic'] not found. Falling back to DejaVu Sans.\n"
          ],
          "name": "stderr"
        },
        {
          "output_type": "display_data",
          "data": {
            "image/png": "[encoded data removed]",
            "text/plain": [
              "<Figure size 576x432 with 1 Axes>"
            ]
          },
          "metadata": {
            "tags": [],
            "needs_background": "light"
          }
        }
      ]
    },
    {
      "cell_type": "code",
      "metadata": {
        "colab": {
          "base_uri": "https://localhost:8080/"
        },
        "id": "amK1MkxrfcC2",
        "outputId": "b4fec12b-39f1-4fd5-b3f8-fee2ad50932a"
      },
      "source": [
        "data.loc[data['임대보증금'].isnull()]['지역'].unique()\n",
        "# 서울 빼고 모든 지방이 포함되네"
      ],
      "execution_count": null,
      "outputs": [
        {
          "output_type": "execute_result",
          "data": {
            "text/plain": [
              "array(['강원도', '충청남도', '경상남도', '대전광역시', '부산광역시', '제주특별자치도', '울산광역시'],\n",
              "      dtype=object)"
            ]
          },
          "metadata": {
            "tags": []
          },
          "execution_count": 85
        }
      ]
    },
    {
      "cell_type": "code",
      "metadata": {
        "colab": {
          "base_uri": "https://localhost:8080/",
          "height": 922
        },
        "id": "5Q_0k8MwoiPo",
        "outputId": "ba5094dc-8d5a-411f-fc36-baa78bdbddcd"
      },
      "source": [
        "data.loc[data['임대보증금']=='-']\n",
        "# 이것을 어떻게 처리할지 고민..."
      ],
      "execution_count": null,
      "outputs": [
        {
          "output_type": "execute_result",
          "data": {
            "text/html": [
              "<div>\n",
              "<style scoped>\n",
              "    .dataframe tbody tr th:only-of-type {\n",
              "        vertical-align: middle;\n",
              "    }\n",
              "\n",
              "    .dataframe tbody tr th {\n",
              "        vertical-align: top;\n",
              "    }\n",
              "\n",
              "    .dataframe thead th {\n",
              "        text-align: right;\n",
              "    }\n",
              "</style>\n",
              "<table border=\"1\" class=\"dataframe\">\n",
              "  <thead>\n",
              "    <tr style=\"text-align: right;\">\n",
              "      <th></th>\n",
              "      <th>단지코드</th>\n",
              "      <th>총세대수</th>\n",
              "      <th>임대건물구분</th>\n",
              "      <th>지역</th>\n",
              "      <th>공급유형</th>\n",
              "      <th>전용면적</th>\n",
              "      <th>전용면적별세대수</th>\n",
              "      <th>공가수</th>\n",
              "      <th>자격유형</th>\n",
              "      <th>임대보증금</th>\n",
              "      <th>임대료</th>\n",
              "      <th>도보 10분거리 내 지하철역 수(환승노선 수 반영)</th>\n",
              "      <th>도보 10분거리 내 버스정류장 수</th>\n",
              "      <th>단지내주차면수</th>\n",
              "      <th>등록차량수</th>\n",
              "    </tr>\n",
              "  </thead>\n",
              "  <tbody>\n",
              "    <tr>\n",
              "      <th>2547</th>\n",
              "      <td>C1326</td>\n",
              "      <td>1934</td>\n",
              "      <td>아파트</td>\n",
              "      <td>부산광역시</td>\n",
              "      <td>국민임대</td>\n",
              "      <td>24.72</td>\n",
              "      <td>472</td>\n",
              "      <td>43.0</td>\n",
              "      <td>H</td>\n",
              "      <td>-</td>\n",
              "      <td>-</td>\n",
              "      <td>0.0</td>\n",
              "      <td>4.0</td>\n",
              "      <td>1670.0</td>\n",
              "      <td>1153.0</td>\n",
              "    </tr>\n",
              "    <tr>\n",
              "      <th>2548</th>\n",
              "      <td>C1326</td>\n",
              "      <td>1934</td>\n",
              "      <td>아파트</td>\n",
              "      <td>부산광역시</td>\n",
              "      <td>국민임대</td>\n",
              "      <td>24.79</td>\n",
              "      <td>104</td>\n",
              "      <td>43.0</td>\n",
              "      <td>H</td>\n",
              "      <td>-</td>\n",
              "      <td>-</td>\n",
              "      <td>0.0</td>\n",
              "      <td>4.0</td>\n",
              "      <td>1670.0</td>\n",
              "      <td>1153.0</td>\n",
              "    </tr>\n",
              "    <tr>\n",
              "      <th>2549</th>\n",
              "      <td>C1326</td>\n",
              "      <td>1934</td>\n",
              "      <td>아파트</td>\n",
              "      <td>부산광역시</td>\n",
              "      <td>국민임대</td>\n",
              "      <td>26.83</td>\n",
              "      <td>590</td>\n",
              "      <td>43.0</td>\n",
              "      <td>H</td>\n",
              "      <td>-</td>\n",
              "      <td>-</td>\n",
              "      <td>0.0</td>\n",
              "      <td>4.0</td>\n",
              "      <td>1670.0</td>\n",
              "      <td>1153.0</td>\n",
              "    </tr>\n",
              "    <tr>\n",
              "      <th>2550</th>\n",
              "      <td>C1326</td>\n",
              "      <td>1934</td>\n",
              "      <td>아파트</td>\n",
              "      <td>부산광역시</td>\n",
              "      <td>국민임대</td>\n",
              "      <td>37.70</td>\n",
              "      <td>464</td>\n",
              "      <td>43.0</td>\n",
              "      <td>H</td>\n",
              "      <td>-</td>\n",
              "      <td>-</td>\n",
              "      <td>0.0</td>\n",
              "      <td>4.0</td>\n",
              "      <td>1670.0</td>\n",
              "      <td>1153.0</td>\n",
              "    </tr>\n",
              "    <tr>\n",
              "      <th>2551</th>\n",
              "      <td>C1326</td>\n",
              "      <td>1934</td>\n",
              "      <td>아파트</td>\n",
              "      <td>부산광역시</td>\n",
              "      <td>국민임대</td>\n",
              "      <td>46.94</td>\n",
              "      <td>304</td>\n",
              "      <td>43.0</td>\n",
              "      <td>H</td>\n",
              "      <td>-</td>\n",
              "      <td>-</td>\n",
              "      <td>0.0</td>\n",
              "      <td>4.0</td>\n",
              "      <td>1670.0</td>\n",
              "      <td>1153.0</td>\n",
              "    </tr>\n",
              "    <tr>\n",
              "      <th>2680</th>\n",
              "      <td>C1786</td>\n",
              "      <td>480</td>\n",
              "      <td>아파트</td>\n",
              "      <td>강원도</td>\n",
              "      <td>행복주택</td>\n",
              "      <td>16.91</td>\n",
              "      <td>156</td>\n",
              "      <td>25.0</td>\n",
              "      <td>K</td>\n",
              "      <td>-</td>\n",
              "      <td>-</td>\n",
              "      <td>0.0</td>\n",
              "      <td>3.0</td>\n",
              "      <td>338.0</td>\n",
              "      <td>345.0</td>\n",
              "    </tr>\n",
              "    <tr>\n",
              "      <th>2681</th>\n",
              "      <td>C1786</td>\n",
              "      <td>480</td>\n",
              "      <td>아파트</td>\n",
              "      <td>강원도</td>\n",
              "      <td>행복주택</td>\n",
              "      <td>26.90</td>\n",
              "      <td>136</td>\n",
              "      <td>25.0</td>\n",
              "      <td>K</td>\n",
              "      <td>-</td>\n",
              "      <td>-</td>\n",
              "      <td>0.0</td>\n",
              "      <td>3.0</td>\n",
              "      <td>338.0</td>\n",
              "      <td>345.0</td>\n",
              "    </tr>\n",
              "    <tr>\n",
              "      <th>2682</th>\n",
              "      <td>C1786</td>\n",
              "      <td>480</td>\n",
              "      <td>아파트</td>\n",
              "      <td>강원도</td>\n",
              "      <td>행복주택</td>\n",
              "      <td>26.90</td>\n",
              "      <td>72</td>\n",
              "      <td>25.0</td>\n",
              "      <td>K</td>\n",
              "      <td>-</td>\n",
              "      <td>-</td>\n",
              "      <td>0.0</td>\n",
              "      <td>3.0</td>\n",
              "      <td>338.0</td>\n",
              "      <td>345.0</td>\n",
              "    </tr>\n",
              "    <tr>\n",
              "      <th>2683</th>\n",
              "      <td>C1786</td>\n",
              "      <td>480</td>\n",
              "      <td>아파트</td>\n",
              "      <td>강원도</td>\n",
              "      <td>행복주택</td>\n",
              "      <td>26.90</td>\n",
              "      <td>24</td>\n",
              "      <td>25.0</td>\n",
              "      <td>K</td>\n",
              "      <td>-</td>\n",
              "      <td>-</td>\n",
              "      <td>0.0</td>\n",
              "      <td>3.0</td>\n",
              "      <td>338.0</td>\n",
              "      <td>345.0</td>\n",
              "    </tr>\n",
              "    <tr>\n",
              "      <th>2906</th>\n",
              "      <td>C2186</td>\n",
              "      <td>924</td>\n",
              "      <td>아파트</td>\n",
              "      <td>대구광역시</td>\n",
              "      <td>국민임대</td>\n",
              "      <td>29.17</td>\n",
              "      <td>238</td>\n",
              "      <td>0.0</td>\n",
              "      <td>H</td>\n",
              "      <td>-</td>\n",
              "      <td>-</td>\n",
              "      <td>0.0</td>\n",
              "      <td>8.0</td>\n",
              "      <td>664.0</td>\n",
              "      <td>744.0</td>\n",
              "    </tr>\n",
              "    <tr>\n",
              "      <th>2907</th>\n",
              "      <td>C2186</td>\n",
              "      <td>924</td>\n",
              "      <td>아파트</td>\n",
              "      <td>대구광역시</td>\n",
              "      <td>국민임대</td>\n",
              "      <td>29.34</td>\n",
              "      <td>38</td>\n",
              "      <td>0.0</td>\n",
              "      <td>H</td>\n",
              "      <td>-</td>\n",
              "      <td>-</td>\n",
              "      <td>0.0</td>\n",
              "      <td>8.0</td>\n",
              "      <td>664.0</td>\n",
              "      <td>744.0</td>\n",
              "    </tr>\n",
              "    <tr>\n",
              "      <th>2908</th>\n",
              "      <td>C2186</td>\n",
              "      <td>924</td>\n",
              "      <td>아파트</td>\n",
              "      <td>대구광역시</td>\n",
              "      <td>국민임대</td>\n",
              "      <td>37.43</td>\n",
              "      <td>220</td>\n",
              "      <td>0.0</td>\n",
              "      <td>H</td>\n",
              "      <td>-</td>\n",
              "      <td>-</td>\n",
              "      <td>0.0</td>\n",
              "      <td>8.0</td>\n",
              "      <td>664.0</td>\n",
              "      <td>744.0</td>\n",
              "    </tr>\n",
              "    <tr>\n",
              "      <th>1005</th>\n",
              "      <td>C2152</td>\n",
              "      <td>120</td>\n",
              "      <td>아파트</td>\n",
              "      <td>강원도</td>\n",
              "      <td>영구임대</td>\n",
              "      <td>24.83</td>\n",
              "      <td>66</td>\n",
              "      <td>9.0</td>\n",
              "      <td>C</td>\n",
              "      <td>-</td>\n",
              "      <td>-</td>\n",
              "      <td>0.0</td>\n",
              "      <td>1.0</td>\n",
              "      <td>40.0</td>\n",
              "      <td>NaN</td>\n",
              "    </tr>\n",
              "    <tr>\n",
              "      <th>1006</th>\n",
              "      <td>C2152</td>\n",
              "      <td>120</td>\n",
              "      <td>아파트</td>\n",
              "      <td>강원도</td>\n",
              "      <td>영구임대</td>\n",
              "      <td>33.84</td>\n",
              "      <td>54</td>\n",
              "      <td>9.0</td>\n",
              "      <td>C</td>\n",
              "      <td>-</td>\n",
              "      <td>-</td>\n",
              "      <td>0.0</td>\n",
              "      <td>1.0</td>\n",
              "      <td>40.0</td>\n",
              "      <td>NaN</td>\n",
              "    </tr>\n",
              "    <tr>\n",
              "      <th>1014</th>\n",
              "      <td>C1267</td>\n",
              "      <td>675</td>\n",
              "      <td>아파트</td>\n",
              "      <td>경상남도</td>\n",
              "      <td>행복주택</td>\n",
              "      <td>16.94</td>\n",
              "      <td>50</td>\n",
              "      <td>38.0</td>\n",
              "      <td>L</td>\n",
              "      <td>-</td>\n",
              "      <td>-</td>\n",
              "      <td>0.0</td>\n",
              "      <td>1.0</td>\n",
              "      <td>467.0</td>\n",
              "      <td>NaN</td>\n",
              "    </tr>\n",
              "    <tr>\n",
              "      <th>1015</th>\n",
              "      <td>C1267</td>\n",
              "      <td>675</td>\n",
              "      <td>아파트</td>\n",
              "      <td>경상남도</td>\n",
              "      <td>행복주택</td>\n",
              "      <td>26.85</td>\n",
              "      <td>66</td>\n",
              "      <td>38.0</td>\n",
              "      <td>L</td>\n",
              "      <td>-</td>\n",
              "      <td>-</td>\n",
              "      <td>0.0</td>\n",
              "      <td>1.0</td>\n",
              "      <td>467.0</td>\n",
              "      <td>NaN</td>\n",
              "    </tr>\n",
              "    <tr>\n",
              "      <th>1016</th>\n",
              "      <td>C1267</td>\n",
              "      <td>675</td>\n",
              "      <td>아파트</td>\n",
              "      <td>경상남도</td>\n",
              "      <td>행복주택</td>\n",
              "      <td>26.85</td>\n",
              "      <td>8</td>\n",
              "      <td>38.0</td>\n",
              "      <td>L</td>\n",
              "      <td>-</td>\n",
              "      <td>-</td>\n",
              "      <td>0.0</td>\n",
              "      <td>1.0</td>\n",
              "      <td>467.0</td>\n",
              "      <td>NaN</td>\n",
              "    </tr>\n",
              "    <tr>\n",
              "      <th>1017</th>\n",
              "      <td>C1267</td>\n",
              "      <td>675</td>\n",
              "      <td>아파트</td>\n",
              "      <td>경상남도</td>\n",
              "      <td>행복주택</td>\n",
              "      <td>36.77</td>\n",
              "      <td>126</td>\n",
              "      <td>38.0</td>\n",
              "      <td>L</td>\n",
              "      <td>-</td>\n",
              "      <td>-</td>\n",
              "      <td>0.0</td>\n",
              "      <td>1.0</td>\n",
              "      <td>467.0</td>\n",
              "      <td>NaN</td>\n",
              "    </tr>\n",
              "  </tbody>\n",
              "</table>\n",
              "</div>"
            ],
            "text/plain": [
              "       단지코드  총세대수 임대건물구분  ... 도보 10분거리 내 버스정류장 수 단지내주차면수   등록차량수\n",
              "2547  C1326  1934    아파트  ...                4.0  1670.0  1153.0\n",
              "2548  C1326  1934    아파트  ...                4.0  1670.0  1153.0\n",
              "2549  C1326  1934    아파트  ...                4.0  1670.0  1153.0\n",
              "2550  C1326  1934    아파트  ...                4.0  1670.0  1153.0\n",
              "2551  C1326  1934    아파트  ...                4.0  1670.0  1153.0\n",
              "2680  C1786   480    아파트  ...                3.0   338.0   345.0\n",
              "2681  C1786   480    아파트  ...                3.0   338.0   345.0\n",
              "2682  C1786   480    아파트  ...                3.0   338.0   345.0\n",
              "2683  C1786   480    아파트  ...                3.0   338.0   345.0\n",
              "2906  C2186   924    아파트  ...                8.0   664.0   744.0\n",
              "2907  C2186   924    아파트  ...                8.0   664.0   744.0\n",
              "2908  C2186   924    아파트  ...                8.0   664.0   744.0\n",
              "1005  C2152   120    아파트  ...                1.0    40.0     NaN\n",
              "1006  C2152   120    아파트  ...                1.0    40.0     NaN\n",
              "1014  C1267   675    아파트  ...                1.0   467.0     NaN\n",
              "1015  C1267   675    아파트  ...                1.0   467.0     NaN\n",
              "1016  C1267   675    아파트  ...                1.0   467.0     NaN\n",
              "1017  C1267   675    아파트  ...                1.0   467.0     NaN\n",
              "\n",
              "[18 rows x 15 columns]"
            ]
          },
          "metadata": {
            "tags": []
          },
          "execution_count": 133
        }
      ]
    },
    {
      "cell_type": "code",
      "metadata": {
        "colab": {
          "base_uri": "https://localhost:8080/",
          "height": 602
        },
        "id": "ytYse0Sjh5HC",
        "outputId": "dfac991b-3296-4b0c-9576-70c7c5dccec7"
      },
      "source": [
        "data.loc[data['자격유형'] == 'D']\n",
        "# 전용면적별세대수를 보면 D유형은 다 1세대 이다.\n",
        "# 분양해서 들어온것으로 추측할 수 있다.(0으로 치환)"
      ],
      "execution_count": null,
      "outputs": [
        {
          "output_type": "execute_result",
          "data": {
            "text/html": [
              "<div>\n",
              "<style scoped>\n",
              "    .dataframe tbody tr th:only-of-type {\n",
              "        vertical-align: middle;\n",
              "    }\n",
              "\n",
              "    .dataframe tbody tr th {\n",
              "        vertical-align: top;\n",
              "    }\n",
              "\n",
              "    .dataframe thead th {\n",
              "        text-align: right;\n",
              "    }\n",
              "</style>\n",
              "<table border=\"1\" class=\"dataframe\">\n",
              "  <thead>\n",
              "    <tr style=\"text-align: right;\">\n",
              "      <th></th>\n",
              "      <th>단지코드</th>\n",
              "      <th>총세대수</th>\n",
              "      <th>임대건물구분</th>\n",
              "      <th>지역</th>\n",
              "      <th>공급유형</th>\n",
              "      <th>전용면적</th>\n",
              "      <th>전용면적별세대수</th>\n",
              "      <th>공가수</th>\n",
              "      <th>자격유형</th>\n",
              "      <th>임대보증금</th>\n",
              "      <th>임대료</th>\n",
              "      <th>도보 10분거리 내 지하철역 수(환승노선 수 반영)</th>\n",
              "      <th>도보 10분거리 내 버스정류장 수</th>\n",
              "      <th>단지내주차면수</th>\n",
              "      <th>등록차량수</th>\n",
              "    </tr>\n",
              "  </thead>\n",
              "  <tbody>\n",
              "    <tr>\n",
              "      <th>88</th>\n",
              "      <td>C1925</td>\n",
              "      <td>601</td>\n",
              "      <td>상가</td>\n",
              "      <td>강원도</td>\n",
              "      <td>임대상가</td>\n",
              "      <td>32.10</td>\n",
              "      <td>1</td>\n",
              "      <td>9.0</td>\n",
              "      <td>D</td>\n",
              "      <td>NaN</td>\n",
              "      <td>NaN</td>\n",
              "      <td>0.0</td>\n",
              "      <td>4.0</td>\n",
              "      <td>117.0</td>\n",
              "      <td>75.0</td>\n",
              "    </tr>\n",
              "    <tr>\n",
              "      <th>89</th>\n",
              "      <td>C1925</td>\n",
              "      <td>601</td>\n",
              "      <td>상가</td>\n",
              "      <td>강원도</td>\n",
              "      <td>임대상가</td>\n",
              "      <td>32.10</td>\n",
              "      <td>1</td>\n",
              "      <td>9.0</td>\n",
              "      <td>D</td>\n",
              "      <td>NaN</td>\n",
              "      <td>NaN</td>\n",
              "      <td>0.0</td>\n",
              "      <td>4.0</td>\n",
              "      <td>117.0</td>\n",
              "      <td>75.0</td>\n",
              "    </tr>\n",
              "    <tr>\n",
              "      <th>90</th>\n",
              "      <td>C1925</td>\n",
              "      <td>601</td>\n",
              "      <td>상가</td>\n",
              "      <td>강원도</td>\n",
              "      <td>임대상가</td>\n",
              "      <td>32.10</td>\n",
              "      <td>1</td>\n",
              "      <td>9.0</td>\n",
              "      <td>D</td>\n",
              "      <td>NaN</td>\n",
              "      <td>NaN</td>\n",
              "      <td>0.0</td>\n",
              "      <td>4.0</td>\n",
              "      <td>117.0</td>\n",
              "      <td>75.0</td>\n",
              "    </tr>\n",
              "    <tr>\n",
              "      <th>91</th>\n",
              "      <td>C1925</td>\n",
              "      <td>601</td>\n",
              "      <td>상가</td>\n",
              "      <td>강원도</td>\n",
              "      <td>임대상가</td>\n",
              "      <td>72.16</td>\n",
              "      <td>1</td>\n",
              "      <td>9.0</td>\n",
              "      <td>D</td>\n",
              "      <td>NaN</td>\n",
              "      <td>NaN</td>\n",
              "      <td>0.0</td>\n",
              "      <td>4.0</td>\n",
              "      <td>117.0</td>\n",
              "      <td>75.0</td>\n",
              "    </tr>\n",
              "    <tr>\n",
              "      <th>101</th>\n",
              "      <td>C1874</td>\n",
              "      <td>619</td>\n",
              "      <td>상가</td>\n",
              "      <td>충청남도</td>\n",
              "      <td>임대상가</td>\n",
              "      <td>12.62</td>\n",
              "      <td>1</td>\n",
              "      <td>2.0</td>\n",
              "      <td>D</td>\n",
              "      <td>NaN</td>\n",
              "      <td>NaN</td>\n",
              "      <td>NaN</td>\n",
              "      <td>2.0</td>\n",
              "      <td>97.0</td>\n",
              "      <td>62.0</td>\n",
              "    </tr>\n",
              "    <tr>\n",
              "      <th>...</th>\n",
              "      <td>...</td>\n",
              "      <td>...</td>\n",
              "      <td>...</td>\n",
              "      <td>...</td>\n",
              "      <td>...</td>\n",
              "      <td>...</td>\n",
              "      <td>...</td>\n",
              "      <td>...</td>\n",
              "      <td>...</td>\n",
              "      <td>...</td>\n",
              "      <td>...</td>\n",
              "      <td>...</td>\n",
              "      <td>...</td>\n",
              "      <td>...</td>\n",
              "      <td>...</td>\n",
              "    </tr>\n",
              "    <tr>\n",
              "      <th>328</th>\n",
              "      <td>C1729</td>\n",
              "      <td>627</td>\n",
              "      <td>상가</td>\n",
              "      <td>강원도</td>\n",
              "      <td>임대상가</td>\n",
              "      <td>32.46</td>\n",
              "      <td>1</td>\n",
              "      <td>0.0</td>\n",
              "      <td>D</td>\n",
              "      <td>NaN</td>\n",
              "      <td>NaN</td>\n",
              "      <td>0.0</td>\n",
              "      <td>5.0</td>\n",
              "      <td>131.0</td>\n",
              "      <td>NaN</td>\n",
              "    </tr>\n",
              "    <tr>\n",
              "      <th>329</th>\n",
              "      <td>C1729</td>\n",
              "      <td>627</td>\n",
              "      <td>상가</td>\n",
              "      <td>강원도</td>\n",
              "      <td>임대상가</td>\n",
              "      <td>34.86</td>\n",
              "      <td>1</td>\n",
              "      <td>0.0</td>\n",
              "      <td>D</td>\n",
              "      <td>NaN</td>\n",
              "      <td>NaN</td>\n",
              "      <td>0.0</td>\n",
              "      <td>5.0</td>\n",
              "      <td>131.0</td>\n",
              "      <td>NaN</td>\n",
              "    </tr>\n",
              "    <tr>\n",
              "      <th>330</th>\n",
              "      <td>C1729</td>\n",
              "      <td>627</td>\n",
              "      <td>상가</td>\n",
              "      <td>강원도</td>\n",
              "      <td>임대상가</td>\n",
              "      <td>35.76</td>\n",
              "      <td>1</td>\n",
              "      <td>0.0</td>\n",
              "      <td>D</td>\n",
              "      <td>NaN</td>\n",
              "      <td>NaN</td>\n",
              "      <td>0.0</td>\n",
              "      <td>5.0</td>\n",
              "      <td>131.0</td>\n",
              "      <td>NaN</td>\n",
              "    </tr>\n",
              "    <tr>\n",
              "      <th>331</th>\n",
              "      <td>C1729</td>\n",
              "      <td>627</td>\n",
              "      <td>상가</td>\n",
              "      <td>강원도</td>\n",
              "      <td>임대상가</td>\n",
              "      <td>50.08</td>\n",
              "      <td>1</td>\n",
              "      <td>0.0</td>\n",
              "      <td>D</td>\n",
              "      <td>NaN</td>\n",
              "      <td>NaN</td>\n",
              "      <td>0.0</td>\n",
              "      <td>5.0</td>\n",
              "      <td>131.0</td>\n",
              "      <td>NaN</td>\n",
              "    </tr>\n",
              "    <tr>\n",
              "      <th>332</th>\n",
              "      <td>C1729</td>\n",
              "      <td>627</td>\n",
              "      <td>상가</td>\n",
              "      <td>강원도</td>\n",
              "      <td>임대상가</td>\n",
              "      <td>240.22</td>\n",
              "      <td>1</td>\n",
              "      <td>0.0</td>\n",
              "      <td>D</td>\n",
              "      <td>NaN</td>\n",
              "      <td>NaN</td>\n",
              "      <td>0.0</td>\n",
              "      <td>5.0</td>\n",
              "      <td>131.0</td>\n",
              "      <td>NaN</td>\n",
              "    </tr>\n",
              "  </tbody>\n",
              "</table>\n",
              "<p>749 rows × 15 columns</p>\n",
              "</div>"
            ],
            "text/plain": [
              "      단지코드  총세대수 임대건물구분  ... 도보 10분거리 내 버스정류장 수 단지내주차면수  등록차량수\n",
              "88   C1925   601     상가  ...                4.0   117.0   75.0\n",
              "89   C1925   601     상가  ...                4.0   117.0   75.0\n",
              "90   C1925   601     상가  ...                4.0   117.0   75.0\n",
              "91   C1925   601     상가  ...                4.0   117.0   75.0\n",
              "101  C1874   619     상가  ...                2.0    97.0   62.0\n",
              "..     ...   ...    ...  ...                ...     ...    ...\n",
              "328  C1729   627     상가  ...                5.0   131.0    NaN\n",
              "329  C1729   627     상가  ...                5.0   131.0    NaN\n",
              "330  C1729   627     상가  ...                5.0   131.0    NaN\n",
              "331  C1729   627     상가  ...                5.0   131.0    NaN\n",
              "332  C1729   627     상가  ...                5.0   131.0    NaN\n",
              "\n",
              "[749 rows x 15 columns]"
            ]
          },
          "metadata": {
            "tags": []
          },
          "execution_count": 89
        }
      ]
    },
    {
      "cell_type": "code",
      "metadata": {
        "id": "qFHXf7q_kW-y"
      },
      "source": [
        "data['임대보증금'] = data['임대보증금'].fillna(0)\n",
        "data['임대료'] = data['임대료'].fillna(0)\n",
        "data['임대보증금'] = data['임대보증금'].replace({'-':0})\n",
        "data['임대료'] = data['임대료'].replace({'-':0})"
      ],
      "execution_count": 573,
      "outputs": []
    },
    {
      "cell_type": "code",
      "metadata": {
        "id": "UsR2vpNokgeE"
      },
      "source": [
        "data['임대보증금'] = data['임대보증금'].astype('int')\n",
        "data['임대료'] = data['임대료'].astype('int')"
      ],
      "execution_count": 574,
      "outputs": []
    },
    {
      "cell_type": "code",
      "metadata": {
        "colab": {
          "base_uri": "https://localhost:8080/",
          "height": 602
        },
        "id": "boReBKV9k1Pr",
        "outputId": "7d7b99db-414b-402a-97cd-9f49616e5f6a"
      },
      "source": [
        "data.loc[data['도보 10분거리 내 지하철역 수(환승노선 수 반영)'].isnull()]\n",
        "# 지하철 null값을 처리하기 위해 지역을 EDA해보자"
      ],
      "execution_count": null,
      "outputs": [
        {
          "output_type": "execute_result",
          "data": {
            "text/html": [
              "<div>\n",
              "<style scoped>\n",
              "    .dataframe tbody tr th:only-of-type {\n",
              "        vertical-align: middle;\n",
              "    }\n",
              "\n",
              "    .dataframe tbody tr th {\n",
              "        vertical-align: top;\n",
              "    }\n",
              "\n",
              "    .dataframe thead th {\n",
              "        text-align: right;\n",
              "    }\n",
              "</style>\n",
              "<table border=\"1\" class=\"dataframe\">\n",
              "  <thead>\n",
              "    <tr style=\"text-align: right;\">\n",
              "      <th></th>\n",
              "      <th>단지코드</th>\n",
              "      <th>총세대수</th>\n",
              "      <th>임대건물구분</th>\n",
              "      <th>지역</th>\n",
              "      <th>공급유형</th>\n",
              "      <th>전용면적</th>\n",
              "      <th>전용면적별세대수</th>\n",
              "      <th>공가수</th>\n",
              "      <th>자격유형</th>\n",
              "      <th>임대보증금</th>\n",
              "      <th>임대료</th>\n",
              "      <th>도보 10분거리 내 지하철역 수(환승노선 수 반영)</th>\n",
              "      <th>도보 10분거리 내 버스정류장 수</th>\n",
              "      <th>단지내주차면수</th>\n",
              "      <th>등록차량수</th>\n",
              "    </tr>\n",
              "  </thead>\n",
              "  <tbody>\n",
              "    <tr>\n",
              "      <th>94</th>\n",
              "      <td>C1312</td>\n",
              "      <td>518</td>\n",
              "      <td>아파트</td>\n",
              "      <td>충청남도</td>\n",
              "      <td>국민임대</td>\n",
              "      <td>39.72</td>\n",
              "      <td>60</td>\n",
              "      <td>12.0</td>\n",
              "      <td>A</td>\n",
              "      <td>17460000</td>\n",
              "      <td>122210</td>\n",
              "      <td>NaN</td>\n",
              "      <td>3.0</td>\n",
              "      <td>527.0</td>\n",
              "      <td>359.0</td>\n",
              "    </tr>\n",
              "    <tr>\n",
              "      <th>95</th>\n",
              "      <td>C1312</td>\n",
              "      <td>518</td>\n",
              "      <td>아파트</td>\n",
              "      <td>충청남도</td>\n",
              "      <td>국민임대</td>\n",
              "      <td>39.98</td>\n",
              "      <td>89</td>\n",
              "      <td>12.0</td>\n",
              "      <td>A</td>\n",
              "      <td>17460000</td>\n",
              "      <td>122210</td>\n",
              "      <td>NaN</td>\n",
              "      <td>3.0</td>\n",
              "      <td>527.0</td>\n",
              "      <td>359.0</td>\n",
              "    </tr>\n",
              "    <tr>\n",
              "      <th>96</th>\n",
              "      <td>C1312</td>\n",
              "      <td>518</td>\n",
              "      <td>아파트</td>\n",
              "      <td>충청남도</td>\n",
              "      <td>국민임대</td>\n",
              "      <td>41.55</td>\n",
              "      <td>225</td>\n",
              "      <td>12.0</td>\n",
              "      <td>A</td>\n",
              "      <td>19954000</td>\n",
              "      <td>130940</td>\n",
              "      <td>NaN</td>\n",
              "      <td>3.0</td>\n",
              "      <td>527.0</td>\n",
              "      <td>359.0</td>\n",
              "    </tr>\n",
              "    <tr>\n",
              "      <th>97</th>\n",
              "      <td>C1312</td>\n",
              "      <td>518</td>\n",
              "      <td>아파트</td>\n",
              "      <td>충청남도</td>\n",
              "      <td>국민임대</td>\n",
              "      <td>46.90</td>\n",
              "      <td>143</td>\n",
              "      <td>12.0</td>\n",
              "      <td>A</td>\n",
              "      <td>28687000</td>\n",
              "      <td>149660</td>\n",
              "      <td>NaN</td>\n",
              "      <td>3.0</td>\n",
              "      <td>527.0</td>\n",
              "      <td>359.0</td>\n",
              "    </tr>\n",
              "    <tr>\n",
              "      <th>98</th>\n",
              "      <td>C1874</td>\n",
              "      <td>619</td>\n",
              "      <td>아파트</td>\n",
              "      <td>충청남도</td>\n",
              "      <td>영구임대</td>\n",
              "      <td>26.37</td>\n",
              "      <td>294</td>\n",
              "      <td>2.0</td>\n",
              "      <td>C</td>\n",
              "      <td>3141000</td>\n",
              "      <td>69900</td>\n",
              "      <td>NaN</td>\n",
              "      <td>2.0</td>\n",
              "      <td>97.0</td>\n",
              "      <td>62.0</td>\n",
              "    </tr>\n",
              "    <tr>\n",
              "      <th>...</th>\n",
              "      <td>...</td>\n",
              "      <td>...</td>\n",
              "      <td>...</td>\n",
              "      <td>...</td>\n",
              "      <td>...</td>\n",
              "      <td>...</td>\n",
              "      <td>...</td>\n",
              "      <td>...</td>\n",
              "      <td>...</td>\n",
              "      <td>...</td>\n",
              "      <td>...</td>\n",
              "      <td>...</td>\n",
              "      <td>...</td>\n",
              "      <td>...</td>\n",
              "      <td>...</td>\n",
              "    </tr>\n",
              "    <tr>\n",
              "      <th>307</th>\n",
              "      <td>C1318</td>\n",
              "      <td>312</td>\n",
              "      <td>아파트</td>\n",
              "      <td>충청남도</td>\n",
              "      <td>공공임대(50년)</td>\n",
              "      <td>49.99</td>\n",
              "      <td>159</td>\n",
              "      <td>1.0</td>\n",
              "      <td>A</td>\n",
              "      <td>18269000</td>\n",
              "      <td>258880</td>\n",
              "      <td>NaN</td>\n",
              "      <td>11.0</td>\n",
              "      <td>226.0</td>\n",
              "      <td>NaN</td>\n",
              "    </tr>\n",
              "    <tr>\n",
              "      <th>891</th>\n",
              "      <td>C1327</td>\n",
              "      <td>98</td>\n",
              "      <td>아파트</td>\n",
              "      <td>대전광역시</td>\n",
              "      <td>행복주택</td>\n",
              "      <td>16.83</td>\n",
              "      <td>30</td>\n",
              "      <td>13.0</td>\n",
              "      <td>J</td>\n",
              "      <td>18800000</td>\n",
              "      <td>94000</td>\n",
              "      <td>NaN</td>\n",
              "      <td>17.0</td>\n",
              "      <td>98.0</td>\n",
              "      <td>NaN</td>\n",
              "    </tr>\n",
              "    <tr>\n",
              "      <th>892</th>\n",
              "      <td>C1327</td>\n",
              "      <td>98</td>\n",
              "      <td>아파트</td>\n",
              "      <td>대전광역시</td>\n",
              "      <td>행복주택</td>\n",
              "      <td>26.51</td>\n",
              "      <td>10</td>\n",
              "      <td>13.0</td>\n",
              "      <td>J</td>\n",
              "      <td>28400000</td>\n",
              "      <td>142000</td>\n",
              "      <td>NaN</td>\n",
              "      <td>17.0</td>\n",
              "      <td>98.0</td>\n",
              "      <td>NaN</td>\n",
              "    </tr>\n",
              "    <tr>\n",
              "      <th>893</th>\n",
              "      <td>C1327</td>\n",
              "      <td>98</td>\n",
              "      <td>아파트</td>\n",
              "      <td>대전광역시</td>\n",
              "      <td>행복주택</td>\n",
              "      <td>26.51</td>\n",
              "      <td>10</td>\n",
              "      <td>13.0</td>\n",
              "      <td>J</td>\n",
              "      <td>28400000</td>\n",
              "      <td>142000</td>\n",
              "      <td>NaN</td>\n",
              "      <td>17.0</td>\n",
              "      <td>98.0</td>\n",
              "      <td>NaN</td>\n",
              "    </tr>\n",
              "    <tr>\n",
              "      <th>894</th>\n",
              "      <td>C1327</td>\n",
              "      <td>98</td>\n",
              "      <td>아파트</td>\n",
              "      <td>대전광역시</td>\n",
              "      <td>행복주택</td>\n",
              "      <td>36.92</td>\n",
              "      <td>48</td>\n",
              "      <td>13.0</td>\n",
              "      <td>J</td>\n",
              "      <td>36800000</td>\n",
              "      <td>184000</td>\n",
              "      <td>NaN</td>\n",
              "      <td>17.0</td>\n",
              "      <td>98.0</td>\n",
              "      <td>NaN</td>\n",
              "    </tr>\n",
              "  </tbody>\n",
              "</table>\n",
              "<p>253 rows × 15 columns</p>\n",
              "</div>"
            ],
            "text/plain": [
              "      단지코드  총세대수 임대건물구분  ... 도보 10분거리 내 버스정류장 수 단지내주차면수  등록차량수\n",
              "94   C1312   518    아파트  ...                3.0   527.0  359.0\n",
              "95   C1312   518    아파트  ...                3.0   527.0  359.0\n",
              "96   C1312   518    아파트  ...                3.0   527.0  359.0\n",
              "97   C1312   518    아파트  ...                3.0   527.0  359.0\n",
              "98   C1874   619    아파트  ...                2.0    97.0   62.0\n",
              "..     ...   ...    ...  ...                ...     ...    ...\n",
              "307  C1318   312    아파트  ...               11.0   226.0    NaN\n",
              "891  C1327    98    아파트  ...               17.0    98.0    NaN\n",
              "892  C1327    98    아파트  ...               17.0    98.0    NaN\n",
              "893  C1327    98    아파트  ...               17.0    98.0    NaN\n",
              "894  C1327    98    아파트  ...               17.0    98.0    NaN\n",
              "\n",
              "[253 rows x 15 columns]"
            ]
          },
          "metadata": {
            "tags": []
          },
          "execution_count": 110
        }
      ]
    },
    {
      "cell_type": "code",
      "metadata": {
        "colab": {
          "base_uri": "https://localhost:8080/"
        },
        "id": "Ox6OI08Ulevp",
        "outputId": "e500476c-107c-4628-bc9d-72b144b6d1c7"
      },
      "source": [
        "data.loc[data['지역']=='충청남도']['도보 10분거리 내 지하철역 수(환승노선 수 반영)'].unique()\n",
        "# 충남의 지하철역 수는 0이다. ==> 충남 지하철=0으로 처리"
      ],
      "execution_count": null,
      "outputs": [
        {
          "output_type": "execute_result",
          "data": {
            "text/plain": [
              "array([nan,  0.])"
            ]
          },
          "metadata": {
            "tags": []
          },
          "execution_count": 107
        }
      ]
    },
    {
      "cell_type": "code",
      "metadata": {
        "colab": {
          "base_uri": "https://localhost:8080/"
        },
        "id": "mpfGQUmClvM-",
        "outputId": "812cba62-01a6-4e26-9e52-4f51cb7bd93e"
      },
      "source": [
        "data.loc[data['지역']=='대전광역시']['도보 10분거리 내 지하철역 수(환승노선 수 반영)'].unique()\n",
        "# 대전광역시는 지하철이 있으니 단지코드별 비교를 통해 null값 처리"
      ],
      "execution_count": null,
      "outputs": [
        {
          "output_type": "execute_result",
          "data": {
            "text/plain": [
              "array([ 1.,  0., nan,  2.])"
            ]
          },
          "metadata": {
            "tags": []
          },
          "execution_count": 108
        }
      ]
    },
    {
      "cell_type": "code",
      "metadata": {
        "colab": {
          "base_uri": "https://localhost:8080/"
        },
        "id": "EWJsiZWdl3K1",
        "outputId": "87a8a424-0d55-443c-c15e-4f20f3001b63"
      },
      "source": [
        "data.loc[data['지역']=='경상남도']['도보 10분거리 내 지하철역 수(환승노선 수 반영)'].unique()\n",
        "# 경상남도도 지하철이 있다고 하니 단지코드별 비교를 통해 처리"
      ],
      "execution_count": null,
      "outputs": [
        {
          "output_type": "execute_result",
          "data": {
            "text/plain": [
              "array([ 0., nan,  1.])"
            ]
          },
          "metadata": {
            "tags": []
          },
          "execution_count": 109
        }
      ]
    },
    {
      "cell_type": "code",
      "metadata": {
        "colab": {
          "base_uri": "https://localhost:8080/"
        },
        "id": "HbrMxKS1mMn1",
        "outputId": "71c43a98-7ccd-472a-db1a-7986853a94cd"
      },
      "source": [
        "data.groupby(['지역','단지코드'])['도보 10분거리 내 지하철역 수(환승노선 수 반영)'].value_counts(dropna=False).loc['경상남도'].sort_index()\n",
        "# 단지마다 지하철역 수가 결측치가 관측된다. ==> 단지별 비교는 안될 것 같다."
      ],
      "execution_count": null,
      "outputs": [
        {
          "output_type": "execute_result",
          "data": {
            "text/plain": [
              "단지코드   도보 10분거리 내 지하철역 수(환승노선 수 반영)\n",
              "C1003  0.0                              8\n",
              "C1027  0.0                              5\n",
              "C1077  0.0                              3\n",
              "C1141  0.0                              6\n",
              "C1147  0.0                              7\n",
              "                                       ..\n",
              "C2571  0.0                             14\n",
              "C2576  0.0                              2\n",
              "C2595  0.0                              5\n",
              "C2631  0.0                              7\n",
              "C2680  0.0                              3\n",
              "Name: 도보 10분거리 내 지하철역 수(환승노선 수 반영), Length: 69, dtype: int64"
            ]
          },
          "metadata": {
            "tags": []
          },
          "execution_count": 124
        }
      ]
    },
    {
      "cell_type": "code",
      "metadata": {
        "id": "9QEqOtz4n_Kx"
      },
      "source": [
        "data.loc[(data['도보 10분거리 내 지하철역 수(환승노선 수 반영)'].isnull())&(data['지역']=='충청남도'), '도보 10분거리 내 지하철역 수(환승노선 수 반영)'] = 0.\n",
        "data['도보 10분거리 내 지하철역 수(환승노선 수 반영)'] = data['도보 10분거리 내 지하철역 수(환승노선 수 반영)'].fillna(0.)"
      ],
      "execution_count": 575,
      "outputs": []
    },
    {
      "cell_type": "code",
      "metadata": {
        "colab": {
          "base_uri": "https://localhost:8080/",
          "height": 256
        },
        "id": "bkmSeDN_oGXh",
        "outputId": "e0299185-662e-412f-9cbd-64d3f1860e4f"
      },
      "source": [
        "# 도보 10분거리 내 버스정류장 수 null값 처리\n",
        "data.loc[data['단지코드']=='C1649']\n",
        "# 단지코드 'C1649'는 아예 정류장 수가 결측되었다. ==> 경상남도의 median으로 처리하자"
      ],
      "execution_count": null,
      "outputs": [
        {
          "output_type": "execute_result",
          "data": {
            "text/html": [
              "<div>\n",
              "<style scoped>\n",
              "    .dataframe tbody tr th:only-of-type {\n",
              "        vertical-align: middle;\n",
              "    }\n",
              "\n",
              "    .dataframe tbody tr th {\n",
              "        vertical-align: top;\n",
              "    }\n",
              "\n",
              "    .dataframe thead th {\n",
              "        text-align: right;\n",
              "    }\n",
              "</style>\n",
              "<table border=\"1\" class=\"dataframe\">\n",
              "  <thead>\n",
              "    <tr style=\"text-align: right;\">\n",
              "      <th></th>\n",
              "      <th>단지코드</th>\n",
              "      <th>총세대수</th>\n",
              "      <th>임대건물구분</th>\n",
              "      <th>지역</th>\n",
              "      <th>공급유형</th>\n",
              "      <th>전용면적</th>\n",
              "      <th>전용면적별세대수</th>\n",
              "      <th>공가수</th>\n",
              "      <th>자격유형</th>\n",
              "      <th>임대보증금</th>\n",
              "      <th>임대료</th>\n",
              "      <th>도보 10분거리 내 지하철역 수(환승노선 수 반영)</th>\n",
              "      <th>도보 10분거리 내 버스정류장 수</th>\n",
              "      <th>단지내주차면수</th>\n",
              "      <th>등록차량수</th>\n",
              "    </tr>\n",
              "  </thead>\n",
              "  <tbody>\n",
              "    <tr>\n",
              "      <th>2315</th>\n",
              "      <td>C1649</td>\n",
              "      <td>575</td>\n",
              "      <td>아파트</td>\n",
              "      <td>경상남도</td>\n",
              "      <td>공공임대(10년)</td>\n",
              "      <td>74.97</td>\n",
              "      <td>80</td>\n",
              "      <td>15.0</td>\n",
              "      <td>A</td>\n",
              "      <td>46000000</td>\n",
              "      <td>456000</td>\n",
              "      <td>0.0</td>\n",
              "      <td>NaN</td>\n",
              "      <td>1066.0</td>\n",
              "      <td>855.0</td>\n",
              "    </tr>\n",
              "    <tr>\n",
              "      <th>2316</th>\n",
              "      <td>C1649</td>\n",
              "      <td>575</td>\n",
              "      <td>아파트</td>\n",
              "      <td>경상남도</td>\n",
              "      <td>공공임대(10년)</td>\n",
              "      <td>84.95</td>\n",
              "      <td>124</td>\n",
              "      <td>15.0</td>\n",
              "      <td>A</td>\n",
              "      <td>57000000</td>\n",
              "      <td>462000</td>\n",
              "      <td>0.0</td>\n",
              "      <td>NaN</td>\n",
              "      <td>1066.0</td>\n",
              "      <td>855.0</td>\n",
              "    </tr>\n",
              "    <tr>\n",
              "      <th>2317</th>\n",
              "      <td>C1649</td>\n",
              "      <td>575</td>\n",
              "      <td>아파트</td>\n",
              "      <td>경상남도</td>\n",
              "      <td>공공임대(10년)</td>\n",
              "      <td>84.96</td>\n",
              "      <td>289</td>\n",
              "      <td>15.0</td>\n",
              "      <td>A</td>\n",
              "      <td>57000000</td>\n",
              "      <td>462000</td>\n",
              "      <td>0.0</td>\n",
              "      <td>NaN</td>\n",
              "      <td>1066.0</td>\n",
              "      <td>855.0</td>\n",
              "    </tr>\n",
              "    <tr>\n",
              "      <th>2318</th>\n",
              "      <td>C1649</td>\n",
              "      <td>575</td>\n",
              "      <td>아파트</td>\n",
              "      <td>경상남도</td>\n",
              "      <td>공공임대(10년)</td>\n",
              "      <td>84.98</td>\n",
              "      <td>82</td>\n",
              "      <td>15.0</td>\n",
              "      <td>A</td>\n",
              "      <td>57000000</td>\n",
              "      <td>462000</td>\n",
              "      <td>0.0</td>\n",
              "      <td>NaN</td>\n",
              "      <td>1066.0</td>\n",
              "      <td>855.0</td>\n",
              "    </tr>\n",
              "  </tbody>\n",
              "</table>\n",
              "</div>"
            ],
            "text/plain": [
              "       단지코드  총세대수 임대건물구분  ... 도보 10분거리 내 버스정류장 수 단지내주차면수  등록차량수\n",
              "2315  C1649   575    아파트  ...                NaN  1066.0  855.0\n",
              "2316  C1649   575    아파트  ...                NaN  1066.0  855.0\n",
              "2317  C1649   575    아파트  ...                NaN  1066.0  855.0\n",
              "2318  C1649   575    아파트  ...                NaN  1066.0  855.0\n",
              "\n",
              "[4 rows x 15 columns]"
            ]
          },
          "metadata": {
            "tags": []
          },
          "execution_count": 137
        }
      ]
    },
    {
      "cell_type": "code",
      "metadata": {
        "id": "cIFmBegUpDdM"
      },
      "source": [
        "data.loc[data['도보 10분거리 내 버스정류장 수'].isnull(), '도보 10분거리 내 버스정류장 수'] = data.loc[(data['지역']=='경상남도')]['도보 10분거리 내 버스정류장 수'].median()"
      ],
      "execution_count": 576,
      "outputs": []
    },
    {
      "cell_type": "code",
      "metadata": {
        "colab": {
          "base_uri": "https://localhost:8080/",
          "height": 161
        },
        "id": "efehJNGeplP4",
        "outputId": "599ac5e9-5adc-4bb4-c463-f8bbecaa4e5e"
      },
      "source": [
        "# 자격유형 null값 처리\n",
        "data.loc[data['자격유형'].isnull()]\n",
        "# 자격유형을 임대보증금과 비교하여 처리"
      ],
      "execution_count": null,
      "outputs": [
        {
          "output_type": "execute_result",
          "data": {
            "text/html": [
              "<div>\n",
              "<style scoped>\n",
              "    .dataframe tbody tr th:only-of-type {\n",
              "        vertical-align: middle;\n",
              "    }\n",
              "\n",
              "    .dataframe tbody tr th {\n",
              "        vertical-align: top;\n",
              "    }\n",
              "\n",
              "    .dataframe thead th {\n",
              "        text-align: right;\n",
              "    }\n",
              "</style>\n",
              "<table border=\"1\" class=\"dataframe\">\n",
              "  <thead>\n",
              "    <tr style=\"text-align: right;\">\n",
              "      <th></th>\n",
              "      <th>단지코드</th>\n",
              "      <th>총세대수</th>\n",
              "      <th>임대건물구분</th>\n",
              "      <th>지역</th>\n",
              "      <th>공급유형</th>\n",
              "      <th>전용면적</th>\n",
              "      <th>전용면적별세대수</th>\n",
              "      <th>공가수</th>\n",
              "      <th>자격유형</th>\n",
              "      <th>임대보증금</th>\n",
              "      <th>임대료</th>\n",
              "      <th>도보 10분거리 내 지하철역 수(환승노선 수 반영)</th>\n",
              "      <th>도보 10분거리 내 버스정류장 수</th>\n",
              "      <th>단지내주차면수</th>\n",
              "      <th>등록차량수</th>\n",
              "    </tr>\n",
              "  </thead>\n",
              "  <tbody>\n",
              "    <tr>\n",
              "      <th>196</th>\n",
              "      <td>C2411</td>\n",
              "      <td>962</td>\n",
              "      <td>아파트</td>\n",
              "      <td>경상남도</td>\n",
              "      <td>국민임대</td>\n",
              "      <td>46.90</td>\n",
              "      <td>240</td>\n",
              "      <td>25.0</td>\n",
              "      <td>NaN</td>\n",
              "      <td>71950000</td>\n",
              "      <td>37470</td>\n",
              "      <td>0.0</td>\n",
              "      <td>2.0</td>\n",
              "      <td>840.0</td>\n",
              "      <td>NaN</td>\n",
              "    </tr>\n",
              "    <tr>\n",
              "      <th>258</th>\n",
              "      <td>C2253</td>\n",
              "      <td>1161</td>\n",
              "      <td>아파트</td>\n",
              "      <td>강원도</td>\n",
              "      <td>영구임대</td>\n",
              "      <td>26.37</td>\n",
              "      <td>745</td>\n",
              "      <td>0.0</td>\n",
              "      <td>NaN</td>\n",
              "      <td>2249000</td>\n",
              "      <td>44770</td>\n",
              "      <td>0.0</td>\n",
              "      <td>2.0</td>\n",
              "      <td>173.0</td>\n",
              "      <td>NaN</td>\n",
              "    </tr>\n",
              "  </tbody>\n",
              "</table>\n",
              "</div>"
            ],
            "text/plain": [
              "      단지코드  총세대수 임대건물구분  ... 도보 10분거리 내 버스정류장 수 단지내주차면수  등록차량수\n",
              "196  C2411   962    아파트  ...                2.0   840.0    NaN\n",
              "258  C2253  1161    아파트  ...                2.0   173.0    NaN\n",
              "\n",
              "[2 rows x 15 columns]"
            ]
          },
          "metadata": {
            "tags": []
          },
          "execution_count": 389
        }
      ]
    },
    {
      "cell_type": "code",
      "metadata": {
        "id": "Wsxm92pPqJ0R"
      },
      "source": [
        "data.loc[(data['자격유형'].isnull())&(data['지역']=='경상남도'), '자격유형'] = 'E'\n",
        "data.loc[(data['자격유형'].isnull())&(data['지역']=='강원도'), '자격유형'] = 'F'"
      ],
      "execution_count": 577,
      "outputs": []
    },
    {
      "cell_type": "code",
      "metadata": {
        "colab": {
          "base_uri": "https://localhost:8080/",
          "height": 602
        },
        "id": "wFPgfRn7H9NP",
        "outputId": "1363985a-d757-420e-d6af-d0c639d6f52f"
      },
      "source": [
        "# 이상값 처리\n",
        "Q1 = data['도보 10분거리 내 버스정류장 수'].quantile(0.25)\n",
        "Q3 = data['도보 10분거리 내 버스정류장 수'].quantile(0.75)\n",
        "IQR = Q3-Q1\n",
        "data.loc[(data['도보 10분거리 내 버스정류장 수']<Q1-1.5*IQR)|(data['도보 10분거리 내 버스정류장 수']>Q3+1.5*IQR)]"
      ],
      "execution_count": 578,
      "outputs": [
        {
          "output_type": "execute_result",
          "data": {
            "text/html": [
              "<div>\n",
              "<style scoped>\n",
              "    .dataframe tbody tr th:only-of-type {\n",
              "        vertical-align: middle;\n",
              "    }\n",
              "\n",
              "    .dataframe tbody tr th {\n",
              "        vertical-align: top;\n",
              "    }\n",
              "\n",
              "    .dataframe thead th {\n",
              "        text-align: right;\n",
              "    }\n",
              "</style>\n",
              "<table border=\"1\" class=\"dataframe\">\n",
              "  <thead>\n",
              "    <tr style=\"text-align: right;\">\n",
              "      <th></th>\n",
              "      <th>단지코드</th>\n",
              "      <th>총세대수</th>\n",
              "      <th>임대건물구분</th>\n",
              "      <th>지역</th>\n",
              "      <th>공급유형</th>\n",
              "      <th>전용면적</th>\n",
              "      <th>전용면적별세대수</th>\n",
              "      <th>공가수</th>\n",
              "      <th>자격유형</th>\n",
              "      <th>임대보증금</th>\n",
              "      <th>임대료</th>\n",
              "      <th>도보 10분거리 내 지하철역 수(환승노선 수 반영)</th>\n",
              "      <th>도보 10분거리 내 버스정류장 수</th>\n",
              "      <th>단지내주차면수</th>\n",
              "      <th>등록차량수</th>\n",
              "    </tr>\n",
              "  </thead>\n",
              "  <tbody>\n",
              "    <tr>\n",
              "      <th>42</th>\n",
              "      <td>C1244</td>\n",
              "      <td>1722</td>\n",
              "      <td>아파트</td>\n",
              "      <td>경기도</td>\n",
              "      <td>국민임대</td>\n",
              "      <td>39.62</td>\n",
              "      <td>275</td>\n",
              "      <td>10.0</td>\n",
              "      <td>A</td>\n",
              "      <td>29551000</td>\n",
              "      <td>203030</td>\n",
              "      <td>0.0</td>\n",
              "      <td>10.0</td>\n",
              "      <td>1483.0</td>\n",
              "      <td>1804.0</td>\n",
              "    </tr>\n",
              "    <tr>\n",
              "      <th>43</th>\n",
              "      <td>C1244</td>\n",
              "      <td>1722</td>\n",
              "      <td>아파트</td>\n",
              "      <td>경기도</td>\n",
              "      <td>국민임대</td>\n",
              "      <td>39.62</td>\n",
              "      <td>126</td>\n",
              "      <td>10.0</td>\n",
              "      <td>A</td>\n",
              "      <td>29551000</td>\n",
              "      <td>203030</td>\n",
              "      <td>0.0</td>\n",
              "      <td>10.0</td>\n",
              "      <td>1483.0</td>\n",
              "      <td>1804.0</td>\n",
              "    </tr>\n",
              "    <tr>\n",
              "      <th>44</th>\n",
              "      <td>C1244</td>\n",
              "      <td>1722</td>\n",
              "      <td>아파트</td>\n",
              "      <td>경기도</td>\n",
              "      <td>국민임대</td>\n",
              "      <td>39.62</td>\n",
              "      <td>168</td>\n",
              "      <td>10.0</td>\n",
              "      <td>A</td>\n",
              "      <td>29551000</td>\n",
              "      <td>203030</td>\n",
              "      <td>0.0</td>\n",
              "      <td>10.0</td>\n",
              "      <td>1483.0</td>\n",
              "      <td>1804.0</td>\n",
              "    </tr>\n",
              "    <tr>\n",
              "      <th>45</th>\n",
              "      <td>C1244</td>\n",
              "      <td>1722</td>\n",
              "      <td>아파트</td>\n",
              "      <td>경기도</td>\n",
              "      <td>국민임대</td>\n",
              "      <td>39.72</td>\n",
              "      <td>219</td>\n",
              "      <td>10.0</td>\n",
              "      <td>A</td>\n",
              "      <td>29551000</td>\n",
              "      <td>203030</td>\n",
              "      <td>0.0</td>\n",
              "      <td>10.0</td>\n",
              "      <td>1483.0</td>\n",
              "      <td>1804.0</td>\n",
              "    </tr>\n",
              "    <tr>\n",
              "      <th>46</th>\n",
              "      <td>C1244</td>\n",
              "      <td>1722</td>\n",
              "      <td>아파트</td>\n",
              "      <td>경기도</td>\n",
              "      <td>국민임대</td>\n",
              "      <td>46.73</td>\n",
              "      <td>98</td>\n",
              "      <td>10.0</td>\n",
              "      <td>A</td>\n",
              "      <td>43990000</td>\n",
              "      <td>304540</td>\n",
              "      <td>0.0</td>\n",
              "      <td>10.0</td>\n",
              "      <td>1483.0</td>\n",
              "      <td>1804.0</td>\n",
              "    </tr>\n",
              "    <tr>\n",
              "      <th>...</th>\n",
              "      <td>...</td>\n",
              "      <td>...</td>\n",
              "      <td>...</td>\n",
              "      <td>...</td>\n",
              "      <td>...</td>\n",
              "      <td>...</td>\n",
              "      <td>...</td>\n",
              "      <td>...</td>\n",
              "      <td>...</td>\n",
              "      <td>...</td>\n",
              "      <td>...</td>\n",
              "      <td>...</td>\n",
              "      <td>...</td>\n",
              "      <td>...</td>\n",
              "      <td>...</td>\n",
              "    </tr>\n",
              "    <tr>\n",
              "      <th>985</th>\n",
              "      <td>C1683</td>\n",
              "      <td>328</td>\n",
              "      <td>아파트</td>\n",
              "      <td>경기도</td>\n",
              "      <td>행복주택</td>\n",
              "      <td>21.54</td>\n",
              "      <td>16</td>\n",
              "      <td>14.0</td>\n",
              "      <td>J</td>\n",
              "      <td>14498000</td>\n",
              "      <td>62940</td>\n",
              "      <td>0.0</td>\n",
              "      <td>11.0</td>\n",
              "      <td>250.0</td>\n",
              "      <td>NaN</td>\n",
              "    </tr>\n",
              "    <tr>\n",
              "      <th>986</th>\n",
              "      <td>C1683</td>\n",
              "      <td>328</td>\n",
              "      <td>아파트</td>\n",
              "      <td>경기도</td>\n",
              "      <td>행복주택</td>\n",
              "      <td>26.41</td>\n",
              "      <td>56</td>\n",
              "      <td>14.0</td>\n",
              "      <td>J</td>\n",
              "      <td>17434000</td>\n",
              "      <td>75690</td>\n",
              "      <td>0.0</td>\n",
              "      <td>11.0</td>\n",
              "      <td>250.0</td>\n",
              "      <td>NaN</td>\n",
              "    </tr>\n",
              "    <tr>\n",
              "      <th>987</th>\n",
              "      <td>C1683</td>\n",
              "      <td>328</td>\n",
              "      <td>아파트</td>\n",
              "      <td>경기도</td>\n",
              "      <td>행복주택</td>\n",
              "      <td>26.41</td>\n",
              "      <td>4</td>\n",
              "      <td>14.0</td>\n",
              "      <td>J</td>\n",
              "      <td>17434000</td>\n",
              "      <td>75690</td>\n",
              "      <td>0.0</td>\n",
              "      <td>11.0</td>\n",
              "      <td>250.0</td>\n",
              "      <td>NaN</td>\n",
              "    </tr>\n",
              "    <tr>\n",
              "      <th>988</th>\n",
              "      <td>C1683</td>\n",
              "      <td>328</td>\n",
              "      <td>아파트</td>\n",
              "      <td>경기도</td>\n",
              "      <td>행복주택</td>\n",
              "      <td>36.64</td>\n",
              "      <td>69</td>\n",
              "      <td>14.0</td>\n",
              "      <td>J</td>\n",
              "      <td>24186000</td>\n",
              "      <td>105010</td>\n",
              "      <td>0.0</td>\n",
              "      <td>11.0</td>\n",
              "      <td>250.0</td>\n",
              "      <td>NaN</td>\n",
              "    </tr>\n",
              "    <tr>\n",
              "      <th>989</th>\n",
              "      <td>C1683</td>\n",
              "      <td>328</td>\n",
              "      <td>아파트</td>\n",
              "      <td>경기도</td>\n",
              "      <td>행복주택</td>\n",
              "      <td>36.64</td>\n",
              "      <td>65</td>\n",
              "      <td>14.0</td>\n",
              "      <td>J</td>\n",
              "      <td>24186000</td>\n",
              "      <td>105010</td>\n",
              "      <td>0.0</td>\n",
              "      <td>11.0</td>\n",
              "      <td>250.0</td>\n",
              "      <td>NaN</td>\n",
              "    </tr>\n",
              "  </tbody>\n",
              "</table>\n",
              "<p>350 rows × 15 columns</p>\n",
              "</div>"
            ],
            "text/plain": [
              "      단지코드  총세대수 임대건물구분  ... 도보 10분거리 내 버스정류장 수 단지내주차면수   등록차량수\n",
              "42   C1244  1722    아파트  ...               10.0  1483.0  1804.0\n",
              "43   C1244  1722    아파트  ...               10.0  1483.0  1804.0\n",
              "44   C1244  1722    아파트  ...               10.0  1483.0  1804.0\n",
              "45   C1244  1722    아파트  ...               10.0  1483.0  1804.0\n",
              "46   C1244  1722    아파트  ...               10.0  1483.0  1804.0\n",
              "..     ...   ...    ...  ...                ...     ...     ...\n",
              "985  C1683   328    아파트  ...               11.0   250.0     NaN\n",
              "986  C1683   328    아파트  ...               11.0   250.0     NaN\n",
              "987  C1683   328    아파트  ...               11.0   250.0     NaN\n",
              "988  C1683   328    아파트  ...               11.0   250.0     NaN\n",
              "989  C1683   328    아파트  ...               11.0   250.0     NaN\n",
              "\n",
              "[350 rows x 15 columns]"
            ]
          },
          "metadata": {
            "tags": []
          },
          "execution_count": 578
        }
      ]
    },
    {
      "cell_type": "code",
      "metadata": {
        "id": "POz6RtOqKBN4"
      },
      "source": [
        "# 이상값은 최소,대값으로 처리\n",
        "data.loc[(data['도보 10분거리 내 버스정류장 수'] < Q1-5*IQR), '도보 10분거리 내 버스정류장 수'] = Q1-5*IQR\n",
        "data.loc[(data['도보 10분거리 내 버스정류장 수'] > Q3+5*IQR), '도보 10분거리 내 버스정류장 수'] = Q3+5*IQR"
      ],
      "execution_count": 579,
      "outputs": []
    },
    {
      "cell_type": "code",
      "metadata": {
        "colab": {
          "base_uri": "https://localhost:8080/"
        },
        "id": "b8q62gnJsckA",
        "outputId": "e46dda08-eee4-4a9e-9153-06d8e61f59ad"
      },
      "source": [
        "data.skew()\n",
        "# 다 log변환을 해야한다. 그 전에 모델링 돌려보자"
      ],
      "execution_count": 182,
      "outputs": [
        {
          "output_type": "execute_result",
          "data": {
            "text/plain": [
              "총세대수                             1.268751\n",
              "전용면적                            10.864622\n",
              "전용면적별세대수                         3.321005\n",
              "공가수                              0.810131\n",
              "임대보증금                            2.845083\n",
              "임대료                              1.637468\n",
              "도보 10분거리 내 지하철역 수(환승노선 수 반영)     2.868214\n",
              "도보 10분거리 내 버스정류장 수               1.934480\n",
              "단지내주차면수                          0.945232\n",
              "등록차량수                            1.461736\n",
              "dtype: float64"
            ]
          },
          "metadata": {
            "tags": []
          },
          "execution_count": 182
        }
      ]
    },
    {
      "cell_type": "code",
      "metadata": {
        "colab": {
          "base_uri": "https://localhost:8080/",
          "height": 662
        },
        "id": "Y4XpmyNtj8O_",
        "outputId": "cd875955-edfa-4998-f9d6-3e1dca3a76e7"
      },
      "source": [
        "# 상관계수를 보자\n",
        "from sklearn.preprocessing import LabelEncoder\n",
        "data_copy=data.copy()\n",
        "for i in data_copy.select_dtypes('object'):\n",
        "  data_copy[i] = LabelEncoder().fit_transform(data_copy[i])\n",
        "\n",
        "data_copy.corr()"
      ],
      "execution_count": null,
      "outputs": [
        {
          "output_type": "execute_result",
          "data": {
            "text/html": [
              "<div>\n",
              "<style scoped>\n",
              "    .dataframe tbody tr th:only-of-type {\n",
              "        vertical-align: middle;\n",
              "    }\n",
              "\n",
              "    .dataframe tbody tr th {\n",
              "        vertical-align: top;\n",
              "    }\n",
              "\n",
              "    .dataframe thead th {\n",
              "        text-align: right;\n",
              "    }\n",
              "</style>\n",
              "<table border=\"1\" class=\"dataframe\">\n",
              "  <thead>\n",
              "    <tr style=\"text-align: right;\">\n",
              "      <th></th>\n",
              "      <th>단지코드</th>\n",
              "      <th>총세대수</th>\n",
              "      <th>임대건물구분</th>\n",
              "      <th>지역</th>\n",
              "      <th>공급유형</th>\n",
              "      <th>전용면적</th>\n",
              "      <th>전용면적별세대수</th>\n",
              "      <th>공가수</th>\n",
              "      <th>자격유형</th>\n",
              "      <th>임대보증금</th>\n",
              "      <th>임대료</th>\n",
              "      <th>도보 10분거리 내 지하철역 수(환승노선 수 반영)</th>\n",
              "      <th>도보 10분거리 내 버스정류장 수</th>\n",
              "      <th>단지내주차면수</th>\n",
              "      <th>등록차량수</th>\n",
              "    </tr>\n",
              "  </thead>\n",
              "  <tbody>\n",
              "    <tr>\n",
              "      <th>단지코드</th>\n",
              "      <td>1.000000</td>\n",
              "      <td>0.048983</td>\n",
              "      <td>-0.069088</td>\n",
              "      <td>-0.020800</td>\n",
              "      <td>0.019559</td>\n",
              "      <td>-0.004582</td>\n",
              "      <td>-0.030955</td>\n",
              "      <td>0.000845</td>\n",
              "      <td>0.051644</td>\n",
              "      <td>-0.071803</td>\n",
              "      <td>-0.029130</td>\n",
              "      <td>-0.120087</td>\n",
              "      <td>-0.081409</td>\n",
              "      <td>-0.080123</td>\n",
              "      <td>-0.099950</td>\n",
              "    </tr>\n",
              "    <tr>\n",
              "      <th>총세대수</th>\n",
              "      <td>0.048983</td>\n",
              "      <td>1.000000</td>\n",
              "      <td>-0.395954</td>\n",
              "      <td>-0.050277</td>\n",
              "      <td>0.112987</td>\n",
              "      <td>0.053513</td>\n",
              "      <td>0.090440</td>\n",
              "      <td>0.125877</td>\n",
              "      <td>0.105370</td>\n",
              "      <td>-0.143949</td>\n",
              "      <td>-0.153476</td>\n",
              "      <td>0.195048</td>\n",
              "      <td>-0.005914</td>\n",
              "      <td>0.469530</td>\n",
              "      <td>0.316703</td>\n",
              "    </tr>\n",
              "    <tr>\n",
              "      <th>임대건물구분</th>\n",
              "      <td>-0.069088</td>\n",
              "      <td>-0.395954</td>\n",
              "      <td>1.000000</td>\n",
              "      <td>-0.118590</td>\n",
              "      <td>-0.415907</td>\n",
              "      <td>-0.024147</td>\n",
              "      <td>0.369218</td>\n",
              "      <td>0.198148</td>\n",
              "      <td>-0.135264</td>\n",
              "      <td>0.483030</td>\n",
              "      <td>0.548481</td>\n",
              "      <td>-0.147159</td>\n",
              "      <td>0.046569</td>\n",
              "      <td>0.395826</td>\n",
              "      <td>0.449189</td>\n",
              "    </tr>\n",
              "    <tr>\n",
              "      <th>지역</th>\n",
              "      <td>-0.020800</td>\n",
              "      <td>-0.050277</td>\n",
              "      <td>-0.118590</td>\n",
              "      <td>1.000000</td>\n",
              "      <td>0.022463</td>\n",
              "      <td>-0.006460</td>\n",
              "      <td>-0.039802</td>\n",
              "      <td>-0.011008</td>\n",
              "      <td>-0.024636</td>\n",
              "      <td>-0.137169</td>\n",
              "      <td>-0.164484</td>\n",
              "      <td>-0.055085</td>\n",
              "      <td>-0.112403</td>\n",
              "      <td>-0.182264</td>\n",
              "      <td>-0.169999</td>\n",
              "    </tr>\n",
              "    <tr>\n",
              "      <th>공급유형</th>\n",
              "      <td>0.019559</td>\n",
              "      <td>0.112987</td>\n",
              "      <td>-0.415907</td>\n",
              "      <td>0.022463</td>\n",
              "      <td>1.000000</td>\n",
              "      <td>-0.217368</td>\n",
              "      <td>-0.203735</td>\n",
              "      <td>0.180054</td>\n",
              "      <td>0.651762</td>\n",
              "      <td>-0.290686</td>\n",
              "      <td>-0.692461</td>\n",
              "      <td>0.066679</td>\n",
              "      <td>-0.030108</td>\n",
              "      <td>-0.369375</td>\n",
              "      <td>-0.518342</td>\n",
              "    </tr>\n",
              "    <tr>\n",
              "      <th>전용면적</th>\n",
              "      <td>-0.004582</td>\n",
              "      <td>0.053513</td>\n",
              "      <td>-0.024147</td>\n",
              "      <td>-0.006460</td>\n",
              "      <td>-0.217368</td>\n",
              "      <td>1.000000</td>\n",
              "      <td>-0.027360</td>\n",
              "      <td>-0.070725</td>\n",
              "      <td>-0.169489</td>\n",
              "      <td>0.137201</td>\n",
              "      <td>0.199376</td>\n",
              "      <td>0.009669</td>\n",
              "      <td>-0.001577</td>\n",
              "      <td>0.069806</td>\n",
              "      <td>0.115453</td>\n",
              "    </tr>\n",
              "    <tr>\n",
              "      <th>전용면적별세대수</th>\n",
              "      <td>-0.030955</td>\n",
              "      <td>0.090440</td>\n",
              "      <td>0.369218</td>\n",
              "      <td>-0.039802</td>\n",
              "      <td>-0.203735</td>\n",
              "      <td>-0.027360</td>\n",
              "      <td>1.000000</td>\n",
              "      <td>0.155941</td>\n",
              "      <td>-0.089566</td>\n",
              "      <td>0.102118</td>\n",
              "      <td>0.172775</td>\n",
              "      <td>-0.041335</td>\n",
              "      <td>0.039301</td>\n",
              "      <td>0.294625</td>\n",
              "      <td>0.247085</td>\n",
              "    </tr>\n",
              "    <tr>\n",
              "      <th>공가수</th>\n",
              "      <td>0.000845</td>\n",
              "      <td>0.125877</td>\n",
              "      <td>0.198148</td>\n",
              "      <td>-0.011008</td>\n",
              "      <td>0.180054</td>\n",
              "      <td>-0.070725</td>\n",
              "      <td>0.155941</td>\n",
              "      <td>1.000000</td>\n",
              "      <td>0.239767</td>\n",
              "      <td>0.133226</td>\n",
              "      <td>-0.022510</td>\n",
              "      <td>-0.037642</td>\n",
              "      <td>0.038542</td>\n",
              "      <td>0.281112</td>\n",
              "      <td>0.118121</td>\n",
              "    </tr>\n",
              "    <tr>\n",
              "      <th>자격유형</th>\n",
              "      <td>0.051644</td>\n",
              "      <td>0.105370</td>\n",
              "      <td>-0.135264</td>\n",
              "      <td>-0.024636</td>\n",
              "      <td>0.651762</td>\n",
              "      <td>-0.169489</td>\n",
              "      <td>-0.089566</td>\n",
              "      <td>0.239767</td>\n",
              "      <td>1.000000</td>\n",
              "      <td>0.001296</td>\n",
              "      <td>-0.243282</td>\n",
              "      <td>-0.008183</td>\n",
              "      <td>-0.003009</td>\n",
              "      <td>-0.108682</td>\n",
              "      <td>-0.154491</td>\n",
              "    </tr>\n",
              "    <tr>\n",
              "      <th>임대보증금</th>\n",
              "      <td>-0.071803</td>\n",
              "      <td>-0.143949</td>\n",
              "      <td>0.483030</td>\n",
              "      <td>-0.137169</td>\n",
              "      <td>-0.290686</td>\n",
              "      <td>0.137201</td>\n",
              "      <td>0.102118</td>\n",
              "      <td>0.133226</td>\n",
              "      <td>0.001296</td>\n",
              "      <td>1.000000</td>\n",
              "      <td>0.598350</td>\n",
              "      <td>-0.051386</td>\n",
              "      <td>0.108394</td>\n",
              "      <td>0.390195</td>\n",
              "      <td>0.436073</td>\n",
              "    </tr>\n",
              "    <tr>\n",
              "      <th>임대료</th>\n",
              "      <td>-0.029130</td>\n",
              "      <td>-0.153476</td>\n",
              "      <td>0.548481</td>\n",
              "      <td>-0.164484</td>\n",
              "      <td>-0.692461</td>\n",
              "      <td>0.199376</td>\n",
              "      <td>0.172775</td>\n",
              "      <td>-0.022510</td>\n",
              "      <td>-0.243282</td>\n",
              "      <td>0.598350</td>\n",
              "      <td>1.000000</td>\n",
              "      <td>-0.034479</td>\n",
              "      <td>0.073999</td>\n",
              "      <td>0.418479</td>\n",
              "      <td>0.519834</td>\n",
              "    </tr>\n",
              "    <tr>\n",
              "      <th>도보 10분거리 내 지하철역 수(환승노선 수 반영)</th>\n",
              "      <td>-0.120087</td>\n",
              "      <td>0.195048</td>\n",
              "      <td>-0.147159</td>\n",
              "      <td>-0.055085</td>\n",
              "      <td>0.066679</td>\n",
              "      <td>0.009669</td>\n",
              "      <td>-0.041335</td>\n",
              "      <td>-0.037642</td>\n",
              "      <td>-0.008183</td>\n",
              "      <td>-0.051386</td>\n",
              "      <td>-0.034479</td>\n",
              "      <td>1.000000</td>\n",
              "      <td>0.057473</td>\n",
              "      <td>-0.009034</td>\n",
              "      <td>-0.086562</td>\n",
              "    </tr>\n",
              "    <tr>\n",
              "      <th>도보 10분거리 내 버스정류장 수</th>\n",
              "      <td>-0.081409</td>\n",
              "      <td>-0.005914</td>\n",
              "      <td>0.046569</td>\n",
              "      <td>-0.112403</td>\n",
              "      <td>-0.030108</td>\n",
              "      <td>-0.001577</td>\n",
              "      <td>0.039301</td>\n",
              "      <td>0.038542</td>\n",
              "      <td>-0.003009</td>\n",
              "      <td>0.108394</td>\n",
              "      <td>0.073999</td>\n",
              "      <td>0.057473</td>\n",
              "      <td>1.000000</td>\n",
              "      <td>0.088928</td>\n",
              "      <td>0.103472</td>\n",
              "    </tr>\n",
              "    <tr>\n",
              "      <th>단지내주차면수</th>\n",
              "      <td>-0.080123</td>\n",
              "      <td>0.469530</td>\n",
              "      <td>0.395826</td>\n",
              "      <td>-0.182264</td>\n",
              "      <td>-0.369375</td>\n",
              "      <td>0.069806</td>\n",
              "      <td>0.294625</td>\n",
              "      <td>0.281112</td>\n",
              "      <td>-0.108682</td>\n",
              "      <td>0.390195</td>\n",
              "      <td>0.418479</td>\n",
              "      <td>-0.009034</td>\n",
              "      <td>0.088928</td>\n",
              "      <td>1.000000</td>\n",
              "      <td>0.859216</td>\n",
              "    </tr>\n",
              "    <tr>\n",
              "      <th>등록차량수</th>\n",
              "      <td>-0.099950</td>\n",
              "      <td>0.316703</td>\n",
              "      <td>0.449189</td>\n",
              "      <td>-0.169999</td>\n",
              "      <td>-0.518342</td>\n",
              "      <td>0.115453</td>\n",
              "      <td>0.247085</td>\n",
              "      <td>0.118121</td>\n",
              "      <td>-0.154491</td>\n",
              "      <td>0.436073</td>\n",
              "      <td>0.519834</td>\n",
              "      <td>-0.086562</td>\n",
              "      <td>0.103472</td>\n",
              "      <td>0.859216</td>\n",
              "      <td>1.000000</td>\n",
              "    </tr>\n",
              "  </tbody>\n",
              "</table>\n",
              "</div>"
            ],
            "text/plain": [
              "                                  단지코드      총세대수  ...   단지내주차면수     등록차량수\n",
              "단지코드                          1.000000  0.048983  ... -0.080123 -0.099950\n",
              "총세대수                          0.048983  1.000000  ...  0.469530  0.316703\n",
              "임대건물구분                       -0.069088 -0.395954  ...  0.395826  0.449189\n",
              "지역                           -0.020800 -0.050277  ... -0.182264 -0.169999\n",
              "공급유형                          0.019559  0.112987  ... -0.369375 -0.518342\n",
              "전용면적                         -0.004582  0.053513  ...  0.069806  0.115453\n",
              "전용면적별세대수                     -0.030955  0.090440  ...  0.294625  0.247085\n",
              "공가수                           0.000845  0.125877  ...  0.281112  0.118121\n",
              "자격유형                          0.051644  0.105370  ... -0.108682 -0.154491\n",
              "임대보증금                        -0.071803 -0.143949  ...  0.390195  0.436073\n",
              "임대료                          -0.029130 -0.153476  ...  0.418479  0.519834\n",
              "도보 10분거리 내 지하철역 수(환승노선 수 반영) -0.120087  0.195048  ... -0.009034 -0.086562\n",
              "도보 10분거리 내 버스정류장 수           -0.081409 -0.005914  ...  0.088928  0.103472\n",
              "단지내주차면수                      -0.080123  0.469530  ...  1.000000  0.859216\n",
              "등록차량수                        -0.099950  0.316703  ...  0.859216  1.000000\n",
              "\n",
              "[15 rows x 15 columns]"
            ]
          },
          "metadata": {
            "tags": []
          },
          "execution_count": 391
        }
      ]
    },
    {
      "cell_type": "code",
      "metadata": {
        "id": "Iu7mAL6Q2J8j"
      },
      "source": [
        "train = data.loc[data['등록차량수'].notnull()]\n",
        "test = data.loc[data['등록차량수'].isnull()].drop(columns='등록차량수')"
      ],
      "execution_count": 580,
      "outputs": []
    },
    {
      "cell_type": "code",
      "metadata": {
        "id": "J9TH0hu8sk5Z"
      },
      "source": [
        "train = train.groupby('단지코드').mean()\n",
        "test = test.groupby('단지코드').mean()"
      ],
      "execution_count": 581,
      "outputs": []
    },
    {
      "cell_type": "code",
      "metadata": {
        "id": "oOo9AgNM16jR"
      },
      "source": [
        "train['전용면적'] = train['전용면적']//5*5\n",
        "test['전용면적'] = test['전용면적']//5*5\n",
        "\n",
        "\n",
        "idx = train[train['전용면적']>100].index\n",
        "train.loc[idx, '전용면적'] = 100\n",
        "idx = test[test['전용면적']>100].index\n",
        "test.loc[idx, '전용면적'] = 100\n",
        "\n",
        "idx = train[train['전용면적']<10].index\n",
        "train.loc[idx, '전용면적'] = 10\n",
        "idx = test[test['전용면적']<10].index\n",
        "test.loc[idx, '전용면적'] = 10"
      ],
      "execution_count": 462,
      "outputs": []
    },
    {
      "cell_type": "code",
      "metadata": {
        "colab": {
          "base_uri": "https://localhost:8080/"
        },
        "id": "xHEnB27Iyb_S",
        "outputId": "a7091bbb-a4da-4b1f-e8fc-f775d472f8fe"
      },
      "source": [
        "columns = ['단지코드', '총세대수', '공가수', '지역', '단지내주차면수', '도보 10분거리 내 지하철역 수(환승노선 수 반영)', '도보 10분거리 내 버스정류장 수']\n",
        "target = '등록차량수'\n",
        "area_columns = []\n",
        "for area in train['전용면적'].unique():\n",
        "    area_columns.append(f'면적_{area}')\n",
        "\n",
        "new_train = pd.DataFrame()\n",
        "new_test = pd.DataFrame()\n",
        "\n",
        "for i, code in tqdm(enumerate(train['단지코드'].unique())):\n",
        "    temp = train[train['단지코드']==code]\n",
        "    temp.index = range(temp.shape[0])\n",
        "    for col in columns:\n",
        "        new_train.loc[i, col] = temp.loc[0, col]\n",
        "\n",
        "    \n",
        "    for col in area_columns:\n",
        "        area = float(col.split('_')[-1])\n",
        "        new_train.loc[i, col] = temp[temp['전용면적']==area]['전용면적별세대수'].sum()\n",
        "    \n",
        "\n",
        "    \n",
        "    new_train.loc[i, '등록차량수'] = temp.loc[0, '등록차량수']\n",
        "    \n",
        "for i, code in tqdm(enumerate(test['단지코드'].unique())):\n",
        "    temp = test[test['단지코드']==code]\n",
        "    temp.index = range(temp.shape[0])\n",
        "    for col in columns:\n",
        "        new_test.loc[i, col] = temp.loc[0, col]\n",
        "    \n",
        "    for col in area_columns:\n",
        "        area = float(col.split('_')[-1])\n",
        "        new_test.loc[i, col] = temp[temp['전용면적']==area]['전용면적별세대수'].sum()"
      ],
      "execution_count": 463,
      "outputs": [
        {
          "output_type": "stream",
          "text": [
            "423it [00:09, 44.28it/s]\n",
            "150it [00:03, 43.81it/s]\n"
          ],
          "name": "stderr"
        }
      ]
    },
    {
      "cell_type": "code",
      "metadata": {
        "colab": {
          "base_uri": "https://localhost:8080/",
          "height": 447
        },
        "id": "WqplR_X0XD6O",
        "outputId": "78bc7c61-f36f-46ad-89e9-e87f4e06121e"
      },
      "source": [
        "# 임대보증금과 임대료 aggregation\n",
        "data_agg = data.groupby('단지코드')['임대보증금'].agg(['mean'])\n",
        "data_agg_col = []\n",
        "\n",
        "for i in data_agg.columns:\n",
        "  data_agg_col.append(f'{i}-임대보증금')\n",
        "\n",
        "data_agg.columns = data_agg_col\n",
        "data_agg"
      ],
      "execution_count": 452,
      "outputs": [
        {
          "output_type": "execute_result",
          "data": {
            "text/html": [
              "<div>\n",
              "<style scoped>\n",
              "    .dataframe tbody tr th:only-of-type {\n",
              "        vertical-align: middle;\n",
              "    }\n",
              "\n",
              "    .dataframe tbody tr th {\n",
              "        vertical-align: top;\n",
              "    }\n",
              "\n",
              "    .dataframe thead th {\n",
              "        text-align: right;\n",
              "    }\n",
              "</style>\n",
              "<table border=\"1\" class=\"dataframe\">\n",
              "  <thead>\n",
              "    <tr style=\"text-align: right;\">\n",
              "      <th></th>\n",
              "      <th>mean-임대보증금</th>\n",
              "    </tr>\n",
              "    <tr>\n",
              "      <th>단지코드</th>\n",
              "      <th></th>\n",
              "    </tr>\n",
              "  </thead>\n",
              "  <tbody>\n",
              "    <tr>\n",
              "      <th>C1000</th>\n",
              "      <td>1.320357e+07</td>\n",
              "    </tr>\n",
              "    <tr>\n",
              "      <th>C1003</th>\n",
              "      <td>2.265000e+07</td>\n",
              "    </tr>\n",
              "    <tr>\n",
              "      <th>C1004</th>\n",
              "      <td>4.952632e+05</td>\n",
              "    </tr>\n",
              "    <tr>\n",
              "      <th>C1005</th>\n",
              "      <td>1.710767e+07</td>\n",
              "    </tr>\n",
              "    <tr>\n",
              "      <th>C1006</th>\n",
              "      <td>8.975556e+05</td>\n",
              "    </tr>\n",
              "    <tr>\n",
              "      <th>...</th>\n",
              "      <td>...</td>\n",
              "    </tr>\n",
              "    <tr>\n",
              "      <th>C2676</th>\n",
              "      <td>4.010217e+05</td>\n",
              "    </tr>\n",
              "    <tr>\n",
              "      <th>C2680</th>\n",
              "      <td>2.360633e+07</td>\n",
              "    </tr>\n",
              "    <tr>\n",
              "      <th>C2688</th>\n",
              "      <td>8.511333e+06</td>\n",
              "    </tr>\n",
              "    <tr>\n",
              "      <th>C2691</th>\n",
              "      <td>7.066667e+07</td>\n",
              "    </tr>\n",
              "    <tr>\n",
              "      <th>C2692</th>\n",
              "      <td>1.579360e+07</td>\n",
              "    </tr>\n",
              "  </tbody>\n",
              "</table>\n",
              "<p>573 rows × 1 columns</p>\n",
              "</div>"
            ],
            "text/plain": [
              "         mean-임대보증금\n",
              "단지코드               \n",
              "C1000  1.320357e+07\n",
              "C1003  2.265000e+07\n",
              "C1004  4.952632e+05\n",
              "C1005  1.710767e+07\n",
              "C1006  8.975556e+05\n",
              "...             ...\n",
              "C2676  4.010217e+05\n",
              "C2680  2.360633e+07\n",
              "C2688  8.511333e+06\n",
              "C2691  7.066667e+07\n",
              "C2692  1.579360e+07\n",
              "\n",
              "[573 rows x 1 columns]"
            ]
          },
          "metadata": {
            "tags": []
          },
          "execution_count": 452
        }
      ]
    },
    {
      "cell_type": "code",
      "metadata": {
        "colab": {
          "base_uri": "https://localhost:8080/",
          "height": 447
        },
        "id": "VVqMPoZYYUPG",
        "outputId": "38f387ff-a199-4e0d-8da3-89d6b61b7cd2"
      },
      "source": [
        "data_agg_b = data.groupby('단지코드')['임대료'].agg(['mean'])\n",
        "data_agg_col_b = []\n",
        "\n",
        "for i in data_agg_b.columns:\n",
        "  data_agg_col_b.append(f'{i}-임대료')\n",
        "\n",
        "data_agg_b.columns = data_agg_col_b\n",
        "data_agg_b"
      ],
      "execution_count": 453,
      "outputs": [
        {
          "output_type": "execute_result",
          "data": {
            "text/html": [
              "<div>\n",
              "<style scoped>\n",
              "    .dataframe tbody tr th:only-of-type {\n",
              "        vertical-align: middle;\n",
              "    }\n",
              "\n",
              "    .dataframe tbody tr th {\n",
              "        vertical-align: top;\n",
              "    }\n",
              "\n",
              "    .dataframe thead th {\n",
              "        text-align: right;\n",
              "    }\n",
              "</style>\n",
              "<table border=\"1\" class=\"dataframe\">\n",
              "  <thead>\n",
              "    <tr style=\"text-align: right;\">\n",
              "      <th></th>\n",
              "      <th>mean-임대료</th>\n",
              "    </tr>\n",
              "    <tr>\n",
              "      <th>단지코드</th>\n",
              "      <th></th>\n",
              "    </tr>\n",
              "  </thead>\n",
              "  <tbody>\n",
              "    <tr>\n",
              "      <th>C1000</th>\n",
              "      <td>121064.285714</td>\n",
              "    </tr>\n",
              "    <tr>\n",
              "      <th>C1003</th>\n",
              "      <td>115875.000000</td>\n",
              "    </tr>\n",
              "    <tr>\n",
              "      <th>C1004</th>\n",
              "      <td>11020.526316</td>\n",
              "    </tr>\n",
              "    <tr>\n",
              "      <th>C1005</th>\n",
              "      <td>222046.666667</td>\n",
              "    </tr>\n",
              "    <tr>\n",
              "      <th>C1006</th>\n",
              "      <td>12404.814815</td>\n",
              "    </tr>\n",
              "    <tr>\n",
              "      <th>...</th>\n",
              "      <td>...</td>\n",
              "    </tr>\n",
              "    <tr>\n",
              "      <th>C2676</th>\n",
              "      <td>5542.391304</td>\n",
              "    </tr>\n",
              "    <tr>\n",
              "      <th>C2680</th>\n",
              "      <td>129816.666667</td>\n",
              "    </tr>\n",
              "    <tr>\n",
              "      <th>C2688</th>\n",
              "      <td>109251.666667</td>\n",
              "    </tr>\n",
              "    <tr>\n",
              "      <th>C2691</th>\n",
              "      <td>560000.000000</td>\n",
              "    </tr>\n",
              "    <tr>\n",
              "      <th>C2692</th>\n",
              "      <td>117848.000000</td>\n",
              "    </tr>\n",
              "  </tbody>\n",
              "</table>\n",
              "<p>573 rows × 1 columns</p>\n",
              "</div>"
            ],
            "text/plain": [
              "            mean-임대료\n",
              "단지코드                \n",
              "C1000  121064.285714\n",
              "C1003  115875.000000\n",
              "C1004   11020.526316\n",
              "C1005  222046.666667\n",
              "C1006   12404.814815\n",
              "...              ...\n",
              "C2676    5542.391304\n",
              "C2680  129816.666667\n",
              "C2688  109251.666667\n",
              "C2691  560000.000000\n",
              "C2692  117848.000000\n",
              "\n",
              "[573 rows x 1 columns]"
            ]
          },
          "metadata": {
            "tags": []
          },
          "execution_count": 453
        }
      ]
    },
    {
      "cell_type": "code",
      "metadata": {
        "id": "V1XcRJkzYEea"
      },
      "source": [
        "new_train = new_train.merge(data_agg, how='left', on='단지코드')\n",
        "new_test = new_test.merge(data_agg, how='left', on='단지코드')\n",
        "new_train = new_train.merge(data_agg_b, how='left', on='단지코드')\n",
        "new_test = new_test.merge(data_agg_b, how='left', on='단지코드')"
      ],
      "execution_count": 454,
      "outputs": []
    },
    {
      "cell_type": "code",
      "metadata": {
        "id": "tEUc7ksNAuC4"
      },
      "source": [
        "new_train['실거주세대'] = new_train['총세대수'] - new_train['공가수']\n",
        "new_test['실거주세대'] = new_test['총세대수'] - new_test['공가수']"
      ],
      "execution_count": 251,
      "outputs": []
    },
    {
      "cell_type": "code",
      "metadata": {
        "id": "3sQNohftAuHy"
      },
      "source": [
        "new_train['단지내주차면수_bin']=pd.qcut(new_train['단지내주차면수'], 5, labels=['a','b','c','d','e'])\n",
        "new_test['단지내주차면수_bin']=pd.qcut(new_test['단지내주차면수'], 5, labels=['a','b','c','d','e'])"
      ],
      "execution_count": 516,
      "outputs": []
    },
    {
      "cell_type": "code",
      "metadata": {
        "id": "jjJ1y3fQ0WHE"
      },
      "source": [
        "new_train['공실율'] = new_train['공가수']/new_train['총세대수']*100\n",
        "new_test['공실율'] = new_test['공가수']/new_test['총세대수']*100\n",
        "new_train['세대당주차면수'] = new_train['단지내주차면수']/new_train['총세대수']\n",
        "new_test['세대당주차면수'] = new_test['단지내주차면수']/new_test['총세대수']"
      ],
      "execution_count": 517,
      "outputs": []
    },
    {
      "cell_type": "code",
      "metadata": {
        "id": "nYpWKW2qocue"
      },
      "source": [
        "new_train = new_train.merge(data.groupby('단지코드')['공급유형'].value_counts().unstack().fillna(0), how='left', on='단지코드')\n",
        "new_test = new_test.merge(data.groupby('단지코드')['공급유형'].value_counts().unstack().fillna(0), how='left', on='단지코드')"
      ],
      "execution_count": 518,
      "outputs": []
    },
    {
      "cell_type": "code",
      "metadata": {
        "id": "YD5yN1gODneE"
      },
      "source": [
        "new_train = new_train.merge(data.groupby(['단지코드'])['임대건물구분'].value_counts().unstack().fillna(0), how='left', on='단지코드')\n",
        "new_test = new_test.merge(data.groupby(['단지코드'])['임대건물구분'].value_counts().unstack().fillna(0), how='left', on='단지코드')"
      ],
      "execution_count": 519,
      "outputs": []
    },
    {
      "cell_type": "code",
      "metadata": {
        "id": "IWNx4WJ3m0Wd"
      },
      "source": [
        "# info 병합하는 셀\n",
        "new_train = new_train.merge(info, how='left', on='지역')\n",
        "new_test = new_test.merge(info, how='left', on='지역')"
      ],
      "execution_count": 468,
      "outputs": []
    },
    {
      "cell_type": "markdown",
      "metadata": {
        "id": "B-GkljldtxDc"
      },
      "source": [
        "# 다른 버전"
      ]
    },
    {
      "cell_type": "code",
      "metadata": {
        "id": "ohjA8VzMvQ7K"
      },
      "source": [
        "train = train.reset_index()\n",
        "test = test.reset_index()"
      ],
      "execution_count": 582,
      "outputs": []
    },
    {
      "cell_type": "code",
      "metadata": {
        "id": "aFBbuYHyty4G"
      },
      "source": [
        "train['실거주세대'] = train['총세대수'] - train['공가수']\n",
        "test['실거주세대'] = test['총세대수'] - test['공가수']"
      ],
      "execution_count": null,
      "outputs": []
    },
    {
      "cell_type": "code",
      "metadata": {
        "id": "s6lyWZguty4G"
      },
      "source": [
        "train['단지내주차면수_bin']=pd.qcut(train['단지내주차면수'], 5, labels=['a','b','c','d','e'])\n",
        "test['단지내주차면수_bin']=pd.qcut(test['단지내주차면수'], 5, labels=['a','b','c','d','e'])"
      ],
      "execution_count": 583,
      "outputs": []
    },
    {
      "cell_type": "code",
      "metadata": {
        "id": "wrbrntYZty4H"
      },
      "source": [
        "train['공실율'] = train['공가수']/train['총세대수']*100\n",
        "test['공실율'] = test['공가수']/test['총세대수']*100\n",
        "train['세대당주차면수'] = train['단지내주차면수']/train['총세대수']\n",
        "test['세대당주차면수'] = test['단지내주차면수']/test['총세대수']"
      ],
      "execution_count": 584,
      "outputs": []
    },
    {
      "cell_type": "code",
      "metadata": {
        "id": "C5SPQ7Pnty4H"
      },
      "source": [
        "train = train.merge(data.groupby('단지코드')['공급유형'].value_counts().unstack().fillna(0), how='left', on='단지코드')\n",
        "test = test.merge(data.groupby('단지코드')['공급유형'].value_counts().unstack().fillna(0), how='left', on='단지코드')"
      ],
      "execution_count": 585,
      "outputs": []
    },
    {
      "cell_type": "code",
      "metadata": {
        "id": "lYjt7mW1ty4H"
      },
      "source": [
        "train = train.merge(data.groupby(['단지코드'])['임대건물구분'].value_counts().unstack().fillna(0), how='left', on='단지코드')\n",
        "test = test.merge(data.groupby(['단지코드'])['임대건물구분'].value_counts().unstack().fillna(0), how='left', on='단지코드')"
      ],
      "execution_count": 586,
      "outputs": []
    },
    {
      "cell_type": "code",
      "metadata": {
        "id": "buWiiWyNui9m"
      },
      "source": [
        "train = pd.get_dummies(train, columns=['단지내주차면수_bin'])\n",
        "test = pd.get_dummies(test, columns=['단지내주차면수_bin'])"
      ],
      "execution_count": 587,
      "outputs": []
    },
    {
      "cell_type": "code",
      "metadata": {
        "id": "9_69AqA8uIYE"
      },
      "source": [
        "x_train = train.drop(columns=['단지코드', '등록차량수'])\n",
        "y_train = train['등록차량수']\n",
        "x_test = test.drop(columns=['단지코드'])"
      ],
      "execution_count": 599,
      "outputs": []
    },
    {
      "cell_type": "code",
      "metadata": {
        "colab": {
          "base_uri": "https://localhost:8080/"
        },
        "id": "E7_Y0hejZsfb",
        "outputId": "3fed3aa9-41b4-42f5-b556-88287c820e0d"
      },
      "source": [
        "corr_matrix = train.corr()\n",
        "\n",
        "upper = corr_matrix.where(np.triu(np.ones(corr_matrix.shape), k=1).astype(np.bool))\n",
        "\n",
        "to_drop = [c for c in upper.columns if any(abs(upper[c]) > 0.9)]\n",
        "\n",
        "print(f'There are {len(train.columns)} columns but {len(to_drop)} corr columns to remove')"
      ],
      "execution_count": 526,
      "outputs": [
        {
          "output_type": "stream",
          "text": [
            "There are 25 columns but 1 corr columns to remove\n"
          ],
          "name": "stdout"
        }
      ]
    },
    {
      "cell_type": "code",
      "metadata": {
        "colab": {
          "base_uri": "https://localhost:8080/"
        },
        "id": "GzKRmPX9Kwpd",
        "outputId": "125c4313-d94e-4af7-f6ba-18db2aae1640"
      },
      "source": [
        "to_drop"
      ],
      "execution_count": 527,
      "outputs": [
        {
          "output_type": "execute_result",
          "data": {
            "text/plain": [
              "['상가']"
            ]
          },
          "metadata": {
            "tags": []
          },
          "execution_count": 527
        }
      ]
    },
    {
      "cell_type": "code",
      "metadata": {
        "id": "3lOCj2ZEZ2i3"
      },
      "source": [
        "new_train = new_train.drop(columns=to_drop)\n",
        "new_test = new_test.drop(columns=to_drop)"
      ],
      "execution_count": 211,
      "outputs": []
    },
    {
      "cell_type": "code",
      "metadata": {
        "colab": {
          "base_uri": "https://localhost:8080/"
        },
        "id": "m630XmpjaS1f",
        "outputId": "f8572a86-b149-425a-d606-4e2a16d92545"
      },
      "source": [
        "new_train.isnull().sum()"
      ],
      "execution_count": 259,
      "outputs": [
        {
          "output_type": "execute_result",
          "data": {
            "text/plain": [
              "단지코드        0\n",
              "총세대수        0\n",
              "공가수         0\n",
              "지역          0\n",
              "단지내주차면수     0\n",
              "           ..\n",
              "80대(남자)     0\n",
              "90대(여자)     0\n",
              "90대(남자)     0\n",
              "100대(여자)    0\n",
              "100대(남자)    0\n",
              "Length: 64, dtype: int64"
            ]
          },
          "metadata": {
            "tags": []
          },
          "execution_count": 259
        }
      ]
    },
    {
      "cell_type": "code",
      "metadata": {
        "id": "rsmaMz4wFY3Y"
      },
      "source": [
        "new_train = pd.get_dummies(new_train, columns=['단지내주차면수_bin'])\n",
        "new_test = pd.get_dummies(new_test, columns=['단지내주차면수_bin'])"
      ],
      "execution_count": 472,
      "outputs": []
    },
    {
      "cell_type": "code",
      "metadata": {
        "id": "9Vye1pDEZRQ5"
      },
      "source": [
        "from sklearn.impute import SimpleImputer\n",
        "\n",
        "for i in new_train.columns:\n",
        "  if new_train[i].dtype == 'object':\n",
        "    continue\n",
        "  new_train[i] = new_train[i].fillna(new_train[i].median())"
      ],
      "execution_count": 473,
      "outputs": []
    },
    {
      "cell_type": "code",
      "metadata": {
        "id": "YVXB9mWfc46u"
      },
      "source": [
        "for i in new_test.columns:\n",
        "  if new_test[i].dtype == 'object':\n",
        "    continue\n",
        "  new_test[i] = new_test[i].fillna(new_test[i].median())"
      ],
      "execution_count": 474,
      "outputs": []
    },
    {
      "cell_type": "code",
      "metadata": {
        "id": "3PeQq2uJy0CM"
      },
      "source": [
        "x_train = new_train.drop(columns=['단지코드', '등록차량수'])\n",
        "y_train = new_train['등록차량수']\n",
        "x_test = new_test.drop(columns=['단지코드'])"
      ],
      "execution_count": 475,
      "outputs": []
    },
    {
      "cell_type": "code",
      "metadata": {
        "id": "FbVBzqwl9736"
      },
      "source": [
        "from sklearn.preprocessing import robust_scale\n",
        "x_train_col = x_train.columns\n",
        "\n",
        "for i in x_train.columns:\n",
        "  if x_train[i].dtype=='object':\n",
        "    continue\n",
        "  x_train[i] = robust_scale(x_train[i])\n",
        "\n",
        "for i in x_test.columns:\n",
        "  if x_test[i].dtype=='object':\n",
        "    continue\n",
        "  x_test[i] = robust_scale(x_test[i])"
      ],
      "execution_count": 600,
      "outputs": []
    },
    {
      "cell_type": "code",
      "metadata": {
        "id": "mRaWsbbmqMWt"
      },
      "source": [
        "# feature selection\n",
        "x_train = new_train.drop(columns=['단지코드', '등록차량수', '면적_100.0', '면적_75.0', '면적_15.0', '면적_40.0', '면적_60.0', '면적_65.0'])\n",
        "y_train = new_train['등록차량수']\n",
        "x_test = new_test.drop(columns=['단지코드', '면적_100.0', '면적_75.0', '면적_15.0', '면적_40.0', '면적_60.0', '면적_65.0'])"
      ],
      "execution_count": null,
      "outputs": []
    },
    {
      "cell_type": "code",
      "metadata": {
        "colab": {
          "base_uri": "https://localhost:8080/"
        },
        "id": "GGPLct-Ms8rW",
        "outputId": "dd07df56-6632-47ad-be5e-4acad870c5b8"
      },
      "source": [
        "pip install catboost"
      ],
      "execution_count": 55,
      "outputs": [
        {
          "output_type": "stream",
          "text": [
            "Collecting catboost\n",
            "\u001b[?25l  Downloading https://files.pythonhosted.org/packages/5a/41/24e14322b9986cf72a8763e0a0a69cc256cf963cf9502c8f0044a62c1ae8/catboost-0.26-cp37-none-manylinux1_x86_64.whl (69.2MB)\n",
            "\u001b[K     |████████████████████████████████| 69.2MB 43kB/s \n",
            "\u001b[?25hRequirement already satisfied: graphviz in /usr/local/lib/python3.7/dist-packages (from catboost) (0.10.1)\n",
            "Requirement already satisfied: matplotlib in /usr/local/lib/python3.7/dist-packages (from catboost) (3.2.2)\n",
            "Requirement already satisfied: plotly in /usr/local/lib/python3.7/dist-packages (from catboost) (4.4.1)\n",
            "Requirement already satisfied: numpy>=1.16.0 in /usr/local/lib/python3.7/dist-packages (from catboost) (1.19.5)\n",
            "Requirement already satisfied: scipy in /usr/local/lib/python3.7/dist-packages (from catboost) (1.4.1)\n",
            "Requirement already satisfied: six in /usr/local/lib/python3.7/dist-packages (from catboost) (1.15.0)\n",
            "Requirement already satisfied: pandas>=0.24.0 in /usr/local/lib/python3.7/dist-packages (from catboost) (1.1.5)\n",
            "Requirement already satisfied: python-dateutil>=2.1 in /usr/local/lib/python3.7/dist-packages (from matplotlib->catboost) (2.8.1)\n",
            "Requirement already satisfied: cycler>=0.10 in /usr/local/lib/python3.7/dist-packages (from matplotlib->catboost) (0.10.0)\n",
            "Requirement already satisfied: pyparsing!=2.0.4,!=2.1.2,!=2.1.6,>=2.0.1 in /usr/local/lib/python3.7/dist-packages (from matplotlib->catboost) (2.4.7)\n",
            "Requirement already satisfied: kiwisolver>=1.0.1 in /usr/local/lib/python3.7/dist-packages (from matplotlib->catboost) (1.3.1)\n",
            "Requirement already satisfied: retrying>=1.3.3 in /usr/local/lib/python3.7/dist-packages (from plotly->catboost) (1.3.3)\n",
            "Requirement already satisfied: pytz>=2017.2 in /usr/local/lib/python3.7/dist-packages (from pandas>=0.24.0->catboost) (2018.9)\n",
            "Installing collected packages: catboost\n",
            "Successfully installed catboost-0.26\n"
          ],
          "name": "stdout"
        }
      ]
    },
    {
      "cell_type": "code",
      "metadata": {
        "id": "2nBtbKgUs_Gb"
      },
      "source": [
        "import catboost\n",
        "from sklearn.model_selection import KFold, StratifiedKFold\n",
        "from sklearn.metrics import mean_absolute_error\n",
        "import lightgbm\n",
        "import xgboost"
      ],
      "execution_count": 56,
      "outputs": []
    },
    {
      "cell_type": "code",
      "metadata": {
        "colab": {
          "base_uri": "https://localhost:8080/"
        },
        "id": "IVO6pxhhtRyN",
        "outputId": "6bfcce53-53f7-4fc3-952c-ce88b7b17d24"
      },
      "source": [
        "skf = StratifiedKFold(n_splits=5, shuffle=True, random_state=42)\n",
        "kf = KFold(n_splits=10, shuffle=True, random_state=42)\n",
        "preds_test_cat = np.zeros((len(x_test)))\n",
        "cat_features = []\n",
        "MAE={}\n",
        "\n",
        "for i in x_train.columns:\n",
        "  if x_train[i].dtype=='float':\n",
        "    continue\n",
        "  elif x_train[i].dtype=='int':\n",
        "    continue\n",
        "  cat_features.append(i)\n",
        "\n",
        "for i,(train_index, valid_index) in enumerate(kf.split(x_train, y_train)):\n",
        "  X_train, X_valid = x_train.iloc[train_index], x_train.iloc[valid_index]\n",
        "  Y_train, Y_valid = y_train.iloc[train_index], y_train.iloc[valid_index]\n",
        "\n",
        "  model_cat = catboost.CatBoostRegressor(learning_rate=0.022, loss_function='MAE', eval_metric='MAE', n_estimators=3000, cat_features=cat_features, use_best_model=True)\n",
        "  model_cat.fit(X_train, Y_train, eval_set=[(X_train, Y_train), (X_valid, Y_valid)], verbose=100, early_stopping_rounds=50)\n",
        "\n",
        "  preds_test_cat = model_cat.predict(x_test)\n",
        "  preds_val = model_cat.predict(X_valid)\n",
        "  MAE[i] = mean_absolute_error(preds_val, Y_valid)\n",
        "  \n",
        "MAE = pd.Series(MAE)\n",
        "print(f'평균 MAE:{MAE.mean()}')"
      ],
      "execution_count": 591,
      "outputs": [
        {
          "output_type": "stream",
          "text": [
            "0:\tlearn: 288.1623043\ttest: 288.1623043\ttest1: 252.5599990\tbest: 252.5599990 (0)\ttotal: 3.35ms\tremaining: 10s\n",
            "100:\tlearn: 120.2760072\ttest: 120.2760072\ttest1: 111.3022383\tbest: 111.2543866 (99)\ttotal: 283ms\tremaining: 8.12s\n",
            "200:\tlearn: 91.3489193\ttest: 91.3489193\ttest1: 100.7485901\tbest: 99.6826778 (180)\ttotal: 567ms\tremaining: 7.89s\n",
            "Stopped by overfitting detector  (50 iterations wait)\n",
            "\n",
            "bestTest = 99.39859199\n",
            "bestIteration = 221\n",
            "\n",
            "Shrink model to first 222 iterations.\n",
            "0:\tlearn: 289.8932780\ttest: 289.8932780\ttest1: 236.5195804\tbest: 236.5195804 (0)\ttotal: 3.04ms\tremaining: 9.12s\n",
            "100:\tlearn: 121.1843220\ttest: 121.1843220\ttest1: 117.2474775\tbest: 117.2474775 (100)\ttotal: 284ms\tremaining: 8.15s\n",
            "200:\tlearn: 92.2091715\ttest: 92.2091715\ttest1: 104.7812740\tbest: 104.7812740 (200)\ttotal: 559ms\tremaining: 7.79s\n",
            "300:\tlearn: 78.2878443\ttest: 78.2878443\ttest1: 98.8128130\tbest: 98.8128130 (300)\ttotal: 836ms\tremaining: 7.49s\n",
            "Stopped by overfitting detector  (50 iterations wait)\n",
            "\n",
            "bestTest = 97.81498057\n",
            "bestIteration = 349\n",
            "\n",
            "Shrink model to first 350 iterations.\n",
            "0:\tlearn: 272.4693464\ttest: 272.4693464\ttest1: 391.9845572\tbest: 391.9845572 (0)\ttotal: 3.19ms\tremaining: 9.56s\n",
            "100:\tlearn: 116.5647365\ttest: 116.5647365\ttest1: 204.1922493\tbest: 204.1922493 (100)\ttotal: 281ms\tremaining: 8.07s\n",
            "200:\tlearn: 89.1663842\ttest: 89.1663842\ttest1: 172.6639307\tbest: 172.6446369 (198)\ttotal: 570ms\tremaining: 7.94s\n",
            "300:\tlearn: 76.1818351\ttest: 76.1818351\ttest1: 165.9262179\tbest: 165.5371234 (284)\ttotal: 856ms\tremaining: 7.68s\n",
            "400:\tlearn: 64.1641358\ttest: 64.1641358\ttest1: 162.3439997\tbest: 162.3147883 (396)\ttotal: 1.13s\tremaining: 7.36s\n",
            "500:\tlearn: 56.0722326\ttest: 56.0722326\ttest1: 160.7942328\tbest: 160.4752156 (487)\ttotal: 1.41s\tremaining: 7.04s\n",
            "Stopped by overfitting detector  (50 iterations wait)\n",
            "\n",
            "bestTest = 160.4752156\n",
            "bestIteration = 487\n",
            "\n",
            "Shrink model to first 488 iterations.\n",
            "0:\tlearn: 287.9399308\ttest: 287.9399308\ttest1: 255.3849514\tbest: 255.3849514 (0)\ttotal: 3.17ms\tremaining: 9.49s\n",
            "100:\tlearn: 121.5892928\ttest: 121.5892928\ttest1: 97.3046735\tbest: 97.3046735 (100)\ttotal: 293ms\tremaining: 8.42s\n",
            "200:\tlearn: 90.9192402\ttest: 90.9192402\ttest1: 89.6676250\tbest: 89.4498650 (171)\ttotal: 563ms\tremaining: 7.84s\n",
            "Stopped by overfitting detector  (50 iterations wait)\n",
            "\n",
            "bestTest = 89.40764767\n",
            "bestIteration = 208\n",
            "\n",
            "Shrink model to first 209 iterations.\n",
            "0:\tlearn: 288.1994636\ttest: 288.1994636\ttest1: 262.1185228\tbest: 262.1185228 (0)\ttotal: 3.19ms\tremaining: 9.57s\n",
            "100:\tlearn: 116.8260702\ttest: 116.8260702\ttest1: 155.5322224\tbest: 155.0021582 (81)\ttotal: 314ms\tremaining: 9.01s\n",
            "Stopped by overfitting detector  (50 iterations wait)\n",
            "\n",
            "bestTest = 155.0021582\n",
            "bestIteration = 81\n",
            "\n",
            "Shrink model to first 82 iterations.\n",
            "0:\tlearn: 283.3119623\ttest: 283.3119623\ttest1: 297.9822847\tbest: 297.9822847 (0)\ttotal: 2.98ms\tremaining: 8.95s\n",
            "100:\tlearn: 118.1565678\ttest: 118.1565678\ttest1: 158.9152178\tbest: 158.9152178 (100)\ttotal: 279ms\tremaining: 8.01s\n",
            "200:\tlearn: 90.2268645\ttest: 90.2268645\ttest1: 137.4468986\tbest: 137.4468986 (200)\ttotal: 550ms\tremaining: 7.66s\n",
            "300:\tlearn: 76.1481865\ttest: 76.1481865\ttest1: 133.3280117\tbest: 133.3280117 (300)\ttotal: 840ms\tremaining: 7.53s\n",
            "400:\tlearn: 63.3604981\ttest: 63.3604981\ttest1: 130.8031968\tbest: 130.8031968 (400)\ttotal: 1.12s\tremaining: 7.28s\n",
            "500:\tlearn: 55.1798318\ttest: 55.1798318\ttest1: 129.7976623\tbest: 129.5152655 (493)\ttotal: 1.4s\tremaining: 6.99s\n",
            "600:\tlearn: 49.6018602\ttest: 49.6018602\ttest1: 127.5306844\tbest: 127.3281720 (590)\ttotal: 1.7s\tremaining: 6.78s\n",
            "700:\tlearn: 44.6492304\ttest: 44.6492304\ttest1: 126.6899267\tbest: 126.6371420 (699)\ttotal: 1.99s\tremaining: 6.52s\n",
            "Stopped by overfitting detector  (50 iterations wait)\n",
            "\n",
            "bestTest = 126.637142\n",
            "bestIteration = 699\n",
            "\n",
            "Shrink model to first 700 iterations.\n",
            "0:\tlearn: 285.9589597\ttest: 285.9589597\ttest1: 280.3520466\tbest: 280.3520466 (0)\ttotal: 3.03ms\tremaining: 9.1s\n",
            "100:\tlearn: 121.2040503\ttest: 121.2040503\ttest1: 124.1732915\tbest: 124.1732915 (100)\ttotal: 284ms\tremaining: 8.15s\n",
            "200:\tlearn: 91.2200229\ttest: 91.2200229\ttest1: 115.5460814\tbest: 115.5460814 (200)\ttotal: 572ms\tremaining: 7.97s\n",
            "300:\tlearn: 76.1343151\ttest: 76.1343151\ttest1: 111.4792446\tbest: 111.2908745 (298)\ttotal: 859ms\tremaining: 7.7s\n",
            "Stopped by overfitting detector  (50 iterations wait)\n",
            "\n",
            "bestTest = 111.0775445\n",
            "bestIteration = 330\n",
            "\n",
            "Shrink model to first 331 iterations.\n",
            "0:\tlearn: 279.1452589\ttest: 279.1452589\ttest1: 335.1735228\tbest: 335.1735228 (0)\ttotal: 2.95ms\tremaining: 8.86s\n",
            "100:\tlearn: 119.7612837\ttest: 119.7612837\ttest1: 142.1194130\tbest: 142.1194130 (100)\ttotal: 284ms\tremaining: 8.15s\n",
            "200:\tlearn: 92.7295308\ttest: 92.7295308\ttest1: 122.5089206\tbest: 122.4123233 (199)\ttotal: 568ms\tremaining: 7.91s\n",
            "300:\tlearn: 80.2933617\ttest: 80.2933617\ttest1: 117.5453410\tbest: 117.3925733 (292)\ttotal: 843ms\tremaining: 7.56s\n",
            "400:\tlearn: 67.6997271\ttest: 67.6997271\ttest1: 113.8762870\tbest: 113.4885662 (386)\ttotal: 1.13s\tremaining: 7.29s\n",
            "Stopped by overfitting detector  (50 iterations wait)\n",
            "\n",
            "bestTest = 113.4484101\n",
            "bestIteration = 426\n",
            "\n",
            "Shrink model to first 427 iterations.\n",
            "0:\tlearn: 283.1342142\ttest: 283.1342142\ttest1: 305.3830466\tbest: 305.3830466 (0)\ttotal: 3.09ms\tremaining: 9.27s\n",
            "100:\tlearn: 117.7419763\ttest: 117.7419763\ttest1: 164.1366213\tbest: 164.1366213 (100)\ttotal: 280ms\tremaining: 8.05s\n",
            "200:\tlearn: 90.2406599\ttest: 90.2406599\ttest1: 150.6332281\tbest: 150.6016544 (189)\ttotal: 556ms\tremaining: 7.75s\n",
            "300:\tlearn: 76.1672243\ttest: 76.1672243\ttest1: 148.7896293\tbest: 148.7274881 (298)\ttotal: 838ms\tremaining: 7.51s\n",
            "400:\tlearn: 65.0638650\ttest: 65.0638650\ttest1: 145.4041040\tbest: 145.3859755 (398)\ttotal: 1.14s\tremaining: 7.36s\n",
            "500:\tlearn: 56.0568245\ttest: 56.0568245\ttest1: 144.6583163\tbest: 144.2853664 (485)\ttotal: 1.41s\tremaining: 7.05s\n",
            "600:\tlearn: 49.1859671\ttest: 49.1859671\ttest1: 143.0026903\tbest: 143.0026903 (600)\ttotal: 1.69s\tremaining: 6.75s\n",
            "Stopped by overfitting detector  (50 iterations wait)\n",
            "\n",
            "bestTest = 142.7820325\n",
            "bestIteration = 611\n",
            "\n",
            "Shrink model to first 612 iterations.\n",
            "0:\tlearn: 290.0222982\ttest: 290.0222982\ttest1: 235.0490466\tbest: 235.0490466 (0)\ttotal: 6.46ms\tremaining: 19.4s\n",
            "100:\tlearn: 118.8420962\ttest: 118.8420962\ttest1: 126.2059072\tbest: 126.2059072 (100)\ttotal: 283ms\tremaining: 8.12s\n",
            "200:\tlearn: 89.5983185\ttest: 89.5983185\ttest1: 117.1332375\tbest: 116.9735945 (195)\ttotal: 559ms\tremaining: 7.78s\n",
            "Stopped by overfitting detector  (50 iterations wait)\n",
            "\n",
            "bestTest = 116.8745922\n",
            "bestIteration = 209\n",
            "\n",
            "Shrink model to first 210 iterations.\n",
            "평균 MAE:121.29183252420792\n"
          ],
          "name": "stdout"
        }
      ]
    },
    {
      "cell_type": "code",
      "metadata": {
        "colab": {
          "base_uri": "https://localhost:8080/",
          "height": 358
        },
        "id": "hMh4lUAeKkaa",
        "outputId": "34ca486c-78ee-4ba0-9762-fc1240bcb29d"
      },
      "source": [
        "fig, ax = plt.subplots(figsize=(8,5))\n",
        "ax.plot(pd.Series(preds_val, index=Y_valid.index), label='Preds_Valid')\n",
        "ax.plot(Y_valid, label='Y_Valid')\n",
        "ax.legend()\n",
        "ax.set_title('preds vs y', fontsize=18, fontweight='bold')"
      ],
      "execution_count": 592,
      "outputs": [
        {
          "output_type": "execute_result",
          "data": {
            "text/plain": [
              "Text(0.5, 1.0, 'preds vs y')"
            ]
          },
          "metadata": {
            "tags": []
          },
          "execution_count": 592
        },
        {
          "output_type": "display_data",
          "data": {
            "image/png": "[encoded data removed]",
            "text/plain": [
              "<Figure size 576x360 with 1 Axes>"
            ]
          },
          "metadata": {
            "tags": [],
            "needs_background": "light"
          }
        }
      ]
    },
    {
      "cell_type": "code",
      "metadata": {
        "colab": {
          "base_uri": "https://localhost:8080/"
        },
        "id": "a15LWCQqlifR",
        "outputId": "0abea7e6-34f5-475b-e94d-728a8d378b2e"
      },
      "source": [
        "pd.Series(model_cat.feature_importances_, index=x_train.columns).sort_values(ascending=False)"
      ],
      "execution_count": 479,
      "outputs": [
        {
          "output_type": "execute_result",
          "data": {
            "text/plain": [
              "단지내주차면수          32.996444\n",
              "단지내주차면수_bin_e     5.723744\n",
              "공실율               3.869600\n",
              "총세대수              3.657424\n",
              "면적_35.0           3.342364\n",
              "                   ...    \n",
              "면적_75.0           0.000000\n",
              "면적_65.0           0.000000\n",
              "공공분양              0.000000\n",
              "공공임대(분납)          0.000000\n",
              "장기전세              0.000000\n",
              "Length: 63, dtype: float64"
            ]
          },
          "metadata": {
            "tags": []
          },
          "execution_count": 479
        }
      ]
    },
    {
      "cell_type": "code",
      "metadata": {
        "id": "qMM-B-I_ds2R"
      },
      "source": [
        "# lgbm으로 모델링\n",
        "local_map = {}\n",
        "for i, loc in enumerate(new_train['지역'].unique()):\n",
        "    local_map[loc] = i\n",
        "\n",
        "new_train['지역'] = new_train['지역'].map(local_map)\n",
        "new_test['지역'] = new_test['지역'].map(local_map)\n",
        "\n",
        "\n",
        "x_train = new_train.drop(columns=['단지코드', '등록차량수'])\n",
        "y_train = new_train['등록차량수']\n",
        "x_test = new_test.drop(columns=['단지코드'])"
      ],
      "execution_count": 593,
      "outputs": []
    },
    {
      "cell_type": "code",
      "metadata": {
        "colab": {
          "base_uri": "https://localhost:8080/"
        },
        "id": "3XH-iCNkeKHf",
        "outputId": "8e50aa7e-8233-4789-fe6b-d557ca16f440"
      },
      "source": [
        "x_train.shape, x_test.shape"
      ],
      "execution_count": 538,
      "outputs": [
        {
          "output_type": "execute_result",
          "data": {
            "text/plain": [
              "((423, 76), (150, 76))"
            ]
          },
          "metadata": {
            "tags": []
          },
          "execution_count": 538
        }
      ]
    },
    {
      "cell_type": "code",
      "metadata": {
        "colab": {
          "base_uri": "https://localhost:8080/"
        },
        "id": "BuC6WWnIdpYo",
        "outputId": "3de3ffd6-41d8-426a-ad9e-f9513e1a924e"
      },
      "source": [
        "skf = StratifiedKFold(n_splits=5, shuffle=True, random_state=42)\n",
        "preds_test_lgbm = np.zeros((len(x_test)))\n",
        "param_lgbm = {'learning_rate':0.026, 'objective':'MAE'}\n",
        "MAE={}\n",
        "for i,(train_index, valid_index) in enumerate(kf.split(x_train, y_train)):\n",
        "  X_train, X_valid = x_train.iloc[train_index], x_train.iloc[valid_index]\n",
        "  Y_train, Y_valid = y_train.iloc[train_index], y_train.iloc[valid_index]\n",
        "\n",
        "  model_lgbm = lightgbm.LGBMRegressor(n_estimators=3000, **param_lgbm)\n",
        "  model_lgbm.fit(X_train, Y_train, eval_set=[(X_train, Y_train), (X_valid, Y_valid)], verbose=100, early_stopping_rounds=70, eval_metric='MAE')\n",
        "\n",
        "  preds_test_lgbm = model_lgbm.predict(x_test)\n",
        "  preds_valid = model_lgbm.predict(X_valid)\n",
        "  MAE[i] = mean_absolute_error(preds_valid, Y_valid)\n",
        "  \n",
        "MAE = pd.Series(MAE)\n",
        "print(f'평균 MAE:{MAE.mean()}')"
      ],
      "execution_count": 601,
      "outputs": [
        {
          "output_type": "stream",
          "text": [
            "Training until validation scores don't improve for 70 rounds.\n",
            "[100]\ttraining's l1: 103.612\tvalid_1's l1: 105.505\n",
            "Early stopping, best iteration is:\n",
            "[123]\ttraining's l1: 95.7316\tvalid_1's l1: 104.769\n",
            "Training until validation scores don't improve for 70 rounds.\n",
            "[100]\ttraining's l1: 103.234\tvalid_1's l1: 110.708\n",
            "[200]\ttraining's l1: 83.3633\tvalid_1's l1: 102.946\n",
            "[300]\ttraining's l1: 76.3039\tvalid_1's l1: 101.899\n",
            "[400]\ttraining's l1: 72.2015\tvalid_1's l1: 101.919\n",
            "Early stopping, best iteration is:\n",
            "[334]\ttraining's l1: 74.7201\tvalid_1's l1: 101.65\n",
            "Training until validation scores don't improve for 70 rounds.\n",
            "[100]\ttraining's l1: 95.8187\tvalid_1's l1: 177.181\n",
            "[200]\ttraining's l1: 78.2056\tvalid_1's l1: 166.949\n",
            "[300]\ttraining's l1: 71.677\tvalid_1's l1: 165.762\n",
            "Early stopping, best iteration is:\n",
            "[329]\ttraining's l1: 70.4649\tvalid_1's l1: 165.186\n",
            "Training until validation scores don't improve for 70 rounds.\n",
            "[100]\ttraining's l1: 104.696\tvalid_1's l1: 101.14\n",
            "[200]\ttraining's l1: 83.9552\tvalid_1's l1: 98.4351\n",
            "Early stopping, best iteration is:\n",
            "[145]\ttraining's l1: 92.2469\tvalid_1's l1: 96.6586\n",
            "Training until validation scores don't improve for 70 rounds.\n",
            "[100]\ttraining's l1: 97.8141\tvalid_1's l1: 150.87\n",
            "Early stopping, best iteration is:\n",
            "[77]\ttraining's l1: 110.642\tvalid_1's l1: 150.138\n",
            "Training until validation scores don't improve for 70 rounds.\n",
            "[100]\ttraining's l1: 101.05\tvalid_1's l1: 153.193\n",
            "[200]\ttraining's l1: 82.107\tvalid_1's l1: 138.316\n",
            "[300]\ttraining's l1: 75.1952\tvalid_1's l1: 135.287\n",
            "[400]\ttraining's l1: 71.2034\tvalid_1's l1: 132.701\n",
            "[500]\ttraining's l1: 68.2555\tvalid_1's l1: 131.853\n",
            "Early stopping, best iteration is:\n",
            "[497]\ttraining's l1: 68.3821\tvalid_1's l1: 131.709\n",
            "Training until validation scores don't improve for 70 rounds.\n",
            "[100]\ttraining's l1: 101.769\tvalid_1's l1: 116.255\n",
            "[200]\ttraining's l1: 83.5871\tvalid_1's l1: 112.962\n",
            "[300]\ttraining's l1: 76.2452\tvalid_1's l1: 111.971\n",
            "[400]\ttraining's l1: 72.422\tvalid_1's l1: 111.577\n",
            "Early stopping, best iteration is:\n",
            "[352]\ttraining's l1: 74.1952\tvalid_1's l1: 111.419\n",
            "Training until validation scores don't improve for 70 rounds.\n",
            "[100]\ttraining's l1: 101.647\tvalid_1's l1: 150.982\n",
            "[200]\ttraining's l1: 82.634\tvalid_1's l1: 134.165\n",
            "[300]\ttraining's l1: 75.571\tvalid_1's l1: 132.801\n",
            "[400]\ttraining's l1: 71.6077\tvalid_1's l1: 131.869\n",
            "Early stopping, best iteration is:\n",
            "[405]\ttraining's l1: 71.4994\tvalid_1's l1: 131.83\n",
            "Training until validation scores don't improve for 70 rounds.\n",
            "[100]\ttraining's l1: 97.4773\tvalid_1's l1: 162.664\n",
            "[200]\ttraining's l1: 80.0136\tvalid_1's l1: 151.776\n",
            "[300]\ttraining's l1: 73.2278\tvalid_1's l1: 150.969\n",
            "Early stopping, best iteration is:\n",
            "[264]\ttraining's l1: 75.1922\tvalid_1's l1: 150.62\n",
            "Training until validation scores don't improve for 70 rounds.\n",
            "[100]\ttraining's l1: 101.105\tvalid_1's l1: 120.856\n",
            "[200]\ttraining's l1: 81.8803\tvalid_1's l1: 119.841\n",
            "Early stopping, best iteration is:\n",
            "[151]\ttraining's l1: 88.3167\tvalid_1's l1: 119.043\n",
            "평균 MAE:126.30226723654532\n"
          ],
          "name": "stdout"
        }
      ]
    },
    {
      "cell_type": "code",
      "metadata": {
        "colab": {
          "base_uri": "https://localhost:8080/"
        },
        "id": "zZvOmGgWBkAP",
        "outputId": "0ac00ca0-59b8-44d9-a019-6f32aa44019a"
      },
      "source": [
        "lgbm_importance = pd.Series(model_lgbm.feature_importances_, index=x_train.columns).sort_values(ascending=False)\n",
        "feature_selection_lgbm = lgbm_importance.loc[lgbm_importance<1].T\n",
        "lgbm_importance"
      ],
      "execution_count": 602,
      "outputs": [
        {
          "output_type": "execute_result",
          "data": {
            "text/plain": [
              "단지내주차면수                         356\n",
              "전용면적                            252\n",
              "총세대수                            213\n",
              "공실율                             187\n",
              "임대보증금                           171\n",
              "세대당주차면수                         161\n",
              "전용면적별세대수                        134\n",
              "임대료                             132\n",
              "공가수                             114\n",
              "아파트                              67\n",
              "도보 10분거리 내 버스정류장 수               63\n",
              "국민임대                             60\n",
              "도보 10분거리 내 지하철역 수(환승노선 수 반영)     32\n",
              "단지내주차면수_bin_b                    19\n",
              "단지내주차면수_bin_c                     8\n",
              "단지내주차면수_bin_e                     4\n",
              "영구임대                              4\n",
              "공공임대(10년)                         2\n",
              "단지내주차면수_bin_d                     2\n",
              "공공분양                              0\n",
              "공공임대(5년)                          0\n",
              "공공임대(분납)                          0\n",
              "임대상가                              0\n",
              "장기전세                              0\n",
              "행복주택                              0\n",
              "상가                                0\n",
              "단지내주차면수_bin_a                     0\n",
              "공공임대(50년)                         0\n",
              "dtype: int64"
            ]
          },
          "metadata": {
            "tags": []
          },
          "execution_count": 602
        }
      ]
    },
    {
      "cell_type": "code",
      "metadata": {
        "colab": {
          "base_uri": "https://localhost:8080/",
          "height": 358
        },
        "id": "5Pwed46GxB_G",
        "outputId": "919b051c-c1ed-432a-beba-41f0c7eb8525"
      },
      "source": [
        "fig, ax = plt.subplots(figsize=(8,5))\n",
        "ax.plot(pd.Series(preds_valid, index=Y_valid.index), label='Preds_Valid')\n",
        "ax.plot(Y_valid, label='Y_Valid')\n",
        "ax.legend()\n",
        "ax.set_title('preds vs y', fontsize=18, fontweight='bold')"
      ],
      "execution_count": 604,
      "outputs": [
        {
          "output_type": "execute_result",
          "data": {
            "text/plain": [
              "Text(0.5, 1.0, 'preds vs y')"
            ]
          },
          "metadata": {
            "tags": []
          },
          "execution_count": 604
        },
        {
          "output_type": "display_data",
          "data": {
            "image/png": "[encoded data removed]",
            "text/plain": [
              "<Figure size 576x360 with 1 Axes>"
            ]
          },
          "metadata": {
            "tags": [],
            "needs_background": "light"
          }
        }
      ]
    },
    {
      "cell_type": "code",
      "metadata": {
        "colab": {
          "base_uri": "https://localhost:8080/"
        },
        "id": "H-IQ8pTvl5I0",
        "outputId": "7ccfb9d8-478f-4676-cba2-af2daaacbb93"
      },
      "source": [
        "skf = StratifiedKFold(n_splits=5, shuffle=True, random_state=42)\n",
        "preds_test_xgb = np.zeros((len(x_test)))\n",
        "param_xgb = {'learning_rate':0.026}\n",
        "\n",
        "for i,(train_index, valid_index) in enumerate(skf.split(x_train, y_train)):\n",
        "  X_train, X_valid = x_train.iloc[train_index], x_train.iloc[valid_index]\n",
        "  Y_train, Y_valid = y_train.iloc[train_index], y_train.iloc[valid_index]\n",
        "\n",
        "  model_xgb = xgboost.XGBRegressor(n_estimators=3000, **param_xgb)\n",
        "  model_xgb.fit(X_train, Y_train, eval_set=[(X_train, Y_train), (X_valid, Y_valid)], verbose=100, early_stopping_rounds=70, eval_metric='mae')\n",
        "\n",
        "  preds_test_xgb = model_xgb.predict(x_test)\n",
        "  preds_valid = model_xgb.predict(X_valid)"
      ],
      "execution_count": 605,
      "outputs": [
        {
          "output_type": "stream",
          "text": [
            "[10:12:22] WARNING: /workspace/src/objective/regression_obj.cu:152: reg:linear is now deprecated in favor of reg:squarederror.\n",
            "[0]\tvalidation_0-mae:537.225\tvalidation_1-mae:637.047\n",
            "Multiple eval metrics have been passed: 'validation_1-mae' will be used for early stopping.\n",
            "\n",
            "Will train until validation_1-mae hasn't improved in 70 rounds.\n",
            "[100]\tvalidation_0-mae:95.3577\tvalidation_1-mae:156.001\n",
            "[200]\tvalidation_0-mae:70.4963\tvalidation_1-mae:151.467\n",
            "[300]\tvalidation_0-mae:60.8149\tvalidation_1-mae:150.414\n",
            "Stopping. Best iteration:\n",
            "[276]\tvalidation_0-mae:62.9394\tvalidation_1-mae:150.111\n",
            "\n",
            "[10:12:22] WARNING: /workspace/src/objective/regression_obj.cu:152: reg:linear is now deprecated in favor of reg:squarederror.\n",
            "[0]\tvalidation_0-mae:566.207\tvalidation_1-mae:521.986\n",
            "Multiple eval metrics have been passed: 'validation_1-mae' will be used for early stopping.\n",
            "\n",
            "Will train until validation_1-mae hasn't improved in 70 rounds.\n",
            "[100]\tvalidation_0-mae:107.229\tvalidation_1-mae:111.712\n",
            "[200]\tvalidation_0-mae:80.8352\tvalidation_1-mae:102.429\n",
            "Stopping. Best iteration:\n",
            "[201]\tvalidation_0-mae:80.7561\tvalidation_1-mae:102.346\n",
            "\n",
            "[10:12:23] WARNING: /workspace/src/objective/regression_obj.cu:152: reg:linear is now deprecated in favor of reg:squarederror.\n",
            "[0]\tvalidation_0-mae:542.425\tvalidation_1-mae:616.952\n",
            "Multiple eval metrics have been passed: 'validation_1-mae' will be used for early stopping.\n",
            "\n",
            "Will train until validation_1-mae hasn't improved in 70 rounds.\n",
            "[100]\tvalidation_0-mae:97.7334\tvalidation_1-mae:159.958\n",
            "[200]\tvalidation_0-mae:75.8178\tvalidation_1-mae:150.653\n",
            "Stopping. Best iteration:\n",
            "[205]\tvalidation_0-mae:75.3852\tvalidation_1-mae:150.548\n",
            "\n",
            "[10:12:23] WARNING: /workspace/src/objective/regression_obj.cu:152: reg:linear is now deprecated in favor of reg:squarederror.\n",
            "[0]\tvalidation_0-mae:569.186\tvalidation_1-mae:509.573\n",
            "Multiple eval metrics have been passed: 'validation_1-mae' will be used for early stopping.\n",
            "\n",
            "Will train until validation_1-mae hasn't improved in 70 rounds.\n",
            "[100]\tvalidation_0-mae:102.813\tvalidation_1-mae:130.106\n",
            "[200]\tvalidation_0-mae:75.3654\tvalidation_1-mae:127.703\n",
            "Stopping. Best iteration:\n",
            "[145]\tvalidation_0-mae:85.4397\tvalidation_1-mae:126.857\n",
            "\n",
            "[10:12:24] WARNING: /workspace/src/objective/regression_obj.cu:152: reg:linear is now deprecated in favor of reg:squarederror.\n",
            "[0]\tvalidation_0-mae:571.557\tvalidation_1-mae:500.455\n",
            "Multiple eval metrics have been passed: 'validation_1-mae' will be used for early stopping.\n",
            "\n",
            "Will train until validation_1-mae hasn't improved in 70 rounds.\n",
            "[100]\tvalidation_0-mae:101.922\tvalidation_1-mae:144.616\n",
            "[200]\tvalidation_0-mae:77.0651\tvalidation_1-mae:130.23\n",
            "[300]\tvalidation_0-mae:67.1377\tvalidation_1-mae:128.575\n",
            "[400]\tvalidation_0-mae:60.5515\tvalidation_1-mae:128.399\n",
            "Stopping. Best iteration:\n",
            "[367]\tvalidation_0-mae:62.6179\tvalidation_1-mae:127.939\n",
            "\n"
          ],
          "name": "stdout"
        }
      ]
    },
    {
      "cell_type": "code",
      "metadata": {
        "colab": {
          "base_uri": "https://localhost:8080/"
        },
        "id": "aIEW8NfovMiN",
        "outputId": "71eca128-0ea9-4b33-a1da-c0c3662d5e0b"
      },
      "source": [
        "from sklearn.linear_model import ElasticNet\n",
        "\n",
        "skf = StratifiedKFold(n_splits=5, shuffle=True, random_state=42)\n",
        "preds_test_Ela = np.zeros((len(x_test)))\n",
        "\n",
        "for i,(train_index, valid_index) in enumerate(kf.split(x_train, y_train)):\n",
        "  X_train, X_valid = x_train.iloc[train_index], x_train.iloc[valid_index]\n",
        "  Y_train, Y_valid = y_train.iloc[train_index], y_train.iloc[valid_index]\n",
        "\n",
        "  model_Ela = ElasticNet(alpha=0.5, random_state=42)\n",
        "  model_Ela.fit(X_train, Y_train)\n",
        "\n",
        "  preds_test_Ela = model_Ela.predict(x_test)\n",
        "  preds_valid = model_Ela.predict(X_valid)\n",
        "  MAE = mean_absolute_error(Y_valid, preds_valid)\n",
        "  print(f'{i+1}번째 MAE:{MAE}')\n"
      ],
      "execution_count": 606,
      "outputs": [
        {
          "output_type": "stream",
          "text": [
            "1번째 MAE:111.81936810236601\n",
            "2번째 MAE:119.26630881361248\n",
            "3번째 MAE:176.62661435245164\n",
            "4번째 MAE:135.58877387437366\n",
            "5번째 MAE:155.86696232204318\n",
            "6번째 MAE:139.16423615402724\n",
            "7번째 MAE:134.9577239208919\n",
            "8번째 MAE:136.5788804132328\n",
            "9번째 MAE:163.0186198517707\n",
            "10번째 MAE:125.37263458086738\n"
          ],
          "name": "stdout"
        }
      ]
    },
    {
      "cell_type": "code",
      "metadata": {
        "colab": {
          "base_uri": "https://localhost:8080/",
          "height": 358
        },
        "id": "HwP43-cA7uI6",
        "outputId": "cc3d8b19-da66-4e7b-aa9a-85e32c524560"
      },
      "source": [
        "fig, ax = plt.subplots(figsize=(8,5))\n",
        "ax.plot(pd.Series(preds_valid, index=Y_valid.index), label='Preds_Valid')\n",
        "ax.plot(Y_valid, label='Y_Valid')\n",
        "ax.legend()\n",
        "ax.set_title('preds vs y', fontsize=18, fontweight='bold')"
      ],
      "execution_count": 607,
      "outputs": [
        {
          "output_type": "execute_result",
          "data": {
            "text/plain": [
              "Text(0.5, 1.0, 'preds vs y')"
            ]
          },
          "metadata": {
            "tags": []
          },
          "execution_count": 607
        },
        {
          "output_type": "display_data",
          "data": {
            "image/png": "[encoded data removed]",
            "text/plain": [
              "<Figure size 576x360 with 1 Axes>"
            ]
          },
          "metadata": {
            "tags": [],
            "needs_background": "light"
          }
        }
      ]
    },
    {
      "cell_type": "markdown",
      "metadata": {
        "id": "pA4BjJab7NUB"
      },
      "source": [
        "# Cross validate 모델 사용"
      ]
    },
    {
      "cell_type": "code",
      "metadata": {
        "id": "iKr09yUc4-DI"
      },
      "source": [
        "from sklearn.metrics import make_scorer\n",
        "from sklearn.linear_model import LinearRegression, Ridge, Lasso\n",
        "from sklearn.tree import DecisionTreeRegressor, ExtraTreeRegressor\n",
        "from sklearn.model_selection import cross_val_score, cross_validate, cross_val_predict\n",
        "\n",
        "scorer = make_scorer(mean_absolute_error, greater_is_better=False)"
      ],
      "execution_count": 306,
      "outputs": []
    },
    {
      "cell_type": "code",
      "metadata": {
        "colab": {
          "base_uri": "https://localhost:8080/"
        },
        "id": "AVqkNg7g4jt2",
        "outputId": "fd0d710a-d581-4eaf-e3cc-df2ad65b7e65"
      },
      "source": [
        "# ElasticNet\n",
        "cross_val = cross_validate(model_Ela, x_train, y_train, scoring=scorer, cv=30, n_jobs=-1, return_estimator=True)\n",
        "cross_val['test_score'].mean()"
      ],
      "execution_count": 608,
      "outputs": [
        {
          "output_type": "execute_result",
          "data": {
            "text/plain": [
              "-138.85050394976875"
            ]
          },
          "metadata": {
            "tags": []
          },
          "execution_count": 608
        }
      ]
    },
    {
      "cell_type": "code",
      "metadata": {
        "colab": {
          "base_uri": "https://localhost:8080/"
        },
        "id": "IhIkiyadjS5m",
        "outputId": "44ce857d-2327-40d2-b12c-39c525a73753"
      },
      "source": [
        "# Ridge\n",
        "cross_val = cross_validate(Ridge(alpha=0.5, max_iter=1000, random_state=42, normalize=True), x_train, y_train, scoring=scorer, cv=30, n_jobs=-1, return_estimator=True)\n",
        "cross_val['test_score'].mean()"
      ],
      "execution_count": 609,
      "outputs": [
        {
          "output_type": "execute_result",
          "data": {
            "text/plain": [
              "-136.14158399261083"
            ]
          },
          "metadata": {
            "tags": []
          },
          "execution_count": 609
        }
      ]
    },
    {
      "cell_type": "code",
      "metadata": {
        "colab": {
          "base_uri": "https://localhost:8080/"
        },
        "id": "eWNclEuDlgA_",
        "outputId": "d82fbe89-8934-40cc-8af1-267d3b8fa03e"
      },
      "source": [
        "# Lasso\n",
        "cross_val = cross_validate(Lasso(alpha=0.5, random_state=42, normalize=True), x_train, y_train, scoring=scorer, cv=30, n_jobs=-1)\n",
        "cross_val['test_score'].mean()"
      ],
      "execution_count": 610,
      "outputs": [
        {
          "output_type": "execute_result",
          "data": {
            "text/plain": [
              "-127.90885931704257"
            ]
          },
          "metadata": {
            "tags": []
          },
          "execution_count": 610
        }
      ]
    },
    {
      "cell_type": "code",
      "metadata": {
        "colab": {
          "base_uri": "https://localhost:8080/"
        },
        "id": "rNk9fPFOjQMt",
        "outputId": "817880c7-60ca-42c5-b83c-99e9a3c03aa6"
      },
      "source": [
        "# linear\n",
        "cross_val = cross_validate(LinearRegression(n_jobs=-1), x_train, y_train, scoring=scorer, cv=30, n_jobs=-1, return_estimator=True)\n",
        "cross_val['test_score'].mean()"
      ],
      "execution_count": 310,
      "outputs": [
        {
          "output_type": "execute_result",
          "data": {
            "text/plain": [
              "-133.20744593565888"
            ]
          },
          "metadata": {
            "tags": []
          },
          "execution_count": 310
        }
      ]
    },
    {
      "cell_type": "code",
      "metadata": {
        "colab": {
          "base_uri": "https://localhost:8080/"
        },
        "id": "fMnIWLXMk7xl",
        "outputId": "c642a8fe-477b-4c53-8395-a86ace9894c8"
      },
      "source": [
        "# Decision\n",
        "cross_val = cross_validate(DecisionTreeRegressor(criterion='mae', random_state=42), x_train, y_train, scoring=scorer, cv=30, n_jobs=-1, return_estimator=True)\n",
        "cross_val['test_score'].mean()"
      ],
      "execution_count": 311,
      "outputs": [
        {
          "output_type": "execute_result",
          "data": {
            "text/plain": [
              "-186.73984126984126"
            ]
          },
          "metadata": {
            "tags": []
          },
          "execution_count": 311
        }
      ]
    },
    {
      "cell_type": "code",
      "metadata": {
        "colab": {
          "base_uri": "https://localhost:8080/"
        },
        "id": "gvd3_8ZmlDyL",
        "outputId": "ec674dd0-6bbd-48a4-ad3b-44d8876a541e"
      },
      "source": [
        "# Extra\n",
        "cross_val = cross_validate(ExtraTreeRegressor(criterion='mae', random_state=42), x_train, y_train, scoring=scorer, cv=30, n_jobs=-1, return_estimator=True)\n",
        "cross_val['test_score'].mean()"
      ],
      "execution_count": 312,
      "outputs": [
        {
          "output_type": "execute_result",
          "data": {
            "text/plain": [
              "-195.00920634920632"
            ]
          },
          "metadata": {
            "tags": []
          },
          "execution_count": 312
        }
      ]
    },
    {
      "cell_type": "code",
      "metadata": {
        "colab": {
          "base_uri": "https://localhost:8080/",
          "height": 351
        },
        "id": "FFH-ueSplJy_",
        "outputId": "9c1279e4-f23f-4e91-fa18-52827df38505"
      },
      "source": [
        "# XGBoost\n",
        "cross_val = cross_validate(model_xgb, x_train, y_train, scoring=scorer, cv=30, n_jobs=-1, return_estimator=True)\n",
        "cross_val['test_score'].mean()"
      ],
      "execution_count": 611,
      "outputs": [
        {
          "output_type": "error",
          "ename": "KeyboardInterrupt",
          "evalue": "ignored",
          "traceback": [
            "\u001b[0;31m---------------------------------------------------------------------------\u001b[0m",
            "\u001b[0;31mKeyboardInterrupt\u001b[0m                         Traceback (most recent call last)",
            "\u001b[0;32m<ipython-input-611-b193c90de784>\u001b[0m in \u001b[0;36m<module>\u001b[0;34m()\u001b[0m\n\u001b[1;32m      1\u001b[0m \u001b[0;31m# XGBoost\u001b[0m\u001b[0;34m\u001b[0m\u001b[0;34m\u001b[0m\u001b[0;34m\u001b[0m\u001b[0m\n\u001b[0;32m----> 2\u001b[0;31m \u001b[0mcross_val\u001b[0m \u001b[0;34m=\u001b[0m \u001b[0mcross_validate\u001b[0m\u001b[0;34m(\u001b[0m\u001b[0mmodel_xgb\u001b[0m\u001b[0;34m,\u001b[0m \u001b[0mx_train\u001b[0m\u001b[0;34m,\u001b[0m \u001b[0my_train\u001b[0m\u001b[0;34m,\u001b[0m \u001b[0mscoring\u001b[0m\u001b[0;34m=\u001b[0m\u001b[0mscorer\u001b[0m\u001b[0;34m,\u001b[0m \u001b[0mcv\u001b[0m\u001b[0;34m=\u001b[0m\u001b[0;36m30\u001b[0m\u001b[0;34m,\u001b[0m \u001b[0mn_jobs\u001b[0m\u001b[0;34m=\u001b[0m\u001b[0;34m-\u001b[0m\u001b[0;36m1\u001b[0m\u001b[0;34m,\u001b[0m \u001b[0mreturn_estimator\u001b[0m\u001b[0;34m=\u001b[0m\u001b[0;32mTrue\u001b[0m\u001b[0;34m)\u001b[0m\u001b[0;34m\u001b[0m\u001b[0;34m\u001b[0m\u001b[0m\n\u001b[0m\u001b[1;32m      3\u001b[0m \u001b[0mcross_val\u001b[0m\u001b[0;34m[\u001b[0m\u001b[0;34m'test_score'\u001b[0m\u001b[0;34m]\u001b[0m\u001b[0;34m.\u001b[0m\u001b[0mmean\u001b[0m\u001b[0;34m(\u001b[0m\u001b[0;34m)\u001b[0m\u001b[0;34m\u001b[0m\u001b[0;34m\u001b[0m\u001b[0m\n",
            "\u001b[0;32m/usr/local/lib/python3.7/dist-packages/sklearn/model_selection/_validation.py\u001b[0m in \u001b[0;36mcross_validate\u001b[0;34m(estimator, X, y, groups, scoring, cv, n_jobs, verbose, fit_params, pre_dispatch, return_train_score, return_estimator, error_score)\u001b[0m\n\u001b[1;32m    234\u001b[0m             \u001b[0mreturn_times\u001b[0m\u001b[0;34m=\u001b[0m\u001b[0;32mTrue\u001b[0m\u001b[0;34m,\u001b[0m \u001b[0mreturn_estimator\u001b[0m\u001b[0;34m=\u001b[0m\u001b[0mreturn_estimator\u001b[0m\u001b[0;34m,\u001b[0m\u001b[0;34m\u001b[0m\u001b[0;34m\u001b[0m\u001b[0m\n\u001b[1;32m    235\u001b[0m             error_score=error_score)\n\u001b[0;32m--> 236\u001b[0;31m         for train, test in cv.split(X, y, groups))\n\u001b[0m\u001b[1;32m    237\u001b[0m \u001b[0;34m\u001b[0m\u001b[0m\n\u001b[1;32m    238\u001b[0m     \u001b[0mzipped_scores\u001b[0m \u001b[0;34m=\u001b[0m \u001b[0mlist\u001b[0m\u001b[0;34m(\u001b[0m\u001b[0mzip\u001b[0m\u001b[0;34m(\u001b[0m\u001b[0;34m*\u001b[0m\u001b[0mscores\u001b[0m\u001b[0;34m)\u001b[0m\u001b[0;34m)\u001b[0m\u001b[0;34m\u001b[0m\u001b[0;34m\u001b[0m\u001b[0m\n",
            "\u001b[0;32m/usr/local/lib/python3.7/dist-packages/joblib/parallel.py\u001b[0m in \u001b[0;36m__call__\u001b[0;34m(self, iterable)\u001b[0m\n\u001b[1;32m   1052\u001b[0m \u001b[0;34m\u001b[0m\u001b[0m\n\u001b[1;32m   1053\u001b[0m             \u001b[0;32mwith\u001b[0m \u001b[0mself\u001b[0m\u001b[0;34m.\u001b[0m\u001b[0m_backend\u001b[0m\u001b[0;34m.\u001b[0m\u001b[0mretrieval_context\u001b[0m\u001b[0;34m(\u001b[0m\u001b[0;34m)\u001b[0m\u001b[0;34m:\u001b[0m\u001b[0;34m\u001b[0m\u001b[0;34m\u001b[0m\u001b[0m\n\u001b[0;32m-> 1054\u001b[0;31m                 \u001b[0mself\u001b[0m\u001b[0;34m.\u001b[0m\u001b[0mretrieve\u001b[0m\u001b[0;34m(\u001b[0m\u001b[0;34m)\u001b[0m\u001b[0;34m\u001b[0m\u001b[0;34m\u001b[0m\u001b[0m\n\u001b[0m\u001b[1;32m   1055\u001b[0m             \u001b[0;31m# Make sure that we get a last message telling us we are done\u001b[0m\u001b[0;34m\u001b[0m\u001b[0;34m\u001b[0m\u001b[0;34m\u001b[0m\u001b[0m\n\u001b[1;32m   1056\u001b[0m             \u001b[0melapsed_time\u001b[0m \u001b[0;34m=\u001b[0m \u001b[0mtime\u001b[0m\u001b[0;34m.\u001b[0m\u001b[0mtime\u001b[0m\u001b[0;34m(\u001b[0m\u001b[0;34m)\u001b[0m \u001b[0;34m-\u001b[0m \u001b[0mself\u001b[0m\u001b[0;34m.\u001b[0m\u001b[0m_start_time\u001b[0m\u001b[0;34m\u001b[0m\u001b[0;34m\u001b[0m\u001b[0m\n",
            "\u001b[0;32m/usr/local/lib/python3.7/dist-packages/joblib/parallel.py\u001b[0m in \u001b[0;36mretrieve\u001b[0;34m(self)\u001b[0m\n\u001b[1;32m    931\u001b[0m             \u001b[0;32mtry\u001b[0m\u001b[0;34m:\u001b[0m\u001b[0;34m\u001b[0m\u001b[0;34m\u001b[0m\u001b[0m\n\u001b[1;32m    932\u001b[0m                 \u001b[0;32mif\u001b[0m \u001b[0mgetattr\u001b[0m\u001b[0;34m(\u001b[0m\u001b[0mself\u001b[0m\u001b[0;34m.\u001b[0m\u001b[0m_backend\u001b[0m\u001b[0;34m,\u001b[0m \u001b[0;34m'supports_timeout'\u001b[0m\u001b[0;34m,\u001b[0m \u001b[0;32mFalse\u001b[0m\u001b[0;34m)\u001b[0m\u001b[0;34m:\u001b[0m\u001b[0;34m\u001b[0m\u001b[0;34m\u001b[0m\u001b[0m\n\u001b[0;32m--> 933\u001b[0;31m                     \u001b[0mself\u001b[0m\u001b[0;34m.\u001b[0m\u001b[0m_output\u001b[0m\u001b[0;34m.\u001b[0m\u001b[0mextend\u001b[0m\u001b[0;34m(\u001b[0m\u001b[0mjob\u001b[0m\u001b[0;34m.\u001b[0m\u001b[0mget\u001b[0m\u001b[0;34m(\u001b[0m\u001b[0mtimeout\u001b[0m\u001b[0;34m=\u001b[0m\u001b[0mself\u001b[0m\u001b[0;34m.\u001b[0m\u001b[0mtimeout\u001b[0m\u001b[0;34m)\u001b[0m\u001b[0;34m)\u001b[0m\u001b[0;34m\u001b[0m\u001b[0;34m\u001b[0m\u001b[0m\n\u001b[0m\u001b[1;32m    934\u001b[0m                 \u001b[0;32melse\u001b[0m\u001b[0;34m:\u001b[0m\u001b[0;34m\u001b[0m\u001b[0;34m\u001b[0m\u001b[0m\n\u001b[1;32m    935\u001b[0m                     \u001b[0mself\u001b[0m\u001b[0;34m.\u001b[0m\u001b[0m_output\u001b[0m\u001b[0;34m.\u001b[0m\u001b[0mextend\u001b[0m\u001b[0;34m(\u001b[0m\u001b[0mjob\u001b[0m\u001b[0;34m.\u001b[0m\u001b[0mget\u001b[0m\u001b[0;34m(\u001b[0m\u001b[0;34m)\u001b[0m\u001b[0;34m)\u001b[0m\u001b[0;34m\u001b[0m\u001b[0;34m\u001b[0m\u001b[0m\n",
            "\u001b[0;32m/usr/local/lib/python3.7/dist-packages/joblib/_parallel_backends.py\u001b[0m in \u001b[0;36mwrap_future_result\u001b[0;34m(future, timeout)\u001b[0m\n\u001b[1;32m    540\u001b[0m         AsyncResults.get from multiprocessing.\"\"\"\n\u001b[1;32m    541\u001b[0m         \u001b[0;32mtry\u001b[0m\u001b[0;34m:\u001b[0m\u001b[0;34m\u001b[0m\u001b[0;34m\u001b[0m\u001b[0m\n\u001b[0;32m--> 542\u001b[0;31m             \u001b[0;32mreturn\u001b[0m \u001b[0mfuture\u001b[0m\u001b[0;34m.\u001b[0m\u001b[0mresult\u001b[0m\u001b[0;34m(\u001b[0m\u001b[0mtimeout\u001b[0m\u001b[0;34m=\u001b[0m\u001b[0mtimeout\u001b[0m\u001b[0;34m)\u001b[0m\u001b[0;34m\u001b[0m\u001b[0;34m\u001b[0m\u001b[0m\n\u001b[0m\u001b[1;32m    543\u001b[0m         \u001b[0;32mexcept\u001b[0m \u001b[0mCfTimeoutError\u001b[0m \u001b[0;32mas\u001b[0m \u001b[0me\u001b[0m\u001b[0;34m:\u001b[0m\u001b[0;34m\u001b[0m\u001b[0;34m\u001b[0m\u001b[0m\n\u001b[1;32m    544\u001b[0m             \u001b[0;32mraise\u001b[0m \u001b[0mTimeoutError\u001b[0m \u001b[0;32mfrom\u001b[0m \u001b[0me\u001b[0m\u001b[0;34m\u001b[0m\u001b[0;34m\u001b[0m\u001b[0m\n",
            "\u001b[0;32m/usr/lib/python3.7/concurrent/futures/_base.py\u001b[0m in \u001b[0;36mresult\u001b[0;34m(self, timeout)\u001b[0m\n\u001b[1;32m    428\u001b[0m                 \u001b[0;32mreturn\u001b[0m \u001b[0mself\u001b[0m\u001b[0;34m.\u001b[0m\u001b[0m__get_result\u001b[0m\u001b[0;34m(\u001b[0m\u001b[0;34m)\u001b[0m\u001b[0;34m\u001b[0m\u001b[0;34m\u001b[0m\u001b[0m\n\u001b[1;32m    429\u001b[0m \u001b[0;34m\u001b[0m\u001b[0m\n\u001b[0;32m--> 430\u001b[0;31m             \u001b[0mself\u001b[0m\u001b[0;34m.\u001b[0m\u001b[0m_condition\u001b[0m\u001b[0;34m.\u001b[0m\u001b[0mwait\u001b[0m\u001b[0;34m(\u001b[0m\u001b[0mtimeout\u001b[0m\u001b[0;34m)\u001b[0m\u001b[0;34m\u001b[0m\u001b[0;34m\u001b[0m\u001b[0m\n\u001b[0m\u001b[1;32m    431\u001b[0m \u001b[0;34m\u001b[0m\u001b[0m\n\u001b[1;32m    432\u001b[0m             \u001b[0;32mif\u001b[0m \u001b[0mself\u001b[0m\u001b[0;34m.\u001b[0m\u001b[0m_state\u001b[0m \u001b[0;32min\u001b[0m \u001b[0;34m[\u001b[0m\u001b[0mCANCELLED\u001b[0m\u001b[0;34m,\u001b[0m \u001b[0mCANCELLED_AND_NOTIFIED\u001b[0m\u001b[0;34m]\u001b[0m\u001b[0;34m:\u001b[0m\u001b[0;34m\u001b[0m\u001b[0;34m\u001b[0m\u001b[0m\n",
            "\u001b[0;32m/usr/lib/python3.7/threading.py\u001b[0m in \u001b[0;36mwait\u001b[0;34m(self, timeout)\u001b[0m\n\u001b[1;32m    294\u001b[0m         \u001b[0;32mtry\u001b[0m\u001b[0;34m:\u001b[0m    \u001b[0;31m# restore state no matter what (e.g., KeyboardInterrupt)\u001b[0m\u001b[0;34m\u001b[0m\u001b[0;34m\u001b[0m\u001b[0m\n\u001b[1;32m    295\u001b[0m             \u001b[0;32mif\u001b[0m \u001b[0mtimeout\u001b[0m \u001b[0;32mis\u001b[0m \u001b[0;32mNone\u001b[0m\u001b[0;34m:\u001b[0m\u001b[0;34m\u001b[0m\u001b[0;34m\u001b[0m\u001b[0m\n\u001b[0;32m--> 296\u001b[0;31m                 \u001b[0mwaiter\u001b[0m\u001b[0;34m.\u001b[0m\u001b[0macquire\u001b[0m\u001b[0;34m(\u001b[0m\u001b[0;34m)\u001b[0m\u001b[0;34m\u001b[0m\u001b[0;34m\u001b[0m\u001b[0m\n\u001b[0m\u001b[1;32m    297\u001b[0m                 \u001b[0mgotit\u001b[0m \u001b[0;34m=\u001b[0m \u001b[0;32mTrue\u001b[0m\u001b[0;34m\u001b[0m\u001b[0;34m\u001b[0m\u001b[0m\n\u001b[1;32m    298\u001b[0m             \u001b[0;32melse\u001b[0m\u001b[0;34m:\u001b[0m\u001b[0;34m\u001b[0m\u001b[0;34m\u001b[0m\u001b[0m\n",
            "\u001b[0;31mKeyboardInterrupt\u001b[0m: "
          ]
        }
      ]
    },
    {
      "cell_type": "code",
      "metadata": {
        "id": "Y8ff0pz6m1qy"
      },
      "source": [
        "# lgbm 모델\n",
        "from sklearn.model_selection import RepeatedKFold\n",
        "\n",
        "cross_val = cross_validate(model_lgbm, x_train, y_train, scoring='neg_mean_absolute_error', cv=20, n_jobs=-1)\n",
        "cross_val['test_score'].mean()"
      ],
      "execution_count": null,
      "outputs": []
    },
    {
      "cell_type": "code",
      "metadata": {
        "id": "75KOd991nrLS"
      },
      "source": [
        "# catboost 모델\n",
        "cv = RepeatedKFold(n_splits=10, n_repeats=3, random_state=1)\n",
        "cross_val = cross_validate(catboost.CatBoostRegressor(learning_rate=0.022, n_estimators=3000), x_train, y_train, scoring='neg_mean_absolute_error', cv=20, n_jobs=-1, return_estimator=True)\n",
        "cross_val['test_score'].mean()"
      ],
      "execution_count": null,
      "outputs": []
    },
    {
      "cell_type": "markdown",
      "metadata": {
        "id": "7niM9ErEiPqm"
      },
      "source": [
        "# 지역별 나이까지 추가해야 mae가 확 줄음 지역과 나이 피쳐 엔지니어링도 괜찮을듯\n",
        "\n",
        "# 뭐야 제출하니까 점수가 안나오잖아 다시 생각해봐야 한다 지역별 나이\n",
        "\n",
        "# 최고점은 info 안하고 lgbm으로 돌렸을때\n",
        "\n",
        "# 라쏘로도 돌려보자"
      ]
    },
    {
      "cell_type": "code",
      "metadata": {
        "id": "63V-vbG2cFnk"
      },
      "source": [
        "from sklearn.feature_selection import SelectKBest, f_classif\n",
        "from sklearn.linear_model import LogisticRegression\n",
        "from sklearn.model_selection import cross_val_score\n",
        "# feature selection\n",
        "x_train_sel = SelectKBest(f_classif).fit_transform(x_train, y_train)"
      ],
      "execution_count": 238,
      "outputs": []
    },
    {
      "cell_type": "code",
      "metadata": {
        "colab": {
          "base_uri": "https://localhost:8080/"
        },
        "id": "jqPtBW34c6BO",
        "outputId": "26535af7-19dc-4855-b279-3a362d1d08e9"
      },
      "source": [
        "x_train.shape"
      ],
      "execution_count": 242,
      "outputs": [
        {
          "output_type": "execute_result",
          "data": {
            "text/plain": [
              "(423, 31)"
            ]
          },
          "metadata": {
            "tags": []
          },
          "execution_count": 242
        }
      ]
    },
    {
      "cell_type": "code",
      "metadata": {
        "colab": {
          "base_uri": "https://localhost:8080/"
        },
        "id": "bsQ5RCuocgrQ",
        "outputId": "808a0e3d-3bed-4802-df6f-a03b6f9615d8"
      },
      "source": [
        "x_train_sel.shape"
      ],
      "execution_count": 241,
      "outputs": [
        {
          "output_type": "execute_result",
          "data": {
            "text/plain": [
              "(423, 10)"
            ]
          },
          "metadata": {
            "tags": []
          },
          "execution_count": 241
        }
      ]
    },
    {
      "cell_type": "code",
      "metadata": {
        "id": "d0Sp6n7W6cCP"
      },
      "source": [
        "cross_val_preds = cross_val_predict(model_lgbm, x_train, y_train, cv=30, n_jobs=-1)"
      ],
      "execution_count": 164,
      "outputs": []
    },
    {
      "cell_type": "code",
      "metadata": {
        "id": "UkcNYgVbSx0I"
      },
      "source": [
        "cross_val_preds"
      ],
      "execution_count": null,
      "outputs": []
    },
    {
      "cell_type": "code",
      "metadata": {
        "colab": {
          "base_uri": "https://localhost:8080/",
          "height": 521
        },
        "id": "sksdNvnf64AI",
        "outputId": "71bff5d5-3185-4e12-badd-cd93763002e2"
      },
      "source": [
        "fig, ax = plt.subplots(figsize=(12,8))\n",
        "ax.plot(pd.Series(cross_val_preds, index=y_train.index), label='Preds_Valid')\n",
        "ax.plot(y_train, label='Y_train')\n",
        "ax.legend()\n",
        "ax.set_title('preds vs y', fontsize=18, fontweight='bold')"
      ],
      "execution_count": null,
      "outputs": [
        {
          "output_type": "execute_result",
          "data": {
            "text/plain": [
              "Text(0.5, 1.0, 'preds vs y')"
            ]
          },
          "metadata": {
            "tags": []
          },
          "execution_count": 327
        },
        {
          "output_type": "display_data",
          "data": {
            "image/png": "[encoded data removed]",
            "text/plain": [
              "<Figure size 864x576 with 1 Axes>"
            ]
          },
          "metadata": {
            "tags": [],
            "needs_background": "light"
          }
        }
      ]
    },
    {
      "cell_type": "code",
      "metadata": {
        "id": "itnD-H9Z7S6S"
      },
      "source": [
        "# ElastickNet 모델 사용\n",
        "cross_val_preds = cross_val_predict(model_Ela, x_train, y_train, cv=30, n_jobs=-1)"
      ],
      "execution_count": null,
      "outputs": []
    },
    {
      "cell_type": "code",
      "metadata": {
        "colab": {
          "base_uri": "https://localhost:8080/",
          "height": 358
        },
        "id": "3Av6f7uQ7c0U",
        "outputId": "2ea0df4b-5726-4823-9ee3-e869685a151c"
      },
      "source": [
        "fig, ax = plt.subplots(figsize=(8,5))\n",
        "ax.plot(pd.Series(cross_val_preds, index=y_train.index), label='Preds_Valid')\n",
        "ax.plot(y_train, label='Y_train')\n",
        "ax.legend()\n",
        "ax.set_title('preds vs y', fontsize=18, fontweight='bold')"
      ],
      "execution_count": null,
      "outputs": [
        {
          "output_type": "execute_result",
          "data": {
            "text/plain": [
              "Text(0.5, 1.0, 'preds vs y')"
            ]
          },
          "metadata": {
            "tags": []
          },
          "execution_count": 94
        },
        {
          "output_type": "display_data",
          "data": {
            "image/png": "[encoded data removed]",
            "text/plain": [
              "<Figure size 576x360 with 1 Axes>"
            ]
          },
          "metadata": {
            "tags": [],
            "needs_background": "light"
          }
        }
      ]
    },
    {
      "cell_type": "code",
      "metadata": {
        "id": "GRXZXtPJp0MF"
      },
      "source": [
        "# model selection RFE(후진제거법)\n",
        "from sklearn.feature_selection import RFE\n",
        "\n",
        "model = model_lgbm\n",
        "rfe = RFE(model)\n",
        "fit = rfe.fit(x_train, y_train)"
      ],
      "execution_count": 129,
      "outputs": []
    },
    {
      "cell_type": "code",
      "metadata": {
        "colab": {
          "base_uri": "https://localhost:8080/"
        },
        "id": "nu9ARBJTqhG3",
        "outputId": "f1545ed1-1ff8-4ebb-fd57-c7ac18e80a93"
      },
      "source": [
        "feature_selected = pd.Series(fit.support_, index=x_train.columns)\n",
        "feature_selected_columns = list(feature_selected.loc[feature_selected == True].index)\n",
        "feature_selected"
      ],
      "execution_count": 130,
      "outputs": [
        {
          "output_type": "execute_result",
          "data": {
            "text/plain": [
              "총세대수                             True\n",
              "공가수                              True\n",
              "지역                               True\n",
              "단지내주차면수                          True\n",
              "도보 10분거리 내 지하철역 수(환승노선 수 반영)    False\n",
              "도보 10분거리 내 버스정류장 수               True\n",
              "면적_35.0                          True\n",
              "면적_50.0                          True\n",
              "면적_55.0                          True\n",
              "면적_30.0                          True\n",
              "면적_45.0                          True\n",
              "면적_40.0                         False\n",
              "면적_25.0                          True\n",
              "면적_70.0                         False\n",
              "면적_15.0                         False\n",
              "면적_20.0                         False\n",
              "면적_100.0                        False\n",
              "면적_60.0                         False\n",
              "면적_75.0                         False\n",
              "면적_80.0                         False\n",
              "면적_65.0                         False\n",
              "실거주세대                            True\n",
              "공실율                              True\n",
              "세대당주차면수                          True\n",
              "단지내주차면수_bin_a                   False\n",
              "단지내주차면수_bin_b                   False\n",
              "단지내주차면수_bin_c                   False\n",
              "단지내주차면수_bin_d                   False\n",
              "단지내주차면수_bin_e                   False\n",
              "dtype: bool"
            ]
          },
          "metadata": {
            "tags": []
          },
          "execution_count": 130
        }
      ]
    },
    {
      "cell_type": "code",
      "metadata": {
        "colab": {
          "base_uri": "https://localhost:8080/"
        },
        "id": "RzLzXnH5OlEU",
        "outputId": "f17c35e3-39f4-4d2b-b4fe-b3e4b4ebec78"
      },
      "source": [
        "pd.Series(fit.ranking_, index=x_train.columns).sort_values(ascending=True)"
      ],
      "execution_count": 133,
      "outputs": [
        {
          "output_type": "execute_result",
          "data": {
            "text/plain": [
              "총세대수                             1\n",
              "공가수                              1\n",
              "지역                               1\n",
              "단지내주차면수                          1\n",
              "도보 10분거리 내 버스정류장 수               1\n",
              "면적_35.0                          1\n",
              "면적_50.0                          1\n",
              "면적_55.0                          1\n",
              "면적_30.0                          1\n",
              "면적_45.0                          1\n",
              "세대당주차면수                          1\n",
              "면적_25.0                          1\n",
              "공실율                              1\n",
              "실거주세대                            1\n",
              "면적_20.0                          2\n",
              "도보 10분거리 내 지하철역 수(환승노선 수 반영)     3\n",
              "면적_15.0                          4\n",
              "단지내주차면수_bin_d                    5\n",
              "단지내주차면수_bin_b                    6\n",
              "면적_40.0                          7\n",
              "단지내주차면수_bin_c                    8\n",
              "면적_80.0                          9\n",
              "면적_70.0                         10\n",
              "면적_100.0                        11\n",
              "단지내주차면수_bin_a                   12\n",
              "면적_60.0                         13\n",
              "면적_75.0                         14\n",
              "면적_65.0                         15\n",
              "단지내주차면수_bin_e                   16\n",
              "dtype: int64"
            ]
          },
          "metadata": {
            "tags": []
          },
          "execution_count": 133
        }
      ]
    },
    {
      "cell_type": "code",
      "metadata": {
        "id": "09ddBE0ir6Dx"
      },
      "source": [
        "x_train_sel = x_train[feature_selected_columns]\n",
        "x_test_sel = x_test[feature_selected_columns]"
      ],
      "execution_count": null,
      "outputs": []
    },
    {
      "cell_type": "code",
      "metadata": {
        "colab": {
          "base_uri": "https://localhost:8080/",
          "height": 417
        },
        "id": "06eyYjaJv3E9",
        "outputId": "33d83c8e-a141-4bb4-f10e-037402e77a38"
      },
      "source": [
        "submit['num'] = preds_test_lgbm\n",
        "submit.to_csv('/content/drive/MyDrive/dataset/Dacon/대회/235745_parking_data/submit_11.csv', index=False)\n",
        "submit"
      ],
      "execution_count": 448,
      "outputs": [
        {
          "output_type": "execute_result",
          "data": {
            "text/html": [
              "<div>\n",
              "<style scoped>\n",
              "    .dataframe tbody tr th:only-of-type {\n",
              "        vertical-align: middle;\n",
              "    }\n",
              "\n",
              "    .dataframe tbody tr th {\n",
              "        vertical-align: top;\n",
              "    }\n",
              "\n",
              "    .dataframe thead th {\n",
              "        text-align: right;\n",
              "    }\n",
              "</style>\n",
              "<table border=\"1\" class=\"dataframe\">\n",
              "  <thead>\n",
              "    <tr style=\"text-align: right;\">\n",
              "      <th></th>\n",
              "      <th>code</th>\n",
              "      <th>num</th>\n",
              "    </tr>\n",
              "  </thead>\n",
              "  <tbody>\n",
              "    <tr>\n",
              "      <th>0</th>\n",
              "      <td>C1072</td>\n",
              "      <td>745.904548</td>\n",
              "    </tr>\n",
              "    <tr>\n",
              "      <th>1</th>\n",
              "      <td>C1128</td>\n",
              "      <td>1278.155558</td>\n",
              "    </tr>\n",
              "    <tr>\n",
              "      <th>2</th>\n",
              "      <td>C1456</td>\n",
              "      <td>523.240608</td>\n",
              "    </tr>\n",
              "    <tr>\n",
              "      <th>3</th>\n",
              "      <td>C1840</td>\n",
              "      <td>462.805683</td>\n",
              "    </tr>\n",
              "    <tr>\n",
              "      <th>4</th>\n",
              "      <td>C1332</td>\n",
              "      <td>1188.331000</td>\n",
              "    </tr>\n",
              "    <tr>\n",
              "      <th>...</th>\n",
              "      <td>...</td>\n",
              "      <td>...</td>\n",
              "    </tr>\n",
              "    <tr>\n",
              "      <th>145</th>\n",
              "      <td>C2456</td>\n",
              "      <td>281.692552</td>\n",
              "    </tr>\n",
              "    <tr>\n",
              "      <th>146</th>\n",
              "      <td>C1266</td>\n",
              "      <td>504.139255</td>\n",
              "    </tr>\n",
              "    <tr>\n",
              "      <th>147</th>\n",
              "      <td>C2152</td>\n",
              "      <td>67.957668</td>\n",
              "    </tr>\n",
              "    <tr>\n",
              "      <th>148</th>\n",
              "      <td>C1267</td>\n",
              "      <td>436.631176</td>\n",
              "    </tr>\n",
              "    <tr>\n",
              "      <th>149</th>\n",
              "      <td>C2189</td>\n",
              "      <td>264.112971</td>\n",
              "    </tr>\n",
              "  </tbody>\n",
              "</table>\n",
              "<p>150 rows × 2 columns</p>\n",
              "</div>"
            ],
            "text/plain": [
              "      code          num\n",
              "0    C1072   745.904548\n",
              "1    C1128  1278.155558\n",
              "2    C1456   523.240608\n",
              "3    C1840   462.805683\n",
              "4    C1332  1188.331000\n",
              "..     ...          ...\n",
              "145  C2456   281.692552\n",
              "146  C1266   504.139255\n",
              "147  C2152    67.957668\n",
              "148  C1267   436.631176\n",
              "149  C2189   264.112971\n",
              "\n",
              "[150 rows x 2 columns]"
            ]
          },
          "metadata": {
            "tags": []
          },
          "execution_count": 448
        }
      ]
    },
    {
      "cell_type": "code",
      "metadata": {
        "colab": {
          "base_uri": "https://localhost:8080/",
          "height": 417
        },
        "id": "xmbSzh62x3I7",
        "outputId": "0d331302-1bee-462e-b772-3b42f03a29eb"
      },
      "source": [
        "submit['num'] = preds_test_cat\n",
        "submit"
      ],
      "execution_count": null,
      "outputs": [
        {
          "output_type": "execute_result",
          "data": {
            "text/html": [
              "<div>\n",
              "<style scoped>\n",
              "    .dataframe tbody tr th:only-of-type {\n",
              "        vertical-align: middle;\n",
              "    }\n",
              "\n",
              "    .dataframe tbody tr th {\n",
              "        vertical-align: top;\n",
              "    }\n",
              "\n",
              "    .dataframe thead th {\n",
              "        text-align: right;\n",
              "    }\n",
              "</style>\n",
              "<table border=\"1\" class=\"dataframe\">\n",
              "  <thead>\n",
              "    <tr style=\"text-align: right;\">\n",
              "      <th></th>\n",
              "      <th>code</th>\n",
              "      <th>num</th>\n",
              "    </tr>\n",
              "  </thead>\n",
              "  <tbody>\n",
              "    <tr>\n",
              "      <th>0</th>\n",
              "      <td>C1072</td>\n",
              "      <td>763.190180</td>\n",
              "    </tr>\n",
              "    <tr>\n",
              "      <th>1</th>\n",
              "      <td>C1128</td>\n",
              "      <td>1261.937146</td>\n",
              "    </tr>\n",
              "    <tr>\n",
              "      <th>2</th>\n",
              "      <td>C1456</td>\n",
              "      <td>588.037042</td>\n",
              "    </tr>\n",
              "    <tr>\n",
              "      <th>3</th>\n",
              "      <td>C1840</td>\n",
              "      <td>548.213311</td>\n",
              "    </tr>\n",
              "    <tr>\n",
              "      <th>4</th>\n",
              "      <td>C1332</td>\n",
              "      <td>1225.286551</td>\n",
              "    </tr>\n",
              "    <tr>\n",
              "      <th>...</th>\n",
              "      <td>...</td>\n",
              "      <td>...</td>\n",
              "    </tr>\n",
              "    <tr>\n",
              "      <th>145</th>\n",
              "      <td>C2456</td>\n",
              "      <td>220.508849</td>\n",
              "    </tr>\n",
              "    <tr>\n",
              "      <th>146</th>\n",
              "      <td>C1266</td>\n",
              "      <td>515.472701</td>\n",
              "    </tr>\n",
              "    <tr>\n",
              "      <th>147</th>\n",
              "      <td>C2152</td>\n",
              "      <td>91.418749</td>\n",
              "    </tr>\n",
              "    <tr>\n",
              "      <th>148</th>\n",
              "      <td>C1267</td>\n",
              "      <td>483.216688</td>\n",
              "    </tr>\n",
              "    <tr>\n",
              "      <th>149</th>\n",
              "      <td>C2189</td>\n",
              "      <td>229.615498</td>\n",
              "    </tr>\n",
              "  </tbody>\n",
              "</table>\n",
              "<p>150 rows × 2 columns</p>\n",
              "</div>"
            ],
            "text/plain": [
              "      code          num\n",
              "0    C1072   763.190180\n",
              "1    C1128  1261.937146\n",
              "2    C1456   588.037042\n",
              "3    C1840   548.213311\n",
              "4    C1332  1225.286551\n",
              "..     ...          ...\n",
              "145  C2456   220.508849\n",
              "146  C1266   515.472701\n",
              "147  C2152    91.418749\n",
              "148  C1267   483.216688\n",
              "149  C2189   229.615498\n",
              "\n",
              "[150 rows x 2 columns]"
            ]
          },
          "metadata": {
            "tags": []
          },
          "execution_count": 655
        }
      ]
    }
  ]
}