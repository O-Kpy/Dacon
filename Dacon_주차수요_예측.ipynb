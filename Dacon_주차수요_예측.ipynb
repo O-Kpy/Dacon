{
  "nbformat": 4,
  "nbformat_minor": 0,
  "metadata": {
    "colab": {
      "name": "Dacon 주차수요 예측.ipynb",
      "provenance": [],
      "collapsed_sections": [],
      "mount_file_id": "1bSjuU3A8YqNMk4enFXujAYLOUhavOLlN",
      "authorship_tag": "ABX9TyO8qPDP9Zh8EnT2T43T0/xy",
      "include_colab_link": true
    },
    "kernelspec": {
      "name": "python3",
      "display_name": "Python 3"
    },
    "language_info": {
      "name": "python"
    }
  },
  "cells": [
    {
      "cell_type": "markdown",
      "metadata": {
        "id": "view-in-github",
        "colab_type": "text"
      },
      "source": [
        "<a href=\"https://colab.research.google.com/github/O-Kpy/Dacon/blob/main/Dacon_%EC%A3%BC%EC%B0%A8%EC%88%98%EC%9A%94_%EC%98%88%EC%B8%A1.ipynb\" target=\"_parent\"><img src=\"https://colab.research.google.com/assets/colab-badge.svg\" alt=\"Open In Colab\"/></a>"
      ]
    },
    {
      "cell_type": "code",
      "metadata": {
        "id": "wOzwtKYaFU4D"
      },
      "source": [
        "import pandas as pd\n",
        "import numpy as np\n",
        "import matplotlib.pyplot as plt\n",
        "%matplotlib inline\n",
        "import seaborn as sns\n",
        "import warnings\n",
        "warnings.filterwarnings('ignore')\n",
        "from scipy.stats import skew\n",
        "from tqdm import tqdm"
      ],
      "execution_count": 1,
      "outputs": []
    },
    {
      "cell_type": "code",
      "metadata": {
        "colab": {
          "base_uri": "https://localhost:8080/"
        },
        "id": "JQ1KB85aGbwe",
        "outputId": "96f6df4e-edea-4073-ed22-05cebc096ff0"
      },
      "source": [
        "!apt-get update -qq  ## 나눔 설치\n",
        "!apt-get install fonts-nanum* -qq"
      ],
      "execution_count": 3,
      "outputs": [
        {
          "output_type": "stream",
          "text": [
            "Selecting previously unselected package fonts-nanum.\n",
            "(Reading database ... 160772 files and directories currently installed.)\n",
            "Preparing to unpack .../fonts-nanum_20170925-1_all.deb ...\n",
            "Unpacking fonts-nanum (20170925-1) ...\n",
            "Selecting previously unselected package fonts-nanum-eco.\n",
            "Preparing to unpack .../fonts-nanum-eco_1.000-6_all.deb ...\n",
            "Unpacking fonts-nanum-eco (1.000-6) ...\n",
            "Selecting previously unselected package fonts-nanum-extra.\n",
            "Preparing to unpack .../fonts-nanum-extra_20170925-1_all.deb ...\n",
            "Unpacking fonts-nanum-extra (20170925-1) ...\n",
            "Selecting previously unselected package fonts-nanum-coding.\n",
            "Preparing to unpack .../fonts-nanum-coding_2.5-1_all.deb ...\n",
            "Unpacking fonts-nanum-coding (2.5-1) ...\n",
            "Setting up fonts-nanum-extra (20170925-1) ...\n",
            "Setting up fonts-nanum (20170925-1) ...\n",
            "Setting up fonts-nanum-coding (2.5-1) ...\n",
            "Setting up fonts-nanum-eco (1.000-6) ...\n",
            "Processing triggers for fontconfig (2.12.6-0ubuntu2) ...\n"
          ],
          "name": "stdout"
        }
      ]
    },
    {
      "cell_type": "code",
      "metadata": {
        "id": "oJr5fomcGhut"
      },
      "source": [
        "import matplotlib as mpl\n",
        "import matplotlib.font_manager as fm   ## 폰트 매니저\n",
        "fontpath = '/usr/share/fonts/truetype/nanum/NanumGothic.ttf' \n",
        "font = fm.FontProperties(fname=fontpath, size=9).get_name()\n",
        "plt.rc('font', family=font) \n",
        "mpl.font_manager._rebuild()"
      ],
      "execution_count": 2,
      "outputs": []
    },
    {
      "cell_type": "code",
      "metadata": {
        "colab": {
          "base_uri": "https://localhost:8080/"
        },
        "id": "bR0QzoASFsLa",
        "outputId": "90dfd4f1-7027-46ea-e64d-34a353cc23ff"
      },
      "source": [
        "train = pd.read_csv('/content/drive/MyDrive/dataset/Dacon/대회/235745_parking_data/235745_parking_data_train.csv')\n",
        "test = pd.read_csv('/content/drive/MyDrive/dataset/Dacon/대회/235745_parking_data/235745_parking_data_test.csv')\n",
        "submit = pd.read_csv('/content/drive/MyDrive/dataset/Dacon/대회/235745_parking_data/235745_parking_data_sample_submission.csv')\n",
        "info = pd.read_csv('/content/drive/MyDrive/dataset/Dacon/대회/235745_parking_data/235745_parking_data_age_gender_info.csv')\n",
        "train.shape, test.shape, info.shape"
      ],
      "execution_count": 889,
      "outputs": [
        {
          "output_type": "execute_result",
          "data": {
            "text/plain": [
              "((2952, 15), (1022, 14), (16, 23))"
            ]
          },
          "metadata": {
            "tags": []
          },
          "execution_count": 889
        }
      ]
    },
    {
      "cell_type": "code",
      "metadata": {
        "colab": {
          "base_uri": "https://localhost:8080/"
        },
        "id": "30CWzFOyf4Jp",
        "outputId": "7b943b41-016c-4f8f-e17d-5edd95b43a37"
      },
      "source": [
        "train.info()"
      ],
      "execution_count": 381,
      "outputs": [
        {
          "output_type": "stream",
          "text": [
            "<class 'pandas.core.frame.DataFrame'>\n",
            "RangeIndex: 2952 entries, 0 to 2951\n",
            "Data columns (total 15 columns):\n",
            " #   Column                        Non-Null Count  Dtype  \n",
            "---  ------                        --------------  -----  \n",
            " 0   단지코드                          2952 non-null   object \n",
            " 1   총세대수                          2952 non-null   int64  \n",
            " 2   임대건물구분                        2952 non-null   object \n",
            " 3   지역                            2952 non-null   object \n",
            " 4   공급유형                          2952 non-null   object \n",
            " 5   전용면적                          2952 non-null   float64\n",
            " 6   전용면적별세대수                      2952 non-null   int64  \n",
            " 7   공가수                           2952 non-null   float64\n",
            " 8   자격유형                          2952 non-null   object \n",
            " 9   임대보증금                         2383 non-null   object \n",
            " 10  임대료                           2383 non-null   object \n",
            " 11  도보 10분거리 내 지하철역 수(환승노선 수 반영)  2741 non-null   float64\n",
            " 12  도보 10분거리 내 버스정류장 수            2948 non-null   float64\n",
            " 13  단지내주차면수                       2952 non-null   float64\n",
            " 14  등록차량수                         2952 non-null   float64\n",
            "dtypes: float64(6), int64(2), object(7)\n",
            "memory usage: 346.1+ KB\n"
          ],
          "name": "stdout"
        }
      ]
    },
    {
      "cell_type": "code",
      "metadata": {
        "colab": {
          "base_uri": "https://localhost:8080/",
          "height": 304
        },
        "id": "fnkIpIxuGNBN",
        "outputId": "cb364e5a-5797-417c-9e64-60f18e8473c9"
      },
      "source": [
        "train.head()"
      ],
      "execution_count": null,
      "outputs": [
        {
          "output_type": "execute_result",
          "data": {
            "text/html": [
              "<div>\n",
              "<style scoped>\n",
              "    .dataframe tbody tr th:only-of-type {\n",
              "        vertical-align: middle;\n",
              "    }\n",
              "\n",
              "    .dataframe tbody tr th {\n",
              "        vertical-align: top;\n",
              "    }\n",
              "\n",
              "    .dataframe thead th {\n",
              "        text-align: right;\n",
              "    }\n",
              "</style>\n",
              "<table border=\"1\" class=\"dataframe\">\n",
              "  <thead>\n",
              "    <tr style=\"text-align: right;\">\n",
              "      <th></th>\n",
              "      <th>단지코드</th>\n",
              "      <th>총세대수</th>\n",
              "      <th>임대건물구분</th>\n",
              "      <th>지역</th>\n",
              "      <th>공급유형</th>\n",
              "      <th>전용면적</th>\n",
              "      <th>전용면적별세대수</th>\n",
              "      <th>공가수</th>\n",
              "      <th>자격유형</th>\n",
              "      <th>임대보증금</th>\n",
              "      <th>임대료</th>\n",
              "      <th>도보 10분거리 내 지하철역 수(환승노선 수 반영)</th>\n",
              "      <th>도보 10분거리 내 버스정류장 수</th>\n",
              "      <th>단지내주차면수</th>\n",
              "      <th>등록차량수</th>\n",
              "    </tr>\n",
              "  </thead>\n",
              "  <tbody>\n",
              "    <tr>\n",
              "      <th>0</th>\n",
              "      <td>C2483</td>\n",
              "      <td>900</td>\n",
              "      <td>아파트</td>\n",
              "      <td>경상북도</td>\n",
              "      <td>국민임대</td>\n",
              "      <td>39.72</td>\n",
              "      <td>134</td>\n",
              "      <td>38.0</td>\n",
              "      <td>A</td>\n",
              "      <td>15667000</td>\n",
              "      <td>103680</td>\n",
              "      <td>0.0</td>\n",
              "      <td>3.0</td>\n",
              "      <td>1425.0</td>\n",
              "      <td>1015.0</td>\n",
              "    </tr>\n",
              "    <tr>\n",
              "      <th>1</th>\n",
              "      <td>C2483</td>\n",
              "      <td>900</td>\n",
              "      <td>아파트</td>\n",
              "      <td>경상북도</td>\n",
              "      <td>국민임대</td>\n",
              "      <td>39.72</td>\n",
              "      <td>15</td>\n",
              "      <td>38.0</td>\n",
              "      <td>A</td>\n",
              "      <td>15667000</td>\n",
              "      <td>103680</td>\n",
              "      <td>0.0</td>\n",
              "      <td>3.0</td>\n",
              "      <td>1425.0</td>\n",
              "      <td>1015.0</td>\n",
              "    </tr>\n",
              "    <tr>\n",
              "      <th>2</th>\n",
              "      <td>C2483</td>\n",
              "      <td>900</td>\n",
              "      <td>아파트</td>\n",
              "      <td>경상북도</td>\n",
              "      <td>국민임대</td>\n",
              "      <td>51.93</td>\n",
              "      <td>385</td>\n",
              "      <td>38.0</td>\n",
              "      <td>A</td>\n",
              "      <td>27304000</td>\n",
              "      <td>184330</td>\n",
              "      <td>0.0</td>\n",
              "      <td>3.0</td>\n",
              "      <td>1425.0</td>\n",
              "      <td>1015.0</td>\n",
              "    </tr>\n",
              "    <tr>\n",
              "      <th>3</th>\n",
              "      <td>C2483</td>\n",
              "      <td>900</td>\n",
              "      <td>아파트</td>\n",
              "      <td>경상북도</td>\n",
              "      <td>국민임대</td>\n",
              "      <td>51.93</td>\n",
              "      <td>15</td>\n",
              "      <td>38.0</td>\n",
              "      <td>A</td>\n",
              "      <td>27304000</td>\n",
              "      <td>184330</td>\n",
              "      <td>0.0</td>\n",
              "      <td>3.0</td>\n",
              "      <td>1425.0</td>\n",
              "      <td>1015.0</td>\n",
              "    </tr>\n",
              "    <tr>\n",
              "      <th>4</th>\n",
              "      <td>C2483</td>\n",
              "      <td>900</td>\n",
              "      <td>아파트</td>\n",
              "      <td>경상북도</td>\n",
              "      <td>국민임대</td>\n",
              "      <td>51.93</td>\n",
              "      <td>41</td>\n",
              "      <td>38.0</td>\n",
              "      <td>A</td>\n",
              "      <td>27304000</td>\n",
              "      <td>184330</td>\n",
              "      <td>0.0</td>\n",
              "      <td>3.0</td>\n",
              "      <td>1425.0</td>\n",
              "      <td>1015.0</td>\n",
              "    </tr>\n",
              "  </tbody>\n",
              "</table>\n",
              "</div>"
            ],
            "text/plain": [
              "    단지코드  총세대수 임대건물구분  ... 도보 10분거리 내 버스정류장 수 단지내주차면수   등록차량수\n",
              "0  C2483   900    아파트  ...                3.0  1425.0  1015.0\n",
              "1  C2483   900    아파트  ...                3.0  1425.0  1015.0\n",
              "2  C2483   900    아파트  ...                3.0  1425.0  1015.0\n",
              "3  C2483   900    아파트  ...                3.0  1425.0  1015.0\n",
              "4  C2483   900    아파트  ...                3.0  1425.0  1015.0\n",
              "\n",
              "[5 rows x 15 columns]"
            ]
          },
          "metadata": {
            "tags": []
          },
          "execution_count": 4
        }
      ]
    },
    {
      "cell_type": "code",
      "metadata": {
        "id": "9Rl_QPkMGn-E"
      },
      "source": [
        "# train set과 test set 합쳐서 전처리\n",
        "data = pd.concat([train, test], axis=0)"
      ],
      "execution_count": 496,
      "outputs": []
    },
    {
      "cell_type": "code",
      "metadata": {
        "colab": {
          "base_uri": "https://localhost:8080/",
          "height": 511
        },
        "id": "eRSQZAc4Gs-f",
        "outputId": "4f323d86-b270-4dd5-f772-9c81aecb4379"
      },
      "source": [
        "# null값 체크\n",
        "pd.DataFrame(data.isnull().mean()).rename(columns={0:'percent'}).sort_values('percent', ascending=False)*100"
      ],
      "execution_count": 384,
      "outputs": [
        {
          "output_type": "execute_result",
          "data": {
            "text/html": [
              "<div>\n",
              "<style scoped>\n",
              "    .dataframe tbody tr th:only-of-type {\n",
              "        vertical-align: middle;\n",
              "    }\n",
              "\n",
              "    .dataframe tbody tr th {\n",
              "        vertical-align: top;\n",
              "    }\n",
              "\n",
              "    .dataframe thead th {\n",
              "        text-align: right;\n",
              "    }\n",
              "</style>\n",
              "<table border=\"1\" class=\"dataframe\">\n",
              "  <thead>\n",
              "    <tr style=\"text-align: right;\">\n",
              "      <th></th>\n",
              "      <th>percent</th>\n",
              "    </tr>\n",
              "  </thead>\n",
              "  <tbody>\n",
              "    <tr>\n",
              "      <th>등록차량수</th>\n",
              "      <td>25.717162</td>\n",
              "    </tr>\n",
              "    <tr>\n",
              "      <th>임대보증금</th>\n",
              "      <td>18.847509</td>\n",
              "    </tr>\n",
              "    <tr>\n",
              "      <th>임대료</th>\n",
              "      <td>18.847509</td>\n",
              "    </tr>\n",
              "    <tr>\n",
              "      <th>도보 10분거리 내 지하철역 수(환승노선 수 반영)</th>\n",
              "      <td>6.366381</td>\n",
              "    </tr>\n",
              "    <tr>\n",
              "      <th>도보 10분거리 내 버스정류장 수</th>\n",
              "      <td>0.100654</td>\n",
              "    </tr>\n",
              "    <tr>\n",
              "      <th>자격유형</th>\n",
              "      <td>0.050327</td>\n",
              "    </tr>\n",
              "    <tr>\n",
              "      <th>단지코드</th>\n",
              "      <td>0.000000</td>\n",
              "    </tr>\n",
              "    <tr>\n",
              "      <th>총세대수</th>\n",
              "      <td>0.000000</td>\n",
              "    </tr>\n",
              "    <tr>\n",
              "      <th>임대건물구분</th>\n",
              "      <td>0.000000</td>\n",
              "    </tr>\n",
              "    <tr>\n",
              "      <th>지역</th>\n",
              "      <td>0.000000</td>\n",
              "    </tr>\n",
              "    <tr>\n",
              "      <th>공급유형</th>\n",
              "      <td>0.000000</td>\n",
              "    </tr>\n",
              "    <tr>\n",
              "      <th>전용면적</th>\n",
              "      <td>0.000000</td>\n",
              "    </tr>\n",
              "    <tr>\n",
              "      <th>전용면적별세대수</th>\n",
              "      <td>0.000000</td>\n",
              "    </tr>\n",
              "    <tr>\n",
              "      <th>공가수</th>\n",
              "      <td>0.000000</td>\n",
              "    </tr>\n",
              "    <tr>\n",
              "      <th>단지내주차면수</th>\n",
              "      <td>0.000000</td>\n",
              "    </tr>\n",
              "  </tbody>\n",
              "</table>\n",
              "</div>"
            ],
            "text/plain": [
              "                                percent\n",
              "등록차량수                         25.717162\n",
              "임대보증금                         18.847509\n",
              "임대료                           18.847509\n",
              "도보 10분거리 내 지하철역 수(환승노선 수 반영)   6.366381\n",
              "도보 10분거리 내 버스정류장 수             0.100654\n",
              "자격유형                           0.050327\n",
              "단지코드                           0.000000\n",
              "총세대수                           0.000000\n",
              "임대건물구분                         0.000000\n",
              "지역                             0.000000\n",
              "공급유형                           0.000000\n",
              "전용면적                           0.000000\n",
              "전용면적별세대수                       0.000000\n",
              "공가수                            0.000000\n",
              "단지내주차면수                        0.000000"
            ]
          },
          "metadata": {
            "tags": []
          },
          "execution_count": 384
        }
      ]
    },
    {
      "cell_type": "code",
      "metadata": {
        "colab": {
          "base_uri": "https://localhost:8080/"
        },
        "id": "W_OSOSx2OHlK",
        "outputId": "b62b425b-57c3-4dec-a003-f09977fb55a5"
      },
      "source": [
        "# null값 처리\n",
        "data.loc[data['임대보증금'].isnull()]['자격유형'].unique()\n",
        "# 임대보증금 null값들의 자격유형은 다 'D'이네..."
      ],
      "execution_count": null,
      "outputs": [
        {
          "output_type": "execute_result",
          "data": {
            "text/plain": [
              "array(['D'], dtype=object)"
            ]
          },
          "metadata": {
            "tags": []
          },
          "execution_count": 78
        }
      ]
    },
    {
      "cell_type": "code",
      "metadata": {
        "colab": {
          "base_uri": "https://localhost:8080/",
          "height": 394
        },
        "id": "2ULqsi1Oi-ak",
        "outputId": "055d23b6-aae7-468a-8af0-9c262b9e1aa5"
      },
      "source": [
        "# 자격유형에 대해서 EDA해보자\n",
        "data['자격유형'].hist(figsize=(8,6))\n",
        "# A가 가장 많고, dehijcdklno순"
      ],
      "execution_count": null,
      "outputs": [
        {
          "output_type": "execute_result",
          "data": {
            "text/plain": [
              "<matplotlib.axes._subplots.AxesSubplot at 0x7fe2774b3650>"
            ]
          },
          "metadata": {
            "tags": []
          },
          "execution_count": 96
        },
        {
          "output_type": "display_data",
          "data": {
            "image/png": "[encoded data removed]",
            "text/plain": [
              "<Figure size 576x432 with 1 Axes>"
            ]
          },
          "metadata": {
            "tags": [],
            "needs_background": "light"
          }
        }
      ]
    },
    {
      "cell_type": "code",
      "metadata": {
        "colab": {
          "base_uri": "https://localhost:8080/"
        },
        "id": "amK1MkxrfcC2",
        "outputId": "b4fec12b-39f1-4fd5-b3f8-fee2ad50932a"
      },
      "source": [
        "data.loc[data['임대보증금'].isnull()]['지역'].unique()\n",
        "# 서울 빼고 모든 지방이 포함되네"
      ],
      "execution_count": null,
      "outputs": [
        {
          "output_type": "execute_result",
          "data": {
            "text/plain": [
              "array(['강원도', '충청남도', '경상남도', '대전광역시', '부산광역시', '제주특별자치도', '울산광역시'],\n",
              "      dtype=object)"
            ]
          },
          "metadata": {
            "tags": []
          },
          "execution_count": 85
        }
      ]
    },
    {
      "cell_type": "code",
      "metadata": {
        "colab": {
          "base_uri": "https://localhost:8080/",
          "height": 922
        },
        "id": "5Q_0k8MwoiPo",
        "outputId": "ba5094dc-8d5a-411f-fc36-baa78bdbddcd"
      },
      "source": [
        "data.loc[data['임대보증금']=='-']\n",
        "# 이것을 어떻게 처리할지 고민..."
      ],
      "execution_count": null,
      "outputs": [
        {
          "output_type": "execute_result",
          "data": {
            "text/html": [
              "<div>\n",
              "<style scoped>\n",
              "    .dataframe tbody tr th:only-of-type {\n",
              "        vertical-align: middle;\n",
              "    }\n",
              "\n",
              "    .dataframe tbody tr th {\n",
              "        vertical-align: top;\n",
              "    }\n",
              "\n",
              "    .dataframe thead th {\n",
              "        text-align: right;\n",
              "    }\n",
              "</style>\n",
              "<table border=\"1\" class=\"dataframe\">\n",
              "  <thead>\n",
              "    <tr style=\"text-align: right;\">\n",
              "      <th></th>\n",
              "      <th>단지코드</th>\n",
              "      <th>총세대수</th>\n",
              "      <th>임대건물구분</th>\n",
              "      <th>지역</th>\n",
              "      <th>공급유형</th>\n",
              "      <th>전용면적</th>\n",
              "      <th>전용면적별세대수</th>\n",
              "      <th>공가수</th>\n",
              "      <th>자격유형</th>\n",
              "      <th>임대보증금</th>\n",
              "      <th>임대료</th>\n",
              "      <th>도보 10분거리 내 지하철역 수(환승노선 수 반영)</th>\n",
              "      <th>도보 10분거리 내 버스정류장 수</th>\n",
              "      <th>단지내주차면수</th>\n",
              "      <th>등록차량수</th>\n",
              "    </tr>\n",
              "  </thead>\n",
              "  <tbody>\n",
              "    <tr>\n",
              "      <th>2547</th>\n",
              "      <td>C1326</td>\n",
              "      <td>1934</td>\n",
              "      <td>아파트</td>\n",
              "      <td>부산광역시</td>\n",
              "      <td>국민임대</td>\n",
              "      <td>24.72</td>\n",
              "      <td>472</td>\n",
              "      <td>43.0</td>\n",
              "      <td>H</td>\n",
              "      <td>-</td>\n",
              "      <td>-</td>\n",
              "      <td>0.0</td>\n",
              "      <td>4.0</td>\n",
              "      <td>1670.0</td>\n",
              "      <td>1153.0</td>\n",
              "    </tr>\n",
              "    <tr>\n",
              "      <th>2548</th>\n",
              "      <td>C1326</td>\n",
              "      <td>1934</td>\n",
              "      <td>아파트</td>\n",
              "      <td>부산광역시</td>\n",
              "      <td>국민임대</td>\n",
              "      <td>24.79</td>\n",
              "      <td>104</td>\n",
              "      <td>43.0</td>\n",
              "      <td>H</td>\n",
              "      <td>-</td>\n",
              "      <td>-</td>\n",
              "      <td>0.0</td>\n",
              "      <td>4.0</td>\n",
              "      <td>1670.0</td>\n",
              "      <td>1153.0</td>\n",
              "    </tr>\n",
              "    <tr>\n",
              "      <th>2549</th>\n",
              "      <td>C1326</td>\n",
              "      <td>1934</td>\n",
              "      <td>아파트</td>\n",
              "      <td>부산광역시</td>\n",
              "      <td>국민임대</td>\n",
              "      <td>26.83</td>\n",
              "      <td>590</td>\n",
              "      <td>43.0</td>\n",
              "      <td>H</td>\n",
              "      <td>-</td>\n",
              "      <td>-</td>\n",
              "      <td>0.0</td>\n",
              "      <td>4.0</td>\n",
              "      <td>1670.0</td>\n",
              "      <td>1153.0</td>\n",
              "    </tr>\n",
              "    <tr>\n",
              "      <th>2550</th>\n",
              "      <td>C1326</td>\n",
              "      <td>1934</td>\n",
              "      <td>아파트</td>\n",
              "      <td>부산광역시</td>\n",
              "      <td>국민임대</td>\n",
              "      <td>37.70</td>\n",
              "      <td>464</td>\n",
              "      <td>43.0</td>\n",
              "      <td>H</td>\n",
              "      <td>-</td>\n",
              "      <td>-</td>\n",
              "      <td>0.0</td>\n",
              "      <td>4.0</td>\n",
              "      <td>1670.0</td>\n",
              "      <td>1153.0</td>\n",
              "    </tr>\n",
              "    <tr>\n",
              "      <th>2551</th>\n",
              "      <td>C1326</td>\n",
              "      <td>1934</td>\n",
              "      <td>아파트</td>\n",
              "      <td>부산광역시</td>\n",
              "      <td>국민임대</td>\n",
              "      <td>46.94</td>\n",
              "      <td>304</td>\n",
              "      <td>43.0</td>\n",
              "      <td>H</td>\n",
              "      <td>-</td>\n",
              "      <td>-</td>\n",
              "      <td>0.0</td>\n",
              "      <td>4.0</td>\n",
              "      <td>1670.0</td>\n",
              "      <td>1153.0</td>\n",
              "    </tr>\n",
              "    <tr>\n",
              "      <th>2680</th>\n",
              "      <td>C1786</td>\n",
              "      <td>480</td>\n",
              "      <td>아파트</td>\n",
              "      <td>강원도</td>\n",
              "      <td>행복주택</td>\n",
              "      <td>16.91</td>\n",
              "      <td>156</td>\n",
              "      <td>25.0</td>\n",
              "      <td>K</td>\n",
              "      <td>-</td>\n",
              "      <td>-</td>\n",
              "      <td>0.0</td>\n",
              "      <td>3.0</td>\n",
              "      <td>338.0</td>\n",
              "      <td>345.0</td>\n",
              "    </tr>\n",
              "    <tr>\n",
              "      <th>2681</th>\n",
              "      <td>C1786</td>\n",
              "      <td>480</td>\n",
              "      <td>아파트</td>\n",
              "      <td>강원도</td>\n",
              "      <td>행복주택</td>\n",
              "      <td>26.90</td>\n",
              "      <td>136</td>\n",
              "      <td>25.0</td>\n",
              "      <td>K</td>\n",
              "      <td>-</td>\n",
              "      <td>-</td>\n",
              "      <td>0.0</td>\n",
              "      <td>3.0</td>\n",
              "      <td>338.0</td>\n",
              "      <td>345.0</td>\n",
              "    </tr>\n",
              "    <tr>\n",
              "      <th>2682</th>\n",
              "      <td>C1786</td>\n",
              "      <td>480</td>\n",
              "      <td>아파트</td>\n",
              "      <td>강원도</td>\n",
              "      <td>행복주택</td>\n",
              "      <td>26.90</td>\n",
              "      <td>72</td>\n",
              "      <td>25.0</td>\n",
              "      <td>K</td>\n",
              "      <td>-</td>\n",
              "      <td>-</td>\n",
              "      <td>0.0</td>\n",
              "      <td>3.0</td>\n",
              "      <td>338.0</td>\n",
              "      <td>345.0</td>\n",
              "    </tr>\n",
              "    <tr>\n",
              "      <th>2683</th>\n",
              "      <td>C1786</td>\n",
              "      <td>480</td>\n",
              "      <td>아파트</td>\n",
              "      <td>강원도</td>\n",
              "      <td>행복주택</td>\n",
              "      <td>26.90</td>\n",
              "      <td>24</td>\n",
              "      <td>25.0</td>\n",
              "      <td>K</td>\n",
              "      <td>-</td>\n",
              "      <td>-</td>\n",
              "      <td>0.0</td>\n",
              "      <td>3.0</td>\n",
              "      <td>338.0</td>\n",
              "      <td>345.0</td>\n",
              "    </tr>\n",
              "    <tr>\n",
              "      <th>2906</th>\n",
              "      <td>C2186</td>\n",
              "      <td>924</td>\n",
              "      <td>아파트</td>\n",
              "      <td>대구광역시</td>\n",
              "      <td>국민임대</td>\n",
              "      <td>29.17</td>\n",
              "      <td>238</td>\n",
              "      <td>0.0</td>\n",
              "      <td>H</td>\n",
              "      <td>-</td>\n",
              "      <td>-</td>\n",
              "      <td>0.0</td>\n",
              "      <td>8.0</td>\n",
              "      <td>664.0</td>\n",
              "      <td>744.0</td>\n",
              "    </tr>\n",
              "    <tr>\n",
              "      <th>2907</th>\n",
              "      <td>C2186</td>\n",
              "      <td>924</td>\n",
              "      <td>아파트</td>\n",
              "      <td>대구광역시</td>\n",
              "      <td>국민임대</td>\n",
              "      <td>29.34</td>\n",
              "      <td>38</td>\n",
              "      <td>0.0</td>\n",
              "      <td>H</td>\n",
              "      <td>-</td>\n",
              "      <td>-</td>\n",
              "      <td>0.0</td>\n",
              "      <td>8.0</td>\n",
              "      <td>664.0</td>\n",
              "      <td>744.0</td>\n",
              "    </tr>\n",
              "    <tr>\n",
              "      <th>2908</th>\n",
              "      <td>C2186</td>\n",
              "      <td>924</td>\n",
              "      <td>아파트</td>\n",
              "      <td>대구광역시</td>\n",
              "      <td>국민임대</td>\n",
              "      <td>37.43</td>\n",
              "      <td>220</td>\n",
              "      <td>0.0</td>\n",
              "      <td>H</td>\n",
              "      <td>-</td>\n",
              "      <td>-</td>\n",
              "      <td>0.0</td>\n",
              "      <td>8.0</td>\n",
              "      <td>664.0</td>\n",
              "      <td>744.0</td>\n",
              "    </tr>\n",
              "    <tr>\n",
              "      <th>1005</th>\n",
              "      <td>C2152</td>\n",
              "      <td>120</td>\n",
              "      <td>아파트</td>\n",
              "      <td>강원도</td>\n",
              "      <td>영구임대</td>\n",
              "      <td>24.83</td>\n",
              "      <td>66</td>\n",
              "      <td>9.0</td>\n",
              "      <td>C</td>\n",
              "      <td>-</td>\n",
              "      <td>-</td>\n",
              "      <td>0.0</td>\n",
              "      <td>1.0</td>\n",
              "      <td>40.0</td>\n",
              "      <td>NaN</td>\n",
              "    </tr>\n",
              "    <tr>\n",
              "      <th>1006</th>\n",
              "      <td>C2152</td>\n",
              "      <td>120</td>\n",
              "      <td>아파트</td>\n",
              "      <td>강원도</td>\n",
              "      <td>영구임대</td>\n",
              "      <td>33.84</td>\n",
              "      <td>54</td>\n",
              "      <td>9.0</td>\n",
              "      <td>C</td>\n",
              "      <td>-</td>\n",
              "      <td>-</td>\n",
              "      <td>0.0</td>\n",
              "      <td>1.0</td>\n",
              "      <td>40.0</td>\n",
              "      <td>NaN</td>\n",
              "    </tr>\n",
              "    <tr>\n",
              "      <th>1014</th>\n",
              "      <td>C1267</td>\n",
              "      <td>675</td>\n",
              "      <td>아파트</td>\n",
              "      <td>경상남도</td>\n",
              "      <td>행복주택</td>\n",
              "      <td>16.94</td>\n",
              "      <td>50</td>\n",
              "      <td>38.0</td>\n",
              "      <td>L</td>\n",
              "      <td>-</td>\n",
              "      <td>-</td>\n",
              "      <td>0.0</td>\n",
              "      <td>1.0</td>\n",
              "      <td>467.0</td>\n",
              "      <td>NaN</td>\n",
              "    </tr>\n",
              "    <tr>\n",
              "      <th>1015</th>\n",
              "      <td>C1267</td>\n",
              "      <td>675</td>\n",
              "      <td>아파트</td>\n",
              "      <td>경상남도</td>\n",
              "      <td>행복주택</td>\n",
              "      <td>26.85</td>\n",
              "      <td>66</td>\n",
              "      <td>38.0</td>\n",
              "      <td>L</td>\n",
              "      <td>-</td>\n",
              "      <td>-</td>\n",
              "      <td>0.0</td>\n",
              "      <td>1.0</td>\n",
              "      <td>467.0</td>\n",
              "      <td>NaN</td>\n",
              "    </tr>\n",
              "    <tr>\n",
              "      <th>1016</th>\n",
              "      <td>C1267</td>\n",
              "      <td>675</td>\n",
              "      <td>아파트</td>\n",
              "      <td>경상남도</td>\n",
              "      <td>행복주택</td>\n",
              "      <td>26.85</td>\n",
              "      <td>8</td>\n",
              "      <td>38.0</td>\n",
              "      <td>L</td>\n",
              "      <td>-</td>\n",
              "      <td>-</td>\n",
              "      <td>0.0</td>\n",
              "      <td>1.0</td>\n",
              "      <td>467.0</td>\n",
              "      <td>NaN</td>\n",
              "    </tr>\n",
              "    <tr>\n",
              "      <th>1017</th>\n",
              "      <td>C1267</td>\n",
              "      <td>675</td>\n",
              "      <td>아파트</td>\n",
              "      <td>경상남도</td>\n",
              "      <td>행복주택</td>\n",
              "      <td>36.77</td>\n",
              "      <td>126</td>\n",
              "      <td>38.0</td>\n",
              "      <td>L</td>\n",
              "      <td>-</td>\n",
              "      <td>-</td>\n",
              "      <td>0.0</td>\n",
              "      <td>1.0</td>\n",
              "      <td>467.0</td>\n",
              "      <td>NaN</td>\n",
              "    </tr>\n",
              "  </tbody>\n",
              "</table>\n",
              "</div>"
            ],
            "text/plain": [
              "       단지코드  총세대수 임대건물구분  ... 도보 10분거리 내 버스정류장 수 단지내주차면수   등록차량수\n",
              "2547  C1326  1934    아파트  ...                4.0  1670.0  1153.0\n",
              "2548  C1326  1934    아파트  ...                4.0  1670.0  1153.0\n",
              "2549  C1326  1934    아파트  ...                4.0  1670.0  1153.0\n",
              "2550  C1326  1934    아파트  ...                4.0  1670.0  1153.0\n",
              "2551  C1326  1934    아파트  ...                4.0  1670.0  1153.0\n",
              "2680  C1786   480    아파트  ...                3.0   338.0   345.0\n",
              "2681  C1786   480    아파트  ...                3.0   338.0   345.0\n",
              "2682  C1786   480    아파트  ...                3.0   338.0   345.0\n",
              "2683  C1786   480    아파트  ...                3.0   338.0   345.0\n",
              "2906  C2186   924    아파트  ...                8.0   664.0   744.0\n",
              "2907  C2186   924    아파트  ...                8.0   664.0   744.0\n",
              "2908  C2186   924    아파트  ...                8.0   664.0   744.0\n",
              "1005  C2152   120    아파트  ...                1.0    40.0     NaN\n",
              "1006  C2152   120    아파트  ...                1.0    40.0     NaN\n",
              "1014  C1267   675    아파트  ...                1.0   467.0     NaN\n",
              "1015  C1267   675    아파트  ...                1.0   467.0     NaN\n",
              "1016  C1267   675    아파트  ...                1.0   467.0     NaN\n",
              "1017  C1267   675    아파트  ...                1.0   467.0     NaN\n",
              "\n",
              "[18 rows x 15 columns]"
            ]
          },
          "metadata": {
            "tags": []
          },
          "execution_count": 133
        }
      ]
    },
    {
      "cell_type": "code",
      "metadata": {
        "colab": {
          "base_uri": "https://localhost:8080/",
          "height": 602
        },
        "id": "ytYse0Sjh5HC",
        "outputId": "dfac991b-3296-4b0c-9576-70c7c5dccec7"
      },
      "source": [
        "data.loc[data['자격유형'] == 'D']\n",
        "# 전용면적별세대수를 보면 D유형은 다 1세대 이다.\n",
        "# 분양해서 들어온것으로 추측할 수 있다.(0으로 치환)"
      ],
      "execution_count": null,
      "outputs": [
        {
          "output_type": "execute_result",
          "data": {
            "text/html": [
              "<div>\n",
              "<style scoped>\n",
              "    .dataframe tbody tr th:only-of-type {\n",
              "        vertical-align: middle;\n",
              "    }\n",
              "\n",
              "    .dataframe tbody tr th {\n",
              "        vertical-align: top;\n",
              "    }\n",
              "\n",
              "    .dataframe thead th {\n",
              "        text-align: right;\n",
              "    }\n",
              "</style>\n",
              "<table border=\"1\" class=\"dataframe\">\n",
              "  <thead>\n",
              "    <tr style=\"text-align: right;\">\n",
              "      <th></th>\n",
              "      <th>단지코드</th>\n",
              "      <th>총세대수</th>\n",
              "      <th>임대건물구분</th>\n",
              "      <th>지역</th>\n",
              "      <th>공급유형</th>\n",
              "      <th>전용면적</th>\n",
              "      <th>전용면적별세대수</th>\n",
              "      <th>공가수</th>\n",
              "      <th>자격유형</th>\n",
              "      <th>임대보증금</th>\n",
              "      <th>임대료</th>\n",
              "      <th>도보 10분거리 내 지하철역 수(환승노선 수 반영)</th>\n",
              "      <th>도보 10분거리 내 버스정류장 수</th>\n",
              "      <th>단지내주차면수</th>\n",
              "      <th>등록차량수</th>\n",
              "    </tr>\n",
              "  </thead>\n",
              "  <tbody>\n",
              "    <tr>\n",
              "      <th>88</th>\n",
              "      <td>C1925</td>\n",
              "      <td>601</td>\n",
              "      <td>상가</td>\n",
              "      <td>강원도</td>\n",
              "      <td>임대상가</td>\n",
              "      <td>32.10</td>\n",
              "      <td>1</td>\n",
              "      <td>9.0</td>\n",
              "      <td>D</td>\n",
              "      <td>NaN</td>\n",
              "      <td>NaN</td>\n",
              "      <td>0.0</td>\n",
              "      <td>4.0</td>\n",
              "      <td>117.0</td>\n",
              "      <td>75.0</td>\n",
              "    </tr>\n",
              "    <tr>\n",
              "      <th>89</th>\n",
              "      <td>C1925</td>\n",
              "      <td>601</td>\n",
              "      <td>상가</td>\n",
              "      <td>강원도</td>\n",
              "      <td>임대상가</td>\n",
              "      <td>32.10</td>\n",
              "      <td>1</td>\n",
              "      <td>9.0</td>\n",
              "      <td>D</td>\n",
              "      <td>NaN</td>\n",
              "      <td>NaN</td>\n",
              "      <td>0.0</td>\n",
              "      <td>4.0</td>\n",
              "      <td>117.0</td>\n",
              "      <td>75.0</td>\n",
              "    </tr>\n",
              "    <tr>\n",
              "      <th>90</th>\n",
              "      <td>C1925</td>\n",
              "      <td>601</td>\n",
              "      <td>상가</td>\n",
              "      <td>강원도</td>\n",
              "      <td>임대상가</td>\n",
              "      <td>32.10</td>\n",
              "      <td>1</td>\n",
              "      <td>9.0</td>\n",
              "      <td>D</td>\n",
              "      <td>NaN</td>\n",
              "      <td>NaN</td>\n",
              "      <td>0.0</td>\n",
              "      <td>4.0</td>\n",
              "      <td>117.0</td>\n",
              "      <td>75.0</td>\n",
              "    </tr>\n",
              "    <tr>\n",
              "      <th>91</th>\n",
              "      <td>C1925</td>\n",
              "      <td>601</td>\n",
              "      <td>상가</td>\n",
              "      <td>강원도</td>\n",
              "      <td>임대상가</td>\n",
              "      <td>72.16</td>\n",
              "      <td>1</td>\n",
              "      <td>9.0</td>\n",
              "      <td>D</td>\n",
              "      <td>NaN</td>\n",
              "      <td>NaN</td>\n",
              "      <td>0.0</td>\n",
              "      <td>4.0</td>\n",
              "      <td>117.0</td>\n",
              "      <td>75.0</td>\n",
              "    </tr>\n",
              "    <tr>\n",
              "      <th>101</th>\n",
              "      <td>C1874</td>\n",
              "      <td>619</td>\n",
              "      <td>상가</td>\n",
              "      <td>충청남도</td>\n",
              "      <td>임대상가</td>\n",
              "      <td>12.62</td>\n",
              "      <td>1</td>\n",
              "      <td>2.0</td>\n",
              "      <td>D</td>\n",
              "      <td>NaN</td>\n",
              "      <td>NaN</td>\n",
              "      <td>NaN</td>\n",
              "      <td>2.0</td>\n",
              "      <td>97.0</td>\n",
              "      <td>62.0</td>\n",
              "    </tr>\n",
              "    <tr>\n",
              "      <th>...</th>\n",
              "      <td>...</td>\n",
              "      <td>...</td>\n",
              "      <td>...</td>\n",
              "      <td>...</td>\n",
              "      <td>...</td>\n",
              "      <td>...</td>\n",
              "      <td>...</td>\n",
              "      <td>...</td>\n",
              "      <td>...</td>\n",
              "      <td>...</td>\n",
              "      <td>...</td>\n",
              "      <td>...</td>\n",
              "      <td>...</td>\n",
              "      <td>...</td>\n",
              "      <td>...</td>\n",
              "    </tr>\n",
              "    <tr>\n",
              "      <th>328</th>\n",
              "      <td>C1729</td>\n",
              "      <td>627</td>\n",
              "      <td>상가</td>\n",
              "      <td>강원도</td>\n",
              "      <td>임대상가</td>\n",
              "      <td>32.46</td>\n",
              "      <td>1</td>\n",
              "      <td>0.0</td>\n",
              "      <td>D</td>\n",
              "      <td>NaN</td>\n",
              "      <td>NaN</td>\n",
              "      <td>0.0</td>\n",
              "      <td>5.0</td>\n",
              "      <td>131.0</td>\n",
              "      <td>NaN</td>\n",
              "    </tr>\n",
              "    <tr>\n",
              "      <th>329</th>\n",
              "      <td>C1729</td>\n",
              "      <td>627</td>\n",
              "      <td>상가</td>\n",
              "      <td>강원도</td>\n",
              "      <td>임대상가</td>\n",
              "      <td>34.86</td>\n",
              "      <td>1</td>\n",
              "      <td>0.0</td>\n",
              "      <td>D</td>\n",
              "      <td>NaN</td>\n",
              "      <td>NaN</td>\n",
              "      <td>0.0</td>\n",
              "      <td>5.0</td>\n",
              "      <td>131.0</td>\n",
              "      <td>NaN</td>\n",
              "    </tr>\n",
              "    <tr>\n",
              "      <th>330</th>\n",
              "      <td>C1729</td>\n",
              "      <td>627</td>\n",
              "      <td>상가</td>\n",
              "      <td>강원도</td>\n",
              "      <td>임대상가</td>\n",
              "      <td>35.76</td>\n",
              "      <td>1</td>\n",
              "      <td>0.0</td>\n",
              "      <td>D</td>\n",
              "      <td>NaN</td>\n",
              "      <td>NaN</td>\n",
              "      <td>0.0</td>\n",
              "      <td>5.0</td>\n",
              "      <td>131.0</td>\n",
              "      <td>NaN</td>\n",
              "    </tr>\n",
              "    <tr>\n",
              "      <th>331</th>\n",
              "      <td>C1729</td>\n",
              "      <td>627</td>\n",
              "      <td>상가</td>\n",
              "      <td>강원도</td>\n",
              "      <td>임대상가</td>\n",
              "      <td>50.08</td>\n",
              "      <td>1</td>\n",
              "      <td>0.0</td>\n",
              "      <td>D</td>\n",
              "      <td>NaN</td>\n",
              "      <td>NaN</td>\n",
              "      <td>0.0</td>\n",
              "      <td>5.0</td>\n",
              "      <td>131.0</td>\n",
              "      <td>NaN</td>\n",
              "    </tr>\n",
              "    <tr>\n",
              "      <th>332</th>\n",
              "      <td>C1729</td>\n",
              "      <td>627</td>\n",
              "      <td>상가</td>\n",
              "      <td>강원도</td>\n",
              "      <td>임대상가</td>\n",
              "      <td>240.22</td>\n",
              "      <td>1</td>\n",
              "      <td>0.0</td>\n",
              "      <td>D</td>\n",
              "      <td>NaN</td>\n",
              "      <td>NaN</td>\n",
              "      <td>0.0</td>\n",
              "      <td>5.0</td>\n",
              "      <td>131.0</td>\n",
              "      <td>NaN</td>\n",
              "    </tr>\n",
              "  </tbody>\n",
              "</table>\n",
              "<p>749 rows × 15 columns</p>\n",
              "</div>"
            ],
            "text/plain": [
              "      단지코드  총세대수 임대건물구분  ... 도보 10분거리 내 버스정류장 수 단지내주차면수  등록차량수\n",
              "88   C1925   601     상가  ...                4.0   117.0   75.0\n",
              "89   C1925   601     상가  ...                4.0   117.0   75.0\n",
              "90   C1925   601     상가  ...                4.0   117.0   75.0\n",
              "91   C1925   601     상가  ...                4.0   117.0   75.0\n",
              "101  C1874   619     상가  ...                2.0    97.0   62.0\n",
              "..     ...   ...    ...  ...                ...     ...    ...\n",
              "328  C1729   627     상가  ...                5.0   131.0    NaN\n",
              "329  C1729   627     상가  ...                5.0   131.0    NaN\n",
              "330  C1729   627     상가  ...                5.0   131.0    NaN\n",
              "331  C1729   627     상가  ...                5.0   131.0    NaN\n",
              "332  C1729   627     상가  ...                5.0   131.0    NaN\n",
              "\n",
              "[749 rows x 15 columns]"
            ]
          },
          "metadata": {
            "tags": []
          },
          "execution_count": 89
        }
      ]
    },
    {
      "cell_type": "code",
      "metadata": {
        "id": "qFHXf7q_kW-y"
      },
      "source": [
        "data['임대보증금'] = data['임대보증금'].fillna(0)\n",
        "data['임대료'] = data['임대료'].fillna(0)\n",
        "data['임대보증금'] = data['임대보증금'].replace({'-':0})\n",
        "data['임대료'] = data['임대료'].replace({'-':0})"
      ],
      "execution_count": 497,
      "outputs": []
    },
    {
      "cell_type": "code",
      "metadata": {
        "id": "UsR2vpNokgeE"
      },
      "source": [
        "data['임대보증금'] = data['임대보증금'].astype('int')\n",
        "data['임대료'] = data['임대료'].astype('int')"
      ],
      "execution_count": 498,
      "outputs": []
    },
    {
      "cell_type": "code",
      "metadata": {
        "colab": {
          "base_uri": "https://localhost:8080/",
          "height": 602
        },
        "id": "boReBKV9k1Pr",
        "outputId": "7d7b99db-414b-402a-97cd-9f49616e5f6a"
      },
      "source": [
        "data.loc[data['도보 10분거리 내 지하철역 수(환승노선 수 반영)'].isnull()]\n",
        "# 지하철 null값을 처리하기 위해 지역을 EDA해보자"
      ],
      "execution_count": null,
      "outputs": [
        {
          "output_type": "execute_result",
          "data": {
            "text/html": [
              "<div>\n",
              "<style scoped>\n",
              "    .dataframe tbody tr th:only-of-type {\n",
              "        vertical-align: middle;\n",
              "    }\n",
              "\n",
              "    .dataframe tbody tr th {\n",
              "        vertical-align: top;\n",
              "    }\n",
              "\n",
              "    .dataframe thead th {\n",
              "        text-align: right;\n",
              "    }\n",
              "</style>\n",
              "<table border=\"1\" class=\"dataframe\">\n",
              "  <thead>\n",
              "    <tr style=\"text-align: right;\">\n",
              "      <th></th>\n",
              "      <th>단지코드</th>\n",
              "      <th>총세대수</th>\n",
              "      <th>임대건물구분</th>\n",
              "      <th>지역</th>\n",
              "      <th>공급유형</th>\n",
              "      <th>전용면적</th>\n",
              "      <th>전용면적별세대수</th>\n",
              "      <th>공가수</th>\n",
              "      <th>자격유형</th>\n",
              "      <th>임대보증금</th>\n",
              "      <th>임대료</th>\n",
              "      <th>도보 10분거리 내 지하철역 수(환승노선 수 반영)</th>\n",
              "      <th>도보 10분거리 내 버스정류장 수</th>\n",
              "      <th>단지내주차면수</th>\n",
              "      <th>등록차량수</th>\n",
              "    </tr>\n",
              "  </thead>\n",
              "  <tbody>\n",
              "    <tr>\n",
              "      <th>94</th>\n",
              "      <td>C1312</td>\n",
              "      <td>518</td>\n",
              "      <td>아파트</td>\n",
              "      <td>충청남도</td>\n",
              "      <td>국민임대</td>\n",
              "      <td>39.72</td>\n",
              "      <td>60</td>\n",
              "      <td>12.0</td>\n",
              "      <td>A</td>\n",
              "      <td>17460000</td>\n",
              "      <td>122210</td>\n",
              "      <td>NaN</td>\n",
              "      <td>3.0</td>\n",
              "      <td>527.0</td>\n",
              "      <td>359.0</td>\n",
              "    </tr>\n",
              "    <tr>\n",
              "      <th>95</th>\n",
              "      <td>C1312</td>\n",
              "      <td>518</td>\n",
              "      <td>아파트</td>\n",
              "      <td>충청남도</td>\n",
              "      <td>국민임대</td>\n",
              "      <td>39.98</td>\n",
              "      <td>89</td>\n",
              "      <td>12.0</td>\n",
              "      <td>A</td>\n",
              "      <td>17460000</td>\n",
              "      <td>122210</td>\n",
              "      <td>NaN</td>\n",
              "      <td>3.0</td>\n",
              "      <td>527.0</td>\n",
              "      <td>359.0</td>\n",
              "    </tr>\n",
              "    <tr>\n",
              "      <th>96</th>\n",
              "      <td>C1312</td>\n",
              "      <td>518</td>\n",
              "      <td>아파트</td>\n",
              "      <td>충청남도</td>\n",
              "      <td>국민임대</td>\n",
              "      <td>41.55</td>\n",
              "      <td>225</td>\n",
              "      <td>12.0</td>\n",
              "      <td>A</td>\n",
              "      <td>19954000</td>\n",
              "      <td>130940</td>\n",
              "      <td>NaN</td>\n",
              "      <td>3.0</td>\n",
              "      <td>527.0</td>\n",
              "      <td>359.0</td>\n",
              "    </tr>\n",
              "    <tr>\n",
              "      <th>97</th>\n",
              "      <td>C1312</td>\n",
              "      <td>518</td>\n",
              "      <td>아파트</td>\n",
              "      <td>충청남도</td>\n",
              "      <td>국민임대</td>\n",
              "      <td>46.90</td>\n",
              "      <td>143</td>\n",
              "      <td>12.0</td>\n",
              "      <td>A</td>\n",
              "      <td>28687000</td>\n",
              "      <td>149660</td>\n",
              "      <td>NaN</td>\n",
              "      <td>3.0</td>\n",
              "      <td>527.0</td>\n",
              "      <td>359.0</td>\n",
              "    </tr>\n",
              "    <tr>\n",
              "      <th>98</th>\n",
              "      <td>C1874</td>\n",
              "      <td>619</td>\n",
              "      <td>아파트</td>\n",
              "      <td>충청남도</td>\n",
              "      <td>영구임대</td>\n",
              "      <td>26.37</td>\n",
              "      <td>294</td>\n",
              "      <td>2.0</td>\n",
              "      <td>C</td>\n",
              "      <td>3141000</td>\n",
              "      <td>69900</td>\n",
              "      <td>NaN</td>\n",
              "      <td>2.0</td>\n",
              "      <td>97.0</td>\n",
              "      <td>62.0</td>\n",
              "    </tr>\n",
              "    <tr>\n",
              "      <th>...</th>\n",
              "      <td>...</td>\n",
              "      <td>...</td>\n",
              "      <td>...</td>\n",
              "      <td>...</td>\n",
              "      <td>...</td>\n",
              "      <td>...</td>\n",
              "      <td>...</td>\n",
              "      <td>...</td>\n",
              "      <td>...</td>\n",
              "      <td>...</td>\n",
              "      <td>...</td>\n",
              "      <td>...</td>\n",
              "      <td>...</td>\n",
              "      <td>...</td>\n",
              "      <td>...</td>\n",
              "    </tr>\n",
              "    <tr>\n",
              "      <th>307</th>\n",
              "      <td>C1318</td>\n",
              "      <td>312</td>\n",
              "      <td>아파트</td>\n",
              "      <td>충청남도</td>\n",
              "      <td>공공임대(50년)</td>\n",
              "      <td>49.99</td>\n",
              "      <td>159</td>\n",
              "      <td>1.0</td>\n",
              "      <td>A</td>\n",
              "      <td>18269000</td>\n",
              "      <td>258880</td>\n",
              "      <td>NaN</td>\n",
              "      <td>11.0</td>\n",
              "      <td>226.0</td>\n",
              "      <td>NaN</td>\n",
              "    </tr>\n",
              "    <tr>\n",
              "      <th>891</th>\n",
              "      <td>C1327</td>\n",
              "      <td>98</td>\n",
              "      <td>아파트</td>\n",
              "      <td>대전광역시</td>\n",
              "      <td>행복주택</td>\n",
              "      <td>16.83</td>\n",
              "      <td>30</td>\n",
              "      <td>13.0</td>\n",
              "      <td>J</td>\n",
              "      <td>18800000</td>\n",
              "      <td>94000</td>\n",
              "      <td>NaN</td>\n",
              "      <td>17.0</td>\n",
              "      <td>98.0</td>\n",
              "      <td>NaN</td>\n",
              "    </tr>\n",
              "    <tr>\n",
              "      <th>892</th>\n",
              "      <td>C1327</td>\n",
              "      <td>98</td>\n",
              "      <td>아파트</td>\n",
              "      <td>대전광역시</td>\n",
              "      <td>행복주택</td>\n",
              "      <td>26.51</td>\n",
              "      <td>10</td>\n",
              "      <td>13.0</td>\n",
              "      <td>J</td>\n",
              "      <td>28400000</td>\n",
              "      <td>142000</td>\n",
              "      <td>NaN</td>\n",
              "      <td>17.0</td>\n",
              "      <td>98.0</td>\n",
              "      <td>NaN</td>\n",
              "    </tr>\n",
              "    <tr>\n",
              "      <th>893</th>\n",
              "      <td>C1327</td>\n",
              "      <td>98</td>\n",
              "      <td>아파트</td>\n",
              "      <td>대전광역시</td>\n",
              "      <td>행복주택</td>\n",
              "      <td>26.51</td>\n",
              "      <td>10</td>\n",
              "      <td>13.0</td>\n",
              "      <td>J</td>\n",
              "      <td>28400000</td>\n",
              "      <td>142000</td>\n",
              "      <td>NaN</td>\n",
              "      <td>17.0</td>\n",
              "      <td>98.0</td>\n",
              "      <td>NaN</td>\n",
              "    </tr>\n",
              "    <tr>\n",
              "      <th>894</th>\n",
              "      <td>C1327</td>\n",
              "      <td>98</td>\n",
              "      <td>아파트</td>\n",
              "      <td>대전광역시</td>\n",
              "      <td>행복주택</td>\n",
              "      <td>36.92</td>\n",
              "      <td>48</td>\n",
              "      <td>13.0</td>\n",
              "      <td>J</td>\n",
              "      <td>36800000</td>\n",
              "      <td>184000</td>\n",
              "      <td>NaN</td>\n",
              "      <td>17.0</td>\n",
              "      <td>98.0</td>\n",
              "      <td>NaN</td>\n",
              "    </tr>\n",
              "  </tbody>\n",
              "</table>\n",
              "<p>253 rows × 15 columns</p>\n",
              "</div>"
            ],
            "text/plain": [
              "      단지코드  총세대수 임대건물구분  ... 도보 10분거리 내 버스정류장 수 단지내주차면수  등록차량수\n",
              "94   C1312   518    아파트  ...                3.0   527.0  359.0\n",
              "95   C1312   518    아파트  ...                3.0   527.0  359.0\n",
              "96   C1312   518    아파트  ...                3.0   527.0  359.0\n",
              "97   C1312   518    아파트  ...                3.0   527.0  359.0\n",
              "98   C1874   619    아파트  ...                2.0    97.0   62.0\n",
              "..     ...   ...    ...  ...                ...     ...    ...\n",
              "307  C1318   312    아파트  ...               11.0   226.0    NaN\n",
              "891  C1327    98    아파트  ...               17.0    98.0    NaN\n",
              "892  C1327    98    아파트  ...               17.0    98.0    NaN\n",
              "893  C1327    98    아파트  ...               17.0    98.0    NaN\n",
              "894  C1327    98    아파트  ...               17.0    98.0    NaN\n",
              "\n",
              "[253 rows x 15 columns]"
            ]
          },
          "metadata": {
            "tags": []
          },
          "execution_count": 110
        }
      ]
    },
    {
      "cell_type": "code",
      "metadata": {
        "colab": {
          "base_uri": "https://localhost:8080/"
        },
        "id": "Ox6OI08Ulevp",
        "outputId": "e500476c-107c-4628-bc9d-72b144b6d1c7"
      },
      "source": [
        "data.loc[data['지역']=='충청남도']['도보 10분거리 내 지하철역 수(환승노선 수 반영)'].unique()\n",
        "# 충남의 지하철역 수는 0이다. ==> 충남 지하철=0으로 처리"
      ],
      "execution_count": null,
      "outputs": [
        {
          "output_type": "execute_result",
          "data": {
            "text/plain": [
              "array([nan,  0.])"
            ]
          },
          "metadata": {
            "tags": []
          },
          "execution_count": 107
        }
      ]
    },
    {
      "cell_type": "code",
      "metadata": {
        "colab": {
          "base_uri": "https://localhost:8080/"
        },
        "id": "mpfGQUmClvM-",
        "outputId": "812cba62-01a6-4e26-9e52-4f51cb7bd93e"
      },
      "source": [
        "data.loc[data['지역']=='대전광역시']['도보 10분거리 내 지하철역 수(환승노선 수 반영)'].unique()\n",
        "# 대전광역시는 지하철이 있으니 단지코드별 비교를 통해 null값 처리"
      ],
      "execution_count": null,
      "outputs": [
        {
          "output_type": "execute_result",
          "data": {
            "text/plain": [
              "array([ 1.,  0., nan,  2.])"
            ]
          },
          "metadata": {
            "tags": []
          },
          "execution_count": 108
        }
      ]
    },
    {
      "cell_type": "code",
      "metadata": {
        "colab": {
          "base_uri": "https://localhost:8080/"
        },
        "id": "EWJsiZWdl3K1",
        "outputId": "87a8a424-0d55-443c-c15e-4f20f3001b63"
      },
      "source": [
        "data.loc[data['지역']=='경상남도']['도보 10분거리 내 지하철역 수(환승노선 수 반영)'].unique()\n",
        "# 경상남도도 지하철이 있다고 하니 단지코드별 비교를 통해 처리"
      ],
      "execution_count": null,
      "outputs": [
        {
          "output_type": "execute_result",
          "data": {
            "text/plain": [
              "array([ 0., nan,  1.])"
            ]
          },
          "metadata": {
            "tags": []
          },
          "execution_count": 109
        }
      ]
    },
    {
      "cell_type": "code",
      "metadata": {
        "colab": {
          "base_uri": "https://localhost:8080/"
        },
        "id": "HbrMxKS1mMn1",
        "outputId": "71c43a98-7ccd-472a-db1a-7986853a94cd"
      },
      "source": [
        "data.groupby(['지역','단지코드'])['도보 10분거리 내 지하철역 수(환승노선 수 반영)'].value_counts(dropna=False).loc['경상남도'].sort_index()\n",
        "# 단지마다 지하철역 수가 결측치가 관측된다. ==> 단지별 비교는 안될 것 같다."
      ],
      "execution_count": null,
      "outputs": [
        {
          "output_type": "execute_result",
          "data": {
            "text/plain": [
              "단지코드   도보 10분거리 내 지하철역 수(환승노선 수 반영)\n",
              "C1003  0.0                              8\n",
              "C1027  0.0                              5\n",
              "C1077  0.0                              3\n",
              "C1141  0.0                              6\n",
              "C1147  0.0                              7\n",
              "                                       ..\n",
              "C2571  0.0                             14\n",
              "C2576  0.0                              2\n",
              "C2595  0.0                              5\n",
              "C2631  0.0                              7\n",
              "C2680  0.0                              3\n",
              "Name: 도보 10분거리 내 지하철역 수(환승노선 수 반영), Length: 69, dtype: int64"
            ]
          },
          "metadata": {
            "tags": []
          },
          "execution_count": 124
        }
      ]
    },
    {
      "cell_type": "code",
      "metadata": {
        "id": "9QEqOtz4n_Kx"
      },
      "source": [
        "data.loc[(data['도보 10분거리 내 지하철역 수(환승노선 수 반영)'].isnull())&(data['지역']=='충청남도'), '도보 10분거리 내 지하철역 수(환승노선 수 반영)'] = 0.\n",
        "data['도보 10분거리 내 지하철역 수(환승노선 수 반영)'] = data['도보 10분거리 내 지하철역 수(환승노선 수 반영)'].fillna(0.)"
      ],
      "execution_count": 499,
      "outputs": []
    },
    {
      "cell_type": "code",
      "metadata": {
        "colab": {
          "base_uri": "https://localhost:8080/",
          "height": 256
        },
        "id": "bkmSeDN_oGXh",
        "outputId": "e0299185-662e-412f-9cbd-64d3f1860e4f"
      },
      "source": [
        "# 도보 10분거리 내 버스정류장 수 null값 처리\n",
        "data.loc[data['단지코드']=='C1649']\n",
        "# 단지코드 'C1649'는 아예 정류장 수가 결측되었다. ==> 경상남도의 median으로 처리하자"
      ],
      "execution_count": null,
      "outputs": [
        {
          "output_type": "execute_result",
          "data": {
            "text/html": [
              "<div>\n",
              "<style scoped>\n",
              "    .dataframe tbody tr th:only-of-type {\n",
              "        vertical-align: middle;\n",
              "    }\n",
              "\n",
              "    .dataframe tbody tr th {\n",
              "        vertical-align: top;\n",
              "    }\n",
              "\n",
              "    .dataframe thead th {\n",
              "        text-align: right;\n",
              "    }\n",
              "</style>\n",
              "<table border=\"1\" class=\"dataframe\">\n",
              "  <thead>\n",
              "    <tr style=\"text-align: right;\">\n",
              "      <th></th>\n",
              "      <th>단지코드</th>\n",
              "      <th>총세대수</th>\n",
              "      <th>임대건물구분</th>\n",
              "      <th>지역</th>\n",
              "      <th>공급유형</th>\n",
              "      <th>전용면적</th>\n",
              "      <th>전용면적별세대수</th>\n",
              "      <th>공가수</th>\n",
              "      <th>자격유형</th>\n",
              "      <th>임대보증금</th>\n",
              "      <th>임대료</th>\n",
              "      <th>도보 10분거리 내 지하철역 수(환승노선 수 반영)</th>\n",
              "      <th>도보 10분거리 내 버스정류장 수</th>\n",
              "      <th>단지내주차면수</th>\n",
              "      <th>등록차량수</th>\n",
              "    </tr>\n",
              "  </thead>\n",
              "  <tbody>\n",
              "    <tr>\n",
              "      <th>2315</th>\n",
              "      <td>C1649</td>\n",
              "      <td>575</td>\n",
              "      <td>아파트</td>\n",
              "      <td>경상남도</td>\n",
              "      <td>공공임대(10년)</td>\n",
              "      <td>74.97</td>\n",
              "      <td>80</td>\n",
              "      <td>15.0</td>\n",
              "      <td>A</td>\n",
              "      <td>46000000</td>\n",
              "      <td>456000</td>\n",
              "      <td>0.0</td>\n",
              "      <td>NaN</td>\n",
              "      <td>1066.0</td>\n",
              "      <td>855.0</td>\n",
              "    </tr>\n",
              "    <tr>\n",
              "      <th>2316</th>\n",
              "      <td>C1649</td>\n",
              "      <td>575</td>\n",
              "      <td>아파트</td>\n",
              "      <td>경상남도</td>\n",
              "      <td>공공임대(10년)</td>\n",
              "      <td>84.95</td>\n",
              "      <td>124</td>\n",
              "      <td>15.0</td>\n",
              "      <td>A</td>\n",
              "      <td>57000000</td>\n",
              "      <td>462000</td>\n",
              "      <td>0.0</td>\n",
              "      <td>NaN</td>\n",
              "      <td>1066.0</td>\n",
              "      <td>855.0</td>\n",
              "    </tr>\n",
              "    <tr>\n",
              "      <th>2317</th>\n",
              "      <td>C1649</td>\n",
              "      <td>575</td>\n",
              "      <td>아파트</td>\n",
              "      <td>경상남도</td>\n",
              "      <td>공공임대(10년)</td>\n",
              "      <td>84.96</td>\n",
              "      <td>289</td>\n",
              "      <td>15.0</td>\n",
              "      <td>A</td>\n",
              "      <td>57000000</td>\n",
              "      <td>462000</td>\n",
              "      <td>0.0</td>\n",
              "      <td>NaN</td>\n",
              "      <td>1066.0</td>\n",
              "      <td>855.0</td>\n",
              "    </tr>\n",
              "    <tr>\n",
              "      <th>2318</th>\n",
              "      <td>C1649</td>\n",
              "      <td>575</td>\n",
              "      <td>아파트</td>\n",
              "      <td>경상남도</td>\n",
              "      <td>공공임대(10년)</td>\n",
              "      <td>84.98</td>\n",
              "      <td>82</td>\n",
              "      <td>15.0</td>\n",
              "      <td>A</td>\n",
              "      <td>57000000</td>\n",
              "      <td>462000</td>\n",
              "      <td>0.0</td>\n",
              "      <td>NaN</td>\n",
              "      <td>1066.0</td>\n",
              "      <td>855.0</td>\n",
              "    </tr>\n",
              "  </tbody>\n",
              "</table>\n",
              "</div>"
            ],
            "text/plain": [
              "       단지코드  총세대수 임대건물구분  ... 도보 10분거리 내 버스정류장 수 단지내주차면수  등록차량수\n",
              "2315  C1649   575    아파트  ...                NaN  1066.0  855.0\n",
              "2316  C1649   575    아파트  ...                NaN  1066.0  855.0\n",
              "2317  C1649   575    아파트  ...                NaN  1066.0  855.0\n",
              "2318  C1649   575    아파트  ...                NaN  1066.0  855.0\n",
              "\n",
              "[4 rows x 15 columns]"
            ]
          },
          "metadata": {
            "tags": []
          },
          "execution_count": 137
        }
      ]
    },
    {
      "cell_type": "code",
      "metadata": {
        "id": "cIFmBegUpDdM"
      },
      "source": [
        "data.loc[data['도보 10분거리 내 버스정류장 수'].isnull(), '도보 10분거리 내 버스정류장 수'] = data.loc[(data['지역']=='경상남도')]['도보 10분거리 내 버스정류장 수'].median()"
      ],
      "execution_count": 500,
      "outputs": []
    },
    {
      "cell_type": "code",
      "metadata": {
        "colab": {
          "base_uri": "https://localhost:8080/",
          "height": 161
        },
        "id": "efehJNGeplP4",
        "outputId": "599ac5e9-5adc-4bb4-c463-f8bbecaa4e5e"
      },
      "source": [
        "# 자격유형 null값 처리\n",
        "data.loc[data['자격유형'].isnull()]\n",
        "# 자격유형을 임대보증금과 비교하여 처리"
      ],
      "execution_count": 389,
      "outputs": [
        {
          "output_type": "execute_result",
          "data": {
            "text/html": [
              "<div>\n",
              "<style scoped>\n",
              "    .dataframe tbody tr th:only-of-type {\n",
              "        vertical-align: middle;\n",
              "    }\n",
              "\n",
              "    .dataframe tbody tr th {\n",
              "        vertical-align: top;\n",
              "    }\n",
              "\n",
              "    .dataframe thead th {\n",
              "        text-align: right;\n",
              "    }\n",
              "</style>\n",
              "<table border=\"1\" class=\"dataframe\">\n",
              "  <thead>\n",
              "    <tr style=\"text-align: right;\">\n",
              "      <th></th>\n",
              "      <th>단지코드</th>\n",
              "      <th>총세대수</th>\n",
              "      <th>임대건물구분</th>\n",
              "      <th>지역</th>\n",
              "      <th>공급유형</th>\n",
              "      <th>전용면적</th>\n",
              "      <th>전용면적별세대수</th>\n",
              "      <th>공가수</th>\n",
              "      <th>자격유형</th>\n",
              "      <th>임대보증금</th>\n",
              "      <th>임대료</th>\n",
              "      <th>도보 10분거리 내 지하철역 수(환승노선 수 반영)</th>\n",
              "      <th>도보 10분거리 내 버스정류장 수</th>\n",
              "      <th>단지내주차면수</th>\n",
              "      <th>등록차량수</th>\n",
              "    </tr>\n",
              "  </thead>\n",
              "  <tbody>\n",
              "    <tr>\n",
              "      <th>196</th>\n",
              "      <td>C2411</td>\n",
              "      <td>962</td>\n",
              "      <td>아파트</td>\n",
              "      <td>경상남도</td>\n",
              "      <td>국민임대</td>\n",
              "      <td>46.90</td>\n",
              "      <td>240</td>\n",
              "      <td>25.0</td>\n",
              "      <td>NaN</td>\n",
              "      <td>71950000</td>\n",
              "      <td>37470</td>\n",
              "      <td>0.0</td>\n",
              "      <td>2.0</td>\n",
              "      <td>840.0</td>\n",
              "      <td>NaN</td>\n",
              "    </tr>\n",
              "    <tr>\n",
              "      <th>258</th>\n",
              "      <td>C2253</td>\n",
              "      <td>1161</td>\n",
              "      <td>아파트</td>\n",
              "      <td>강원도</td>\n",
              "      <td>영구임대</td>\n",
              "      <td>26.37</td>\n",
              "      <td>745</td>\n",
              "      <td>0.0</td>\n",
              "      <td>NaN</td>\n",
              "      <td>2249000</td>\n",
              "      <td>44770</td>\n",
              "      <td>0.0</td>\n",
              "      <td>2.0</td>\n",
              "      <td>173.0</td>\n",
              "      <td>NaN</td>\n",
              "    </tr>\n",
              "  </tbody>\n",
              "</table>\n",
              "</div>"
            ],
            "text/plain": [
              "      단지코드  총세대수 임대건물구분  ... 도보 10분거리 내 버스정류장 수 단지내주차면수  등록차량수\n",
              "196  C2411   962    아파트  ...                2.0   840.0    NaN\n",
              "258  C2253  1161    아파트  ...                2.0   173.0    NaN\n",
              "\n",
              "[2 rows x 15 columns]"
            ]
          },
          "metadata": {
            "tags": []
          },
          "execution_count": 389
        }
      ]
    },
    {
      "cell_type": "code",
      "metadata": {
        "colab": {
          "base_uri": "https://localhost:8080/",
          "height": 422
        },
        "id": "XJy3h0bAWrbD",
        "outputId": "94cf39ca-65ae-46ba-cd4c-582bc3400b55"
      },
      "source": [
        "data.corr()"
      ],
      "execution_count": 35,
      "outputs": [
        {
          "output_type": "execute_result",
          "data": {
            "text/html": [
              "<div>\n",
              "<style scoped>\n",
              "    .dataframe tbody tr th:only-of-type {\n",
              "        vertical-align: middle;\n",
              "    }\n",
              "\n",
              "    .dataframe tbody tr th {\n",
              "        vertical-align: top;\n",
              "    }\n",
              "\n",
              "    .dataframe thead th {\n",
              "        text-align: right;\n",
              "    }\n",
              "</style>\n",
              "<table border=\"1\" class=\"dataframe\">\n",
              "  <thead>\n",
              "    <tr style=\"text-align: right;\">\n",
              "      <th></th>\n",
              "      <th>총세대수</th>\n",
              "      <th>전용면적</th>\n",
              "      <th>전용면적별세대수</th>\n",
              "      <th>공가수</th>\n",
              "      <th>임대보증금</th>\n",
              "      <th>임대료</th>\n",
              "      <th>도보 10분거리 내 지하철역 수(환승노선 수 반영)</th>\n",
              "      <th>도보 10분거리 내 버스정류장 수</th>\n",
              "      <th>단지내주차면수</th>\n",
              "      <th>등록차량수</th>\n",
              "      <th>공실율</th>\n",
              "    </tr>\n",
              "  </thead>\n",
              "  <tbody>\n",
              "    <tr>\n",
              "      <th>총세대수</th>\n",
              "      <td>1.000000</td>\n",
              "      <td>0.053513</td>\n",
              "      <td>0.090440</td>\n",
              "      <td>0.125877</td>\n",
              "      <td>-0.143949</td>\n",
              "      <td>-0.153476</td>\n",
              "      <td>0.195048</td>\n",
              "      <td>-0.006070</td>\n",
              "      <td>0.469530</td>\n",
              "      <td>0.316703</td>\n",
              "      <td>-0.405885</td>\n",
              "    </tr>\n",
              "    <tr>\n",
              "      <th>전용면적</th>\n",
              "      <td>0.053513</td>\n",
              "      <td>1.000000</td>\n",
              "      <td>-0.027360</td>\n",
              "      <td>-0.070725</td>\n",
              "      <td>0.137201</td>\n",
              "      <td>0.199376</td>\n",
              "      <td>0.009669</td>\n",
              "      <td>-0.001276</td>\n",
              "      <td>0.069806</td>\n",
              "      <td>0.115453</td>\n",
              "      <td>-0.094652</td>\n",
              "    </tr>\n",
              "    <tr>\n",
              "      <th>전용면적별세대수</th>\n",
              "      <td>0.090440</td>\n",
              "      <td>-0.027360</td>\n",
              "      <td>1.000000</td>\n",
              "      <td>0.155941</td>\n",
              "      <td>0.102118</td>\n",
              "      <td>0.172775</td>\n",
              "      <td>-0.041335</td>\n",
              "      <td>0.039396</td>\n",
              "      <td>0.294625</td>\n",
              "      <td>0.247085</td>\n",
              "      <td>-0.034561</td>\n",
              "    </tr>\n",
              "    <tr>\n",
              "      <th>공가수</th>\n",
              "      <td>0.125877</td>\n",
              "      <td>-0.070725</td>\n",
              "      <td>0.155941</td>\n",
              "      <td>1.000000</td>\n",
              "      <td>0.133226</td>\n",
              "      <td>-0.022510</td>\n",
              "      <td>-0.037642</td>\n",
              "      <td>0.038577</td>\n",
              "      <td>0.281112</td>\n",
              "      <td>0.118121</td>\n",
              "      <td>0.538964</td>\n",
              "    </tr>\n",
              "    <tr>\n",
              "      <th>임대보증금</th>\n",
              "      <td>-0.143949</td>\n",
              "      <td>0.137201</td>\n",
              "      <td>0.102118</td>\n",
              "      <td>0.133226</td>\n",
              "      <td>1.000000</td>\n",
              "      <td>0.598350</td>\n",
              "      <td>-0.051386</td>\n",
              "      <td>0.108945</td>\n",
              "      <td>0.390195</td>\n",
              "      <td>0.436073</td>\n",
              "      <td>0.150291</td>\n",
              "    </tr>\n",
              "    <tr>\n",
              "      <th>임대료</th>\n",
              "      <td>-0.153476</td>\n",
              "      <td>0.199376</td>\n",
              "      <td>0.172775</td>\n",
              "      <td>-0.022510</td>\n",
              "      <td>0.598350</td>\n",
              "      <td>1.000000</td>\n",
              "      <td>-0.034479</td>\n",
              "      <td>0.074800</td>\n",
              "      <td>0.418479</td>\n",
              "      <td>0.519834</td>\n",
              "      <td>0.004179</td>\n",
              "    </tr>\n",
              "    <tr>\n",
              "      <th>도보 10분거리 내 지하철역 수(환승노선 수 반영)</th>\n",
              "      <td>0.195048</td>\n",
              "      <td>0.009669</td>\n",
              "      <td>-0.041335</td>\n",
              "      <td>-0.037642</td>\n",
              "      <td>-0.051386</td>\n",
              "      <td>-0.034479</td>\n",
              "      <td>1.000000</td>\n",
              "      <td>0.057382</td>\n",
              "      <td>-0.009034</td>\n",
              "      <td>-0.086562</td>\n",
              "      <td>-0.077535</td>\n",
              "    </tr>\n",
              "    <tr>\n",
              "      <th>도보 10분거리 내 버스정류장 수</th>\n",
              "      <td>-0.006070</td>\n",
              "      <td>-0.001276</td>\n",
              "      <td>0.039396</td>\n",
              "      <td>0.038577</td>\n",
              "      <td>0.108945</td>\n",
              "      <td>0.074800</td>\n",
              "      <td>0.057382</td>\n",
              "      <td>1.000000</td>\n",
              "      <td>0.089327</td>\n",
              "      <td>0.103752</td>\n",
              "      <td>-0.017352</td>\n",
              "    </tr>\n",
              "    <tr>\n",
              "      <th>단지내주차면수</th>\n",
              "      <td>0.469530</td>\n",
              "      <td>0.069806</td>\n",
              "      <td>0.294625</td>\n",
              "      <td>0.281112</td>\n",
              "      <td>0.390195</td>\n",
              "      <td>0.418479</td>\n",
              "      <td>-0.009034</td>\n",
              "      <td>0.089327</td>\n",
              "      <td>1.000000</td>\n",
              "      <td>0.859216</td>\n",
              "      <td>-0.186697</td>\n",
              "    </tr>\n",
              "    <tr>\n",
              "      <th>등록차량수</th>\n",
              "      <td>0.316703</td>\n",
              "      <td>0.115453</td>\n",
              "      <td>0.247085</td>\n",
              "      <td>0.118121</td>\n",
              "      <td>0.436073</td>\n",
              "      <td>0.519834</td>\n",
              "      <td>-0.086562</td>\n",
              "      <td>0.103752</td>\n",
              "      <td>0.859216</td>\n",
              "      <td>1.000000</td>\n",
              "      <td>-0.182623</td>\n",
              "    </tr>\n",
              "    <tr>\n",
              "      <th>공실율</th>\n",
              "      <td>-0.405885</td>\n",
              "      <td>-0.094652</td>\n",
              "      <td>-0.034561</td>\n",
              "      <td>0.538964</td>\n",
              "      <td>0.150291</td>\n",
              "      <td>0.004179</td>\n",
              "      <td>-0.077535</td>\n",
              "      <td>-0.017352</td>\n",
              "      <td>-0.186697</td>\n",
              "      <td>-0.182623</td>\n",
              "      <td>1.000000</td>\n",
              "    </tr>\n",
              "  </tbody>\n",
              "</table>\n",
              "</div>"
            ],
            "text/plain": [
              "                                  총세대수      전용면적  ...     등록차량수       공실율\n",
              "총세대수                          1.000000  0.053513  ...  0.316703 -0.405885\n",
              "전용면적                          0.053513  1.000000  ...  0.115453 -0.094652\n",
              "전용면적별세대수                      0.090440 -0.027360  ...  0.247085 -0.034561\n",
              "공가수                           0.125877 -0.070725  ...  0.118121  0.538964\n",
              "임대보증금                        -0.143949  0.137201  ...  0.436073  0.150291\n",
              "임대료                          -0.153476  0.199376  ...  0.519834  0.004179\n",
              "도보 10분거리 내 지하철역 수(환승노선 수 반영)  0.195048  0.009669  ... -0.086562 -0.077535\n",
              "도보 10분거리 내 버스정류장 수           -0.006070 -0.001276  ...  0.103752 -0.017352\n",
              "단지내주차면수                       0.469530  0.069806  ...  0.859216 -0.186697\n",
              "등록차량수                         0.316703  0.115453  ...  1.000000 -0.182623\n",
              "공실율                          -0.405885 -0.094652  ... -0.182623  1.000000\n",
              "\n",
              "[11 rows x 11 columns]"
            ]
          },
          "metadata": {
            "tags": []
          },
          "execution_count": 35
        }
      ]
    },
    {
      "cell_type": "code",
      "metadata": {
        "id": "Wsxm92pPqJ0R"
      },
      "source": [
        "data.loc[(data['자격유형'].isnull())&(data['지역']=='경상남도'), '자격유형'] = 'E'\n",
        "data.loc[(data['자격유형'].isnull())&(data['지역']=='강원도'), '자격유형'] = 'F'"
      ],
      "execution_count": 501,
      "outputs": []
    },
    {
      "cell_type": "code",
      "metadata": {
        "id": "5yGmDeZ5r4g-"
      },
      "source": [
        "data['공실율'] = data['공가수']/data['총세대수']*100"
      ],
      "execution_count": 10,
      "outputs": []
    },
    {
      "cell_type": "code",
      "metadata": {
        "colab": {
          "base_uri": "https://localhost:8080/"
        },
        "id": "b8q62gnJsckA",
        "outputId": "a422da6b-b0ab-4f2e-92bc-5a81bc9cf635"
      },
      "source": [
        "data.skew()\n",
        "# 다 log변환을 해야한다. 그 전에 모델링 돌려보자"
      ],
      "execution_count": null,
      "outputs": [
        {
          "output_type": "execute_result",
          "data": {
            "text/plain": [
              "총세대수                             1.268751\n",
              "전용면적                            10.864622\n",
              "전용면적별세대수                         3.321005\n",
              "공가수                              0.810131\n",
              "임대보증금                            2.845083\n",
              "임대료                              1.637468\n",
              "도보 10분거리 내 지하철역 수(환승노선 수 반영)     2.868214\n",
              "도보 10분거리 내 버스정류장 수               5.991318\n",
              "단지내주차면수                          0.945232\n",
              "등록차량수                            1.461736\n",
              "공실율                              2.519258\n",
              "dtype: float64"
            ]
          },
          "metadata": {
            "tags": []
          },
          "execution_count": 160
        }
      ]
    },
    {
      "cell_type": "code",
      "metadata": {
        "colab": {
          "base_uri": "https://localhost:8080/",
          "height": 662
        },
        "id": "Y4XpmyNtj8O_",
        "outputId": "cd875955-edfa-4998-f9d6-3e1dca3a76e7"
      },
      "source": [
        "# 상관계수를 보자\n",
        "from sklearn.preprocessing import LabelEncoder\n",
        "data_copy=data.copy()\n",
        "for i in data_copy.select_dtypes('object'):\n",
        "  data_copy[i] = LabelEncoder().fit_transform(data_copy[i])\n",
        "\n",
        "data_copy.corr()"
      ],
      "execution_count": 391,
      "outputs": [
        {
          "output_type": "execute_result",
          "data": {
            "text/html": [
              "<div>\n",
              "<style scoped>\n",
              "    .dataframe tbody tr th:only-of-type {\n",
              "        vertical-align: middle;\n",
              "    }\n",
              "\n",
              "    .dataframe tbody tr th {\n",
              "        vertical-align: top;\n",
              "    }\n",
              "\n",
              "    .dataframe thead th {\n",
              "        text-align: right;\n",
              "    }\n",
              "</style>\n",
              "<table border=\"1\" class=\"dataframe\">\n",
              "  <thead>\n",
              "    <tr style=\"text-align: right;\">\n",
              "      <th></th>\n",
              "      <th>단지코드</th>\n",
              "      <th>총세대수</th>\n",
              "      <th>임대건물구분</th>\n",
              "      <th>지역</th>\n",
              "      <th>공급유형</th>\n",
              "      <th>전용면적</th>\n",
              "      <th>전용면적별세대수</th>\n",
              "      <th>공가수</th>\n",
              "      <th>자격유형</th>\n",
              "      <th>임대보증금</th>\n",
              "      <th>임대료</th>\n",
              "      <th>도보 10분거리 내 지하철역 수(환승노선 수 반영)</th>\n",
              "      <th>도보 10분거리 내 버스정류장 수</th>\n",
              "      <th>단지내주차면수</th>\n",
              "      <th>등록차량수</th>\n",
              "    </tr>\n",
              "  </thead>\n",
              "  <tbody>\n",
              "    <tr>\n",
              "      <th>단지코드</th>\n",
              "      <td>1.000000</td>\n",
              "      <td>0.048983</td>\n",
              "      <td>-0.069088</td>\n",
              "      <td>-0.020800</td>\n",
              "      <td>0.019559</td>\n",
              "      <td>-0.004582</td>\n",
              "      <td>-0.030955</td>\n",
              "      <td>0.000845</td>\n",
              "      <td>0.051644</td>\n",
              "      <td>-0.071803</td>\n",
              "      <td>-0.029130</td>\n",
              "      <td>-0.120087</td>\n",
              "      <td>-0.081409</td>\n",
              "      <td>-0.080123</td>\n",
              "      <td>-0.099950</td>\n",
              "    </tr>\n",
              "    <tr>\n",
              "      <th>총세대수</th>\n",
              "      <td>0.048983</td>\n",
              "      <td>1.000000</td>\n",
              "      <td>-0.395954</td>\n",
              "      <td>-0.050277</td>\n",
              "      <td>0.112987</td>\n",
              "      <td>0.053513</td>\n",
              "      <td>0.090440</td>\n",
              "      <td>0.125877</td>\n",
              "      <td>0.105370</td>\n",
              "      <td>-0.143949</td>\n",
              "      <td>-0.153476</td>\n",
              "      <td>0.195048</td>\n",
              "      <td>-0.005914</td>\n",
              "      <td>0.469530</td>\n",
              "      <td>0.316703</td>\n",
              "    </tr>\n",
              "    <tr>\n",
              "      <th>임대건물구분</th>\n",
              "      <td>-0.069088</td>\n",
              "      <td>-0.395954</td>\n",
              "      <td>1.000000</td>\n",
              "      <td>-0.118590</td>\n",
              "      <td>-0.415907</td>\n",
              "      <td>-0.024147</td>\n",
              "      <td>0.369218</td>\n",
              "      <td>0.198148</td>\n",
              "      <td>-0.135264</td>\n",
              "      <td>0.483030</td>\n",
              "      <td>0.548481</td>\n",
              "      <td>-0.147159</td>\n",
              "      <td>0.046569</td>\n",
              "      <td>0.395826</td>\n",
              "      <td>0.449189</td>\n",
              "    </tr>\n",
              "    <tr>\n",
              "      <th>지역</th>\n",
              "      <td>-0.020800</td>\n",
              "      <td>-0.050277</td>\n",
              "      <td>-0.118590</td>\n",
              "      <td>1.000000</td>\n",
              "      <td>0.022463</td>\n",
              "      <td>-0.006460</td>\n",
              "      <td>-0.039802</td>\n",
              "      <td>-0.011008</td>\n",
              "      <td>-0.024636</td>\n",
              "      <td>-0.137169</td>\n",
              "      <td>-0.164484</td>\n",
              "      <td>-0.055085</td>\n",
              "      <td>-0.112403</td>\n",
              "      <td>-0.182264</td>\n",
              "      <td>-0.169999</td>\n",
              "    </tr>\n",
              "    <tr>\n",
              "      <th>공급유형</th>\n",
              "      <td>0.019559</td>\n",
              "      <td>0.112987</td>\n",
              "      <td>-0.415907</td>\n",
              "      <td>0.022463</td>\n",
              "      <td>1.000000</td>\n",
              "      <td>-0.217368</td>\n",
              "      <td>-0.203735</td>\n",
              "      <td>0.180054</td>\n",
              "      <td>0.651762</td>\n",
              "      <td>-0.290686</td>\n",
              "      <td>-0.692461</td>\n",
              "      <td>0.066679</td>\n",
              "      <td>-0.030108</td>\n",
              "      <td>-0.369375</td>\n",
              "      <td>-0.518342</td>\n",
              "    </tr>\n",
              "    <tr>\n",
              "      <th>전용면적</th>\n",
              "      <td>-0.004582</td>\n",
              "      <td>0.053513</td>\n",
              "      <td>-0.024147</td>\n",
              "      <td>-0.006460</td>\n",
              "      <td>-0.217368</td>\n",
              "      <td>1.000000</td>\n",
              "      <td>-0.027360</td>\n",
              "      <td>-0.070725</td>\n",
              "      <td>-0.169489</td>\n",
              "      <td>0.137201</td>\n",
              "      <td>0.199376</td>\n",
              "      <td>0.009669</td>\n",
              "      <td>-0.001577</td>\n",
              "      <td>0.069806</td>\n",
              "      <td>0.115453</td>\n",
              "    </tr>\n",
              "    <tr>\n",
              "      <th>전용면적별세대수</th>\n",
              "      <td>-0.030955</td>\n",
              "      <td>0.090440</td>\n",
              "      <td>0.369218</td>\n",
              "      <td>-0.039802</td>\n",
              "      <td>-0.203735</td>\n",
              "      <td>-0.027360</td>\n",
              "      <td>1.000000</td>\n",
              "      <td>0.155941</td>\n",
              "      <td>-0.089566</td>\n",
              "      <td>0.102118</td>\n",
              "      <td>0.172775</td>\n",
              "      <td>-0.041335</td>\n",
              "      <td>0.039301</td>\n",
              "      <td>0.294625</td>\n",
              "      <td>0.247085</td>\n",
              "    </tr>\n",
              "    <tr>\n",
              "      <th>공가수</th>\n",
              "      <td>0.000845</td>\n",
              "      <td>0.125877</td>\n",
              "      <td>0.198148</td>\n",
              "      <td>-0.011008</td>\n",
              "      <td>0.180054</td>\n",
              "      <td>-0.070725</td>\n",
              "      <td>0.155941</td>\n",
              "      <td>1.000000</td>\n",
              "      <td>0.239767</td>\n",
              "      <td>0.133226</td>\n",
              "      <td>-0.022510</td>\n",
              "      <td>-0.037642</td>\n",
              "      <td>0.038542</td>\n",
              "      <td>0.281112</td>\n",
              "      <td>0.118121</td>\n",
              "    </tr>\n",
              "    <tr>\n",
              "      <th>자격유형</th>\n",
              "      <td>0.051644</td>\n",
              "      <td>0.105370</td>\n",
              "      <td>-0.135264</td>\n",
              "      <td>-0.024636</td>\n",
              "      <td>0.651762</td>\n",
              "      <td>-0.169489</td>\n",
              "      <td>-0.089566</td>\n",
              "      <td>0.239767</td>\n",
              "      <td>1.000000</td>\n",
              "      <td>0.001296</td>\n",
              "      <td>-0.243282</td>\n",
              "      <td>-0.008183</td>\n",
              "      <td>-0.003009</td>\n",
              "      <td>-0.108682</td>\n",
              "      <td>-0.154491</td>\n",
              "    </tr>\n",
              "    <tr>\n",
              "      <th>임대보증금</th>\n",
              "      <td>-0.071803</td>\n",
              "      <td>-0.143949</td>\n",
              "      <td>0.483030</td>\n",
              "      <td>-0.137169</td>\n",
              "      <td>-0.290686</td>\n",
              "      <td>0.137201</td>\n",
              "      <td>0.102118</td>\n",
              "      <td>0.133226</td>\n",
              "      <td>0.001296</td>\n",
              "      <td>1.000000</td>\n",
              "      <td>0.598350</td>\n",
              "      <td>-0.051386</td>\n",
              "      <td>0.108394</td>\n",
              "      <td>0.390195</td>\n",
              "      <td>0.436073</td>\n",
              "    </tr>\n",
              "    <tr>\n",
              "      <th>임대료</th>\n",
              "      <td>-0.029130</td>\n",
              "      <td>-0.153476</td>\n",
              "      <td>0.548481</td>\n",
              "      <td>-0.164484</td>\n",
              "      <td>-0.692461</td>\n",
              "      <td>0.199376</td>\n",
              "      <td>0.172775</td>\n",
              "      <td>-0.022510</td>\n",
              "      <td>-0.243282</td>\n",
              "      <td>0.598350</td>\n",
              "      <td>1.000000</td>\n",
              "      <td>-0.034479</td>\n",
              "      <td>0.073999</td>\n",
              "      <td>0.418479</td>\n",
              "      <td>0.519834</td>\n",
              "    </tr>\n",
              "    <tr>\n",
              "      <th>도보 10분거리 내 지하철역 수(환승노선 수 반영)</th>\n",
              "      <td>-0.120087</td>\n",
              "      <td>0.195048</td>\n",
              "      <td>-0.147159</td>\n",
              "      <td>-0.055085</td>\n",
              "      <td>0.066679</td>\n",
              "      <td>0.009669</td>\n",
              "      <td>-0.041335</td>\n",
              "      <td>-0.037642</td>\n",
              "      <td>-0.008183</td>\n",
              "      <td>-0.051386</td>\n",
              "      <td>-0.034479</td>\n",
              "      <td>1.000000</td>\n",
              "      <td>0.057473</td>\n",
              "      <td>-0.009034</td>\n",
              "      <td>-0.086562</td>\n",
              "    </tr>\n",
              "    <tr>\n",
              "      <th>도보 10분거리 내 버스정류장 수</th>\n",
              "      <td>-0.081409</td>\n",
              "      <td>-0.005914</td>\n",
              "      <td>0.046569</td>\n",
              "      <td>-0.112403</td>\n",
              "      <td>-0.030108</td>\n",
              "      <td>-0.001577</td>\n",
              "      <td>0.039301</td>\n",
              "      <td>0.038542</td>\n",
              "      <td>-0.003009</td>\n",
              "      <td>0.108394</td>\n",
              "      <td>0.073999</td>\n",
              "      <td>0.057473</td>\n",
              "      <td>1.000000</td>\n",
              "      <td>0.088928</td>\n",
              "      <td>0.103472</td>\n",
              "    </tr>\n",
              "    <tr>\n",
              "      <th>단지내주차면수</th>\n",
              "      <td>-0.080123</td>\n",
              "      <td>0.469530</td>\n",
              "      <td>0.395826</td>\n",
              "      <td>-0.182264</td>\n",
              "      <td>-0.369375</td>\n",
              "      <td>0.069806</td>\n",
              "      <td>0.294625</td>\n",
              "      <td>0.281112</td>\n",
              "      <td>-0.108682</td>\n",
              "      <td>0.390195</td>\n",
              "      <td>0.418479</td>\n",
              "      <td>-0.009034</td>\n",
              "      <td>0.088928</td>\n",
              "      <td>1.000000</td>\n",
              "      <td>0.859216</td>\n",
              "    </tr>\n",
              "    <tr>\n",
              "      <th>등록차량수</th>\n",
              "      <td>-0.099950</td>\n",
              "      <td>0.316703</td>\n",
              "      <td>0.449189</td>\n",
              "      <td>-0.169999</td>\n",
              "      <td>-0.518342</td>\n",
              "      <td>0.115453</td>\n",
              "      <td>0.247085</td>\n",
              "      <td>0.118121</td>\n",
              "      <td>-0.154491</td>\n",
              "      <td>0.436073</td>\n",
              "      <td>0.519834</td>\n",
              "      <td>-0.086562</td>\n",
              "      <td>0.103472</td>\n",
              "      <td>0.859216</td>\n",
              "      <td>1.000000</td>\n",
              "    </tr>\n",
              "  </tbody>\n",
              "</table>\n",
              "</div>"
            ],
            "text/plain": [
              "                                  단지코드      총세대수  ...   단지내주차면수     등록차량수\n",
              "단지코드                          1.000000  0.048983  ... -0.080123 -0.099950\n",
              "총세대수                          0.048983  1.000000  ...  0.469530  0.316703\n",
              "임대건물구분                       -0.069088 -0.395954  ...  0.395826  0.449189\n",
              "지역                           -0.020800 -0.050277  ... -0.182264 -0.169999\n",
              "공급유형                          0.019559  0.112987  ... -0.369375 -0.518342\n",
              "전용면적                         -0.004582  0.053513  ...  0.069806  0.115453\n",
              "전용면적별세대수                     -0.030955  0.090440  ...  0.294625  0.247085\n",
              "공가수                           0.000845  0.125877  ...  0.281112  0.118121\n",
              "자격유형                          0.051644  0.105370  ... -0.108682 -0.154491\n",
              "임대보증금                        -0.071803 -0.143949  ...  0.390195  0.436073\n",
              "임대료                          -0.029130 -0.153476  ...  0.418479  0.519834\n",
              "도보 10분거리 내 지하철역 수(환승노선 수 반영) -0.120087  0.195048  ... -0.009034 -0.086562\n",
              "도보 10분거리 내 버스정류장 수           -0.081409 -0.005914  ...  0.088928  0.103472\n",
              "단지내주차면수                      -0.080123  0.469530  ...  1.000000  0.859216\n",
              "등록차량수                        -0.099950  0.316703  ...  0.859216  1.000000\n",
              "\n",
              "[15 rows x 15 columns]"
            ]
          },
          "metadata": {
            "tags": []
          },
          "execution_count": 391
        }
      ]
    },
    {
      "cell_type": "code",
      "metadata": {
        "id": "Iu7mAL6Q2J8j"
      },
      "source": [
        "train = data.loc[data['등록차량수'].notnull()]\n",
        "test = data.loc[data['등록차량수'].isnull()].drop(columns='등록차량수')"
      ],
      "execution_count": 800,
      "outputs": []
    },
    {
      "cell_type": "code",
      "metadata": {
        "id": "oOo9AgNM16jR"
      },
      "source": [
        "train['전용면적'] = train['전용면적']//5*5\n",
        "test['전용면적'] = test['전용면적']//5*5\n",
        "\n",
        "\n",
        "idx = train[train['전용면적']>100].index\n",
        "train.loc[idx, '전용면적'] = 100\n",
        "idx = test[test['전용면적']>100].index\n",
        "test.loc[idx, '전용면적'] = 100\n",
        "\n",
        "idx = train[train['전용면적']<15].index\n",
        "train.loc[idx, '전용면적'] = 15\n",
        "idx = test[test['전용면적']<15].index\n",
        "test.loc[idx, '전용면적'] = 15"
      ],
      "execution_count": 801,
      "outputs": []
    },
    {
      "cell_type": "code",
      "metadata": {
        "colab": {
          "base_uri": "https://localhost:8080/"
        },
        "id": "xHEnB27Iyb_S",
        "outputId": "5f1c963b-2dc2-4987-a858-471f6b901615"
      },
      "source": [
        "columns = ['단지코드', '총세대수', '공가수', '지역', '단지내주차면수', '도보 10분거리 내 지하철역 수(환승노선 수 반영)', '도보 10분거리 내 버스정류장 수']\n",
        "target = '등록차량수'\n",
        "area_columns = []\n",
        "for area in train['전용면적'].unique():\n",
        "    area_columns.append(f'면적_{area}')\n",
        "\n",
        "new_train = pd.DataFrame()\n",
        "new_test = pd.DataFrame()\n",
        "\n",
        "for i, code in tqdm(enumerate(train['단지코드'].unique())):\n",
        "    temp = train[train['단지코드']==code]\n",
        "    temp.index = range(temp.shape[0])\n",
        "    for col in columns:\n",
        "        new_train.loc[i, col] = temp.loc[0, col]\n",
        "    \n",
        "    for col in area_columns:\n",
        "        area = float(col.split('_')[-1])\n",
        "        new_train.loc[i, col] = temp[temp['전용면적']==area]['전용면적별세대수'].sum()\n",
        "    \n",
        "    new_train.loc[i, '등록차량수'] = temp.loc[0, '등록차량수']\n",
        "    \n",
        "for i, code in tqdm(enumerate(test['단지코드'].unique())):\n",
        "    temp = test[test['단지코드']==code]\n",
        "    temp.index = range(temp.shape[0])\n",
        "    for col in columns:\n",
        "        new_test.loc[i, col] = temp.loc[0, col]\n",
        "    \n",
        "    for col in area_columns:\n",
        "        area = float(col.split('_')[-1])\n",
        "        new_test.loc[i, col] = temp[temp['전용면적']==area]['전용면적별세대수'].sum()"
      ],
      "execution_count": 802,
      "outputs": [
        {
          "output_type": "stream",
          "text": [
            "423it [00:08, 47.70it/s]\n",
            "150it [00:03, 46.73it/s]\n"
          ],
          "name": "stderr"
        }
      ]
    },
    {
      "cell_type": "code",
      "metadata": {
        "colab": {
          "base_uri": "https://localhost:8080/",
          "height": 447
        },
        "id": "WqplR_X0XD6O",
        "outputId": "20af6903-e647-4bae-ac80-7010390db12f"
      },
      "source": [
        "# 임대보증금과 임대료 aggregation\n",
        "data_agg = data.groupby('단지코드')['임대보증금'].agg(['mean', 'min', 'max', 'count', 'std'])\n",
        "data_agg_col = []\n",
        "\n",
        "for i in data_agg.columns:\n",
        "  data_agg_col.append(f'{i}-임대보증금')\n",
        "\n",
        "data_agg.columns = data_agg_col\n",
        "data_agg"
      ],
      "execution_count": 803,
      "outputs": [
        {
          "output_type": "execute_result",
          "data": {
            "text/html": [
              "<div>\n",
              "<style scoped>\n",
              "    .dataframe tbody tr th:only-of-type {\n",
              "        vertical-align: middle;\n",
              "    }\n",
              "\n",
              "    .dataframe tbody tr th {\n",
              "        vertical-align: top;\n",
              "    }\n",
              "\n",
              "    .dataframe thead th {\n",
              "        text-align: right;\n",
              "    }\n",
              "</style>\n",
              "<table border=\"1\" class=\"dataframe\">\n",
              "  <thead>\n",
              "    <tr style=\"text-align: right;\">\n",
              "      <th></th>\n",
              "      <th>mean-임대보증금</th>\n",
              "      <th>min-임대보증금</th>\n",
              "      <th>max-임대보증금</th>\n",
              "      <th>count-임대보증금</th>\n",
              "      <th>std-임대보증금</th>\n",
              "    </tr>\n",
              "    <tr>\n",
              "      <th>단지코드</th>\n",
              "      <th></th>\n",
              "      <th></th>\n",
              "      <th></th>\n",
              "      <th></th>\n",
              "      <th></th>\n",
              "    </tr>\n",
              "  </thead>\n",
              "  <tbody>\n",
              "    <tr>\n",
              "      <th>C1000</th>\n",
              "      <td>1.320357e+07</td>\n",
              "      <td>10803000</td>\n",
              "      <td>15604000</td>\n",
              "      <td>7</td>\n",
              "      <td>2.298347e+06</td>\n",
              "    </tr>\n",
              "    <tr>\n",
              "      <th>C1003</th>\n",
              "      <td>2.265000e+07</td>\n",
              "      <td>12000000</td>\n",
              "      <td>30000000</td>\n",
              "      <td>8</td>\n",
              "      <td>6.236986e+06</td>\n",
              "    </tr>\n",
              "    <tr>\n",
              "      <th>C1004</th>\n",
              "      <td>4.952632e+05</td>\n",
              "      <td>0</td>\n",
              "      <td>4728000</td>\n",
              "      <td>19</td>\n",
              "      <td>1.483515e+06</td>\n",
              "    </tr>\n",
              "    <tr>\n",
              "      <th>C1005</th>\n",
              "      <td>1.710767e+07</td>\n",
              "      <td>16205000</td>\n",
              "      <td>18770000</td>\n",
              "      <td>3</td>\n",
              "      <td>1.441397e+06</td>\n",
              "    </tr>\n",
              "    <tr>\n",
              "      <th>C1006</th>\n",
              "      <td>8.975556e+05</td>\n",
              "      <td>0</td>\n",
              "      <td>6873000</td>\n",
              "      <td>27</td>\n",
              "      <td>2.201004e+06</td>\n",
              "    </tr>\n",
              "    <tr>\n",
              "      <th>...</th>\n",
              "      <td>...</td>\n",
              "      <td>...</td>\n",
              "      <td>...</td>\n",
              "      <td>...</td>\n",
              "      <td>...</td>\n",
              "    </tr>\n",
              "    <tr>\n",
              "      <th>C2676</th>\n",
              "      <td>4.010217e+05</td>\n",
              "      <td>0</td>\n",
              "      <td>6873000</td>\n",
              "      <td>46</td>\n",
              "      <td>1.540701e+06</td>\n",
              "    </tr>\n",
              "    <tr>\n",
              "      <th>C2680</th>\n",
              "      <td>2.360633e+07</td>\n",
              "      <td>20233000</td>\n",
              "      <td>25293000</td>\n",
              "      <td>3</td>\n",
              "      <td>2.921392e+06</td>\n",
              "    </tr>\n",
              "    <tr>\n",
              "      <th>C2688</th>\n",
              "      <td>8.511333e+06</td>\n",
              "      <td>4831000</td>\n",
              "      <td>16448000</td>\n",
              "      <td>6</td>\n",
              "      <td>4.340818e+06</td>\n",
              "    </tr>\n",
              "    <tr>\n",
              "      <th>C2691</th>\n",
              "      <td>7.066667e+07</td>\n",
              "      <td>66000000</td>\n",
              "      <td>80000000</td>\n",
              "      <td>3</td>\n",
              "      <td>8.082904e+06</td>\n",
              "    </tr>\n",
              "    <tr>\n",
              "      <th>C2692</th>\n",
              "      <td>1.579360e+07</td>\n",
              "      <td>10242000</td>\n",
              "      <td>22138000</td>\n",
              "      <td>5</td>\n",
              "      <td>5.320127e+06</td>\n",
              "    </tr>\n",
              "  </tbody>\n",
              "</table>\n",
              "<p>573 rows × 5 columns</p>\n",
              "</div>"
            ],
            "text/plain": [
              "         mean-임대보증금  min-임대보증금  max-임대보증금  count-임대보증금     std-임대보증금\n",
              "단지코드                                                                \n",
              "C1000  1.320357e+07   10803000   15604000            7  2.298347e+06\n",
              "C1003  2.265000e+07   12000000   30000000            8  6.236986e+06\n",
              "C1004  4.952632e+05          0    4728000           19  1.483515e+06\n",
              "C1005  1.710767e+07   16205000   18770000            3  1.441397e+06\n",
              "C1006  8.975556e+05          0    6873000           27  2.201004e+06\n",
              "...             ...        ...        ...          ...           ...\n",
              "C2676  4.010217e+05          0    6873000           46  1.540701e+06\n",
              "C2680  2.360633e+07   20233000   25293000            3  2.921392e+06\n",
              "C2688  8.511333e+06    4831000   16448000            6  4.340818e+06\n",
              "C2691  7.066667e+07   66000000   80000000            3  8.082904e+06\n",
              "C2692  1.579360e+07   10242000   22138000            5  5.320127e+06\n",
              "\n",
              "[573 rows x 5 columns]"
            ]
          },
          "metadata": {
            "tags": []
          },
          "execution_count": 803
        }
      ]
    },
    {
      "cell_type": "code",
      "metadata": {
        "colab": {
          "base_uri": "https://localhost:8080/",
          "height": 447
        },
        "id": "VVqMPoZYYUPG",
        "outputId": "b33c9826-1ab2-4eeb-8496-6fa4144b65cb"
      },
      "source": [
        "data_agg_b = data.groupby('단지코드')['임대료'].agg(['mean', 'min', 'max', 'count', 'std'])\n",
        "data_agg_col_b = []\n",
        "\n",
        "for i in data_agg_b.columns:\n",
        "  data_agg_col_b.append(f'{i}-임대료')\n",
        "\n",
        "data_agg_b.columns = data_agg_col_b\n",
        "data_agg_b"
      ],
      "execution_count": 804,
      "outputs": [
        {
          "output_type": "execute_result",
          "data": {
            "text/html": [
              "<div>\n",
              "<style scoped>\n",
              "    .dataframe tbody tr th:only-of-type {\n",
              "        vertical-align: middle;\n",
              "    }\n",
              "\n",
              "    .dataframe tbody tr th {\n",
              "        vertical-align: top;\n",
              "    }\n",
              "\n",
              "    .dataframe thead th {\n",
              "        text-align: right;\n",
              "    }\n",
              "</style>\n",
              "<table border=\"1\" class=\"dataframe\">\n",
              "  <thead>\n",
              "    <tr style=\"text-align: right;\">\n",
              "      <th></th>\n",
              "      <th>mean-임대료</th>\n",
              "      <th>min-임대료</th>\n",
              "      <th>max-임대료</th>\n",
              "      <th>count-임대료</th>\n",
              "      <th>std-임대료</th>\n",
              "    </tr>\n",
              "    <tr>\n",
              "      <th>단지코드</th>\n",
              "      <th></th>\n",
              "      <th></th>\n",
              "      <th></th>\n",
              "      <th></th>\n",
              "      <th></th>\n",
              "    </tr>\n",
              "  </thead>\n",
              "  <tbody>\n",
              "    <tr>\n",
              "      <th>C1000</th>\n",
              "      <td>121064.285714</td>\n",
              "      <td>96030</td>\n",
              "      <td>150040</td>\n",
              "      <td>7</td>\n",
              "      <td>24854.295978</td>\n",
              "    </tr>\n",
              "    <tr>\n",
              "      <th>C1003</th>\n",
              "      <td>115875.000000</td>\n",
              "      <td>61000</td>\n",
              "      <td>154000</td>\n",
              "      <td>8</td>\n",
              "      <td>32237.677602</td>\n",
              "    </tr>\n",
              "    <tr>\n",
              "      <th>C1004</th>\n",
              "      <td>11020.526316</td>\n",
              "      <td>0</td>\n",
              "      <td>105210</td>\n",
              "      <td>19</td>\n",
              "      <td>33010.964925</td>\n",
              "    </tr>\n",
              "    <tr>\n",
              "      <th>C1005</th>\n",
              "      <td>222046.666667</td>\n",
              "      <td>208470</td>\n",
              "      <td>246770</td>\n",
              "      <td>3</td>\n",
              "      <td>21445.480487</td>\n",
              "    </tr>\n",
              "    <tr>\n",
              "      <th>C1006</th>\n",
              "      <td>12404.814815</td>\n",
              "      <td>0</td>\n",
              "      <td>94990</td>\n",
              "      <td>27</td>\n",
              "      <td>30419.349026</td>\n",
              "    </tr>\n",
              "    <tr>\n",
              "      <th>...</th>\n",
              "      <td>...</td>\n",
              "      <td>...</td>\n",
              "      <td>...</td>\n",
              "      <td>...</td>\n",
              "      <td>...</td>\n",
              "    </tr>\n",
              "    <tr>\n",
              "      <th>C2676</th>\n",
              "      <td>5542.391304</td>\n",
              "      <td>0</td>\n",
              "      <td>94990</td>\n",
              "      <td>46</td>\n",
              "      <td>21293.540093</td>\n",
              "    </tr>\n",
              "    <tr>\n",
              "      <th>C2680</th>\n",
              "      <td>129816.666667</td>\n",
              "      <td>98630</td>\n",
              "      <td>145410</td>\n",
              "      <td>3</td>\n",
              "      <td>27008.445593</td>\n",
              "    </tr>\n",
              "    <tr>\n",
              "      <th>C2688</th>\n",
              "      <td>109251.666667</td>\n",
              "      <td>86350</td>\n",
              "      <td>194290</td>\n",
              "      <td>6</td>\n",
              "      <td>43203.638929</td>\n",
              "    </tr>\n",
              "    <tr>\n",
              "      <th>C2691</th>\n",
              "      <td>560000.000000</td>\n",
              "      <td>550000</td>\n",
              "      <td>580000</td>\n",
              "      <td>3</td>\n",
              "      <td>17320.508076</td>\n",
              "    </tr>\n",
              "    <tr>\n",
              "      <th>C2692</th>\n",
              "      <td>117848.000000</td>\n",
              "      <td>82600</td>\n",
              "      <td>159700</td>\n",
              "      <td>5</td>\n",
              "      <td>34083.252046</td>\n",
              "    </tr>\n",
              "  </tbody>\n",
              "</table>\n",
              "<p>573 rows × 5 columns</p>\n",
              "</div>"
            ],
            "text/plain": [
              "            mean-임대료  min-임대료  max-임대료  count-임대료       std-임대료\n",
              "단지코드                                                           \n",
              "C1000  121064.285714    96030   150040          7  24854.295978\n",
              "C1003  115875.000000    61000   154000          8  32237.677602\n",
              "C1004   11020.526316        0   105210         19  33010.964925\n",
              "C1005  222046.666667   208470   246770          3  21445.480487\n",
              "C1006   12404.814815        0    94990         27  30419.349026\n",
              "...              ...      ...      ...        ...           ...\n",
              "C2676    5542.391304        0    94990         46  21293.540093\n",
              "C2680  129816.666667    98630   145410          3  27008.445593\n",
              "C2688  109251.666667    86350   194290          6  43203.638929\n",
              "C2691  560000.000000   550000   580000          3  17320.508076\n",
              "C2692  117848.000000    82600   159700          5  34083.252046\n",
              "\n",
              "[573 rows x 5 columns]"
            ]
          },
          "metadata": {
            "tags": []
          },
          "execution_count": 804
        }
      ]
    },
    {
      "cell_type": "code",
      "metadata": {
        "id": "V1XcRJkzYEea"
      },
      "source": [
        "new_train = new_train.merge(data_agg, how='left', on='단지코드')\n",
        "new_test = new_test.merge(data_agg, how='left', on='단지코드')\n",
        "new_train = new_train.merge(data_agg_b, how='left', on='단지코드')\n",
        "new_test = new_test.merge(data_agg_b, how='left', on='단지코드')"
      ],
      "execution_count": 805,
      "outputs": []
    },
    {
      "cell_type": "code",
      "metadata": {
        "id": "jjJ1y3fQ0WHE"
      },
      "source": [
        "new_train['공실율'] = new_train['공가수']/new_train['총세대수']*100\n",
        "new_test['공실율'] = new_test['공가수']/new_test['총세대수']*100\n",
        "new_train['세대당주차면수'] = new_train['단지내주차면수']/new_train['총세대수']\n",
        "new_test['세대당주차면수'] = new_test['단지내주차면수']/new_test['총세대수']"
      ],
      "execution_count": 806,
      "outputs": []
    },
    {
      "cell_type": "code",
      "metadata": {
        "id": "nYpWKW2qocue"
      },
      "source": [
        "new_train = new_train.merge(data.groupby('단지코드')['공급유형'].value_counts().unstack().fillna(0), how='left', on='단지코드')\n",
        "new_test = new_test.merge(data.groupby('단지코드')['공급유형'].value_counts().unstack().fillna(0), how='left', on='단지코드')"
      ],
      "execution_count": 807,
      "outputs": []
    },
    {
      "cell_type": "code",
      "metadata": {
        "id": "YD5yN1gODneE"
      },
      "source": [
        "new_train = new_train.merge(data.groupby(['단지코드'])['임대건물구분'].value_counts().unstack().fillna(0), how='left', on='단지코드')\n",
        "new_test = new_test.merge(data.groupby(['단지코드'])['임대건물구분'].value_counts().unstack().fillna(0), how='left', on='단지코드')"
      ],
      "execution_count": 808,
      "outputs": []
    },
    {
      "cell_type": "code",
      "metadata": {
        "id": "IWNx4WJ3m0Wd"
      },
      "source": [
        "# info 병합하는 셀\n",
        "new_train = new_train.merge(info, how='left', on='지역')\n",
        "new_test = new_test.merge(info, how='left', on='지역')"
      ],
      "execution_count": 263,
      "outputs": []
    },
    {
      "cell_type": "code",
      "metadata": {
        "colab": {
          "base_uri": "https://localhost:8080/"
        },
        "id": "E7_Y0hejZsfb",
        "outputId": "37f29e7b-f444-497e-cd3c-e6d6d046622f"
      },
      "source": [
        "corr_matrix = new_train.corr()\n",
        "\n",
        "upper = corr_matrix.where(np.triu(np.ones(corr_matrix.shape), k=1).astype(np.bool))\n",
        "\n",
        "to_drop = [c for c in upper.columns if any(abs(upper[c]) > 0.9)]\n",
        "\n",
        "print(f'There are {len(new_train.columns)} columns but {len(to_drop)} corr columns to remove')"
      ],
      "execution_count": 809,
      "outputs": [
        {
          "output_type": "stream",
          "text": [
            "There are 47 columns but 4 corr columns to remove\n"
          ],
          "name": "stdout"
        }
      ]
    },
    {
      "cell_type": "code",
      "metadata": {
        "id": "3lOCj2ZEZ2i3"
      },
      "source": [
        "new_train = new_train.drop(columns=to_drop)\n",
        "new_test = new_test.drop(columns=to_drop)"
      ],
      "execution_count": 810,
      "outputs": []
    },
    {
      "cell_type": "code",
      "metadata": {
        "colab": {
          "base_uri": "https://localhost:8080/"
        },
        "id": "m630XmpjaS1f",
        "outputId": "57ae40c6-f9af-4b40-dba3-48b1761b3f44"
      },
      "source": [
        "new_train.isnull().sum()"
      ],
      "execution_count": 811,
      "outputs": [
        {
          "output_type": "execute_result",
          "data": {
            "text/plain": [
              "단지코드                            0\n",
              "총세대수                            0\n",
              "공가수                             0\n",
              "지역                              0\n",
              "단지내주차면수                         0\n",
              "도보 10분거리 내 지하철역 수(환승노선 수 반영)    0\n",
              "도보 10분거리 내 버스정류장 수              0\n",
              "면적_35.0                         0\n",
              "면적_50.0                         0\n",
              "면적_55.0                         0\n",
              "면적_30.0                         0\n",
              "면적_45.0                         0\n",
              "면적_40.0                         0\n",
              "면적_25.0                         0\n",
              "면적_70.0                         0\n",
              "면적_15.0                         0\n",
              "면적_20.0                         0\n",
              "면적_100.0                        0\n",
              "면적_60.0                         0\n",
              "면적_75.0                         0\n",
              "면적_80.0                         0\n",
              "면적_65.0                         0\n",
              "등록차량수                           0\n",
              "mean-임대보증금                      0\n",
              "min-임대보증금                       0\n",
              "max-임대보증금                       0\n",
              "count-임대보증금                     0\n",
              "std-임대보증금                       4\n",
              "mean-임대료                        0\n",
              "std-임대료                         4\n",
              "공실율                             0\n",
              "세대당주차면수                         0\n",
              "공공분양                            0\n",
              "공공임대(10년)                       0\n",
              "공공임대(50년)                       0\n",
              "공공임대(5년)                        0\n",
              "공공임대(분납)                        0\n",
              "국민임대                            0\n",
              "영구임대                            0\n",
              "임대상가                            0\n",
              "장기전세                            0\n",
              "행복주택                            0\n",
              "아파트                             0\n",
              "dtype: int64"
            ]
          },
          "metadata": {
            "tags": []
          },
          "execution_count": 811
        }
      ]
    },
    {
      "cell_type": "code",
      "metadata": {
        "id": "9Vye1pDEZRQ5"
      },
      "source": [
        "from sklearn.impute import SimpleImputer\n",
        "\n",
        "for i in new_train.columns:\n",
        "  if new_train[i].dtype == 'object':\n",
        "    continue\n",
        "  new_train[i] = new_train[i].fillna(new_train[i].median())"
      ],
      "execution_count": 812,
      "outputs": []
    },
    {
      "cell_type": "code",
      "metadata": {
        "id": "YVXB9mWfc46u"
      },
      "source": [
        "for i in new_test.columns:\n",
        "  if new_test[i].dtype == 'object':\n",
        "    continue\n",
        "  new_test[i] = new_test[i].fillna(new_test[i].median())"
      ],
      "execution_count": 813,
      "outputs": []
    },
    {
      "cell_type": "code",
      "metadata": {
        "id": "3PeQq2uJy0CM"
      },
      "source": [
        "x_train = new_train.drop(columns=['단지코드', '등록차량수'])\n",
        "y_train = new_train['등록차량수']\n",
        "x_test = new_test.drop(columns=['단지코드'])"
      ],
      "execution_count": 814,
      "outputs": []
    },
    {
      "cell_type": "code",
      "metadata": {
        "id": "FbVBzqwl9736"
      },
      "source": [
        "from sklearn.preprocessing import robust_scale\n",
        "x_train_col = x_train.columns\n",
        "\n",
        "for i in x_train.columns:\n",
        "  if x_train[i].dtype=='object':\n",
        "    continue\n",
        "  x_train[i] = robust_scale(x_train[i])\n",
        "\n",
        "for i in x_test.columns:\n",
        "  if x_test[i].dtype=='object':\n",
        "    continue\n",
        "  x_test[i] = robust_scale(x_test[i])"
      ],
      "execution_count": 815,
      "outputs": []
    },
    {
      "cell_type": "code",
      "metadata": {
        "id": "mRaWsbbmqMWt"
      },
      "source": [
        "# feature selection\n",
        "x_train = new_train.drop(columns=['단지코드', '등록차량수', '면적_100.0', '면적_75.0', '면적_15.0', '면적_40.0', '면적_60.0', '면적_65.0'])\n",
        "y_train = new_train['등록차량수']\n",
        "x_test = new_test.drop(columns=['단지코드', '면적_100.0', '면적_75.0', '면적_15.0', '면적_40.0', '면적_60.0', '면적_65.0'])"
      ],
      "execution_count": 324,
      "outputs": []
    },
    {
      "cell_type": "code",
      "metadata": {
        "colab": {
          "base_uri": "https://localhost:8080/"
        },
        "id": "GGPLct-Ms8rW",
        "outputId": "7182ff6b-1fb7-46e8-c5fc-1b2d53aeb5d5"
      },
      "source": [
        "pip install catboost"
      ],
      "execution_count": 21,
      "outputs": [
        {
          "output_type": "stream",
          "text": [
            "Collecting catboost\n",
            "\u001b[?25l  Downloading https://files.pythonhosted.org/packages/5a/41/24e14322b9986cf72a8763e0a0a69cc256cf963cf9502c8f0044a62c1ae8/catboost-0.26-cp37-none-manylinux1_x86_64.whl (69.2MB)\n",
            "\u001b[K     |████████████████████████████████| 69.2MB 55kB/s \n",
            "\u001b[?25hRequirement already satisfied: scipy in /usr/local/lib/python3.7/dist-packages (from catboost) (1.4.1)\n",
            "Requirement already satisfied: plotly in /usr/local/lib/python3.7/dist-packages (from catboost) (4.4.1)\n",
            "Requirement already satisfied: matplotlib in /usr/local/lib/python3.7/dist-packages (from catboost) (3.2.2)\n",
            "Requirement already satisfied: numpy>=1.16.0 in /usr/local/lib/python3.7/dist-packages (from catboost) (1.19.5)\n",
            "Requirement already satisfied: graphviz in /usr/local/lib/python3.7/dist-packages (from catboost) (0.10.1)\n",
            "Requirement already satisfied: six in /usr/local/lib/python3.7/dist-packages (from catboost) (1.15.0)\n",
            "Requirement already satisfied: pandas>=0.24.0 in /usr/local/lib/python3.7/dist-packages (from catboost) (1.1.5)\n",
            "Requirement already satisfied: retrying>=1.3.3 in /usr/local/lib/python3.7/dist-packages (from plotly->catboost) (1.3.3)\n",
            "Requirement already satisfied: cycler>=0.10 in /usr/local/lib/python3.7/dist-packages (from matplotlib->catboost) (0.10.0)\n",
            "Requirement already satisfied: kiwisolver>=1.0.1 in /usr/local/lib/python3.7/dist-packages (from matplotlib->catboost) (1.3.1)\n",
            "Requirement already satisfied: python-dateutil>=2.1 in /usr/local/lib/python3.7/dist-packages (from matplotlib->catboost) (2.8.1)\n",
            "Requirement already satisfied: pyparsing!=2.0.4,!=2.1.2,!=2.1.6,>=2.0.1 in /usr/local/lib/python3.7/dist-packages (from matplotlib->catboost) (2.4.7)\n",
            "Requirement already satisfied: pytz>=2017.2 in /usr/local/lib/python3.7/dist-packages (from pandas>=0.24.0->catboost) (2018.9)\n",
            "Installing collected packages: catboost\n",
            "Successfully installed catboost-0.26\n"
          ],
          "name": "stdout"
        }
      ]
    },
    {
      "cell_type": "code",
      "metadata": {
        "id": "2nBtbKgUs_Gb"
      },
      "source": [
        "import catboost\n",
        "from sklearn.model_selection import KFold, StratifiedKFold\n",
        "from sklearn.metrics import mean_absolute_error\n",
        "import lightgbm\n",
        "import xgboost"
      ],
      "execution_count": 774,
      "outputs": []
    },
    {
      "cell_type": "code",
      "metadata": {
        "colab": {
          "base_uri": "https://localhost:8080/"
        },
        "id": "IVO6pxhhtRyN",
        "outputId": "8a5305c6-f969-4124-b1a3-5708d8c3c41e"
      },
      "source": [
        "skf = StratifiedKFold(n_splits=10, shuffle=True, random_state=42)\n",
        "kf = KFold(n_splits=10, shuffle=True, random_state=42)\n",
        "preds_test_cat = np.zeros((len(x_test)))\n",
        "cat_features = x_train.select_dtypes('object').columns\n",
        "\n",
        "for i,(train_index, valid_index) in enumerate(kf.split(x_train, y_train)):\n",
        "  X_train, X_valid = x_train.iloc[train_index], x_train.iloc[valid_index]\n",
        "  Y_train, Y_valid = y_train.iloc[train_index], y_train.iloc[valid_index]\n",
        "\n",
        "  model_cat = catboost.CatBoostRegressor(learning_rate=0.05, loss_function='MAE', eval_metric='MAE', n_estimators=3000, cat_features=cat_features, use_best_model=True)\n",
        "  model_cat.fit(X_train, Y_train, eval_set=[(X_train, Y_train), (X_valid, Y_valid)], verbose=100, early_stopping_rounds=50)\n",
        "\n",
        "  preds_test_cat = model_cat.predict(x_test)\n",
        "  preds_val = model_cat.predict(X_valid)"
      ],
      "execution_count": 816,
      "outputs": [
        {
          "output_type": "stream",
          "text": [
            "0:\tlearn: 284.0085515\ttest: 284.0085515\ttest1: 248.8569756\tbest: 248.8569756 (0)\ttotal: 5.84ms\tremaining: 17.5s\n",
            "100:\tlearn: 81.9881889\ttest: 85.0034602\ttest1: 121.4375606\tbest: 120.1208229 (93)\ttotal: 497ms\tremaining: 14.3s\n",
            "Stopped by overfitting detector  (50 iterations wait)\n",
            "\n",
            "bestTest = 120.1208229\n",
            "bestIteration = 93\n",
            "\n",
            "Shrink model to first 94 iterations.\n",
            "0:\tlearn: 273.4286831\ttest: 273.4286831\ttest1: 338.1313942\tbest: 338.1313942 (0)\ttotal: 10.1ms\tremaining: 30.3s\n",
            "100:\tlearn: 79.2326110\ttest: 81.5010494\ttest1: 192.7946157\tbest: 192.7817244 (96)\ttotal: 505ms\tremaining: 14.5s\n",
            "200:\tlearn: 50.4839701\ttest: 54.3432944\ttest1: 179.0525371\tbest: 179.0525371 (200)\ttotal: 1.01s\tremaining: 14.1s\n",
            "300:\tlearn: 37.3617122\ttest: 42.4669033\ttest1: 174.6539295\tbest: 174.3720678 (288)\ttotal: 1.5s\tremaining: 13.4s\n",
            "400:\tlearn: 29.2291721\ttest: 35.2354958\ttest1: 169.9326026\tbest: 169.4503763 (376)\ttotal: 2s\tremaining: 13s\n",
            "Stopped by overfitting detector  (50 iterations wait)\n",
            "\n",
            "bestTest = 169.4503763\n",
            "bestIteration = 376\n",
            "\n",
            "Shrink model to first 377 iterations.\n",
            "0:\tlearn: 278.4101305\ttest: 278.4101305\ttest1: 306.6069756\tbest: 306.6069756 (0)\ttotal: 5.58ms\tremaining: 16.7s\n",
            "100:\tlearn: 88.3277442\ttest: 89.3214511\ttest1: 110.9485033\tbest: 110.8896777 (98)\ttotal: 503ms\tremaining: 14.4s\n",
            "200:\tlearn: 56.4194766\ttest: 59.3389370\ttest1: 94.8081316\tbest: 94.8081316 (200)\ttotal: 999ms\tremaining: 13.9s\n",
            "Stopped by overfitting detector  (50 iterations wait)\n",
            "\n",
            "bestTest = 94.68907631\n",
            "bestIteration = 202\n",
            "\n",
            "Shrink model to first 203 iterations.\n",
            "0:\tlearn: 277.6685028\ttest: 277.6685028\ttest1: 304.6666655\tbest: 304.6666655 (0)\ttotal: 10.9ms\tremaining: 32.7s\n",
            "100:\tlearn: 82.1993016\ttest: 84.5060400\ttest1: 148.3966276\tbest: 148.3746790 (98)\ttotal: 523ms\tremaining: 15s\n",
            "200:\tlearn: 51.0619433\ttest: 55.6741128\ttest1: 136.9208635\tbest: 136.1845760 (163)\ttotal: 1.01s\tremaining: 14.1s\n",
            "Stopped by overfitting detector  (50 iterations wait)\n",
            "\n",
            "bestTest = 136.184576\n",
            "bestIteration = 163\n",
            "\n",
            "Shrink model to first 164 iterations.\n",
            "0:\tlearn: 278.3682403\ttest: 278.3682403\ttest1: 300.2142846\tbest: 300.2142846 (0)\ttotal: 5.31ms\tremaining: 15.9s\n",
            "100:\tlearn: 82.3849829\ttest: 85.9685956\ttest1: 112.1010018\tbest: 112.1010018 (100)\ttotal: 515ms\tremaining: 14.8s\n",
            "200:\tlearn: 51.6184936\ttest: 56.2796942\ttest1: 101.4652341\tbest: 101.4652341 (200)\ttotal: 1.01s\tremaining: 14.1s\n",
            "300:\tlearn: 39.0374162\ttest: 44.8607213\ttest1: 98.4095881\tbest: 98.4095881 (300)\ttotal: 1.51s\tremaining: 13.6s\n",
            "Stopped by overfitting detector  (50 iterations wait)\n",
            "\n",
            "bestTest = 98.40958812\n",
            "bestIteration = 300\n",
            "\n",
            "Shrink model to first 301 iterations.\n",
            "0:\tlearn: 276.6152220\ttest: 276.6152220\ttest1: 317.2476179\tbest: 317.2476179 (0)\ttotal: 5.32ms\tremaining: 16s\n",
            "100:\tlearn: 81.9893804\ttest: 84.3199521\ttest1: 138.0236088\tbest: 138.0236088 (100)\ttotal: 497ms\tremaining: 14.3s\n",
            "200:\tlearn: 51.3646280\ttest: 56.4151144\ttest1: 126.9668024\tbest: 126.9668024 (200)\ttotal: 1.01s\tremaining: 14.1s\n",
            "300:\tlearn: 36.8470206\ttest: 43.9198948\ttest1: 127.0276469\tbest: 126.0060188 (277)\ttotal: 1.52s\tremaining: 13.6s\n",
            "400:\tlearn: 28.6535659\ttest: 36.7384597\ttest1: 125.6403416\tbest: 125.4941256 (392)\ttotal: 2.01s\tremaining: 13s\n",
            "Stopped by overfitting detector  (50 iterations wait)\n",
            "\n",
            "bestTest = 125.414135\n",
            "bestIteration = 430\n",
            "\n",
            "Shrink model to first 431 iterations.\n",
            "0:\tlearn: 288.0658781\ttest: 288.0658781\ttest1: 207.0297608\tbest: 207.0297608 (0)\ttotal: 5.37ms\tremaining: 16.1s\n",
            "100:\tlearn: 79.9530112\ttest: 83.3099080\ttest1: 128.7534834\tbest: 128.3488177 (63)\ttotal: 492ms\tremaining: 14.1s\n",
            "Stopped by overfitting detector  (50 iterations wait)\n",
            "\n",
            "bestTest = 128.2829577\n",
            "bestIteration = 113\n",
            "\n",
            "Shrink model to first 114 iterations.\n",
            "0:\tlearn: 284.2261143\ttest: 284.2261143\ttest1: 236.4095227\tbest: 236.4095227 (0)\ttotal: 5.33ms\tremaining: 16s\n",
            "100:\tlearn: 81.1001423\ttest: 84.4148200\ttest1: 112.2698695\tbest: 109.1205096 (61)\ttotal: 512ms\tremaining: 14.7s\n",
            "Stopped by overfitting detector  (50 iterations wait)\n",
            "\n",
            "bestTest = 109.1205096\n",
            "bestIteration = 61\n",
            "\n",
            "Shrink model to first 62 iterations.\n",
            "0:\tlearn: 281.8396314\ttest: 281.8396314\ttest1: 261.3821417\tbest: 261.3821417 (0)\ttotal: 5.18ms\tremaining: 15.5s\n",
            "100:\tlearn: 80.0541163\ttest: 81.6642267\ttest1: 103.6164294\tbest: 103.3613489 (99)\ttotal: 497ms\tremaining: 14.3s\n",
            "Stopped by overfitting detector  (50 iterations wait)\n",
            "\n",
            "bestTest = 103.3613489\n",
            "bestIteration = 99\n",
            "\n",
            "Shrink model to first 100 iterations.\n",
            "0:\tlearn: 278.7089227\ttest: 278.7089227\ttest1: 291.8678560\tbest: 291.8678560 (0)\ttotal: 5.37ms\tremaining: 16.1s\n",
            "100:\tlearn: 81.6192603\ttest: 85.2392245\ttest1: 120.3443530\tbest: 120.3301912 (99)\ttotal: 495ms\tremaining: 14.2s\n",
            "200:\tlearn: 50.4331178\ttest: 56.4716481\ttest1: 114.3743908\tbest: 114.3663519 (199)\ttotal: 994ms\tremaining: 13.8s\n",
            "Stopped by overfitting detector  (50 iterations wait)\n",
            "\n",
            "bestTest = 114.3417886\n",
            "bestIteration = 201\n",
            "\n",
            "Shrink model to first 202 iterations.\n"
          ],
          "name": "stdout"
        }
      ]
    },
    {
      "cell_type": "code",
      "metadata": {
        "colab": {
          "base_uri": "https://localhost:8080/",
          "height": 358
        },
        "id": "hMh4lUAeKkaa",
        "outputId": "795befd7-f980-4c39-cb47-6ce29dfaf3b3"
      },
      "source": [
        "fig, ax = plt.subplots(figsize=(8,5))\n",
        "ax.plot(pd.Series(preds_val, index=Y_valid.index), label='Preds_Valid')\n",
        "ax.plot(Y_valid, label='Y_Valid')\n",
        "ax.legend()\n",
        "ax.set_title('preds vs y', fontsize=18, fontweight='bold')"
      ],
      "execution_count": 817,
      "outputs": [
        {
          "output_type": "execute_result",
          "data": {
            "text/plain": [
              "Text(0.5, 1.0, 'preds vs y')"
            ]
          },
          "metadata": {
            "tags": []
          },
          "execution_count": 817
        },
        {
          "output_type": "display_data",
          "data": {
            "image/png": "[encoded data removed]",
            "text/plain": [
              "<Figure size 576x360 with 1 Axes>"
            ]
          },
          "metadata": {
            "tags": [],
            "needs_background": "light"
          }
        }
      ]
    },
    {
      "cell_type": "code",
      "metadata": {
        "colab": {
          "base_uri": "https://localhost:8080/"
        },
        "id": "a15LWCQqlifR",
        "outputId": "891e897d-f17c-4fbf-b97d-918582673193"
      },
      "source": [
        "pd.Series(model_cat.feature_importances_, index=x_train.columns).sort_values(ascending=False)"
      ],
      "execution_count": 777,
      "outputs": [
        {
          "output_type": "execute_result",
          "data": {
            "text/plain": [
              "단지내주차면수                         34.652758\n",
              "지역                               6.930794\n",
              "총세대수                             6.636385\n",
              "면적_45.0                          6.344516\n",
              "세대당주차면수                          5.397666\n",
              "mean-임대보증금                       4.859339\n",
              "mean-임대료                         4.748635\n",
              "공실율                              4.508081\n",
              "면적_55.0                          4.058094\n",
              "면적_35.0                          3.469521\n",
              "면적_50.0                          3.300233\n",
              "면적_70.0                          3.034526\n",
              "공가수                              2.240543\n",
              "도보 10분거리 내 버스정류장 수               1.903180\n",
              "면적_20.0                          1.853932\n",
              "면적_30.0                          1.571014\n",
              "도보 10분거리 내 지하철역 수(환승노선 수 반영)     1.461568\n",
              "면적_25.0                          1.302446\n",
              "면적_15.0                          0.615873\n",
              "면적_80.0                          0.538374\n",
              "면적_100.0                         0.334292\n",
              "면적_40.0                          0.238233\n",
              "면적_75.0                          0.000000\n",
              "면적_65.0                          0.000000\n",
              "면적_60.0                          0.000000\n",
              "dtype: float64"
            ]
          },
          "metadata": {
            "tags": []
          },
          "execution_count": 777
        }
      ]
    },
    {
      "cell_type": "code",
      "metadata": {
        "id": "qMM-B-I_ds2R"
      },
      "source": [
        "# lgbm으로 모델링\n",
        "local_map = {}\n",
        "for i, loc in enumerate(new_train['지역'].unique()):\n",
        "    local_map[loc] = i\n",
        "\n",
        "new_train['지역'] = new_train['지역'].map(local_map)\n",
        "new_test['지역'] = new_test['지역'].map(local_map)\n",
        "\n",
        "\n",
        "x_train = new_train.drop(columns=['단지코드', '등록차량수'])\n",
        "y_train = new_train['등록차량수']\n",
        "x_test = new_test.drop(columns=['단지코드'])"
      ],
      "execution_count": 818,
      "outputs": []
    },
    {
      "cell_type": "code",
      "metadata": {
        "colab": {
          "base_uri": "https://localhost:8080/"
        },
        "id": "3XH-iCNkeKHf",
        "outputId": "61f47b9f-c0b2-45fa-97a4-b55c943aa7d7"
      },
      "source": [
        "x_train.shape, x_test.shape"
      ],
      "execution_count": 819,
      "outputs": [
        {
          "output_type": "execute_result",
          "data": {
            "text/plain": [
              "((423, 41), (150, 41))"
            ]
          },
          "metadata": {
            "tags": []
          },
          "execution_count": 819
        }
      ]
    },
    {
      "cell_type": "code",
      "metadata": {
        "colab": {
          "base_uri": "https://localhost:8080/"
        },
        "id": "BuC6WWnIdpYo",
        "outputId": "50c7ad30-e505-4022-db0f-aa9c5dccbe39"
      },
      "source": [
        "skf = StratifiedKFold(n_splits=5, shuffle=True, random_state=42)\n",
        "preds_test_lgbm = np.zeros((len(x_test)))\n",
        "param_lgbm = {'learning_rate':0.026, 'objective':'MAE'}\n",
        "\n",
        "for i,(train_index, valid_index) in enumerate(kf.split(x_train, y_train)):\n",
        "  X_train, X_valid = x_train.iloc[train_index], x_train.iloc[valid_index]\n",
        "  Y_train, Y_valid = y_train.iloc[train_index], y_train.iloc[valid_index]\n",
        "\n",
        "  model_lgbm = lightgbm.LGBMRegressor(n_estimators=3000, **param_lgbm)\n",
        "  model_lgbm.fit(X_train, Y_train, eval_set=[(X_train, Y_train), (X_valid, Y_valid)], verbose=100, early_stopping_rounds=70, eval_metric='MAE')\n",
        "\n",
        "  preds_test_lgbm = model_lgbm.predict(x_test)\n",
        "  preds_valid = model_lgbm.predict(X_valid)"
      ],
      "execution_count": 820,
      "outputs": [
        {
          "output_type": "stream",
          "text": [
            "Training until validation scores don't improve for 70 rounds.\n",
            "[100]\ttraining's l1: 98.6011\tvalid_1's l1: 130.081\n",
            "[200]\ttraining's l1: 78.2369\tvalid_1's l1: 122.845\n",
            "[300]\ttraining's l1: 70.7642\tvalid_1's l1: 120.207\n",
            "[400]\ttraining's l1: 66.3996\tvalid_1's l1: 119.34\n",
            "[500]\ttraining's l1: 63.1681\tvalid_1's l1: 118.875\n",
            "Early stopping, best iteration is:\n",
            "[443]\ttraining's l1: 64.8345\tvalid_1's l1: 118.738\n",
            "Training until validation scores don't improve for 70 rounds.\n",
            "[100]\ttraining's l1: 93.3199\tvalid_1's l1: 198.933\n",
            "[200]\ttraining's l1: 74.0849\tvalid_1's l1: 184.035\n",
            "[300]\ttraining's l1: 68.3595\tvalid_1's l1: 181.552\n",
            "[400]\ttraining's l1: 64.9299\tvalid_1's l1: 180.59\n",
            "Early stopping, best iteration is:\n",
            "[398]\ttraining's l1: 64.9768\tvalid_1's l1: 180.507\n",
            "Training until validation scores don't improve for 70 rounds.\n",
            "[100]\ttraining's l1: 101.12\tvalid_1's l1: 108.352\n",
            "[200]\ttraining's l1: 79.6094\tvalid_1's l1: 96.8824\n",
            "Early stopping, best iteration is:\n",
            "[212]\ttraining's l1: 78.386\tvalid_1's l1: 95.4946\n",
            "Training until validation scores don't improve for 70 rounds.\n",
            "[100]\ttraining's l1: 99.6224\tvalid_1's l1: 155.861\n",
            "[200]\ttraining's l1: 78.3687\tvalid_1's l1: 140.55\n",
            "[300]\ttraining's l1: 72.136\tvalid_1's l1: 140.292\n",
            "Early stopping, best iteration is:\n",
            "[275]\ttraining's l1: 73.2519\tvalid_1's l1: 139.997\n",
            "Training until validation scores don't improve for 70 rounds.\n",
            "[100]\ttraining's l1: 99.6248\tvalid_1's l1: 115.053\n",
            "[200]\ttraining's l1: 82.1806\tvalid_1's l1: 103.144\n",
            "[300]\ttraining's l1: 76.4818\tvalid_1's l1: 101.496\n",
            "[400]\ttraining's l1: 73.0152\tvalid_1's l1: 101.56\n",
            "Early stopping, best iteration is:\n",
            "[364]\ttraining's l1: 74.4477\tvalid_1's l1: 101.084\n",
            "Training until validation scores don't improve for 70 rounds.\n",
            "[100]\ttraining's l1: 98.6002\tvalid_1's l1: 138.718\n",
            "[200]\ttraining's l1: 77.7667\tvalid_1's l1: 124.975\n",
            "[300]\ttraining's l1: 70.5774\tvalid_1's l1: 122.859\n",
            "[400]\ttraining's l1: 66.4088\tvalid_1's l1: 122.542\n",
            "[500]\ttraining's l1: 63.5354\tvalid_1's l1: 122.111\n",
            "[600]\ttraining's l1: 61.5276\tvalid_1's l1: 121.556\n",
            "[700]\ttraining's l1: 60.397\tvalid_1's l1: 121.293\n",
            "Early stopping, best iteration is:\n",
            "[702]\ttraining's l1: 60.3616\tvalid_1's l1: 121.287\n",
            "Training until validation scores don't improve for 70 rounds.\n",
            "[100]\ttraining's l1: 98.4528\tvalid_1's l1: 130.262\n",
            "[200]\ttraining's l1: 76.339\tvalid_1's l1: 129.647\n",
            "[300]\ttraining's l1: 68.2198\tvalid_1's l1: 129.93\n",
            "Early stopping, best iteration is:\n",
            "[251]\ttraining's l1: 71.3633\tvalid_1's l1: 129.344\n",
            "Training until validation scores don't improve for 70 rounds.\n",
            "[100]\ttraining's l1: 96.4552\tvalid_1's l1: 116.068\n",
            "[200]\ttraining's l1: 76.5986\tvalid_1's l1: 113.748\n",
            "[300]\ttraining's l1: 70.1311\tvalid_1's l1: 113.392\n",
            "[400]\ttraining's l1: 66.395\tvalid_1's l1: 113.628\n",
            "Early stopping, best iteration is:\n",
            "[353]\ttraining's l1: 67.9185\tvalid_1's l1: 113.236\n",
            "Training until validation scores don't improve for 70 rounds.\n",
            "[100]\ttraining's l1: 98.7199\tvalid_1's l1: 111.809\n",
            "Early stopping, best iteration is:\n",
            "[96]\ttraining's l1: 100.847\tvalid_1's l1: 111.506\n",
            "Training until validation scores don't improve for 70 rounds.\n",
            "[100]\ttraining's l1: 98.0839\tvalid_1's l1: 140.783\n",
            "[200]\ttraining's l1: 78.5572\tvalid_1's l1: 132.258\n",
            "[300]\ttraining's l1: 71.3085\tvalid_1's l1: 130.886\n",
            "[400]\ttraining's l1: 67.4336\tvalid_1's l1: 129.909\n",
            "Early stopping, best iteration is:\n",
            "[375]\ttraining's l1: 68.1062\tvalid_1's l1: 129.82\n"
          ],
          "name": "stdout"
        }
      ]
    },
    {
      "cell_type": "code",
      "metadata": {
        "colab": {
          "base_uri": "https://localhost:8080/"
        },
        "id": "zZvOmGgWBkAP",
        "outputId": "41d077ec-3e78-4fcc-c454-4acb38daf290"
      },
      "source": [
        "lgbm_importance = pd.Series(model_lgbm.feature_importances_, index=x_train.columns).sort_values(ascending=False)\n",
        "feature_selection_lgbm = lgbm_importance.loc[lgbm_importance<1].T\n",
        "lgbm_importance"
      ],
      "execution_count": 821,
      "outputs": [
        {
          "output_type": "execute_result",
          "data": {
            "text/plain": [
              "단지내주차면수                         572\n",
              "세대당주차면수                         351\n",
              "총세대수                            347\n",
              "면적_35.0                         329\n",
              "std-임대료                         322\n",
              "지역                              303\n",
              "면적_45.0                         296\n",
              "min-임대보증금                       286\n",
              "std-임대보증금                       279\n",
              "공실율                             272\n",
              "mean-임대료                        263\n",
              "공가수                             228\n",
              "면적_50.0                         227\n",
              "mean-임대보증금                      206\n",
              "max-임대보증금                       193\n",
              "도보 10분거리 내 버스정류장 수              108\n",
              "count-임대보증금                      92\n",
              "국민임대                             79\n",
              "면적_55.0                          70\n",
              "도보 10분거리 내 지하철역 수(환승노선 수 반영)     51\n",
              "아파트                              49\n",
              "면적_25.0                          39\n",
              "면적_30.0                          35\n",
              "공공임대(10년)                        15\n",
              "영구임대                              9\n",
              "면적_20.0                           7\n",
              "면적_40.0                           2\n",
              "면적_80.0                           1\n",
              "면적_15.0                           1\n",
              "면적_70.0                           0\n",
              "행복주택                              0\n",
              "면적_75.0                           0\n",
              "공공분양                              0\n",
              "면적_100.0                          0\n",
              "공공임대(50년)                         0\n",
              "공공임대(5년)                          0\n",
              "공공임대(분납)                          0\n",
              "면적_60.0                           0\n",
              "임대상가                              0\n",
              "장기전세                              0\n",
              "면적_65.0                           0\n",
              "dtype: int64"
            ]
          },
          "metadata": {
            "tags": []
          },
          "execution_count": 821
        }
      ]
    },
    {
      "cell_type": "code",
      "metadata": {
        "colab": {
          "base_uri": "https://localhost:8080/",
          "height": 358
        },
        "id": "5Pwed46GxB_G",
        "outputId": "dddbe821-d6d5-4e9f-b5c2-76b80470f87b"
      },
      "source": [
        "fig, ax = plt.subplots(figsize=(8,5))\n",
        "ax.plot(pd.Series(preds_valid, index=Y_valid.index), label='Preds_Valid')\n",
        "ax.plot(Y_valid, label='Y_Valid')\n",
        "ax.legend()\n",
        "ax.set_title('preds vs y', fontsize=18, fontweight='bold')"
      ],
      "execution_count": 822,
      "outputs": [
        {
          "output_type": "execute_result",
          "data": {
            "text/plain": [
              "Text(0.5, 1.0, 'preds vs y')"
            ]
          },
          "metadata": {
            "tags": []
          },
          "execution_count": 822
        },
        {
          "output_type": "display_data",
          "data": {
            "image/png": "[encoded data removed]",
            "text/plain": [
              "<Figure size 576x360 with 1 Axes>"
            ]
          },
          "metadata": {
            "tags": [],
            "needs_background": "light"
          }
        }
      ]
    },
    {
      "cell_type": "code",
      "metadata": {
        "colab": {
          "base_uri": "https://localhost:8080/"
        },
        "id": "H-IQ8pTvl5I0",
        "outputId": "f06cda52-8dcd-4d25-ddc3-7250d1ebf532"
      },
      "source": [
        "skf = StratifiedKFold(n_splits=10, shuffle=True, random_state=42)\n",
        "preds_test_xgb = np.zeros((len(x_test)))\n",
        "param_xgb = {'learning_rate':0.026}\n",
        "\n",
        "for i,(train_index, valid_index) in enumerate(kf.split(x_train, y_train)):\n",
        "  X_train, X_valid = x_train.iloc[train_index], x_train.iloc[valid_index]\n",
        "  Y_train, Y_valid = y_train.iloc[train_index], y_train.iloc[valid_index]\n",
        "\n",
        "  model_xgb = xgboost.XGBRegressor(n_estimators=3000, **param_xgb)\n",
        "  model_xgb.fit(X_train, Y_train, eval_set=[(X_train, Y_train), (X_valid, Y_valid)], verbose=100, early_stopping_rounds=70, eval_metric='mae')\n",
        "\n",
        "  preds_test_xgb = model_xgb.predict(x_test)\n",
        "  preds_valid = model_xgb.predict(X_valid)"
      ],
      "execution_count": 823,
      "outputs": [
        {
          "output_type": "stream",
          "text": [
            "[11:45:46] WARNING: /workspace/src/objective/regression_obj.cu:152: reg:linear is now deprecated in favor of reg:squarederror.\n",
            "[0]\tvalidation_0-mae:561.162\tvalidation_1-mae:522.138\n",
            "Multiple eval metrics have been passed: 'validation_1-mae' will be used for early stopping.\n",
            "\n",
            "Will train until validation_1-mae hasn't improved in 70 rounds.\n",
            "[100]\tvalidation_0-mae:100.519\tvalidation_1-mae:134.544\n",
            "Stopping. Best iteration:\n",
            "[90]\tvalidation_0-mae:107.384\tvalidation_1-mae:132.925\n",
            "\n",
            "[11:45:46] WARNING: /workspace/src/objective/regression_obj.cu:152: reg:linear is now deprecated in favor of reg:squarederror.\n",
            "[0]\tvalidation_0-mae:553.523\tvalidation_1-mae:591.014\n",
            "Multiple eval metrics have been passed: 'validation_1-mae' will be used for early stopping.\n",
            "\n",
            "Will train until validation_1-mae hasn't improved in 70 rounds.\n",
            "[100]\tvalidation_0-mae:98.5576\tvalidation_1-mae:181.123\n",
            "[200]\tvalidation_0-mae:71.291\tvalidation_1-mae:162.593\n",
            "[300]\tvalidation_0-mae:62.2373\tvalidation_1-mae:158.884\n",
            "[400]\tvalidation_0-mae:55.6647\tvalidation_1-mae:157.69\n",
            "[500]\tvalidation_0-mae:51.3496\tvalidation_1-mae:155.828\n",
            "[600]\tvalidation_0-mae:47.0684\tvalidation_1-mae:155.761\n",
            "Stopping. Best iteration:\n",
            "[545]\tvalidation_0-mae:49.3649\tvalidation_1-mae:155.45\n",
            "\n",
            "[11:45:47] WARNING: /workspace/src/objective/regression_obj.cu:152: reg:linear is now deprecated in favor of reg:squarederror.\n",
            "[0]\tvalidation_0-mae:553.856\tvalidation_1-mae:586.661\n",
            "Multiple eval metrics have been passed: 'validation_1-mae' will be used for early stopping.\n",
            "\n",
            "Will train until validation_1-mae hasn't improved in 70 rounds.\n",
            "[100]\tvalidation_0-mae:102.969\tvalidation_1-mae:106.513\n",
            "[200]\tvalidation_0-mae:76.84\tvalidation_1-mae:91.4955\n",
            "Stopping. Best iteration:\n",
            "[186]\tvalidation_0-mae:78.9431\tvalidation_1-mae:91.1779\n",
            "\n",
            "[11:45:48] WARNING: /workspace/src/objective/regression_obj.cu:152: reg:linear is now deprecated in favor of reg:squarederror.\n",
            "[0]\tvalidation_0-mae:547.309\tvalidation_1-mae:649.225\n",
            "Multiple eval metrics have been passed: 'validation_1-mae' will be used for early stopping.\n",
            "\n",
            "Will train until validation_1-mae hasn't improved in 70 rounds.\n",
            "[100]\tvalidation_0-mae:99.9306\tvalidation_1-mae:155.273\n",
            "[200]\tvalidation_0-mae:74.9862\tvalidation_1-mae:138.164\n",
            "[300]\tvalidation_0-mae:66.2068\tvalidation_1-mae:132.984\n",
            "[400]\tvalidation_0-mae:59.3323\tvalidation_1-mae:126.635\n",
            "[500]\tvalidation_0-mae:53.934\tvalidation_1-mae:123.513\n",
            "Stopping. Best iteration:\n",
            "[525]\tvalidation_0-mae:52.5864\tvalidation_1-mae:123.056\n",
            "\n",
            "[11:45:49] WARNING: /workspace/src/objective/regression_obj.cu:152: reg:linear is now deprecated in favor of reg:squarederror.\n",
            "[0]\tvalidation_0-mae:553.198\tvalidation_1-mae:594.964\n",
            "Multiple eval metrics have been passed: 'validation_1-mae' will be used for early stopping.\n",
            "\n",
            "Will train until validation_1-mae hasn't improved in 70 rounds.\n",
            "[100]\tvalidation_0-mae:101.017\tvalidation_1-mae:132.33\n",
            "[200]\tvalidation_0-mae:75.2185\tvalidation_1-mae:113.946\n",
            "[300]\tvalidation_0-mae:65.3313\tvalidation_1-mae:111.098\n",
            "Stopping. Best iteration:\n",
            "[309]\tvalidation_0-mae:64.6593\tvalidation_1-mae:110.631\n",
            "\n",
            "[11:45:50] WARNING: /workspace/src/objective/regression_obj.cu:152: reg:linear is now deprecated in favor of reg:squarederror.\n",
            "[0]\tvalidation_0-mae:552.002\tvalidation_1-mae:605.273\n",
            "Multiple eval metrics have been passed: 'validation_1-mae' will be used for early stopping.\n",
            "\n",
            "Will train until validation_1-mae hasn't improved in 70 rounds.\n",
            "[100]\tvalidation_0-mae:104.258\tvalidation_1-mae:132.224\n",
            "[200]\tvalidation_0-mae:78.2275\tvalidation_1-mae:125.451\n",
            "[300]\tvalidation_0-mae:68.5199\tvalidation_1-mae:123.015\n",
            "Stopping. Best iteration:\n",
            "[301]\tvalidation_0-mae:68.4064\tvalidation_1-mae:122.69\n",
            "\n",
            "[11:45:51] WARNING: /workspace/src/objective/regression_obj.cu:152: reg:linear is now deprecated in favor of reg:squarederror.\n",
            "[0]\tvalidation_0-mae:560.806\tvalidation_1-mae:523.755\n",
            "Multiple eval metrics have been passed: 'validation_1-mae' will be used for early stopping.\n",
            "\n",
            "Will train until validation_1-mae hasn't improved in 70 rounds.\n",
            "[100]\tvalidation_0-mae:99.561\tvalidation_1-mae:140.732\n",
            "[200]\tvalidation_0-mae:71.4301\tvalidation_1-mae:133.506\n",
            "[300]\tvalidation_0-mae:62.5434\tvalidation_1-mae:133.089\n",
            "Stopping. Best iteration:\n",
            "[288]\tvalidation_0-mae:63.4691\tvalidation_1-mae:132.662\n",
            "\n",
            "[11:45:52] WARNING: /workspace/src/objective/regression_obj.cu:152: reg:linear is now deprecated in favor of reg:squarederror.\n",
            "[0]\tvalidation_0-mae:567.366\tvalidation_1-mae:465.334\n",
            "Multiple eval metrics have been passed: 'validation_1-mae' will be used for early stopping.\n",
            "\n",
            "Will train until validation_1-mae hasn't improved in 70 rounds.\n",
            "[100]\tvalidation_0-mae:101.622\tvalidation_1-mae:113.061\n",
            "Stopping. Best iteration:\n",
            "[112]\tvalidation_0-mae:95.6637\tvalidation_1-mae:111.882\n",
            "\n",
            "[11:45:52] WARNING: /workspace/src/objective/regression_obj.cu:152: reg:linear is now deprecated in favor of reg:squarederror.\n",
            "[0]\tvalidation_0-mae:565.233\tvalidation_1-mae:484.894\n",
            "Multiple eval metrics have been passed: 'validation_1-mae' will be used for early stopping.\n",
            "\n",
            "Will train until validation_1-mae hasn't improved in 70 rounds.\n",
            "[100]\tvalidation_0-mae:100.726\tvalidation_1-mae:130.949\n",
            "[200]\tvalidation_0-mae:73.8582\tvalidation_1-mae:129.932\n",
            "Stopping. Best iteration:\n",
            "[148]\tvalidation_0-mae:81.8755\tvalidation_1-mae:129.016\n",
            "\n",
            "[11:45:52] WARNING: /workspace/src/objective/regression_obj.cu:152: reg:linear is now deprecated in favor of reg:squarederror.\n",
            "[0]\tvalidation_0-mae:558.476\tvalidation_1-mae:547.939\n",
            "Multiple eval metrics have been passed: 'validation_1-mae' will be used for early stopping.\n",
            "\n",
            "Will train until validation_1-mae hasn't improved in 70 rounds.\n",
            "[100]\tvalidation_0-mae:102.634\tvalidation_1-mae:138.957\n",
            "[200]\tvalidation_0-mae:74.8191\tvalidation_1-mae:127.265\n",
            "[300]\tvalidation_0-mae:64.2295\tvalidation_1-mae:123.543\n",
            "[400]\tvalidation_0-mae:58.3794\tvalidation_1-mae:122.212\n",
            "Stopping. Best iteration:\n",
            "[405]\tvalidation_0-mae:58.1934\tvalidation_1-mae:122.07\n",
            "\n"
          ],
          "name": "stdout"
        }
      ]
    },
    {
      "cell_type": "code",
      "metadata": {
        "colab": {
          "base_uri": "https://localhost:8080/"
        },
        "id": "aIEW8NfovMiN",
        "outputId": "7cb98792-a8ac-490e-89fa-3e25a37b4fc2"
      },
      "source": [
        "from sklearn.linear_model import ElasticNet\n",
        "\n",
        "skf = StratifiedKFold(n_splits=10, shuffle=True, random_state=42)\n",
        "preds_test_Ela = np.zeros((len(x_test)))\n",
        "\n",
        "for i,(train_index, valid_index) in enumerate(kf.split(x_train, y_train)):\n",
        "  X_train, X_valid = x_train.iloc[train_index], x_train.iloc[valid_index]\n",
        "  Y_train, Y_valid = y_train.iloc[train_index], y_train.iloc[valid_index]\n",
        "\n",
        "  model_Ela = ElasticNet(alpha=0.5, random_state=40)\n",
        "  model_Ela.fit(X_train, Y_train)\n",
        "\n",
        "  preds_test_Ela = model_Ela.predict(x_test)\n",
        "  preds_valid = model_Ela.predict(X_valid)\n",
        "  MAE = mean_absolute_error(Y_valid, preds_valid)\n",
        "  print(f'{i+1}번째 MAE:{MAE}')\n"
      ],
      "execution_count": 824,
      "outputs": [
        {
          "output_type": "stream",
          "text": [
            "1번째 MAE:131.04354660602095\n",
            "2번째 MAE:192.70880731732876\n",
            "3번째 MAE:114.67566823012359\n",
            "4번째 MAE:165.48643924552312\n",
            "5번째 MAE:111.67219563658485\n",
            "6번째 MAE:108.80748122785319\n",
            "7번째 MAE:136.75511123161\n",
            "8번째 MAE:118.31166762749129\n",
            "9번째 MAE:113.4400292981131\n",
            "10번째 MAE:119.84127557917132\n"
          ],
          "name": "stdout"
        }
      ]
    },
    {
      "cell_type": "code",
      "metadata": {
        "colab": {
          "base_uri": "https://localhost:8080/",
          "height": 358
        },
        "id": "HwP43-cA7uI6",
        "outputId": "bf284573-dedb-479a-cad1-c3ccf594fee4"
      },
      "source": [
        "fig, ax = plt.subplots(figsize=(8,5))\n",
        "ax.plot(pd.Series(preds_valid, index=Y_valid.index), label='Preds_Valid')\n",
        "ax.plot(Y_valid, label='Y_Valid')\n",
        "ax.legend()\n",
        "ax.set_title('preds vs y', fontsize=18, fontweight='bold')"
      ],
      "execution_count": 825,
      "outputs": [
        {
          "output_type": "execute_result",
          "data": {
            "text/plain": [
              "Text(0.5, 1.0, 'preds vs y')"
            ]
          },
          "metadata": {
            "tags": []
          },
          "execution_count": 825
        },
        {
          "output_type": "display_data",
          "data": {
            "image/png": "[encoded data removed]",
            "text/plain": [
              "<Figure size 576x360 with 1 Axes>"
            ]
          },
          "metadata": {
            "tags": [],
            "needs_background": "light"
          }
        }
      ]
    },
    {
      "cell_type": "markdown",
      "metadata": {
        "id": "pA4BjJab7NUB"
      },
      "source": [
        "# Cross validate 모델 사용"
      ]
    },
    {
      "cell_type": "code",
      "metadata": {
        "id": "iKr09yUc4-DI"
      },
      "source": [
        "from sklearn.metrics import make_scorer\n",
        "from sklearn.linear_model import LinearRegression, Ridge, Lasso\n",
        "from sklearn.tree import DecisionTreeRegressor, ExtraTreeRegressor\n",
        "from sklearn.model_selection import cross_val_score, cross_validate, cross_val_predict\n",
        "\n",
        "scorer = make_scorer(mean_absolute_error, greater_is_better=False)"
      ],
      "execution_count": 880,
      "outputs": []
    },
    {
      "cell_type": "code",
      "metadata": {
        "colab": {
          "base_uri": "https://localhost:8080/"
        },
        "id": "AVqkNg7g4jt2",
        "outputId": "b397a472-ba65-421a-abc5-bbb1197534e8"
      },
      "source": [
        "# ElasticNet\n",
        "cross_val = cross_validate(model_Ela, x_train_sel, y_train, scoring=scorer, cv=30, n_jobs=-1, return_estimator=True)\n",
        "cross_val['test_score'].mean()"
      ],
      "execution_count": 881,
      "outputs": [
        {
          "output_type": "execute_result",
          "data": {
            "text/plain": [
              "-130.9568128426262"
            ]
          },
          "metadata": {
            "tags": []
          },
          "execution_count": 881
        }
      ]
    },
    {
      "cell_type": "code",
      "metadata": {
        "colab": {
          "base_uri": "https://localhost:8080/"
        },
        "id": "IhIkiyadjS5m",
        "outputId": "c23d8fd6-58ac-44ba-a570-76278f951128"
      },
      "source": [
        "# Ridge\n",
        "cross_val = cross_validate(Ridge(alpha=0.5, max_iter=1000, random_state=42, normalize=True), x_train_sel, y_train, scoring=scorer, cv=30, n_jobs=-1, return_estimator=True)\n",
        "cross_val['test_score'].mean()"
      ],
      "execution_count": 882,
      "outputs": [
        {
          "output_type": "execute_result",
          "data": {
            "text/plain": [
              "-135.94777180342751"
            ]
          },
          "metadata": {
            "tags": []
          },
          "execution_count": 882
        }
      ]
    },
    {
      "cell_type": "code",
      "metadata": {
        "colab": {
          "base_uri": "https://localhost:8080/"
        },
        "id": "eWNclEuDlgA_",
        "outputId": "ceffdd7b-1c27-46f3-a8f2-c1220a615a40"
      },
      "source": [
        "# Lasso\n",
        "cross_val = cross_validate(Lasso(alpha=0.5, random_state=42, normalize=True), x_train_sel, y_train, scoring=scorer, cv=30, n_jobs=-1, return_estimator=True)\n",
        "cross_val['test_score'].mean()"
      ],
      "execution_count": 883,
      "outputs": [
        {
          "output_type": "execute_result",
          "data": {
            "text/plain": [
              "-125.0843628379809"
            ]
          },
          "metadata": {
            "tags": []
          },
          "execution_count": 883
        }
      ]
    },
    {
      "cell_type": "code",
      "metadata": {
        "colab": {
          "base_uri": "https://localhost:8080/"
        },
        "id": "rNk9fPFOjQMt",
        "outputId": "43b89c2b-1a68-450f-e4a0-2b5a533726eb"
      },
      "source": [
        "# linear\n",
        "cross_val = cross_validate(LinearRegression(n_jobs=-1), x_train_sel, y_train, scoring=scorer, cv=30, n_jobs=-1, return_estimator=True)\n",
        "cross_val['test_score'].mean()"
      ],
      "execution_count": 884,
      "outputs": [
        {
          "output_type": "execute_result",
          "data": {
            "text/plain": [
              "-132.10045162601656"
            ]
          },
          "metadata": {
            "tags": []
          },
          "execution_count": 884
        }
      ]
    },
    {
      "cell_type": "code",
      "metadata": {
        "colab": {
          "base_uri": "https://localhost:8080/"
        },
        "id": "fMnIWLXMk7xl",
        "outputId": "f83baf6a-49f9-4b27-d60e-95a7a32e6414"
      },
      "source": [
        "# Decision\n",
        "cross_val = cross_validate(DecisionTreeRegressor(criterion='mae', random_state=42), x_train_sel, y_train, scoring=scorer, cv=30, n_jobs=-1, return_estimator=True)\n",
        "cross_val['test_score'].mean()"
      ],
      "execution_count": 885,
      "outputs": [
        {
          "output_type": "execute_result",
          "data": {
            "text/plain": [
              "-189.3936507936508"
            ]
          },
          "metadata": {
            "tags": []
          },
          "execution_count": 885
        }
      ]
    },
    {
      "cell_type": "code",
      "metadata": {
        "colab": {
          "base_uri": "https://localhost:8080/"
        },
        "id": "gvd3_8ZmlDyL",
        "outputId": "dac163ce-1377-4c36-f2c0-8e6660c6012a"
      },
      "source": [
        "# Extra\n",
        "cross_val = cross_validate(ExtraTreeRegressor(criterion='mae', random_state=42), x_train_sel, y_train, scoring=scorer, cv=30, n_jobs=-1, return_estimator=True)\n",
        "cross_val['test_score'].mean()"
      ],
      "execution_count": 886,
      "outputs": [
        {
          "output_type": "execute_result",
          "data": {
            "text/plain": [
              "-191.2855555555556"
            ]
          },
          "metadata": {
            "tags": []
          },
          "execution_count": 886
        }
      ]
    },
    {
      "cell_type": "code",
      "metadata": {
        "colab": {
          "base_uri": "https://localhost:8080/"
        },
        "id": "FFH-ueSplJy_",
        "outputId": "a3955970-996d-462e-df96-5d415e27afcc"
      },
      "source": [
        "# XGBoost\n",
        "cross_val = cross_validate(model_xgb, x_train_sel, y_train, scoring=scorer, cv=30, n_jobs=-1, return_estimator=True)\n",
        "cross_val['test_score'].mean()"
      ],
      "execution_count": 887,
      "outputs": [
        {
          "output_type": "execute_result",
          "data": {
            "text/plain": [
              "-137.59640534688555"
            ]
          },
          "metadata": {
            "tags": []
          },
          "execution_count": 887
        }
      ]
    },
    {
      "cell_type": "code",
      "metadata": {
        "colab": {
          "base_uri": "https://localhost:8080/"
        },
        "id": "Y8ff0pz6m1qy",
        "outputId": "465b1909-7376-4870-9e9f-5364da71a38e"
      },
      "source": [
        "# lgbm 모델\n",
        "cross_val = cross_validate(model_lgbm, x_train_sel, y_train, scoring=scorer, cv=30, n_jobs=-1, return_estimator=True)\n",
        "cross_val['test_score'].mean()"
      ],
      "execution_count": 888,
      "outputs": [
        {
          "output_type": "execute_result",
          "data": {
            "text/plain": [
              "-127.93807599546395"
            ]
          },
          "metadata": {
            "tags": []
          },
          "execution_count": 888
        }
      ]
    },
    {
      "cell_type": "code",
      "metadata": {
        "id": "d0Sp6n7W6cCP"
      },
      "source": [
        "cross_val_preds = cross_val_predict(model_lgbm, x_train_sel, y_train, cv=30, n_jobs=-1)"
      ],
      "execution_count": 873,
      "outputs": []
    },
    {
      "cell_type": "code",
      "metadata": {
        "colab": {
          "base_uri": "https://localhost:8080/",
          "height": 521
        },
        "id": "sksdNvnf64AI",
        "outputId": "998a1b8d-7074-4afd-9f6a-65c23aed8f77"
      },
      "source": [
        "fig, ax = plt.subplots(figsize=(12,8))\n",
        "ax.plot(pd.Series(cross_val_preds, index=y_train.index), label='Preds_Valid')\n",
        "ax.plot(y_train, label='Y_train')\n",
        "ax.legend()\n",
        "ax.set_title('preds vs y', fontsize=18, fontweight='bold')"
      ],
      "execution_count": 874,
      "outputs": [
        {
          "output_type": "execute_result",
          "data": {
            "text/plain": [
              "Text(0.5, 1.0, 'preds vs y')"
            ]
          },
          "metadata": {
            "tags": []
          },
          "execution_count": 874
        },
        {
          "output_type": "display_data",
          "data": {
            "image/png": "[encoded data removed]",
            "text/plain": [
              "<Figure size 864x576 with 1 Axes>"
            ]
          },
          "metadata": {
            "tags": [],
            "needs_background": "light"
          }
        }
      ]
    },
    {
      "cell_type": "code",
      "metadata": {
        "id": "itnD-H9Z7S6S"
      },
      "source": [
        "# ElastickNet 모델 사용\n",
        "cross_val_preds = cross_val_predict(model_Ela, x_train, y_train, cv=30, n_jobs=-1)"
      ],
      "execution_count": 837,
      "outputs": []
    },
    {
      "cell_type": "code",
      "metadata": {
        "colab": {
          "base_uri": "https://localhost:8080/",
          "height": 358
        },
        "id": "3Av6f7uQ7c0U",
        "outputId": "07a0ea13-ce78-4365-b437-922ae9f67a5a"
      },
      "source": [
        "fig, ax = plt.subplots(figsize=(8,5))\n",
        "ax.plot(pd.Series(cross_val_preds, index=y_train.index), label='Preds_Valid')\n",
        "ax.plot(y_train, label='Y_train')\n",
        "ax.legend()\n",
        "ax.set_title('preds vs y', fontsize=18, fontweight='bold')"
      ],
      "execution_count": 838,
      "outputs": [
        {
          "output_type": "execute_result",
          "data": {
            "text/plain": [
              "Text(0.5, 1.0, 'preds vs y')"
            ]
          },
          "metadata": {
            "tags": []
          },
          "execution_count": 838
        },
        {
          "output_type": "display_data",
          "data": {
            "image/png": "[encoded data removed]",
            "text/plain": [
              "<Figure size 576x360 with 1 Axes>"
            ]
          },
          "metadata": {
            "tags": [],
            "needs_background": "light"
          }
        }
      ]
    },
    {
      "cell_type": "code",
      "metadata": {
        "id": "GRXZXtPJp0MF"
      },
      "source": [
        "# model selection RFE(후진제거법)\n",
        "from sklearn.feature_selection import RFE\n",
        "\n",
        "model = model_lgbm\n",
        "rfe = RFE(model)\n",
        "fit = rfe.fit(x_train, y_train)"
      ],
      "execution_count": 875,
      "outputs": []
    },
    {
      "cell_type": "code",
      "metadata": {
        "colab": {
          "base_uri": "https://localhost:8080/"
        },
        "id": "nu9ARBJTqhG3",
        "outputId": "67330bf8-2eea-4004-a52a-ecc40cb66a2b"
      },
      "source": [
        "feature_selected = pd.Series(fit.support_, index=x_train.columns)\n",
        "feature_selected_columns = list(feature_selected.loc[feature_selected == True].index)\n",
        "feature_selected"
      ],
      "execution_count": 877,
      "outputs": [
        {
          "output_type": "execute_result",
          "data": {
            "text/plain": [
              "총세대수                             True\n",
              "공가수                              True\n",
              "지역                               True\n",
              "단지내주차면수                          True\n",
              "도보 10분거리 내 지하철역 수(환승노선 수 반영)    False\n",
              "도보 10분거리 내 버스정류장 수               True\n",
              "면적_35.0                          True\n",
              "면적_50.0                          True\n",
              "면적_55.0                          True\n",
              "면적_30.0                         False\n",
              "면적_45.0                          True\n",
              "면적_40.0                         False\n",
              "면적_25.0                          True\n",
              "면적_70.0                         False\n",
              "면적_15.0                         False\n",
              "면적_20.0                         False\n",
              "면적_100.0                        False\n",
              "면적_60.0                         False\n",
              "면적_75.0                         False\n",
              "면적_80.0                         False\n",
              "면적_65.0                         False\n",
              "mean-임대보증금                       True\n",
              "min-임대보증금                        True\n",
              "max-임대보증금                        True\n",
              "count-임대보증금                      True\n",
              "std-임대보증금                        True\n",
              "mean-임대료                         True\n",
              "std-임대료                          True\n",
              "공실율                              True\n",
              "세대당주차면수                          True\n",
              "공공분양                            False\n",
              "공공임대(10년)                       False\n",
              "공공임대(50년)                       False\n",
              "공공임대(5년)                        False\n",
              "공공임대(분납)                        False\n",
              "국민임대                             True\n",
              "영구임대                            False\n",
              "임대상가                            False\n",
              "장기전세                            False\n",
              "행복주택                            False\n",
              "아파트                             False\n",
              "dtype: bool"
            ]
          },
          "metadata": {
            "tags": []
          },
          "execution_count": 877
        }
      ]
    },
    {
      "cell_type": "code",
      "metadata": {
        "id": "09ddBE0ir6Dx"
      },
      "source": [
        "x_train_sel = x_train[feature_selected_columns]\n",
        "x_test_sel = x_test[feature_selected_columns]"
      ],
      "execution_count": 879,
      "outputs": []
    },
    {
      "cell_type": "code",
      "metadata": {
        "colab": {
          "base_uri": "https://localhost:8080/",
          "height": 417
        },
        "id": "06eyYjaJv3E9",
        "outputId": "35334de5-c1b7-4822-d509-eee38dffa1dc"
      },
      "source": [
        "submit['num'] = preds_test_cat\n",
        "submit.to_csv('/content/drive/MyDrive/dataset/Dacon/대회/235745_parking_data/submit_5.csv', index=False)\n",
        "submit"
      ],
      "execution_count": 329,
      "outputs": [
        {
          "output_type": "execute_result",
          "data": {
            "text/html": [
              "<div>\n",
              "<style scoped>\n",
              "    .dataframe tbody tr th:only-of-type {\n",
              "        vertical-align: middle;\n",
              "    }\n",
              "\n",
              "    .dataframe tbody tr th {\n",
              "        vertical-align: top;\n",
              "    }\n",
              "\n",
              "    .dataframe thead th {\n",
              "        text-align: right;\n",
              "    }\n",
              "</style>\n",
              "<table border=\"1\" class=\"dataframe\">\n",
              "  <thead>\n",
              "    <tr style=\"text-align: right;\">\n",
              "      <th></th>\n",
              "      <th>code</th>\n",
              "      <th>num</th>\n",
              "    </tr>\n",
              "  </thead>\n",
              "  <tbody>\n",
              "    <tr>\n",
              "      <th>0</th>\n",
              "      <td>C1072</td>\n",
              "      <td>670.161763</td>\n",
              "    </tr>\n",
              "    <tr>\n",
              "      <th>1</th>\n",
              "      <td>C1128</td>\n",
              "      <td>1112.759458</td>\n",
              "    </tr>\n",
              "    <tr>\n",
              "      <th>2</th>\n",
              "      <td>C1456</td>\n",
              "      <td>522.789019</td>\n",
              "    </tr>\n",
              "    <tr>\n",
              "      <th>3</th>\n",
              "      <td>C1840</td>\n",
              "      <td>554.467793</td>\n",
              "    </tr>\n",
              "    <tr>\n",
              "      <th>4</th>\n",
              "      <td>C1332</td>\n",
              "      <td>1042.908122</td>\n",
              "    </tr>\n",
              "    <tr>\n",
              "      <th>...</th>\n",
              "      <td>...</td>\n",
              "      <td>...</td>\n",
              "    </tr>\n",
              "    <tr>\n",
              "      <th>145</th>\n",
              "      <td>C2456</td>\n",
              "      <td>267.410735</td>\n",
              "    </tr>\n",
              "    <tr>\n",
              "      <th>146</th>\n",
              "      <td>C1266</td>\n",
              "      <td>476.276781</td>\n",
              "    </tr>\n",
              "    <tr>\n",
              "      <th>147</th>\n",
              "      <td>C2152</td>\n",
              "      <td>60.556976</td>\n",
              "    </tr>\n",
              "    <tr>\n",
              "      <th>148</th>\n",
              "      <td>C1267</td>\n",
              "      <td>536.351834</td>\n",
              "    </tr>\n",
              "    <tr>\n",
              "      <th>149</th>\n",
              "      <td>C2189</td>\n",
              "      <td>263.865025</td>\n",
              "    </tr>\n",
              "  </tbody>\n",
              "</table>\n",
              "<p>150 rows × 2 columns</p>\n",
              "</div>"
            ],
            "text/plain": [
              "      code          num\n",
              "0    C1072   670.161763\n",
              "1    C1128  1112.759458\n",
              "2    C1456   522.789019\n",
              "3    C1840   554.467793\n",
              "4    C1332  1042.908122\n",
              "..     ...          ...\n",
              "145  C2456   267.410735\n",
              "146  C1266   476.276781\n",
              "147  C2152    60.556976\n",
              "148  C1267   536.351834\n",
              "149  C2189   263.865025\n",
              "\n",
              "[150 rows x 2 columns]"
            ]
          },
          "metadata": {
            "tags": []
          },
          "execution_count": 329
        }
      ]
    },
    {
      "cell_type": "code",
      "metadata": {
        "colab": {
          "base_uri": "https://localhost:8080/",
          "height": 417
        },
        "id": "xmbSzh62x3I7",
        "outputId": "0d331302-1bee-462e-b772-3b42f03a29eb"
      },
      "source": [
        "submit['num'] = preds_test_cat\n",
        "submit"
      ],
      "execution_count": 655,
      "outputs": [
        {
          "output_type": "execute_result",
          "data": {
            "text/html": [
              "<div>\n",
              "<style scoped>\n",
              "    .dataframe tbody tr th:only-of-type {\n",
              "        vertical-align: middle;\n",
              "    }\n",
              "\n",
              "    .dataframe tbody tr th {\n",
              "        vertical-align: top;\n",
              "    }\n",
              "\n",
              "    .dataframe thead th {\n",
              "        text-align: right;\n",
              "    }\n",
              "</style>\n",
              "<table border=\"1\" class=\"dataframe\">\n",
              "  <thead>\n",
              "    <tr style=\"text-align: right;\">\n",
              "      <th></th>\n",
              "      <th>code</th>\n",
              "      <th>num</th>\n",
              "    </tr>\n",
              "  </thead>\n",
              "  <tbody>\n",
              "    <tr>\n",
              "      <th>0</th>\n",
              "      <td>C1072</td>\n",
              "      <td>763.190180</td>\n",
              "    </tr>\n",
              "    <tr>\n",
              "      <th>1</th>\n",
              "      <td>C1128</td>\n",
              "      <td>1261.937146</td>\n",
              "    </tr>\n",
              "    <tr>\n",
              "      <th>2</th>\n",
              "      <td>C1456</td>\n",
              "      <td>588.037042</td>\n",
              "    </tr>\n",
              "    <tr>\n",
              "      <th>3</th>\n",
              "      <td>C1840</td>\n",
              "      <td>548.213311</td>\n",
              "    </tr>\n",
              "    <tr>\n",
              "      <th>4</th>\n",
              "      <td>C1332</td>\n",
              "      <td>1225.286551</td>\n",
              "    </tr>\n",
              "    <tr>\n",
              "      <th>...</th>\n",
              "      <td>...</td>\n",
              "      <td>...</td>\n",
              "    </tr>\n",
              "    <tr>\n",
              "      <th>145</th>\n",
              "      <td>C2456</td>\n",
              "      <td>220.508849</td>\n",
              "    </tr>\n",
              "    <tr>\n",
              "      <th>146</th>\n",
              "      <td>C1266</td>\n",
              "      <td>515.472701</td>\n",
              "    </tr>\n",
              "    <tr>\n",
              "      <th>147</th>\n",
              "      <td>C2152</td>\n",
              "      <td>91.418749</td>\n",
              "    </tr>\n",
              "    <tr>\n",
              "      <th>148</th>\n",
              "      <td>C1267</td>\n",
              "      <td>483.216688</td>\n",
              "    </tr>\n",
              "    <tr>\n",
              "      <th>149</th>\n",
              "      <td>C2189</td>\n",
              "      <td>229.615498</td>\n",
              "    </tr>\n",
              "  </tbody>\n",
              "</table>\n",
              "<p>150 rows × 2 columns</p>\n",
              "</div>"
            ],
            "text/plain": [
              "      code          num\n",
              "0    C1072   763.190180\n",
              "1    C1128  1261.937146\n",
              "2    C1456   588.037042\n",
              "3    C1840   548.213311\n",
              "4    C1332  1225.286551\n",
              "..     ...          ...\n",
              "145  C2456   220.508849\n",
              "146  C1266   515.472701\n",
              "147  C2152    91.418749\n",
              "148  C1267   483.216688\n",
              "149  C2189   229.615498\n",
              "\n",
              "[150 rows x 2 columns]"
            ]
          },
          "metadata": {
            "tags": []
          },
          "execution_count": 655
        }
      ]
    },
    {
      "cell_type": "code",
      "metadata": {
        "colab": {
          "base_uri": "https://localhost:8080/",
          "height": 417
        },
        "id": "z6TQXHT7wyC9",
        "outputId": "09445297-0302-45d7-c97f-5f899b89e6b4"
      },
      "source": [
        "submit"
      ],
      "execution_count": null,
      "outputs": [
        {
          "output_type": "execute_result",
          "data": {
            "text/html": [
              "<div>\n",
              "<style scoped>\n",
              "    .dataframe tbody tr th:only-of-type {\n",
              "        vertical-align: middle;\n",
              "    }\n",
              "\n",
              "    .dataframe tbody tr th {\n",
              "        vertical-align: top;\n",
              "    }\n",
              "\n",
              "    .dataframe thead th {\n",
              "        text-align: right;\n",
              "    }\n",
              "</style>\n",
              "<table border=\"1\" class=\"dataframe\">\n",
              "  <thead>\n",
              "    <tr style=\"text-align: right;\">\n",
              "      <th></th>\n",
              "      <th>code</th>\n",
              "      <th>num</th>\n",
              "    </tr>\n",
              "  </thead>\n",
              "  <tbody>\n",
              "    <tr>\n",
              "      <th>0</th>\n",
              "      <td>C1072</td>\n",
              "      <td>0</td>\n",
              "    </tr>\n",
              "    <tr>\n",
              "      <th>1</th>\n",
              "      <td>C1128</td>\n",
              "      <td>0</td>\n",
              "    </tr>\n",
              "    <tr>\n",
              "      <th>2</th>\n",
              "      <td>C1456</td>\n",
              "      <td>0</td>\n",
              "    </tr>\n",
              "    <tr>\n",
              "      <th>3</th>\n",
              "      <td>C1840</td>\n",
              "      <td>0</td>\n",
              "    </tr>\n",
              "    <tr>\n",
              "      <th>4</th>\n",
              "      <td>C1332</td>\n",
              "      <td>0</td>\n",
              "    </tr>\n",
              "    <tr>\n",
              "      <th>...</th>\n",
              "      <td>...</td>\n",
              "      <td>...</td>\n",
              "    </tr>\n",
              "    <tr>\n",
              "      <th>145</th>\n",
              "      <td>C2456</td>\n",
              "      <td>0</td>\n",
              "    </tr>\n",
              "    <tr>\n",
              "      <th>146</th>\n",
              "      <td>C1266</td>\n",
              "      <td>0</td>\n",
              "    </tr>\n",
              "    <tr>\n",
              "      <th>147</th>\n",
              "      <td>C2152</td>\n",
              "      <td>0</td>\n",
              "    </tr>\n",
              "    <tr>\n",
              "      <th>148</th>\n",
              "      <td>C1267</td>\n",
              "      <td>0</td>\n",
              "    </tr>\n",
              "    <tr>\n",
              "      <th>149</th>\n",
              "      <td>C2189</td>\n",
              "      <td>0</td>\n",
              "    </tr>\n",
              "  </tbody>\n",
              "</table>\n",
              "<p>150 rows × 2 columns</p>\n",
              "</div>"
            ],
            "text/plain": [
              "      code  num\n",
              "0    C1072    0\n",
              "1    C1128    0\n",
              "2    C1456    0\n",
              "3    C1840    0\n",
              "4    C1332    0\n",
              "..     ...  ...\n",
              "145  C2456    0\n",
              "146  C1266    0\n",
              "147  C2152    0\n",
              "148  C1267    0\n",
              "149  C2189    0\n",
              "\n",
              "[150 rows x 2 columns]"
            ]
          },
          "metadata": {
            "tags": []
          },
          "execution_count": 179
        }
      ]
    }
  ]
}