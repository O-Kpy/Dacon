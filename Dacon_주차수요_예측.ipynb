{
  "nbformat": 4,
  "nbformat_minor": 0,
  "metadata": {
    "colab": {
      "name": "Dacon 주차수요 예측.ipynb",
      "provenance": [],
      "collapsed_sections": [],
      "mount_file_id": "1bSjuU3A8YqNMk4enFXujAYLOUhavOLlN",
      "authorship_tag": "ABX9TyN6qnY/DWVAPeDM+Xf3em+p",
      "include_colab_link": true
    },
    "kernelspec": {
      "name": "python3",
      "display_name": "Python 3"
    },
    "language_info": {
      "name": "python"
    }
  },
  "cells": [
    {
      "cell_type": "markdown",
      "metadata": {
        "id": "view-in-github",
        "colab_type": "text"
      },
      "source": [
        "<a href=\"https://colab.research.google.com/github/O-Kpy/Dacon/blob/main/Dacon_%EC%A3%BC%EC%B0%A8%EC%88%98%EC%9A%94_%EC%98%88%EC%B8%A1.ipynb\" target=\"_parent\"><img src=\"https://colab.research.google.com/assets/colab-badge.svg\" alt=\"Open In Colab\"/></a>"
      ]
    },
    {
      "cell_type": "code",
      "metadata": {
        "id": "wOzwtKYaFU4D"
      },
      "source": [
        "import pandas as pd\n",
        "import numpy as np\n",
        "import matplotlib.pyplot as plt\n",
        "%matplotlib inline\n",
        "import seaborn as sns\n",
        "import warnings\n",
        "warnings.filterwarnings('ignore')\n",
        "from scipy.stats import skew\n",
        "from tqdm import tqdm"
      ],
      "execution_count": 1,
      "outputs": []
    },
    {
      "cell_type": "code",
      "metadata": {
        "colab": {
          "base_uri": "https://localhost:8080/"
        },
        "id": "JQ1KB85aGbwe",
        "outputId": "012fc377-9d5b-4087-dc20-e82f43f71be3"
      },
      "source": [
        "!apt-get update -qq  ## 나눔 설치\n",
        "!apt-get install fonts-nanum* -qq"
      ],
      "execution_count": 2,
      "outputs": [
        {
          "output_type": "stream",
          "text": [
            "Selecting previously unselected package fonts-nanum.\n",
            "(Reading database ... 160772 files and directories currently installed.)\n",
            "Preparing to unpack .../fonts-nanum_20170925-1_all.deb ...\n",
            "Unpacking fonts-nanum (20170925-1) ...\n",
            "Selecting previously unselected package fonts-nanum-eco.\n",
            "Preparing to unpack .../fonts-nanum-eco_1.000-6_all.deb ...\n",
            "Unpacking fonts-nanum-eco (1.000-6) ...\n",
            "Selecting previously unselected package fonts-nanum-extra.\n",
            "Preparing to unpack .../fonts-nanum-extra_20170925-1_all.deb ...\n",
            "Unpacking fonts-nanum-extra (20170925-1) ...\n",
            "Selecting previously unselected package fonts-nanum-coding.\n",
            "Preparing to unpack .../fonts-nanum-coding_2.5-1_all.deb ...\n",
            "Unpacking fonts-nanum-coding (2.5-1) ...\n",
            "Setting up fonts-nanum-extra (20170925-1) ...\n",
            "Setting up fonts-nanum (20170925-1) ...\n",
            "Setting up fonts-nanum-coding (2.5-1) ...\n",
            "Setting up fonts-nanum-eco (1.000-6) ...\n",
            "Processing triggers for fontconfig (2.12.6-0ubuntu2) ...\n"
          ],
          "name": "stdout"
        }
      ]
    },
    {
      "cell_type": "code",
      "metadata": {
        "id": "oJr5fomcGhut"
      },
      "source": [
        "import matplotlib as mpl\n",
        "import matplotlib.font_manager as fm   ## 폰트 매니저\n",
        "fontpath = '/usr/share/fonts/truetype/nanum/NanumGothic.ttf' \n",
        "font = fm.FontProperties(fname=fontpath, size=9).get_name()\n",
        "plt.rc('font', family=font) \n",
        "mpl.font_manager._rebuild()"
      ],
      "execution_count": 2,
      "outputs": []
    },
    {
      "cell_type": "code",
      "metadata": {
        "colab": {
          "base_uri": "https://localhost:8080/"
        },
        "id": "bR0QzoASFsLa",
        "outputId": "d2b4b29a-7e41-4128-e747-bdcf0fbcae56"
      },
      "source": [
        "train = pd.read_csv('/content/drive/MyDrive/dataset/Dacon/대회/235745_parking_data/235745_parking_data_train.csv')\n",
        "test = pd.read_csv('/content/drive/MyDrive/dataset/Dacon/대회/235745_parking_data/235745_parking_data_test.csv')\n",
        "submit = pd.read_csv('/content/drive/MyDrive/dataset/Dacon/대회/235745_parking_data/235745_parking_data_sample_submission.csv')\n",
        "info = pd.read_csv('/content/drive/MyDrive/dataset/Dacon/대회/235745_parking_data/235745_parking_data_age_gender_info.csv')\n",
        "train.shape, test.shape, info.shape"
      ],
      "execution_count": 573,
      "outputs": [
        {
          "output_type": "execute_result",
          "data": {
            "text/plain": [
              "((2952, 15), (1022, 14), (16, 23))"
            ]
          },
          "metadata": {
            "tags": []
          },
          "execution_count": 573
        }
      ]
    },
    {
      "cell_type": "code",
      "metadata": {
        "colab": {
          "base_uri": "https://localhost:8080/"
        },
        "id": "30CWzFOyf4Jp",
        "outputId": "7b943b41-016c-4f8f-e17d-5edd95b43a37"
      },
      "source": [
        "train.info()"
      ],
      "execution_count": null,
      "outputs": [
        {
          "output_type": "stream",
          "text": [
            "<class 'pandas.core.frame.DataFrame'>\n",
            "RangeIndex: 2952 entries, 0 to 2951\n",
            "Data columns (total 15 columns):\n",
            " #   Column                        Non-Null Count  Dtype  \n",
            "---  ------                        --------------  -----  \n",
            " 0   단지코드                          2952 non-null   object \n",
            " 1   총세대수                          2952 non-null   int64  \n",
            " 2   임대건물구분                        2952 non-null   object \n",
            " 3   지역                            2952 non-null   object \n",
            " 4   공급유형                          2952 non-null   object \n",
            " 5   전용면적                          2952 non-null   float64\n",
            " 6   전용면적별세대수                      2952 non-null   int64  \n",
            " 7   공가수                           2952 non-null   float64\n",
            " 8   자격유형                          2952 non-null   object \n",
            " 9   임대보증금                         2383 non-null   object \n",
            " 10  임대료                           2383 non-null   object \n",
            " 11  도보 10분거리 내 지하철역 수(환승노선 수 반영)  2741 non-null   float64\n",
            " 12  도보 10분거리 내 버스정류장 수            2948 non-null   float64\n",
            " 13  단지내주차면수                       2952 non-null   float64\n",
            " 14  등록차량수                         2952 non-null   float64\n",
            "dtypes: float64(6), int64(2), object(7)\n",
            "memory usage: 346.1+ KB\n"
          ],
          "name": "stdout"
        }
      ]
    },
    {
      "cell_type": "code",
      "metadata": {
        "colab": {
          "base_uri": "https://localhost:8080/",
          "height": 304
        },
        "id": "fnkIpIxuGNBN",
        "outputId": "cb364e5a-5797-417c-9e64-60f18e8473c9"
      },
      "source": [
        "train.head()"
      ],
      "execution_count": null,
      "outputs": [
        {
          "output_type": "execute_result",
          "data": {
            "text/html": [
              "<div>\n",
              "<style scoped>\n",
              "    .dataframe tbody tr th:only-of-type {\n",
              "        vertical-align: middle;\n",
              "    }\n",
              "\n",
              "    .dataframe tbody tr th {\n",
              "        vertical-align: top;\n",
              "    }\n",
              "\n",
              "    .dataframe thead th {\n",
              "        text-align: right;\n",
              "    }\n",
              "</style>\n",
              "<table border=\"1\" class=\"dataframe\">\n",
              "  <thead>\n",
              "    <tr style=\"text-align: right;\">\n",
              "      <th></th>\n",
              "      <th>단지코드</th>\n",
              "      <th>총세대수</th>\n",
              "      <th>임대건물구분</th>\n",
              "      <th>지역</th>\n",
              "      <th>공급유형</th>\n",
              "      <th>전용면적</th>\n",
              "      <th>전용면적별세대수</th>\n",
              "      <th>공가수</th>\n",
              "      <th>자격유형</th>\n",
              "      <th>임대보증금</th>\n",
              "      <th>임대료</th>\n",
              "      <th>도보 10분거리 내 지하철역 수(환승노선 수 반영)</th>\n",
              "      <th>도보 10분거리 내 버스정류장 수</th>\n",
              "      <th>단지내주차면수</th>\n",
              "      <th>등록차량수</th>\n",
              "    </tr>\n",
              "  </thead>\n",
              "  <tbody>\n",
              "    <tr>\n",
              "      <th>0</th>\n",
              "      <td>C2483</td>\n",
              "      <td>900</td>\n",
              "      <td>아파트</td>\n",
              "      <td>경상북도</td>\n",
              "      <td>국민임대</td>\n",
              "      <td>39.72</td>\n",
              "      <td>134</td>\n",
              "      <td>38.0</td>\n",
              "      <td>A</td>\n",
              "      <td>15667000</td>\n",
              "      <td>103680</td>\n",
              "      <td>0.0</td>\n",
              "      <td>3.0</td>\n",
              "      <td>1425.0</td>\n",
              "      <td>1015.0</td>\n",
              "    </tr>\n",
              "    <tr>\n",
              "      <th>1</th>\n",
              "      <td>C2483</td>\n",
              "      <td>900</td>\n",
              "      <td>아파트</td>\n",
              "      <td>경상북도</td>\n",
              "      <td>국민임대</td>\n",
              "      <td>39.72</td>\n",
              "      <td>15</td>\n",
              "      <td>38.0</td>\n",
              "      <td>A</td>\n",
              "      <td>15667000</td>\n",
              "      <td>103680</td>\n",
              "      <td>0.0</td>\n",
              "      <td>3.0</td>\n",
              "      <td>1425.0</td>\n",
              "      <td>1015.0</td>\n",
              "    </tr>\n",
              "    <tr>\n",
              "      <th>2</th>\n",
              "      <td>C2483</td>\n",
              "      <td>900</td>\n",
              "      <td>아파트</td>\n",
              "      <td>경상북도</td>\n",
              "      <td>국민임대</td>\n",
              "      <td>51.93</td>\n",
              "      <td>385</td>\n",
              "      <td>38.0</td>\n",
              "      <td>A</td>\n",
              "      <td>27304000</td>\n",
              "      <td>184330</td>\n",
              "      <td>0.0</td>\n",
              "      <td>3.0</td>\n",
              "      <td>1425.0</td>\n",
              "      <td>1015.0</td>\n",
              "    </tr>\n",
              "    <tr>\n",
              "      <th>3</th>\n",
              "      <td>C2483</td>\n",
              "      <td>900</td>\n",
              "      <td>아파트</td>\n",
              "      <td>경상북도</td>\n",
              "      <td>국민임대</td>\n",
              "      <td>51.93</td>\n",
              "      <td>15</td>\n",
              "      <td>38.0</td>\n",
              "      <td>A</td>\n",
              "      <td>27304000</td>\n",
              "      <td>184330</td>\n",
              "      <td>0.0</td>\n",
              "      <td>3.0</td>\n",
              "      <td>1425.0</td>\n",
              "      <td>1015.0</td>\n",
              "    </tr>\n",
              "    <tr>\n",
              "      <th>4</th>\n",
              "      <td>C2483</td>\n",
              "      <td>900</td>\n",
              "      <td>아파트</td>\n",
              "      <td>경상북도</td>\n",
              "      <td>국민임대</td>\n",
              "      <td>51.93</td>\n",
              "      <td>41</td>\n",
              "      <td>38.0</td>\n",
              "      <td>A</td>\n",
              "      <td>27304000</td>\n",
              "      <td>184330</td>\n",
              "      <td>0.0</td>\n",
              "      <td>3.0</td>\n",
              "      <td>1425.0</td>\n",
              "      <td>1015.0</td>\n",
              "    </tr>\n",
              "  </tbody>\n",
              "</table>\n",
              "</div>"
            ],
            "text/plain": [
              "    단지코드  총세대수 임대건물구분  ... 도보 10분거리 내 버스정류장 수 단지내주차면수   등록차량수\n",
              "0  C2483   900    아파트  ...                3.0  1425.0  1015.0\n",
              "1  C2483   900    아파트  ...                3.0  1425.0  1015.0\n",
              "2  C2483   900    아파트  ...                3.0  1425.0  1015.0\n",
              "3  C2483   900    아파트  ...                3.0  1425.0  1015.0\n",
              "4  C2483   900    아파트  ...                3.0  1425.0  1015.0\n",
              "\n",
              "[5 rows x 15 columns]"
            ]
          },
          "metadata": {
            "tags": []
          },
          "execution_count": 4
        }
      ]
    },
    {
      "cell_type": "code",
      "metadata": {
        "id": "9Rl_QPkMGn-E"
      },
      "source": [
        "# train set과 test set 합쳐서 전처리\n",
        "data = pd.concat([train, test], axis=0)"
      ],
      "execution_count": 574,
      "outputs": []
    },
    {
      "cell_type": "code",
      "metadata": {
        "colab": {
          "base_uri": "https://localhost:8080/",
          "height": 511
        },
        "id": "eRSQZAc4Gs-f",
        "outputId": "70ff68a0-cc20-49a1-f0a5-4226d0fa9aca"
      },
      "source": [
        "# null값 체크\n",
        "pd.DataFrame(data.isnull().mean()).rename(columns={0:'percent'}).sort_values('percent', ascending=False)*100"
      ],
      "execution_count": 5,
      "outputs": [
        {
          "output_type": "execute_result",
          "data": {
            "text/html": [
              "<div>\n",
              "<style scoped>\n",
              "    .dataframe tbody tr th:only-of-type {\n",
              "        vertical-align: middle;\n",
              "    }\n",
              "\n",
              "    .dataframe tbody tr th {\n",
              "        vertical-align: top;\n",
              "    }\n",
              "\n",
              "    .dataframe thead th {\n",
              "        text-align: right;\n",
              "    }\n",
              "</style>\n",
              "<table border=\"1\" class=\"dataframe\">\n",
              "  <thead>\n",
              "    <tr style=\"text-align: right;\">\n",
              "      <th></th>\n",
              "      <th>percent</th>\n",
              "    </tr>\n",
              "  </thead>\n",
              "  <tbody>\n",
              "    <tr>\n",
              "      <th>등록차량수</th>\n",
              "      <td>25.717162</td>\n",
              "    </tr>\n",
              "    <tr>\n",
              "      <th>임대보증금</th>\n",
              "      <td>18.847509</td>\n",
              "    </tr>\n",
              "    <tr>\n",
              "      <th>임대료</th>\n",
              "      <td>18.847509</td>\n",
              "    </tr>\n",
              "    <tr>\n",
              "      <th>도보 10분거리 내 지하철역 수(환승노선 수 반영)</th>\n",
              "      <td>6.366381</td>\n",
              "    </tr>\n",
              "    <tr>\n",
              "      <th>도보 10분거리 내 버스정류장 수</th>\n",
              "      <td>0.100654</td>\n",
              "    </tr>\n",
              "    <tr>\n",
              "      <th>자격유형</th>\n",
              "      <td>0.050327</td>\n",
              "    </tr>\n",
              "    <tr>\n",
              "      <th>단지코드</th>\n",
              "      <td>0.000000</td>\n",
              "    </tr>\n",
              "    <tr>\n",
              "      <th>총세대수</th>\n",
              "      <td>0.000000</td>\n",
              "    </tr>\n",
              "    <tr>\n",
              "      <th>임대건물구분</th>\n",
              "      <td>0.000000</td>\n",
              "    </tr>\n",
              "    <tr>\n",
              "      <th>지역</th>\n",
              "      <td>0.000000</td>\n",
              "    </tr>\n",
              "    <tr>\n",
              "      <th>공급유형</th>\n",
              "      <td>0.000000</td>\n",
              "    </tr>\n",
              "    <tr>\n",
              "      <th>전용면적</th>\n",
              "      <td>0.000000</td>\n",
              "    </tr>\n",
              "    <tr>\n",
              "      <th>전용면적별세대수</th>\n",
              "      <td>0.000000</td>\n",
              "    </tr>\n",
              "    <tr>\n",
              "      <th>공가수</th>\n",
              "      <td>0.000000</td>\n",
              "    </tr>\n",
              "    <tr>\n",
              "      <th>단지내주차면수</th>\n",
              "      <td>0.000000</td>\n",
              "    </tr>\n",
              "  </tbody>\n",
              "</table>\n",
              "</div>"
            ],
            "text/plain": [
              "                                percent\n",
              "등록차량수                         25.717162\n",
              "임대보증금                         18.847509\n",
              "임대료                           18.847509\n",
              "도보 10분거리 내 지하철역 수(환승노선 수 반영)   6.366381\n",
              "도보 10분거리 내 버스정류장 수             0.100654\n",
              "자격유형                           0.050327\n",
              "단지코드                           0.000000\n",
              "총세대수                           0.000000\n",
              "임대건물구분                         0.000000\n",
              "지역                             0.000000\n",
              "공급유형                           0.000000\n",
              "전용면적                           0.000000\n",
              "전용면적별세대수                       0.000000\n",
              "공가수                            0.000000\n",
              "단지내주차면수                        0.000000"
            ]
          },
          "metadata": {
            "tags": []
          },
          "execution_count": 5
        }
      ]
    },
    {
      "cell_type": "code",
      "metadata": {
        "colab": {
          "base_uri": "https://localhost:8080/"
        },
        "id": "W_OSOSx2OHlK",
        "outputId": "b62b425b-57c3-4dec-a003-f09977fb55a5"
      },
      "source": [
        "# null값 처리\n",
        "data.loc[data['임대보증금'].isnull()]['자격유형'].unique()\n",
        "# 임대보증금 null값들의 자격유형은 다 'D'이네..."
      ],
      "execution_count": null,
      "outputs": [
        {
          "output_type": "execute_result",
          "data": {
            "text/plain": [
              "array(['D'], dtype=object)"
            ]
          },
          "metadata": {
            "tags": []
          },
          "execution_count": 78
        }
      ]
    },
    {
      "cell_type": "code",
      "metadata": {
        "colab": {
          "base_uri": "https://localhost:8080/",
          "height": 394
        },
        "id": "2ULqsi1Oi-ak",
        "outputId": "f27294b5-e641-463d-c603-b6e8b0b8eadb"
      },
      "source": [
        "# 자격유형에 대해서 EDA해보자\n",
        "data['자격유형'].hist(figsize=(8,6))\n",
        "# A가 가장 많고, dehijcdklno순"
      ],
      "execution_count": 6,
      "outputs": [
        {
          "output_type": "execute_result",
          "data": {
            "text/plain": [
              "<matplotlib.axes._subplots.AxesSubplot at 0x7f01af588cd0>"
            ]
          },
          "metadata": {
            "tags": []
          },
          "execution_count": 6
        },
        {
          "output_type": "stream",
          "text": [
            "findfont: Font family ['NanumGothic'] not found. Falling back to DejaVu Sans.\n"
          ],
          "name": "stderr"
        },
        {
          "output_type": "display_data",
          "data": {
            "image/png": "[encoded data removed]",
            "text/plain": [
              "<Figure size 576x432 with 1 Axes>"
            ]
          },
          "metadata": {
            "tags": [],
            "needs_background": "light"
          }
        }
      ]
    },
    {
      "cell_type": "code",
      "metadata": {
        "colab": {
          "base_uri": "https://localhost:8080/"
        },
        "id": "amK1MkxrfcC2",
        "outputId": "b4fec12b-39f1-4fd5-b3f8-fee2ad50932a"
      },
      "source": [
        "data.loc[data['임대보증금'].isnull()]['지역'].unique()\n",
        "# 서울 빼고 모든 지방이 포함되네"
      ],
      "execution_count": null,
      "outputs": [
        {
          "output_type": "execute_result",
          "data": {
            "text/plain": [
              "array(['강원도', '충청남도', '경상남도', '대전광역시', '부산광역시', '제주특별자치도', '울산광역시'],\n",
              "      dtype=object)"
            ]
          },
          "metadata": {
            "tags": []
          },
          "execution_count": 85
        }
      ]
    },
    {
      "cell_type": "code",
      "metadata": {
        "colab": {
          "base_uri": "https://localhost:8080/",
          "height": 922
        },
        "id": "5Q_0k8MwoiPo",
        "outputId": "ba5094dc-8d5a-411f-fc36-baa78bdbddcd"
      },
      "source": [
        "data.loc[data['임대보증금']=='-']\n",
        "# 이것을 어떻게 처리할지 고민..."
      ],
      "execution_count": null,
      "outputs": [
        {
          "output_type": "execute_result",
          "data": {
            "text/html": [
              "<div>\n",
              "<style scoped>\n",
              "    .dataframe tbody tr th:only-of-type {\n",
              "        vertical-align: middle;\n",
              "    }\n",
              "\n",
              "    .dataframe tbody tr th {\n",
              "        vertical-align: top;\n",
              "    }\n",
              "\n",
              "    .dataframe thead th {\n",
              "        text-align: right;\n",
              "    }\n",
              "</style>\n",
              "<table border=\"1\" class=\"dataframe\">\n",
              "  <thead>\n",
              "    <tr style=\"text-align: right;\">\n",
              "      <th></th>\n",
              "      <th>단지코드</th>\n",
              "      <th>총세대수</th>\n",
              "      <th>임대건물구분</th>\n",
              "      <th>지역</th>\n",
              "      <th>공급유형</th>\n",
              "      <th>전용면적</th>\n",
              "      <th>전용면적별세대수</th>\n",
              "      <th>공가수</th>\n",
              "      <th>자격유형</th>\n",
              "      <th>임대보증금</th>\n",
              "      <th>임대료</th>\n",
              "      <th>도보 10분거리 내 지하철역 수(환승노선 수 반영)</th>\n",
              "      <th>도보 10분거리 내 버스정류장 수</th>\n",
              "      <th>단지내주차면수</th>\n",
              "      <th>등록차량수</th>\n",
              "    </tr>\n",
              "  </thead>\n",
              "  <tbody>\n",
              "    <tr>\n",
              "      <th>2547</th>\n",
              "      <td>C1326</td>\n",
              "      <td>1934</td>\n",
              "      <td>아파트</td>\n",
              "      <td>부산광역시</td>\n",
              "      <td>국민임대</td>\n",
              "      <td>24.72</td>\n",
              "      <td>472</td>\n",
              "      <td>43.0</td>\n",
              "      <td>H</td>\n",
              "      <td>-</td>\n",
              "      <td>-</td>\n",
              "      <td>0.0</td>\n",
              "      <td>4.0</td>\n",
              "      <td>1670.0</td>\n",
              "      <td>1153.0</td>\n",
              "    </tr>\n",
              "    <tr>\n",
              "      <th>2548</th>\n",
              "      <td>C1326</td>\n",
              "      <td>1934</td>\n",
              "      <td>아파트</td>\n",
              "      <td>부산광역시</td>\n",
              "      <td>국민임대</td>\n",
              "      <td>24.79</td>\n",
              "      <td>104</td>\n",
              "      <td>43.0</td>\n",
              "      <td>H</td>\n",
              "      <td>-</td>\n",
              "      <td>-</td>\n",
              "      <td>0.0</td>\n",
              "      <td>4.0</td>\n",
              "      <td>1670.0</td>\n",
              "      <td>1153.0</td>\n",
              "    </tr>\n",
              "    <tr>\n",
              "      <th>2549</th>\n",
              "      <td>C1326</td>\n",
              "      <td>1934</td>\n",
              "      <td>아파트</td>\n",
              "      <td>부산광역시</td>\n",
              "      <td>국민임대</td>\n",
              "      <td>26.83</td>\n",
              "      <td>590</td>\n",
              "      <td>43.0</td>\n",
              "      <td>H</td>\n",
              "      <td>-</td>\n",
              "      <td>-</td>\n",
              "      <td>0.0</td>\n",
              "      <td>4.0</td>\n",
              "      <td>1670.0</td>\n",
              "      <td>1153.0</td>\n",
              "    </tr>\n",
              "    <tr>\n",
              "      <th>2550</th>\n",
              "      <td>C1326</td>\n",
              "      <td>1934</td>\n",
              "      <td>아파트</td>\n",
              "      <td>부산광역시</td>\n",
              "      <td>국민임대</td>\n",
              "      <td>37.70</td>\n",
              "      <td>464</td>\n",
              "      <td>43.0</td>\n",
              "      <td>H</td>\n",
              "      <td>-</td>\n",
              "      <td>-</td>\n",
              "      <td>0.0</td>\n",
              "      <td>4.0</td>\n",
              "      <td>1670.0</td>\n",
              "      <td>1153.0</td>\n",
              "    </tr>\n",
              "    <tr>\n",
              "      <th>2551</th>\n",
              "      <td>C1326</td>\n",
              "      <td>1934</td>\n",
              "      <td>아파트</td>\n",
              "      <td>부산광역시</td>\n",
              "      <td>국민임대</td>\n",
              "      <td>46.94</td>\n",
              "      <td>304</td>\n",
              "      <td>43.0</td>\n",
              "      <td>H</td>\n",
              "      <td>-</td>\n",
              "      <td>-</td>\n",
              "      <td>0.0</td>\n",
              "      <td>4.0</td>\n",
              "      <td>1670.0</td>\n",
              "      <td>1153.0</td>\n",
              "    </tr>\n",
              "    <tr>\n",
              "      <th>2680</th>\n",
              "      <td>C1786</td>\n",
              "      <td>480</td>\n",
              "      <td>아파트</td>\n",
              "      <td>강원도</td>\n",
              "      <td>행복주택</td>\n",
              "      <td>16.91</td>\n",
              "      <td>156</td>\n",
              "      <td>25.0</td>\n",
              "      <td>K</td>\n",
              "      <td>-</td>\n",
              "      <td>-</td>\n",
              "      <td>0.0</td>\n",
              "      <td>3.0</td>\n",
              "      <td>338.0</td>\n",
              "      <td>345.0</td>\n",
              "    </tr>\n",
              "    <tr>\n",
              "      <th>2681</th>\n",
              "      <td>C1786</td>\n",
              "      <td>480</td>\n",
              "      <td>아파트</td>\n",
              "      <td>강원도</td>\n",
              "      <td>행복주택</td>\n",
              "      <td>26.90</td>\n",
              "      <td>136</td>\n",
              "      <td>25.0</td>\n",
              "      <td>K</td>\n",
              "      <td>-</td>\n",
              "      <td>-</td>\n",
              "      <td>0.0</td>\n",
              "      <td>3.0</td>\n",
              "      <td>338.0</td>\n",
              "      <td>345.0</td>\n",
              "    </tr>\n",
              "    <tr>\n",
              "      <th>2682</th>\n",
              "      <td>C1786</td>\n",
              "      <td>480</td>\n",
              "      <td>아파트</td>\n",
              "      <td>강원도</td>\n",
              "      <td>행복주택</td>\n",
              "      <td>26.90</td>\n",
              "      <td>72</td>\n",
              "      <td>25.0</td>\n",
              "      <td>K</td>\n",
              "      <td>-</td>\n",
              "      <td>-</td>\n",
              "      <td>0.0</td>\n",
              "      <td>3.0</td>\n",
              "      <td>338.0</td>\n",
              "      <td>345.0</td>\n",
              "    </tr>\n",
              "    <tr>\n",
              "      <th>2683</th>\n",
              "      <td>C1786</td>\n",
              "      <td>480</td>\n",
              "      <td>아파트</td>\n",
              "      <td>강원도</td>\n",
              "      <td>행복주택</td>\n",
              "      <td>26.90</td>\n",
              "      <td>24</td>\n",
              "      <td>25.0</td>\n",
              "      <td>K</td>\n",
              "      <td>-</td>\n",
              "      <td>-</td>\n",
              "      <td>0.0</td>\n",
              "      <td>3.0</td>\n",
              "      <td>338.0</td>\n",
              "      <td>345.0</td>\n",
              "    </tr>\n",
              "    <tr>\n",
              "      <th>2906</th>\n",
              "      <td>C2186</td>\n",
              "      <td>924</td>\n",
              "      <td>아파트</td>\n",
              "      <td>대구광역시</td>\n",
              "      <td>국민임대</td>\n",
              "      <td>29.17</td>\n",
              "      <td>238</td>\n",
              "      <td>0.0</td>\n",
              "      <td>H</td>\n",
              "      <td>-</td>\n",
              "      <td>-</td>\n",
              "      <td>0.0</td>\n",
              "      <td>8.0</td>\n",
              "      <td>664.0</td>\n",
              "      <td>744.0</td>\n",
              "    </tr>\n",
              "    <tr>\n",
              "      <th>2907</th>\n",
              "      <td>C2186</td>\n",
              "      <td>924</td>\n",
              "      <td>아파트</td>\n",
              "      <td>대구광역시</td>\n",
              "      <td>국민임대</td>\n",
              "      <td>29.34</td>\n",
              "      <td>38</td>\n",
              "      <td>0.0</td>\n",
              "      <td>H</td>\n",
              "      <td>-</td>\n",
              "      <td>-</td>\n",
              "      <td>0.0</td>\n",
              "      <td>8.0</td>\n",
              "      <td>664.0</td>\n",
              "      <td>744.0</td>\n",
              "    </tr>\n",
              "    <tr>\n",
              "      <th>2908</th>\n",
              "      <td>C2186</td>\n",
              "      <td>924</td>\n",
              "      <td>아파트</td>\n",
              "      <td>대구광역시</td>\n",
              "      <td>국민임대</td>\n",
              "      <td>37.43</td>\n",
              "      <td>220</td>\n",
              "      <td>0.0</td>\n",
              "      <td>H</td>\n",
              "      <td>-</td>\n",
              "      <td>-</td>\n",
              "      <td>0.0</td>\n",
              "      <td>8.0</td>\n",
              "      <td>664.0</td>\n",
              "      <td>744.0</td>\n",
              "    </tr>\n",
              "    <tr>\n",
              "      <th>1005</th>\n",
              "      <td>C2152</td>\n",
              "      <td>120</td>\n",
              "      <td>아파트</td>\n",
              "      <td>강원도</td>\n",
              "      <td>영구임대</td>\n",
              "      <td>24.83</td>\n",
              "      <td>66</td>\n",
              "      <td>9.0</td>\n",
              "      <td>C</td>\n",
              "      <td>-</td>\n",
              "      <td>-</td>\n",
              "      <td>0.0</td>\n",
              "      <td>1.0</td>\n",
              "      <td>40.0</td>\n",
              "      <td>NaN</td>\n",
              "    </tr>\n",
              "    <tr>\n",
              "      <th>1006</th>\n",
              "      <td>C2152</td>\n",
              "      <td>120</td>\n",
              "      <td>아파트</td>\n",
              "      <td>강원도</td>\n",
              "      <td>영구임대</td>\n",
              "      <td>33.84</td>\n",
              "      <td>54</td>\n",
              "      <td>9.0</td>\n",
              "      <td>C</td>\n",
              "      <td>-</td>\n",
              "      <td>-</td>\n",
              "      <td>0.0</td>\n",
              "      <td>1.0</td>\n",
              "      <td>40.0</td>\n",
              "      <td>NaN</td>\n",
              "    </tr>\n",
              "    <tr>\n",
              "      <th>1014</th>\n",
              "      <td>C1267</td>\n",
              "      <td>675</td>\n",
              "      <td>아파트</td>\n",
              "      <td>경상남도</td>\n",
              "      <td>행복주택</td>\n",
              "      <td>16.94</td>\n",
              "      <td>50</td>\n",
              "      <td>38.0</td>\n",
              "      <td>L</td>\n",
              "      <td>-</td>\n",
              "      <td>-</td>\n",
              "      <td>0.0</td>\n",
              "      <td>1.0</td>\n",
              "      <td>467.0</td>\n",
              "      <td>NaN</td>\n",
              "    </tr>\n",
              "    <tr>\n",
              "      <th>1015</th>\n",
              "      <td>C1267</td>\n",
              "      <td>675</td>\n",
              "      <td>아파트</td>\n",
              "      <td>경상남도</td>\n",
              "      <td>행복주택</td>\n",
              "      <td>26.85</td>\n",
              "      <td>66</td>\n",
              "      <td>38.0</td>\n",
              "      <td>L</td>\n",
              "      <td>-</td>\n",
              "      <td>-</td>\n",
              "      <td>0.0</td>\n",
              "      <td>1.0</td>\n",
              "      <td>467.0</td>\n",
              "      <td>NaN</td>\n",
              "    </tr>\n",
              "    <tr>\n",
              "      <th>1016</th>\n",
              "      <td>C1267</td>\n",
              "      <td>675</td>\n",
              "      <td>아파트</td>\n",
              "      <td>경상남도</td>\n",
              "      <td>행복주택</td>\n",
              "      <td>26.85</td>\n",
              "      <td>8</td>\n",
              "      <td>38.0</td>\n",
              "      <td>L</td>\n",
              "      <td>-</td>\n",
              "      <td>-</td>\n",
              "      <td>0.0</td>\n",
              "      <td>1.0</td>\n",
              "      <td>467.0</td>\n",
              "      <td>NaN</td>\n",
              "    </tr>\n",
              "    <tr>\n",
              "      <th>1017</th>\n",
              "      <td>C1267</td>\n",
              "      <td>675</td>\n",
              "      <td>아파트</td>\n",
              "      <td>경상남도</td>\n",
              "      <td>행복주택</td>\n",
              "      <td>36.77</td>\n",
              "      <td>126</td>\n",
              "      <td>38.0</td>\n",
              "      <td>L</td>\n",
              "      <td>-</td>\n",
              "      <td>-</td>\n",
              "      <td>0.0</td>\n",
              "      <td>1.0</td>\n",
              "      <td>467.0</td>\n",
              "      <td>NaN</td>\n",
              "    </tr>\n",
              "  </tbody>\n",
              "</table>\n",
              "</div>"
            ],
            "text/plain": [
              "       단지코드  총세대수 임대건물구분  ... 도보 10분거리 내 버스정류장 수 단지내주차면수   등록차량수\n",
              "2547  C1326  1934    아파트  ...                4.0  1670.0  1153.0\n",
              "2548  C1326  1934    아파트  ...                4.0  1670.0  1153.0\n",
              "2549  C1326  1934    아파트  ...                4.0  1670.0  1153.0\n",
              "2550  C1326  1934    아파트  ...                4.0  1670.0  1153.0\n",
              "2551  C1326  1934    아파트  ...                4.0  1670.0  1153.0\n",
              "2680  C1786   480    아파트  ...                3.0   338.0   345.0\n",
              "2681  C1786   480    아파트  ...                3.0   338.0   345.0\n",
              "2682  C1786   480    아파트  ...                3.0   338.0   345.0\n",
              "2683  C1786   480    아파트  ...                3.0   338.0   345.0\n",
              "2906  C2186   924    아파트  ...                8.0   664.0   744.0\n",
              "2907  C2186   924    아파트  ...                8.0   664.0   744.0\n",
              "2908  C2186   924    아파트  ...                8.0   664.0   744.0\n",
              "1005  C2152   120    아파트  ...                1.0    40.0     NaN\n",
              "1006  C2152   120    아파트  ...                1.0    40.0     NaN\n",
              "1014  C1267   675    아파트  ...                1.0   467.0     NaN\n",
              "1015  C1267   675    아파트  ...                1.0   467.0     NaN\n",
              "1016  C1267   675    아파트  ...                1.0   467.0     NaN\n",
              "1017  C1267   675    아파트  ...                1.0   467.0     NaN\n",
              "\n",
              "[18 rows x 15 columns]"
            ]
          },
          "metadata": {
            "tags": []
          },
          "execution_count": 133
        }
      ]
    },
    {
      "cell_type": "code",
      "metadata": {
        "colab": {
          "base_uri": "https://localhost:8080/",
          "height": 602
        },
        "id": "ytYse0Sjh5HC",
        "outputId": "dfac991b-3296-4b0c-9576-70c7c5dccec7"
      },
      "source": [
        "data.loc[data['자격유형'] == 'D']\n",
        "# 전용면적별세대수를 보면 D유형은 다 1세대 이다.\n",
        "# 분양해서 들어온것으로 추측할 수 있다.(0으로 치환)"
      ],
      "execution_count": null,
      "outputs": [
        {
          "output_type": "execute_result",
          "data": {
            "text/html": [
              "<div>\n",
              "<style scoped>\n",
              "    .dataframe tbody tr th:only-of-type {\n",
              "        vertical-align: middle;\n",
              "    }\n",
              "\n",
              "    .dataframe tbody tr th {\n",
              "        vertical-align: top;\n",
              "    }\n",
              "\n",
              "    .dataframe thead th {\n",
              "        text-align: right;\n",
              "    }\n",
              "</style>\n",
              "<table border=\"1\" class=\"dataframe\">\n",
              "  <thead>\n",
              "    <tr style=\"text-align: right;\">\n",
              "      <th></th>\n",
              "      <th>단지코드</th>\n",
              "      <th>총세대수</th>\n",
              "      <th>임대건물구분</th>\n",
              "      <th>지역</th>\n",
              "      <th>공급유형</th>\n",
              "      <th>전용면적</th>\n",
              "      <th>전용면적별세대수</th>\n",
              "      <th>공가수</th>\n",
              "      <th>자격유형</th>\n",
              "      <th>임대보증금</th>\n",
              "      <th>임대료</th>\n",
              "      <th>도보 10분거리 내 지하철역 수(환승노선 수 반영)</th>\n",
              "      <th>도보 10분거리 내 버스정류장 수</th>\n",
              "      <th>단지내주차면수</th>\n",
              "      <th>등록차량수</th>\n",
              "    </tr>\n",
              "  </thead>\n",
              "  <tbody>\n",
              "    <tr>\n",
              "      <th>88</th>\n",
              "      <td>C1925</td>\n",
              "      <td>601</td>\n",
              "      <td>상가</td>\n",
              "      <td>강원도</td>\n",
              "      <td>임대상가</td>\n",
              "      <td>32.10</td>\n",
              "      <td>1</td>\n",
              "      <td>9.0</td>\n",
              "      <td>D</td>\n",
              "      <td>NaN</td>\n",
              "      <td>NaN</td>\n",
              "      <td>0.0</td>\n",
              "      <td>4.0</td>\n",
              "      <td>117.0</td>\n",
              "      <td>75.0</td>\n",
              "    </tr>\n",
              "    <tr>\n",
              "      <th>89</th>\n",
              "      <td>C1925</td>\n",
              "      <td>601</td>\n",
              "      <td>상가</td>\n",
              "      <td>강원도</td>\n",
              "      <td>임대상가</td>\n",
              "      <td>32.10</td>\n",
              "      <td>1</td>\n",
              "      <td>9.0</td>\n",
              "      <td>D</td>\n",
              "      <td>NaN</td>\n",
              "      <td>NaN</td>\n",
              "      <td>0.0</td>\n",
              "      <td>4.0</td>\n",
              "      <td>117.0</td>\n",
              "      <td>75.0</td>\n",
              "    </tr>\n",
              "    <tr>\n",
              "      <th>90</th>\n",
              "      <td>C1925</td>\n",
              "      <td>601</td>\n",
              "      <td>상가</td>\n",
              "      <td>강원도</td>\n",
              "      <td>임대상가</td>\n",
              "      <td>32.10</td>\n",
              "      <td>1</td>\n",
              "      <td>9.0</td>\n",
              "      <td>D</td>\n",
              "      <td>NaN</td>\n",
              "      <td>NaN</td>\n",
              "      <td>0.0</td>\n",
              "      <td>4.0</td>\n",
              "      <td>117.0</td>\n",
              "      <td>75.0</td>\n",
              "    </tr>\n",
              "    <tr>\n",
              "      <th>91</th>\n",
              "      <td>C1925</td>\n",
              "      <td>601</td>\n",
              "      <td>상가</td>\n",
              "      <td>강원도</td>\n",
              "      <td>임대상가</td>\n",
              "      <td>72.16</td>\n",
              "      <td>1</td>\n",
              "      <td>9.0</td>\n",
              "      <td>D</td>\n",
              "      <td>NaN</td>\n",
              "      <td>NaN</td>\n",
              "      <td>0.0</td>\n",
              "      <td>4.0</td>\n",
              "      <td>117.0</td>\n",
              "      <td>75.0</td>\n",
              "    </tr>\n",
              "    <tr>\n",
              "      <th>101</th>\n",
              "      <td>C1874</td>\n",
              "      <td>619</td>\n",
              "      <td>상가</td>\n",
              "      <td>충청남도</td>\n",
              "      <td>임대상가</td>\n",
              "      <td>12.62</td>\n",
              "      <td>1</td>\n",
              "      <td>2.0</td>\n",
              "      <td>D</td>\n",
              "      <td>NaN</td>\n",
              "      <td>NaN</td>\n",
              "      <td>NaN</td>\n",
              "      <td>2.0</td>\n",
              "      <td>97.0</td>\n",
              "      <td>62.0</td>\n",
              "    </tr>\n",
              "    <tr>\n",
              "      <th>...</th>\n",
              "      <td>...</td>\n",
              "      <td>...</td>\n",
              "      <td>...</td>\n",
              "      <td>...</td>\n",
              "      <td>...</td>\n",
              "      <td>...</td>\n",
              "      <td>...</td>\n",
              "      <td>...</td>\n",
              "      <td>...</td>\n",
              "      <td>...</td>\n",
              "      <td>...</td>\n",
              "      <td>...</td>\n",
              "      <td>...</td>\n",
              "      <td>...</td>\n",
              "      <td>...</td>\n",
              "    </tr>\n",
              "    <tr>\n",
              "      <th>328</th>\n",
              "      <td>C1729</td>\n",
              "      <td>627</td>\n",
              "      <td>상가</td>\n",
              "      <td>강원도</td>\n",
              "      <td>임대상가</td>\n",
              "      <td>32.46</td>\n",
              "      <td>1</td>\n",
              "      <td>0.0</td>\n",
              "      <td>D</td>\n",
              "      <td>NaN</td>\n",
              "      <td>NaN</td>\n",
              "      <td>0.0</td>\n",
              "      <td>5.0</td>\n",
              "      <td>131.0</td>\n",
              "      <td>NaN</td>\n",
              "    </tr>\n",
              "    <tr>\n",
              "      <th>329</th>\n",
              "      <td>C1729</td>\n",
              "      <td>627</td>\n",
              "      <td>상가</td>\n",
              "      <td>강원도</td>\n",
              "      <td>임대상가</td>\n",
              "      <td>34.86</td>\n",
              "      <td>1</td>\n",
              "      <td>0.0</td>\n",
              "      <td>D</td>\n",
              "      <td>NaN</td>\n",
              "      <td>NaN</td>\n",
              "      <td>0.0</td>\n",
              "      <td>5.0</td>\n",
              "      <td>131.0</td>\n",
              "      <td>NaN</td>\n",
              "    </tr>\n",
              "    <tr>\n",
              "      <th>330</th>\n",
              "      <td>C1729</td>\n",
              "      <td>627</td>\n",
              "      <td>상가</td>\n",
              "      <td>강원도</td>\n",
              "      <td>임대상가</td>\n",
              "      <td>35.76</td>\n",
              "      <td>1</td>\n",
              "      <td>0.0</td>\n",
              "      <td>D</td>\n",
              "      <td>NaN</td>\n",
              "      <td>NaN</td>\n",
              "      <td>0.0</td>\n",
              "      <td>5.0</td>\n",
              "      <td>131.0</td>\n",
              "      <td>NaN</td>\n",
              "    </tr>\n",
              "    <tr>\n",
              "      <th>331</th>\n",
              "      <td>C1729</td>\n",
              "      <td>627</td>\n",
              "      <td>상가</td>\n",
              "      <td>강원도</td>\n",
              "      <td>임대상가</td>\n",
              "      <td>50.08</td>\n",
              "      <td>1</td>\n",
              "      <td>0.0</td>\n",
              "      <td>D</td>\n",
              "      <td>NaN</td>\n",
              "      <td>NaN</td>\n",
              "      <td>0.0</td>\n",
              "      <td>5.0</td>\n",
              "      <td>131.0</td>\n",
              "      <td>NaN</td>\n",
              "    </tr>\n",
              "    <tr>\n",
              "      <th>332</th>\n",
              "      <td>C1729</td>\n",
              "      <td>627</td>\n",
              "      <td>상가</td>\n",
              "      <td>강원도</td>\n",
              "      <td>임대상가</td>\n",
              "      <td>240.22</td>\n",
              "      <td>1</td>\n",
              "      <td>0.0</td>\n",
              "      <td>D</td>\n",
              "      <td>NaN</td>\n",
              "      <td>NaN</td>\n",
              "      <td>0.0</td>\n",
              "      <td>5.0</td>\n",
              "      <td>131.0</td>\n",
              "      <td>NaN</td>\n",
              "    </tr>\n",
              "  </tbody>\n",
              "</table>\n",
              "<p>749 rows × 15 columns</p>\n",
              "</div>"
            ],
            "text/plain": [
              "      단지코드  총세대수 임대건물구분  ... 도보 10분거리 내 버스정류장 수 단지내주차면수  등록차량수\n",
              "88   C1925   601     상가  ...                4.0   117.0   75.0\n",
              "89   C1925   601     상가  ...                4.0   117.0   75.0\n",
              "90   C1925   601     상가  ...                4.0   117.0   75.0\n",
              "91   C1925   601     상가  ...                4.0   117.0   75.0\n",
              "101  C1874   619     상가  ...                2.0    97.0   62.0\n",
              "..     ...   ...    ...  ...                ...     ...    ...\n",
              "328  C1729   627     상가  ...                5.0   131.0    NaN\n",
              "329  C1729   627     상가  ...                5.0   131.0    NaN\n",
              "330  C1729   627     상가  ...                5.0   131.0    NaN\n",
              "331  C1729   627     상가  ...                5.0   131.0    NaN\n",
              "332  C1729   627     상가  ...                5.0   131.0    NaN\n",
              "\n",
              "[749 rows x 15 columns]"
            ]
          },
          "metadata": {
            "tags": []
          },
          "execution_count": 89
        }
      ]
    },
    {
      "cell_type": "code",
      "metadata": {
        "id": "qFHXf7q_kW-y"
      },
      "source": [
        "data['임대보증금'] = data['임대보증금'].fillna(0)\n",
        "data['임대료'] = data['임대료'].fillna(0)\n",
        "data['임대보증금'] = data['임대보증금'].replace({'-':0})\n",
        "data['임대료'] = data['임대료'].replace({'-':0})"
      ],
      "execution_count": 575,
      "outputs": []
    },
    {
      "cell_type": "code",
      "metadata": {
        "id": "UsR2vpNokgeE"
      },
      "source": [
        "data['임대보증금'] = data['임대보증금'].astype('int')\n",
        "data['임대료'] = data['임대료'].astype('int')"
      ],
      "execution_count": 576,
      "outputs": []
    },
    {
      "cell_type": "code",
      "metadata": {
        "colab": {
          "base_uri": "https://localhost:8080/",
          "height": 602
        },
        "id": "boReBKV9k1Pr",
        "outputId": "7d7b99db-414b-402a-97cd-9f49616e5f6a"
      },
      "source": [
        "data.loc[data['도보 10분거리 내 지하철역 수(환승노선 수 반영)'].isnull()]\n",
        "# 지하철 null값을 처리하기 위해 지역을 EDA해보자"
      ],
      "execution_count": null,
      "outputs": [
        {
          "output_type": "execute_result",
          "data": {
            "text/html": [
              "<div>\n",
              "<style scoped>\n",
              "    .dataframe tbody tr th:only-of-type {\n",
              "        vertical-align: middle;\n",
              "    }\n",
              "\n",
              "    .dataframe tbody tr th {\n",
              "        vertical-align: top;\n",
              "    }\n",
              "\n",
              "    .dataframe thead th {\n",
              "        text-align: right;\n",
              "    }\n",
              "</style>\n",
              "<table border=\"1\" class=\"dataframe\">\n",
              "  <thead>\n",
              "    <tr style=\"text-align: right;\">\n",
              "      <th></th>\n",
              "      <th>단지코드</th>\n",
              "      <th>총세대수</th>\n",
              "      <th>임대건물구분</th>\n",
              "      <th>지역</th>\n",
              "      <th>공급유형</th>\n",
              "      <th>전용면적</th>\n",
              "      <th>전용면적별세대수</th>\n",
              "      <th>공가수</th>\n",
              "      <th>자격유형</th>\n",
              "      <th>임대보증금</th>\n",
              "      <th>임대료</th>\n",
              "      <th>도보 10분거리 내 지하철역 수(환승노선 수 반영)</th>\n",
              "      <th>도보 10분거리 내 버스정류장 수</th>\n",
              "      <th>단지내주차면수</th>\n",
              "      <th>등록차량수</th>\n",
              "    </tr>\n",
              "  </thead>\n",
              "  <tbody>\n",
              "    <tr>\n",
              "      <th>94</th>\n",
              "      <td>C1312</td>\n",
              "      <td>518</td>\n",
              "      <td>아파트</td>\n",
              "      <td>충청남도</td>\n",
              "      <td>국민임대</td>\n",
              "      <td>39.72</td>\n",
              "      <td>60</td>\n",
              "      <td>12.0</td>\n",
              "      <td>A</td>\n",
              "      <td>17460000</td>\n",
              "      <td>122210</td>\n",
              "      <td>NaN</td>\n",
              "      <td>3.0</td>\n",
              "      <td>527.0</td>\n",
              "      <td>359.0</td>\n",
              "    </tr>\n",
              "    <tr>\n",
              "      <th>95</th>\n",
              "      <td>C1312</td>\n",
              "      <td>518</td>\n",
              "      <td>아파트</td>\n",
              "      <td>충청남도</td>\n",
              "      <td>국민임대</td>\n",
              "      <td>39.98</td>\n",
              "      <td>89</td>\n",
              "      <td>12.0</td>\n",
              "      <td>A</td>\n",
              "      <td>17460000</td>\n",
              "      <td>122210</td>\n",
              "      <td>NaN</td>\n",
              "      <td>3.0</td>\n",
              "      <td>527.0</td>\n",
              "      <td>359.0</td>\n",
              "    </tr>\n",
              "    <tr>\n",
              "      <th>96</th>\n",
              "      <td>C1312</td>\n",
              "      <td>518</td>\n",
              "      <td>아파트</td>\n",
              "      <td>충청남도</td>\n",
              "      <td>국민임대</td>\n",
              "      <td>41.55</td>\n",
              "      <td>225</td>\n",
              "      <td>12.0</td>\n",
              "      <td>A</td>\n",
              "      <td>19954000</td>\n",
              "      <td>130940</td>\n",
              "      <td>NaN</td>\n",
              "      <td>3.0</td>\n",
              "      <td>527.0</td>\n",
              "      <td>359.0</td>\n",
              "    </tr>\n",
              "    <tr>\n",
              "      <th>97</th>\n",
              "      <td>C1312</td>\n",
              "      <td>518</td>\n",
              "      <td>아파트</td>\n",
              "      <td>충청남도</td>\n",
              "      <td>국민임대</td>\n",
              "      <td>46.90</td>\n",
              "      <td>143</td>\n",
              "      <td>12.0</td>\n",
              "      <td>A</td>\n",
              "      <td>28687000</td>\n",
              "      <td>149660</td>\n",
              "      <td>NaN</td>\n",
              "      <td>3.0</td>\n",
              "      <td>527.0</td>\n",
              "      <td>359.0</td>\n",
              "    </tr>\n",
              "    <tr>\n",
              "      <th>98</th>\n",
              "      <td>C1874</td>\n",
              "      <td>619</td>\n",
              "      <td>아파트</td>\n",
              "      <td>충청남도</td>\n",
              "      <td>영구임대</td>\n",
              "      <td>26.37</td>\n",
              "      <td>294</td>\n",
              "      <td>2.0</td>\n",
              "      <td>C</td>\n",
              "      <td>3141000</td>\n",
              "      <td>69900</td>\n",
              "      <td>NaN</td>\n",
              "      <td>2.0</td>\n",
              "      <td>97.0</td>\n",
              "      <td>62.0</td>\n",
              "    </tr>\n",
              "    <tr>\n",
              "      <th>...</th>\n",
              "      <td>...</td>\n",
              "      <td>...</td>\n",
              "      <td>...</td>\n",
              "      <td>...</td>\n",
              "      <td>...</td>\n",
              "      <td>...</td>\n",
              "      <td>...</td>\n",
              "      <td>...</td>\n",
              "      <td>...</td>\n",
              "      <td>...</td>\n",
              "      <td>...</td>\n",
              "      <td>...</td>\n",
              "      <td>...</td>\n",
              "      <td>...</td>\n",
              "      <td>...</td>\n",
              "    </tr>\n",
              "    <tr>\n",
              "      <th>307</th>\n",
              "      <td>C1318</td>\n",
              "      <td>312</td>\n",
              "      <td>아파트</td>\n",
              "      <td>충청남도</td>\n",
              "      <td>공공임대(50년)</td>\n",
              "      <td>49.99</td>\n",
              "      <td>159</td>\n",
              "      <td>1.0</td>\n",
              "      <td>A</td>\n",
              "      <td>18269000</td>\n",
              "      <td>258880</td>\n",
              "      <td>NaN</td>\n",
              "      <td>11.0</td>\n",
              "      <td>226.0</td>\n",
              "      <td>NaN</td>\n",
              "    </tr>\n",
              "    <tr>\n",
              "      <th>891</th>\n",
              "      <td>C1327</td>\n",
              "      <td>98</td>\n",
              "      <td>아파트</td>\n",
              "      <td>대전광역시</td>\n",
              "      <td>행복주택</td>\n",
              "      <td>16.83</td>\n",
              "      <td>30</td>\n",
              "      <td>13.0</td>\n",
              "      <td>J</td>\n",
              "      <td>18800000</td>\n",
              "      <td>94000</td>\n",
              "      <td>NaN</td>\n",
              "      <td>17.0</td>\n",
              "      <td>98.0</td>\n",
              "      <td>NaN</td>\n",
              "    </tr>\n",
              "    <tr>\n",
              "      <th>892</th>\n",
              "      <td>C1327</td>\n",
              "      <td>98</td>\n",
              "      <td>아파트</td>\n",
              "      <td>대전광역시</td>\n",
              "      <td>행복주택</td>\n",
              "      <td>26.51</td>\n",
              "      <td>10</td>\n",
              "      <td>13.0</td>\n",
              "      <td>J</td>\n",
              "      <td>28400000</td>\n",
              "      <td>142000</td>\n",
              "      <td>NaN</td>\n",
              "      <td>17.0</td>\n",
              "      <td>98.0</td>\n",
              "      <td>NaN</td>\n",
              "    </tr>\n",
              "    <tr>\n",
              "      <th>893</th>\n",
              "      <td>C1327</td>\n",
              "      <td>98</td>\n",
              "      <td>아파트</td>\n",
              "      <td>대전광역시</td>\n",
              "      <td>행복주택</td>\n",
              "      <td>26.51</td>\n",
              "      <td>10</td>\n",
              "      <td>13.0</td>\n",
              "      <td>J</td>\n",
              "      <td>28400000</td>\n",
              "      <td>142000</td>\n",
              "      <td>NaN</td>\n",
              "      <td>17.0</td>\n",
              "      <td>98.0</td>\n",
              "      <td>NaN</td>\n",
              "    </tr>\n",
              "    <tr>\n",
              "      <th>894</th>\n",
              "      <td>C1327</td>\n",
              "      <td>98</td>\n",
              "      <td>아파트</td>\n",
              "      <td>대전광역시</td>\n",
              "      <td>행복주택</td>\n",
              "      <td>36.92</td>\n",
              "      <td>48</td>\n",
              "      <td>13.0</td>\n",
              "      <td>J</td>\n",
              "      <td>36800000</td>\n",
              "      <td>184000</td>\n",
              "      <td>NaN</td>\n",
              "      <td>17.0</td>\n",
              "      <td>98.0</td>\n",
              "      <td>NaN</td>\n",
              "    </tr>\n",
              "  </tbody>\n",
              "</table>\n",
              "<p>253 rows × 15 columns</p>\n",
              "</div>"
            ],
            "text/plain": [
              "      단지코드  총세대수 임대건물구분  ... 도보 10분거리 내 버스정류장 수 단지내주차면수  등록차량수\n",
              "94   C1312   518    아파트  ...                3.0   527.0  359.0\n",
              "95   C1312   518    아파트  ...                3.0   527.0  359.0\n",
              "96   C1312   518    아파트  ...                3.0   527.0  359.0\n",
              "97   C1312   518    아파트  ...                3.0   527.0  359.0\n",
              "98   C1874   619    아파트  ...                2.0    97.0   62.0\n",
              "..     ...   ...    ...  ...                ...     ...    ...\n",
              "307  C1318   312    아파트  ...               11.0   226.0    NaN\n",
              "891  C1327    98    아파트  ...               17.0    98.0    NaN\n",
              "892  C1327    98    아파트  ...               17.0    98.0    NaN\n",
              "893  C1327    98    아파트  ...               17.0    98.0    NaN\n",
              "894  C1327    98    아파트  ...               17.0    98.0    NaN\n",
              "\n",
              "[253 rows x 15 columns]"
            ]
          },
          "metadata": {
            "tags": []
          },
          "execution_count": 110
        }
      ]
    },
    {
      "cell_type": "code",
      "metadata": {
        "colab": {
          "base_uri": "https://localhost:8080/"
        },
        "id": "Ox6OI08Ulevp",
        "outputId": "e500476c-107c-4628-bc9d-72b144b6d1c7"
      },
      "source": [
        "data.loc[data['지역']=='충청남도']['도보 10분거리 내 지하철역 수(환승노선 수 반영)'].unique()\n",
        "# 충남의 지하철역 수는 0이다. ==> 충남 지하철=0으로 처리"
      ],
      "execution_count": null,
      "outputs": [
        {
          "output_type": "execute_result",
          "data": {
            "text/plain": [
              "array([nan,  0.])"
            ]
          },
          "metadata": {
            "tags": []
          },
          "execution_count": 107
        }
      ]
    },
    {
      "cell_type": "code",
      "metadata": {
        "colab": {
          "base_uri": "https://localhost:8080/"
        },
        "id": "mpfGQUmClvM-",
        "outputId": "812cba62-01a6-4e26-9e52-4f51cb7bd93e"
      },
      "source": [
        "data.loc[data['지역']=='대전광역시']['도보 10분거리 내 지하철역 수(환승노선 수 반영)'].unique()\n",
        "# 대전광역시는 지하철이 있으니 단지코드별 비교를 통해 null값 처리"
      ],
      "execution_count": null,
      "outputs": [
        {
          "output_type": "execute_result",
          "data": {
            "text/plain": [
              "array([ 1.,  0., nan,  2.])"
            ]
          },
          "metadata": {
            "tags": []
          },
          "execution_count": 108
        }
      ]
    },
    {
      "cell_type": "code",
      "metadata": {
        "colab": {
          "base_uri": "https://localhost:8080/"
        },
        "id": "EWJsiZWdl3K1",
        "outputId": "87a8a424-0d55-443c-c15e-4f20f3001b63"
      },
      "source": [
        "data.loc[data['지역']=='경상남도']['도보 10분거리 내 지하철역 수(환승노선 수 반영)'].unique()\n",
        "# 경상남도도 지하철이 있다고 하니 단지코드별 비교를 통해 처리"
      ],
      "execution_count": null,
      "outputs": [
        {
          "output_type": "execute_result",
          "data": {
            "text/plain": [
              "array([ 0., nan,  1.])"
            ]
          },
          "metadata": {
            "tags": []
          },
          "execution_count": 109
        }
      ]
    },
    {
      "cell_type": "code",
      "metadata": {
        "colab": {
          "base_uri": "https://localhost:8080/"
        },
        "id": "HbrMxKS1mMn1",
        "outputId": "71c43a98-7ccd-472a-db1a-7986853a94cd"
      },
      "source": [
        "data.groupby(['지역','단지코드'])['도보 10분거리 내 지하철역 수(환승노선 수 반영)'].value_counts(dropna=False).loc['경상남도'].sort_index()\n",
        "# 단지마다 지하철역 수가 결측치가 관측된다. ==> 단지별 비교는 안될 것 같다."
      ],
      "execution_count": null,
      "outputs": [
        {
          "output_type": "execute_result",
          "data": {
            "text/plain": [
              "단지코드   도보 10분거리 내 지하철역 수(환승노선 수 반영)\n",
              "C1003  0.0                              8\n",
              "C1027  0.0                              5\n",
              "C1077  0.0                              3\n",
              "C1141  0.0                              6\n",
              "C1147  0.0                              7\n",
              "                                       ..\n",
              "C2571  0.0                             14\n",
              "C2576  0.0                              2\n",
              "C2595  0.0                              5\n",
              "C2631  0.0                              7\n",
              "C2680  0.0                              3\n",
              "Name: 도보 10분거리 내 지하철역 수(환승노선 수 반영), Length: 69, dtype: int64"
            ]
          },
          "metadata": {
            "tags": []
          },
          "execution_count": 124
        }
      ]
    },
    {
      "cell_type": "code",
      "metadata": {
        "id": "9QEqOtz4n_Kx"
      },
      "source": [
        "data.loc[(data['도보 10분거리 내 지하철역 수(환승노선 수 반영)'].isnull())&(data['지역']=='충청남도'), '도보 10분거리 내 지하철역 수(환승노선 수 반영)'] = 0.\n",
        "data['도보 10분거리 내 지하철역 수(환승노선 수 반영)'] = data['도보 10분거리 내 지하철역 수(환승노선 수 반영)'].fillna(0.)"
      ],
      "execution_count": 577,
      "outputs": []
    },
    {
      "cell_type": "code",
      "metadata": {
        "colab": {
          "base_uri": "https://localhost:8080/",
          "height": 256
        },
        "id": "bkmSeDN_oGXh",
        "outputId": "e0299185-662e-412f-9cbd-64d3f1860e4f"
      },
      "source": [
        "# 도보 10분거리 내 버스정류장 수 null값 처리\n",
        "data.loc[data['단지코드']=='C1649']\n",
        "# 단지코드 'C1649'는 아예 정류장 수가 결측되었다. ==> 경상남도의 median으로 처리하자"
      ],
      "execution_count": null,
      "outputs": [
        {
          "output_type": "execute_result",
          "data": {
            "text/html": [
              "<div>\n",
              "<style scoped>\n",
              "    .dataframe tbody tr th:only-of-type {\n",
              "        vertical-align: middle;\n",
              "    }\n",
              "\n",
              "    .dataframe tbody tr th {\n",
              "        vertical-align: top;\n",
              "    }\n",
              "\n",
              "    .dataframe thead th {\n",
              "        text-align: right;\n",
              "    }\n",
              "</style>\n",
              "<table border=\"1\" class=\"dataframe\">\n",
              "  <thead>\n",
              "    <tr style=\"text-align: right;\">\n",
              "      <th></th>\n",
              "      <th>단지코드</th>\n",
              "      <th>총세대수</th>\n",
              "      <th>임대건물구분</th>\n",
              "      <th>지역</th>\n",
              "      <th>공급유형</th>\n",
              "      <th>전용면적</th>\n",
              "      <th>전용면적별세대수</th>\n",
              "      <th>공가수</th>\n",
              "      <th>자격유형</th>\n",
              "      <th>임대보증금</th>\n",
              "      <th>임대료</th>\n",
              "      <th>도보 10분거리 내 지하철역 수(환승노선 수 반영)</th>\n",
              "      <th>도보 10분거리 내 버스정류장 수</th>\n",
              "      <th>단지내주차면수</th>\n",
              "      <th>등록차량수</th>\n",
              "    </tr>\n",
              "  </thead>\n",
              "  <tbody>\n",
              "    <tr>\n",
              "      <th>2315</th>\n",
              "      <td>C1649</td>\n",
              "      <td>575</td>\n",
              "      <td>아파트</td>\n",
              "      <td>경상남도</td>\n",
              "      <td>공공임대(10년)</td>\n",
              "      <td>74.97</td>\n",
              "      <td>80</td>\n",
              "      <td>15.0</td>\n",
              "      <td>A</td>\n",
              "      <td>46000000</td>\n",
              "      <td>456000</td>\n",
              "      <td>0.0</td>\n",
              "      <td>NaN</td>\n",
              "      <td>1066.0</td>\n",
              "      <td>855.0</td>\n",
              "    </tr>\n",
              "    <tr>\n",
              "      <th>2316</th>\n",
              "      <td>C1649</td>\n",
              "      <td>575</td>\n",
              "      <td>아파트</td>\n",
              "      <td>경상남도</td>\n",
              "      <td>공공임대(10년)</td>\n",
              "      <td>84.95</td>\n",
              "      <td>124</td>\n",
              "      <td>15.0</td>\n",
              "      <td>A</td>\n",
              "      <td>57000000</td>\n",
              "      <td>462000</td>\n",
              "      <td>0.0</td>\n",
              "      <td>NaN</td>\n",
              "      <td>1066.0</td>\n",
              "      <td>855.0</td>\n",
              "    </tr>\n",
              "    <tr>\n",
              "      <th>2317</th>\n",
              "      <td>C1649</td>\n",
              "      <td>575</td>\n",
              "      <td>아파트</td>\n",
              "      <td>경상남도</td>\n",
              "      <td>공공임대(10년)</td>\n",
              "      <td>84.96</td>\n",
              "      <td>289</td>\n",
              "      <td>15.0</td>\n",
              "      <td>A</td>\n",
              "      <td>57000000</td>\n",
              "      <td>462000</td>\n",
              "      <td>0.0</td>\n",
              "      <td>NaN</td>\n",
              "      <td>1066.0</td>\n",
              "      <td>855.0</td>\n",
              "    </tr>\n",
              "    <tr>\n",
              "      <th>2318</th>\n",
              "      <td>C1649</td>\n",
              "      <td>575</td>\n",
              "      <td>아파트</td>\n",
              "      <td>경상남도</td>\n",
              "      <td>공공임대(10년)</td>\n",
              "      <td>84.98</td>\n",
              "      <td>82</td>\n",
              "      <td>15.0</td>\n",
              "      <td>A</td>\n",
              "      <td>57000000</td>\n",
              "      <td>462000</td>\n",
              "      <td>0.0</td>\n",
              "      <td>NaN</td>\n",
              "      <td>1066.0</td>\n",
              "      <td>855.0</td>\n",
              "    </tr>\n",
              "  </tbody>\n",
              "</table>\n",
              "</div>"
            ],
            "text/plain": [
              "       단지코드  총세대수 임대건물구분  ... 도보 10분거리 내 버스정류장 수 단지내주차면수  등록차량수\n",
              "2315  C1649   575    아파트  ...                NaN  1066.0  855.0\n",
              "2316  C1649   575    아파트  ...                NaN  1066.0  855.0\n",
              "2317  C1649   575    아파트  ...                NaN  1066.0  855.0\n",
              "2318  C1649   575    아파트  ...                NaN  1066.0  855.0\n",
              "\n",
              "[4 rows x 15 columns]"
            ]
          },
          "metadata": {
            "tags": []
          },
          "execution_count": 137
        }
      ]
    },
    {
      "cell_type": "code",
      "metadata": {
        "id": "cIFmBegUpDdM"
      },
      "source": [
        "data.loc[data['도보 10분거리 내 버스정류장 수'].isnull(), '도보 10분거리 내 버스정류장 수'] = data.loc[(data['지역']=='경상남도')]['도보 10분거리 내 버스정류장 수'].median()"
      ],
      "execution_count": 578,
      "outputs": []
    },
    {
      "cell_type": "code",
      "metadata": {
        "colab": {
          "base_uri": "https://localhost:8080/",
          "height": 161
        },
        "id": "efehJNGeplP4",
        "outputId": "599ac5e9-5adc-4bb4-c463-f8bbecaa4e5e"
      },
      "source": [
        "# 자격유형 null값 처리\n",
        "data.loc[data['자격유형'].isnull()]\n",
        "# 자격유형을 임대보증금과 비교하여 처리"
      ],
      "execution_count": null,
      "outputs": [
        {
          "output_type": "execute_result",
          "data": {
            "text/html": [
              "<div>\n",
              "<style scoped>\n",
              "    .dataframe tbody tr th:only-of-type {\n",
              "        vertical-align: middle;\n",
              "    }\n",
              "\n",
              "    .dataframe tbody tr th {\n",
              "        vertical-align: top;\n",
              "    }\n",
              "\n",
              "    .dataframe thead th {\n",
              "        text-align: right;\n",
              "    }\n",
              "</style>\n",
              "<table border=\"1\" class=\"dataframe\">\n",
              "  <thead>\n",
              "    <tr style=\"text-align: right;\">\n",
              "      <th></th>\n",
              "      <th>단지코드</th>\n",
              "      <th>총세대수</th>\n",
              "      <th>임대건물구분</th>\n",
              "      <th>지역</th>\n",
              "      <th>공급유형</th>\n",
              "      <th>전용면적</th>\n",
              "      <th>전용면적별세대수</th>\n",
              "      <th>공가수</th>\n",
              "      <th>자격유형</th>\n",
              "      <th>임대보증금</th>\n",
              "      <th>임대료</th>\n",
              "      <th>도보 10분거리 내 지하철역 수(환승노선 수 반영)</th>\n",
              "      <th>도보 10분거리 내 버스정류장 수</th>\n",
              "      <th>단지내주차면수</th>\n",
              "      <th>등록차량수</th>\n",
              "    </tr>\n",
              "  </thead>\n",
              "  <tbody>\n",
              "    <tr>\n",
              "      <th>196</th>\n",
              "      <td>C2411</td>\n",
              "      <td>962</td>\n",
              "      <td>아파트</td>\n",
              "      <td>경상남도</td>\n",
              "      <td>국민임대</td>\n",
              "      <td>46.90</td>\n",
              "      <td>240</td>\n",
              "      <td>25.0</td>\n",
              "      <td>NaN</td>\n",
              "      <td>71950000</td>\n",
              "      <td>37470</td>\n",
              "      <td>0.0</td>\n",
              "      <td>2.0</td>\n",
              "      <td>840.0</td>\n",
              "      <td>NaN</td>\n",
              "    </tr>\n",
              "    <tr>\n",
              "      <th>258</th>\n",
              "      <td>C2253</td>\n",
              "      <td>1161</td>\n",
              "      <td>아파트</td>\n",
              "      <td>강원도</td>\n",
              "      <td>영구임대</td>\n",
              "      <td>26.37</td>\n",
              "      <td>745</td>\n",
              "      <td>0.0</td>\n",
              "      <td>NaN</td>\n",
              "      <td>2249000</td>\n",
              "      <td>44770</td>\n",
              "      <td>0.0</td>\n",
              "      <td>2.0</td>\n",
              "      <td>173.0</td>\n",
              "      <td>NaN</td>\n",
              "    </tr>\n",
              "  </tbody>\n",
              "</table>\n",
              "</div>"
            ],
            "text/plain": [
              "      단지코드  총세대수 임대건물구분  ... 도보 10분거리 내 버스정류장 수 단지내주차면수  등록차량수\n",
              "196  C2411   962    아파트  ...                2.0   840.0    NaN\n",
              "258  C2253  1161    아파트  ...                2.0   173.0    NaN\n",
              "\n",
              "[2 rows x 15 columns]"
            ]
          },
          "metadata": {
            "tags": []
          },
          "execution_count": 389
        }
      ]
    },
    {
      "cell_type": "code",
      "metadata": {
        "colab": {
          "base_uri": "https://localhost:8080/",
          "height": 422
        },
        "id": "XJy3h0bAWrbD",
        "outputId": "94cf39ca-65ae-46ba-cd4c-582bc3400b55"
      },
      "source": [
        "data.corr()"
      ],
      "execution_count": null,
      "outputs": [
        {
          "output_type": "execute_result",
          "data": {
            "text/html": [
              "<div>\n",
              "<style scoped>\n",
              "    .dataframe tbody tr th:only-of-type {\n",
              "        vertical-align: middle;\n",
              "    }\n",
              "\n",
              "    .dataframe tbody tr th {\n",
              "        vertical-align: top;\n",
              "    }\n",
              "\n",
              "    .dataframe thead th {\n",
              "        text-align: right;\n",
              "    }\n",
              "</style>\n",
              "<table border=\"1\" class=\"dataframe\">\n",
              "  <thead>\n",
              "    <tr style=\"text-align: right;\">\n",
              "      <th></th>\n",
              "      <th>총세대수</th>\n",
              "      <th>전용면적</th>\n",
              "      <th>전용면적별세대수</th>\n",
              "      <th>공가수</th>\n",
              "      <th>임대보증금</th>\n",
              "      <th>임대료</th>\n",
              "      <th>도보 10분거리 내 지하철역 수(환승노선 수 반영)</th>\n",
              "      <th>도보 10분거리 내 버스정류장 수</th>\n",
              "      <th>단지내주차면수</th>\n",
              "      <th>등록차량수</th>\n",
              "      <th>공실율</th>\n",
              "    </tr>\n",
              "  </thead>\n",
              "  <tbody>\n",
              "    <tr>\n",
              "      <th>총세대수</th>\n",
              "      <td>1.000000</td>\n",
              "      <td>0.053513</td>\n",
              "      <td>0.090440</td>\n",
              "      <td>0.125877</td>\n",
              "      <td>-0.143949</td>\n",
              "      <td>-0.153476</td>\n",
              "      <td>0.195048</td>\n",
              "      <td>-0.006070</td>\n",
              "      <td>0.469530</td>\n",
              "      <td>0.316703</td>\n",
              "      <td>-0.405885</td>\n",
              "    </tr>\n",
              "    <tr>\n",
              "      <th>전용면적</th>\n",
              "      <td>0.053513</td>\n",
              "      <td>1.000000</td>\n",
              "      <td>-0.027360</td>\n",
              "      <td>-0.070725</td>\n",
              "      <td>0.137201</td>\n",
              "      <td>0.199376</td>\n",
              "      <td>0.009669</td>\n",
              "      <td>-0.001276</td>\n",
              "      <td>0.069806</td>\n",
              "      <td>0.115453</td>\n",
              "      <td>-0.094652</td>\n",
              "    </tr>\n",
              "    <tr>\n",
              "      <th>전용면적별세대수</th>\n",
              "      <td>0.090440</td>\n",
              "      <td>-0.027360</td>\n",
              "      <td>1.000000</td>\n",
              "      <td>0.155941</td>\n",
              "      <td>0.102118</td>\n",
              "      <td>0.172775</td>\n",
              "      <td>-0.041335</td>\n",
              "      <td>0.039396</td>\n",
              "      <td>0.294625</td>\n",
              "      <td>0.247085</td>\n",
              "      <td>-0.034561</td>\n",
              "    </tr>\n",
              "    <tr>\n",
              "      <th>공가수</th>\n",
              "      <td>0.125877</td>\n",
              "      <td>-0.070725</td>\n",
              "      <td>0.155941</td>\n",
              "      <td>1.000000</td>\n",
              "      <td>0.133226</td>\n",
              "      <td>-0.022510</td>\n",
              "      <td>-0.037642</td>\n",
              "      <td>0.038577</td>\n",
              "      <td>0.281112</td>\n",
              "      <td>0.118121</td>\n",
              "      <td>0.538964</td>\n",
              "    </tr>\n",
              "    <tr>\n",
              "      <th>임대보증금</th>\n",
              "      <td>-0.143949</td>\n",
              "      <td>0.137201</td>\n",
              "      <td>0.102118</td>\n",
              "      <td>0.133226</td>\n",
              "      <td>1.000000</td>\n",
              "      <td>0.598350</td>\n",
              "      <td>-0.051386</td>\n",
              "      <td>0.108945</td>\n",
              "      <td>0.390195</td>\n",
              "      <td>0.436073</td>\n",
              "      <td>0.150291</td>\n",
              "    </tr>\n",
              "    <tr>\n",
              "      <th>임대료</th>\n",
              "      <td>-0.153476</td>\n",
              "      <td>0.199376</td>\n",
              "      <td>0.172775</td>\n",
              "      <td>-0.022510</td>\n",
              "      <td>0.598350</td>\n",
              "      <td>1.000000</td>\n",
              "      <td>-0.034479</td>\n",
              "      <td>0.074800</td>\n",
              "      <td>0.418479</td>\n",
              "      <td>0.519834</td>\n",
              "      <td>0.004179</td>\n",
              "    </tr>\n",
              "    <tr>\n",
              "      <th>도보 10분거리 내 지하철역 수(환승노선 수 반영)</th>\n",
              "      <td>0.195048</td>\n",
              "      <td>0.009669</td>\n",
              "      <td>-0.041335</td>\n",
              "      <td>-0.037642</td>\n",
              "      <td>-0.051386</td>\n",
              "      <td>-0.034479</td>\n",
              "      <td>1.000000</td>\n",
              "      <td>0.057382</td>\n",
              "      <td>-0.009034</td>\n",
              "      <td>-0.086562</td>\n",
              "      <td>-0.077535</td>\n",
              "    </tr>\n",
              "    <tr>\n",
              "      <th>도보 10분거리 내 버스정류장 수</th>\n",
              "      <td>-0.006070</td>\n",
              "      <td>-0.001276</td>\n",
              "      <td>0.039396</td>\n",
              "      <td>0.038577</td>\n",
              "      <td>0.108945</td>\n",
              "      <td>0.074800</td>\n",
              "      <td>0.057382</td>\n",
              "      <td>1.000000</td>\n",
              "      <td>0.089327</td>\n",
              "      <td>0.103752</td>\n",
              "      <td>-0.017352</td>\n",
              "    </tr>\n",
              "    <tr>\n",
              "      <th>단지내주차면수</th>\n",
              "      <td>0.469530</td>\n",
              "      <td>0.069806</td>\n",
              "      <td>0.294625</td>\n",
              "      <td>0.281112</td>\n",
              "      <td>0.390195</td>\n",
              "      <td>0.418479</td>\n",
              "      <td>-0.009034</td>\n",
              "      <td>0.089327</td>\n",
              "      <td>1.000000</td>\n",
              "      <td>0.859216</td>\n",
              "      <td>-0.186697</td>\n",
              "    </tr>\n",
              "    <tr>\n",
              "      <th>등록차량수</th>\n",
              "      <td>0.316703</td>\n",
              "      <td>0.115453</td>\n",
              "      <td>0.247085</td>\n",
              "      <td>0.118121</td>\n",
              "      <td>0.436073</td>\n",
              "      <td>0.519834</td>\n",
              "      <td>-0.086562</td>\n",
              "      <td>0.103752</td>\n",
              "      <td>0.859216</td>\n",
              "      <td>1.000000</td>\n",
              "      <td>-0.182623</td>\n",
              "    </tr>\n",
              "    <tr>\n",
              "      <th>공실율</th>\n",
              "      <td>-0.405885</td>\n",
              "      <td>-0.094652</td>\n",
              "      <td>-0.034561</td>\n",
              "      <td>0.538964</td>\n",
              "      <td>0.150291</td>\n",
              "      <td>0.004179</td>\n",
              "      <td>-0.077535</td>\n",
              "      <td>-0.017352</td>\n",
              "      <td>-0.186697</td>\n",
              "      <td>-0.182623</td>\n",
              "      <td>1.000000</td>\n",
              "    </tr>\n",
              "  </tbody>\n",
              "</table>\n",
              "</div>"
            ],
            "text/plain": [
              "                                  총세대수      전용면적  ...     등록차량수       공실율\n",
              "총세대수                          1.000000  0.053513  ...  0.316703 -0.405885\n",
              "전용면적                          0.053513  1.000000  ...  0.115453 -0.094652\n",
              "전용면적별세대수                      0.090440 -0.027360  ...  0.247085 -0.034561\n",
              "공가수                           0.125877 -0.070725  ...  0.118121  0.538964\n",
              "임대보증금                        -0.143949  0.137201  ...  0.436073  0.150291\n",
              "임대료                          -0.153476  0.199376  ...  0.519834  0.004179\n",
              "도보 10분거리 내 지하철역 수(환승노선 수 반영)  0.195048  0.009669  ... -0.086562 -0.077535\n",
              "도보 10분거리 내 버스정류장 수           -0.006070 -0.001276  ...  0.103752 -0.017352\n",
              "단지내주차면수                       0.469530  0.069806  ...  0.859216 -0.186697\n",
              "등록차량수                         0.316703  0.115453  ...  1.000000 -0.182623\n",
              "공실율                          -0.405885 -0.094652  ... -0.182623  1.000000\n",
              "\n",
              "[11 rows x 11 columns]"
            ]
          },
          "metadata": {
            "tags": []
          },
          "execution_count": 35
        }
      ]
    },
    {
      "cell_type": "code",
      "metadata": {
        "id": "Wsxm92pPqJ0R"
      },
      "source": [
        "data.loc[(data['자격유형'].isnull())&(data['지역']=='경상남도'), '자격유형'] = 'E'\n",
        "data.loc[(data['자격유형'].isnull())&(data['지역']=='강원도'), '자격유형'] = 'F'"
      ],
      "execution_count": 579,
      "outputs": []
    },
    {
      "cell_type": "code",
      "metadata": {
        "id": "jMZJnDkq8bK0"
      },
      "source": [
        "data['실거주세대'] = data['총세대수'] - data['공가수']"
      ],
      "execution_count": 534,
      "outputs": []
    },
    {
      "cell_type": "code",
      "metadata": {
        "id": "CnVk7GAS8oy-"
      },
      "source": [
        "data['단지내주차면수_bin']=pd.qcut(data['단지내주차면수'], 5, labels=['a','b','c','d','e'])"
      ],
      "execution_count": 554,
      "outputs": []
    },
    {
      "cell_type": "code",
      "metadata": {
        "id": "5yGmDeZ5r4g-"
      },
      "source": [
        "data['공실율'] = data['공가수']/data['총세대수']*100"
      ],
      "execution_count": 526,
      "outputs": []
    },
    {
      "cell_type": "code",
      "metadata": {
        "id": "KR6LM8H744CD"
      },
      "source": [
        "data['세대당주차가능면수'] = data['단지내주차면수']/data['총세대수']"
      ],
      "execution_count": 527,
      "outputs": []
    },
    {
      "cell_type": "code",
      "metadata": {
        "id": "ueYwsbdd4qUl"
      },
      "source": [
        "x_train = data.loc[data['등록차량수'].notnull()].drop(columns=['단지코드', '등록차량수'])\n",
        "y_train = data.loc[data['등록차량수'].notnull()]['등록차량수']\n",
        "x_test = data.loc[data['등록차량수'].isnull()].drop(columns=['단지코드', '등록차량수'])"
      ],
      "execution_count": 568,
      "outputs": []
    },
    {
      "cell_type": "code",
      "metadata": {
        "colab": {
          "base_uri": "https://localhost:8080/"
        },
        "id": "azxQ8MO55KF2",
        "outputId": "c7d1974c-f0ca-46d8-9904-53cb197d94f0"
      },
      "source": [
        "skf = StratifiedKFold(n_splits=5, shuffle=True, random_state=42)\n",
        "kf = KFold(n_splits=10, shuffle=True, random_state=42)\n",
        "preds_test_cat = np.zeros((len(x_test)))\n",
        "cat_features = []\n",
        "for i in x_train.columns:\n",
        "  if x_train[i].dtype=='float':\n",
        "    continue\n",
        "  elif x_train[i].dtype=='int':\n",
        "    continue\n",
        "  cat_features.append(i)\n",
        "\n",
        "for i,(train_index, valid_index) in enumerate(kf.split(x_train, y_train)):\n",
        "  X_train, X_valid = x_train.iloc[train_index], x_train.iloc[valid_index]\n",
        "  Y_train, Y_valid = y_train.iloc[train_index], y_train.iloc[valid_index]\n",
        "\n",
        "  model_cat = catboost.CatBoostRegressor(learning_rate=0.022, loss_function='MAE', eval_metric='MAE', n_estimators=3000, cat_features=cat_features, use_best_model=True)\n",
        "  model_cat.fit(X_train, Y_train, eval_set=[(X_train, Y_train), (X_valid, Y_valid)], verbose=100, early_stopping_rounds=50)\n",
        "\n",
        "  preds_test_cat = model_cat.predict(x_test)\n",
        "  preds_val = model_cat.predict(X_valid)"
      ],
      "execution_count": 570,
      "outputs": [
        {
          "output_type": "stream",
          "text": [
            "0:\tlearn: 317.3392626\ttest: 317.3392626\ttest1: 315.5245125\tbest: 315.5245125 (0)\ttotal: 8.73ms\tremaining: 26.2s\n",
            "100:\tlearn: 120.5103100\ttest: 120.1670454\ttest1: 122.7637567\tbest: 122.7637567 (100)\ttotal: 807ms\tremaining: 23.2s\n",
            "200:\tlearn: 88.9320645\ttest: 88.1436780\ttest1: 91.1977442\tbest: 91.1977442 (200)\ttotal: 1.57s\tremaining: 21.9s\n",
            "300:\tlearn: 75.8384380\ttest: 74.9965485\ttest1: 75.8280926\tbest: 75.8280926 (300)\ttotal: 2.32s\tremaining: 20.8s\n",
            "400:\tlearn: 67.0538307\ttest: 66.2126267\ttest1: 67.2396108\tbest: 67.2396108 (400)\ttotal: 3.09s\tremaining: 20s\n",
            "500:\tlearn: 60.9216799\ttest: 60.1601827\ttest1: 61.9248350\tbest: 61.9248350 (500)\ttotal: 3.86s\tremaining: 19.2s\n",
            "600:\tlearn: 57.6438935\ttest: 56.8880300\ttest1: 59.3791681\tbest: 59.3791681 (600)\ttotal: 4.62s\tremaining: 18.4s\n",
            "700:\tlearn: 53.8463717\ttest: 53.1161461\ttest1: 56.8563739\tbest: 56.8563739 (700)\ttotal: 5.39s\tremaining: 17.7s\n",
            "800:\tlearn: 50.3780629\ttest: 49.6413559\ttest1: 54.1734970\tbest: 54.1734970 (800)\ttotal: 6.17s\tremaining: 16.9s\n",
            "900:\tlearn: 47.9020715\ttest: 47.1540911\ttest1: 52.2702705\tbest: 52.2702705 (900)\ttotal: 6.96s\tremaining: 16.2s\n",
            "1000:\tlearn: 45.4909902\ttest: 44.7273094\ttest1: 50.6836260\tbest: 50.6836260 (1000)\ttotal: 7.74s\tremaining: 15.5s\n",
            "1100:\tlearn: 42.6843822\ttest: 41.9297526\ttest1: 48.5285196\tbest: 48.5285196 (1100)\ttotal: 8.55s\tremaining: 14.7s\n",
            "1200:\tlearn: 40.7371586\ttest: 40.0356797\ttest1: 47.2886005\tbest: 47.2886005 (1200)\ttotal: 9.33s\tremaining: 14s\n",
            "1300:\tlearn: 39.1023362\ttest: 38.3923534\ttest1: 45.8773206\tbest: 45.8773206 (1300)\ttotal: 10.1s\tremaining: 13.2s\n",
            "1400:\tlearn: 37.5534012\ttest: 36.8807821\ttest1: 44.6320550\tbest: 44.6320550 (1400)\ttotal: 10.9s\tremaining: 12.4s\n",
            "1500:\tlearn: 35.8961628\ttest: 35.2496021\ttest1: 43.4293310\tbest: 43.4293310 (1500)\ttotal: 11.7s\tremaining: 11.7s\n",
            "1600:\tlearn: 34.7196543\ttest: 34.1200592\ttest1: 42.5045380\tbest: 42.5036396 (1599)\ttotal: 12.5s\tremaining: 10.9s\n",
            "1700:\tlearn: 33.3046263\ttest: 32.7383161\ttest1: 41.6622082\tbest: 41.6622082 (1700)\ttotal: 13.3s\tremaining: 10.2s\n",
            "1800:\tlearn: 32.1108339\ttest: 31.5866956\ttest1: 40.7396028\tbest: 40.7396028 (1800)\ttotal: 14.1s\tremaining: 9.4s\n",
            "1900:\tlearn: 30.8708357\ttest: 30.4022633\ttest1: 39.8548217\tbest: 39.8548217 (1900)\ttotal: 14.9s\tremaining: 8.63s\n",
            "2000:\tlearn: 29.8599875\ttest: 29.4475205\ttest1: 39.2407444\tbest: 39.2303823 (1998)\ttotal: 15.7s\tremaining: 7.85s\n",
            "2100:\tlearn: 28.9177224\ttest: 28.5255253\ttest1: 38.5874803\tbest: 38.5874803 (2100)\ttotal: 16.5s\tremaining: 7.07s\n",
            "2200:\tlearn: 28.0966616\ttest: 27.7629497\ttest1: 38.0903486\tbest: 38.0903486 (2200)\ttotal: 17.3s\tremaining: 6.29s\n",
            "2300:\tlearn: 27.3437384\ttest: 27.0585934\ttest1: 37.5834479\tbest: 37.5834479 (2300)\ttotal: 18.1s\tremaining: 5.5s\n",
            "2400:\tlearn: 26.4832372\ttest: 26.2576524\ttest1: 36.8593093\tbest: 36.8593093 (2400)\ttotal: 18.9s\tremaining: 4.71s\n",
            "2500:\tlearn: 25.8260929\ttest: 25.6424614\ttest1: 36.4596877\tbest: 36.4560322 (2499)\ttotal: 19.7s\tremaining: 3.93s\n",
            "2600:\tlearn: 25.3758111\ttest: 25.2246567\ttest1: 36.1824335\tbest: 36.1824335 (2600)\ttotal: 20.5s\tremaining: 3.14s\n",
            "2700:\tlearn: 24.9019676\ttest: 24.7714032\ttest1: 35.8362293\tbest: 35.8362293 (2700)\ttotal: 21.2s\tremaining: 2.35s\n",
            "2800:\tlearn: 24.4283052\ttest: 24.3043146\ttest1: 35.4197398\tbest: 35.4197398 (2800)\ttotal: 22s\tremaining: 1.56s\n",
            "2900:\tlearn: 23.6988077\ttest: 23.6296246\ttest1: 34.9190850\tbest: 34.9190850 (2900)\ttotal: 22.8s\tremaining: 778ms\n",
            "2999:\tlearn: 23.1691433\ttest: 23.1539914\ttest1: 34.4896862\tbest: 34.4896862 (2999)\ttotal: 23.6s\tremaining: 0us\n",
            "\n",
            "bestTest = 34.48968621\n",
            "bestIteration = 2999\n",
            "\n",
            "0:\tlearn: 316.8988635\ttest: 316.8988635\ttest1: 320.3375125\tbest: 320.3375125 (0)\ttotal: 7.93ms\tremaining: 23.8s\n",
            "100:\tlearn: 116.5570941\ttest: 116.1774111\ttest1: 110.6412934\tbest: 110.6412934 (100)\ttotal: 745ms\tremaining: 21.4s\n",
            "200:\tlearn: 89.8816268\ttest: 89.4832215\ttest1: 85.0453584\tbest: 85.0453584 (200)\ttotal: 1.5s\tremaining: 20.9s\n",
            "300:\tlearn: 76.7211274\ttest: 76.1652898\ttest1: 73.0232904\tbest: 73.0232904 (300)\ttotal: 2.25s\tremaining: 20.2s\n",
            "400:\tlearn: 67.8935516\ttest: 67.1784847\ttest1: 65.0381881\tbest: 65.0381881 (400)\ttotal: 3s\tremaining: 19.5s\n",
            "500:\tlearn: 62.6369766\ttest: 61.9407265\ttest1: 60.2495707\tbest: 60.2495707 (500)\ttotal: 3.78s\tremaining: 18.9s\n",
            "600:\tlearn: 57.4813978\ttest: 56.7492949\ttest1: 55.0579024\tbest: 55.0579024 (600)\ttotal: 4.54s\tremaining: 18.1s\n",
            "700:\tlearn: 53.6071436\ttest: 52.8527857\ttest1: 51.4227695\tbest: 51.4227695 (700)\ttotal: 5.33s\tremaining: 17.5s\n",
            "800:\tlearn: 50.4852311\ttest: 49.8062537\ttest1: 48.4278874\tbest: 48.4278874 (800)\ttotal: 6.12s\tremaining: 16.8s\n",
            "900:\tlearn: 47.9097307\ttest: 47.3360372\ttest1: 46.2208044\tbest: 46.2208044 (900)\ttotal: 6.88s\tremaining: 16s\n",
            "1000:\tlearn: 45.9557371\ttest: 45.4526286\ttest1: 44.7414773\tbest: 44.7414773 (1000)\ttotal: 7.65s\tremaining: 15.3s\n",
            "1100:\tlearn: 44.4243952\ttest: 43.9578104\ttest1: 43.3337991\tbest: 43.3337991 (1100)\ttotal: 8.4s\tremaining: 14.5s\n",
            "1200:\tlearn: 42.6247436\ttest: 42.1889309\ttest1: 41.9278115\tbest: 41.9278115 (1200)\ttotal: 9.16s\tremaining: 13.7s\n",
            "1300:\tlearn: 40.5870211\ttest: 40.1946553\ttest1: 40.2607809\tbest: 40.2607809 (1300)\ttotal: 9.95s\tremaining: 13s\n",
            "1400:\tlearn: 38.9980499\ttest: 38.6034088\ttest1: 38.8347313\tbest: 38.8334373 (1399)\ttotal: 10.7s\tremaining: 12.3s\n",
            "1500:\tlearn: 37.1033068\ttest: 36.7675479\ttest1: 37.3893230\tbest: 37.3893230 (1500)\ttotal: 11.5s\tremaining: 11.5s\n",
            "1600:\tlearn: 35.3598635\ttest: 35.0643683\ttest1: 35.7311884\tbest: 35.7311884 (1600)\ttotal: 12.3s\tremaining: 10.8s\n",
            "1700:\tlearn: 33.9338150\ttest: 33.6732960\ttest1: 34.4535666\tbest: 34.4535666 (1700)\ttotal: 13.1s\tremaining: 9.99s\n",
            "1800:\tlearn: 32.9034954\ttest: 32.6716858\ttest1: 33.4120567\tbest: 33.4120567 (1800)\ttotal: 13.9s\tremaining: 9.23s\n",
            "1900:\tlearn: 32.0189042\ttest: 31.8326543\ttest1: 32.6331912\tbest: 32.6331912 (1900)\ttotal: 14.6s\tremaining: 8.45s\n",
            "2000:\tlearn: 30.9953267\ttest: 30.8229094\ttest1: 31.6759264\tbest: 31.6759264 (2000)\ttotal: 15.4s\tremaining: 7.68s\n",
            "2100:\tlearn: 29.8814919\ttest: 29.7691520\ttest1: 30.8240797\tbest: 30.8240797 (2100)\ttotal: 16.2s\tremaining: 6.93s\n",
            "2200:\tlearn: 29.0139458\ttest: 28.9422400\ttest1: 30.1737144\tbest: 30.1737144 (2200)\ttotal: 17s\tremaining: 6.16s\n",
            "2300:\tlearn: 28.0114279\ttest: 27.9659740\ttest1: 29.1776229\tbest: 29.1765171 (2298)\ttotal: 17.7s\tremaining: 5.39s\n",
            "2400:\tlearn: 27.2167188\ttest: 27.2105288\ttest1: 28.6214798\tbest: 28.6214798 (2400)\ttotal: 18.5s\tremaining: 4.62s\n",
            "2500:\tlearn: 26.3925011\ttest: 26.4421572\ttest1: 27.9432869\tbest: 27.9426965 (2498)\ttotal: 19.3s\tremaining: 3.85s\n",
            "2600:\tlearn: 25.8386174\ttest: 25.9254844\ttest1: 27.4650791\tbest: 27.4650791 (2600)\ttotal: 20.1s\tremaining: 3.08s\n",
            "2700:\tlearn: 25.3234336\ttest: 25.4402096\ttest1: 27.0355269\tbest: 27.0300422 (2698)\ttotal: 20.9s\tremaining: 2.31s\n",
            "2800:\tlearn: 24.9005602\ttest: 25.0423748\ttest1: 26.6933431\tbest: 26.6933431 (2800)\ttotal: 21.6s\tremaining: 1.54s\n",
            "2900:\tlearn: 24.2908282\ttest: 24.4630689\ttest1: 26.2180022\tbest: 26.2176090 (2898)\ttotal: 22.4s\tremaining: 765ms\n",
            "2999:\tlearn: 23.8671311\ttest: 24.0576810\ttest1: 25.8104935\tbest: 25.8104935 (2999)\ttotal: 23.2s\tremaining: 0us\n",
            "\n",
            "bestTest = 25.81049346\n",
            "bestIteration = 2999\n",
            "\n",
            "0:\tlearn: 317.5916204\ttest: 317.5881119\ttest1: 305.3095041\tbest: 305.3095041 (0)\ttotal: 8.47ms\tremaining: 25.4s\n",
            "100:\tlearn: 117.0777875\ttest: 116.1825699\ttest1: 126.7810193\tbest: 126.7810193 (100)\ttotal: 759ms\tremaining: 21.8s\n",
            "200:\tlearn: 87.2992576\ttest: 85.8139050\ttest1: 97.9642048\tbest: 97.9642048 (200)\ttotal: 1.51s\tremaining: 21s\n",
            "300:\tlearn: 76.6257468\ttest: 75.1702535\ttest1: 87.0648285\tbest: 87.0648285 (300)\ttotal: 2.25s\tremaining: 20.1s\n",
            "400:\tlearn: 69.2802731\ttest: 67.7983071\ttest1: 79.6012881\tbest: 79.6012881 (400)\ttotal: 3.02s\tremaining: 19.5s\n",
            "500:\tlearn: 62.3831698\ttest: 60.9204309\ttest1: 74.2028278\tbest: 74.2028278 (500)\ttotal: 3.78s\tremaining: 18.9s\n",
            "600:\tlearn: 57.1100907\ttest: 55.6818963\ttest1: 69.9903249\tbest: 69.9903249 (600)\ttotal: 4.55s\tremaining: 18.2s\n",
            "700:\tlearn: 53.4448222\ttest: 52.0807190\ttest1: 67.1074469\tbest: 67.1074469 (700)\ttotal: 5.33s\tremaining: 17.5s\n",
            "800:\tlearn: 50.3754543\ttest: 49.0257135\ttest1: 64.7146218\tbest: 64.7146218 (800)\ttotal: 6.1s\tremaining: 16.7s\n",
            "900:\tlearn: 48.0276394\ttest: 46.6348067\ttest1: 62.5846438\tbest: 62.5846438 (900)\ttotal: 6.86s\tremaining: 16s\n",
            "1000:\tlearn: 45.5280839\ttest: 44.1512840\ttest1: 60.4189195\tbest: 60.4165864 (999)\ttotal: 7.66s\tremaining: 15.3s\n",
            "1100:\tlearn: 42.9646164\ttest: 41.6374313\ttest1: 58.2143143\tbest: 58.2143143 (1100)\ttotal: 8.45s\tremaining: 14.6s\n",
            "1200:\tlearn: 40.9649828\ttest: 39.6745030\ttest1: 56.2577970\tbest: 56.2577970 (1200)\ttotal: 9.22s\tremaining: 13.8s\n",
            "1300:\tlearn: 39.0818428\ttest: 37.8176256\ttest1: 54.6518321\tbest: 54.6518321 (1300)\ttotal: 10s\tremaining: 13.1s\n",
            "1400:\tlearn: 37.2560594\ttest: 36.0573764\ttest1: 52.9751991\tbest: 52.9751991 (1400)\ttotal: 10.8s\tremaining: 12.3s\n",
            "1500:\tlearn: 35.5527803\ttest: 34.3587999\ttest1: 51.5665222\tbest: 51.5665222 (1500)\ttotal: 11.6s\tremaining: 11.6s\n",
            "1600:\tlearn: 33.9810810\ttest: 32.8333498\ttest1: 50.0513989\tbest: 50.0513989 (1600)\ttotal: 12.4s\tremaining: 10.8s\n",
            "1700:\tlearn: 32.8094063\ttest: 31.7433858\ttest1: 48.9393075\tbest: 48.9393075 (1700)\ttotal: 13.2s\tremaining: 10s\n",
            "1800:\tlearn: 31.6696315\ttest: 30.6637413\ttest1: 48.0017236\tbest: 48.0017236 (1800)\ttotal: 13.9s\tremaining: 9.28s\n",
            "1900:\tlearn: 30.6167810\ttest: 29.6662512\ttest1: 47.2312638\tbest: 47.2312638 (1900)\ttotal: 14.7s\tremaining: 8.51s\n",
            "2000:\tlearn: 29.6587548\ttest: 28.7701642\ttest1: 46.4126689\tbest: 46.4126689 (2000)\ttotal: 15.5s\tremaining: 7.73s\n",
            "2100:\tlearn: 28.7193152\ttest: 27.9152045\ttest1: 45.5873481\tbest: 45.5873481 (2100)\ttotal: 16.3s\tremaining: 6.96s\n",
            "2200:\tlearn: 27.9586976\ttest: 27.2052746\ttest1: 44.9607222\tbest: 44.9607222 (2200)\ttotal: 17.1s\tremaining: 6.19s\n",
            "2300:\tlearn: 27.0770916\ttest: 26.3686735\ttest1: 44.0477045\tbest: 44.0469196 (2299)\ttotal: 17.8s\tremaining: 5.42s\n",
            "2400:\tlearn: 26.3852472\ttest: 25.7272991\ttest1: 43.4957265\tbest: 43.4951214 (2399)\ttotal: 18.6s\tremaining: 4.65s\n",
            "2500:\tlearn: 25.7721399\ttest: 25.1697598\ttest1: 43.0100422\tbest: 43.0100422 (2500)\ttotal: 19.4s\tremaining: 3.87s\n",
            "2600:\tlearn: 25.1659567\ttest: 24.6145154\ttest1: 42.4558180\tbest: 42.4535817 (2599)\ttotal: 20.2s\tremaining: 3.1s\n",
            "2700:\tlearn: 24.5625998\ttest: 24.0409142\ttest1: 41.8553766\tbest: 41.8553766 (2700)\ttotal: 21s\tremaining: 2.32s\n",
            "2800:\tlearn: 24.0759148\ttest: 23.6142299\ttest1: 41.4493734\tbest: 41.4493734 (2800)\ttotal: 21.8s\tremaining: 1.55s\n",
            "2900:\tlearn: 23.5437414\ttest: 23.1242529\ttest1: 40.8959359\tbest: 40.8959359 (2900)\ttotal: 22.6s\tremaining: 770ms\n",
            "2999:\tlearn: 23.0736313\ttest: 22.6931527\ttest1: 40.4975866\tbest: 40.4975866 (2999)\ttotal: 23.4s\tremaining: 0us\n",
            "\n",
            "bestTest = 40.49758656\n",
            "bestIteration = 2999\n",
            "\n",
            "0:\tlearn: 318.1051409\ttest: 318.1051409\ttest1: 299.5377346\tbest: 299.5377346 (0)\ttotal: 8.66ms\tremaining: 26s\n",
            "100:\tlearn: 119.2568408\ttest: 118.8104785\ttest1: 118.2585690\tbest: 118.2585690 (100)\ttotal: 790ms\tremaining: 22.7s\n",
            "200:\tlearn: 90.8015395\ttest: 90.3637533\ttest1: 93.8037481\tbest: 93.8037481 (200)\ttotal: 1.56s\tremaining: 21.8s\n",
            "300:\tlearn: 76.1292121\ttest: 75.4591993\ttest1: 81.7231839\tbest: 81.7231839 (300)\ttotal: 2.35s\tremaining: 21.1s\n",
            "400:\tlearn: 68.0828897\ttest: 67.3574197\ttest1: 75.2108818\tbest: 75.2108818 (400)\ttotal: 3.12s\tremaining: 20.2s\n",
            "500:\tlearn: 61.8113492\ttest: 61.1704880\ttest1: 69.9906724\tbest: 69.9906724 (500)\ttotal: 3.9s\tremaining: 19.5s\n",
            "600:\tlearn: 58.2833957\ttest: 57.7486950\ttest1: 67.0600062\tbest: 67.0600062 (600)\ttotal: 4.68s\tremaining: 18.7s\n",
            "700:\tlearn: 54.8392329\ttest: 54.3886085\ttest1: 64.5896265\tbest: 64.5896265 (700)\ttotal: 5.44s\tremaining: 17.9s\n",
            "800:\tlearn: 51.5922865\ttest: 51.1446858\ttest1: 62.0457529\tbest: 62.0457529 (800)\ttotal: 6.23s\tremaining: 17.1s\n",
            "900:\tlearn: 48.6324160\ttest: 48.2349805\ttest1: 59.5828347\tbest: 59.5828347 (900)\ttotal: 7.03s\tremaining: 16.4s\n",
            "1000:\tlearn: 46.4168804\ttest: 45.9913467\ttest1: 57.8344024\tbest: 57.8344024 (1000)\ttotal: 7.8s\tremaining: 15.6s\n",
            "1100:\tlearn: 43.8877217\ttest: 43.4468215\ttest1: 55.3290543\tbest: 55.3290543 (1100)\ttotal: 8.57s\tremaining: 14.8s\n",
            "1200:\tlearn: 41.9375086\ttest: 41.5294277\ttest1: 53.6014599\tbest: 53.5788571 (1198)\ttotal: 9.37s\tremaining: 14s\n",
            "1300:\tlearn: 39.6143818\ttest: 39.2850331\ttest1: 51.5826219\tbest: 51.5826219 (1300)\ttotal: 10.2s\tremaining: 13.3s\n",
            "1400:\tlearn: 37.9117578\ttest: 37.6594157\ttest1: 50.0514729\tbest: 50.0514729 (1400)\ttotal: 11s\tremaining: 12.5s\n",
            "1500:\tlearn: 36.2854723\ttest: 36.0968285\ttest1: 48.9360642\tbest: 48.9270195 (1497)\ttotal: 11.8s\tremaining: 11.7s\n",
            "1600:\tlearn: 34.8406943\ttest: 34.7889959\ttest1: 47.7609658\tbest: 47.7609658 (1600)\ttotal: 12.5s\tremaining: 10.9s\n",
            "1700:\tlearn: 33.6727629\ttest: 33.6810864\ttest1: 46.7953822\tbest: 46.7922077 (1699)\ttotal: 13.3s\tremaining: 10.2s\n",
            "1800:\tlearn: 32.4987719\ttest: 32.6018545\ttest1: 45.6607314\tbest: 45.6607314 (1800)\ttotal: 14.1s\tremaining: 9.39s\n",
            "1900:\tlearn: 31.3104718\ttest: 31.4572260\ttest1: 44.6580988\tbest: 44.6580988 (1900)\ttotal: 14.9s\tremaining: 8.61s\n",
            "2000:\tlearn: 30.3133426\ttest: 30.4933858\ttest1: 43.8773708\tbest: 43.8773708 (2000)\ttotal: 15.7s\tremaining: 7.83s\n",
            "2100:\tlearn: 29.3183744\ttest: 29.5562190\ttest1: 42.9983760\tbest: 42.9983760 (2100)\ttotal: 16.5s\tremaining: 7.04s\n",
            "2200:\tlearn: 28.3222251\ttest: 28.6283267\ttest1: 41.7016070\tbest: 41.7016070 (2200)\ttotal: 17.2s\tremaining: 6.26s\n",
            "2300:\tlearn: 27.4218514\ttest: 27.7629120\ttest1: 40.8890423\tbest: 40.8890423 (2300)\ttotal: 18s\tremaining: 5.48s\n",
            "2400:\tlearn: 26.6414804\ttest: 27.0150477\ttest1: 40.1504275\tbest: 40.1504275 (2400)\ttotal: 18.8s\tremaining: 4.69s\n",
            "2500:\tlearn: 26.0926313\ttest: 26.5396370\ttest1: 39.7552243\tbest: 39.7552243 (2500)\ttotal: 19.6s\tremaining: 3.92s\n",
            "2600:\tlearn: 25.5877243\ttest: 26.1149644\ttest1: 39.3535420\tbest: 39.3523588 (2599)\ttotal: 20.4s\tremaining: 3.13s\n",
            "2700:\tlearn: 25.0932949\ttest: 25.6856693\ttest1: 39.0333471\tbest: 39.0333471 (2700)\ttotal: 21.2s\tremaining: 2.34s\n",
            "2800:\tlearn: 24.4000623\ttest: 25.0564301\ttest1: 38.3204985\tbest: 38.3204985 (2800)\ttotal: 22s\tremaining: 1.56s\n",
            "2900:\tlearn: 23.8583596\ttest: 24.5583571\ttest1: 37.5954261\tbest: 37.5954261 (2900)\ttotal: 22.7s\tremaining: 776ms\n",
            "2999:\tlearn: 23.4514342\ttest: 24.1890191\ttest1: 37.2459025\tbest: 37.2459025 (2999)\ttotal: 23.5s\tremaining: 0us\n",
            "\n",
            "bestTest = 37.24590248\n",
            "bestIteration = 2999\n",
            "\n",
            "0:\tlearn: 316.9019591\ttest: 316.9019591\ttest1: 318.9008804\tbest: 318.9008804 (0)\ttotal: 8.51ms\tremaining: 25.5s\n",
            "100:\tlearn: 118.3209275\ttest: 117.8562270\ttest1: 112.4031937\tbest: 112.4031937 (100)\ttotal: 768ms\tremaining: 22.1s\n",
            "200:\tlearn: 88.5096842\ttest: 87.6758493\ttest1: 82.6211214\tbest: 82.6211214 (200)\ttotal: 1.53s\tremaining: 21.4s\n",
            "300:\tlearn: 73.2621353\ttest: 72.5513102\ttest1: 69.3696208\tbest: 69.3696208 (300)\ttotal: 2.3s\tremaining: 20.6s\n",
            "400:\tlearn: 65.7374873\ttest: 65.1021087\ttest1: 62.8513406\tbest: 62.8513406 (400)\ttotal: 3.06s\tremaining: 19.8s\n",
            "500:\tlearn: 61.3386863\ttest: 60.9514035\ttest1: 58.8852521\tbest: 58.8852521 (500)\ttotal: 3.79s\tremaining: 18.9s\n",
            "600:\tlearn: 57.2702729\ttest: 56.9397213\ttest1: 55.2955812\tbest: 55.2955812 (600)\ttotal: 4.55s\tremaining: 18.2s\n",
            "700:\tlearn: 54.5977855\ttest: 54.2789775\ttest1: 52.8923918\tbest: 52.8923918 (700)\ttotal: 5.32s\tremaining: 17.4s\n",
            "800:\tlearn: 51.5763321\ttest: 51.3057204\ttest1: 50.1591537\tbest: 50.1591537 (800)\ttotal: 6.1s\tremaining: 16.8s\n",
            "900:\tlearn: 48.5097915\ttest: 48.3436800\ttest1: 47.8144931\tbest: 47.8144931 (900)\ttotal: 6.87s\tremaining: 16s\n",
            "1000:\tlearn: 46.0700760\ttest: 46.0035445\ttest1: 45.8619093\tbest: 45.8619093 (1000)\ttotal: 7.67s\tremaining: 15.3s\n",
            "1100:\tlearn: 43.3768816\ttest: 43.3570455\ttest1: 43.3871006\tbest: 43.3871006 (1100)\ttotal: 8.45s\tremaining: 14.6s\n",
            "1200:\tlearn: 40.9186944\ttest: 40.9292926\ttest1: 41.2052494\tbest: 41.1916542 (1199)\ttotal: 9.23s\tremaining: 13.8s\n",
            "1300:\tlearn: 39.0060817\ttest: 39.1247873\ttest1: 39.5703503\tbest: 39.5703503 (1300)\ttotal: 10s\tremaining: 13.1s\n",
            "1400:\tlearn: 37.4661827\ttest: 37.6099105\ttest1: 38.0694107\tbest: 38.0694107 (1400)\ttotal: 10.8s\tremaining: 12.3s\n",
            "1500:\tlearn: 35.7965077\ttest: 36.0182116\ttest1: 36.7505098\tbest: 36.7505098 (1500)\ttotal: 11.6s\tremaining: 11.6s\n",
            "1600:\tlearn: 34.6685406\ttest: 34.9210984\ttest1: 35.8945906\tbest: 35.8945906 (1600)\ttotal: 12.4s\tremaining: 10.8s\n",
            "1700:\tlearn: 33.0145629\ttest: 33.3282775\ttest1: 34.3165754\tbest: 34.3165754 (1700)\ttotal: 13.1s\tremaining: 10s\n",
            "1800:\tlearn: 31.8444522\ttest: 32.2128104\ttest1: 33.2410059\tbest: 33.2410059 (1800)\ttotal: 13.9s\tremaining: 9.27s\n",
            "1900:\tlearn: 30.5547899\ttest: 30.9756978\ttest1: 32.0575644\tbest: 32.0575644 (1900)\ttotal: 14.7s\tremaining: 8.5s\n",
            "2000:\tlearn: 29.2374017\ttest: 29.6837019\ttest1: 30.5404470\tbest: 30.5404470 (2000)\ttotal: 15.5s\tremaining: 7.74s\n",
            "2100:\tlearn: 28.1381788\ttest: 28.6374393\ttest1: 29.6880241\tbest: 29.6880241 (2100)\ttotal: 16.3s\tremaining: 6.98s\n",
            "2200:\tlearn: 27.2182947\ttest: 27.7191903\ttest1: 28.9426948\tbest: 28.9426948 (2200)\ttotal: 17.1s\tremaining: 6.21s\n",
            "2300:\tlearn: 26.2951017\ttest: 26.8730043\ttest1: 28.1615120\tbest: 28.1615120 (2300)\ttotal: 17.9s\tremaining: 5.43s\n",
            "2400:\tlearn: 25.5020739\ttest: 26.1275811\ttest1: 27.6254598\tbest: 27.6254598 (2400)\ttotal: 18.7s\tremaining: 4.66s\n",
            "2500:\tlearn: 24.6969340\ttest: 25.3413612\ttest1: 26.9034285\tbest: 26.9034285 (2500)\ttotal: 19.4s\tremaining: 3.88s\n",
            "2600:\tlearn: 23.9426003\ttest: 24.6374077\ttest1: 26.2800169\tbest: 26.2800169 (2600)\ttotal: 20.3s\tremaining: 3.11s\n",
            "2700:\tlearn: 23.2871650\ttest: 24.0656721\ttest1: 25.6335575\tbest: 25.6322044 (2699)\ttotal: 21s\tremaining: 2.33s\n",
            "2800:\tlearn: 22.6981313\ttest: 23.5279807\ttest1: 25.1504055\tbest: 25.1486732 (2799)\ttotal: 21.8s\tremaining: 1.55s\n",
            "2900:\tlearn: 22.1196177\ttest: 22.9625230\ttest1: 24.6360682\tbest: 24.6360682 (2900)\ttotal: 22.6s\tremaining: 771ms\n",
            "2999:\tlearn: 21.6058576\ttest: 22.5144843\ttest1: 24.2572654\tbest: 24.2572654 (2999)\ttotal: 23.4s\tremaining: 0us\n",
            "\n",
            "bestTest = 24.25726542\n",
            "bestIteration = 2999\n",
            "\n",
            "0:\tlearn: 319.2716204\ttest: 319.2716204\ttest1: 296.6637346\tbest: 296.6637346 (0)\ttotal: 8.6ms\tremaining: 25.8s\n",
            "100:\tlearn: 119.0395259\ttest: 118.3107598\ttest1: 105.5739531\tbest: 105.5739531 (100)\ttotal: 770ms\tremaining: 22.1s\n",
            "200:\tlearn: 90.7419297\ttest: 89.3250748\ttest1: 83.9158708\tbest: 83.9158708 (200)\ttotal: 1.54s\tremaining: 21.4s\n",
            "300:\tlearn: 75.7456775\ttest: 74.1663173\ttest1: 73.2799332\tbest: 73.2799332 (300)\ttotal: 2.28s\tremaining: 20.5s\n",
            "400:\tlearn: 68.5526162\ttest: 66.8530503\ttest1: 67.8403649\tbest: 67.8403649 (400)\ttotal: 3.05s\tremaining: 19.8s\n",
            "500:\tlearn: 61.9492427\ttest: 60.3769185\ttest1: 62.5323099\tbest: 62.5323099 (500)\ttotal: 3.82s\tremaining: 19s\n",
            "600:\tlearn: 57.1023455\ttest: 55.6129531\ttest1: 58.8634224\tbest: 58.8634224 (600)\ttotal: 4.58s\tremaining: 18.3s\n",
            "700:\tlearn: 54.0824408\ttest: 52.5493150\ttest1: 56.4114870\tbest: 56.4114870 (700)\ttotal: 5.33s\tremaining: 17.5s\n",
            "800:\tlearn: 50.8490499\ttest: 49.3514947\ttest1: 53.9159881\tbest: 53.9159881 (800)\ttotal: 6.11s\tremaining: 16.8s\n",
            "900:\tlearn: 48.0949245\ttest: 46.5771872\ttest1: 51.5097719\tbest: 51.5097719 (900)\ttotal: 6.87s\tremaining: 16s\n",
            "1000:\tlearn: 45.2484270\ttest: 43.7902249\ttest1: 48.9547794\tbest: 48.9547794 (1000)\ttotal: 7.65s\tremaining: 15.3s\n",
            "1100:\tlearn: 42.9031857\ttest: 41.5362443\ttest1: 47.2649592\tbest: 47.2649592 (1100)\ttotal: 8.43s\tremaining: 14.5s\n",
            "1200:\tlearn: 40.8153362\ttest: 39.4919775\ttest1: 45.5664024\tbest: 45.5664024 (1200)\ttotal: 9.21s\tremaining: 13.8s\n",
            "1300:\tlearn: 39.4781621\ttest: 38.2477627\ttest1: 44.3599864\tbest: 44.3599864 (1300)\ttotal: 9.96s\tremaining: 13s\n",
            "1400:\tlearn: 37.4301831\ttest: 36.2224457\ttest1: 42.5893700\tbest: 42.5893700 (1400)\ttotal: 10.7s\tremaining: 12.3s\n",
            "1500:\tlearn: 36.0222577\ttest: 34.7954706\ttest1: 41.2676095\tbest: 41.2671820 (1499)\ttotal: 11.5s\tremaining: 11.5s\n",
            "1600:\tlearn: 34.6260150\ttest: 33.4358437\ttest1: 40.1157708\tbest: 40.1157708 (1600)\ttotal: 12.3s\tremaining: 10.7s\n",
            "1700:\tlearn: 33.1610871\ttest: 32.0308577\ttest1: 38.9136932\tbest: 38.9136932 (1700)\ttotal: 13.1s\tremaining: 10s\n",
            "1800:\tlearn: 32.1237180\ttest: 31.0628022\ttest1: 38.0833313\tbest: 38.0833313 (1800)\ttotal: 13.9s\tremaining: 9.28s\n",
            "1900:\tlearn: 31.0996149\ttest: 30.1044027\ttest1: 37.5517747\tbest: 37.5517747 (1900)\ttotal: 14.7s\tremaining: 8.53s\n",
            "2000:\tlearn: 30.0372804\ttest: 29.0751166\ttest1: 36.6999821\tbest: 36.6952382 (1987)\ttotal: 15.5s\tremaining: 7.76s\n",
            "2100:\tlearn: 29.2761456\ttest: 28.3651827\ttest1: 36.1038394\tbest: 36.1038394 (2100)\ttotal: 16.3s\tremaining: 6.98s\n",
            "2200:\tlearn: 28.5842330\ttest: 27.6989051\ttest1: 35.4154438\tbest: 35.4154438 (2200)\ttotal: 17.1s\tremaining: 6.2s\n",
            "2300:\tlearn: 27.6712555\ttest: 26.8233693\ttest1: 34.7246399\tbest: 34.7058296 (2299)\ttotal: 17.9s\tremaining: 5.43s\n",
            "2400:\tlearn: 26.9006649\ttest: 26.1162928\ttest1: 34.2169515\tbest: 34.2100040 (2388)\ttotal: 18.7s\tremaining: 4.66s\n",
            "2500:\tlearn: 26.1576655\ttest: 25.4404176\ttest1: 33.6975707\tbest: 33.6975707 (2500)\ttotal: 19.5s\tremaining: 3.88s\n",
            "2600:\tlearn: 25.4684902\ttest: 24.7908783\ttest1: 33.2337470\tbest: 33.2335474 (2599)\ttotal: 20.2s\tremaining: 3.1s\n",
            "2700:\tlearn: 24.8546209\ttest: 24.2166961\ttest1: 32.8982084\tbest: 32.8982084 (2700)\ttotal: 21s\tremaining: 2.32s\n",
            "2800:\tlearn: 24.2153633\ttest: 23.6110798\ttest1: 32.4158057\tbest: 32.4106999 (2796)\ttotal: 21.8s\tremaining: 1.55s\n",
            "2900:\tlearn: 23.6739686\ttest: 23.1437280\ttest1: 31.9859435\tbest: 31.9859435 (2900)\ttotal: 22.6s\tremaining: 771ms\n",
            "2999:\tlearn: 23.0761710\ttest: 22.5681995\ttest1: 31.6882866\tbest: 31.6882866 (2999)\ttotal: 23.4s\tremaining: 0us\n",
            "\n",
            "bestTest = 31.68828661\n",
            "bestIteration = 2999\n",
            "\n",
            "0:\tlearn: 316.3604544\ttest: 316.3604544\ttest1: 322.6249278\tbest: 322.6249278 (0)\ttotal: 8.75ms\tremaining: 26.3s\n",
            "100:\tlearn: 116.4742007\ttest: 116.3240579\ttest1: 127.7295614\tbest: 127.7295614 (100)\ttotal: 784ms\tremaining: 22.5s\n",
            "200:\tlearn: 86.9617516\ttest: 86.5461073\ttest1: 101.2515224\tbest: 101.2515224 (200)\ttotal: 1.53s\tremaining: 21.3s\n",
            "300:\tlearn: 73.9278550\ttest: 73.4505007\ttest1: 90.6512234\tbest: 90.6512234 (300)\ttotal: 2.28s\tremaining: 20.4s\n",
            "400:\tlearn: 65.4011606\ttest: 64.8079507\ttest1: 83.5544616\tbest: 83.5544616 (400)\ttotal: 3.05s\tremaining: 19.8s\n",
            "500:\tlearn: 60.0759422\ttest: 59.4165999\ttest1: 79.2031111\tbest: 79.2031111 (500)\ttotal: 3.82s\tremaining: 19.1s\n",
            "600:\tlearn: 56.2132919\ttest: 55.5067582\ttest1: 75.4791897\tbest: 75.4744070 (599)\ttotal: 4.58s\tremaining: 18.3s\n",
            "700:\tlearn: 53.2562560\ttest: 52.5541995\ttest1: 72.6629220\tbest: 72.6629220 (700)\ttotal: 5.37s\tremaining: 17.6s\n",
            "800:\tlearn: 50.7974597\ttest: 50.0604653\ttest1: 70.4045682\tbest: 70.4045682 (800)\ttotal: 6.14s\tremaining: 16.9s\n",
            "900:\tlearn: 47.2615754\ttest: 46.5334904\ttest1: 67.1297838\tbest: 67.1297838 (900)\ttotal: 6.93s\tremaining: 16.2s\n",
            "1000:\tlearn: 44.2505128\ttest: 43.6064339\ttest1: 64.1237790\tbest: 64.1237790 (1000)\ttotal: 7.72s\tremaining: 15.4s\n",
            "1100:\tlearn: 42.0798007\ttest: 41.4541660\ttest1: 62.1059000\tbest: 62.1059000 (1100)\ttotal: 8.52s\tremaining: 14.7s\n",
            "1200:\tlearn: 40.1831379\ttest: 39.6544677\ttest1: 60.6634534\tbest: 60.6634534 (1200)\ttotal: 9.32s\tremaining: 14s\n",
            "1300:\tlearn: 38.4306464\ttest: 37.9911701\ttest1: 59.1590647\tbest: 59.1590647 (1300)\ttotal: 10.1s\tremaining: 13.2s\n",
            "1400:\tlearn: 36.9967067\ttest: 36.6099796\ttest1: 58.0903642\tbest: 58.0903642 (1400)\ttotal: 10.9s\tremaining: 12.4s\n",
            "1500:\tlearn: 35.7955669\ttest: 35.4429162\ttest1: 56.9669161\tbest: 56.9669161 (1500)\ttotal: 11.7s\tremaining: 11.7s\n",
            "1600:\tlearn: 34.4996958\ttest: 34.1488546\ttest1: 55.7295248\tbest: 55.7295248 (1600)\ttotal: 12.5s\tremaining: 10.9s\n",
            "1700:\tlearn: 33.3011743\ttest: 32.9966293\ttest1: 54.7472681\tbest: 54.7345619 (1697)\ttotal: 13.3s\tremaining: 10.1s\n",
            "1800:\tlearn: 32.2431734\ttest: 32.0057979\ttest1: 53.8597238\tbest: 53.8597238 (1800)\ttotal: 14.1s\tremaining: 9.37s\n",
            "1900:\tlearn: 31.3364085\ttest: 31.1560988\ttest1: 53.1329454\tbest: 53.1328288 (1899)\ttotal: 14.8s\tremaining: 8.58s\n",
            "2000:\tlearn: 30.3099895\ttest: 30.1852638\ttest1: 52.4129247\tbest: 52.4129247 (2000)\ttotal: 15.6s\tremaining: 7.8s\n",
            "2100:\tlearn: 29.5540626\ttest: 29.4742308\ttest1: 51.7195809\tbest: 51.7195809 (2100)\ttotal: 16.4s\tremaining: 7.03s\n",
            "2200:\tlearn: 28.5878047\ttest: 28.5317241\ttest1: 51.0031003\tbest: 51.0031003 (2200)\ttotal: 17.2s\tremaining: 6.25s\n",
            "2300:\tlearn: 27.6927397\ttest: 27.7218861\ttest1: 50.2504799\tbest: 50.2504799 (2300)\ttotal: 18s\tremaining: 5.47s\n",
            "2400:\tlearn: 26.8818394\ttest: 26.9511728\ttest1: 49.4899286\tbest: 49.4899286 (2400)\ttotal: 18.8s\tremaining: 4.69s\n",
            "2500:\tlearn: 26.1990343\ttest: 26.2943841\ttest1: 48.9426960\tbest: 48.9399296 (2495)\ttotal: 19.6s\tremaining: 3.91s\n",
            "2600:\tlearn: 25.5708726\ttest: 25.6919119\ttest1: 48.4054694\tbest: 48.4054694 (2600)\ttotal: 20.4s\tremaining: 3.13s\n",
            "2700:\tlearn: 24.9635102\ttest: 25.1145866\ttest1: 48.0128868\tbest: 48.0128868 (2700)\ttotal: 21.2s\tremaining: 2.35s\n",
            "2800:\tlearn: 24.3697380\ttest: 24.5801875\ttest1: 47.5464441\tbest: 47.5464441 (2800)\ttotal: 22s\tremaining: 1.56s\n",
            "2900:\tlearn: 23.7307235\ttest: 23.9653607\ttest1: 47.0970007\tbest: 47.0938848 (2896)\ttotal: 22.8s\tremaining: 778ms\n",
            "2999:\tlearn: 23.1111962\ttest: 23.3794666\ttest1: 46.5721576\tbest: 46.5721576 (2999)\ttotal: 23.6s\tremaining: 0us\n",
            "\n",
            "bestTest = 46.57215757\n",
            "bestIteration = 2999\n",
            "\n",
            "0:\tlearn: 316.4549497\ttest: 316.4549497\ttest1: 322.1555312\tbest: 322.1555312 (0)\ttotal: 11.8ms\tremaining: 35.3s\n",
            "100:\tlearn: 118.4264650\ttest: 117.5910562\ttest1: 120.3540624\tbest: 120.3540624 (100)\ttotal: 757ms\tremaining: 21.7s\n",
            "200:\tlearn: 89.1776229\ttest: 87.8769188\ttest1: 88.5845558\tbest: 88.5845558 (200)\ttotal: 1.5s\tremaining: 21s\n",
            "300:\tlearn: 75.8416286\ttest: 74.4085384\ttest1: 72.7507589\tbest: 72.7507589 (300)\ttotal: 2.25s\tremaining: 20.2s\n",
            "400:\tlearn: 67.0950114\ttest: 65.6357043\ttest1: 64.2695335\tbest: 64.2695335 (400)\ttotal: 3.01s\tremaining: 19.5s\n",
            "500:\tlearn: 61.0063601\ttest: 59.5148416\ttest1: 59.3097299\tbest: 59.3097299 (500)\ttotal: 3.76s\tremaining: 18.8s\n",
            "600:\tlearn: 55.9393942\ttest: 54.4812474\ttest1: 55.9096558\tbest: 55.9096558 (600)\ttotal: 4.55s\tremaining: 18.1s\n",
            "700:\tlearn: 53.1806965\ttest: 51.5964790\ttest1: 53.6714730\tbest: 53.6714730 (700)\ttotal: 5.31s\tremaining: 17.4s\n",
            "800:\tlearn: 50.0126047\ttest: 48.4238988\ttest1: 51.1655049\tbest: 51.1655049 (800)\ttotal: 6.09s\tremaining: 16.7s\n",
            "900:\tlearn: 47.1746082\ttest: 45.6374517\ttest1: 48.9270861\tbest: 48.9270861 (900)\ttotal: 6.85s\tremaining: 16s\n",
            "1000:\tlearn: 44.8294820\ttest: 43.3230418\ttest1: 46.7818853\tbest: 46.7818853 (1000)\ttotal: 7.64s\tremaining: 15.3s\n",
            "1100:\tlearn: 42.5721730\ttest: 41.1290540\ttest1: 44.8476664\tbest: 44.8476664 (1100)\ttotal: 8.41s\tremaining: 14.5s\n",
            "1200:\tlearn: 40.7156915\ttest: 39.4373702\ttest1: 43.5611984\tbest: 43.5611984 (1200)\ttotal: 9.18s\tremaining: 13.8s\n",
            "1300:\tlearn: 39.0083546\ttest: 37.7695181\ttest1: 42.1371390\tbest: 42.1371390 (1300)\ttotal: 9.96s\tremaining: 13s\n",
            "1400:\tlearn: 37.6522252\ttest: 36.4810261\ttest1: 41.1371114\tbest: 41.1371114 (1400)\ttotal: 10.7s\tremaining: 12.3s\n",
            "1500:\tlearn: 36.1325149\ttest: 34.9814161\ttest1: 39.8699394\tbest: 39.8699394 (1500)\ttotal: 11.5s\tremaining: 11.5s\n",
            "1600:\tlearn: 34.8149435\ttest: 33.6803057\ttest1: 38.6074407\tbest: 38.6074407 (1600)\ttotal: 12.3s\tremaining: 10.7s\n",
            "1700:\tlearn: 33.7335317\ttest: 32.6596166\ttest1: 37.7050095\tbest: 37.7050095 (1700)\ttotal: 13.1s\tremaining: 9.99s\n",
            "1800:\tlearn: 32.7269926\ttest: 31.7007927\ttest1: 36.8206597\tbest: 36.8206597 (1800)\ttotal: 13.8s\tremaining: 9.21s\n",
            "1900:\tlearn: 31.7727092\ttest: 30.8131195\ttest1: 36.2637385\tbest: 36.2637385 (1900)\ttotal: 14.6s\tremaining: 8.45s\n",
            "2000:\tlearn: 30.9684575\ttest: 30.0494210\ttest1: 35.5077419\tbest: 35.5077419 (2000)\ttotal: 15.4s\tremaining: 7.68s\n",
            "2100:\tlearn: 30.0355636\ttest: 29.1626706\ttest1: 34.8172707\tbest: 34.8172707 (2100)\ttotal: 16.2s\tremaining: 6.93s\n",
            "2200:\tlearn: 28.9963395\ttest: 28.1832068\ttest1: 33.9032959\tbest: 33.9019903 (2198)\ttotal: 17s\tremaining: 6.16s\n",
            "2300:\tlearn: 28.0870600\ttest: 27.3398376\ttest1: 33.1940881\tbest: 33.1940881 (2300)\ttotal: 17.8s\tremaining: 5.39s\n",
            "2400:\tlearn: 27.2246197\ttest: 26.5384759\ttest1: 32.5881538\tbest: 32.5881538 (2400)\ttotal: 18.5s\tremaining: 4.62s\n",
            "2500:\tlearn: 26.6286797\ttest: 25.9838410\ttest1: 32.2033340\tbest: 32.2031167 (2499)\ttotal: 19.3s\tremaining: 3.86s\n",
            "2600:\tlearn: 25.8913487\ttest: 25.2666790\ttest1: 31.6267150\tbest: 31.6267150 (2600)\ttotal: 20.1s\tremaining: 3.09s\n",
            "2700:\tlearn: 25.1016500\ttest: 24.5320837\ttest1: 31.1508894\tbest: 31.1508894 (2700)\ttotal: 20.9s\tremaining: 2.31s\n",
            "2800:\tlearn: 24.4110341\ttest: 23.8647163\ttest1: 30.6842736\tbest: 30.6842736 (2800)\ttotal: 21.7s\tremaining: 1.54s\n",
            "2900:\tlearn: 23.8223792\ttest: 23.2979872\ttest1: 30.2319215\tbest: 30.2319215 (2900)\ttotal: 22.5s\tremaining: 767ms\n",
            "2999:\tlearn: 23.3625056\ttest: 22.8733583\ttest1: 29.8947491\tbest: 29.8947491 (2999)\ttotal: 23.3s\tremaining: 0us\n",
            "\n",
            "bestTest = 29.89474909\n",
            "bestIteration = 2999\n",
            "\n",
            "0:\tlearn: 314.0462218\ttest: 314.0462218\ttest1: 334.0083719\tbest: 334.0083719 (0)\ttotal: 8.61ms\tremaining: 25.8s\n",
            "100:\tlearn: 115.6895726\ttest: 115.2768822\ttest1: 132.2547213\tbest: 132.2547213 (100)\ttotal: 810ms\tremaining: 23.3s\n",
            "200:\tlearn: 89.1173847\ttest: 88.4728786\ttest1: 107.1188348\tbest: 107.1188348 (200)\ttotal: 1.58s\tremaining: 22s\n",
            "300:\tlearn: 74.9380981\ttest: 74.1790549\ttest1: 91.0171929\tbest: 91.0171929 (300)\ttotal: 2.35s\tremaining: 21.1s\n",
            "400:\tlearn: 68.4049310\ttest: 67.6808194\ttest1: 83.5406489\tbest: 83.5406489 (400)\ttotal: 3.13s\tremaining: 20.3s\n",
            "500:\tlearn: 62.0411814\ttest: 61.3057897\ttest1: 77.1402056\tbest: 77.1402056 (500)\ttotal: 3.9s\tremaining: 19.5s\n",
            "600:\tlearn: 56.3801058\ttest: 55.6626881\ttest1: 71.2210710\tbest: 71.2210710 (600)\ttotal: 4.68s\tremaining: 18.7s\n",
            "700:\tlearn: 53.0439968\ttest: 52.3160625\ttest1: 67.6948562\tbest: 67.6948562 (700)\ttotal: 5.45s\tremaining: 17.9s\n",
            "800:\tlearn: 49.2963612\ttest: 48.5979217\ttest1: 63.4768623\tbest: 63.4768623 (800)\ttotal: 6.25s\tremaining: 17.2s\n",
            "900:\tlearn: 46.9114865\ttest: 46.2530977\ttest1: 61.4100285\tbest: 61.4100285 (900)\ttotal: 7.04s\tremaining: 16.4s\n",
            "1000:\tlearn: 45.0364626\ttest: 44.3434082\ttest1: 59.8730736\tbest: 59.8730736 (1000)\ttotal: 7.8s\tremaining: 15.6s\n",
            "1100:\tlearn: 42.7660310\ttest: 42.0797257\ttest1: 57.9756077\tbest: 57.9756077 (1100)\ttotal: 8.59s\tremaining: 14.8s\n",
            "1200:\tlearn: 40.7092832\ttest: 40.0292417\ttest1: 55.9145322\tbest: 55.9145322 (1200)\ttotal: 9.36s\tremaining: 14s\n",
            "1300:\tlearn: 39.1508330\ttest: 38.5003377\ttest1: 54.6836203\tbest: 54.6823014 (1298)\ttotal: 10.1s\tremaining: 13.2s\n",
            "1400:\tlearn: 37.7849694\ttest: 37.1425505\ttest1: 53.4869971\tbest: 53.4806177 (1399)\ttotal: 10.9s\tremaining: 12.5s\n",
            "1500:\tlearn: 36.4143117\ttest: 35.7930240\ttest1: 52.4777262\tbest: 52.4777262 (1500)\ttotal: 11.7s\tremaining: 11.7s\n",
            "1600:\tlearn: 35.2407750\ttest: 34.6270712\ttest1: 51.5010070\tbest: 51.5010070 (1600)\ttotal: 12.5s\tremaining: 10.9s\n",
            "1700:\tlearn: 34.0732938\ttest: 33.4412018\ttest1: 50.5130507\tbest: 50.5130507 (1700)\ttotal: 13.3s\tremaining: 10.1s\n",
            "1800:\tlearn: 32.8407089\ttest: 32.1687388\ttest1: 49.3491960\tbest: 49.3491960 (1800)\ttotal: 14.1s\tremaining: 9.37s\n",
            "1900:\tlearn: 31.7182215\ttest: 31.0645870\ttest1: 48.5459763\tbest: 48.5440313 (1899)\ttotal: 14.8s\tremaining: 8.58s\n",
            "2000:\tlearn: 30.9353239\ttest: 30.3150315\ttest1: 47.9726176\tbest: 47.9726176 (2000)\ttotal: 15.6s\tremaining: 7.8s\n",
            "2100:\tlearn: 29.9006850\ttest: 29.2859769\ttest1: 47.0805057\tbest: 47.0805057 (2100)\ttotal: 16.4s\tremaining: 7.02s\n",
            "2200:\tlearn: 28.9486799\ttest: 28.3479063\ttest1: 46.2742032\tbest: 46.2742032 (2200)\ttotal: 17.2s\tremaining: 6.25s\n",
            "2300:\tlearn: 28.1567189\ttest: 27.6118994\ttest1: 45.6804124\tbest: 45.6804124 (2300)\ttotal: 18s\tremaining: 5.46s\n",
            "2400:\tlearn: 27.2203742\ttest: 26.6957241\ttest1: 44.8059665\tbest: 44.8037462 (2398)\ttotal: 18.8s\tremaining: 4.68s\n",
            "2500:\tlearn: 26.3166240\ttest: 25.8403061\ttest1: 44.0476744\tbest: 44.0476744 (2500)\ttotal: 19.6s\tremaining: 3.9s\n",
            "2600:\tlearn: 25.7949705\ttest: 25.3549428\ttest1: 43.6086431\tbest: 43.6086431 (2600)\ttotal: 20.3s\tremaining: 3.12s\n",
            "2700:\tlearn: 25.1169033\ttest: 24.7257681\ttest1: 43.0748337\tbest: 43.0748337 (2700)\ttotal: 21.1s\tremaining: 2.34s\n",
            "2800:\tlearn: 24.3806413\ttest: 24.0240251\ttest1: 42.5513568\tbest: 42.5513568 (2800)\ttotal: 21.9s\tremaining: 1.55s\n",
            "2900:\tlearn: 23.8281763\ttest: 23.5137516\ttest1: 42.0445087\tbest: 42.0445087 (2900)\ttotal: 22.7s\tremaining: 775ms\n",
            "2999:\tlearn: 23.2638815\ttest: 22.9722493\ttest1: 41.5188636\tbest: 41.5188636 (2999)\ttotal: 23.5s\tremaining: 0us\n",
            "\n",
            "bestTest = 41.51886364\n",
            "bestIteration = 2999\n",
            "\n",
            "0:\tlearn: 314.3559358\ttest: 314.3559358\ttest1: 334.1767516\tbest: 334.1767516 (0)\ttotal: 8.56ms\tremaining: 25.7s\n",
            "100:\tlearn: 117.9575183\ttest: 117.3026064\ttest1: 122.8139964\tbest: 122.8139964 (100)\ttotal: 768ms\tremaining: 22s\n",
            "200:\tlearn: 90.5636855\ttest: 89.7102202\ttest1: 92.7744876\tbest: 92.7744876 (200)\ttotal: 1.53s\tremaining: 21.4s\n",
            "300:\tlearn: 76.3021589\ttest: 75.3313624\ttest1: 78.6850691\tbest: 78.6850691 (300)\ttotal: 2.31s\tremaining: 20.7s\n",
            "400:\tlearn: 67.6494384\ttest: 66.6224522\ttest1: 70.5905017\tbest: 70.5905017 (400)\ttotal: 3.08s\tremaining: 20s\n",
            "500:\tlearn: 61.7801932\ttest: 60.6824135\ttest1: 64.7667938\tbest: 64.7667938 (500)\ttotal: 3.85s\tremaining: 19.2s\n",
            "600:\tlearn: 56.7094886\ttest: 55.6243163\ttest1: 59.7557921\tbest: 59.7557921 (600)\ttotal: 4.62s\tremaining: 18.4s\n",
            "700:\tlearn: 53.1132140\ttest: 52.0038393\ttest1: 56.3443286\tbest: 56.3443286 (700)\ttotal: 5.38s\tremaining: 17.6s\n",
            "800:\tlearn: 50.2593050\ttest: 49.2377281\ttest1: 53.8577777\tbest: 53.8574107 (799)\ttotal: 6.14s\tremaining: 16.8s\n",
            "900:\tlearn: 47.4013775\ttest: 46.4952373\ttest1: 51.5069155\tbest: 51.5069155 (900)\ttotal: 6.92s\tremaining: 16.1s\n",
            "1000:\tlearn: 44.8591822\ttest: 43.9901124\ttest1: 49.2182697\tbest: 49.2182697 (1000)\ttotal: 7.69s\tremaining: 15.4s\n",
            "1100:\tlearn: 42.4596794\ttest: 41.5728929\ttest1: 46.7960148\tbest: 46.7960148 (1100)\ttotal: 8.48s\tremaining: 14.6s\n",
            "1200:\tlearn: 40.2314472\ttest: 39.3715176\ttest1: 44.7536131\tbest: 44.7536131 (1200)\ttotal: 9.28s\tremaining: 13.9s\n",
            "1300:\tlearn: 38.0285300\ttest: 37.2462279\ttest1: 42.8852555\tbest: 42.8852555 (1300)\ttotal: 10.1s\tremaining: 13.2s\n",
            "1400:\tlearn: 36.2994421\ttest: 35.5569349\ttest1: 41.5831585\tbest: 41.5831585 (1400)\ttotal: 10.9s\tremaining: 12.4s\n",
            "1500:\tlearn: 34.6530176\ttest: 33.8885007\ttest1: 40.1504916\tbest: 40.1504916 (1500)\ttotal: 11.7s\tremaining: 11.6s\n",
            "1600:\tlearn: 33.4570781\ttest: 32.7156208\ttest1: 39.0392500\tbest: 39.0392500 (1600)\ttotal: 12.4s\tremaining: 10.9s\n",
            "1700:\tlearn: 32.0092524\ttest: 31.2917495\ttest1: 37.9736929\tbest: 37.9736929 (1700)\ttotal: 13.2s\tremaining: 10.1s\n",
            "1800:\tlearn: 30.5834734\ttest: 29.9403405\ttest1: 36.8501391\tbest: 36.8501391 (1800)\ttotal: 14s\tremaining: 9.34s\n",
            "1900:\tlearn: 29.2384337\ttest: 28.6703717\ttest1: 35.8088369\tbest: 35.8088369 (1900)\ttotal: 14.8s\tremaining: 8.57s\n",
            "2000:\tlearn: 28.2803356\ttest: 27.7982575\ttest1: 35.0565050\tbest: 35.0565050 (2000)\ttotal: 15.6s\tremaining: 7.78s\n",
            "2100:\tlearn: 27.4902945\ttest: 27.0660513\ttest1: 34.6506240\tbest: 34.6506240 (2100)\ttotal: 16.4s\tremaining: 7s\n",
            "2200:\tlearn: 26.6118925\ttest: 26.2496919\ttest1: 33.8940035\tbest: 33.8940035 (2200)\ttotal: 17.2s\tremaining: 6.23s\n",
            "2300:\tlearn: 25.6765418\ttest: 25.3049172\ttest1: 33.0981512\tbest: 33.0981512 (2300)\ttotal: 18s\tremaining: 5.46s\n",
            "2400:\tlearn: 25.0050721\ttest: 24.6505952\ttest1: 32.5606768\tbest: 32.5606768 (2400)\ttotal: 18.7s\tremaining: 4.67s\n",
            "2500:\tlearn: 24.2425496\ttest: 23.9090921\ttest1: 32.0182923\tbest: 32.0182923 (2500)\ttotal: 19.5s\tremaining: 3.9s\n",
            "2600:\tlearn: 23.4442534\ttest: 23.1524855\ttest1: 31.3789451\tbest: 31.3789451 (2600)\ttotal: 20.3s\tremaining: 3.12s\n",
            "2700:\tlearn: 22.8100683\ttest: 22.5463094\ttest1: 30.9009095\tbest: 30.9009095 (2700)\ttotal: 21.1s\tremaining: 2.33s\n",
            "2800:\tlearn: 22.3015467\ttest: 22.0433919\ttest1: 30.4785320\tbest: 30.4785320 (2800)\ttotal: 21.9s\tremaining: 1.55s\n",
            "2900:\tlearn: 21.8654309\ttest: 21.6598365\ttest1: 30.0782834\tbest: 30.0776703 (2899)\ttotal: 22.7s\tremaining: 774ms\n",
            "2999:\tlearn: 21.4213052\ttest: 21.2507362\ttest1: 29.7420913\tbest: 29.7378830 (2998)\ttotal: 23.4s\tremaining: 0us\n",
            "\n",
            "bestTest = 29.73788303\n",
            "bestIteration = 2998\n",
            "\n",
            "Shrink model to first 2999 iterations.\n"
          ],
          "name": "stdout"
        }
      ]
    },
    {
      "cell_type": "code",
      "metadata": {
        "colab": {
          "base_uri": "https://localhost:8080/",
          "height": 358
        },
        "id": "eVCVG4yn5cte",
        "outputId": "a134e7b7-be1e-4dc7-dc3d-7fff23ea3e5b"
      },
      "source": [
        "fig, ax = plt.subplots(figsize=(8,5))\n",
        "ax.plot(pd.Series(preds_val, index=Y_valid.index), label='Preds_Valid')\n",
        "ax.plot(Y_valid, label='Y_Valid')\n",
        "ax.legend()\n",
        "ax.set_title('Model=catboost, preds vs y', fontsize=18, fontweight='bold')"
      ],
      "execution_count": 571,
      "outputs": [
        {
          "output_type": "execute_result",
          "data": {
            "text/plain": [
              "Text(0.5, 1.0, 'Model=catboost, preds vs y')"
            ]
          },
          "metadata": {
            "tags": []
          },
          "execution_count": 571
        },
        {
          "output_type": "display_data",
          "data": {
            "image/png": "[encoded data removed]",
            "text/plain": [
              "<Figure size 576x360 with 1 Axes>"
            ]
          },
          "metadata": {
            "tags": [],
            "needs_background": "light"
          }
        }
      ]
    },
    {
      "cell_type": "code",
      "metadata": {
        "colab": {
          "base_uri": "https://localhost:8080/",
          "height": 573
        },
        "id": "311vs_FP5PQE",
        "outputId": "ef326cf3-c5b0-4084-9407-eb2035f1fcc7"
      },
      "source": [
        "pd.DataFrame(model_cat.feature_importances_, index=x_train.columns).sort_values(0, ascending=False)"
      ],
      "execution_count": 580,
      "outputs": [
        {
          "output_type": "execute_result",
          "data": {
            "text/html": [
              "<div>\n",
              "<style scoped>\n",
              "    .dataframe tbody tr th:only-of-type {\n",
              "        vertical-align: middle;\n",
              "    }\n",
              "\n",
              "    .dataframe tbody tr th {\n",
              "        vertical-align: top;\n",
              "    }\n",
              "\n",
              "    .dataframe thead th {\n",
              "        text-align: right;\n",
              "    }\n",
              "</style>\n",
              "<table border=\"1\" class=\"dataframe\">\n",
              "  <thead>\n",
              "    <tr style=\"text-align: right;\">\n",
              "      <th></th>\n",
              "      <th>0</th>\n",
              "    </tr>\n",
              "  </thead>\n",
              "  <tbody>\n",
              "    <tr>\n",
              "      <th>단지내주차면수</th>\n",
              "      <td>25.573872</td>\n",
              "    </tr>\n",
              "    <tr>\n",
              "      <th>세대당주차가능면수</th>\n",
              "      <td>9.733636</td>\n",
              "    </tr>\n",
              "    <tr>\n",
              "      <th>공실율</th>\n",
              "      <td>9.725710</td>\n",
              "    </tr>\n",
              "    <tr>\n",
              "      <th>단지내주차면수_bin</th>\n",
              "      <td>8.932267</td>\n",
              "    </tr>\n",
              "    <tr>\n",
              "      <th>총세대수</th>\n",
              "      <td>7.391071</td>\n",
              "    </tr>\n",
              "    <tr>\n",
              "      <th>실거주세대</th>\n",
              "      <td>6.825254</td>\n",
              "    </tr>\n",
              "    <tr>\n",
              "      <th>지역</th>\n",
              "      <td>6.392349</td>\n",
              "    </tr>\n",
              "    <tr>\n",
              "      <th>공급유형</th>\n",
              "      <td>4.582821</td>\n",
              "    </tr>\n",
              "    <tr>\n",
              "      <th>공가수</th>\n",
              "      <td>4.252552</td>\n",
              "    </tr>\n",
              "    <tr>\n",
              "      <th>도보 10분거리 내 버스정류장 수</th>\n",
              "      <td>4.127712</td>\n",
              "    </tr>\n",
              "    <tr>\n",
              "      <th>임대보증금</th>\n",
              "      <td>3.992338</td>\n",
              "    </tr>\n",
              "    <tr>\n",
              "      <th>임대료</th>\n",
              "      <td>3.043450</td>\n",
              "    </tr>\n",
              "    <tr>\n",
              "      <th>전용면적</th>\n",
              "      <td>2.281737</td>\n",
              "    </tr>\n",
              "    <tr>\n",
              "      <th>도보 10분거리 내 지하철역 수(환승노선 수 반영)</th>\n",
              "      <td>1.288574</td>\n",
              "    </tr>\n",
              "    <tr>\n",
              "      <th>전용면적별세대수</th>\n",
              "      <td>1.091794</td>\n",
              "    </tr>\n",
              "    <tr>\n",
              "      <th>자격유형</th>\n",
              "      <td>0.461580</td>\n",
              "    </tr>\n",
              "    <tr>\n",
              "      <th>임대건물구분</th>\n",
              "      <td>0.303285</td>\n",
              "    </tr>\n",
              "  </tbody>\n",
              "</table>\n",
              "</div>"
            ],
            "text/plain": [
              "                                      0\n",
              "단지내주차면수                       25.573872\n",
              "세대당주차가능면수                      9.733636\n",
              "공실율                            9.725710\n",
              "단지내주차면수_bin                    8.932267\n",
              "총세대수                           7.391071\n",
              "실거주세대                          6.825254\n",
              "지역                             6.392349\n",
              "공급유형                           4.582821\n",
              "공가수                            4.252552\n",
              "도보 10분거리 내 버스정류장 수             4.127712\n",
              "임대보증금                          3.992338\n",
              "임대료                            3.043450\n",
              "전용면적                           2.281737\n",
              "도보 10분거리 내 지하철역 수(환승노선 수 반영)   1.288574\n",
              "전용면적별세대수                       1.091794\n",
              "자격유형                           0.461580\n",
              "임대건물구분                         0.303285"
            ]
          },
          "metadata": {
            "tags": []
          },
          "execution_count": 580
        }
      ]
    },
    {
      "cell_type": "code",
      "metadata": {
        "colab": {
          "base_uri": "https://localhost:8080/"
        },
        "id": "b8q62gnJsckA",
        "outputId": "a422da6b-b0ab-4f2e-92bc-5a81bc9cf635"
      },
      "source": [
        "data.skew()\n",
        "# 다 log변환을 해야한다. 그 전에 모델링 돌려보자"
      ],
      "execution_count": null,
      "outputs": [
        {
          "output_type": "execute_result",
          "data": {
            "text/plain": [
              "총세대수                             1.268751\n",
              "전용면적                            10.864622\n",
              "전용면적별세대수                         3.321005\n",
              "공가수                              0.810131\n",
              "임대보증금                            2.845083\n",
              "임대료                              1.637468\n",
              "도보 10분거리 내 지하철역 수(환승노선 수 반영)     2.868214\n",
              "도보 10분거리 내 버스정류장 수               5.991318\n",
              "단지내주차면수                          0.945232\n",
              "등록차량수                            1.461736\n",
              "공실율                              2.519258\n",
              "dtype: float64"
            ]
          },
          "metadata": {
            "tags": []
          },
          "execution_count": 160
        }
      ]
    },
    {
      "cell_type": "code",
      "metadata": {
        "colab": {
          "base_uri": "https://localhost:8080/",
          "height": 662
        },
        "id": "Y4XpmyNtj8O_",
        "outputId": "cd875955-edfa-4998-f9d6-3e1dca3a76e7"
      },
      "source": [
        "# 상관계수를 보자\n",
        "from sklearn.preprocessing import LabelEncoder\n",
        "data_copy=data.copy()\n",
        "for i in data_copy.select_dtypes('object'):\n",
        "  data_copy[i] = LabelEncoder().fit_transform(data_copy[i])\n",
        "\n",
        "data_copy.corr()"
      ],
      "execution_count": null,
      "outputs": [
        {
          "output_type": "execute_result",
          "data": {
            "text/html": [
              "<div>\n",
              "<style scoped>\n",
              "    .dataframe tbody tr th:only-of-type {\n",
              "        vertical-align: middle;\n",
              "    }\n",
              "\n",
              "    .dataframe tbody tr th {\n",
              "        vertical-align: top;\n",
              "    }\n",
              "\n",
              "    .dataframe thead th {\n",
              "        text-align: right;\n",
              "    }\n",
              "</style>\n",
              "<table border=\"1\" class=\"dataframe\">\n",
              "  <thead>\n",
              "    <tr style=\"text-align: right;\">\n",
              "      <th></th>\n",
              "      <th>단지코드</th>\n",
              "      <th>총세대수</th>\n",
              "      <th>임대건물구분</th>\n",
              "      <th>지역</th>\n",
              "      <th>공급유형</th>\n",
              "      <th>전용면적</th>\n",
              "      <th>전용면적별세대수</th>\n",
              "      <th>공가수</th>\n",
              "      <th>자격유형</th>\n",
              "      <th>임대보증금</th>\n",
              "      <th>임대료</th>\n",
              "      <th>도보 10분거리 내 지하철역 수(환승노선 수 반영)</th>\n",
              "      <th>도보 10분거리 내 버스정류장 수</th>\n",
              "      <th>단지내주차면수</th>\n",
              "      <th>등록차량수</th>\n",
              "    </tr>\n",
              "  </thead>\n",
              "  <tbody>\n",
              "    <tr>\n",
              "      <th>단지코드</th>\n",
              "      <td>1.000000</td>\n",
              "      <td>0.048983</td>\n",
              "      <td>-0.069088</td>\n",
              "      <td>-0.020800</td>\n",
              "      <td>0.019559</td>\n",
              "      <td>-0.004582</td>\n",
              "      <td>-0.030955</td>\n",
              "      <td>0.000845</td>\n",
              "      <td>0.051644</td>\n",
              "      <td>-0.071803</td>\n",
              "      <td>-0.029130</td>\n",
              "      <td>-0.120087</td>\n",
              "      <td>-0.081409</td>\n",
              "      <td>-0.080123</td>\n",
              "      <td>-0.099950</td>\n",
              "    </tr>\n",
              "    <tr>\n",
              "      <th>총세대수</th>\n",
              "      <td>0.048983</td>\n",
              "      <td>1.000000</td>\n",
              "      <td>-0.395954</td>\n",
              "      <td>-0.050277</td>\n",
              "      <td>0.112987</td>\n",
              "      <td>0.053513</td>\n",
              "      <td>0.090440</td>\n",
              "      <td>0.125877</td>\n",
              "      <td>0.105370</td>\n",
              "      <td>-0.143949</td>\n",
              "      <td>-0.153476</td>\n",
              "      <td>0.195048</td>\n",
              "      <td>-0.005914</td>\n",
              "      <td>0.469530</td>\n",
              "      <td>0.316703</td>\n",
              "    </tr>\n",
              "    <tr>\n",
              "      <th>임대건물구분</th>\n",
              "      <td>-0.069088</td>\n",
              "      <td>-0.395954</td>\n",
              "      <td>1.000000</td>\n",
              "      <td>-0.118590</td>\n",
              "      <td>-0.415907</td>\n",
              "      <td>-0.024147</td>\n",
              "      <td>0.369218</td>\n",
              "      <td>0.198148</td>\n",
              "      <td>-0.135264</td>\n",
              "      <td>0.483030</td>\n",
              "      <td>0.548481</td>\n",
              "      <td>-0.147159</td>\n",
              "      <td>0.046569</td>\n",
              "      <td>0.395826</td>\n",
              "      <td>0.449189</td>\n",
              "    </tr>\n",
              "    <tr>\n",
              "      <th>지역</th>\n",
              "      <td>-0.020800</td>\n",
              "      <td>-0.050277</td>\n",
              "      <td>-0.118590</td>\n",
              "      <td>1.000000</td>\n",
              "      <td>0.022463</td>\n",
              "      <td>-0.006460</td>\n",
              "      <td>-0.039802</td>\n",
              "      <td>-0.011008</td>\n",
              "      <td>-0.024636</td>\n",
              "      <td>-0.137169</td>\n",
              "      <td>-0.164484</td>\n",
              "      <td>-0.055085</td>\n",
              "      <td>-0.112403</td>\n",
              "      <td>-0.182264</td>\n",
              "      <td>-0.169999</td>\n",
              "    </tr>\n",
              "    <tr>\n",
              "      <th>공급유형</th>\n",
              "      <td>0.019559</td>\n",
              "      <td>0.112987</td>\n",
              "      <td>-0.415907</td>\n",
              "      <td>0.022463</td>\n",
              "      <td>1.000000</td>\n",
              "      <td>-0.217368</td>\n",
              "      <td>-0.203735</td>\n",
              "      <td>0.180054</td>\n",
              "      <td>0.651762</td>\n",
              "      <td>-0.290686</td>\n",
              "      <td>-0.692461</td>\n",
              "      <td>0.066679</td>\n",
              "      <td>-0.030108</td>\n",
              "      <td>-0.369375</td>\n",
              "      <td>-0.518342</td>\n",
              "    </tr>\n",
              "    <tr>\n",
              "      <th>전용면적</th>\n",
              "      <td>-0.004582</td>\n",
              "      <td>0.053513</td>\n",
              "      <td>-0.024147</td>\n",
              "      <td>-0.006460</td>\n",
              "      <td>-0.217368</td>\n",
              "      <td>1.000000</td>\n",
              "      <td>-0.027360</td>\n",
              "      <td>-0.070725</td>\n",
              "      <td>-0.169489</td>\n",
              "      <td>0.137201</td>\n",
              "      <td>0.199376</td>\n",
              "      <td>0.009669</td>\n",
              "      <td>-0.001577</td>\n",
              "      <td>0.069806</td>\n",
              "      <td>0.115453</td>\n",
              "    </tr>\n",
              "    <tr>\n",
              "      <th>전용면적별세대수</th>\n",
              "      <td>-0.030955</td>\n",
              "      <td>0.090440</td>\n",
              "      <td>0.369218</td>\n",
              "      <td>-0.039802</td>\n",
              "      <td>-0.203735</td>\n",
              "      <td>-0.027360</td>\n",
              "      <td>1.000000</td>\n",
              "      <td>0.155941</td>\n",
              "      <td>-0.089566</td>\n",
              "      <td>0.102118</td>\n",
              "      <td>0.172775</td>\n",
              "      <td>-0.041335</td>\n",
              "      <td>0.039301</td>\n",
              "      <td>0.294625</td>\n",
              "      <td>0.247085</td>\n",
              "    </tr>\n",
              "    <tr>\n",
              "      <th>공가수</th>\n",
              "      <td>0.000845</td>\n",
              "      <td>0.125877</td>\n",
              "      <td>0.198148</td>\n",
              "      <td>-0.011008</td>\n",
              "      <td>0.180054</td>\n",
              "      <td>-0.070725</td>\n",
              "      <td>0.155941</td>\n",
              "      <td>1.000000</td>\n",
              "      <td>0.239767</td>\n",
              "      <td>0.133226</td>\n",
              "      <td>-0.022510</td>\n",
              "      <td>-0.037642</td>\n",
              "      <td>0.038542</td>\n",
              "      <td>0.281112</td>\n",
              "      <td>0.118121</td>\n",
              "    </tr>\n",
              "    <tr>\n",
              "      <th>자격유형</th>\n",
              "      <td>0.051644</td>\n",
              "      <td>0.105370</td>\n",
              "      <td>-0.135264</td>\n",
              "      <td>-0.024636</td>\n",
              "      <td>0.651762</td>\n",
              "      <td>-0.169489</td>\n",
              "      <td>-0.089566</td>\n",
              "      <td>0.239767</td>\n",
              "      <td>1.000000</td>\n",
              "      <td>0.001296</td>\n",
              "      <td>-0.243282</td>\n",
              "      <td>-0.008183</td>\n",
              "      <td>-0.003009</td>\n",
              "      <td>-0.108682</td>\n",
              "      <td>-0.154491</td>\n",
              "    </tr>\n",
              "    <tr>\n",
              "      <th>임대보증금</th>\n",
              "      <td>-0.071803</td>\n",
              "      <td>-0.143949</td>\n",
              "      <td>0.483030</td>\n",
              "      <td>-0.137169</td>\n",
              "      <td>-0.290686</td>\n",
              "      <td>0.137201</td>\n",
              "      <td>0.102118</td>\n",
              "      <td>0.133226</td>\n",
              "      <td>0.001296</td>\n",
              "      <td>1.000000</td>\n",
              "      <td>0.598350</td>\n",
              "      <td>-0.051386</td>\n",
              "      <td>0.108394</td>\n",
              "      <td>0.390195</td>\n",
              "      <td>0.436073</td>\n",
              "    </tr>\n",
              "    <tr>\n",
              "      <th>임대료</th>\n",
              "      <td>-0.029130</td>\n",
              "      <td>-0.153476</td>\n",
              "      <td>0.548481</td>\n",
              "      <td>-0.164484</td>\n",
              "      <td>-0.692461</td>\n",
              "      <td>0.199376</td>\n",
              "      <td>0.172775</td>\n",
              "      <td>-0.022510</td>\n",
              "      <td>-0.243282</td>\n",
              "      <td>0.598350</td>\n",
              "      <td>1.000000</td>\n",
              "      <td>-0.034479</td>\n",
              "      <td>0.073999</td>\n",
              "      <td>0.418479</td>\n",
              "      <td>0.519834</td>\n",
              "    </tr>\n",
              "    <tr>\n",
              "      <th>도보 10분거리 내 지하철역 수(환승노선 수 반영)</th>\n",
              "      <td>-0.120087</td>\n",
              "      <td>0.195048</td>\n",
              "      <td>-0.147159</td>\n",
              "      <td>-0.055085</td>\n",
              "      <td>0.066679</td>\n",
              "      <td>0.009669</td>\n",
              "      <td>-0.041335</td>\n",
              "      <td>-0.037642</td>\n",
              "      <td>-0.008183</td>\n",
              "      <td>-0.051386</td>\n",
              "      <td>-0.034479</td>\n",
              "      <td>1.000000</td>\n",
              "      <td>0.057473</td>\n",
              "      <td>-0.009034</td>\n",
              "      <td>-0.086562</td>\n",
              "    </tr>\n",
              "    <tr>\n",
              "      <th>도보 10분거리 내 버스정류장 수</th>\n",
              "      <td>-0.081409</td>\n",
              "      <td>-0.005914</td>\n",
              "      <td>0.046569</td>\n",
              "      <td>-0.112403</td>\n",
              "      <td>-0.030108</td>\n",
              "      <td>-0.001577</td>\n",
              "      <td>0.039301</td>\n",
              "      <td>0.038542</td>\n",
              "      <td>-0.003009</td>\n",
              "      <td>0.108394</td>\n",
              "      <td>0.073999</td>\n",
              "      <td>0.057473</td>\n",
              "      <td>1.000000</td>\n",
              "      <td>0.088928</td>\n",
              "      <td>0.103472</td>\n",
              "    </tr>\n",
              "    <tr>\n",
              "      <th>단지내주차면수</th>\n",
              "      <td>-0.080123</td>\n",
              "      <td>0.469530</td>\n",
              "      <td>0.395826</td>\n",
              "      <td>-0.182264</td>\n",
              "      <td>-0.369375</td>\n",
              "      <td>0.069806</td>\n",
              "      <td>0.294625</td>\n",
              "      <td>0.281112</td>\n",
              "      <td>-0.108682</td>\n",
              "      <td>0.390195</td>\n",
              "      <td>0.418479</td>\n",
              "      <td>-0.009034</td>\n",
              "      <td>0.088928</td>\n",
              "      <td>1.000000</td>\n",
              "      <td>0.859216</td>\n",
              "    </tr>\n",
              "    <tr>\n",
              "      <th>등록차량수</th>\n",
              "      <td>-0.099950</td>\n",
              "      <td>0.316703</td>\n",
              "      <td>0.449189</td>\n",
              "      <td>-0.169999</td>\n",
              "      <td>-0.518342</td>\n",
              "      <td>0.115453</td>\n",
              "      <td>0.247085</td>\n",
              "      <td>0.118121</td>\n",
              "      <td>-0.154491</td>\n",
              "      <td>0.436073</td>\n",
              "      <td>0.519834</td>\n",
              "      <td>-0.086562</td>\n",
              "      <td>0.103472</td>\n",
              "      <td>0.859216</td>\n",
              "      <td>1.000000</td>\n",
              "    </tr>\n",
              "  </tbody>\n",
              "</table>\n",
              "</div>"
            ],
            "text/plain": [
              "                                  단지코드      총세대수  ...   단지내주차면수     등록차량수\n",
              "단지코드                          1.000000  0.048983  ... -0.080123 -0.099950\n",
              "총세대수                          0.048983  1.000000  ...  0.469530  0.316703\n",
              "임대건물구분                       -0.069088 -0.395954  ...  0.395826  0.449189\n",
              "지역                           -0.020800 -0.050277  ... -0.182264 -0.169999\n",
              "공급유형                          0.019559  0.112987  ... -0.369375 -0.518342\n",
              "전용면적                         -0.004582  0.053513  ...  0.069806  0.115453\n",
              "전용면적별세대수                     -0.030955  0.090440  ...  0.294625  0.247085\n",
              "공가수                           0.000845  0.125877  ...  0.281112  0.118121\n",
              "자격유형                          0.051644  0.105370  ... -0.108682 -0.154491\n",
              "임대보증금                        -0.071803 -0.143949  ...  0.390195  0.436073\n",
              "임대료                          -0.029130 -0.153476  ...  0.418479  0.519834\n",
              "도보 10분거리 내 지하철역 수(환승노선 수 반영) -0.120087  0.195048  ... -0.009034 -0.086562\n",
              "도보 10분거리 내 버스정류장 수           -0.081409 -0.005914  ...  0.088928  0.103472\n",
              "단지내주차면수                      -0.080123  0.469530  ...  1.000000  0.859216\n",
              "등록차량수                        -0.099950  0.316703  ...  0.859216  1.000000\n",
              "\n",
              "[15 rows x 15 columns]"
            ]
          },
          "metadata": {
            "tags": []
          },
          "execution_count": 391
        }
      ]
    },
    {
      "cell_type": "code",
      "metadata": {
        "id": "Iu7mAL6Q2J8j"
      },
      "source": [
        "train = data.loc[data['등록차량수'].notnull()]\n",
        "test = data.loc[data['등록차량수'].isnull()].drop(columns='등록차량수')"
      ],
      "execution_count": 627,
      "outputs": []
    },
    {
      "cell_type": "code",
      "metadata": {
        "id": "oOo9AgNM16jR"
      },
      "source": [
        "train['전용면적'] = train['전용면적']//5*5\n",
        "test['전용면적'] = test['전용면적']//5*5\n",
        "\n",
        "\n",
        "idx = train[train['전용면적']>100].index\n",
        "train.loc[idx, '전용면적'] = 100\n",
        "idx = test[test['전용면적']>100].index\n",
        "test.loc[idx, '전용면적'] = 100\n",
        "\n",
        "idx = train[train['전용면적']<15].index\n",
        "train.loc[idx, '전용면적'] = 15\n",
        "idx = test[test['전용면적']<15].index\n",
        "test.loc[idx, '전용면적'] = 15"
      ],
      "execution_count": 628,
      "outputs": []
    },
    {
      "cell_type": "code",
      "metadata": {
        "colab": {
          "base_uri": "https://localhost:8080/"
        },
        "id": "xHEnB27Iyb_S",
        "outputId": "884b17b1-fab5-49b6-f7a2-5e7cf9be577b"
      },
      "source": [
        "columns = ['단지코드', '총세대수', '공가수', '지역', '단지내주차면수', '도보 10분거리 내 지하철역 수(환승노선 수 반영)', '도보 10분거리 내 버스정류장 수']\n",
        "target = '등록차량수'\n",
        "area_columns = []\n",
        "for area in train['전용면적'].unique():\n",
        "    area_columns.append(f'면적_{area}')\n",
        "\n",
        "new_train = pd.DataFrame()\n",
        "new_test = pd.DataFrame()\n",
        "\n",
        "for i, code in tqdm(enumerate(train['단지코드'].unique())):\n",
        "    temp = train[train['단지코드']==code]\n",
        "    temp.index = range(temp.shape[0])\n",
        "    for col in columns:\n",
        "        new_train.loc[i, col] = temp.loc[0, col]\n",
        "\n",
        "    \n",
        "    \n",
        "    \n",
        "\n",
        "    \n",
        "    new_train.loc[i, '등록차량수'] = temp.loc[0, '등록차량수']\n",
        "    \n",
        "for i, code in tqdm(enumerate(test['단지코드'].unique())):\n",
        "    temp = test[test['단지코드']==code]\n",
        "    temp.index = range(temp.shape[0])\n",
        "    for col in columns:\n",
        "        new_test.loc[i, col] = temp.loc[0, col]\n",
        "    \n",
        "    \n"
      ],
      "execution_count": 629,
      "outputs": [
        {
          "output_type": "stream",
          "text": [
            "423it [00:02, 206.32it/s]\n",
            "150it [00:00, 241.64it/s]\n"
          ],
          "name": "stderr"
        }
      ]
    },
    {
      "cell_type": "code",
      "metadata": {
        "id": "H_D8SDUoE_N_"
      },
      "source": [
        "for col in area_columns:\n",
        "        area = float(col.split('_')[-1])\n",
        "        new_train.loc[i, col] = temp[temp['전용면적']==area]['전용면적별세대수'].sum()\n",
        "\n",
        "for col in area_columns:\n",
        "        area = float(col.split('_')[-1])\n",
        "        new_test.loc[i, col] = temp[temp['전용면적']==area]['전용면적별세대수'].sum()"
      ],
      "execution_count": null,
      "outputs": []
    },
    {
      "cell_type": "code",
      "metadata": {
        "colab": {
          "base_uri": "https://localhost:8080/",
          "height": 447
        },
        "id": "WqplR_X0XD6O",
        "outputId": "e8e8532b-9d36-4a37-a36d-7a859690ad84"
      },
      "source": [
        "# 임대보증금과 임대료 aggregation\n",
        "data_agg = data.groupby('단지코드')['임대보증금'].agg(['mean'])\n",
        "data_agg_col = []\n",
        "\n",
        "for i in data_agg.columns:\n",
        "  data_agg_col.append(f'{i}-임대보증금')\n",
        "\n",
        "data_agg.columns = data_agg_col\n",
        "data_agg"
      ],
      "execution_count": 385,
      "outputs": [
        {
          "output_type": "execute_result",
          "data": {
            "text/html": [
              "<div>\n",
              "<style scoped>\n",
              "    .dataframe tbody tr th:only-of-type {\n",
              "        vertical-align: middle;\n",
              "    }\n",
              "\n",
              "    .dataframe tbody tr th {\n",
              "        vertical-align: top;\n",
              "    }\n",
              "\n",
              "    .dataframe thead th {\n",
              "        text-align: right;\n",
              "    }\n",
              "</style>\n",
              "<table border=\"1\" class=\"dataframe\">\n",
              "  <thead>\n",
              "    <tr style=\"text-align: right;\">\n",
              "      <th></th>\n",
              "      <th>mean-임대보증금</th>\n",
              "    </tr>\n",
              "    <tr>\n",
              "      <th>단지코드</th>\n",
              "      <th></th>\n",
              "    </tr>\n",
              "  </thead>\n",
              "  <tbody>\n",
              "    <tr>\n",
              "      <th>C1000</th>\n",
              "      <td>1.320357e+07</td>\n",
              "    </tr>\n",
              "    <tr>\n",
              "      <th>C1003</th>\n",
              "      <td>2.265000e+07</td>\n",
              "    </tr>\n",
              "    <tr>\n",
              "      <th>C1004</th>\n",
              "      <td>4.952632e+05</td>\n",
              "    </tr>\n",
              "    <tr>\n",
              "      <th>C1005</th>\n",
              "      <td>1.710767e+07</td>\n",
              "    </tr>\n",
              "    <tr>\n",
              "      <th>C1006</th>\n",
              "      <td>8.975556e+05</td>\n",
              "    </tr>\n",
              "    <tr>\n",
              "      <th>...</th>\n",
              "      <td>...</td>\n",
              "    </tr>\n",
              "    <tr>\n",
              "      <th>C2676</th>\n",
              "      <td>4.010217e+05</td>\n",
              "    </tr>\n",
              "    <tr>\n",
              "      <th>C2680</th>\n",
              "      <td>2.360633e+07</td>\n",
              "    </tr>\n",
              "    <tr>\n",
              "      <th>C2688</th>\n",
              "      <td>8.511333e+06</td>\n",
              "    </tr>\n",
              "    <tr>\n",
              "      <th>C2691</th>\n",
              "      <td>7.066667e+07</td>\n",
              "    </tr>\n",
              "    <tr>\n",
              "      <th>C2692</th>\n",
              "      <td>1.579360e+07</td>\n",
              "    </tr>\n",
              "  </tbody>\n",
              "</table>\n",
              "<p>573 rows × 1 columns</p>\n",
              "</div>"
            ],
            "text/plain": [
              "         mean-임대보증금\n",
              "단지코드               \n",
              "C1000  1.320357e+07\n",
              "C1003  2.265000e+07\n",
              "C1004  4.952632e+05\n",
              "C1005  1.710767e+07\n",
              "C1006  8.975556e+05\n",
              "...             ...\n",
              "C2676  4.010217e+05\n",
              "C2680  2.360633e+07\n",
              "C2688  8.511333e+06\n",
              "C2691  7.066667e+07\n",
              "C2692  1.579360e+07\n",
              "\n",
              "[573 rows x 1 columns]"
            ]
          },
          "metadata": {
            "tags": []
          },
          "execution_count": 385
        }
      ]
    },
    {
      "cell_type": "code",
      "metadata": {
        "colab": {
          "base_uri": "https://localhost:8080/",
          "height": 447
        },
        "id": "VVqMPoZYYUPG",
        "outputId": "9837f724-69be-405c-ad3a-7ac0e9925251"
      },
      "source": [
        "data_agg_b = data.groupby('단지코드')['임대료'].agg(['mean'])\n",
        "data_agg_col_b = []\n",
        "\n",
        "for i in data_agg_b.columns:\n",
        "  data_agg_col_b.append(f'{i}-임대료')\n",
        "\n",
        "data_agg_b.columns = data_agg_col_b\n",
        "data_agg_b"
      ],
      "execution_count": 386,
      "outputs": [
        {
          "output_type": "execute_result",
          "data": {
            "text/html": [
              "<div>\n",
              "<style scoped>\n",
              "    .dataframe tbody tr th:only-of-type {\n",
              "        vertical-align: middle;\n",
              "    }\n",
              "\n",
              "    .dataframe tbody tr th {\n",
              "        vertical-align: top;\n",
              "    }\n",
              "\n",
              "    .dataframe thead th {\n",
              "        text-align: right;\n",
              "    }\n",
              "</style>\n",
              "<table border=\"1\" class=\"dataframe\">\n",
              "  <thead>\n",
              "    <tr style=\"text-align: right;\">\n",
              "      <th></th>\n",
              "      <th>mean-임대료</th>\n",
              "    </tr>\n",
              "    <tr>\n",
              "      <th>단지코드</th>\n",
              "      <th></th>\n",
              "    </tr>\n",
              "  </thead>\n",
              "  <tbody>\n",
              "    <tr>\n",
              "      <th>C1000</th>\n",
              "      <td>121064.285714</td>\n",
              "    </tr>\n",
              "    <tr>\n",
              "      <th>C1003</th>\n",
              "      <td>115875.000000</td>\n",
              "    </tr>\n",
              "    <tr>\n",
              "      <th>C1004</th>\n",
              "      <td>11020.526316</td>\n",
              "    </tr>\n",
              "    <tr>\n",
              "      <th>C1005</th>\n",
              "      <td>222046.666667</td>\n",
              "    </tr>\n",
              "    <tr>\n",
              "      <th>C1006</th>\n",
              "      <td>12404.814815</td>\n",
              "    </tr>\n",
              "    <tr>\n",
              "      <th>...</th>\n",
              "      <td>...</td>\n",
              "    </tr>\n",
              "    <tr>\n",
              "      <th>C2676</th>\n",
              "      <td>5542.391304</td>\n",
              "    </tr>\n",
              "    <tr>\n",
              "      <th>C2680</th>\n",
              "      <td>129816.666667</td>\n",
              "    </tr>\n",
              "    <tr>\n",
              "      <th>C2688</th>\n",
              "      <td>109251.666667</td>\n",
              "    </tr>\n",
              "    <tr>\n",
              "      <th>C2691</th>\n",
              "      <td>560000.000000</td>\n",
              "    </tr>\n",
              "    <tr>\n",
              "      <th>C2692</th>\n",
              "      <td>117848.000000</td>\n",
              "    </tr>\n",
              "  </tbody>\n",
              "</table>\n",
              "<p>573 rows × 1 columns</p>\n",
              "</div>"
            ],
            "text/plain": [
              "            mean-임대료\n",
              "단지코드                \n",
              "C1000  121064.285714\n",
              "C1003  115875.000000\n",
              "C1004   11020.526316\n",
              "C1005  222046.666667\n",
              "C1006   12404.814815\n",
              "...              ...\n",
              "C2676    5542.391304\n",
              "C2680  129816.666667\n",
              "C2688  109251.666667\n",
              "C2691  560000.000000\n",
              "C2692  117848.000000\n",
              "\n",
              "[573 rows x 1 columns]"
            ]
          },
          "metadata": {
            "tags": []
          },
          "execution_count": 386
        }
      ]
    },
    {
      "cell_type": "code",
      "metadata": {
        "colab": {
          "base_uri": "https://localhost:8080/",
          "height": 417
        },
        "id": "PSwobeXcFQto",
        "outputId": "26a4d735-e21c-465f-b9c3-66519fe995e9"
      },
      "source": [
        "new_train"
      ],
      "execution_count": 630,
      "outputs": [
        {
          "output_type": "execute_result",
          "data": {
            "text/html": [
              "<div>\n",
              "<style scoped>\n",
              "    .dataframe tbody tr th:only-of-type {\n",
              "        vertical-align: middle;\n",
              "    }\n",
              "\n",
              "    .dataframe tbody tr th {\n",
              "        vertical-align: top;\n",
              "    }\n",
              "\n",
              "    .dataframe thead th {\n",
              "        text-align: right;\n",
              "    }\n",
              "</style>\n",
              "<table border=\"1\" class=\"dataframe\">\n",
              "  <thead>\n",
              "    <tr style=\"text-align: right;\">\n",
              "      <th></th>\n",
              "      <th>단지코드</th>\n",
              "      <th>총세대수</th>\n",
              "      <th>공가수</th>\n",
              "      <th>지역</th>\n",
              "      <th>단지내주차면수</th>\n",
              "      <th>도보 10분거리 내 지하철역 수(환승노선 수 반영)</th>\n",
              "      <th>도보 10분거리 내 버스정류장 수</th>\n",
              "      <th>등록차량수</th>\n",
              "    </tr>\n",
              "  </thead>\n",
              "  <tbody>\n",
              "    <tr>\n",
              "      <th>0</th>\n",
              "      <td>C2483</td>\n",
              "      <td>900.0</td>\n",
              "      <td>38.0</td>\n",
              "      <td>경상북도</td>\n",
              "      <td>1425.0</td>\n",
              "      <td>0.0</td>\n",
              "      <td>3.0</td>\n",
              "      <td>1015.0</td>\n",
              "    </tr>\n",
              "    <tr>\n",
              "      <th>1</th>\n",
              "      <td>C2515</td>\n",
              "      <td>545.0</td>\n",
              "      <td>17.0</td>\n",
              "      <td>경상남도</td>\n",
              "      <td>624.0</td>\n",
              "      <td>0.0</td>\n",
              "      <td>3.0</td>\n",
              "      <td>205.0</td>\n",
              "    </tr>\n",
              "    <tr>\n",
              "      <th>2</th>\n",
              "      <td>C1407</td>\n",
              "      <td>1216.0</td>\n",
              "      <td>13.0</td>\n",
              "      <td>대전광역시</td>\n",
              "      <td>1285.0</td>\n",
              "      <td>1.0</td>\n",
              "      <td>1.0</td>\n",
              "      <td>1064.0</td>\n",
              "    </tr>\n",
              "    <tr>\n",
              "      <th>3</th>\n",
              "      <td>C1945</td>\n",
              "      <td>755.0</td>\n",
              "      <td>6.0</td>\n",
              "      <td>경기도</td>\n",
              "      <td>734.0</td>\n",
              "      <td>1.0</td>\n",
              "      <td>3.0</td>\n",
              "      <td>730.0</td>\n",
              "    </tr>\n",
              "    <tr>\n",
              "      <th>4</th>\n",
              "      <td>C1470</td>\n",
              "      <td>696.0</td>\n",
              "      <td>14.0</td>\n",
              "      <td>전라북도</td>\n",
              "      <td>645.0</td>\n",
              "      <td>0.0</td>\n",
              "      <td>2.0</td>\n",
              "      <td>553.0</td>\n",
              "    </tr>\n",
              "    <tr>\n",
              "      <th>...</th>\n",
              "      <td>...</td>\n",
              "      <td>...</td>\n",
              "      <td>...</td>\n",
              "      <td>...</td>\n",
              "      <td>...</td>\n",
              "      <td>...</td>\n",
              "      <td>...</td>\n",
              "      <td>...</td>\n",
              "    </tr>\n",
              "    <tr>\n",
              "      <th>418</th>\n",
              "      <td>C2586</td>\n",
              "      <td>90.0</td>\n",
              "      <td>7.0</td>\n",
              "      <td>제주특별자치도</td>\n",
              "      <td>66.0</td>\n",
              "      <td>0.0</td>\n",
              "      <td>3.0</td>\n",
              "      <td>57.0</td>\n",
              "    </tr>\n",
              "    <tr>\n",
              "      <th>419</th>\n",
              "      <td>C2035</td>\n",
              "      <td>492.0</td>\n",
              "      <td>24.0</td>\n",
              "      <td>강원도</td>\n",
              "      <td>521.0</td>\n",
              "      <td>0.0</td>\n",
              "      <td>1.0</td>\n",
              "      <td>246.0</td>\n",
              "    </tr>\n",
              "    <tr>\n",
              "      <th>420</th>\n",
              "      <td>C2020</td>\n",
              "      <td>40.0</td>\n",
              "      <td>7.0</td>\n",
              "      <td>부산광역시</td>\n",
              "      <td>25.0</td>\n",
              "      <td>1.0</td>\n",
              "      <td>2.0</td>\n",
              "      <td>19.0</td>\n",
              "    </tr>\n",
              "    <tr>\n",
              "      <th>421</th>\n",
              "      <td>C2437</td>\n",
              "      <td>90.0</td>\n",
              "      <td>12.0</td>\n",
              "      <td>충청북도</td>\n",
              "      <td>30.0</td>\n",
              "      <td>0.0</td>\n",
              "      <td>1.0</td>\n",
              "      <td>16.0</td>\n",
              "    </tr>\n",
              "    <tr>\n",
              "      <th>422</th>\n",
              "      <td>C2532</td>\n",
              "      <td>239.0</td>\n",
              "      <td>7.0</td>\n",
              "      <td>강원도</td>\n",
              "      <td>166.0</td>\n",
              "      <td>0.0</td>\n",
              "      <td>1.0</td>\n",
              "      <td>146.0</td>\n",
              "    </tr>\n",
              "  </tbody>\n",
              "</table>\n",
              "<p>423 rows × 8 columns</p>\n",
              "</div>"
            ],
            "text/plain": [
              "      단지코드    총세대수  ...  도보 10분거리 내 버스정류장 수   등록차량수\n",
              "0    C2483   900.0  ...                 3.0  1015.0\n",
              "1    C2515   545.0  ...                 3.0   205.0\n",
              "2    C1407  1216.0  ...                 1.0  1064.0\n",
              "3    C1945   755.0  ...                 3.0   730.0\n",
              "4    C1470   696.0  ...                 2.0   553.0\n",
              "..     ...     ...  ...                 ...     ...\n",
              "418  C2586    90.0  ...                 3.0    57.0\n",
              "419  C2035   492.0  ...                 1.0   246.0\n",
              "420  C2020    40.0  ...                 2.0    19.0\n",
              "421  C2437    90.0  ...                 1.0    16.0\n",
              "422  C2532   239.0  ...                 1.0   146.0\n",
              "\n",
              "[423 rows x 8 columns]"
            ]
          },
          "metadata": {
            "tags": []
          },
          "execution_count": 630
        }
      ]
    },
    {
      "cell_type": "code",
      "metadata": {
        "id": "V1XcRJkzYEea"
      },
      "source": [
        "new_train = new_train.merge(data_agg, how='left', on='단지코드')\n",
        "new_test = new_test.merge(data_agg, how='left', on='단지코드')\n",
        "new_train = new_train.merge(data_agg_b, how='left', on='단지코드')\n",
        "new_test = new_test.merge(data_agg_b, how='left', on='단지코드')"
      ],
      "execution_count": 387,
      "outputs": []
    },
    {
      "cell_type": "code",
      "metadata": {
        "id": "tEUc7ksNAuC4"
      },
      "source": [
        "new_train['실거주세대'] = new_train['총세대수'] - new_train['공가수']\n",
        "new_test['실거주세대'] = new_test['총세대수'] - new_test['공가수']"
      ],
      "execution_count": 631,
      "outputs": []
    },
    {
      "cell_type": "code",
      "metadata": {
        "id": "3sQNohftAuHy"
      },
      "source": [
        "new_train['단지내주차면수_bin']=pd.qcut(new_train['단지내주차면수'], 5, labels=['a','b','c','d','e'])\n",
        "new_test['단지내주차면수_bin']=pd.qcut(new_test['단지내주차면수'], 5, labels=['a','b','c','d','e'])"
      ],
      "execution_count": 632,
      "outputs": []
    },
    {
      "cell_type": "code",
      "metadata": {
        "id": "jjJ1y3fQ0WHE"
      },
      "source": [
        "new_train['공실율'] = new_train['공가수']/new_train['총세대수']*100\n",
        "new_test['공실율'] = new_test['공가수']/new_test['총세대수']*100\n",
        "new_train['세대당주차면수'] = new_train['단지내주차면수']/new_train['총세대수']\n",
        "new_test['세대당주차면수'] = new_test['단지내주차면수']/new_test['총세대수']"
      ],
      "execution_count": 633,
      "outputs": []
    },
    {
      "cell_type": "code",
      "metadata": {
        "id": "nYpWKW2qocue"
      },
      "source": [
        "new_train = new_train.merge(data.groupby('단지코드')['공급유형'].value_counts().unstack().fillna(0), how='left', on='단지코드')\n",
        "new_test = new_test.merge(data.groupby('단지코드')['공급유형'].value_counts().unstack().fillna(0), how='left', on='단지코드')"
      ],
      "execution_count": 430,
      "outputs": []
    },
    {
      "cell_type": "code",
      "metadata": {
        "id": "YD5yN1gODneE"
      },
      "source": [
        "new_train = new_train.merge(data.groupby(['단지코드'])['임대건물구분'].value_counts().unstack().fillna(0), how='left', on='단지코드')\n",
        "new_test = new_test.merge(data.groupby(['단지코드'])['임대건물구분'].value_counts().unstack().fillna(0), how='left', on='단지코드')"
      ],
      "execution_count": 413,
      "outputs": []
    },
    {
      "cell_type": "code",
      "metadata": {
        "id": "aKZDxykLg-No"
      },
      "source": [
        "new_train = new_train.merge(data.groupby('단지코드')['전용면적별세대수'].value_counts().unstack().fillna(0), how='left', on='단지코드')\n",
        "new_test = new_test.merge(data.groupby('단지코드')['전용면적별세대수'].value_counts().unstack().fillna(0), how='left', on='단지코드')"
      ],
      "execution_count": 180,
      "outputs": []
    },
    {
      "cell_type": "code",
      "metadata": {
        "id": "IWNx4WJ3m0Wd"
      },
      "source": [
        "# info 병합하는 셀\n",
        "new_train = new_train.merge(info, how='left', on='지역')\n",
        "new_test = new_test.merge(info, how='left', on='지역')"
      ],
      "execution_count": null,
      "outputs": []
    },
    {
      "cell_type": "code",
      "metadata": {
        "colab": {
          "base_uri": "https://localhost:8080/"
        },
        "id": "E7_Y0hejZsfb",
        "outputId": "bd691fdb-6ada-4111-a4d1-b9998b216924"
      },
      "source": [
        "corr_matrix = new_train.corr()\n",
        "\n",
        "upper = corr_matrix.where(np.triu(np.ones(corr_matrix.shape), k=1).astype(np.bool))\n",
        "\n",
        "to_drop = [c for c in upper.columns if any(abs(upper[c]) > 0.9)]\n",
        "\n",
        "print(f'There are {len(new_train.columns)} columns but {len(to_drop)} corr columns to remove')"
      ],
      "execution_count": 634,
      "outputs": [
        {
          "output_type": "stream",
          "text": [
            "There are 12 columns but 1 corr columns to remove\n"
          ],
          "name": "stdout"
        }
      ]
    },
    {
      "cell_type": "code",
      "metadata": {
        "id": "3lOCj2ZEZ2i3"
      },
      "source": [
        "new_train = new_train.drop(columns=to_drop)\n",
        "new_test = new_test.drop(columns=to_drop)"
      ],
      "execution_count": 392,
      "outputs": []
    },
    {
      "cell_type": "code",
      "metadata": {
        "colab": {
          "base_uri": "https://localhost:8080/"
        },
        "id": "m630XmpjaS1f",
        "outputId": "7851357a-9d19-4de7-f34f-0e68e127728b"
      },
      "source": [
        "new_train.isnull().sum()"
      ],
      "execution_count": 110,
      "outputs": [
        {
          "output_type": "execute_result",
          "data": {
            "text/plain": [
              "단지코드                            0\n",
              "총세대수                            0\n",
              "공가수                             0\n",
              "지역                              0\n",
              "단지내주차면수                         0\n",
              "도보 10분거리 내 지하철역 수(환승노선 수 반영)    0\n",
              "도보 10분거리 내 버스정류장 수              0\n",
              "등록차량수                           0\n",
              "공실율                             0\n",
              "세대당주차면수                         0\n",
              "공공분양                            0\n",
              "공공임대(10년)                       0\n",
              "공공임대(50년)                       0\n",
              "공공임대(5년)                        0\n",
              "공공임대(분납)                        0\n",
              "국민임대                            0\n",
              "영구임대                            0\n",
              "임대상가                            0\n",
              "장기전세                            0\n",
              "행복주택                            0\n",
              "아파트                             0\n",
              "dtype: int64"
            ]
          },
          "metadata": {
            "tags": []
          },
          "execution_count": 110
        }
      ]
    },
    {
      "cell_type": "code",
      "metadata": {
        "id": "rsmaMz4wFY3Y"
      },
      "source": [
        "new_train = pd.get_dummies(new_train, columns=['단지내주차면수_bin'])\n",
        "new_test = pd.get_dummies(new_test, columns=['단지내주차면수_bin'])"
      ],
      "execution_count": 636,
      "outputs": []
    },
    {
      "cell_type": "code",
      "metadata": {
        "id": "9Vye1pDEZRQ5"
      },
      "source": [
        "from sklearn.impute import SimpleImputer\n",
        "\n",
        "for i in new_train.columns:\n",
        "  if new_train[i].dtype == 'object':\n",
        "    continue\n",
        "  new_train[i] = new_train[i].fillna(new_train[i].median())"
      ],
      "execution_count": 637,
      "outputs": []
    },
    {
      "cell_type": "code",
      "metadata": {
        "id": "YVXB9mWfc46u"
      },
      "source": [
        "for i in new_test.columns:\n",
        "  if new_test[i].dtype == 'object':\n",
        "    continue\n",
        "  new_test[i] = new_test[i].fillna(new_test[i].median())"
      ],
      "execution_count": 638,
      "outputs": []
    },
    {
      "cell_type": "code",
      "metadata": {
        "id": "3PeQq2uJy0CM"
      },
      "source": [
        "x_train = new_train.drop(columns=['단지코드', '등록차량수'])\n",
        "y_train = new_train['등록차량수']\n",
        "x_test = new_test.drop(columns=['단지코드'])"
      ],
      "execution_count": 639,
      "outputs": []
    },
    {
      "cell_type": "code",
      "metadata": {
        "id": "FbVBzqwl9736"
      },
      "source": [
        "from sklearn.preprocessing import robust_scale\n",
        "x_train_col = x_train.columns\n",
        "\n",
        "for i in x_train.columns:\n",
        "  if x_train[i].dtype=='object':\n",
        "    continue\n",
        "  x_train[i] = robust_scale(x_train[i])\n",
        "\n",
        "for i in x_test.columns:\n",
        "  if x_test[i].dtype=='object':\n",
        "    continue\n",
        "  x_test[i] = robust_scale(x_test[i])"
      ],
      "execution_count": 640,
      "outputs": []
    },
    {
      "cell_type": "code",
      "metadata": {
        "id": "mRaWsbbmqMWt"
      },
      "source": [
        "# feature selection\n",
        "x_train = new_train.drop(columns=['단지코드', '등록차량수', '면적_100.0', '면적_75.0', '면적_15.0', '면적_40.0', '면적_60.0', '면적_65.0'])\n",
        "y_train = new_train['등록차량수']\n",
        "x_test = new_test.drop(columns=['단지코드', '면적_100.0', '면적_75.0', '면적_15.0', '면적_40.0', '면적_60.0', '면적_65.0'])"
      ],
      "execution_count": null,
      "outputs": []
    },
    {
      "cell_type": "code",
      "metadata": {
        "colab": {
          "base_uri": "https://localhost:8080/"
        },
        "id": "GGPLct-Ms8rW",
        "outputId": "adc092cb-ae3c-4b13-9c02-fd1e6742fb0c"
      },
      "source": [
        "pip install catboost"
      ],
      "execution_count": 35,
      "outputs": [
        {
          "output_type": "stream",
          "text": [
            "Collecting catboost\n",
            "\u001b[?25l  Downloading https://files.pythonhosted.org/packages/5a/41/24e14322b9986cf72a8763e0a0a69cc256cf963cf9502c8f0044a62c1ae8/catboost-0.26-cp37-none-manylinux1_x86_64.whl (69.2MB)\n",
            "\u001b[K     |████████████████████████████████| 69.2MB 44kB/s \n",
            "\u001b[?25hRequirement already satisfied: scipy in /usr/local/lib/python3.7/dist-packages (from catboost) (1.4.1)\n",
            "Requirement already satisfied: graphviz in /usr/local/lib/python3.7/dist-packages (from catboost) (0.10.1)\n",
            "Requirement already satisfied: pandas>=0.24.0 in /usr/local/lib/python3.7/dist-packages (from catboost) (1.1.5)\n",
            "Requirement already satisfied: plotly in /usr/local/lib/python3.7/dist-packages (from catboost) (4.4.1)\n",
            "Requirement already satisfied: matplotlib in /usr/local/lib/python3.7/dist-packages (from catboost) (3.2.2)\n",
            "Requirement already satisfied: numpy>=1.16.0 in /usr/local/lib/python3.7/dist-packages (from catboost) (1.19.5)\n",
            "Requirement already satisfied: six in /usr/local/lib/python3.7/dist-packages (from catboost) (1.15.0)\n",
            "Requirement already satisfied: pytz>=2017.2 in /usr/local/lib/python3.7/dist-packages (from pandas>=0.24.0->catboost) (2018.9)\n",
            "Requirement already satisfied: python-dateutil>=2.7.3 in /usr/local/lib/python3.7/dist-packages (from pandas>=0.24.0->catboost) (2.8.1)\n",
            "Requirement already satisfied: retrying>=1.3.3 in /usr/local/lib/python3.7/dist-packages (from plotly->catboost) (1.3.3)\n",
            "Requirement already satisfied: cycler>=0.10 in /usr/local/lib/python3.7/dist-packages (from matplotlib->catboost) (0.10.0)\n",
            "Requirement already satisfied: kiwisolver>=1.0.1 in /usr/local/lib/python3.7/dist-packages (from matplotlib->catboost) (1.3.1)\n",
            "Requirement already satisfied: pyparsing!=2.0.4,!=2.1.2,!=2.1.6,>=2.0.1 in /usr/local/lib/python3.7/dist-packages (from matplotlib->catboost) (2.4.7)\n",
            "Installing collected packages: catboost\n",
            "Successfully installed catboost-0.26\n"
          ],
          "name": "stdout"
        }
      ]
    },
    {
      "cell_type": "code",
      "metadata": {
        "id": "2nBtbKgUs_Gb"
      },
      "source": [
        "import catboost\n",
        "from sklearn.model_selection import KFold, StratifiedKFold\n",
        "from sklearn.metrics import mean_absolute_error\n",
        "import lightgbm\n",
        "import xgboost"
      ],
      "execution_count": 133,
      "outputs": []
    },
    {
      "cell_type": "code",
      "metadata": {
        "colab": {
          "base_uri": "https://localhost:8080/"
        },
        "id": "IVO6pxhhtRyN",
        "outputId": "642518ef-f49c-4059-c45b-f6551c7b954d"
      },
      "source": [
        "skf = StratifiedKFold(n_splits=5, shuffle=True, random_state=42)\n",
        "kf = KFold(n_splits=10, shuffle=True, random_state=42)\n",
        "preds_test_cat = np.zeros((len(x_test)))\n",
        "cat_features = []\n",
        "for i in x_train.columns:\n",
        "  if x_train[i].dtype=='float':\n",
        "    continue\n",
        "  elif x_train[i].dtype=='int':\n",
        "    continue\n",
        "  cat_features.append(i)\n",
        "\n",
        "for i,(train_index, valid_index) in enumerate(kf.split(x_train, y_train)):\n",
        "  X_train, X_valid = x_train.iloc[train_index], x_train.iloc[valid_index]\n",
        "  Y_train, Y_valid = y_train.iloc[train_index], y_train.iloc[valid_index]\n",
        "\n",
        "  model_cat = catboost.CatBoostRegressor(learning_rate=0.022, loss_function='MAE', eval_metric='MAE', n_estimators=3000, cat_features=cat_features, use_best_model=True)\n",
        "  model_cat.fit(X_train, Y_train, eval_set=[(X_train, Y_train), (X_valid, Y_valid)], verbose=100, early_stopping_rounds=50)\n",
        "\n",
        "  preds_test_cat = model_cat.predict(x_test)\n",
        "  preds_val = model_cat.predict(X_valid)"
      ],
      "execution_count": 641,
      "outputs": [
        {
          "output_type": "stream",
          "text": [
            "0:\tlearn: 289.4043569\ttest: 289.4043569\ttest1: 253.3093013\tbest: 253.3093013 (0)\ttotal: 3.1ms\tremaining: 9.29s\n",
            "100:\tlearn: 130.8998514\ttest: 133.2414772\ttest1: 125.8787683\tbest: 125.6067621 (99)\ttotal: 257ms\tremaining: 7.38s\n",
            "Stopped by overfitting detector  (50 iterations wait)\n",
            "\n",
            "bestTest = 122.0208168\n",
            "bestIteration = 141\n",
            "\n",
            "Shrink model to first 142 iterations.\n",
            "0:\tlearn: 279.1486201\ttest: 279.1486201\ttest1: 344.0647897\tbest: 344.0647897 (0)\ttotal: 2.65ms\tremaining: 7.95s\n",
            "100:\tlearn: 127.4200103\ttest: 129.4150028\ttest1: 218.2404146\tbest: 218.2404146 (100)\ttotal: 238ms\tremaining: 6.84s\n",
            "200:\tlearn: 104.8486644\ttest: 109.0301639\ttest1: 201.4170485\tbest: 201.4170485 (200)\ttotal: 482ms\tremaining: 6.71s\n",
            "300:\tlearn: 90.6174565\ttest: 96.9140504\ttest1: 187.6454171\tbest: 187.6454171 (300)\ttotal: 736ms\tremaining: 6.59s\n",
            "400:\tlearn: 79.0925251\ttest: 87.3365303\ttest1: 180.3431440\tbest: 180.3431440 (400)\ttotal: 977ms\tremaining: 6.33s\n",
            "500:\tlearn: 68.8783167\ttest: 78.4680473\ttest1: 174.8925075\tbest: 174.8925075 (500)\ttotal: 1.22s\tremaining: 6.08s\n",
            "600:\tlearn: 61.7933812\ttest: 72.7250042\ttest1: 170.9662392\tbest: 170.8967903 (594)\ttotal: 1.48s\tremaining: 5.92s\n",
            "700:\tlearn: 56.6217629\ttest: 68.2891027\ttest1: 169.2613429\tbest: 169.2452751 (696)\ttotal: 1.73s\tremaining: 5.67s\n",
            "800:\tlearn: 52.3555168\ttest: 64.8471407\ttest1: 168.0687226\tbest: 167.8855626 (793)\ttotal: 1.98s\tremaining: 5.43s\n",
            "Stopped by overfitting detector  (50 iterations wait)\n",
            "\n",
            "bestTest = 167.8855626\n",
            "bestIteration = 793\n",
            "\n",
            "Shrink model to first 794 iterations.\n",
            "0:\tlearn: 282.6890306\ttest: 282.6890306\ttest1: 311.8344176\tbest: 311.8344176 (0)\ttotal: 2.72ms\tremaining: 8.17s\n",
            "100:\tlearn: 134.0023170\ttest: 136.2604388\ttest1: 145.5679496\tbest: 145.5679496 (100)\ttotal: 258ms\tremaining: 7.41s\n",
            "200:\tlearn: 109.9385289\ttest: 113.7124994\ttest1: 120.5481059\tbest: 120.5481059 (200)\ttotal: 499ms\tremaining: 6.95s\n",
            "300:\tlearn: 94.5033574\ttest: 100.1990053\ttest1: 110.7411214\tbest: 110.7411214 (300)\ttotal: 735ms\tremaining: 6.59s\n",
            "400:\tlearn: 82.7677374\ttest: 90.2683148\ttest1: 105.3487598\tbest: 105.3487598 (400)\ttotal: 975ms\tremaining: 6.32s\n",
            "500:\tlearn: 74.0748334\ttest: 82.9065100\ttest1: 102.2957029\tbest: 102.1715500 (498)\ttotal: 1.22s\tremaining: 6.11s\n",
            "600:\tlearn: 66.7716450\ttest: 76.9494356\ttest1: 99.7579280\tbest: 99.5261942 (581)\ttotal: 1.47s\tremaining: 5.85s\n",
            "Stopped by overfitting detector  (50 iterations wait)\n",
            "\n",
            "bestTest = 99.52619416\n",
            "bestIteration = 581\n",
            "\n",
            "Shrink model to first 582 iterations.\n",
            "0:\tlearn: 283.0990856\ttest: 283.0990856\ttest1: 309.9944276\tbest: 309.9944276 (0)\ttotal: 2.79ms\tremaining: 8.36s\n",
            "100:\tlearn: 126.2810560\ttest: 129.0105261\ttest1: 192.1516395\tbest: 192.1516395 (100)\ttotal: 236ms\tremaining: 6.76s\n",
            "200:\tlearn: 99.8704348\ttest: 105.7837362\ttest1: 182.8440202\tbest: 182.7737854 (199)\ttotal: 485ms\tremaining: 6.76s\n",
            "300:\tlearn: 86.7488996\ttest: 94.3695140\ttest1: 179.1868806\tbest: 178.6728348 (283)\ttotal: 718ms\tremaining: 6.44s\n",
            "400:\tlearn: 75.5527473\ttest: 84.6252323\ttest1: 178.3012878\tbest: 177.6097883 (356)\ttotal: 958ms\tremaining: 6.21s\n",
            "Stopped by overfitting detector  (50 iterations wait)\n",
            "\n",
            "bestTest = 177.6097883\n",
            "bestIteration = 356\n",
            "\n",
            "Shrink model to first 357 iterations.\n",
            "0:\tlearn: 283.5423350\ttest: 283.5423350\ttest1: 304.9900466\tbest: 304.9900466 (0)\ttotal: 2.7ms\tremaining: 8.09s\n",
            "100:\tlearn: 126.3664902\ttest: 130.1999188\ttest1: 137.5025860\tbest: 137.5025860 (100)\ttotal: 244ms\tremaining: 6.99s\n",
            "200:\tlearn: 103.3762178\ttest: 109.2210501\ttest1: 121.0134529\tbest: 121.0134529 (200)\ttotal: 493ms\tremaining: 6.86s\n",
            "300:\tlearn: 87.6515670\ttest: 96.0066724\ttest1: 115.6590873\tbest: 115.4059943 (296)\ttotal: 739ms\tremaining: 6.63s\n",
            "Stopped by overfitting detector  (50 iterations wait)\n",
            "\n",
            "bestTest = 114.364241\n",
            "bestIteration = 319\n",
            "\n",
            "Shrink model to first 320 iterations.\n",
            "0:\tlearn: 281.4906132\ttest: 281.4906132\ttest1: 320.2043800\tbest: 320.2043800 (0)\ttotal: 3.48ms\tremaining: 10.4s\n",
            "100:\tlearn: 131.6971174\ttest: 133.4697267\ttest1: 159.1258841\tbest: 159.1258841 (100)\ttotal: 239ms\tremaining: 6.85s\n",
            "200:\tlearn: 106.2157590\ttest: 110.8658544\ttest1: 136.8707762\tbest: 136.8124832 (199)\ttotal: 488ms\tremaining: 6.79s\n",
            "300:\tlearn: 91.5024339\ttest: 99.1906591\ttest1: 130.9458300\tbest: 130.7096979 (291)\ttotal: 718ms\tremaining: 6.44s\n",
            "400:\tlearn: 78.0723518\ttest: 87.9223525\ttest1: 124.7313439\tbest: 124.7313439 (400)\ttotal: 960ms\tremaining: 6.22s\n",
            "500:\tlearn: 69.7118218\ttest: 81.9706404\ttest1: 121.8815890\tbest: 121.8815890 (500)\ttotal: 1.2s\tremaining: 6.01s\n",
            "600:\tlearn: 62.5528459\ttest: 76.5067716\ttest1: 119.8178001\tbest: 119.7761249 (598)\ttotal: 1.46s\tremaining: 5.82s\n",
            "700:\tlearn: 57.5090798\ttest: 72.6176692\ttest1: 118.5556525\tbest: 118.2379857 (679)\ttotal: 1.7s\tremaining: 5.58s\n",
            "Stopped by overfitting detector  (50 iterations wait)\n",
            "\n",
            "bestTest = 118.2379857\n",
            "bestIteration = 679\n",
            "\n",
            "Shrink model to first 680 iterations.\n",
            "0:\tlearn: 293.3612326\ttest: 293.3612326\ttest1: 210.7754752\tbest: 210.7754752 (0)\ttotal: 2.69ms\tremaining: 8.07s\n",
            "100:\tlearn: 129.9860922\ttest: 131.4691116\ttest1: 136.1401165\tbest: 134.3419305 (81)\ttotal: 246ms\tremaining: 7.05s\n",
            "Stopped by overfitting detector  (50 iterations wait)\n",
            "\n",
            "bestTest = 134.3419305\n",
            "bestIteration = 81\n",
            "\n",
            "Shrink model to first 82 iterations.\n",
            "0:\tlearn: 290.2967077\ttest: 290.2967077\ttest1: 241.4536181\tbest: 241.4536181 (0)\ttotal: 2.79ms\tremaining: 8.37s\n",
            "100:\tlearn: 127.6771414\ttest: 131.6551560\ttest1: 130.1667817\tbest: 129.7760048 (77)\ttotal: 251ms\tremaining: 7.19s\n",
            "200:\tlearn: 103.4167621\ttest: 108.6634382\ttest1: 129.1925624\tbest: 129.0894158 (198)\ttotal: 490ms\tremaining: 6.82s\n",
            "Stopped by overfitting detector  (50 iterations wait)\n",
            "\n",
            "bestTest = 127.9090708\n",
            "bestIteration = 220\n",
            "\n",
            "Shrink model to first 221 iterations.\n",
            "0:\tlearn: 287.6171014\ttest: 287.6171014\ttest1: 267.0809990\tbest: 267.0809990 (0)\ttotal: 5.79ms\tremaining: 17.4s\n",
            "100:\tlearn: 131.1452421\ttest: 134.2762616\ttest1: 120.4158005\tbest: 120.4158005 (100)\ttotal: 247ms\tremaining: 7.1s\n",
            "Stopped by overfitting detector  (50 iterations wait)\n",
            "\n",
            "bestTest = 117.553051\n",
            "bestIteration = 127\n",
            "\n",
            "Shrink model to first 128 iterations.\n",
            "0:\tlearn: 284.4217576\ttest: 284.4217576\ttest1: 296.8962847\tbest: 296.8962847 (0)\ttotal: 2.79ms\tremaining: 8.38s\n",
            "100:\tlearn: 130.5008293\ttest: 133.0858161\ttest1: 149.6125283\tbest: 149.6125283 (100)\ttotal: 270ms\tremaining: 7.76s\n",
            "200:\tlearn: 103.9625340\ttest: 109.8707452\ttest1: 138.3443354\tbest: 138.3443354 (200)\ttotal: 507ms\tremaining: 7.06s\n",
            "300:\tlearn: 89.3285885\ttest: 98.1083644\ttest1: 136.0635072\tbest: 136.0635072 (300)\ttotal: 753ms\tremaining: 6.75s\n",
            "Stopped by overfitting detector  (50 iterations wait)\n",
            "\n",
            "bestTest = 135.6347756\n",
            "bestIteration = 315\n",
            "\n",
            "Shrink model to first 316 iterations.\n"
          ],
          "name": "stdout"
        }
      ]
    },
    {
      "cell_type": "code",
      "metadata": {
        "colab": {
          "base_uri": "https://localhost:8080/",
          "height": 358
        },
        "id": "hMh4lUAeKkaa",
        "outputId": "9ab7519b-708c-48d7-c3a4-e9a1c2b444bb"
      },
      "source": [
        "fig, ax = plt.subplots(figsize=(8,5))\n",
        "ax.plot(pd.Series(preds_val, index=Y_valid.index), label='Preds_Valid')\n",
        "ax.plot(Y_valid, label='Y_Valid')\n",
        "ax.legend()\n",
        "ax.set_title('preds vs y', fontsize=18, fontweight='bold')"
      ],
      "execution_count": 642,
      "outputs": [
        {
          "output_type": "execute_result",
          "data": {
            "text/plain": [
              "Text(0.5, 1.0, 'preds vs y')"
            ]
          },
          "metadata": {
            "tags": []
          },
          "execution_count": 642
        },
        {
          "output_type": "display_data",
          "data": {
            "image/png": "[encoded data removed]",
            "text/plain": [
              "<Figure size 576x360 with 1 Axes>"
            ]
          },
          "metadata": {
            "tags": [],
            "needs_background": "light"
          }
        }
      ]
    },
    {
      "cell_type": "code",
      "metadata": {
        "colab": {
          "base_uri": "https://localhost:8080/"
        },
        "id": "a15LWCQqlifR",
        "outputId": "6e0d83d5-7b7b-4be3-a518-98127fba8ca5"
      },
      "source": [
        "pd.Series(model_cat.feature_importances_, index=x_train.columns).sort_values(ascending=False)"
      ],
      "execution_count": 643,
      "outputs": [
        {
          "output_type": "execute_result",
          "data": {
            "text/plain": [
              "단지내주차면수                         28.059166\n",
              "지역                              14.154046\n",
              "세대당주차면수                         12.692548\n",
              "실거주세대                            8.076378\n",
              "공실율                              7.845995\n",
              "단지내주차면수_bin_e                    7.190807\n",
              "공가수                              5.388414\n",
              "도보 10분거리 내 버스정류장 수               5.230606\n",
              "총세대수                             4.481146\n",
              "단지내주차면수_bin_a                    2.139421\n",
              "도보 10분거리 내 지하철역 수(환승노선 수 반영)     1.789620\n",
              "단지내주차면수_bin_c                    1.175950\n",
              "단지내주차면수_bin_d                    1.005903\n",
              "단지내주차면수_bin_b                    0.770001\n",
              "dtype: float64"
            ]
          },
          "metadata": {
            "tags": []
          },
          "execution_count": 643
        }
      ]
    },
    {
      "cell_type": "code",
      "metadata": {
        "id": "qMM-B-I_ds2R"
      },
      "source": [
        "# lgbm으로 모델링\n",
        "local_map = {}\n",
        "for i, loc in enumerate(new_train['지역'].unique()):\n",
        "    local_map[loc] = i\n",
        "\n",
        "new_train['지역'] = new_train['지역'].map(local_map)\n",
        "new_test['지역'] = new_test['지역'].map(local_map)\n",
        "\n",
        "\n",
        "x_train = new_train.drop(columns=['단지코드', '등록차량수'])\n",
        "y_train = new_train['등록차량수']\n",
        "x_test = new_test.drop(columns=['단지코드'])"
      ],
      "execution_count": 646,
      "outputs": []
    },
    {
      "cell_type": "code",
      "metadata": {
        "colab": {
          "base_uri": "https://localhost:8080/"
        },
        "id": "3XH-iCNkeKHf",
        "outputId": "4d1b20bb-82f5-4bef-b7f0-1c61a25bc876"
      },
      "source": [
        "x_train.shape, x_test.shape"
      ],
      "execution_count": 647,
      "outputs": [
        {
          "output_type": "execute_result",
          "data": {
            "text/plain": [
              "((423, 14), (150, 14))"
            ]
          },
          "metadata": {
            "tags": []
          },
          "execution_count": 647
        }
      ]
    },
    {
      "cell_type": "code",
      "metadata": {
        "colab": {
          "base_uri": "https://localhost:8080/"
        },
        "id": "BuC6WWnIdpYo",
        "outputId": "9fa4b90a-418a-41c8-e85b-0c4a9560795f"
      },
      "source": [
        "skf = StratifiedKFold(n_splits=5, shuffle=True, random_state=42)\n",
        "preds_test_lgbm = np.zeros((len(x_test)))\n",
        "param_lgbm = {'learning_rate':0.026, 'objective':'MAE'}\n",
        "\n",
        "for i,(train_index, valid_index) in enumerate(kf.split(x_train, y_train)):\n",
        "  X_train, X_valid = x_train.iloc[train_index], x_train.iloc[valid_index]\n",
        "  Y_train, Y_valid = y_train.iloc[train_index], y_train.iloc[valid_index]\n",
        "\n",
        "  model_lgbm = lightgbm.LGBMRegressor(n_estimators=3000, **param_lgbm)\n",
        "  model_lgbm.fit(X_train, Y_train, eval_set=[(X_train, Y_train), (X_valid, Y_valid)], verbose=100, early_stopping_rounds=70, eval_metric='MAE')\n",
        "\n",
        "  preds_test_lgbm = model_lgbm.predict(x_test)\n",
        "  preds_valid = model_lgbm.predict(X_valid)"
      ],
      "execution_count": 648,
      "outputs": [
        {
          "output_type": "stream",
          "text": [
            "Training until validation scores don't improve for 70 rounds.\n",
            "[100]\ttraining's l1: 113.446\tvalid_1's l1: 143.247\n",
            "Early stopping, best iteration is:\n",
            "[55]\ttraining's l1: 140.259\tvalid_1's l1: 140.399\n",
            "Training until validation scores don't improve for 70 rounds.\n",
            "[100]\ttraining's l1: 109.65\tvalid_1's l1: 197.199\n",
            "[200]\ttraining's l1: 94.1268\tvalid_1's l1: 181.341\n",
            "[300]\ttraining's l1: 88.0527\tvalid_1's l1: 179.368\n",
            "[400]\ttraining's l1: 84.0025\tvalid_1's l1: 178.749\n",
            "Early stopping, best iteration is:\n",
            "[419]\ttraining's l1: 83.4815\tvalid_1's l1: 178.525\n",
            "Training until validation scores don't improve for 70 rounds.\n",
            "[100]\ttraining's l1: 117.094\tvalid_1's l1: 115.065\n",
            "[200]\ttraining's l1: 98.8562\tvalid_1's l1: 99.4505\n",
            "[300]\ttraining's l1: 91.6688\tvalid_1's l1: 98.223\n",
            "[400]\ttraining's l1: 87.4026\tvalid_1's l1: 97.1426\n",
            "[500]\ttraining's l1: 84.258\tvalid_1's l1: 94.5829\n",
            "[600]\ttraining's l1: 82.1292\tvalid_1's l1: 93.7209\n",
            "[700]\ttraining's l1: 80.5141\tvalid_1's l1: 93.2372\n",
            "[800]\ttraining's l1: 79.1083\tvalid_1's l1: 93.1215\n",
            "[900]\ttraining's l1: 78.1066\tvalid_1's l1: 92.7653\n",
            "Early stopping, best iteration is:\n",
            "[917]\ttraining's l1: 77.9481\tvalid_1's l1: 92.6998\n",
            "Training until validation scores don't improve for 70 rounds.\n",
            "[100]\ttraining's l1: 109.975\tvalid_1's l1: 180.091\n",
            "[200]\ttraining's l1: 91.0457\tvalid_1's l1: 167.883\n",
            "Early stopping, best iteration is:\n",
            "[191]\ttraining's l1: 91.9452\tvalid_1's l1: 167.579\n",
            "Training until validation scores don't improve for 70 rounds.\n",
            "[100]\ttraining's l1: 115.872\tvalid_1's l1: 129.806\n",
            "[200]\ttraining's l1: 98.7068\tvalid_1's l1: 125.079\n",
            "[300]\ttraining's l1: 92.0554\tvalid_1's l1: 124.223\n",
            "Early stopping, best iteration is:\n",
            "[260]\ttraining's l1: 94.2693\tvalid_1's l1: 123.9\n",
            "Training until validation scores don't improve for 70 rounds.\n",
            "[100]\ttraining's l1: 111.738\tvalid_1's l1: 143.265\n",
            "[200]\ttraining's l1: 94.3803\tvalid_1's l1: 130.908\n",
            "[300]\ttraining's l1: 87.8555\tvalid_1's l1: 129.916\n",
            "[400]\ttraining's l1: 83.798\tvalid_1's l1: 128.701\n",
            "[500]\ttraining's l1: 81.1139\tvalid_1's l1: 127.922\n",
            "[600]\ttraining's l1: 78.9151\tvalid_1's l1: 127.851\n",
            "[700]\ttraining's l1: 77.2344\tvalid_1's l1: 128.014\n",
            "Early stopping, best iteration is:\n",
            "[638]\ttraining's l1: 78.1697\tvalid_1's l1: 127.653\n",
            "Training until validation scores don't improve for 70 rounds.\n",
            "[100]\ttraining's l1: 114.176\tvalid_1's l1: 136.655\n",
            "Early stopping, best iteration is:\n",
            "[122]\ttraining's l1: 106.508\tvalid_1's l1: 134.374\n",
            "Training until validation scores don't improve for 70 rounds.\n",
            "[100]\ttraining's l1: 111.763\tvalid_1's l1: 137.12\n",
            "[200]\ttraining's l1: 93.7308\tvalid_1's l1: 134.678\n",
            "[300]\ttraining's l1: 87.3586\tvalid_1's l1: 134.012\n",
            "[400]\ttraining's l1: 83.6497\tvalid_1's l1: 133.306\n",
            "Early stopping, best iteration is:\n",
            "[383]\ttraining's l1: 84.2515\tvalid_1's l1: 133.22\n",
            "Training until validation scores don't improve for 70 rounds.\n",
            "[100]\ttraining's l1: 110.887\tvalid_1's l1: 130.641\n",
            "Early stopping, best iteration is:\n",
            "[81]\ttraining's l1: 120.299\tvalid_1's l1: 128.744\n",
            "Training until validation scores don't improve for 70 rounds.\n",
            "[100]\ttraining's l1: 110.155\tvalid_1's l1: 150.175\n",
            "[200]\ttraining's l1: 93.2815\tvalid_1's l1: 147.978\n",
            "Early stopping, best iteration is:\n",
            "[135]\ttraining's l1: 101.017\tvalid_1's l1: 147.628\n"
          ],
          "name": "stdout"
        }
      ]
    },
    {
      "cell_type": "code",
      "metadata": {
        "colab": {
          "base_uri": "https://localhost:8080/"
        },
        "id": "zZvOmGgWBkAP",
        "outputId": "b08429c3-2973-4db4-ce9f-3476ee8bd7fc"
      },
      "source": [
        "lgbm_importance = pd.Series(model_lgbm.feature_importances_, index=x_train.columns).sort_values(ascending=False)\n",
        "feature_selection_lgbm = lgbm_importance.loc[lgbm_importance<1].T\n",
        "lgbm_importance"
      ],
      "execution_count": 649,
      "outputs": [
        {
          "output_type": "execute_result",
          "data": {
            "text/plain": [
              "단지내주차면수                         459\n",
              "세대당주차면수                         399\n",
              "공실율                             317\n",
              "총세대수                            155\n",
              "지역                              153\n",
              "공가수                             139\n",
              "실거주세대                            90\n",
              "도보 10분거리 내 버스정류장 수               72\n",
              "도보 10분거리 내 지하철역 수(환승노선 수 반영)     29\n",
              "단지내주차면수_bin_d                     3\n",
              "단지내주차면수_bin_c                     3\n",
              "단지내주차면수_bin_b                     2\n",
              "단지내주차면수_bin_e                     0\n",
              "단지내주차면수_bin_a                     0\n",
              "dtype: int64"
            ]
          },
          "metadata": {
            "tags": []
          },
          "execution_count": 649
        }
      ]
    },
    {
      "cell_type": "code",
      "metadata": {
        "colab": {
          "base_uri": "https://localhost:8080/",
          "height": 358
        },
        "id": "5Pwed46GxB_G",
        "outputId": "1045a999-5178-482c-dd54-1ecbae82502d"
      },
      "source": [
        "fig, ax = plt.subplots(figsize=(8,5))\n",
        "ax.plot(pd.Series(preds_valid, index=Y_valid.index), label='Preds_Valid')\n",
        "ax.plot(Y_valid, label='Y_Valid')\n",
        "ax.legend()\n",
        "ax.set_title('preds vs y', fontsize=18, fontweight='bold')"
      ],
      "execution_count": 650,
      "outputs": [
        {
          "output_type": "execute_result",
          "data": {
            "text/plain": [
              "Text(0.5, 1.0, 'preds vs y')"
            ]
          },
          "metadata": {
            "tags": []
          },
          "execution_count": 650
        },
        {
          "output_type": "display_data",
          "data": {
            "image/png": "[encoded data removed]",
            "text/plain": [
              "<Figure size 576x360 with 1 Axes>"
            ]
          },
          "metadata": {
            "tags": [],
            "needs_background": "light"
          }
        }
      ]
    },
    {
      "cell_type": "code",
      "metadata": {
        "colab": {
          "base_uri": "https://localhost:8080/"
        },
        "id": "H-IQ8pTvl5I0",
        "outputId": "bcf12692-1664-4c54-e68c-6163b3b7d8c8"
      },
      "source": [
        "skf = StratifiedKFold(n_splits=5, shuffle=True, random_state=42)\n",
        "preds_test_xgb = np.zeros((len(x_test)))\n",
        "param_xgb = {'learning_rate':0.026}\n",
        "\n",
        "for i,(train_index, valid_index) in enumerate(skf.split(x_train, y_train)):\n",
        "  X_train, X_valid = x_train.iloc[train_index], x_train.iloc[valid_index]\n",
        "  Y_train, Y_valid = y_train.iloc[train_index], y_train.iloc[valid_index]\n",
        "\n",
        "  model_xgb = xgboost.XGBRegressor(n_estimators=3000, **param_xgb)\n",
        "  model_xgb.fit(X_train, Y_train, eval_set=[(X_train, Y_train), (X_valid, Y_valid)], verbose=100, early_stopping_rounds=70, eval_metric='mae')\n",
        "\n",
        "  preds_test_xgb = model_xgb.predict(x_test)\n",
        "  preds_valid = model_xgb.predict(X_valid)"
      ],
      "execution_count": 614,
      "outputs": [
        {
          "output_type": "stream",
          "text": [
            "[08:18:45] WARNING: /workspace/src/objective/regression_obj.cu:152: reg:linear is now deprecated in favor of reg:squarederror.\n",
            "[0]\tvalidation_0-mae:559.005\tvalidation_1-mae:551.693\n",
            "Multiple eval metrics have been passed: 'validation_1-mae' will be used for early stopping.\n",
            "\n",
            "Will train until validation_1-mae hasn't improved in 70 rounds.\n",
            "[100]\tvalidation_0-mae:103.778\tvalidation_1-mae:143.766\n",
            "[200]\tvalidation_0-mae:77.3702\tvalidation_1-mae:128.52\n",
            "[300]\tvalidation_0-mae:68.6486\tvalidation_1-mae:126.236\n",
            "[400]\tvalidation_0-mae:62.5191\tvalidation_1-mae:126.237\n",
            "Stopping. Best iteration:\n",
            "[354]\tvalidation_0-mae:65.3654\tvalidation_1-mae:125.841\n",
            "\n",
            "[08:18:45] WARNING: /workspace/src/objective/regression_obj.cu:152: reg:linear is now deprecated in favor of reg:squarederror.\n",
            "[0]\tvalidation_0-mae:555.92\tvalidation_1-mae:562.754\n",
            "Multiple eval metrics have been passed: 'validation_1-mae' will be used for early stopping.\n",
            "\n",
            "Will train until validation_1-mae hasn't improved in 70 rounds.\n",
            "[100]\tvalidation_0-mae:103.887\tvalidation_1-mae:131.725\n",
            "[200]\tvalidation_0-mae:77.8211\tvalidation_1-mae:126.948\n",
            "Stopping. Best iteration:\n",
            "[185]\tvalidation_0-mae:79.7517\tvalidation_1-mae:126.903\n",
            "\n",
            "[08:18:46] WARNING: /workspace/src/objective/regression_obj.cu:152: reg:linear is now deprecated in favor of reg:squarederror.\n",
            "[0]\tvalidation_0-mae:559.553\tvalidation_1-mae:548.49\n",
            "Multiple eval metrics have been passed: 'validation_1-mae' will be used for early stopping.\n",
            "\n",
            "Will train until validation_1-mae hasn't improved in 70 rounds.\n",
            "[100]\tvalidation_0-mae:102.995\tvalidation_1-mae:131.415\n",
            "[200]\tvalidation_0-mae:78.7082\tvalidation_1-mae:126.157\n",
            "[300]\tvalidation_0-mae:69.7177\tvalidation_1-mae:125.543\n",
            "[400]\tvalidation_0-mae:63.2266\tvalidation_1-mae:124.461\n",
            "[500]\tvalidation_0-mae:57.9645\tvalidation_1-mae:123.859\n",
            "Stopping. Best iteration:\n",
            "[511]\tvalidation_0-mae:57.4927\tvalidation_1-mae:123.682\n",
            "\n",
            "[08:18:47] WARNING: /workspace/src/objective/regression_obj.cu:152: reg:linear is now deprecated in favor of reg:squarederror.\n",
            "[0]\tvalidation_0-mae:549.542\tvalidation_1-mae:589.401\n",
            "Multiple eval metrics have been passed: 'validation_1-mae' will be used for early stopping.\n",
            "\n",
            "Will train until validation_1-mae hasn't improved in 70 rounds.\n",
            "[100]\tvalidation_0-mae:104.546\tvalidation_1-mae:154.535\n",
            "[200]\tvalidation_0-mae:78.8874\tvalidation_1-mae:141.801\n",
            "[300]\tvalidation_0-mae:69.8814\tvalidation_1-mae:139.174\n",
            "[400]\tvalidation_0-mae:62.3492\tvalidation_1-mae:137.934\n",
            "[500]\tvalidation_0-mae:56.1791\tvalidation_1-mae:136.836\n",
            "Stopping. Best iteration:\n",
            "[472]\tvalidation_0-mae:57.6664\tvalidation_1-mae:136.595\n",
            "\n",
            "[08:18:48] WARNING: /workspace/src/objective/regression_obj.cu:152: reg:linear is now deprecated in favor of reg:squarederror.\n",
            "[0]\tvalidation_0-mae:562.719\tvalidation_1-mae:535.326\n",
            "Multiple eval metrics have been passed: 'validation_1-mae' will be used for early stopping.\n",
            "\n",
            "Will train until validation_1-mae hasn't improved in 70 rounds.\n",
            "[100]\tvalidation_0-mae:104.071\tvalidation_1-mae:134.433\n",
            "[200]\tvalidation_0-mae:79.1291\tvalidation_1-mae:123.521\n",
            "[300]\tvalidation_0-mae:69.6492\tvalidation_1-mae:123.633\n",
            "Stopping. Best iteration:\n",
            "[275]\tvalidation_0-mae:71.8095\tvalidation_1-mae:123.274\n",
            "\n"
          ],
          "name": "stdout"
        }
      ]
    },
    {
      "cell_type": "code",
      "metadata": {
        "colab": {
          "base_uri": "https://localhost:8080/"
        },
        "id": "aIEW8NfovMiN",
        "outputId": "20ec457e-fdef-45a2-e5d1-4fa35e073dfa"
      },
      "source": [
        "from sklearn.linear_model import ElasticNet\n",
        "\n",
        "skf = StratifiedKFold(n_splits=5, shuffle=True, random_state=42)\n",
        "preds_test_Ela = np.zeros((len(x_test)))\n",
        "\n",
        "for i,(train_index, valid_index) in enumerate(kf.split(x_train, y_train)):\n",
        "  X_train, X_valid = x_train.iloc[train_index], x_train.iloc[valid_index]\n",
        "  Y_train, Y_valid = y_train.iloc[train_index], y_train.iloc[valid_index]\n",
        "\n",
        "  model_Lasso = Lasso(alpha=0.5, random_state=42, normalize=True)\n",
        "  model_Lasso.fit(X_train, Y_train)\n",
        "\n",
        "  preds_test_Lasso = model_Lasso.predict(x_test)\n",
        "  preds_valid = model_Lasso.predict(X_valid)\n",
        "  MAE = mean_absolute_error(Y_valid, preds_valid)\n",
        "  print(f'{i+1}번째 MAE:{MAE}')\n"
      ],
      "execution_count": 651,
      "outputs": [
        {
          "output_type": "stream",
          "text": [
            "1번째 MAE:149.62083354530785\n",
            "2번째 MAE:170.10263407080518\n",
            "3번째 MAE:127.89907092725882\n",
            "4번째 MAE:178.45717946630515\n",
            "5번째 MAE:122.9892786277804\n",
            "6번째 MAE:130.25473208344877\n",
            "7번째 MAE:130.1522172902202\n",
            "8번째 MAE:127.53268929206413\n",
            "9번째 MAE:124.9131085064738\n",
            "10번째 MAE:134.2231971963601\n"
          ],
          "name": "stdout"
        }
      ]
    },
    {
      "cell_type": "code",
      "metadata": {
        "colab": {
          "base_uri": "https://localhost:8080/",
          "height": 358
        },
        "id": "HwP43-cA7uI6",
        "outputId": "a463cd05-b805-4cfb-b0f7-a449b571890c"
      },
      "source": [
        "fig, ax = plt.subplots(figsize=(8,5))\n",
        "ax.plot(pd.Series(preds_valid, index=Y_valid.index), label='Preds_Valid')\n",
        "ax.plot(Y_valid, label='Y_Valid')\n",
        "ax.legend()\n",
        "ax.set_title('preds vs y', fontsize=18, fontweight='bold')"
      ],
      "execution_count": 652,
      "outputs": [
        {
          "output_type": "execute_result",
          "data": {
            "text/plain": [
              "Text(0.5, 1.0, 'preds vs y')"
            ]
          },
          "metadata": {
            "tags": []
          },
          "execution_count": 652
        },
        {
          "output_type": "display_data",
          "data": {
            "image/png": "[encoded data removed]",
            "text/plain": [
              "<Figure size 576x360 with 1 Axes>"
            ]
          },
          "metadata": {
            "tags": [],
            "needs_background": "light"
          }
        }
      ]
    },
    {
      "cell_type": "markdown",
      "metadata": {
        "id": "pA4BjJab7NUB"
      },
      "source": [
        "# Cross validate 모델 사용"
      ]
    },
    {
      "cell_type": "code",
      "metadata": {
        "id": "iKr09yUc4-DI"
      },
      "source": [
        "from sklearn.metrics import make_scorer\n",
        "from sklearn.linear_model import LinearRegression, Ridge, Lasso\n",
        "from sklearn.tree import DecisionTreeRegressor, ExtraTreeRegressor\n",
        "from sklearn.model_selection import cross_val_score, cross_validate, cross_val_predict\n",
        "\n",
        "scorer = make_scorer(mean_absolute_error, greater_is_better=False)"
      ],
      "execution_count": 617,
      "outputs": []
    },
    {
      "cell_type": "code",
      "metadata": {
        "colab": {
          "base_uri": "https://localhost:8080/"
        },
        "id": "AVqkNg7g4jt2",
        "outputId": "a887255d-8370-488d-a9e7-8a19ff9f4aaa"
      },
      "source": [
        "# ElasticNet\n",
        "cross_val = cross_validate(model_Ela, x_train, y_train, scoring=scorer, cv=30, n_jobs=-1, return_estimator=True)\n",
        "cross_val['test_score'].mean()"
      ],
      "execution_count": 653,
      "outputs": [
        {
          "output_type": "execute_result",
          "data": {
            "text/plain": [
              "-141.65823485829566"
            ]
          },
          "metadata": {
            "tags": []
          },
          "execution_count": 653
        }
      ]
    },
    {
      "cell_type": "code",
      "metadata": {
        "colab": {
          "base_uri": "https://localhost:8080/"
        },
        "id": "IhIkiyadjS5m",
        "outputId": "95036fe1-4e00-453d-a344-cc9de2255266"
      },
      "source": [
        "# Ridge\n",
        "cross_val = cross_validate(Ridge(alpha=0.5, max_iter=1000, random_state=42, normalize=True), x_train, y_train, scoring=scorer, cv=30, n_jobs=-1, return_estimator=True)\n",
        "cross_val['test_score'].mean()"
      ],
      "execution_count": 654,
      "outputs": [
        {
          "output_type": "execute_result",
          "data": {
            "text/plain": [
              "-152.1142708375952"
            ]
          },
          "metadata": {
            "tags": []
          },
          "execution_count": 654
        }
      ]
    },
    {
      "cell_type": "code",
      "metadata": {
        "colab": {
          "base_uri": "https://localhost:8080/"
        },
        "id": "eWNclEuDlgA_",
        "outputId": "33f66b8c-4615-4abd-e968-70ca103fce80"
      },
      "source": [
        "# Lasso\n",
        "cross_val = cross_validate(Lasso(alpha=0.5, random_state=42, normalize=True), x_train, y_train, scoring=scorer, cv=30, n_jobs=-1, return_estimator=True)\n",
        "cross_val['test_score'].mean()"
      ],
      "execution_count": 655,
      "outputs": [
        {
          "output_type": "execute_result",
          "data": {
            "text/plain": [
              "-141.85466057150006"
            ]
          },
          "metadata": {
            "tags": []
          },
          "execution_count": 655
        }
      ]
    },
    {
      "cell_type": "code",
      "metadata": {
        "colab": {
          "base_uri": "https://localhost:8080/"
        },
        "id": "rNk9fPFOjQMt",
        "outputId": "27857e2f-66a4-405f-fda6-7505806862b2"
      },
      "source": [
        "# linear\n",
        "cross_val = cross_validate(LinearRegression(n_jobs=-1), x_train, y_train, scoring=scorer, cv=30, n_jobs=-1, return_estimator=True)\n",
        "cross_val['test_score'].mean()"
      ],
      "execution_count": 656,
      "outputs": [
        {
          "output_type": "execute_result",
          "data": {
            "text/plain": [
              "-143.04660081187146"
            ]
          },
          "metadata": {
            "tags": []
          },
          "execution_count": 656
        }
      ]
    },
    {
      "cell_type": "code",
      "metadata": {
        "colab": {
          "base_uri": "https://localhost:8080/"
        },
        "id": "fMnIWLXMk7xl",
        "outputId": "ab003f13-e821-4f0f-b2f1-64246e6051f1"
      },
      "source": [
        "# Decision\n",
        "cross_val = cross_validate(DecisionTreeRegressor(criterion='mae', random_state=42), x_train, y_train, scoring=scorer, cv=30, n_jobs=-1, return_estimator=True)\n",
        "cross_val['test_score'].mean()"
      ],
      "execution_count": 622,
      "outputs": [
        {
          "output_type": "execute_result",
          "data": {
            "text/plain": [
              "-174.9638095238095"
            ]
          },
          "metadata": {
            "tags": []
          },
          "execution_count": 622
        }
      ]
    },
    {
      "cell_type": "code",
      "metadata": {
        "colab": {
          "base_uri": "https://localhost:8080/"
        },
        "id": "gvd3_8ZmlDyL",
        "outputId": "c4a4e2f4-7d9b-4f23-d8ff-374db7dc87ca"
      },
      "source": [
        "# Extra\n",
        "cross_val = cross_validate(ExtraTreeRegressor(criterion='mae', random_state=42), x_train, y_train, scoring=scorer, cv=30, n_jobs=-1, return_estimator=True)\n",
        "cross_val['test_score'].mean()"
      ],
      "execution_count": 623,
      "outputs": [
        {
          "output_type": "execute_result",
          "data": {
            "text/plain": [
              "-189.73809523809527"
            ]
          },
          "metadata": {
            "tags": []
          },
          "execution_count": 623
        }
      ]
    },
    {
      "cell_type": "code",
      "metadata": {
        "colab": {
          "base_uri": "https://localhost:8080/"
        },
        "id": "FFH-ueSplJy_",
        "outputId": "94369d36-d609-464f-de33-82e8a1a058a9"
      },
      "source": [
        "# XGBoost\n",
        "cross_val = cross_validate(model_xgb, x_train, y_train, scoring=scorer, cv=30, n_jobs=-1, return_estimator=True)\n",
        "cross_val['test_score'].mean()"
      ],
      "execution_count": 624,
      "outputs": [
        {
          "output_type": "execute_result",
          "data": {
            "text/plain": [
              "-141.53984102294558"
            ]
          },
          "metadata": {
            "tags": []
          },
          "execution_count": 624
        }
      ]
    },
    {
      "cell_type": "code",
      "metadata": {
        "colab": {
          "base_uri": "https://localhost:8080/"
        },
        "id": "Y8ff0pz6m1qy",
        "outputId": "ce57bcbb-c877-4d41-9017-75fab7ca55d7"
      },
      "source": [
        "# lgbm 모델\n",
        "cross_val = cross_validate(model_lgbm, x_train, y_train, scoring=scorer, cv=30, n_jobs=-1)\n",
        "cross_val['test_score'].mean()"
      ],
      "execution_count": 657,
      "outputs": [
        {
          "output_type": "execute_result",
          "data": {
            "text/plain": [
              "-141.64560058363048"
            ]
          },
          "metadata": {
            "tags": []
          },
          "execution_count": 657
        }
      ]
    },
    {
      "cell_type": "code",
      "metadata": {
        "colab": {
          "base_uri": "https://localhost:8080/"
        },
        "id": "75KOd991nrLS",
        "outputId": "177f1370-3a50-4abc-b374-f0bb7516b6d9"
      },
      "source": [
        "# catboost 모델\n",
        "cross_val = cross_validate(catboost.CatBoostRegressor(learning_rate=0.022, n_estimators=3000), x_train, y_train, scoring=scorer, cv=30, n_jobs=-1, return_estimator=True)\n",
        "cross_val['test_score'].mean()"
      ],
      "execution_count": 658,
      "outputs": [
        {
          "output_type": "execute_result",
          "data": {
            "text/plain": [
              "-143.32497321198167"
            ]
          },
          "metadata": {
            "tags": []
          },
          "execution_count": 658
        }
      ]
    },
    {
      "cell_type": "code",
      "metadata": {
        "id": "d0Sp6n7W6cCP"
      },
      "source": [
        "cross_val_preds = cross_val_predict(model_lgbm, x_train, y_train, cv=30, n_jobs=-1)"
      ],
      "execution_count": 326,
      "outputs": []
    },
    {
      "cell_type": "code",
      "metadata": {
        "colab": {
          "base_uri": "https://localhost:8080/",
          "height": 521
        },
        "id": "sksdNvnf64AI",
        "outputId": "71bff5d5-3185-4e12-badd-cd93763002e2"
      },
      "source": [
        "fig, ax = plt.subplots(figsize=(12,8))\n",
        "ax.plot(pd.Series(cross_val_preds, index=y_train.index), label='Preds_Valid')\n",
        "ax.plot(y_train, label='Y_train')\n",
        "ax.legend()\n",
        "ax.set_title('preds vs y', fontsize=18, fontweight='bold')"
      ],
      "execution_count": 327,
      "outputs": [
        {
          "output_type": "execute_result",
          "data": {
            "text/plain": [
              "Text(0.5, 1.0, 'preds vs y')"
            ]
          },
          "metadata": {
            "tags": []
          },
          "execution_count": 327
        },
        {
          "output_type": "display_data",
          "data": {
            "image/png": "[encoded data removed]",
            "text/plain": [
              "<Figure size 864x576 with 1 Axes>"
            ]
          },
          "metadata": {
            "tags": [],
            "needs_background": "light"
          }
        }
      ]
    },
    {
      "cell_type": "code",
      "metadata": {
        "id": "itnD-H9Z7S6S"
      },
      "source": [
        "# ElastickNet 모델 사용\n",
        "cross_val_preds = cross_val_predict(model_Ela, x_train, y_train, cv=30, n_jobs=-1)"
      ],
      "execution_count": 93,
      "outputs": []
    },
    {
      "cell_type": "code",
      "metadata": {
        "colab": {
          "base_uri": "https://localhost:8080/",
          "height": 358
        },
        "id": "3Av6f7uQ7c0U",
        "outputId": "2ea0df4b-5726-4823-9ee3-e869685a151c"
      },
      "source": [
        "fig, ax = plt.subplots(figsize=(8,5))\n",
        "ax.plot(pd.Series(cross_val_preds, index=y_train.index), label='Preds_Valid')\n",
        "ax.plot(y_train, label='Y_train')\n",
        "ax.legend()\n",
        "ax.set_title('preds vs y', fontsize=18, fontweight='bold')"
      ],
      "execution_count": 94,
      "outputs": [
        {
          "output_type": "execute_result",
          "data": {
            "text/plain": [
              "Text(0.5, 1.0, 'preds vs y')"
            ]
          },
          "metadata": {
            "tags": []
          },
          "execution_count": 94
        },
        {
          "output_type": "display_data",
          "data": {
            "image/png": "[encoded data removed]",
            "text/plain": [
              "<Figure size 576x360 with 1 Axes>"
            ]
          },
          "metadata": {
            "tags": [],
            "needs_background": "light"
          }
        }
      ]
    },
    {
      "cell_type": "code",
      "metadata": {
        "id": "GRXZXtPJp0MF"
      },
      "source": [
        "# model selection RFE(후진제거법)\n",
        "from sklearn.feature_selection import RFE\n",
        "\n",
        "model = model_lgbm\n",
        "rfe = RFE(model)\n",
        "fit = rfe.fit(x_train, y_train)"
      ],
      "execution_count": 95,
      "outputs": []
    },
    {
      "cell_type": "code",
      "metadata": {
        "colab": {
          "base_uri": "https://localhost:8080/"
        },
        "id": "nu9ARBJTqhG3",
        "outputId": "50a9a4aa-ca78-471e-9001-407bfd7a825b"
      },
      "source": [
        "feature_selected = pd.Series(fit.support_, index=x_train.columns)\n",
        "feature_selected_columns = list(feature_selected.loc[feature_selected == True].index)\n",
        "feature_selected"
      ],
      "execution_count": 96,
      "outputs": [
        {
          "output_type": "execute_result",
          "data": {
            "text/plain": [
              "총세대수                             True\n",
              "공가수                              True\n",
              "지역                               True\n",
              "단지내주차면수                          True\n",
              "도보 10분거리 내 지하철역 수(환승노선 수 반영)    False\n",
              "도보 10분거리 내 버스정류장 수               True\n",
              "면적_35.0                          True\n",
              "면적_50.0                          True\n",
              "면적_55.0                         False\n",
              "면적_30.0                         False\n",
              "면적_45.0                          True\n",
              "면적_40.0                         False\n",
              "면적_25.0                          True\n",
              "면적_70.0                         False\n",
              "면적_15.0                         False\n",
              "면적_20.0                         False\n",
              "면적_100.0                        False\n",
              "면적_60.0                         False\n",
              "면적_75.0                         False\n",
              "면적_80.0                         False\n",
              "면적_65.0                         False\n",
              "공실율                              True\n",
              "세대당주차면수                          True\n",
              "dtype: bool"
            ]
          },
          "metadata": {
            "tags": []
          },
          "execution_count": 96
        }
      ]
    },
    {
      "cell_type": "code",
      "metadata": {
        "id": "09ddBE0ir6Dx"
      },
      "source": [
        "x_train_sel = x_train[feature_selected_columns]\n",
        "x_test_sel = x_test[feature_selected_columns]"
      ],
      "execution_count": null,
      "outputs": []
    },
    {
      "cell_type": "code",
      "metadata": {
        "colab": {
          "base_uri": "https://localhost:8080/",
          "height": 417
        },
        "id": "06eyYjaJv3E9",
        "outputId": "e0e136cd-a747-4965-deae-80b819768d1e"
      },
      "source": [
        "submit['num'] = preds_test_cat\n",
        "submit.to_csv('/content/drive/MyDrive/dataset/Dacon/대회/235745_parking_data/submit_8.csv', index=False)\n",
        "submit"
      ],
      "execution_count": 448,
      "outputs": [
        {
          "output_type": "execute_result",
          "data": {
            "text/html": [
              "<div>\n",
              "<style scoped>\n",
              "    .dataframe tbody tr th:only-of-type {\n",
              "        vertical-align: middle;\n",
              "    }\n",
              "\n",
              "    .dataframe tbody tr th {\n",
              "        vertical-align: top;\n",
              "    }\n",
              "\n",
              "    .dataframe thead th {\n",
              "        text-align: right;\n",
              "    }\n",
              "</style>\n",
              "<table border=\"1\" class=\"dataframe\">\n",
              "  <thead>\n",
              "    <tr style=\"text-align: right;\">\n",
              "      <th></th>\n",
              "      <th>code</th>\n",
              "      <th>num</th>\n",
              "    </tr>\n",
              "  </thead>\n",
              "  <tbody>\n",
              "    <tr>\n",
              "      <th>0</th>\n",
              "      <td>C1072</td>\n",
              "      <td>790.607591</td>\n",
              "    </tr>\n",
              "    <tr>\n",
              "      <th>1</th>\n",
              "      <td>C1128</td>\n",
              "      <td>1278.727830</td>\n",
              "    </tr>\n",
              "    <tr>\n",
              "      <th>2</th>\n",
              "      <td>C1456</td>\n",
              "      <td>568.640047</td>\n",
              "    </tr>\n",
              "    <tr>\n",
              "      <th>3</th>\n",
              "      <td>C1840</td>\n",
              "      <td>536.142507</td>\n",
              "    </tr>\n",
              "    <tr>\n",
              "      <th>4</th>\n",
              "      <td>C1332</td>\n",
              "      <td>1240.219143</td>\n",
              "    </tr>\n",
              "    <tr>\n",
              "      <th>...</th>\n",
              "      <td>...</td>\n",
              "      <td>...</td>\n",
              "    </tr>\n",
              "    <tr>\n",
              "      <th>145</th>\n",
              "      <td>C2456</td>\n",
              "      <td>239.144090</td>\n",
              "    </tr>\n",
              "    <tr>\n",
              "      <th>146</th>\n",
              "      <td>C1266</td>\n",
              "      <td>525.409573</td>\n",
              "    </tr>\n",
              "    <tr>\n",
              "      <th>147</th>\n",
              "      <td>C2152</td>\n",
              "      <td>34.559390</td>\n",
              "    </tr>\n",
              "    <tr>\n",
              "      <th>148</th>\n",
              "      <td>C1267</td>\n",
              "      <td>428.016908</td>\n",
              "    </tr>\n",
              "    <tr>\n",
              "      <th>149</th>\n",
              "      <td>C2189</td>\n",
              "      <td>226.771163</td>\n",
              "    </tr>\n",
              "  </tbody>\n",
              "</table>\n",
              "<p>150 rows × 2 columns</p>\n",
              "</div>"
            ],
            "text/plain": [
              "      code          num\n",
              "0    C1072   790.607591\n",
              "1    C1128  1278.727830\n",
              "2    C1456   568.640047\n",
              "3    C1840   536.142507\n",
              "4    C1332  1240.219143\n",
              "..     ...          ...\n",
              "145  C2456   239.144090\n",
              "146  C1266   525.409573\n",
              "147  C2152    34.559390\n",
              "148  C1267   428.016908\n",
              "149  C2189   226.771163\n",
              "\n",
              "[150 rows x 2 columns]"
            ]
          },
          "metadata": {
            "tags": []
          },
          "execution_count": 448
        }
      ]
    },
    {
      "cell_type": "code",
      "metadata": {
        "colab": {
          "base_uri": "https://localhost:8080/",
          "height": 417
        },
        "id": "xmbSzh62x3I7",
        "outputId": "0d331302-1bee-462e-b772-3b42f03a29eb"
      },
      "source": [
        "submit['num'] = preds_test_cat\n",
        "submit"
      ],
      "execution_count": null,
      "outputs": [
        {
          "output_type": "execute_result",
          "data": {
            "text/html": [
              "<div>\n",
              "<style scoped>\n",
              "    .dataframe tbody tr th:only-of-type {\n",
              "        vertical-align: middle;\n",
              "    }\n",
              "\n",
              "    .dataframe tbody tr th {\n",
              "        vertical-align: top;\n",
              "    }\n",
              "\n",
              "    .dataframe thead th {\n",
              "        text-align: right;\n",
              "    }\n",
              "</style>\n",
              "<table border=\"1\" class=\"dataframe\">\n",
              "  <thead>\n",
              "    <tr style=\"text-align: right;\">\n",
              "      <th></th>\n",
              "      <th>code</th>\n",
              "      <th>num</th>\n",
              "    </tr>\n",
              "  </thead>\n",
              "  <tbody>\n",
              "    <tr>\n",
              "      <th>0</th>\n",
              "      <td>C1072</td>\n",
              "      <td>763.190180</td>\n",
              "    </tr>\n",
              "    <tr>\n",
              "      <th>1</th>\n",
              "      <td>C1128</td>\n",
              "      <td>1261.937146</td>\n",
              "    </tr>\n",
              "    <tr>\n",
              "      <th>2</th>\n",
              "      <td>C1456</td>\n",
              "      <td>588.037042</td>\n",
              "    </tr>\n",
              "    <tr>\n",
              "      <th>3</th>\n",
              "      <td>C1840</td>\n",
              "      <td>548.213311</td>\n",
              "    </tr>\n",
              "    <tr>\n",
              "      <th>4</th>\n",
              "      <td>C1332</td>\n",
              "      <td>1225.286551</td>\n",
              "    </tr>\n",
              "    <tr>\n",
              "      <th>...</th>\n",
              "      <td>...</td>\n",
              "      <td>...</td>\n",
              "    </tr>\n",
              "    <tr>\n",
              "      <th>145</th>\n",
              "      <td>C2456</td>\n",
              "      <td>220.508849</td>\n",
              "    </tr>\n",
              "    <tr>\n",
              "      <th>146</th>\n",
              "      <td>C1266</td>\n",
              "      <td>515.472701</td>\n",
              "    </tr>\n",
              "    <tr>\n",
              "      <th>147</th>\n",
              "      <td>C2152</td>\n",
              "      <td>91.418749</td>\n",
              "    </tr>\n",
              "    <tr>\n",
              "      <th>148</th>\n",
              "      <td>C1267</td>\n",
              "      <td>483.216688</td>\n",
              "    </tr>\n",
              "    <tr>\n",
              "      <th>149</th>\n",
              "      <td>C2189</td>\n",
              "      <td>229.615498</td>\n",
              "    </tr>\n",
              "  </tbody>\n",
              "</table>\n",
              "<p>150 rows × 2 columns</p>\n",
              "</div>"
            ],
            "text/plain": [
              "      code          num\n",
              "0    C1072   763.190180\n",
              "1    C1128  1261.937146\n",
              "2    C1456   588.037042\n",
              "3    C1840   548.213311\n",
              "4    C1332  1225.286551\n",
              "..     ...          ...\n",
              "145  C2456   220.508849\n",
              "146  C1266   515.472701\n",
              "147  C2152    91.418749\n",
              "148  C1267   483.216688\n",
              "149  C2189   229.615498\n",
              "\n",
              "[150 rows x 2 columns]"
            ]
          },
          "metadata": {
            "tags": []
          },
          "execution_count": 655
        }
      ]
    }
  ]
}