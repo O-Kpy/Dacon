{
  "nbformat": 4,
  "nbformat_minor": 0,
  "metadata": {
    "colab": {
      "name": "Dacon 신용예측 필사 catboost 끝까지 돌려보기.ipynb",
      "provenance": [],
      "collapsed_sections": [],
      "mount_file_id": "1iaSmTvtpzSYE7pOw8LQQFosfNE6KSGY-",
      "authorship_tag": "ABX9TyM51VFveZmoLww0uHoUB0bp",
      "include_colab_link": true
    },
    "kernelspec": {
      "name": "python3",
      "display_name": "Python 3"
    },
    "language_info": {
      "name": "python"
    }
  },
  "cells": [
    {
      "cell_type": "markdown",
      "metadata": {
        "id": "view-in-github",
        "colab_type": "text"
      },
      "source": [
        "<a href=\"https://colab.research.google.com/github/O-Kpy/Dacon/blob/main/Dacon_%EC%8B%A0%EC%9A%A9%EC%98%88%EC%B8%A1_%ED%95%84%EC%82%AC_catboost_%EB%81%9D%EA%B9%8C%EC%A7%80_%EB%8F%8C%EB%A0%A4%EB%B3%B4%EA%B8%B0.ipynb\" target=\"_parent\"><img src=\"https://colab.research.google.com/assets/colab-badge.svg\" alt=\"Open In Colab\"/></a>"
      ]
    },
    {
      "cell_type": "code",
      "metadata": {
        "colab": {
          "base_uri": "https://localhost:8080/",
          "height": 17
        },
        "id": "FO3L5BgRLNFO",
        "outputId": "03a352e2-b122-47f8-9372-abb1e0d0eef7"
      },
      "source": [
        "import pandas as pd\n",
        "import numpy as np\n",
        "\n",
        "from catboost import CatBoostClassifier\n",
        "from sklearn.model_selection import StratifiedKFold, KFold\n",
        "from sklearn.metrics import log_loss\n",
        "from tensorflow.keras.utils import to_categorical\n",
        "\n",
        "import matplotlib.pyplot as plt\n",
        "import seaborn as sns\n",
        "\n",
        "import warnings\n",
        "warnings.filterwarnings('ignore')\n",
        "from IPython.core.display import display, HTML\n",
        "display(HTML(\"<style>.container { width: 100% !important; }</style>\"))"
      ],
      "execution_count": 4,
      "outputs": [
        {
          "output_type": "display_data",
          "data": {
            "text/html": [
              "<style>.container { width: 100% !important; }</style>"
            ],
            "text/plain": [
              "<IPython.core.display.HTML object>"
            ]
          },
          "metadata": {
            "tags": []
          }
        }
      ]
    },
    {
      "cell_type": "code",
      "metadata": {
        "colab": {
          "base_uri": "https://localhost:8080/"
        },
        "id": "xEPi0L0BLBWp",
        "outputId": "8a272801-d596-4294-9634-874155496ed6"
      },
      "source": [
        "train = pd.read_csv('/content/drive/MyDrive/dataset/Dacon/대회/신용카드 사용자 연체 예측 AI 경진대회/train.csv')\n",
        "test = pd.read_csv('/content/drive/MyDrive/dataset/Dacon/대회/신용카드 사용자 연체 예측 AI 경진대회/test.csv')\n",
        "submit = pd.read_csv('/content/drive/MyDrive/dataset/Dacon/대회/신용카드 사용자 연체 예측 AI 경진대회/sample_submission.csv')\n",
        "test_index = test['index']\n",
        "train = train.drop(['index'], axis=1)\n",
        "test = test.drop(['index'], axis=1)\n",
        "print(f'train shape:{train.shape}')\n",
        "print(f'test shape:{test.shape}')\n"
      ],
      "execution_count": 5,
      "outputs": [
        {
          "output_type": "stream",
          "text": [
            "train shape:(26457, 19)\n",
            "test shape:(10000, 18)\n"
          ],
          "name": "stdout"
        }
      ]
    },
    {
      "cell_type": "code",
      "metadata": {
        "colab": {
          "base_uri": "https://localhost:8080/"
        },
        "id": "PJusRBg_N11H",
        "outputId": "b7c8f569-5640-4a9b-ac3b-21557f017c30"
      },
      "source": [
        "!pip install catboost"
      ],
      "execution_count": 3,
      "outputs": [
        {
          "output_type": "stream",
          "text": [
            "Requirement already satisfied: catboost in /usr/local/lib/python3.7/dist-packages (0.25.1)\n",
            "Requirement already satisfied: numpy>=1.16.0 in /usr/local/lib/python3.7/dist-packages (from catboost) (1.19.5)\n",
            "Requirement already satisfied: matplotlib in /usr/local/lib/python3.7/dist-packages (from catboost) (3.2.2)\n",
            "Requirement already satisfied: plotly in /usr/local/lib/python3.7/dist-packages (from catboost) (4.4.1)\n",
            "Requirement already satisfied: pandas>=0.24.0 in /usr/local/lib/python3.7/dist-packages (from catboost) (1.1.5)\n",
            "Requirement already satisfied: six in /usr/local/lib/python3.7/dist-packages (from catboost) (1.15.0)\n",
            "Requirement already satisfied: graphviz in /usr/local/lib/python3.7/dist-packages (from catboost) (0.10.1)\n",
            "Requirement already satisfied: scipy in /usr/local/lib/python3.7/dist-packages (from catboost) (1.4.1)\n",
            "Requirement already satisfied: pyparsing!=2.0.4,!=2.1.2,!=2.1.6,>=2.0.1 in /usr/local/lib/python3.7/dist-packages (from matplotlib->catboost) (2.4.7)\n",
            "Requirement already satisfied: python-dateutil>=2.1 in /usr/local/lib/python3.7/dist-packages (from matplotlib->catboost) (2.8.1)\n",
            "Requirement already satisfied: cycler>=0.10 in /usr/local/lib/python3.7/dist-packages (from matplotlib->catboost) (0.10.0)\n",
            "Requirement already satisfied: kiwisolver>=1.0.1 in /usr/local/lib/python3.7/dist-packages (from matplotlib->catboost) (1.3.1)\n",
            "Requirement already satisfied: retrying>=1.3.3 in /usr/local/lib/python3.7/dist-packages (from plotly->catboost) (1.3.3)\n",
            "Requirement already satisfied: pytz>=2017.2 in /usr/local/lib/python3.7/dist-packages (from pandas>=0.24.0->catboost) (2018.9)\n"
          ],
          "name": "stdout"
        }
      ]
    },
    {
      "cell_type": "code",
      "metadata": {
        "id": "nIQuVOdAOaKy"
      },
      "source": [
        "def days_to_year(x):\n",
        "  return (x * -1) / 365\n",
        "\n",
        "def minus(x):\n",
        "  return x * -1"
      ],
      "execution_count": 6,
      "outputs": []
    },
    {
      "cell_type": "markdown",
      "metadata": {
        "id": "XLNDToZMRYBZ"
      },
      "source": [
        "# 이상치 제거"
      ]
    },
    {
      "cell_type": "code",
      "metadata": {
        "colab": {
          "base_uri": "https://localhost:8080/"
        },
        "id": "b4sLp_3AO1o6",
        "outputId": "eabf0de9-ae3d-4578-a0fa-9f6ad5bcfc6e"
      },
      "source": [
        "def remove_outlier(train, column):\n",
        "    \n",
        "    df = train[column]\n",
        "    \n",
        "    # 1분위수\n",
        "    quan_25 = np.percentile(df.values, 25)\n",
        "    \n",
        "    # 3분위수\n",
        "    quan_75 = np.percentile(df.values, 75)\n",
        "    \n",
        "    iqr = quan_75 - quan_25\n",
        "    \n",
        "    lowest = quan_25 - iqr * 5\n",
        "    highest = quan_75 + iqr * 5\n",
        "    outlier_index = df[(df < lowest) | (df > highest)].index\n",
        "    print('outlier의 수 : ' , len(outlier_index))\n",
        "    print(df.iloc[outlier_index])\n",
        "    train.drop(outlier_index, axis = 0, inplace = True)\n",
        "    \n",
        "    return train\n",
        "\n",
        "candidate = ['child_num']\n",
        "for cand in candidate:  \n",
        "    train = remove_outlier(train,cand)\n",
        "\n",
        "train.reset_index(drop = True,inplace = True)\n",
        "len(train)"
      ],
      "execution_count": 7,
      "outputs": [
        {
          "output_type": "stream",
          "text": [
            "outlier의 수 :  6\n",
            "8462     14\n",
            "9021     14\n",
            "10731    19\n",
            "25313     7\n",
            "25390    14\n",
            "25638     7\n",
            "Name: child_num, dtype: int64\n"
          ],
          "name": "stdout"
        },
        {
          "output_type": "execute_result",
          "data": {
            "text/plain": [
              "26451"
            ]
          },
          "metadata": {
            "tags": []
          },
          "execution_count": 7
        }
      ]
    },
    {
      "cell_type": "markdown",
      "metadata": {
        "id": "F7_ZF6FNRgh8"
      },
      "source": [
        "# 중복방지 이건 나중에 따로"
      ]
    },
    {
      "cell_type": "code",
      "metadata": {
        "id": "6AdVkyGyRVyw"
      },
      "source": [
        "def add_var(data):\n",
        "    \n",
        "    # 개개인을 구분할 수 있는 변수들을 묶어서 생성\n",
        "    data['personal_id'] = data['gender'] + \"_\" + data['DAYS_BIRTH'].astype(str) + \"_\" + data['income_total'].astype(str) + \"_\" + data['income_type'].astype(str)\n",
        "    \n",
        "    # 카드를 생성한 기간도 같은 경우가 있어서 begin을 추가하여 하나의 변수를 더 생성\n",
        "    data['personal_begin_id'] = data['gender'] + \"_\" + data['DAYS_BIRTH'].astype(str) + \"_\" + data['income_total'].astype(str) + \"_\" + data['income_type'].astype(str) + \"_\" + data['begin_month'].astype(str)\n",
        "    \n",
        "    # 그외의 변수들을 조합하여 하나의 변수로 추가 생성\n",
        "    data['g_r_c'] = data['gender'] + \"_\" + data['reality'] + \"_\" + data['car'] \n",
        "    data['p_w_e'] = data['phone'].astype(str) + \"_\" + data['work_phone'].astype(str) + \"_\" + data['email'].astype(str) \n",
        "    \n",
        "    return data\n",
        "\n",
        "train = add_var(train)\n",
        "test = add_var(test)"
      ],
      "execution_count": 8,
      "outputs": []
    },
    {
      "cell_type": "markdown",
      "metadata": {
        "id": "5POZmzHRRj-M"
      },
      "source": [
        "# 숫자형 변수 전처리 및 변수 생성"
      ]
    },
    {
      "cell_type": "code",
      "metadata": {
        "id": "codaJ40DRfVc"
      },
      "source": [
        "def numeric_process(data):\n",
        "    \n",
        "    # income_total 변수 전처리\n",
        "    # 만단위로 생성\n",
        "    data['income_total'] = data['income_total']/10000\n",
        "    # 편차 제곱 변수 생성\n",
        "    data['income_total_dev'] = (data['income_total'] - data['income_total'].mean())**2\n",
        "    # 로그 변환\n",
        "    data['income_total_log'] = data['income_total'].apply(np.log1p)\n",
        "\n",
        "    # DAYS_EMPLOYED 변수 전처리\n",
        "    # 0 이상인 경우 0으로 모두 변환\n",
        "    data.loc[data['DAYS_EMPLOYED'] >= 0,'DAYS_EMPLOYED']=0\n",
        "    # day를 year로 변환\n",
        "    data['DAYS_EMPLOYED'] = data['DAYS_EMPLOYED'].apply(days_to_year) \n",
        "    # 로그 변환\n",
        "    data['DAYS_EMPLOYED_log'] = data['DAYS_EMPLOYED'].apply(np.log1p)\n",
        "\n",
        "    # begin_month 변수 전처리\n",
        "    # 마이너스 변환\n",
        "    data['begin_month'] = data['begin_month'].apply(minus)\n",
        "    \n",
        "    # DAYS_BIRTH 변수 전처리\n",
        "    # day를 year로 변환\n",
        "    data['DAYS_BIRTH'] = data['DAYS_BIRTH'].apply(days_to_year)\n",
        "\n",
        "    #  DAYS_BIRTH, DAYS_EMPLOYED, income_total변수를 조합하여 RATIO 변수 생성\n",
        "    data['EMPLOYED_BIRTH_RATIO'] = data['DAYS_EMPLOYED']/data['DAYS_BIRTH']\n",
        "    data['INCOME_EMPLOYED_RATIO'] = data['income_total']/data['DAYS_EMPLOYED']\n",
        "    data['INCOME_BIRTH_RATIO'] = data['income_total']/data['DAYS_BIRTH']\n",
        "    \n",
        "    # 가족수 - 자식수\n",
        "    data['diff_fam_child'] = data['family_size'] - data['child_num']\n",
        "    # chid_num과 family_size는 다음과 같이 최대 2와 5가 되도록 전처리\n",
        "    data.loc[data['child_num'] >= 2,'child_num'] = 2\n",
        "    data.loc[data['family_size'] >= 5,'child_num'] = 5\n",
        "    # 가족수와 자녀수 sum 변수 추가\n",
        "    data['FAM_CHILD_SUM'] = data[['child_num', 'family_size']].sum(axis=1)\n",
        "    \n",
        "    # income을 가족 수 및 자식 수로 나눈 비율\n",
        "    data['INCOME_FAM_RATIO'] = data['income_total']/data['family_size']\n",
        "    data['INCOME_child_num_RATIO'] = data['income_total']/data['child_num']\n",
        "    \n",
        "    # 일을하게 된 시점 변수 추가\n",
        "    data['BIRTH_MINUS_EMPLOYED'] = data['DAYS_BIRTH'] - data['DAYS_EMPLOYED']\n",
        "    # income total 변수에 before_EMPLOYED로 나눈 변수 추가\n",
        "    data['INCOME_BIRTH_MINUS_EMPLOYED_RATIO'] = data['income_total']/data['BIRTH_MINUS_EMPLOYED']\n",
        "    \n",
        "    return data \n"
      ],
      "execution_count": 9,
      "outputs": []
    },
    {
      "cell_type": "code",
      "metadata": {
        "id": "WCzNuO8XTs6j"
      },
      "source": [
        "train = numeric_process(train)\n",
        "test = numeric_process(test)"
      ],
      "execution_count": 10,
      "outputs": []
    },
    {
      "cell_type": "code",
      "metadata": {
        "colab": {
          "base_uri": "https://localhost:8080/"
        },
        "id": "Acjg5UuTTwWb",
        "outputId": "78dc571c-3740-4b33-a1f0-1d633cd876c8"
      },
      "source": [
        "# occyp_type 변수 전처리\n",
        "\n",
        "def occype_process(data):\n",
        "\n",
        "  data['occyp_type'] = data['occyp_type'].fillna('NAN')\n",
        "  # 경력이 없고 직업군이 none인 사람은 no_work로 대체\n",
        "  data.loc[(data['DAYS_EMPLOYED'] == 0) & (data['occyp_type'] == 'NAN'), 'occyp_type'] = 'no_work'\n",
        "  print(data['occyp_type'].value_counts(), '\\n\\n')\n",
        "\n",
        "  return data\n",
        "\n",
        "train = occype_process(train)\n",
        "test = occype_process(test)"
      ],
      "execution_count": 11,
      "outputs": [
        {
          "output_type": "stream",
          "text": [
            "Laborers                 4512\n",
            "no_work                  4438\n",
            "NAN                      3733\n",
            "Core staff               2646\n",
            "Sales staff              2539\n",
            "Managers                 2167\n",
            "Drivers                  1572\n",
            "High skill tech staff    1040\n",
            "Accountants               902\n",
            "Medicine staff            864\n",
            "Cooking staff             457\n",
            "Security staff            424\n",
            "Cleaning staff            401\n",
            "Private service staff     243\n",
            "Low-skill Laborers        127\n",
            "Waiters/barmen staff      123\n",
            "Secretaries                97\n",
            "Realty agents              63\n",
            "HR staff                   62\n",
            "IT staff                   41\n",
            "Name: occyp_type, dtype: int64 \n",
            "\n",
            "\n",
            "Laborers                 1699\n",
            "no_work                  1697\n",
            "NAN                      1455\n",
            "Sales staff               946\n",
            "Core staff                945\n",
            "Managers                  845\n",
            "Drivers                   563\n",
            "High skill tech staff     343\n",
            "Medicine staff            343\n",
            "Accountants               339\n",
            "Cooking staff             198\n",
            "Security staff            168\n",
            "Cleaning staff            148\n",
            "Private service staff     101\n",
            "Secretaries                54\n",
            "Waiters/barmen staff       50\n",
            "Low-skill Laborers         48\n",
            "HR staff                   23\n",
            "IT staff                   19\n",
            "Realty agents              16\n",
            "Name: occyp_type, dtype: int64 \n",
            "\n",
            "\n"
          ],
          "name": "stdout"
        }
      ]
    },
    {
      "cell_type": "code",
      "metadata": {
        "colab": {
          "base_uri": "https://localhost:8080/"
        },
        "id": "1kIc4to-UTul",
        "outputId": "7150fb66-2c68-4611-842c-c4588ac0e26f"
      },
      "source": [
        "#구간화 함수\n",
        "def make_bin(df, variable, n):\n",
        "    \n",
        "    data = df\n",
        "    count, bin_dividers = np.histogram(data[variable], bins=n)\n",
        "    bin_names=[str(i) for i in range(n)]\n",
        "    data['%s_bin' % variable] = pd.cut(x=data[variable], bins=bin_dividers, labels=bin_names, include_lowest=True)\n",
        "    data['%s_bin' % variable] = pd.factorize(data['%s_bin' % variable])[0]\n",
        "    print(data['%s_bin' % variable], '\\n\\n')\n",
        "    \n",
        "    return data\n",
        "\n",
        "# days_birth만 구간화 했을 떄 가장 성능이 좋았음\n",
        "train = make_bin(train, 'DAYS_BIRTH', n=10)\n",
        "test = make_bin(test, 'DAYS_BIRTH', n=10)"
      ],
      "execution_count": 12,
      "outputs": [
        {
          "output_type": "stream",
          "text": [
            "0        0\n",
            "1        1\n",
            "2        2\n",
            "3        3\n",
            "4        3\n",
            "        ..\n",
            "26446    1\n",
            "26447    3\n",
            "26448    5\n",
            "26449    5\n",
            "26450    2\n",
            "Name: DAYS_BIRTH_bin, Length: 26451, dtype: int64 \n",
            "\n",
            "\n",
            "0       0\n",
            "1       1\n",
            "2       2\n",
            "3       1\n",
            "4       3\n",
            "       ..\n",
            "9995    1\n",
            "9996    8\n",
            "9997    4\n",
            "9998    3\n",
            "9999    9\n",
            "Name: DAYS_BIRTH_bin, Length: 10000, dtype: int64 \n",
            "\n",
            "\n"
          ],
          "name": "stdout"
        }
      ]
    },
    {
      "cell_type": "code",
      "metadata": {
        "id": "n6_opilmUrGF"
      },
      "source": [
        "# feature selection\n",
        "train = train.drop(['income_total', 'DAYS_EMPLOYED', 'FLAG_MOBIL'], axis=1)\n",
        "test = test.drop(['income_total', 'DAYS_EMPLOYED', 'FLAG_MOBIL'], axis=1)"
      ],
      "execution_count": 13,
      "outputs": []
    },
    {
      "cell_type": "code",
      "metadata": {
        "colab": {
          "base_uri": "https://localhost:8080/"
        },
        "id": "Iq5vEFUXU2jc",
        "outputId": "d5e8caa6-8359-4417-e92f-792a1bf7f125"
      },
      "source": [
        "print(train.shape, test.shape)"
      ],
      "execution_count": 14,
      "outputs": [
        {
          "output_type": "stream",
          "text": [
            "(26451, 33) (10000, 32)\n"
          ],
          "name": "stdout"
        }
      ]
    },
    {
      "cell_type": "markdown",
      "metadata": {
        "id": "pjpg5OUiWpv5"
      },
      "source": [
        "# 데이터 분할\n",
        "\n",
        "> 컬럼 순서대로 정렬 후 object형 변수의 인덱스 정보를 cat_feature에 활용"
      ]
    },
    {
      "cell_type": "code",
      "metadata": {
        "id": "-IzloktXU8yy"
      },
      "source": [
        "x_train = train.drop(['credit'], axis=1)\n",
        "y_train = train['credit']\n",
        "x_test = test"
      ],
      "execution_count": 15,
      "outputs": []
    },
    {
      "cell_type": "code",
      "metadata": {
        "colab": {
          "base_uri": "https://localhost:8080/"
        },
        "id": "J2GUHNk4W1oK",
        "outputId": "565da5de-7c4e-4a4c-e60c-fcc9c0870a14"
      },
      "source": [
        "cat_features = [f for f in x_train.columns if x_train[f].dtype=='object']\n",
        "\n",
        "def columns_index(df, cat_features):\n",
        "  cols = df.columns.values\n",
        "  sidx = np.argsort(cols)\n",
        "  return sidx[np.searchsorted(cols, cat_features, sorter=sidx)]\n",
        "\n",
        "cat_features_idx = columns_index(x_train, cat_features)\n",
        "print('Cat features are:', [f for f in cat_features])\n",
        "print(cat_features_idx)"
      ],
      "execution_count": 16,
      "outputs": [
        {
          "output_type": "stream",
          "text": [
            "Cat features are: ['gender', 'car', 'reality', 'income_type', 'edu_type', 'family_type', 'house_type', 'occyp_type', 'personal_id', 'personal_begin_id', 'g_r_c', 'p_w_e']\n",
            "[ 0  1  2  4  5  6  7 12 15 16 17 18]\n"
          ],
          "name": "stdout"
        }
      ]
    },
    {
      "cell_type": "code",
      "metadata": {
        "colab": {
          "base_uri": "https://localhost:8080/",
          "height": 1000
        },
        "id": "9-CMIHScXjFP",
        "outputId": "d5c216ef-0c7b-4bd3-fac0-66d981528fa8"
      },
      "source": [
        "cat_models = {}\n",
        "\n",
        "skf = StratifiedKFold(n_splits=10, shuffle=True, random_state=40)\n",
        "outcomes =[]\n",
        "sub=np.zeros((x_test.shape[0], 3))\n",
        "cat_params = {'random_seed': 589, 'learning_rate': 0.01554563366576581, 'reg_lambda': 0.08726261680296399, 'max_depth': 8, 'colsample_bylevel': 0.9636993649385135, 'subsample': 0.9263791452993542, 'min_child_samples': 62, 'max_bin': 477}\n",
        "\n",
        "for n_fold, (train_index, test_index) in enumerate(skf.split(x_train, y_train)):\n",
        "  X_train, X_valid = x_train.iloc[train_index], x_train.iloc[test_index]\n",
        "  Y_train, Y_valid = y_train.iloc[train_index], y_train.iloc[test_index]\n",
        "\n",
        "  cat = CatBoostClassifier(n_estimators=3000, bootstrap_type='Bernoulli', **cat_params)\n",
        "  cat.fit(X_train, Y_train, eval_set=[(X_train, Y_train), (X_valid, Y_valid)], early_stopping_rounds = 50, cat_features=cat_features, verbose=100)\n",
        "\n",
        "  cat_models[n_fold] = cat\n",
        "\n",
        "  # val 데이터 예측\n",
        "  predict = cat.predict_proba(X_valid)\n",
        "  # test 데이터 예측\n",
        "  test_predict = cat.predict_proba(x_test)\n",
        "\n",
        "  # val 데이터 예측 logloss 값 저장\n",
        "  logloss=log_loss(to_categorical(Y_valid), predict)\n",
        "  outcomes.append(logloss)\n",
        "  print(f'FOLD{n_fold+1}:logloss:{logloss}')\n",
        "\n",
        "  # test 데이터 예측 결과 종합\n",
        "  # 최종적으로는 kfolds 횟수 만큼 나눠서 평균 값을 활용\n",
        "  sub+=test_predict\n",
        "\n",
        "  print(f'-----------------------------------------------------------------------------------------------------------------\\n\\n')\n",
        "\n",
        "mean_outcome = np.mean(outcomes)\n",
        "print('Mean:{}'.format(mean_outcome))\n",
        "sub=sub/(skf.n_splits)\n",
        "\n",
        "\n"
      ],
      "execution_count": 28,
      "outputs": [
        {
          "output_type": "stream",
          "text": [
            "0:\tlearn: 1.0896300\ttest: 1.0896316\ttest1: 1.0895172\tbest: 1.0895172 (0)\ttotal: 110ms\tremaining: 5m 28s\n",
            "100:\tlearn: 0.7596877\ttest: 0.6353998\ttest1: 0.7236813\tbest: 0.7236813 (100)\ttotal: 28s\tremaining: 13m 22s\n",
            "200:\tlearn: 0.7215457\ttest: 0.5330940\ttest1: 0.6742266\tbest: 0.6742266 (200)\ttotal: 57.9s\tremaining: 13m 26s\n",
            "300:\tlearn: 0.7077173\ttest: 0.5047494\ttest1: 0.6642723\tbest: 0.6642723 (300)\ttotal: 1m 34s\tremaining: 14m 5s\n",
            "400:\tlearn: 0.6980324\ttest: 0.4935647\ttest1: 0.6611416\tbest: 0.6611364 (399)\ttotal: 2m 11s\tremaining: 14m 14s\n",
            "500:\tlearn: 0.6901301\ttest: 0.4844878\ttest1: 0.6598981\tbest: 0.6598857 (495)\ttotal: 2m 50s\tremaining: 14m 9s\n",
            "600:\tlearn: 0.6810508\ttest: 0.4770314\ttest1: 0.6590001\tbest: 0.6590001 (600)\ttotal: 3m 30s\tremaining: 14m\n",
            "700:\tlearn: 0.6715180\ttest: 0.4723391\ttest1: 0.6579305\tbest: 0.6579305 (700)\ttotal: 4m 11s\tremaining: 13m 43s\n",
            "800:\tlearn: 0.6614476\ttest: 0.4684535\ttest1: 0.6573069\tbest: 0.6572945 (796)\ttotal: 4m 51s\tremaining: 13m 21s\n",
            "900:\tlearn: 0.6506937\ttest: 0.4650135\ttest1: 0.6565890\tbest: 0.6565623 (890)\ttotal: 5m 33s\tremaining: 12m 56s\n",
            "1000:\tlearn: 0.6410176\ttest: 0.4629751\ttest1: 0.6559461\tbest: 0.6559461 (1000)\ttotal: 6m 14s\tremaining: 12m 27s\n",
            "1100:\tlearn: 0.6313710\ttest: 0.4606626\ttest1: 0.6557001\tbest: 0.6556304 (1078)\ttotal: 6m 55s\tremaining: 11m 55s\n",
            "Stopped by overfitting detector  (50 iterations wait)\n",
            "\n",
            "bestTest = 0.6556304177\n",
            "bestIteration = 1078\n",
            "\n",
            "Shrink model to first 1079 iterations.\n",
            "FOLD1:logloss:0.655630417727049\n",
            "-----------------------------------------------------------------------------------------------------------------\n",
            "\n",
            "\n",
            "0:\tlearn: 1.0894647\ttest: 1.0894657\ttest1: 1.0895831\tbest: 1.0895831 (0)\ttotal: 162ms\tremaining: 8m 4s\n",
            "100:\tlearn: 0.7605828\ttest: 0.6419031\ttest1: 0.7345092\tbest: 0.7345092 (100)\ttotal: 27.5s\tremaining: 13m 10s\n",
            "200:\tlearn: 0.7211847\ttest: 0.5336577\ttest1: 0.6815906\tbest: 0.6815906 (200)\ttotal: 56.7s\tremaining: 13m 9s\n",
            "300:\tlearn: 0.7064525\ttest: 0.5026719\ttest1: 0.6701510\tbest: 0.6701510 (300)\ttotal: 1m 34s\tremaining: 14m 4s\n",
            "400:\tlearn: 0.6955333\ttest: 0.4862347\ttest1: 0.6669837\tbest: 0.6669837 (400)\ttotal: 2m 12s\tremaining: 14m 21s\n",
            "500:\tlearn: 0.6865459\ttest: 0.4749236\ttest1: 0.6652429\tbest: 0.6652238 (498)\ttotal: 2m 52s\tremaining: 14m 19s\n",
            "600:\tlearn: 0.6773981\ttest: 0.4660475\ttest1: 0.6642888\tbest: 0.6642734 (597)\ttotal: 3m 31s\tremaining: 14m 4s\n",
            "700:\tlearn: 0.6677937\ttest: 0.4607764\ttest1: 0.6637533\tbest: 0.6637533 (700)\ttotal: 4m 12s\tremaining: 13m 49s\n",
            "800:\tlearn: 0.6573413\ttest: 0.4575014\ttest1: 0.6628011\tbest: 0.6627976 (799)\ttotal: 4m 53s\tremaining: 13m 26s\n",
            "Stopped by overfitting detector  (50 iterations wait)\n",
            "\n",
            "bestTest = 0.6627743454\n",
            "bestIteration = 807\n",
            "\n",
            "Shrink model to first 808 iterations.\n",
            "FOLD2:logloss:0.6627743453829691\n",
            "-----------------------------------------------------------------------------------------------------------------\n",
            "\n",
            "\n",
            "0:\tlearn: 1.0917241\ttest: 1.0917241\ttest1: 1.0917248\tbest: 1.0917248 (0)\ttotal: 32.8ms\tremaining: 1m 38s\n",
            "100:\tlearn: 0.7607032\ttest: 0.6394172\ttest1: 0.7351208\tbest: 0.7351208 (100)\ttotal: 23s\tremaining: 11m\n"
          ],
          "name": "stdout"
        },
        {
          "output_type": "error",
          "ename": "KeyboardInterrupt",
          "evalue": "ignored",
          "traceback": [
            "\u001b[0;31m---------------------------------------------------------------------------\u001b[0m",
            "\u001b[0;31mKeyboardInterrupt\u001b[0m                         Traceback (most recent call last)",
            "\u001b[0;32m<ipython-input-28-57c2dc281c83>\u001b[0m in \u001b[0;36m<module>\u001b[0;34m()\u001b[0m\n\u001b[1;32m     11\u001b[0m \u001b[0;34m\u001b[0m\u001b[0m\n\u001b[1;32m     12\u001b[0m   \u001b[0mcat\u001b[0m \u001b[0;34m=\u001b[0m \u001b[0mCatBoostClassifier\u001b[0m\u001b[0;34m(\u001b[0m\u001b[0mn_estimators\u001b[0m\u001b[0;34m=\u001b[0m\u001b[0;36m3000\u001b[0m\u001b[0;34m,\u001b[0m \u001b[0mbootstrap_type\u001b[0m\u001b[0;34m=\u001b[0m\u001b[0;34m'Bernoulli'\u001b[0m\u001b[0;34m,\u001b[0m \u001b[0;34m**\u001b[0m\u001b[0mcat_params\u001b[0m\u001b[0;34m)\u001b[0m\u001b[0;34m\u001b[0m\u001b[0;34m\u001b[0m\u001b[0m\n\u001b[0;32m---> 13\u001b[0;31m   \u001b[0mcat\u001b[0m\u001b[0;34m.\u001b[0m\u001b[0mfit\u001b[0m\u001b[0;34m(\u001b[0m\u001b[0mX_train\u001b[0m\u001b[0;34m,\u001b[0m \u001b[0mY_train\u001b[0m\u001b[0;34m,\u001b[0m \u001b[0meval_set\u001b[0m\u001b[0;34m=\u001b[0m\u001b[0;34m[\u001b[0m\u001b[0;34m(\u001b[0m\u001b[0mX_train\u001b[0m\u001b[0;34m,\u001b[0m \u001b[0mY_train\u001b[0m\u001b[0;34m)\u001b[0m\u001b[0;34m,\u001b[0m \u001b[0;34m(\u001b[0m\u001b[0mX_valid\u001b[0m\u001b[0;34m,\u001b[0m \u001b[0mY_valid\u001b[0m\u001b[0;34m)\u001b[0m\u001b[0;34m]\u001b[0m\u001b[0;34m,\u001b[0m \u001b[0mearly_stopping_rounds\u001b[0m \u001b[0;34m=\u001b[0m \u001b[0;36m50\u001b[0m\u001b[0;34m,\u001b[0m \u001b[0mcat_features\u001b[0m\u001b[0;34m=\u001b[0m\u001b[0mcat_features\u001b[0m\u001b[0;34m,\u001b[0m \u001b[0mverbose\u001b[0m\u001b[0;34m=\u001b[0m\u001b[0;36m100\u001b[0m\u001b[0;34m)\u001b[0m\u001b[0;34m\u001b[0m\u001b[0;34m\u001b[0m\u001b[0m\n\u001b[0m\u001b[1;32m     14\u001b[0m \u001b[0;34m\u001b[0m\u001b[0m\n\u001b[1;32m     15\u001b[0m   \u001b[0mcat_models\u001b[0m\u001b[0;34m[\u001b[0m\u001b[0mn_fold\u001b[0m\u001b[0;34m]\u001b[0m \u001b[0;34m=\u001b[0m \u001b[0mcat\u001b[0m\u001b[0;34m\u001b[0m\u001b[0;34m\u001b[0m\u001b[0m\n",
            "\u001b[0;32m/usr/local/lib/python3.7/dist-packages/catboost/core.py\u001b[0m in \u001b[0;36mfit\u001b[0;34m(self, X, y, cat_features, text_features, embedding_features, sample_weight, baseline, use_best_model, eval_set, verbose, logging_level, plot, column_description, verbose_eval, metric_period, silent, early_stopping_rounds, save_snapshot, snapshot_file, snapshot_interval, init_model)\u001b[0m\n\u001b[1;32m   4539\u001b[0m         self._fit(X, y, cat_features, text_features, embedding_features, None, sample_weight, None, None, None, None, baseline, use_best_model,\n\u001b[1;32m   4540\u001b[0m                   \u001b[0meval_set\u001b[0m\u001b[0;34m,\u001b[0m \u001b[0mverbose\u001b[0m\u001b[0;34m,\u001b[0m \u001b[0mlogging_level\u001b[0m\u001b[0;34m,\u001b[0m \u001b[0mplot\u001b[0m\u001b[0;34m,\u001b[0m \u001b[0mcolumn_description\u001b[0m\u001b[0;34m,\u001b[0m \u001b[0mverbose_eval\u001b[0m\u001b[0;34m,\u001b[0m \u001b[0mmetric_period\u001b[0m\u001b[0;34m,\u001b[0m\u001b[0;34m\u001b[0m\u001b[0;34m\u001b[0m\u001b[0m\n\u001b[0;32m-> 4541\u001b[0;31m                   silent, early_stopping_rounds, save_snapshot, snapshot_file, snapshot_interval, init_model)\n\u001b[0m\u001b[1;32m   4542\u001b[0m         \u001b[0;32mreturn\u001b[0m \u001b[0mself\u001b[0m\u001b[0;34m\u001b[0m\u001b[0;34m\u001b[0m\u001b[0m\n\u001b[1;32m   4543\u001b[0m \u001b[0;34m\u001b[0m\u001b[0m\n",
            "\u001b[0;32m/usr/local/lib/python3.7/dist-packages/catboost/core.py\u001b[0m in \u001b[0;36m_fit\u001b[0;34m(self, X, y, cat_features, text_features, embedding_features, pairs, sample_weight, group_id, group_weight, subgroup_id, pairs_weight, baseline, use_best_model, eval_set, verbose, logging_level, plot, column_description, verbose_eval, metric_period, silent, early_stopping_rounds, save_snapshot, snapshot_file, snapshot_interval, init_model)\u001b[0m\n\u001b[1;32m   1921\u001b[0m                 \u001b[0mparams\u001b[0m\u001b[0;34m,\u001b[0m\u001b[0;34m\u001b[0m\u001b[0;34m\u001b[0m\u001b[0m\n\u001b[1;32m   1922\u001b[0m                 \u001b[0mallow_clear_pool\u001b[0m\u001b[0;34m,\u001b[0m\u001b[0;34m\u001b[0m\u001b[0;34m\u001b[0m\u001b[0m\n\u001b[0;32m-> 1923\u001b[0;31m                 \u001b[0mtrain_params\u001b[0m\u001b[0;34m[\u001b[0m\u001b[0;34m\"init_model\"\u001b[0m\u001b[0;34m]\u001b[0m\u001b[0;34m\u001b[0m\u001b[0;34m\u001b[0m\u001b[0m\n\u001b[0m\u001b[1;32m   1924\u001b[0m             )\n\u001b[1;32m   1925\u001b[0m \u001b[0;34m\u001b[0m\u001b[0m\n",
            "\u001b[0;32m/usr/local/lib/python3.7/dist-packages/catboost/core.py\u001b[0m in \u001b[0;36m_train\u001b[0;34m(self, train_pool, test_pool, params, allow_clear_pool, init_model)\u001b[0m\n\u001b[1;32m   1364\u001b[0m \u001b[0;34m\u001b[0m\u001b[0m\n\u001b[1;32m   1365\u001b[0m     \u001b[0;32mdef\u001b[0m \u001b[0m_train\u001b[0m\u001b[0;34m(\u001b[0m\u001b[0mself\u001b[0m\u001b[0;34m,\u001b[0m \u001b[0mtrain_pool\u001b[0m\u001b[0;34m,\u001b[0m \u001b[0mtest_pool\u001b[0m\u001b[0;34m,\u001b[0m \u001b[0mparams\u001b[0m\u001b[0;34m,\u001b[0m \u001b[0mallow_clear_pool\u001b[0m\u001b[0;34m,\u001b[0m \u001b[0minit_model\u001b[0m\u001b[0;34m)\u001b[0m\u001b[0;34m:\u001b[0m\u001b[0;34m\u001b[0m\u001b[0;34m\u001b[0m\u001b[0m\n\u001b[0;32m-> 1366\u001b[0;31m         \u001b[0mself\u001b[0m\u001b[0;34m.\u001b[0m\u001b[0m_object\u001b[0m\u001b[0;34m.\u001b[0m\u001b[0m_train\u001b[0m\u001b[0;34m(\u001b[0m\u001b[0mtrain_pool\u001b[0m\u001b[0;34m,\u001b[0m \u001b[0mtest_pool\u001b[0m\u001b[0;34m,\u001b[0m \u001b[0mparams\u001b[0m\u001b[0;34m,\u001b[0m \u001b[0mallow_clear_pool\u001b[0m\u001b[0;34m,\u001b[0m \u001b[0minit_model\u001b[0m\u001b[0;34m.\u001b[0m\u001b[0m_object\u001b[0m \u001b[0;32mif\u001b[0m \u001b[0minit_model\u001b[0m \u001b[0;32melse\u001b[0m \u001b[0;32mNone\u001b[0m\u001b[0;34m)\u001b[0m\u001b[0;34m\u001b[0m\u001b[0;34m\u001b[0m\u001b[0m\n\u001b[0m\u001b[1;32m   1367\u001b[0m         \u001b[0mself\u001b[0m\u001b[0;34m.\u001b[0m\u001b[0m_set_trained_model_attributes\u001b[0m\u001b[0;34m(\u001b[0m\u001b[0;34m)\u001b[0m\u001b[0;34m\u001b[0m\u001b[0;34m\u001b[0m\u001b[0m\n\u001b[1;32m   1368\u001b[0m \u001b[0;34m\u001b[0m\u001b[0m\n",
            "\u001b[0;32m_catboost.pyx\u001b[0m in \u001b[0;36m_catboost._CatBoost._train\u001b[0;34m()\u001b[0m\n",
            "\u001b[0;32m_catboost.pyx\u001b[0m in \u001b[0;36m_catboost._CatBoost._train\u001b[0;34m()\u001b[0m\n",
            "\u001b[0;31mKeyboardInterrupt\u001b[0m: "
          ]
        }
      ]
    },
    {
      "cell_type": "code",
      "metadata": {
        "colab": {
          "base_uri": "https://localhost:8080/"
        },
        "id": "EB9wKpLrfiEw",
        "outputId": "3990a56e-b679-46d9-ca33-cc9c8af0d3f1"
      },
      "source": [
        "pip install optuna"
      ],
      "execution_count": 18,
      "outputs": [
        {
          "output_type": "stream",
          "text": [
            "Collecting optuna\n",
            "\u001b[?25l  Downloading https://files.pythonhosted.org/packages/2b/21/d13081805e1e1afc71f5bb743ece324c8bd576237c51b899ecb38a717502/optuna-2.7.0-py3-none-any.whl (293kB)\n",
            "\u001b[K     |████████████████████████████████| 296kB 7.6MB/s \n",
            "\u001b[?25hRequirement already satisfied: packaging>=20.0 in /usr/local/lib/python3.7/dist-packages (from optuna) (20.9)\n",
            "Collecting alembic\n",
            "\u001b[?25l  Downloading https://files.pythonhosted.org/packages/eb/bd/c3486fd57a3eec5162a2e32e8f05880c990f0d92b03d268342d2e8fe7032/alembic-1.6.4-py2.py3-none-any.whl (164kB)\n",
            "\u001b[K     |████████████████████████████████| 174kB 13.0MB/s \n",
            "\u001b[?25hRequirement already satisfied: numpy in /usr/local/lib/python3.7/dist-packages (from optuna) (1.19.5)\n",
            "Collecting cmaes>=0.8.2\n",
            "  Downloading https://files.pythonhosted.org/packages/01/1f/43b01223a0366171f474320c6e966c39a11587287f098a5f09809b45e05f/cmaes-0.8.2-py3-none-any.whl\n",
            "Requirement already satisfied: sqlalchemy>=1.1.0 in /usr/local/lib/python3.7/dist-packages (from optuna) (1.4.15)\n",
            "Collecting colorlog\n",
            "  Downloading https://files.pythonhosted.org/packages/32/e6/e9ddc6fa1104fda718338b341e4b3dc31cd8039ab29e52fc73b508515361/colorlog-5.0.1-py2.py3-none-any.whl\n",
            "Collecting cliff\n",
            "\u001b[?25l  Downloading https://files.pythonhosted.org/packages/a2/d6/7d9acb68a77acd140be7fececb7f2701b2a29d2da9c54184cb8f93509590/cliff-3.7.0-py3-none-any.whl (80kB)\n",
            "\u001b[K     |████████████████████████████████| 81kB 8.2MB/s \n",
            "\u001b[?25hRequirement already satisfied: scipy!=1.4.0 in /usr/local/lib/python3.7/dist-packages (from optuna) (1.4.1)\n",
            "Requirement already satisfied: tqdm in /usr/local/lib/python3.7/dist-packages (from optuna) (4.41.1)\n",
            "Requirement already satisfied: pyparsing>=2.0.2 in /usr/local/lib/python3.7/dist-packages (from packaging>=20.0->optuna) (2.4.7)\n",
            "Collecting Mako\n",
            "\u001b[?25l  Downloading https://files.pythonhosted.org/packages/f3/54/dbc07fbb20865d3b78fdb7cf7fa713e2cba4f87f71100074ef2dc9f9d1f7/Mako-1.1.4-py2.py3-none-any.whl (75kB)\n",
            "\u001b[K     |████████████████████████████████| 81kB 7.4MB/s \n",
            "\u001b[?25hRequirement already satisfied: python-dateutil in /usr/local/lib/python3.7/dist-packages (from alembic->optuna) (2.8.1)\n",
            "Collecting python-editor>=0.3\n",
            "  Downloading https://files.pythonhosted.org/packages/c6/d3/201fc3abe391bbae6606e6f1d598c15d367033332bd54352b12f35513717/python_editor-1.0.4-py3-none-any.whl\n",
            "Requirement already satisfied: greenlet!=0.4.17; python_version >= \"3\" in /usr/local/lib/python3.7/dist-packages (from sqlalchemy>=1.1.0->optuna) (1.1.0)\n",
            "Requirement already satisfied: importlib-metadata; python_version < \"3.8\" in /usr/local/lib/python3.7/dist-packages (from sqlalchemy>=1.1.0->optuna) (4.0.1)\n",
            "Requirement already satisfied: PrettyTable>=0.7.2 in /usr/local/lib/python3.7/dist-packages (from cliff->optuna) (2.1.0)\n",
            "Requirement already satisfied: PyYAML>=3.12 in /usr/local/lib/python3.7/dist-packages (from cliff->optuna) (3.13)\n",
            "Collecting stevedore>=2.0.1\n",
            "\u001b[?25l  Downloading https://files.pythonhosted.org/packages/d4/49/b602307aeac3df3384ff1fcd05da9c0376c622a6c48bb5325f28ab165b57/stevedore-3.3.0-py3-none-any.whl (49kB)\n",
            "\u001b[K     |████████████████████████████████| 51kB 6.0MB/s \n",
            "\u001b[?25hCollecting pbr!=2.1.0,>=2.0.0\n",
            "\u001b[?25l  Downloading https://files.pythonhosted.org/packages/18/e0/1d4702dd81121d04a477c272d47ee5b6bc970d1a0990b11befa275c55cf2/pbr-5.6.0-py2.py3-none-any.whl (111kB)\n",
            "\u001b[K     |████████████████████████████████| 112kB 15.4MB/s \n",
            "\u001b[?25hCollecting cmd2>=1.0.0\n",
            "\u001b[?25l  Downloading https://files.pythonhosted.org/packages/15/8b/15061b32332bb35ea2a2f6263d0f616779d576e82739ec8e7fcf3c94abf5/cmd2-1.5.0-py3-none-any.whl (133kB)\n",
            "\u001b[K     |████████████████████████████████| 143kB 14.9MB/s \n",
            "\u001b[?25hRequirement already satisfied: MarkupSafe>=0.9.2 in /usr/local/lib/python3.7/dist-packages (from Mako->alembic->optuna) (2.0.1)\n",
            "Requirement already satisfied: six>=1.5 in /usr/local/lib/python3.7/dist-packages (from python-dateutil->alembic->optuna) (1.15.0)\n",
            "Requirement already satisfied: typing-extensions>=3.6.4; python_version < \"3.8\" in /usr/local/lib/python3.7/dist-packages (from importlib-metadata; python_version < \"3.8\"->sqlalchemy>=1.1.0->optuna) (3.7.4.3)\n",
            "Requirement already satisfied: zipp>=0.5 in /usr/local/lib/python3.7/dist-packages (from importlib-metadata; python_version < \"3.8\"->sqlalchemy>=1.1.0->optuna) (3.4.1)\n",
            "Requirement already satisfied: wcwidth in /usr/local/lib/python3.7/dist-packages (from PrettyTable>=0.7.2->cliff->optuna) (0.2.5)\n",
            "Collecting pyperclip>=1.6\n",
            "  Downloading https://files.pythonhosted.org/packages/a7/2c/4c64579f847bd5d539803c8b909e54ba087a79d01bb3aba433a95879a6c5/pyperclip-1.8.2.tar.gz\n",
            "Requirement already satisfied: attrs>=16.3.0 in /usr/local/lib/python3.7/dist-packages (from cmd2>=1.0.0->cliff->optuna) (21.2.0)\n",
            "Collecting colorama>=0.3.7\n",
            "  Downloading https://files.pythonhosted.org/packages/44/98/5b86278fbbf250d239ae0ecb724f8572af1c91f4a11edf4d36a206189440/colorama-0.4.4-py2.py3-none-any.whl\n",
            "Building wheels for collected packages: pyperclip\n",
            "  Building wheel for pyperclip (setup.py) ... \u001b[?25l\u001b[?25hdone\n",
            "  Created wheel for pyperclip: filename=pyperclip-1.8.2-cp37-none-any.whl size=11107 sha256=649154833e6b4353fed8ee294cc859e9a7914a69fc1b858a538e72cf58df6087\n",
            "  Stored in directory: /root/.cache/pip/wheels/25/af/b8/3407109267803f4015e1ee2ff23be0c8c19ce4008665931ee1\n",
            "Successfully built pyperclip\n",
            "Installing collected packages: Mako, python-editor, alembic, cmaes, colorlog, pbr, stevedore, pyperclip, colorama, cmd2, cliff, optuna\n",
            "Successfully installed Mako-1.1.4 alembic-1.6.4 cliff-3.7.0 cmaes-0.8.2 cmd2-1.5.0 colorama-0.4.4 colorlog-5.0.1 optuna-2.7.0 pbr-5.6.0 pyperclip-1.8.2 python-editor-1.0.4 stevedore-3.3.0\n"
          ],
          "name": "stdout"
        }
      ]
    },
    {
      "cell_type": "code",
      "metadata": {
        "id": "Q9wTIi9wdY2D"
      },
      "source": [
        "import optuna\n",
        "from lightgbm import LGBMClassifier\n",
        "from optuna import Trial\n",
        "from optuna.samplers import TPESampler\n",
        "\n",
        "def objective(trial: Trial) -> float:\n",
        "    params_cat = {\n",
        "        \"random_seed\": trial.suggest_int('random_seed', 42, 1043),\n",
        "        \"learning_rate\": trial.suggest_float('learning_rate', 0.01, 0.04),\n",
        "        \"n_estimators\": 3000,\n",
        "        \"reg_lambda\": trial.suggest_float(\"reg_lambda\", 1e-8, 9e-2),\n",
        "        \"max_depth\": trial.suggest_int(\"max_depth\", 1, 10),\n",
        "        \"colsample_bylevel\": trial.suggest_float(\"colsample_bylevel\", 0.4, 1.0),\n",
        "        \"subsample\": trial.suggest_float(\"subsample\", 0.3, 1.0),\n",
        "        \"min_child_samples\": trial.suggest_int(\"min_child_samples\", 5, 100),\n",
        "        \"max_bin\": trial.suggest_int(\"max_bin\", 200, 500),\n",
        "        'bootstrap_type':'Bernoulli'\n",
        "        \n",
        "    }\n",
        "    skf = StratifiedKFold(n_splits=5, shuffle=True, random_state=40)\n",
        "    for i, (train_indice, valid_indice) in enumerate(skf.split(X=x_train, y=y_train)):\n",
        "      X_train, X_valid = x_train.iloc[train_indice], x_train.iloc[valid_indice]\n",
        "      Y_train, Y_valid = y_train.iloc[train_indice], y_train.iloc[valid_indice]\n",
        "\n",
        "      model = CatBoostClassifier(**params_cat)\n",
        "      model.fit(\n",
        "          X_train,\n",
        "          Y_train,\n",
        "          eval_set=[(X_train, Y_train), (X_valid, Y_valid)],\n",
        "          early_stopping_rounds=50,\n",
        "          verbose=100,\n",
        "          cat_features=cat_features\n",
        "          )\n",
        "\n",
        "    lgb_pred = model.predict_proba(X_valid)\n",
        "    log_score = log_loss(Y_valid, lgb_pred)\n",
        "    \n",
        "    return log_score"
      ],
      "execution_count": 23,
      "outputs": []
    },
    {
      "cell_type": "code",
      "metadata": {
        "colab": {
          "base_uri": "https://localhost:8080/"
        },
        "id": "63zMxV2_dYXf",
        "outputId": "69c40e79-2966-4358-bc7d-00aac8566831"
      },
      "source": [
        "sampler = TPESampler(seed=42)\n",
        "study = optuna.create_study(\n",
        "    study_name=\"cat_parameter_opt\",\n",
        "    direction=\"minimize\",\n",
        "    sampler=sampler,\n",
        ")\n",
        "study.optimize(objective, n_trials=10)\n",
        "print(\"Best Score:\", study.best_value)\n",
        "print(\"Best trial:\", study.best_trial.params)"
      ],
      "execution_count": 24,
      "outputs": [
        {
          "output_type": "stream",
          "text": [
            "\u001b[32m[I 2021-05-26 07:01:22,484]\u001b[0m A new study created in memory with name: cat_parameter_opt\u001b[0m\n"
          ],
          "name": "stderr"
        },
        {
          "output_type": "stream",
          "text": [
            "0:\tlearn: 1.0765439\ttest: 1.0765577\ttest1: 1.0765245\tbest: 1.0765245 (0)\ttotal: 140ms\tremaining: 7m 1s\n",
            "100:\tlearn: 0.7336900\ttest: 0.5422321\ttest1: 0.6881428\tbest: 0.6881428 (100)\ttotal: 8.39s\tremaining: 4m\n",
            "200:\tlearn: 0.7192940\ttest: 0.5113798\ttest1: 0.6775315\tbest: 0.6775315 (200)\ttotal: 18.2s\tremaining: 4m 13s\n",
            "300:\tlearn: 0.7065300\ttest: 0.4970842\ttest1: 0.6725212\tbest: 0.6725212 (300)\ttotal: 28.5s\tremaining: 4m 15s\n",
            "400:\tlearn: 0.6930761\ttest: 0.4835493\ttest1: 0.6704759\tbest: 0.6704759 (400)\ttotal: 39.3s\tremaining: 4m 14s\n",
            "500:\tlearn: 0.6805728\ttest: 0.4755786\ttest1: 0.6693839\tbest: 0.6693794 (498)\ttotal: 50s\tremaining: 4m 9s\n",
            "600:\tlearn: 0.6691628\ttest: 0.4691486\ttest1: 0.6691077\tbest: 0.6689608 (585)\ttotal: 1m\tremaining: 4m 3s\n",
            "Stopped by overfitting detector  (50 iterations wait)\n",
            "\n",
            "bestTest = 0.6689608406\n",
            "bestIteration = 585\n",
            "\n",
            "Shrink model to first 586 iterations.\n",
            "0:\tlearn: 1.0763257\ttest: 1.0763257\ttest1: 1.0764069\tbest: 1.0764069 (0)\ttotal: 48.7ms\tremaining: 2m 26s\n",
            "100:\tlearn: 0.7295751\ttest: 0.5302309\ttest1: 0.6964102\tbest: 0.6964102 (100)\ttotal: 8.3s\tremaining: 3m 58s\n",
            "200:\tlearn: 0.7138497\ttest: 0.4740624\ttest1: 0.6883339\tbest: 0.6882928 (196)\ttotal: 18.2s\tremaining: 4m 13s\n",
            "300:\tlearn: 0.7012824\ttest: 0.4574151\ttest1: 0.6852585\tbest: 0.6852493 (298)\ttotal: 28.5s\tremaining: 4m 15s\n",
            "400:\tlearn: 0.6878331\ttest: 0.4510395\ttest1: 0.6842606\tbest: 0.6842122 (398)\ttotal: 39.4s\tremaining: 4m 15s\n",
            "500:\tlearn: 0.6751270\ttest: 0.4471352\ttest1: 0.6837011\tbest: 0.6836216 (489)\ttotal: 50.4s\tremaining: 4m 11s\n",
            "Stopped by overfitting detector  (50 iterations wait)\n",
            "\n",
            "bestTest = 0.683515129\n",
            "bestIteration = 521\n",
            "\n",
            "Shrink model to first 522 iterations.\n",
            "0:\tlearn: 1.0764135\ttest: 1.0764135\ttest1: 1.0763176\tbest: 1.0763176 (0)\ttotal: 48.6ms\tremaining: 2m 25s\n",
            "100:\tlearn: 0.7292777\ttest: 0.5311572\ttest1: 0.6984135\tbest: 0.6984135 (100)\ttotal: 7.93s\tremaining: 3m 47s\n",
            "200:\tlearn: 0.7140485\ttest: 0.4968918\ttest1: 0.6903148\tbest: 0.6903148 (200)\ttotal: 18.1s\tremaining: 4m 11s\n",
            "300:\tlearn: 0.7011450\ttest: 0.4851342\ttest1: 0.6868904\tbest: 0.6868647 (294)\ttotal: 28.9s\tremaining: 4m 18s\n",
            "400:\tlearn: 0.6874659\ttest: 0.4781797\ttest1: 0.6857251\tbest: 0.6856363 (399)\ttotal: 39.9s\tremaining: 4m 18s\n",
            "500:\tlearn: 0.6752662\ttest: 0.4730651\ttest1: 0.6849605\tbest: 0.6849605 (500)\ttotal: 50.7s\tremaining: 4m 12s\n",
            "600:\tlearn: 0.6633066\ttest: 0.4691687\ttest1: 0.6848950\tbest: 0.6848294 (591)\ttotal: 1m 1s\tremaining: 4m 6s\n",
            "Stopped by overfitting detector  (50 iterations wait)\n",
            "\n",
            "bestTest = 0.6848294103\n",
            "bestIteration = 591\n",
            "\n",
            "Shrink model to first 592 iterations.\n",
            "0:\tlearn: 1.0763697\ttest: 1.0763697\ttest1: 1.0763901\tbest: 1.0763901 (0)\ttotal: 49.2ms\tremaining: 2m 27s\n",
            "100:\tlearn: 0.7314988\ttest: 0.5365623\ttest1: 0.6876816\tbest: 0.6876816 (100)\ttotal: 8.26s\tremaining: 3m 57s\n",
            "200:\tlearn: 0.7170036\ttest: 0.4833616\ttest1: 0.6754227\tbest: 0.6754227 (200)\ttotal: 18.2s\tremaining: 4m 13s\n",
            "300:\tlearn: 0.7032425\ttest: 0.4666262\ttest1: 0.6724075\tbest: 0.6724075 (300)\ttotal: 29.1s\tremaining: 4m 20s\n",
            "400:\tlearn: 0.6901449\ttest: 0.4588417\ttest1: 0.6712755\tbest: 0.6712441 (399)\ttotal: 39.9s\tremaining: 4m 18s\n",
            "500:\tlearn: 0.6773978\ttest: 0.4531506\ttest1: 0.6711042\tbest: 0.6708121 (487)\ttotal: 51s\tremaining: 4m 14s\n",
            "Stopped by overfitting detector  (50 iterations wait)\n",
            "\n",
            "bestTest = 0.6708121056\n",
            "bestIteration = 487\n",
            "\n",
            "Shrink model to first 488 iterations.\n",
            "0:\tlearn: 1.0763738\ttest: 1.0763738\ttest1: 1.0764361\tbest: 1.0764361 (0)\ttotal: 49.3ms\tremaining: 2m 27s\n",
            "100:\tlearn: 0.7289863\ttest: 0.5268330\ttest1: 0.6943437\tbest: 0.6943437 (100)\ttotal: 8.16s\tremaining: 3m 54s\n",
            "200:\tlearn: 0.7145640\ttest: 0.4767586\ttest1: 0.6855527\tbest: 0.6855527 (200)\ttotal: 18.6s\tremaining: 4m 18s\n",
            "300:\tlearn: 0.7015818\ttest: 0.4560410\ttest1: 0.6821008\tbest: 0.6821008 (300)\ttotal: 29.1s\tremaining: 4m 21s\n",
            "400:\tlearn: 0.6881508\ttest: 0.4479361\ttest1: 0.6811652\tbest: 0.6811652 (400)\ttotal: 40.1s\tremaining: 4m 20s\n",
            "Stopped by overfitting detector  (50 iterations wait)\n",
            "\n",
            "bestTest = 0.6809494492\n",
            "bestIteration = 415\n",
            "\n",
            "Shrink model to first 416 iterations.\n"
          ],
          "name": "stdout"
        },
        {
          "output_type": "stream",
          "text": [
            "\u001b[32m[I 2021-05-26 07:06:17,378]\u001b[0m Trial 0 finished with value: 0.6809494491568633 and parameters: {'random_seed': 417, 'learning_rate': 0.038521429192297486, 'reg_lambda': 0.06587945744308704, 'max_depth': 6, 'colsample_bylevel': 0.4936111842654619, 'subsample': 0.40919616423534183, 'min_child_samples': 10, 'max_bin': 460}. Best is trial 0 with value: 0.6809494491568633.\u001b[0m\n"
          ],
          "name": "stderr"
        },
        {
          "output_type": "stream",
          "text": [
            "0:\tlearn: 1.0806763\ttest: 1.0806763\ttest1: 1.0806457\tbest: 1.0806457 (0)\ttotal: 47.6ms\tremaining: 2m 22s\n",
            "100:\tlearn: 0.7146131\ttest: 0.5413418\ttest1: 0.6879848\tbest: 0.6879848 (100)\ttotal: 33.9s\tremaining: 16m 14s\n",
            "200:\tlearn: 0.6567140\ttest: 0.4846957\ttest1: 0.6741266\tbest: 0.6741266 (200)\ttotal: 1m 19s\tremaining: 18m 20s\n",
            "300:\tlearn: 0.6026636\ttest: 0.4650253\ttest1: 0.6703698\tbest: 0.6703152 (299)\ttotal: 2m 5s\tremaining: 18m 46s\n",
            "Stopped by overfitting detector  (50 iterations wait)\n",
            "\n",
            "bestTest = 0.6698394973\n",
            "bestIteration = 335\n",
            "\n",
            "Shrink model to first 336 iterations.\n",
            "0:\tlearn: 1.0804073\ttest: 1.0804073\ttest1: 1.0804298\tbest: 1.0804298 (0)\ttotal: 48.9ms\tremaining: 2m 26s\n",
            "100:\tlearn: 0.7123041\ttest: 0.5349257\ttest1: 0.6965886\tbest: 0.6965886 (100)\ttotal: 33s\tremaining: 15m 45s\n",
            "200:\tlearn: 0.6554618\ttest: 0.4911511\ttest1: 0.6850471\tbest: 0.6850471 (200)\ttotal: 1m 16s\tremaining: 17m 49s\n",
            "300:\tlearn: 0.6063546\ttest: 0.4593806\ttest1: 0.6838877\tbest: 0.6830314 (250)\ttotal: 2m 2s\tremaining: 18m 18s\n",
            "Stopped by overfitting detector  (50 iterations wait)\n",
            "\n",
            "bestTest = 0.6830314196\n",
            "bestIteration = 250\n",
            "\n",
            "Shrink model to first 251 iterations.\n",
            "0:\tlearn: 1.0804862\ttest: 1.0804862\ttest1: 1.0802963\tbest: 1.0802963 (0)\ttotal: 48.5ms\tremaining: 2m 25s\n",
            "100:\tlearn: 0.7073660\ttest: 0.5385619\ttest1: 0.7006994\tbest: 0.7006994 (100)\ttotal: 32.3s\tremaining: 15m 26s\n",
            "200:\tlearn: 0.6511520\ttest: 0.4920136\ttest1: 0.6895969\tbest: 0.6895888 (199)\ttotal: 1m 16s\tremaining: 17m 51s\n",
            "300:\tlearn: 0.5970390\ttest: 0.4731410\ttest1: 0.6880231\tbest: 0.6880231 (300)\ttotal: 2m 2s\tremaining: 18m 17s\n",
            "400:\tlearn: 0.5277206\ttest: 0.4546173\ttest1: 0.6865395\tbest: 0.6863858 (398)\ttotal: 2m 53s\tremaining: 18m 41s\n",
            "Stopped by overfitting detector  (50 iterations wait)\n",
            "\n",
            "bestTest = 0.6859545646\n",
            "bestIteration = 414\n",
            "\n",
            "Shrink model to first 415 iterations.\n",
            "0:\tlearn: 1.0804148\ttest: 1.0804148\ttest1: 1.0804355\tbest: 1.0804355 (0)\ttotal: 48.1ms\tremaining: 2m 24s\n",
            "100:\tlearn: 0.7136616\ttest: 0.5437057\ttest1: 0.6922370\tbest: 0.6922370 (100)\ttotal: 29s\tremaining: 13m 52s\n",
            "200:\tlearn: 0.6546618\ttest: 0.4950470\ttest1: 0.6790815\tbest: 0.6790815 (200)\ttotal: 1m 12s\tremaining: 16m 51s\n",
            "300:\tlearn: 0.6019985\ttest: 0.4667569\ttest1: 0.6754523\tbest: 0.6754523 (300)\ttotal: 1m 56s\tremaining: 17m 25s\n",
            "400:\tlearn: 0.5316650\ttest: 0.4462179\ttest1: 0.6735348\tbest: 0.6735348 (400)\ttotal: 2m 45s\tremaining: 17m 55s\n",
            "Stopped by overfitting detector  (50 iterations wait)\n",
            "\n",
            "bestTest = 0.6734121318\n",
            "bestIteration = 402\n",
            "\n",
            "Shrink model to first 403 iterations.\n",
            "0:\tlearn: 1.0803687\ttest: 1.0803687\ttest1: 1.0805132\tbest: 1.0805132 (0)\ttotal: 47.9ms\tremaining: 2m 23s\n",
            "100:\tlearn: 0.7116525\ttest: 0.5363801\ttest1: 0.6984563\tbest: 0.6984563 (100)\ttotal: 35s\tremaining: 16m 45s\n",
            "200:\tlearn: 0.6523271\ttest: 0.4900652\ttest1: 0.6862560\tbest: 0.6862560 (200)\ttotal: 1m 20s\tremaining: 18m 39s\n",
            "300:\tlearn: 0.6001131\ttest: 0.4732189\ttest1: 0.6834947\tbest: 0.6834947 (300)\ttotal: 2m 5s\tremaining: 18m 45s\n",
            "Stopped by overfitting detector  (50 iterations wait)\n",
            "\n",
            "bestTest = 0.6831947765\n",
            "bestIteration = 339\n",
            "\n",
            "Shrink model to first 340 iterations.\n"
          ],
          "name": "stdout"
        },
        {
          "output_type": "stream",
          "text": [
            "\u001b[32m[I 2021-05-26 07:20:38,843]\u001b[0m Trial 1 finished with value: 0.6831947765051771 and parameters: {'random_seed': 644, 'learning_rate': 0.031242177333881363, 'reg_lambda': 0.0018526142807772773, 'max_depth': 10, 'colsample_bylevel': 0.899465584480253, 'subsample': 0.44863737747479326, 'min_child_samples': 22, 'max_bin': 255}. Best is trial 0 with value: 0.6809494491568633.\u001b[0m\n"
          ],
          "name": "stderr"
        },
        {
          "output_type": "stream",
          "text": [
            "0:\tlearn: 1.0835685\ttest: 1.0835857\ttest1: 1.0835927\tbest: 1.0835927 (0)\ttotal: 73.7ms\tremaining: 3m 40s\n",
            "100:\tlearn: 0.7517693\ttest: 0.5945561\ttest1: 0.7096729\tbest: 0.7096729 (100)\ttotal: 3.94s\tremaining: 1m 53s\n",
            "200:\tlearn: 0.7364039\ttest: 0.5309749\ttest1: 0.6830811\tbest: 0.6830811 (200)\ttotal: 8.25s\tremaining: 1m 54s\n",
            "300:\tlearn: 0.7325917\ttest: 0.5121029\ttest1: 0.6774191\tbest: 0.6774191 (300)\ttotal: 13s\tremaining: 1m 56s\n",
            "400:\tlearn: 0.7296719\ttest: 0.5012114\ttest1: 0.6744801\tbest: 0.6744801 (400)\ttotal: 18s\tremaining: 1m 56s\n",
            "500:\tlearn: 0.7267175\ttest: 0.4936468\ttest1: 0.6719899\tbest: 0.6719889 (498)\ttotal: 23.1s\tremaining: 1m 55s\n",
            "600:\tlearn: 0.7247660\ttest: 0.4892736\ttest1: 0.6711439\tbest: 0.6711439 (600)\ttotal: 28.2s\tremaining: 1m 52s\n",
            "700:\tlearn: 0.7229066\ttest: 0.4853761\ttest1: 0.6704717\tbest: 0.6704708 (697)\ttotal: 33.4s\tremaining: 1m 49s\n",
            "800:\tlearn: 0.7213774\ttest: 0.4825357\ttest1: 0.6698449\tbest: 0.6698426 (799)\ttotal: 38.5s\tremaining: 1m 45s\n",
            "900:\tlearn: 0.7197584\ttest: 0.4810764\ttest1: 0.6695185\tbest: 0.6695110 (898)\ttotal: 43.9s\tremaining: 1m 42s\n",
            "1000:\tlearn: 0.7183116\ttest: 0.4794486\ttest1: 0.6692995\tbest: 0.6692772 (999)\ttotal: 49.2s\tremaining: 1m 38s\n",
            "1100:\tlearn: 0.7168513\ttest: 0.4770853\ttest1: 0.6689937\tbest: 0.6689895 (1099)\ttotal: 54.6s\tremaining: 1m 34s\n",
            "1200:\tlearn: 0.7155120\ttest: 0.4757729\ttest1: 0.6687871\tbest: 0.6687871 (1200)\ttotal: 59.7s\tremaining: 1m 29s\n",
            "1300:\tlearn: 0.7141511\ttest: 0.4743172\ttest1: 0.6685061\tbest: 0.6685061 (1300)\ttotal: 1m 5s\tremaining: 1m 24s\n",
            "Stopped by overfitting detector  (50 iterations wait)\n",
            "\n",
            "bestTest = 0.6684460174\n",
            "bestIteration = 1333\n",
            "\n",
            "Shrink model to first 1334 iterations.\n",
            "0:\tlearn: 1.0837429\ttest: 1.0837429\ttest1: 1.0838420\tbest: 1.0838420 (0)\ttotal: 45.3ms\tremaining: 2m 15s\n",
            "100:\tlearn: 0.7484458\ttest: 0.5884321\ttest1: 0.7165318\tbest: 0.7165318 (100)\ttotal: 3.82s\tremaining: 1m 49s\n",
            "200:\tlearn: 0.7323334\ttest: 0.5160851\ttest1: 0.6930996\tbest: 0.6930996 (200)\ttotal: 8.09s\tremaining: 1m 52s\n",
            "300:\tlearn: 0.7286601\ttest: 0.4954393\ttest1: 0.6894550\tbest: 0.6894550 (300)\ttotal: 12.8s\tremaining: 1m 54s\n",
            "400:\tlearn: 0.7258410\ttest: 0.4816716\ttest1: 0.6874167\tbest: 0.6874029 (399)\ttotal: 17.8s\tremaining: 1m 55s\n",
            "500:\tlearn: 0.7226645\ttest: 0.4756747\ttest1: 0.6856927\tbest: 0.6856459 (496)\ttotal: 23s\tremaining: 1m 54s\n",
            "600:\tlearn: 0.7204786\ttest: 0.4720981\ttest1: 0.6847346\tbest: 0.6847317 (599)\ttotal: 28.3s\tremaining: 1m 53s\n",
            "700:\tlearn: 0.7184198\ttest: 0.4688023\ttest1: 0.6842522\tbest: 0.6842522 (700)\ttotal: 33.6s\tremaining: 1m 50s\n",
            "800:\tlearn: 0.7167672\ttest: 0.4666314\ttest1: 0.6838710\tbest: 0.6838651 (790)\ttotal: 38.9s\tremaining: 1m 46s\n",
            "900:\tlearn: 0.7151182\ttest: 0.4626336\ttest1: 0.6834744\tbest: 0.6834744 (900)\ttotal: 44.1s\tremaining: 1m 42s\n",
            "Stopped by overfitting detector  (50 iterations wait)\n",
            "\n",
            "bestTest = 0.6834393556\n",
            "bestIteration = 918\n",
            "\n",
            "Shrink model to first 919 iterations.\n",
            "0:\tlearn: 1.0837975\ttest: 1.0837975\ttest1: 1.0837584\tbest: 1.0837584 (0)\ttotal: 44.2ms\tremaining: 2m 12s\n",
            "100:\tlearn: 0.7490885\ttest: 0.5883323\ttest1: 0.7184650\tbest: 0.7184650 (100)\ttotal: 3.65s\tremaining: 1m 44s\n",
            "200:\tlearn: 0.7327566\ttest: 0.5187384\ttest1: 0.6950413\tbest: 0.6950413 (200)\ttotal: 8.1s\tremaining: 1m 52s\n",
            "300:\tlearn: 0.7287310\ttest: 0.4958791\ttest1: 0.6908845\tbest: 0.6908831 (299)\ttotal: 12.8s\tremaining: 1m 54s\n",
            "400:\tlearn: 0.7259414\ttest: 0.4841648\ttest1: 0.6887634\tbest: 0.6887634 (400)\ttotal: 17.6s\tremaining: 1m 54s\n",
            "500:\tlearn: 0.7228869\ttest: 0.4759685\ttest1: 0.6869051\tbest: 0.6868852 (495)\ttotal: 22.7s\tremaining: 1m 53s\n",
            "600:\tlearn: 0.7209088\ttest: 0.4716114\ttest1: 0.6862168\tbest: 0.6861716 (595)\ttotal: 27.9s\tremaining: 1m 51s\n",
            "700:\tlearn: 0.7188675\ttest: 0.4684885\ttest1: 0.6856256\tbest: 0.6856256 (700)\ttotal: 33.4s\tremaining: 1m 49s\n",
            "800:\tlearn: 0.7172444\ttest: 0.4653253\ttest1: 0.6852731\tbest: 0.6852403 (793)\ttotal: 38.6s\tremaining: 1m 45s\n",
            "900:\tlearn: 0.7156929\ttest: 0.4637038\ttest1: 0.6850025\tbest: 0.6849842 (890)\ttotal: 44s\tremaining: 1m 42s\n",
            "1000:\tlearn: 0.7142695\ttest: 0.4611626\ttest1: 0.6848814\tbest: 0.6848393 (980)\ttotal: 49.1s\tremaining: 1m 38s\n",
            "1100:\tlearn: 0.7127122\ttest: 0.4598780\ttest1: 0.6847576\tbest: 0.6847221 (1062)\ttotal: 54.3s\tremaining: 1m 33s\n",
            "Stopped by overfitting detector  (50 iterations wait)\n",
            "\n",
            "bestTest = 0.6847220931\n",
            "bestIteration = 1062\n",
            "\n",
            "Shrink model to first 1063 iterations.\n",
            "0:\tlearn: 1.0835760\ttest: 1.0835760\ttest1: 1.0835931\tbest: 1.0835931 (0)\ttotal: 44.5ms\tremaining: 2m 13s\n",
            "100:\tlearn: 0.7512947\ttest: 0.5956963\ttest1: 0.7127154\tbest: 0.7127154 (100)\ttotal: 3.85s\tremaining: 1m 50s\n",
            "200:\tlearn: 0.7344787\ttest: 0.5276943\ttest1: 0.6853163\tbest: 0.6853163 (200)\ttotal: 8.26s\tremaining: 1m 55s\n",
            "300:\tlearn: 0.7307199\ttest: 0.5118258\ttest1: 0.6801579\tbest: 0.6801579 (300)\ttotal: 12.9s\tremaining: 1m 55s\n",
            "400:\tlearn: 0.7281308\ttest: 0.5049031\ttest1: 0.6779405\tbest: 0.6779405 (400)\ttotal: 17.6s\tremaining: 1m 53s\n",
            "500:\tlearn: 0.7251636\ttest: 0.4993004\ttest1: 0.6759882\tbest: 0.6759882 (500)\ttotal: 22.7s\tremaining: 1m 53s\n",
            "600:\tlearn: 0.7230613\ttest: 0.4953199\ttest1: 0.6747691\tbest: 0.6747691 (600)\ttotal: 28s\tremaining: 1m 51s\n",
            "700:\tlearn: 0.7211830\ttest: 0.4925025\ttest1: 0.6740420\tbest: 0.6740420 (700)\ttotal: 33.2s\tremaining: 1m 48s\n",
            "800:\tlearn: 0.7195013\ttest: 0.4878787\ttest1: 0.6734559\tbest: 0.6734559 (800)\ttotal: 38.4s\tremaining: 1m 45s\n",
            "900:\tlearn: 0.7177570\ttest: 0.4828854\ttest1: 0.6728998\tbest: 0.6728998 (900)\ttotal: 43.6s\tremaining: 1m 41s\n",
            "1000:\tlearn: 0.7162203\ttest: 0.4809441\ttest1: 0.6726108\tbest: 0.6726042 (998)\ttotal: 48.8s\tremaining: 1m 37s\n",
            "1100:\tlearn: 0.7147537\ttest: 0.4781751\ttest1: 0.6723421\tbest: 0.6723124 (1087)\ttotal: 54s\tremaining: 1m 33s\n",
            "1200:\tlearn: 0.7132541\ttest: 0.4760595\ttest1: 0.6722375\tbest: 0.6721669 (1191)\ttotal: 59.5s\tremaining: 1m 29s\n",
            "Stopped by overfitting detector  (50 iterations wait)\n",
            "\n",
            "bestTest = 0.6721669282\n",
            "bestIteration = 1191\n",
            "\n",
            "Shrink model to first 1192 iterations.\n",
            "0:\tlearn: 1.0835379\ttest: 1.0835379\ttest1: 1.0836571\tbest: 1.0836571 (0)\ttotal: 47ms\tremaining: 2m 20s\n",
            "100:\tlearn: 0.7476935\ttest: 0.5854530\ttest1: 0.7161343\tbest: 0.7161343 (100)\ttotal: 3.75s\tremaining: 1m 47s\n",
            "200:\tlearn: 0.7320725\ttest: 0.5191537\ttest1: 0.6920784\tbest: 0.6920784 (200)\ttotal: 8.21s\tremaining: 1m 54s\n",
            "300:\tlearn: 0.7280122\ttest: 0.5057061\ttest1: 0.6881003\tbest: 0.6881003 (300)\ttotal: 12.9s\tremaining: 1m 55s\n",
            "400:\tlearn: 0.7251839\ttest: 0.4971615\ttest1: 0.6855690\tbest: 0.6855690 (400)\ttotal: 17.8s\tremaining: 1m 55s\n",
            "500:\tlearn: 0.7221882\ttest: 0.4914104\ttest1: 0.6837317\tbest: 0.6837317 (500)\ttotal: 23s\tremaining: 1m 54s\n",
            "600:\tlearn: 0.7199368\ttest: 0.4882400\ttest1: 0.6826703\tbest: 0.6826561 (597)\ttotal: 28.3s\tremaining: 1m 53s\n",
            "700:\tlearn: 0.7179947\ttest: 0.4852927\ttest1: 0.6820571\tbest: 0.6820571 (700)\ttotal: 33.6s\tremaining: 1m 50s\n",
            "800:\tlearn: 0.7162672\ttest: 0.4836425\ttest1: 0.6817297\tbest: 0.6817243 (794)\ttotal: 38.9s\tremaining: 1m 46s\n",
            "900:\tlearn: 0.7146433\ttest: 0.4818500\ttest1: 0.6813502\tbest: 0.6813452 (898)\ttotal: 44.1s\tremaining: 1m 42s\n",
            "1000:\tlearn: 0.7131927\ttest: 0.4809126\ttest1: 0.6812472\tbest: 0.6812422 (973)\ttotal: 49.6s\tremaining: 1m 38s\n",
            "Stopped by overfitting detector  (50 iterations wait)\n",
            "\n",
            "bestTest = 0.6811655051\n",
            "bestIteration = 1009\n",
            "\n",
            "Shrink model to first 1010 iterations.\n"
          ],
          "name": "stdout"
        },
        {
          "output_type": "stream",
          "text": [
            "\u001b[32m[I 2021-05-26 07:25:29,046]\u001b[0m Trial 2 finished with value: 0.6811655050620322 and parameters: {'random_seed': 346, 'learning_rate': 0.02574269294896713, 'reg_lambda': 0.03887505735834024, 'max_depth': 3, 'colsample_bylevel': 0.7671117368334277, 'subsample': 0.3976457024564293, 'min_child_samples': 33, 'max_bin': 310}. Best is trial 0 with value: 0.6809494491568633.\u001b[0m\n"
          ],
          "name": "stderr"
        },
        {
          "output_type": "stream",
          "text": [
            "0:\tlearn: 1.0838761\ttest: 1.0838761\ttest1: 1.0838863\tbest: 1.0838863 (0)\ttotal: 23.9ms\tremaining: 1m 11s\n",
            "100:\tlearn: 0.7370935\ttest: 0.5510159\ttest1: 0.6915218\tbest: 0.6915218 (100)\ttotal: 8.64s\tremaining: 4m 7s\n",
            "200:\tlearn: 0.7207495\ttest: 0.5056347\ttest1: 0.6761304\tbest: 0.6761304 (200)\ttotal: 19.4s\tremaining: 4m 30s\n",
            "300:\tlearn: 0.7102532\ttest: 0.4879702\ttest1: 0.6729760\tbest: 0.6729760 (300)\ttotal: 31.3s\tremaining: 4m 41s\n",
            "400:\tlearn: 0.6979756\ttest: 0.4778550\ttest1: 0.6697554\tbest: 0.6697554 (400)\ttotal: 44.1s\tremaining: 4m 46s\n",
            "500:\tlearn: 0.6865691\ttest: 0.4728143\ttest1: 0.6689881\tbest: 0.6688656 (470)\ttotal: 57s\tremaining: 4m 44s\n",
            "Stopped by overfitting detector  (50 iterations wait)\n",
            "\n",
            "bestTest = 0.6688656308\n",
            "bestIteration = 470\n",
            "\n",
            "Shrink model to first 471 iterations.\n",
            "0:\tlearn: 1.0791830\ttest: 1.0791654\ttest1: 1.0793850\tbest: 1.0793850 (0)\ttotal: 138ms\tremaining: 6m 52s\n",
            "100:\tlearn: 0.7323965\ttest: 0.5447419\ttest1: 0.7009084\tbest: 0.7009084 (100)\ttotal: 8.65s\tremaining: 4m 8s\n",
            "200:\tlearn: 0.7179919\ttest: 0.5089583\ttest1: 0.6902864\tbest: 0.6902864 (200)\ttotal: 19.8s\tremaining: 4m 36s\n",
            "300:\tlearn: 0.7068019\ttest: 0.4953331\ttest1: 0.6860012\tbest: 0.6860012 (300)\ttotal: 31.8s\tremaining: 4m 45s\n",
            "400:\tlearn: 0.6937641\ttest: 0.4869913\ttest1: 0.6843921\tbest: 0.6843316 (396)\ttotal: 44.5s\tremaining: 4m 48s\n",
            "500:\tlearn: 0.6818593\ttest: 0.4826828\ttest1: 0.6833263\tbest: 0.6833240 (499)\ttotal: 57.2s\tremaining: 4m 45s\n",
            "600:\tlearn: 0.6707077\ttest: 0.4766957\ttest1: 0.6825624\tbest: 0.6825470 (598)\ttotal: 1m 9s\tremaining: 4m 38s\n",
            "700:\tlearn: 0.6591294\ttest: 0.4687306\ttest1: 0.6822515\tbest: 0.6821627 (697)\ttotal: 1m 22s\tremaining: 4m 30s\n",
            "800:\tlearn: 0.6484626\ttest: 0.4609315\ttest1: 0.6821047\tbest: 0.6818123 (757)\ttotal: 1m 35s\tremaining: 4m 21s\n",
            "Stopped by overfitting detector  (50 iterations wait)\n",
            "\n",
            "bestTest = 0.6818122781\n",
            "bestIteration = 757\n",
            "\n",
            "Shrink model to first 758 iterations.\n",
            "0:\tlearn: 1.0792711\ttest: 1.0792934\ttest1: 1.0792597\tbest: 1.0792597 (0)\ttotal: 146ms\tremaining: 7m 18s\n",
            "100:\tlearn: 0.7320418\ttest: 0.5411599\ttest1: 0.7005689\tbest: 0.7005689 (100)\ttotal: 8.61s\tremaining: 4m 7s\n",
            "200:\tlearn: 0.7170105\ttest: 0.4853756\ttest1: 0.6904226\tbest: 0.6904226 (200)\ttotal: 19.9s\tremaining: 4m 36s\n",
            "300:\tlearn: 0.7064826\ttest: 0.4627693\ttest1: 0.6877334\tbest: 0.6877233 (299)\ttotal: 31.3s\tremaining: 4m 40s\n",
            "400:\tlearn: 0.6935801\ttest: 0.4541250\ttest1: 0.6859180\tbest: 0.6859180 (400)\ttotal: 43.7s\tremaining: 4m 43s\n",
            "500:\tlearn: 0.6815874\ttest: 0.4482298\ttest1: 0.6852290\tbest: 0.6852039 (494)\ttotal: 56.4s\tremaining: 4m 41s\n",
            "600:\tlearn: 0.6703074\ttest: 0.4431641\ttest1: 0.6849413\tbest: 0.6849413 (600)\ttotal: 1m 9s\tremaining: 4m 36s\n",
            "Stopped by overfitting detector  (50 iterations wait)\n",
            "\n",
            "bestTest = 0.6849412906\n",
            "bestIteration = 600\n",
            "\n",
            "Shrink model to first 601 iterations.\n",
            "0:\tlearn: 1.0792132\ttest: 1.0792740\ttest1: 1.0793286\tbest: 1.0793286 (0)\ttotal: 137ms\tremaining: 6m 51s\n",
            "100:\tlearn: 0.7339295\ttest: 0.5412600\ttest1: 0.6905167\tbest: 0.6905167 (100)\ttotal: 8.94s\tremaining: 4m 16s\n",
            "200:\tlearn: 0.7199405\ttest: 0.4946889\ttest1: 0.6783633\tbest: 0.6783633 (200)\ttotal: 19.9s\tremaining: 4m 37s\n",
            "300:\tlearn: 0.7090237\ttest: 0.4729011\ttest1: 0.6745844\tbest: 0.6745844 (300)\ttotal: 31.7s\tremaining: 4m 44s\n",
            "400:\tlearn: 0.6963683\ttest: 0.4676308\ttest1: 0.6729787\tbest: 0.6729771 (398)\ttotal: 44.4s\tremaining: 4m 47s\n",
            "500:\tlearn: 0.6837443\ttest: 0.4599402\ttest1: 0.6719944\tbest: 0.6719944 (500)\ttotal: 57.2s\tremaining: 4m 45s\n",
            "600:\tlearn: 0.6725488\ttest: 0.4565870\ttest1: 0.6714217\tbest: 0.6714217 (600)\ttotal: 1m 10s\tremaining: 4m 39s\n",
            "700:\tlearn: 0.6610926\ttest: 0.4530397\ttest1: 0.6714845\tbest: 0.6711966 (654)\ttotal: 1m 22s\tremaining: 4m 31s\n",
            "Stopped by overfitting detector  (50 iterations wait)\n",
            "\n",
            "bestTest = 0.6711965793\n",
            "bestIteration = 654\n",
            "\n",
            "Shrink model to first 655 iterations.\n",
            "0:\tlearn: 1.0792531\ttest: 1.0792984\ttest1: 1.0792577\tbest: 1.0792577 (0)\ttotal: 139ms\tremaining: 6m 56s\n",
            "100:\tlearn: 0.7326520\ttest: 0.5392476\ttest1: 0.6994131\tbest: 0.6994131 (100)\ttotal: 9.41s\tremaining: 4m 30s\n",
            "200:\tlearn: 0.7173003\ttest: 0.4881159\ttest1: 0.6883345\tbest: 0.6883245 (199)\ttotal: 20.8s\tremaining: 4m 48s\n",
            "300:\tlearn: 0.7062506\ttest: 0.4632615\ttest1: 0.6854494\tbest: 0.6854494 (300)\ttotal: 32.2s\tremaining: 4m 48s\n",
            "400:\tlearn: 0.6936574\ttest: 0.4512149\ttest1: 0.6827787\tbest: 0.6827692 (397)\ttotal: 44.8s\tremaining: 4m 50s\n",
            "500:\tlearn: 0.6822083\ttest: 0.4421778\ttest1: 0.6819656\tbest: 0.6819652 (497)\ttotal: 57.4s\tremaining: 4m 46s\n",
            "600:\tlearn: 0.6707109\ttest: 0.4363417\ttest1: 0.6814889\tbest: 0.6814835 (599)\ttotal: 1m 10s\tremaining: 4m 40s\n",
            "Stopped by overfitting detector  (50 iterations wait)\n",
            "\n",
            "bestTest = 0.6812966425\n",
            "bestIteration = 625\n",
            "\n",
            "Shrink model to first 626 iterations.\n"
          ],
          "name": "stdout"
        },
        {
          "output_type": "stream",
          "text": [
            "\u001b[32m[I 2021-05-26 07:32:07,208]\u001b[0m Trial 3 finished with value: 0.6812966424501745 and parameters: {'random_seed': 498, 'learning_rate': 0.03355527884179041, 'reg_lambda': 0.017970648397514558, 'max_depth': 6, 'colsample_bylevel': 0.7554487413172255, 'subsample': 0.3325152889039984, 'min_child_samples': 63, 'max_bin': 251}. Best is trial 0 with value: 0.6809494491568633.\u001b[0m\n"
          ],
          "name": "stderr"
        },
        {
          "output_type": "stream",
          "text": [
            "0:\tlearn: 1.0762874\ttest: 1.0762874\ttest1: 1.0762996\tbest: 1.0762996 (0)\ttotal: 29ms\tremaining: 1m 27s\n",
            "100:\tlearn: 0.7112710\ttest: 0.5296744\ttest1: 0.6843128\tbest: 0.6843128 (100)\ttotal: 19.3s\tremaining: 9m 13s\n",
            "200:\tlearn: 0.6703181\ttest: 0.4836527\ttest1: 0.6742760\tbest: 0.6742321 (194)\ttotal: 42.7s\tremaining: 9m 54s\n",
            "300:\tlearn: 0.6224439\ttest: 0.4632092\ttest1: 0.6712861\tbest: 0.6710583 (292)\ttotal: 1m 8s\tremaining: 10m 12s\n",
            "400:\tlearn: 0.5700922\ttest: 0.4493667\ttest1: 0.6694641\tbest: 0.6694433 (398)\ttotal: 1m 33s\tremaining: 10m 7s\n",
            "Stopped by overfitting detector  (50 iterations wait)\n",
            "\n",
            "bestTest = 0.6694432502\n",
            "bestIteration = 398\n",
            "\n",
            "Shrink model to first 399 iterations.\n",
            "0:\tlearn: 1.0762815\ttest: 1.0762815\ttest1: 1.0763092\tbest: 1.0763092 (0)\ttotal: 30.7ms\tremaining: 1m 32s\n",
            "100:\tlearn: 0.7114868\ttest: 0.5259378\ttest1: 0.6960649\tbest: 0.6960649 (100)\ttotal: 19.1s\tremaining: 9m 6s\n",
            "200:\tlearn: 0.6704761\ttest: 0.4806286\ttest1: 0.6889633\tbest: 0.6889015 (197)\ttotal: 42.7s\tremaining: 9m 55s\n",
            "300:\tlearn: 0.6262817\ttest: 0.4605391\ttest1: 0.6871019\tbest: 0.6869989 (295)\ttotal: 1m 8s\tremaining: 10m 17s\n",
            "Stopped by overfitting detector  (50 iterations wait)\n",
            "\n",
            "bestTest = 0.686832179\n",
            "bestIteration = 319\n",
            "\n",
            "Shrink model to first 320 iterations.\n",
            "0:\tlearn: 1.0763782\ttest: 1.0763782\ttest1: 1.0761446\tbest: 1.0761446 (0)\ttotal: 30.9ms\tremaining: 1m 32s\n",
            "100:\tlearn: 0.7108168\ttest: 0.5186394\ttest1: 0.6959978\tbest: 0.6959978 (100)\ttotal: 18.9s\tremaining: 9m 2s\n",
            "200:\tlearn: 0.6694880\ttest: 0.4677555\ttest1: 0.6875949\tbest: 0.6875949 (200)\ttotal: 41.6s\tremaining: 9m 39s\n",
            "300:\tlearn: 0.6253185\ttest: 0.4495503\ttest1: 0.6860481\tbest: 0.6859841 (297)\ttotal: 1m 7s\tremaining: 10m\n",
            "Stopped by overfitting detector  (50 iterations wait)\n",
            "\n",
            "bestTest = 0.6854603007\n",
            "bestIteration = 348\n",
            "\n",
            "Shrink model to first 349 iterations.\n",
            "0:\tlearn: 1.0762907\ttest: 1.0762907\ttest1: 1.0763160\tbest: 1.0763160 (0)\ttotal: 31.4ms\tremaining: 1m 34s\n",
            "100:\tlearn: 0.7121987\ttest: 0.5272336\ttest1: 0.6859539\tbest: 0.6859539 (100)\ttotal: 18.4s\tremaining: 8m 47s\n",
            "200:\tlearn: 0.6695799\ttest: 0.4726789\ttest1: 0.6763669\tbest: 0.6763669 (200)\ttotal: 41.2s\tremaining: 9m 34s\n",
            "300:\tlearn: 0.6266816\ttest: 0.4552809\ttest1: 0.6739410\tbest: 0.6739022 (298)\ttotal: 1m 5s\tremaining: 9m 49s\n",
            "400:\tlearn: 0.5717299\ttest: 0.4402004\ttest1: 0.6724730\tbest: 0.6723953 (397)\ttotal: 1m 31s\tremaining: 9m 53s\n",
            "Stopped by overfitting detector  (50 iterations wait)\n",
            "\n",
            "bestTest = 0.6723952542\n",
            "bestIteration = 397\n",
            "\n",
            "Shrink model to first 398 iterations.\n",
            "0:\tlearn: 1.0762341\ttest: 1.0762341\ttest1: 1.0764119\tbest: 1.0764119 (0)\ttotal: 30.4ms\tremaining: 1m 31s\n",
            "100:\tlearn: 0.7171651\ttest: 0.5309288\ttest1: 0.6957961\tbest: 0.6957961 (100)\ttotal: 17.4s\tremaining: 8m 19s\n",
            "200:\tlearn: 0.6717544\ttest: 0.4873572\ttest1: 0.6853520\tbest: 0.6853520 (200)\ttotal: 40.7s\tremaining: 9m 26s\n",
            "300:\tlearn: 0.6223736\ttest: 0.4553386\ttest1: 0.6839024\tbest: 0.6838591 (296)\ttotal: 1m 6s\tremaining: 9m 57s\n",
            "Stopped by overfitting detector  (50 iterations wait)\n",
            "\n",
            "bestTest = 0.6830464525\n",
            "bestIteration = 332\n",
            "\n",
            "Shrink model to first 333 iterations.\n"
          ],
          "name": "stdout"
        },
        {
          "output_type": "stream",
          "text": [
            "\u001b[32m[I 2021-05-26 07:40:05,890]\u001b[0m Trial 4 finished with value: 0.6830464524545614 and parameters: {'random_seed': 107, 'learning_rate': 0.0384665661176, 'reg_lambda': 0.08690688332039001, 'max_depth': 9, 'colsample_bylevel': 0.5827682615040224, 'subsample': 0.3683704798044687, 'min_child_samples': 70, 'max_bin': 332}. Best is trial 0 with value: 0.6809494491568633.\u001b[0m\n"
          ],
          "name": "stderr"
        },
        {
          "output_type": "stream",
          "text": [
            "0:\tlearn: 1.0876481\ttest: 1.0876481\ttest1: 1.0876557\tbest: 1.0876557 (0)\ttotal: 20.3ms\tremaining: 1m\n",
            "100:\tlearn: 0.7306875\ttest: 0.5711249\ttest1: 0.6995875\tbest: 0.6995875 (100)\ttotal: 25.4s\tremaining: 12m 7s\n",
            "200:\tlearn: 0.6826294\ttest: 0.5042803\ttest1: 0.6752504\tbest: 0.6752504 (200)\ttotal: 1m 3s\tremaining: 14m 46s\n",
            "300:\tlearn: 0.6430341\ttest: 0.4809835\ttest1: 0.6704929\tbest: 0.6704746 (296)\ttotal: 1m 44s\tremaining: 15m 34s\n",
            "400:\tlearn: 0.6026632\ttest: 0.4645826\ttest1: 0.6682287\tbest: 0.6681951 (394)\ttotal: 2m 26s\tremaining: 15m 46s\n",
            "500:\tlearn: 0.5554163\ttest: 0.4509870\ttest1: 0.6675109\tbest: 0.6672411 (462)\ttotal: 3m 9s\tremaining: 15m 46s\n",
            "Stopped by overfitting detector  (50 iterations wait)\n",
            "\n",
            "bestTest = 0.6672411048\n",
            "bestIteration = 462\n",
            "\n",
            "Shrink model to first 463 iterations.\n",
            "0:\tlearn: 1.0840692\ttest: 1.0840456\ttest1: 1.0840612\tbest: 1.0840612 (0)\ttotal: 150ms\tremaining: 7m 29s\n",
            "100:\tlearn: 0.7258758\ttest: 0.5694519\ttest1: 0.7093940\tbest: 0.7093940 (100)\ttotal: 26.8s\tremaining: 12m 50s\n",
            "200:\tlearn: 0.6744643\ttest: 0.4919191\ttest1: 0.6887024\tbest: 0.6886842 (199)\ttotal: 1m 3s\tremaining: 14m 43s\n",
            "300:\tlearn: 0.6399234\ttest: 0.4656112\ttest1: 0.6854958\tbest: 0.6854882 (299)\ttotal: 1m 44s\tremaining: 15m 37s\n",
            "Stopped by overfitting detector  (50 iterations wait)\n",
            "\n",
            "bestTest = 0.6848948444\n",
            "bestIteration = 322\n",
            "\n",
            "Shrink model to first 323 iterations.\n",
            "0:\tlearn: 1.0841327\ttest: 1.0841648\ttest1: 1.0840160\tbest: 1.0840160 (0)\ttotal: 158ms\tremaining: 7m 54s\n",
            "100:\tlearn: 0.7270512\ttest: 0.5592767\ttest1: 0.7088652\tbest: 0.7088652 (100)\ttotal: 26.3s\tremaining: 12m 33s\n",
            "200:\tlearn: 0.6788782\ttest: 0.4939355\ttest1: 0.6903617\tbest: 0.6903302 (199)\ttotal: 1m 2s\tremaining: 14m 35s\n",
            "300:\tlearn: 0.6428046\ttest: 0.4696834\ttest1: 0.6875584\tbest: 0.6875520 (299)\ttotal: 1m 43s\tremaining: 15m 28s\n",
            "Stopped by overfitting detector  (50 iterations wait)\n",
            "\n",
            "bestTest = 0.6870869301\n",
            "bestIteration = 325\n",
            "\n",
            "Shrink model to first 326 iterations.\n",
            "0:\tlearn: 1.0839574\ttest: 1.0839945\ttest1: 1.0840660\tbest: 1.0840660 (0)\ttotal: 478ms\tremaining: 23m 52s\n",
            "100:\tlearn: 0.7232424\ttest: 0.5636219\ttest1: 0.6991167\tbest: 0.6991167 (100)\ttotal: 29s\tremaining: 13m 51s\n",
            "200:\tlearn: 0.6722245\ttest: 0.5004586\ttest1: 0.6785334\tbest: 0.6785334 (200)\ttotal: 1m 7s\tremaining: 15m 41s\n",
            "300:\tlearn: 0.6342756\ttest: 0.4759054\ttest1: 0.6744702\tbest: 0.6744702 (300)\ttotal: 1m 49s\tremaining: 16m 18s\n",
            "400:\tlearn: 0.5979638\ttest: 0.4617620\ttest1: 0.6731068\tbest: 0.6730459 (393)\ttotal: 2m 30s\tremaining: 16m 13s\n",
            "Stopped by overfitting detector  (50 iterations wait)\n",
            "\n",
            "bestTest = 0.6728167484\n",
            "bestIteration = 426\n",
            "\n",
            "Shrink model to first 427 iterations.\n",
            "0:\tlearn: 1.0840440\ttest: 1.0840511\ttest1: 1.0841738\tbest: 1.0841738 (0)\ttotal: 150ms\tremaining: 7m 31s\n",
            "100:\tlearn: 0.7253775\ttest: 0.5617885\ttest1: 0.7074508\tbest: 0.7074508 (100)\ttotal: 28.7s\tremaining: 13m 42s\n",
            "200:\tlearn: 0.6772789\ttest: 0.4794542\ttest1: 0.6885180\tbest: 0.6885180 (200)\ttotal: 1m 6s\tremaining: 15m 22s\n",
            "300:\tlearn: 0.6411704\ttest: 0.4577323\ttest1: 0.6859393\tbest: 0.6857185 (279)\ttotal: 1m 44s\tremaining: 15m 33s\n",
            "400:\tlearn: 0.6016923\ttest: 0.4436226\ttest1: 0.6846891\tbest: 0.6846891 (400)\ttotal: 2m 25s\tremaining: 15m 44s\n",
            "500:\tlearn: 0.5541390\ttest: 0.4329285\ttest1: 0.6845067\tbest: 0.6840224 (464)\ttotal: 3m 9s\tremaining: 15m 42s\n",
            "Stopped by overfitting detector  (50 iterations wait)\n",
            "\n",
            "bestTest = 0.6840224349\n",
            "bestIteration = 464\n",
            "\n",
            "Shrink model to first 465 iterations.\n"
          ],
          "name": "stdout"
        },
        {
          "output_type": "stream",
          "text": [
            "\u001b[32m[I 2021-05-26 07:54:09,231]\u001b[0m Trial 5 finished with value: 0.6840224349090118 and parameters: {'random_seed': 164, 'learning_rate': 0.024855307303338105, 'reg_lambda': 0.0030949765564844446, 'max_depth': 10, 'colsample_bylevel': 0.5552679889600102, 'subsample': 0.7637655990477874, 'min_child_samples': 34, 'max_bin': 356}. Best is trial 0 with value: 0.6809494491568633.\u001b[0m\n"
          ],
          "name": "stderr"
        },
        {
          "output_type": "stream",
          "text": [
            "0:\tlearn: 1.0895705\ttest: 1.0895772\ttest1: 1.0895783\tbest: 1.0895783 (0)\ttotal: 433ms\tremaining: 21m 37s\n",
            "100:\tlearn: 0.7694752\ttest: 0.6507511\ttest1: 0.7391328\tbest: 0.7391328 (100)\ttotal: 21.9s\tremaining: 10m 29s\n",
            "200:\tlearn: 0.7289367\ttest: 0.5411420\ttest1: 0.6864850\tbest: 0.6864850 (200)\ttotal: 49.6s\tremaining: 11m 30s\n",
            "300:\tlearn: 0.7138487\ttest: 0.5082210\ttest1: 0.6754653\tbest: 0.6754653 (300)\ttotal: 1m 22s\tremaining: 12m 22s\n",
            "400:\tlearn: 0.7025011\ttest: 0.4960948\ttest1: 0.6718707\tbest: 0.6718707 (400)\ttotal: 1m 58s\tremaining: 12m 44s\n",
            "500:\tlearn: 0.6935805\ttest: 0.4905678\ttest1: 0.6704238\tbest: 0.6704238 (500)\ttotal: 2m 32s\tremaining: 12m 38s\n",
            "600:\tlearn: 0.6838644\ttest: 0.4813763\ttest1: 0.6692305\tbest: 0.6692305 (600)\ttotal: 3m 7s\tremaining: 12m 27s\n",
            "700:\tlearn: 0.6729628\ttest: 0.4746786\ttest1: 0.6682053\tbest: 0.6682053 (700)\ttotal: 3m 45s\tremaining: 12m 17s\n",
            "800:\tlearn: 0.6609749\ttest: 0.4696692\ttest1: 0.6673746\tbest: 0.6673606 (798)\ttotal: 4m 22s\tremaining: 12m 1s\n",
            "900:\tlearn: 0.6495617\ttest: 0.4666177\ttest1: 0.6668202\tbest: 0.6668129 (896)\ttotal: 5m\tremaining: 11m 39s\n",
            "1000:\tlearn: 0.6380651\ttest: 0.4629165\ttest1: 0.6666248\tbest: 0.6665698 (994)\ttotal: 5m 37s\tremaining: 11m 14s\n",
            "Stopped by overfitting detector  (50 iterations wait)\n",
            "\n",
            "bestTest = 0.6664742369\n",
            "bestIteration = 1011\n",
            "\n",
            "Shrink model to first 1012 iterations.\n",
            "0:\tlearn: 1.0892931\ttest: 1.0892630\ttest1: 1.0893570\tbest: 1.0893570 (0)\ttotal: 395ms\tremaining: 19m 45s\n",
            "100:\tlearn: 0.7649746\ttest: 0.6451095\ttest1: 0.7440096\tbest: 0.7440096 (100)\ttotal: 23s\tremaining: 11m\n",
            "200:\tlearn: 0.7246032\ttest: 0.5347271\ttest1: 0.6963045\tbest: 0.6963045 (200)\ttotal: 48.5s\tremaining: 11m 15s\n",
            "300:\tlearn: 0.7086677\ttest: 0.5016226\ttest1: 0.6868664\tbest: 0.6868664 (300)\ttotal: 1m 19s\tremaining: 11m 57s\n",
            "400:\tlearn: 0.6973474\ttest: 0.4803596\ttest1: 0.6846002\tbest: 0.6846002 (400)\ttotal: 1m 55s\tremaining: 12m 25s\n",
            "500:\tlearn: 0.6882192\ttest: 0.4689464\ttest1: 0.6834414\tbest: 0.6834304 (499)\ttotal: 2m 29s\tremaining: 12m 27s\n",
            "600:\tlearn: 0.6787356\ttest: 0.4613333\ttest1: 0.6826836\tbest: 0.6826836 (600)\ttotal: 3m 6s\tremaining: 12m 22s\n",
            "700:\tlearn: 0.6682139\ttest: 0.4561502\ttest1: 0.6822254\tbest: 0.6821716 (692)\ttotal: 3m 44s\tremaining: 12m 14s\n",
            "Stopped by overfitting detector  (50 iterations wait)\n",
            "\n",
            "bestTest = 0.6821715929\n",
            "bestIteration = 692\n",
            "\n",
            "Shrink model to first 693 iterations.\n",
            "0:\tlearn: 1.0893684\ttest: 1.0894399\ttest1: 1.0894133\tbest: 1.0894133 (0)\ttotal: 404ms\tremaining: 20m 10s\n",
            "100:\tlearn: 0.7643817\ttest: 0.6383272\ttest1: 0.7426188\tbest: 0.7426188 (100)\ttotal: 27.4s\tremaining: 13m 7s\n",
            "200:\tlearn: 0.7233698\ttest: 0.5248406\ttest1: 0.6965482\tbest: 0.6965482 (200)\ttotal: 56.7s\tremaining: 13m 10s\n",
            "300:\tlearn: 0.7092947\ttest: 0.4905943\ttest1: 0.6887495\tbest: 0.6887495 (300)\ttotal: 1m 30s\tremaining: 13m 32s\n",
            "400:\tlearn: 0.6986588\ttest: 0.4746065\ttest1: 0.6866224\tbest: 0.6866224 (400)\ttotal: 2m 6s\tremaining: 13m 37s\n",
            "500:\tlearn: 0.6895045\ttest: 0.4659738\ttest1: 0.6858466\tbest: 0.6858124 (497)\ttotal: 2m 41s\tremaining: 13m 23s\n",
            "600:\tlearn: 0.6794540\ttest: 0.4590615\ttest1: 0.6850513\tbest: 0.6850513 (600)\ttotal: 3m 16s\tremaining: 13m 5s\n",
            "700:\tlearn: 0.6692622\ttest: 0.4557223\ttest1: 0.6843743\tbest: 0.6843651 (699)\ttotal: 3m 54s\tremaining: 12m 48s\n",
            "Stopped by overfitting detector  (50 iterations wait)\n",
            "\n",
            "bestTest = 0.6842347537\n",
            "bestIteration = 745\n",
            "\n",
            "Shrink model to first 746 iterations.\n",
            "0:\tlearn: 1.0893276\ttest: 1.0893823\ttest1: 1.0894059\tbest: 1.0894059 (0)\ttotal: 388ms\tremaining: 19m 22s\n",
            "100:\tlearn: 0.7681829\ttest: 0.6537814\ttest1: 0.7423382\tbest: 0.7423382 (100)\ttotal: 24.3s\tremaining: 11m 38s\n",
            "200:\tlearn: 0.7267641\ttest: 0.5382617\ttest1: 0.6888517\tbest: 0.6888517 (200)\ttotal: 51.6s\tremaining: 11m 58s\n",
            "300:\tlearn: 0.7118584\ttest: 0.5066856\ttest1: 0.6790150\tbest: 0.6790150 (300)\ttotal: 1m 23s\tremaining: 12m 30s\n",
            "400:\tlearn: 0.7000027\ttest: 0.4946407\ttest1: 0.6758967\tbest: 0.6758967 (400)\ttotal: 2m\tremaining: 13m 1s\n",
            "500:\tlearn: 0.6908446\ttest: 0.4818347\ttest1: 0.6745131\tbest: 0.6745131 (500)\ttotal: 2m 35s\tremaining: 12m 56s\n",
            "600:\tlearn: 0.6810699\ttest: 0.4817466\ttest1: 0.6735012\tbest: 0.6734997 (599)\ttotal: 3m 12s\tremaining: 12m 49s\n",
            "700:\tlearn: 0.6694881\ttest: 0.4776033\ttest1: 0.6725682\tbest: 0.6725586 (698)\ttotal: 3m 50s\tremaining: 12m 36s\n",
            "800:\tlearn: 0.6580789\ttest: 0.4737335\ttest1: 0.6720396\tbest: 0.6720059 (787)\ttotal: 4m 28s\tremaining: 12m 17s\n",
            "900:\tlearn: 0.6458203\ttest: 0.4698813\ttest1: 0.6716652\tbest: 0.6716526 (895)\ttotal: 5m 5s\tremaining: 11m 52s\n",
            "1000:\tlearn: 0.6335529\ttest: 0.4672335\ttest1: 0.6714813\tbest: 0.6714067 (982)\ttotal: 5m 43s\tremaining: 11m 25s\n",
            "Stopped by overfitting detector  (50 iterations wait)\n",
            "\n",
            "bestTest = 0.6714067234\n",
            "bestIteration = 982\n",
            "\n",
            "Shrink model to first 983 iterations.\n",
            "0:\tlearn: 1.0893205\ttest: 1.0893954\ttest1: 1.0894590\tbest: 1.0894590 (0)\ttotal: 399ms\tremaining: 19m 57s\n",
            "100:\tlearn: 0.7653007\ttest: 0.6442100\ttest1: 0.7446345\tbest: 0.7446345 (100)\ttotal: 24.1s\tremaining: 11m 32s\n",
            "200:\tlearn: 0.7237481\ttest: 0.5311803\ttest1: 0.6955042\tbest: 0.6955042 (200)\ttotal: 50.9s\tremaining: 11m 49s\n",
            "300:\tlearn: 0.7097703\ttest: 0.5015761\ttest1: 0.6869513\tbest: 0.6869513 (300)\ttotal: 1m 24s\tremaining: 12m 36s\n",
            "400:\tlearn: 0.6982459\ttest: 0.4825113\ttest1: 0.6841100\tbest: 0.6841100 (400)\ttotal: 1m 59s\tremaining: 12m 55s\n",
            "500:\tlearn: 0.6885366\ttest: 0.4670272\ttest1: 0.6826312\tbest: 0.6826198 (498)\ttotal: 2m 33s\tremaining: 12m 47s\n",
            "600:\tlearn: 0.6786102\ttest: 0.4592198\ttest1: 0.6818731\tbest: 0.6818705 (599)\ttotal: 3m 9s\tremaining: 12m 36s\n",
            "700:\tlearn: 0.6673290\ttest: 0.4537149\ttest1: 0.6812222\tbest: 0.6812222 (700)\ttotal: 3m 47s\tremaining: 12m 27s\n",
            "800:\tlearn: 0.6558148\ttest: 0.4502569\ttest1: 0.6804835\tbest: 0.6804669 (797)\ttotal: 4m 25s\tremaining: 12m 9s\n",
            "900:\tlearn: 0.6431731\ttest: 0.4464319\ttest1: 0.6800978\tbest: 0.6800978 (900)\ttotal: 5m 2s\tremaining: 11m 45s\n",
            "1000:\tlearn: 0.6323696\ttest: 0.4435065\ttest1: 0.6798287\tbest: 0.6798287 (1000)\ttotal: 5m 40s\tremaining: 11m 19s\n",
            "Stopped by overfitting detector  (50 iterations wait)\n",
            "\n",
            "bestTest = 0.6798194748\n",
            "bestIteration = 1003\n",
            "\n",
            "Shrink model to first 1004 iterations.\n"
          ],
          "name": "stdout"
        },
        {
          "output_type": "stream",
          "text": [
            "\u001b[32m[I 2021-05-26 08:20:40,654]\u001b[0m Trial 6 finished with value: 0.6798194748399248 and parameters: {'random_seed': 589, 'learning_rate': 0.01554563366576581, 'reg_lambda': 0.08726261680296399, 'max_depth': 8, 'colsample_bylevel': 0.9636993649385135, 'subsample': 0.9263791452993542, 'min_child_samples': 62, 'max_bin': 477}. Best is trial 6 with value: 0.6798194748399248.\u001b[0m\n"
          ],
          "name": "stderr"
        },
        {
          "output_type": "stream",
          "text": [
            "0:\tlearn: 1.0892800\ttest: 1.0892752\ttest1: 1.0892803\tbest: 1.0892803 (0)\ttotal: 96.8ms\tremaining: 4m 50s\n",
            "100:\tlearn: 0.7800745\ttest: 0.6764138\ttest1: 0.7524414\tbest: 0.7524414 (100)\ttotal: 4.96s\tremaining: 2m 22s\n",
            "200:\tlearn: 0.7424183\ttest: 0.5603409\ttest1: 0.6946677\tbest: 0.6946677 (200)\ttotal: 10s\tremaining: 2m 19s\n",
            "300:\tlearn: 0.7345329\ttest: 0.5283553\ttest1: 0.6822762\tbest: 0.6822762 (300)\ttotal: 16.3s\tremaining: 2m 25s\n",
            "400:\tlearn: 0.7310046\ttest: 0.5141065\ttest1: 0.6776802\tbest: 0.6776760 (398)\ttotal: 22.9s\tremaining: 2m 28s\n",
            "500:\tlearn: 0.7284551\ttest: 0.5012451\ttest1: 0.6752642\tbest: 0.6752642 (500)\ttotal: 29.5s\tremaining: 2m 27s\n",
            "600:\tlearn: 0.7261479\ttest: 0.4909377\ttest1: 0.6733557\tbest: 0.6733549 (599)\ttotal: 36.6s\tremaining: 2m 26s\n",
            "700:\tlearn: 0.7236508\ttest: 0.4849037\ttest1: 0.6717131\tbest: 0.6717108 (698)\ttotal: 43.6s\tremaining: 2m 22s\n",
            "800:\tlearn: 0.7211196\ttest: 0.4804130\ttest1: 0.6703205\tbest: 0.6703205 (800)\ttotal: 50.6s\tremaining: 2m 18s\n",
            "900:\tlearn: 0.7188612\ttest: 0.4777922\ttest1: 0.6696175\tbest: 0.6696067 (898)\ttotal: 57.9s\tremaining: 2m 14s\n",
            "1000:\tlearn: 0.7166447\ttest: 0.4747661\ttest1: 0.6689349\tbest: 0.6689333 (999)\ttotal: 1m 5s\tremaining: 2m 10s\n",
            "1100:\tlearn: 0.7148197\ttest: 0.4726129\ttest1: 0.6686390\tbest: 0.6686152 (1088)\ttotal: 1m 12s\tremaining: 2m 5s\n",
            "1200:\tlearn: 0.7128456\ttest: 0.4706287\ttest1: 0.6683423\tbest: 0.6683262 (1194)\ttotal: 1m 20s\tremaining: 2m\n",
            "1300:\tlearn: 0.7111134\ttest: 0.4690921\ttest1: 0.6681226\tbest: 0.6681226 (1300)\ttotal: 1m 27s\tremaining: 1m 54s\n",
            "1400:\tlearn: 0.7093670\ttest: 0.4672212\ttest1: 0.6679744\tbest: 0.6679528 (1392)\ttotal: 1m 34s\tremaining: 1m 48s\n",
            "1500:\tlearn: 0.7075773\ttest: 0.4657314\ttest1: 0.6677419\tbest: 0.6677419 (1500)\ttotal: 1m 42s\tremaining: 1m 41s\n",
            "1600:\tlearn: 0.7059894\ttest: 0.4645774\ttest1: 0.6674619\tbest: 0.6674619 (1600)\ttotal: 1m 49s\tremaining: 1m 35s\n",
            "1700:\tlearn: 0.7042280\ttest: 0.4629662\ttest1: 0.6672478\tbest: 0.6672134 (1682)\ttotal: 1m 56s\tremaining: 1m 29s\n",
            "1800:\tlearn: 0.7025618\ttest: 0.4612866\ttest1: 0.6671208\tbest: 0.6671114 (1796)\ttotal: 2m 4s\tremaining: 1m 22s\n",
            "Stopped by overfitting detector  (50 iterations wait)\n",
            "\n",
            "bestTest = 0.6671043857\n",
            "bestIteration = 1809\n",
            "\n",
            "Shrink model to first 1810 iterations.\n",
            "0:\tlearn: 1.0893921\ttest: 1.0893937\ttest1: 1.0894549\tbest: 1.0894549 (0)\ttotal: 87.1ms\tremaining: 4m 21s\n",
            "100:\tlearn: 0.7759975\ttest: 0.6655229\ttest1: 0.7537555\tbest: 0.7537555 (100)\ttotal: 5.06s\tremaining: 2m 25s\n",
            "200:\tlearn: 0.7385452\ttest: 0.5519163\ttest1: 0.7031710\tbest: 0.7031710 (200)\ttotal: 10.3s\tremaining: 2m 22s\n",
            "300:\tlearn: 0.7303863\ttest: 0.5169246\ttest1: 0.6921301\tbest: 0.6921301 (300)\ttotal: 16.6s\tremaining: 2m 28s\n",
            "400:\tlearn: 0.7270023\ttest: 0.5051602\ttest1: 0.6893509\tbest: 0.6893509 (400)\ttotal: 23.3s\tremaining: 2m 30s\n",
            "500:\tlearn: 0.7243169\ttest: 0.4976174\ttest1: 0.6875187\tbest: 0.6875187 (500)\ttotal: 30s\tremaining: 2m 29s\n",
            "600:\tlearn: 0.7217708\ttest: 0.4905264\ttest1: 0.6861678\tbest: 0.6861678 (600)\ttotal: 37s\tremaining: 2m 27s\n",
            "700:\tlearn: 0.7190320\ttest: 0.4839999\ttest1: 0.6848964\tbest: 0.6848659 (698)\ttotal: 44s\tremaining: 2m 24s\n",
            "800:\tlearn: 0.7165569\ttest: 0.4783411\ttest1: 0.6840286\tbest: 0.6840018 (787)\ttotal: 51.3s\tremaining: 2m 20s\n",
            "900:\tlearn: 0.7142873\ttest: 0.4745431\ttest1: 0.6836172\tbest: 0.6835936 (896)\ttotal: 58.6s\tremaining: 2m 16s\n",
            "1000:\tlearn: 0.7122946\ttest: 0.4722817\ttest1: 0.6833517\tbest: 0.6833517 (1000)\ttotal: 1m 5s\tremaining: 2m 11s\n",
            "1100:\tlearn: 0.7101118\ttest: 0.4706250\ttest1: 0.6830311\tbest: 0.6830073 (1089)\ttotal: 1m 13s\tremaining: 2m 6s\n",
            "1200:\tlearn: 0.7082395\ttest: 0.4690377\ttest1: 0.6829797\tbest: 0.6829079 (1174)\ttotal: 1m 20s\tremaining: 2m\n",
            "Stopped by overfitting detector  (50 iterations wait)\n",
            "\n",
            "bestTest = 0.6829078956\n",
            "bestIteration = 1174\n",
            "\n",
            "Shrink model to first 1175 iterations.\n",
            "0:\tlearn: 1.0894217\ttest: 1.0894260\ttest1: 1.0894018\tbest: 1.0894018 (0)\ttotal: 88.2ms\tremaining: 4m 24s\n",
            "100:\tlearn: 0.7728544\ttest: 0.6534994\ttest1: 0.7503882\tbest: 0.7503882 (100)\ttotal: 5.11s\tremaining: 2m 26s\n",
            "200:\tlearn: 0.7377622\ttest: 0.5479825\ttest1: 0.7036057\tbest: 0.7036057 (200)\ttotal: 10.7s\tremaining: 2m 28s\n",
            "300:\tlearn: 0.7301575\ttest: 0.5169920\ttest1: 0.6937353\tbest: 0.6937353 (300)\ttotal: 16.9s\tremaining: 2m 31s\n",
            "400:\tlearn: 0.7266239\ttest: 0.5015623\ttest1: 0.6903170\tbest: 0.6903170 (400)\ttotal: 23.4s\tremaining: 2m 31s\n",
            "500:\tlearn: 0.7240934\ttest: 0.4884868\ttest1: 0.6887652\tbest: 0.6887652 (500)\ttotal: 29.9s\tremaining: 2m 29s\n",
            "600:\tlearn: 0.7214881\ttest: 0.4800375\ttest1: 0.6874219\tbest: 0.6874219 (600)\ttotal: 36.9s\tremaining: 2m 27s\n",
            "700:\tlearn: 0.7190091\ttest: 0.4748973\ttest1: 0.6863540\tbest: 0.6863540 (700)\ttotal: 43.8s\tremaining: 2m 23s\n",
            "800:\tlearn: 0.7164627\ttest: 0.4704913\ttest1: 0.6855286\tbest: 0.6855177 (798)\ttotal: 51.2s\tremaining: 2m 20s\n",
            "900:\tlearn: 0.7141874\ttest: 0.4667696\ttest1: 0.6850924\tbest: 0.6850625 (899)\ttotal: 58.5s\tremaining: 2m 16s\n",
            "1000:\tlearn: 0.7120602\ttest: 0.4648471\ttest1: 0.6848592\tbest: 0.6848592 (1000)\ttotal: 1m 5s\tremaining: 2m 11s\n",
            "1100:\tlearn: 0.7101810\ttest: 0.4628152\ttest1: 0.6847164\tbest: 0.6846893 (1088)\ttotal: 1m 13s\tremaining: 2m 6s\n",
            "1200:\tlearn: 0.7082183\ttest: 0.4607743\ttest1: 0.6843905\tbest: 0.6843905 (1200)\ttotal: 1m 20s\tremaining: 2m\n",
            "1300:\tlearn: 0.7063803\ttest: 0.4585378\ttest1: 0.6842946\tbest: 0.6842841 (1299)\ttotal: 1m 27s\tremaining: 1m 54s\n",
            "1400:\tlearn: 0.7045912\ttest: 0.4570875\ttest1: 0.6842544\tbest: 0.6842473 (1398)\ttotal: 1m 35s\tremaining: 1m 48s\n",
            "1500:\tlearn: 0.7028244\ttest: 0.4555466\ttest1: 0.6841989\tbest: 0.6841504 (1474)\ttotal: 1m 42s\tremaining: 1m 42s\n",
            "Stopped by overfitting detector  (50 iterations wait)\n",
            "\n",
            "bestTest = 0.684150389\n",
            "bestIteration = 1474\n",
            "\n",
            "Shrink model to first 1475 iterations.\n",
            "0:\tlearn: 1.0894183\ttest: 1.0894201\ttest1: 1.0894161\tbest: 1.0894161 (0)\ttotal: 88.8ms\tremaining: 4m 26s\n",
            "100:\tlearn: 0.7792847\ttest: 0.6769458\ttest1: 0.7550661\tbest: 0.7550661 (100)\ttotal: 4.9s\tremaining: 2m 20s\n",
            "200:\tlearn: 0.7394954\ttest: 0.5574871\ttest1: 0.6968872\tbest: 0.6968872 (200)\ttotal: 10.2s\tremaining: 2m 21s\n",
            "300:\tlearn: 0.7315736\ttest: 0.5228267\ttest1: 0.6841577\tbest: 0.6841577 (300)\ttotal: 16.5s\tremaining: 2m 27s\n",
            "400:\tlearn: 0.7282143\ttest: 0.5088358\ttest1: 0.6800438\tbest: 0.6800434 (399)\ttotal: 23s\tremaining: 2m 29s\n",
            "500:\tlearn: 0.7254261\ttest: 0.4979417\ttest1: 0.6775340\tbest: 0.6775340 (500)\ttotal: 29.8s\tremaining: 2m 28s\n",
            "600:\tlearn: 0.7232618\ttest: 0.4900431\ttest1: 0.6759276\tbest: 0.6759276 (600)\ttotal: 36.6s\tremaining: 2m 26s\n",
            "700:\tlearn: 0.7206861\ttest: 0.4870941\ttest1: 0.6747901\tbest: 0.6747901 (700)\ttotal: 43.8s\tremaining: 2m 23s\n",
            "800:\tlearn: 0.7180264\ttest: 0.4827920\ttest1: 0.6737950\tbest: 0.6737950 (800)\ttotal: 51.1s\tremaining: 2m 20s\n",
            "900:\tlearn: 0.7158882\ttest: 0.4803982\ttest1: 0.6733695\tbest: 0.6733695 (900)\ttotal: 58.4s\tremaining: 2m 15s\n",
            "1000:\tlearn: 0.7137736\ttest: 0.4785747\ttest1: 0.6730787\tbest: 0.6730652 (995)\ttotal: 1m 5s\tremaining: 2m 11s\n",
            "1100:\tlearn: 0.7117602\ttest: 0.4762854\ttest1: 0.6727418\tbest: 0.6727418 (1100)\ttotal: 1m 13s\tremaining: 2m 6s\n",
            "1200:\tlearn: 0.7098467\ttest: 0.4751092\ttest1: 0.6724482\tbest: 0.6724482 (1200)\ttotal: 1m 20s\tremaining: 2m\n",
            "1300:\tlearn: 0.7079353\ttest: 0.4731014\ttest1: 0.6721633\tbest: 0.6721633 (1300)\ttotal: 1m 27s\tremaining: 1m 54s\n",
            "1400:\tlearn: 0.7061753\ttest: 0.4712355\ttest1: 0.6720376\tbest: 0.6720326 (1398)\ttotal: 1m 34s\tremaining: 1m 48s\n",
            "1500:\tlearn: 0.7044474\ttest: 0.4697707\ttest1: 0.6718644\tbest: 0.6718518 (1495)\ttotal: 1m 42s\tremaining: 1m 42s\n",
            "1600:\tlearn: 0.7026814\ttest: 0.4687240\ttest1: 0.6716512\tbest: 0.6716256 (1585)\ttotal: 1m 49s\tremaining: 1m 35s\n",
            "1700:\tlearn: 0.7009865\ttest: 0.4677987\ttest1: 0.6715509\tbest: 0.6715401 (1693)\ttotal: 1m 57s\tremaining: 1m 29s\n",
            "1800:\tlearn: 0.6993176\ttest: 0.4668392\ttest1: 0.6714633\tbest: 0.6714254 (1769)\ttotal: 2m 4s\tremaining: 1m 22s\n",
            "Stopped by overfitting detector  (50 iterations wait)\n",
            "\n",
            "bestTest = 0.671425388\n",
            "bestIteration = 1769\n",
            "\n",
            "Shrink model to first 1770 iterations.\n",
            "0:\tlearn: 1.0894239\ttest: 1.0894241\ttest1: 1.0894089\tbest: 1.0894089 (0)\ttotal: 91.9ms\tremaining: 4m 35s\n",
            "100:\tlearn: 0.7725830\ttest: 0.6603057\ttest1: 0.7525903\tbest: 0.7525903 (100)\ttotal: 5.28s\tremaining: 2m 31s\n",
            "200:\tlearn: 0.7369559\ttest: 0.5523863\ttest1: 0.7041464\tbest: 0.7041464 (200)\ttotal: 10.4s\tremaining: 2m 24s\n",
            "300:\tlearn: 0.7294466\ttest: 0.5224721\ttest1: 0.6939825\tbest: 0.6939825 (300)\ttotal: 16.8s\tremaining: 2m 30s\n",
            "400:\tlearn: 0.7258465\ttest: 0.5040838\ttest1: 0.6900450\tbest: 0.6900450 (400)\ttotal: 23.3s\tremaining: 2m 31s\n",
            "500:\tlearn: 0.7230041\ttest: 0.4861592\ttest1: 0.6876834\tbest: 0.6876834 (500)\ttotal: 29.8s\tremaining: 2m 28s\n",
            "600:\tlearn: 0.7205504\ttest: 0.4773522\ttest1: 0.6861268\tbest: 0.6861268 (600)\ttotal: 36.6s\tremaining: 2m 26s\n",
            "700:\tlearn: 0.7180373\ttest: 0.4716279\ttest1: 0.6849903\tbest: 0.6849903 (700)\ttotal: 43.7s\tremaining: 2m 23s\n",
            "800:\tlearn: 0.7155963\ttest: 0.4668512\ttest1: 0.6841877\tbest: 0.6841734 (795)\ttotal: 50.7s\tremaining: 2m 19s\n",
            "900:\tlearn: 0.7133589\ttest: 0.4640630\ttest1: 0.6835262\tbest: 0.6835260 (899)\ttotal: 58.1s\tremaining: 2m 15s\n",
            "1000:\tlearn: 0.7113192\ttest: 0.4618236\ttest1: 0.6830192\tbest: 0.6830148 (998)\ttotal: 1m 5s\tremaining: 2m 10s\n",
            "1100:\tlearn: 0.7092601\ttest: 0.4596497\ttest1: 0.6826911\tbest: 0.6826911 (1100)\ttotal: 1m 12s\tremaining: 2m 5s\n",
            "1200:\tlearn: 0.7073589\ttest: 0.4581648\ttest1: 0.6825538\tbest: 0.6825340 (1193)\ttotal: 1m 20s\tremaining: 1m 59s\n",
            "1300:\tlearn: 0.7053118\ttest: 0.4558874\ttest1: 0.6822445\tbest: 0.6822279 (1298)\ttotal: 1m 27s\tremaining: 1m 54s\n",
            "1400:\tlearn: 0.7034876\ttest: 0.4542909\ttest1: 0.6821664\tbest: 0.6821464 (1376)\ttotal: 1m 34s\tremaining: 1m 48s\n",
            "1500:\tlearn: 0.7017224\ttest: 0.4524314\ttest1: 0.6820336\tbest: 0.6820336 (1500)\ttotal: 1m 42s\tremaining: 1m 42s\n",
            "1600:\tlearn: 0.7001034\ttest: 0.4508762\ttest1: 0.6819948\tbest: 0.6819755 (1560)\ttotal: 1m 49s\tremaining: 1m 35s\n",
            "1700:\tlearn: 0.6984309\ttest: 0.4499577\ttest1: 0.6819025\tbest: 0.6818790 (1695)\ttotal: 1m 57s\tremaining: 1m 29s\n",
            "1800:\tlearn: 0.6967525\ttest: 0.4486309\ttest1: 0.6818705\tbest: 0.6818202 (1775)\ttotal: 2m 4s\tremaining: 1m 22s\n",
            "Stopped by overfitting detector  (50 iterations wait)\n",
            "\n",
            "bestTest = 0.6818202044\n",
            "bestIteration = 1775\n",
            "\n",
            "Shrink model to first 1776 iterations.\n"
          ],
          "name": "stdout"
        },
        {
          "output_type": "stream",
          "text": [
            "\u001b[32m[I 2021-05-26 08:30:13,101]\u001b[0m Trial 7 finished with value: 0.6818202043768704 and parameters: {'random_seed': 130, 'learning_rate': 0.015879485872574355, 'reg_lambda': 0.0040704655496755365, 'max_depth': 4, 'colsample_bylevel': 0.6332063738136893, 'subsample': 0.4899443222417271, 'min_child_samples': 84, 'max_bin': 307}. Best is trial 6 with value: 0.6798194748399248.\u001b[0m\n"
          ],
          "name": "stderr"
        },
        {
          "output_type": "stream",
          "text": [
            "0:\tlearn: 1.0870277\ttest: 1.0870277\ttest1: 1.0870357\tbest: 1.0870357 (0)\ttotal: 27.3ms\tremaining: 1m 22s\n",
            "100:\tlearn: 0.7354463\ttest: 0.5681109\ttest1: 0.6976211\tbest: 0.6976211 (100)\ttotal: 18s\tremaining: 8m 37s\n",
            "200:\tlearn: 0.6992787\ttest: 0.5027614\ttest1: 0.6745694\tbest: 0.6745694 (200)\ttotal: 43s\tremaining: 9m 58s\n",
            "300:\tlearn: 0.6730525\ttest: 0.4857676\ttest1: 0.6707059\tbest: 0.6707059 (300)\ttotal: 1m 11s\tremaining: 10m 37s\n",
            "400:\tlearn: 0.6459132\ttest: 0.4707779\ttest1: 0.6688988\tbest: 0.6688630 (398)\ttotal: 1m 39s\tremaining: 10m 47s\n",
            "500:\tlearn: 0.6158988\ttest: 0.4620217\ttest1: 0.6676682\tbest: 0.6676017 (499)\ttotal: 2m 8s\tremaining: 10m 41s\n",
            "Stopped by overfitting detector  (50 iterations wait)\n",
            "\n",
            "bestTest = 0.6676016881\n",
            "bestIteration = 499\n",
            "\n",
            "Shrink model to first 500 iterations.\n",
            "0:\tlearn: 1.0832349\ttest: 1.0832356\ttest1: 1.0832503\tbest: 1.0832503 (0)\ttotal: 154ms\tremaining: 7m 42s\n",
            "100:\tlearn: 0.7285579\ttest: 0.5538515\ttest1: 0.7034465\tbest: 0.7034465 (100)\ttotal: 20.3s\tremaining: 9m 43s\n",
            "200:\tlearn: 0.6934560\ttest: 0.4982165\ttest1: 0.6873359\tbest: 0.6872947 (199)\ttotal: 44.3s\tremaining: 10m 16s\n",
            "300:\tlearn: 0.6659911\ttest: 0.4669680\ttest1: 0.6840301\tbest: 0.6840301 (300)\ttotal: 1m 12s\tremaining: 10m 46s\n",
            "Stopped by overfitting detector  (50 iterations wait)\n",
            "\n",
            "bestTest = 0.6836581306\n",
            "bestIteration = 341\n",
            "\n",
            "Shrink model to first 342 iterations.\n",
            "0:\tlearn: 1.0833244\ttest: 1.0833276\ttest1: 1.0831677\tbest: 1.0831677 (0)\ttotal: 72.1ms\tremaining: 3m 36s\n",
            "100:\tlearn: 0.7303135\ttest: 0.5600869\ttest1: 0.7079204\tbest: 0.7079204 (100)\ttotal: 19.3s\tremaining: 9m 15s\n",
            "200:\tlearn: 0.6930063\ttest: 0.4836625\ttest1: 0.6880887\tbest: 0.6880887 (200)\ttotal: 44.1s\tremaining: 10m 14s\n",
            "300:\tlearn: 0.6674040\ttest: 0.4594831\ttest1: 0.6854076\tbest: 0.6854076 (300)\ttotal: 1m 10s\tremaining: 10m 31s\n",
            "400:\tlearn: 0.6396694\ttest: 0.4473477\ttest1: 0.6844777\tbest: 0.6844777 (400)\ttotal: 1m 37s\tremaining: 10m 30s\n",
            "500:\tlearn: 0.6087512\ttest: 0.4389435\ttest1: 0.6842027\tbest: 0.6841378 (475)\ttotal: 2m 6s\tremaining: 10m 30s\n",
            "Stopped by overfitting detector  (50 iterations wait)\n",
            "\n",
            "bestTest = 0.6839014205\n",
            "bestIteration = 516\n",
            "\n",
            "Shrink model to first 517 iterations.\n",
            "0:\tlearn: 1.0832555\ttest: 1.0832460\ttest1: 1.0832553\tbest: 1.0832553 (0)\ttotal: 150ms\tremaining: 7m 30s\n",
            "100:\tlearn: 0.7314348\ttest: 0.5616349\ttest1: 0.6979790\tbest: 0.6979790 (100)\ttotal: 19.2s\tremaining: 9m 10s\n",
            "200:\tlearn: 0.6960283\ttest: 0.4993353\ttest1: 0.6774801\tbest: 0.6774801 (200)\ttotal: 45.2s\tremaining: 10m 29s\n",
            "300:\tlearn: 0.6690399\ttest: 0.4748330\ttest1: 0.6742633\tbest: 0.6742633 (300)\ttotal: 1m 13s\tremaining: 10m 55s\n",
            "400:\tlearn: 0.6432975\ttest: 0.4648779\ttest1: 0.6729339\tbest: 0.6727106 (382)\ttotal: 1m 40s\tremaining: 10m 52s\n",
            "Stopped by overfitting detector  (50 iterations wait)\n",
            "\n",
            "bestTest = 0.6727105623\n",
            "bestIteration = 382\n",
            "\n",
            "Shrink model to first 383 iterations.\n",
            "0:\tlearn: 1.0832236\ttest: 1.0832302\ttest1: 1.0833517\tbest: 1.0833517 (0)\ttotal: 71.7ms\tremaining: 3m 34s\n",
            "100:\tlearn: 0.7310571\ttest: 0.5563375\ttest1: 0.7049824\tbest: 0.7049824 (100)\ttotal: 17.1s\tremaining: 8m 11s\n",
            "200:\tlearn: 0.6989844\ttest: 0.4956016\ttest1: 0.6864804\tbest: 0.6864804 (200)\ttotal: 41.9s\tremaining: 9m 42s\n",
            "300:\tlearn: 0.6703299\ttest: 0.4662526\ttest1: 0.6838054\tbest: 0.6836908 (290)\ttotal: 1m 9s\tremaining: 10m 26s\n",
            "400:\tlearn: 0.6471472\ttest: 0.4500668\ttest1: 0.6825238\tbest: 0.6824698 (396)\ttotal: 1m 37s\tremaining: 10m 34s\n",
            "500:\tlearn: 0.6187970\ttest: 0.4432580\ttest1: 0.6813610\tbest: 0.6813011 (492)\ttotal: 2m 7s\tremaining: 10m 34s\n",
            "Stopped by overfitting detector  (50 iterations wait)\n",
            "\n",
            "bestTest = 0.6813010528\n",
            "bestIteration = 492\n",
            "\n",
            "Shrink model to first 493 iterations.\n"
          ],
          "name": "stdout"
        },
        {
          "output_type": "stream",
          "text": [
            "\u001b[32m[I 2021-05-26 08:40:51,267]\u001b[0m Trial 8 finished with value: 0.6813010527939698 and parameters: {'random_seed': 323, 'learning_rate': 0.026280882494747457, 'reg_lambda': 0.01268318883848639, 'max_depth': 9, 'colsample_bylevel': 0.44473038620786254, 'subsample': 0.9908208556203622, 'min_child_samples': 79, 'max_bin': 259}. Best is trial 6 with value: 0.6798194748399248.\u001b[0m\n"
          ],
          "name": "stderr"
        },
        {
          "output_type": "stream",
          "text": [
            "0:\tlearn: 1.0788599\ttest: 1.0788599\ttest1: 1.0788260\tbest: 1.0788260 (0)\ttotal: 45.8ms\tremaining: 2m 17s\n",
            "100:\tlearn: 0.7258491\ttest: 0.5410474\ttest1: 0.6875431\tbest: 0.6875431 (100)\ttotal: 16.4s\tremaining: 7m 51s\n",
            "200:\tlearn: 0.6976152\ttest: 0.4961862\ttest1: 0.6760803\tbest: 0.6760803 (200)\ttotal: 37.1s\tremaining: 8m 36s\n",
            "300:\tlearn: 0.6738039\ttest: 0.4771272\ttest1: 0.6725100\tbest: 0.6725100 (300)\ttotal: 58.5s\tremaining: 8m 44s\n",
            "400:\tlearn: 0.6394030\ttest: 0.4665821\ttest1: 0.6708602\tbest: 0.6707591 (396)\ttotal: 1m 22s\tremaining: 8m 51s\n",
            "500:\tlearn: 0.6072793\ttest: 0.4572349\ttest1: 0.6699913\tbest: 0.6699341 (464)\ttotal: 1m 44s\tremaining: 8m 43s\n",
            "Stopped by overfitting detector  (50 iterations wait)\n",
            "\n",
            "bestTest = 0.6699340642\n",
            "bestIteration = 464\n",
            "\n",
            "Shrink model to first 465 iterations.\n",
            "0:\tlearn: 1.0787931\ttest: 1.0787931\ttest1: 1.0789255\tbest: 1.0789255 (0)\ttotal: 63.5ms\tremaining: 3m 10s\n",
            "100:\tlearn: 0.7208468\ttest: 0.5360614\ttest1: 0.6977421\tbest: 0.6977421 (100)\ttotal: 16.4s\tremaining: 7m 51s\n",
            "200:\tlearn: 0.6949642\ttest: 0.4959637\ttest1: 0.6861354\tbest: 0.6861354 (200)\ttotal: 36.3s\tremaining: 8m 25s\n",
            "300:\tlearn: 0.6705502\ttest: 0.4825649\ttest1: 0.6838504\tbest: 0.6838164 (294)\ttotal: 57.8s\tremaining: 8m 38s\n",
            "400:\tlearn: 0.6377576\ttest: 0.4726693\ttest1: 0.6835992\tbest: 0.6832358 (369)\ttotal: 1m 21s\tremaining: 8m 45s\n",
            "Stopped by overfitting detector  (50 iterations wait)\n",
            "\n",
            "bestTest = 0.6832358229\n",
            "bestIteration = 369\n",
            "\n",
            "Shrink model to first 370 iterations.\n",
            "0:\tlearn: 1.0788645\ttest: 1.0788645\ttest1: 1.0788100\tbest: 1.0788100 (0)\ttotal: 63.4ms\tremaining: 3m 10s\n",
            "100:\tlearn: 0.7240115\ttest: 0.5336483\ttest1: 0.6979237\tbest: 0.6979237 (100)\ttotal: 15.9s\tremaining: 7m 36s\n",
            "200:\tlearn: 0.6951924\ttest: 0.4844174\ttest1: 0.6880531\tbest: 0.6880531 (200)\ttotal: 37s\tremaining: 8m 35s\n",
            "300:\tlearn: 0.6697422\ttest: 0.4609734\ttest1: 0.6866325\tbest: 0.6865984 (298)\ttotal: 58.6s\tremaining: 8m 45s\n",
            "400:\tlearn: 0.6375726\ttest: 0.4493542\ttest1: 0.6846623\tbest: 0.6846623 (400)\ttotal: 1m 21s\tremaining: 8m 50s\n",
            "Stopped by overfitting detector  (50 iterations wait)\n",
            "\n",
            "bestTest = 0.684362315\n",
            "bestIteration = 421\n",
            "\n",
            "Shrink model to first 422 iterations.\n",
            "0:\tlearn: 1.0788411\ttest: 1.0788411\ttest1: 1.0788559\tbest: 1.0788559 (0)\ttotal: 65.5ms\tremaining: 3m 16s\n",
            "100:\tlearn: 0.7238174\ttest: 0.5333490\ttest1: 0.6888700\tbest: 0.6888700 (100)\ttotal: 17s\tremaining: 8m 8s\n",
            "200:\tlearn: 0.6959837\ttest: 0.4844328\ttest1: 0.6781158\tbest: 0.6781158 (200)\ttotal: 37.9s\tremaining: 8m 47s\n",
            "300:\tlearn: 0.6704082\ttest: 0.4653838\ttest1: 0.6748689\tbest: 0.6748120 (299)\ttotal: 59.8s\tremaining: 8m 56s\n",
            "400:\tlearn: 0.6364182\ttest: 0.4530683\ttest1: 0.6736865\tbest: 0.6735502 (372)\ttotal: 1m 23s\tremaining: 8m 59s\n",
            "Stopped by overfitting detector  (50 iterations wait)\n",
            "\n",
            "bestTest = 0.6732265139\n",
            "bestIteration = 432\n",
            "\n",
            "Shrink model to first 433 iterations.\n",
            "0:\tlearn: 1.0788549\ttest: 1.0788549\ttest1: 1.0788253\tbest: 1.0788253 (0)\ttotal: 63.8ms\tremaining: 3m 11s\n",
            "100:\tlearn: 0.7217156\ttest: 0.5345039\ttest1: 0.6972922\tbest: 0.6972922 (100)\ttotal: 16.7s\tremaining: 8m\n",
            "200:\tlearn: 0.6948703\ttest: 0.5011503\ttest1: 0.6875915\tbest: 0.6875915 (200)\ttotal: 36.1s\tremaining: 8m 23s\n",
            "300:\tlearn: 0.6677726\ttest: 0.4697252\ttest1: 0.6845659\tbest: 0.6845197 (285)\ttotal: 58.5s\tremaining: 8m 44s\n",
            "400:\tlearn: 0.6360100\ttest: 0.4550162\ttest1: 0.6820407\tbest: 0.6819627 (394)\ttotal: 1m 21s\tremaining: 8m 50s\n",
            "Stopped by overfitting detector  (50 iterations wait)\n",
            "\n",
            "bestTest = 0.6819626953\n",
            "bestIteration = 394\n",
            "\n",
            "Shrink model to first 395 iterations.\n"
          ],
          "name": "stdout"
        },
        {
          "output_type": "stream",
          "text": [
            "\u001b[32m[I 2021-05-26 08:49:01,434]\u001b[0m Trial 9 finished with value: 0.6819626953389014 and parameters: {'random_seed': 47, 'learning_rate': 0.034463842853645024, 'reg_lambda': 0.0636171638777121, 'max_depth': 8, 'colsample_bylevel': 0.8627622080115674, 'subsample': 0.35183125621386324, 'min_child_samples': 39, 'max_bin': 234}. Best is trial 6 with value: 0.6798194748399248.\u001b[0m\n"
          ],
          "name": "stderr"
        },
        {
          "output_type": "stream",
          "text": [
            "Best Score: 0.6798194748399248\n",
            "Best trial: {'random_seed': 589, 'learning_rate': 0.01554563366576581, 'reg_lambda': 0.08726261680296399, 'max_depth': 8, 'colsample_bylevel': 0.9636993649385135, 'subsample': 0.9263791452993542, 'min_child_samples': 62, 'max_bin': 477}\n"
          ],
          "name": "stdout"
        }
      ]
    }
  ]
}